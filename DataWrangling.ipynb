{
    "cells": [
        {
            "cell_type": "markdown",
            "metadata": {},
            "source": [
                "# Scotch Whisky Exploration: Data Wrangling"
            ]
        },
        {
            "cell_type": "code",
            "execution_count": 9,
            "metadata": {},
            "outputs": [],
            "source": [
                "import numpy as np\n",
                "import pandas as pd\n",
                "import re\n",
                "import spacy\n",
                "\n",
                "import pickle\n"
            ]
        },
        {
            "cell_type": "markdown",
            "metadata": {},
            "source": [
                "Load data from the JSON file created by our scrapy Spider."
            ]
        },
        {
            "cell_type": "code",
            "execution_count": 10,
            "metadata": {},
            "outputs": [],
            "source": [
                "whiskydf_raw = pd.read_json(\"whiskeyscraper/MoM_whiskydata.json\")"
            ]
        },
        {
            "cell_type": "code",
            "execution_count": 11,
            "metadata": {},
            "outputs": [
                {
                    "data": {
                        "text/html": [
                            "<div>\n",
                            "<style scoped>\n",
                            "    .dataframe tbody tr th:only-of-type {\n",
                            "        vertical-align: middle;\n",
                            "    }\n",
                            "\n",
                            "    .dataframe tbody tr th {\n",
                            "        vertical-align: top;\n",
                            "    }\n",
                            "\n",
                            "    .dataframe thead th {\n",
                            "        text-align: right;\n",
                            "    }\n",
                            "</style>\n",
                            "<table border=\"1\" class=\"dataframe\">\n",
                            "  <thead>\n",
                            "    <tr style=\"text-align: right;\">\n",
                            "      <th></th>\n",
                            "      <th>name</th>\n",
                            "      <th>nose</th>\n",
                            "      <th>palate</th>\n",
                            "      <th>finish</th>\n",
                            "      <th>description</th>\n",
                            "      <th>price</th>\n",
                            "      <th>region</th>\n",
                            "      <th>style</th>\n",
                            "      <th>distillery</th>\n",
                            "      <th>bottler</th>\n",
                            "      <th>age</th>\n",
                            "      <th>alcohol</th>\n",
                            "      <th>maturation</th>\n",
                            "      <th>chill_filter</th>\n",
                            "      <th>cask_strength</th>\n",
                            "    </tr>\n",
                            "  </thead>\n",
                            "  <tbody>\n",
                            "    <tr>\n",
                            "      <th>0</th>\n",
                            "      <td>Singleton of Dufftown 12 Year Old</td>\n",
                            "      <td>Malty with cereal/barley sweetness, buttery to...</td>\n",
                            "      <td>Orange zest spiciness perks up a malty core of...</td>\n",
                            "      <td>Oaky, rich with good length, some fruit lingers.</td>\n",
                            "      <td>A straightforward, nutty and malty single malt...</td>\n",
                            "      <td>$40.42</td>\n",
                            "      <td>Speyside Whisky</td>\n",
                            "      <td>Single Malt Whisky</td>\n",
                            "      <td>Dufftown</td>\n",
                            "      <td>Dufftown</td>\n",
                            "      <td>12 year old Whisky</td>\n",
                            "      <td>40.0%</td>\n",
                            "      <td>NaN</td>\n",
                            "      <td>NaN</td>\n",
                            "      <td>NaN</td>\n",
                            "    </tr>\n",
                            "    <tr>\n",
                            "      <th>1</th>\n",
                            "      <td>The GlenDronach 18 Year Old Allardice</td>\n",
                            "      <td>Sherry notes so thick you need a knife to cut ...</td>\n",
                            "      <td>Christmas cake, rum again, chocolate-coated ha...</td>\n",
                            "      <td>Fresh blackcurrant, blueberry pancakes with a ...</td>\n",
                            "      <td>The GlenDronach 18 year old Allardice is named...</td>\n",
                            "      <td>$112.30</td>\n",
                            "      <td>Highland Whisky</td>\n",
                            "      <td>Single Malt Whisky</td>\n",
                            "      <td>GlenDronach</td>\n",
                            "      <td>GlenDronach</td>\n",
                            "      <td>18 year old Whisky</td>\n",
                            "      <td>46.0%</td>\n",
                            "      <td>NaN</td>\n",
                            "      <td>NaN</td>\n",
                            "      <td>NaN</td>\n",
                            "    </tr>\n",
                            "  </tbody>\n",
                            "</table>\n",
                            "</div>"
                        ],
                        "text/plain": [
                            "                                    name  \\\n",
                            "0      Singleton of Dufftown 12 Year Old   \n",
                            "1  The GlenDronach 18 Year Old Allardice   \n",
                            "\n",
                            "                                                nose  \\\n",
                            "0  Malty with cereal/barley sweetness, buttery to...   \n",
                            "1  Sherry notes so thick you need a knife to cut ...   \n",
                            "\n",
                            "                                              palate  \\\n",
                            "0  Orange zest spiciness perks up a malty core of...   \n",
                            "1  Christmas cake, rum again, chocolate-coated ha...   \n",
                            "\n",
                            "                                              finish  \\\n",
                            "0   Oaky, rich with good length, some fruit lingers.   \n",
                            "1  Fresh blackcurrant, blueberry pancakes with a ...   \n",
                            "\n",
                            "                                         description    price  \\\n",
                            "0  A straightforward, nutty and malty single malt...   $40.42   \n",
                            "1  The GlenDronach 18 year old Allardice is named...  $112.30   \n",
                            "\n",
                            "            region               style   distillery      bottler  \\\n",
                            "0  Speyside Whisky  Single Malt Whisky     Dufftown     Dufftown   \n",
                            "1  Highland Whisky  Single Malt Whisky  GlenDronach  GlenDronach   \n",
                            "\n",
                            "                  age alcohol maturation chill_filter cask_strength  \n",
                            "0  12 year old Whisky   40.0%        NaN          NaN           NaN  \n",
                            "1  18 year old Whisky   46.0%        NaN          NaN           NaN  "
                        ]
                    },
                    "execution_count": 11,
                    "metadata": {},
                    "output_type": "execute_result"
                }
            ],
            "source": [
                "whiskydf_raw.head(2)"
            ]
        },
        {
            "cell_type": "markdown",
            "metadata": {},
            "source": [
                "## Initial Data Clean\n",
                "#### Dropping observations with no reviews or missing taste,nose, and finish notes.\n",
                "#### Coverting/cleaning numeric columns. "
            ]
        },
        {
            "cell_type": "code",
            "execution_count": 12,
            "metadata": {},
            "outputs": [
                {
                    "name": "stdout",
                    "output_type": "stream",
                    "text": [
                        "<class 'pandas.core.frame.DataFrame'>\n",
                        "RangeIndex: 14328 entries, 0 to 14327\n",
                        "Data columns (total 15 columns):\n",
                        " #   Column         Non-Null Count  Dtype \n",
                        "---  ------         --------------  ----- \n",
                        " 0   name           14328 non-null  object\n",
                        " 1   nose           8713 non-null   object\n",
                        " 2   palate         8712 non-null   object\n",
                        " 3   finish         8648 non-null   object\n",
                        " 4   description    14328 non-null  object\n",
                        " 5   price          6307 non-null   object\n",
                        " 6   region         14328 non-null  object\n",
                        " 7   style          14328 non-null  object\n",
                        " 8   distillery     14328 non-null  object\n",
                        " 9   bottler        14327 non-null  object\n",
                        " 10  age            10817 non-null  object\n",
                        " 11  alcohol        14327 non-null  object\n",
                        " 12  maturation     2453 non-null   object\n",
                        " 13  chill_filter   479 non-null    object\n",
                        " 14  cask_strength  1022 non-null   object\n",
                        "dtypes: object(15)\n",
                        "memory usage: 1.6+ MB\n"
                    ]
                }
            ],
            "source": [
                "whiskydf_raw.info()"
            ]
        },
        {
            "cell_type": "markdown",
            "metadata": {},
            "source": [
                "### Let's keep the subset of whiskeys where there are tasting notes (e.g. where nose, palate, and finish are not null)"
            ]
        },
        {
            "cell_type": "code",
            "execution_count": 13,
            "metadata": {},
            "outputs": [
                {
                    "data": {
                        "text/plain": [
                            "nose      False\n",
                            "palate    False\n",
                            "finish    False\n",
                            "dtype: bool"
                        ]
                    },
                    "execution_count": 13,
                    "metadata": {},
                    "output_type": "execute_result"
                }
            ],
            "source": [
                "tastingnote_cols = ['nose', 'palate', 'finish']\n",
                "\n",
                "whiskydf_raw[tastingnote_cols].isna().all() == True"
            ]
        },
        {
            "cell_type": "markdown",
            "metadata": {},
            "source": [
                "Takes subset where Master of Malt bros have created tasting notes on the whiskey. "
            ]
        },
        {
            "cell_type": "code",
            "execution_count": 14,
            "metadata": {},
            "outputs": [],
            "source": [
                "whisky_df =  whiskydf_raw.dropna(how = \"any\", axis = 0, subset= tastingnote_cols)"
            ]
        },
        {
            "cell_type": "code",
            "execution_count": 15,
            "metadata": {},
            "outputs": [
                {
                    "name": "stdout",
                    "output_type": "stream",
                    "text": [
                        "<class 'pandas.core.frame.DataFrame'>\n",
                        "Int64Index: 8645 entries, 0 to 14327\n",
                        "Data columns (total 15 columns):\n",
                        " #   Column         Non-Null Count  Dtype \n",
                        "---  ------         --------------  ----- \n",
                        " 0   name           8645 non-null   object\n",
                        " 1   nose           8645 non-null   object\n",
                        " 2   palate         8645 non-null   object\n",
                        " 3   finish         8645 non-null   object\n",
                        " 4   description    8645 non-null   object\n",
                        " 5   price          5278 non-null   object\n",
                        " 6   region         8645 non-null   object\n",
                        " 7   style          8645 non-null   object\n",
                        " 8   distillery     8645 non-null   object\n",
                        " 9   bottler        8645 non-null   object\n",
                        " 10  age            6687 non-null   object\n",
                        " 11  alcohol        8645 non-null   object\n",
                        " 12  maturation     1681 non-null   object\n",
                        " 13  chill_filter   403 non-null    object\n",
                        " 14  cask_strength  550 non-null    object\n",
                        "dtypes: object(15)\n",
                        "memory usage: 1.1+ MB\n"
                    ]
                }
            ],
            "source": [
                "whisky_df.info()"
            ]
        },
        {
            "cell_type": "markdown",
            "metadata": {},
            "source": [
                "Our scraper extracted a good amount of data and it'll be good to see whether there are some entries that don't belong (i.e styles that are not single malt, etc.)"
            ]
        },
        {
            "cell_type": "code",
            "execution_count": 16,
            "metadata": {},
            "outputs": [
                {
                    "data": {
                        "text/plain": [
                            "array(['Single Malt Whisky'], dtype=object)"
                        ]
                    },
                    "execution_count": 16,
                    "metadata": {},
                    "output_type": "execute_result"
                }
            ],
            "source": [
                "whisky_df['style'].unique()"
            ]
        },
        {
            "cell_type": "markdown",
            "metadata": {},
            "source": [
                "Alright, so these are all single malt whiskies. Good. But since there's only one value the column carries no information. We'll drop it.  Also there seem to be no disambiguations/mispellings in the Scotch whisky region names. Each unique entry corresponds to a different Scotch whisky making region."
            ]
        },
        {
            "cell_type": "code",
            "execution_count": 17,
            "metadata": {},
            "outputs": [
                {
                    "data": {
                        "text/plain": [
                            "array(['Speyside Whisky', 'Highland Whisky', 'Islay Whisky',\n",
                            "       'Scotch Whisky', 'Island Whisky', 'Lowland Whisky',\n",
                            "       'Campbeltown Whisky', 'Other Scotch Whisky'], dtype=object)"
                        ]
                    },
                    "execution_count": 17,
                    "metadata": {},
                    "output_type": "execute_result"
                }
            ],
            "source": [
                "whisky_df.region.unique()"
            ]
        },
        {
            "cell_type": "code",
            "execution_count": 18,
            "metadata": {},
            "outputs": [
                {
                    "name": "stdout",
                    "output_type": "stream",
                    "text": [
                        "Index(['name', 'nose', 'palate', 'finish', 'description', 'price', 'region',\n",
                        "       'distillery', 'bottler', 'age', 'alcohol', 'maturation', 'chill_filter',\n",
                        "       'cask_strength'],\n",
                        "      dtype='object')\n"
                    ]
                }
            ],
            "source": [
                "whisky_df = whisky_df.drop(columns = ['style'])\n",
                "print(whisky_df.columns)"
            ]
        },
        {
            "cell_type": "markdown",
            "metadata": {},
            "source": [
                "#### Age column\n",
                "Now we'll tackle the age column. Generally, the whiskies are matured for years in casks before bottling. The age corresponds to the aging before bottling. But let's check whether there are other units (months, etc.) of aging buried in the data."
            ]
        },
        {
            "cell_type": "code",
            "execution_count": 19,
            "metadata": {},
            "outputs": [
                {
                    "data": {
                        "text/plain": [
                            "0    12 year old Whisky\n",
                            "1    18 year old Whisky\n",
                            "2                   NaN\n",
                            "Name: age, dtype: object"
                        ]
                    },
                    "execution_count": 19,
                    "metadata": {},
                    "output_type": "execute_result"
                }
            ],
            "source": [
                "whisky_df.age.head(3)"
            ]
        },
        {
            "cell_type": "markdown",
            "metadata": {},
            "source": [
                "The second word is the aging unit (year). Let's extract this second word and see if anything else pops up."
            ]
        },
        {
            "cell_type": "code",
            "execution_count": 20,
            "metadata": {},
            "outputs": [
                {
                    "data": {
                        "text/plain": [
                            "array(['year', nan], dtype=object)"
                        ]
                    },
                    "execution_count": 20,
                    "metadata": {},
                    "output_type": "execute_result"
                }
            ],
            "source": [
                "whisky_df.age.str.split().str[1].unique()"
            ]
        },
        {
            "cell_type": "markdown",
            "metadata": {},
            "source": [
                "Nope. Either the age is recorded in years or the entry corresponds to a whisky with no age statement. Let's process this understanding that age is in years and convert the column to numeric."
            ]
        },
        {
            "cell_type": "code",
            "execution_count": 21,
            "metadata": {},
            "outputs": [],
            "source": [
                "#convert whiskey age to numeric.\n",
                "whisky_df.age = whisky_df.age.str.split(' ').str[0].astype('float')"
            ]
        },
        {
            "cell_type": "code",
            "execution_count": 22,
            "metadata": {},
            "outputs": [
                {
                    "data": {
                        "text/plain": [
                            "array([   3.,    4.,    5.,    6.,    7.,    8.,    9.,   10.,   11.,\n",
                            "         12.,   13.,   14.,   15.,   16.,   17.,   18.,   19.,   20.,\n",
                            "         21.,   22.,   23.,   24.,   25.,   26.,   27.,   28.,   29.,\n",
                            "         30.,   31.,   32.,   33.,   34.,   35.,   36.,   37.,   38.,\n",
                            "         39.,   40.,   41.,   42.,   43.,   44.,   45.,   46.,   47.,\n",
                            "         48.,   49.,   50.,   51.,   52.,   54.,   55.,   56.,   60.,\n",
                            "         62.,   64.,   65.,   71.,   78.,  105., 2003.,   nan])"
                        ]
                    },
                    "execution_count": 22,
                    "metadata": {},
                    "output_type": "execute_result"
                }
            ],
            "source": [
                "np.sort(whisky_df.age.unique())"
            ]
        },
        {
            "cell_type": "markdown",
            "metadata": {},
            "source": [
                "105 and 2003 year old whisky are possible outliers. Let's investigate more closely."
            ]
        },
        {
            "cell_type": "code",
            "execution_count": 23,
            "metadata": {},
            "outputs": [
                {
                    "data": {
                        "text/html": [
                            "<div>\n",
                            "<style scoped>\n",
                            "    .dataframe tbody tr th:only-of-type {\n",
                            "        vertical-align: middle;\n",
                            "    }\n",
                            "\n",
                            "    .dataframe tbody tr th {\n",
                            "        vertical-align: top;\n",
                            "    }\n",
                            "\n",
                            "    .dataframe thead th {\n",
                            "        text-align: right;\n",
                            "    }\n",
                            "</style>\n",
                            "<table border=\"1\" class=\"dataframe\">\n",
                            "  <thead>\n",
                            "    <tr style=\"text-align: right;\">\n",
                            "      <th></th>\n",
                            "      <th>name</th>\n",
                            "      <th>nose</th>\n",
                            "      <th>palate</th>\n",
                            "      <th>finish</th>\n",
                            "      <th>description</th>\n",
                            "      <th>price</th>\n",
                            "      <th>region</th>\n",
                            "      <th>distillery</th>\n",
                            "      <th>bottler</th>\n",
                            "      <th>age</th>\n",
                            "      <th>alcohol</th>\n",
                            "      <th>maturation</th>\n",
                            "      <th>chill_filter</th>\n",
                            "      <th>cask_strength</th>\n",
                            "    </tr>\n",
                            "  </thead>\n",
                            "  <tbody>\n",
                            "    <tr>\n",
                            "      <th>9255</th>\n",
                            "      <td>Aisla T'Orten 105 Year Old 1906 - Liquid Histo...</td>\n",
                            "      <td>The most unique bouquet I’ve ever experienced....</td>\n",
                            "      <td>Heaven is spelt “T-O-R-T-E-N”. This conjures u...</td>\n",
                            "      <td>To say this was long would be an understatemen...</td>\n",
                            "      <td>The world's oldest whisky. Read more about thi...</td>\n",
                            "      <td>NaN</td>\n",
                            "      <td>Highland Whisky</td>\n",
                            "      <td>Aisla T'Orten</td>\n",
                            "      <td>Master of Malt</td>\n",
                            "      <td>105.0</td>\n",
                            "      <td>40.7%</td>\n",
                            "      <td>Sherry</td>\n",
                            "      <td>NaN</td>\n",
                            "      <td>NaN</td>\n",
                            "    </tr>\n",
                            "  </tbody>\n",
                            "</table>\n",
                            "</div>"
                        ],
                        "text/plain": [
                            "                                                   name  \\\n",
                            "9255  Aisla T'Orten 105 Year Old 1906 - Liquid Histo...   \n",
                            "\n",
                            "                                                   nose  \\\n",
                            "9255  The most unique bouquet I’ve ever experienced....   \n",
                            "\n",
                            "                                                 palate  \\\n",
                            "9255  Heaven is spelt “T-O-R-T-E-N”. This conjures u...   \n",
                            "\n",
                            "                                                 finish  \\\n",
                            "9255  To say this was long would be an understatemen...   \n",
                            "\n",
                            "                                            description price  \\\n",
                            "9255  The world's oldest whisky. Read more about thi...   NaN   \n",
                            "\n",
                            "               region     distillery         bottler    age alcohol  \\\n",
                            "9255  Highland Whisky  Aisla T'Orten  Master of Malt  105.0   40.7%   \n",
                            "\n",
                            "     maturation chill_filter cask_strength  \n",
                            "9255     Sherry          NaN           NaN  "
                        ]
                    },
                    "execution_count": 23,
                    "metadata": {},
                    "output_type": "execute_result"
                }
            ],
            "source": [
                "whisky_df[whisky_df.age == 105]"
            ]
        },
        {
            "cell_type": "code",
            "execution_count": 24,
            "metadata": {},
            "outputs": [
                {
                    "data": {
                        "text/plain": [
                            "array([\"The world's oldest whisky. Read more about this extraordinary liquid history over on the Master of Malt blog . OK everyone, we have to come clean! The miraculous discovery of this 105 year old whisky may have had something to do with its launch on April Fools’ Day 2011. It’s also possible that some sneaky anagrams were used in some of the names in the story: Allie Sisell (the discoverer of the cask):  Aethenias Simonvent (the distillery’s founder):  And there’s a good chance that if you rearrange the letters in Aisla T’Orten distillery you get:\"],\n",
                            "      dtype=object)"
                        ]
                    },
                    "execution_count": 24,
                    "metadata": {},
                    "output_type": "execute_result"
                }
            ],
            "source": [
                "whisky_df[whisky_df.age == 105].description.values"
            ]
        },
        {
            "cell_type": "markdown",
            "metadata": {},
            "source": [
                "It's an April Fools joke! Gaaaarrrrr!!!! Remove this."
            ]
        },
        {
            "cell_type": "code",
            "execution_count": 25,
            "metadata": {},
            "outputs": [
                {
                    "name": "stdout",
                    "output_type": "stream",
                    "text": [
                        "[  12.   18.   nan   15.    8.   16.   14.   21.   28.   10.   25.   17.\n",
                        "    5.   13.   30.   11.   20.   44.   23.    9.   42.   22.   26.   37.\n",
                        "    7.   29.   27.   19.   36.   45.    6.    3.   24.   50.    4.   35.\n",
                        "   43.   40.   46.   32.   56.   38.   34.   31.   71.   62.   52.   39.\n",
                        "   33.   51.   60.   48.   41. 2003.   54.   49.   55.   78.   47.   65.\n",
                        "   64.]\n"
                    ]
                }
            ],
            "source": [
                "whisky_df = whisky_df[~(whisky_df.age == 105)]\n",
                "print(whisky_df.age.unique())"
            ]
        },
        {
            "cell_type": "code",
            "execution_count": 26,
            "metadata": {},
            "outputs": [
                {
                    "data": {
                        "text/plain": [
                            "array([\"Batch 4 of Benromach's Origins range, bottled in 2013, is matured entirely in first fill Port pipes and peated to a level of 8ppm. The idea behind the range is to highlight how changing different factors during production results in different characteristics in the final spirit.\"],\n",
                            "      dtype=object)"
                        ]
                    },
                    "execution_count": 26,
                    "metadata": {},
                    "output_type": "execute_result"
                }
            ],
            "source": [
                "whisky_df[whisky_df.age == 2003].description.values"
            ]
        },
        {
            "cell_type": "markdown",
            "metadata": {},
            "source": [
                "This batch was started on 2003 but bottled in 2013, so we'll change the age value to 10 years. "
            ]
        },
        {
            "cell_type": "code",
            "execution_count": 27,
            "metadata": {},
            "outputs": [],
            "source": [
                "whisky_df.loc[whisky_df.age == 2003, \"age\"] = 10"
            ]
        },
        {
            "cell_type": "code",
            "execution_count": 28,
            "metadata": {},
            "outputs": [
                {
                    "data": {
                        "text/plain": [
                            "array([12., 18., nan, 15.,  8., 16., 14., 21., 28., 10., 25., 17.,  5.,\n",
                            "       13., 30., 11., 20., 44., 23.,  9., 42., 22., 26., 37.,  7., 29.,\n",
                            "       27., 19., 36., 45.,  6.,  3., 24., 50.,  4., 35., 43., 40., 46.,\n",
                            "       32., 56., 38., 34., 31., 71., 62., 52., 39., 33., 51., 60., 48.,\n",
                            "       41., 54., 49., 55., 78., 47., 65., 64.])"
                        ]
                    },
                    "execution_count": 28,
                    "metadata": {},
                    "output_type": "execute_result"
                }
            ],
            "source": [
                "# check if we have removed the outlier. \n",
                "whisky_df.age.unique()"
            ]
        },
        {
            "cell_type": "markdown",
            "metadata": {},
            "source": [
                "#### Alcohol column\n",
                "Yes. Now we convert the alcohol column to numeric value, we'll also change the name from alcohol to ABV as this is known to be in percent."
            ]
        },
        {
            "cell_type": "code",
            "execution_count": 29,
            "metadata": {},
            "outputs": [
                {
                    "name": "stdout",
                    "output_type": "stream",
                    "text": [
                        "False\n"
                    ]
                }
            ],
            "source": [
                "whisky_df.alcohol = whisky_df.alcohol.str.replace('%', '').astype('float')\n",
                "#check for NaNs\n",
                "print(whisky_df.alcohol.isna().any())"
            ]
        },
        {
            "cell_type": "code",
            "execution_count": 30,
            "metadata": {},
            "outputs": [
                {
                    "name": "stdout",
                    "output_type": "stream",
                    "text": [
                        "Index(['name', 'nose', 'palate', 'finish', 'description', 'price', 'region',\n",
                        "       'distillery', 'bottler', 'age', 'ABV', 'maturation', 'chill_filter',\n",
                        "       'cask_strength'],\n",
                        "      dtype='object')\n"
                    ]
                }
            ],
            "source": [
                "whisky_df.rename(columns = {'alcohol': 'ABV'}, inplace = True)\n",
                "print(whisky_df.columns)"
            ]
        },
        {
            "cell_type": "markdown",
            "metadata": {},
            "source": [
                "#### Price Column"
            ]
        },
        {
            "cell_type": "code",
            "execution_count": 31,
            "metadata": {},
            "outputs": [
                {
                    "name": "stderr",
                    "output_type": "stream",
                    "text": [
                        "C:\\Users\\prave\\AppData\\Local\\Temp/ipykernel_10560/1826525670.py:1: FutureWarning: The default value of regex will change from True to False in a future version. In addition, single character regular expressions will *not* be treated as literal strings when regex=True.\n",
                        "  whisky_df.price = whisky_df.price.str.replace('$', '').str.replace(',', '').astype('float')\n"
                    ]
                }
            ],
            "source": [
                "whisky_df.price = whisky_df.price.str.replace('$', '').str.replace(',', '').astype('float')"
            ]
        },
        {
            "cell_type": "markdown",
            "metadata": {},
            "source": [
                "#### cask_strength and chill_filter have Yes/No entries when populated. Let's convert these to Boolean."
            ]
        },
        {
            "cell_type": "code",
            "execution_count": 32,
            "metadata": {},
            "outputs": [
                {
                    "name": "stdout",
                    "output_type": "stream",
                    "text": [
                        "{'cask_strength_unique': array([nan, 'Yes', 'No'], dtype=object), 'chill_filter_unique': array([nan, 'No', 'Yes'], dtype=object)}\n"
                    ]
                }
            ],
            "source": [
                "print({'cask_strength_unique': whisky_df.cask_strength.unique(), 'chill_filter_unique': whisky_df.chill_filter.unique()})"
            ]
        },
        {
            "cell_type": "code",
            "execution_count": 33,
            "metadata": {},
            "outputs": [],
            "source": [
                "whisky_df.loc[:, ['cask_strength', 'chill_filter']] = whisky_df[['cask_strength', 'chill_filter']].replace({'Yes': True, 'No': False})"
            ]
        },
        {
            "cell_type": "code",
            "execution_count": 34,
            "metadata": {},
            "outputs": [
                {
                    "name": "stdout",
                    "output_type": "stream",
                    "text": [
                        "{'cask_strength_unique': array([nan, True, False], dtype=object), 'chill_filter_unique': array([nan, False, True], dtype=object)}\n"
                    ]
                }
            ],
            "source": [
                "print({'cask_strength_unique': whisky_df.cask_strength.unique(), 'chill_filter_unique': whisky_df.chill_filter.unique()})"
            ]
        },
        {
            "cell_type": "markdown",
            "metadata": {},
            "source": [
                "## Description Column: Extracting Cask Data and Filtration Process from free text\n",
                "\n",
                "We want to extract information about the whiskies from these columns. Some of this info will be concrete (is it cask strength? is it chill filtered? which barrels was it aged in?). Some of that info is in the description but was not put into the bottle detail data on the website...so we'll need to extract it from free text and put it into the appropriate existing dataframe column. "
            ]
        },
        {
            "cell_type": "code",
            "execution_count": 35,
            "metadata": {},
            "outputs": [],
            "source": [
                "# we're going to import necessary NLP libraries\n",
                "\n",
                "import spacy\n",
                "from spacy.tokens import Doc, Span, Token # for creating global objects \n",
                "from spacy.matcher import Matcher # for rule-based matching\n",
                "from spacy.matcher import DependencyMatcher\n",
                "from spacy.language import Language # for building custom pipeline components\n",
                "from spacy.pipeline import EntityRuler \n",
                "\n",
                "\n",
                "\n",
                "from copy import deepcopy\n"
            ]
        },
        {
            "cell_type": "markdown",
            "metadata": {},
            "source": [
                "#### We create our nlp object and we are going to use a rule-based scheme to get some named entities."
            ]
        },
        {
            "cell_type": "code",
            "execution_count": 36,
            "metadata": {},
            "outputs": [],
            "source": [
                "nlp = spacy.load('en_core_web_lg') # loads our NLP model\n",
                "\n",
                "# we're going to create a manual list of stop words that will be used later down the line. \"hint\", \"touch\", and \"note\" and variants thereof need to be removed.\n",
                "\n",
                "nlp.Defaults.stop_words |= {\"hint\", \"Hint\", \"hints\", \"touch\", \"touches\", \"Touch\", \"note\", \"Note\", \"notes\", \"Notes\", \"little\", \"end\", \"thing\", \"palate\", \"Palate\", \"nose\", \"Nose\", \"whisper\", \"whispers\"}\n",
                "\n",
                "\n",
                "# creates ruler\n",
                "ruler = nlp.add_pipe(\"entity_ruler\")\n",
                "\n",
                "# pattern_csk1 = [{\"POS\": \"NOUN\", \"OP\":\"*\"}, {\"LEMMA\": \"cask\"}]\n",
                "# pattern_csk1 = [{\"POS\": \"NOUN\", \"OP\":\"*\"}, {\"LEMMA\": {\"IN\": [\"cask\", \"octave\", \"pipe\", \"puncheon\", \"butt\", \"barrel\"]} } ]\n",
                "# pattern_csk2 = [{\"POS\": \"NOUN\", \"OP\":\"*\"}, {\"POS\": \"CCONJ\"}, {\"POS\": \"NOUN\", \"OP\":\"*\"}, {\"LEMMA\": {\"IN\": [\"cask\", \"octave\", \"pipe\", \"puncheon\", \"butt\", \"hogshead\"]} } ]\n",
                "\n",
                "pattern_csk = [{\"LEMMA\": {\"IN\": [\"cask\", \"octave\", \"pipe\", \"puncheon\", \"butt\", \"barrel\", \"hogshead\"]} } ]\n",
                "\n",
                "patterns = [ {\"label\": \"CSK\", \"pattern\": pattern_csk }]\n",
                "\n",
                "# adds rules that will be used to parse and create entities\n",
                "ruler.add_patterns(patterns)\n",
                "\n",
                "\n",
                "\n"
            ]
        },
        {
            "cell_type": "markdown",
            "metadata": {},
            "source": [
                "We want to batch process all the description text. So we'll construct a pipeline. We also want to keep track of what description belongs to what whisky. This will enable us to rejoin any results from NLP into our pandas dataframe. So we will construct a custom attribute via context creation."
            ]
        },
        {
            "cell_type": "code",
            "execution_count": 37,
            "metadata": {},
            "outputs": [],
            "source": [
                "# passing context metadata into attributes via pipeline requires the data to be in a specific form. We'll create a function to do transform the data into the right form.\n",
                "# then the data will be used to create a Doc object generator based off of the text and context metadata.\n",
                "\n",
                "def doc_context_tupling(data, textcolname, *args):\n",
                "    col_list = [textcolname]\n",
                "    attr_list = list(args)\n",
                "    \n",
                "    col_list.extend(attr_list)\n",
                "\n",
                "    # data is in dataframe w/ form of whisky_df\n",
                "    subset_dict_list = list(data[col_list].T.to_dict().values())\n",
                "\n",
                "    # now let's form a (text, context_dictionary) tuple which is what the spacy pipeline requires. \n",
                "\n",
                "    data_context_list = [ (subset_dict.pop(textcolname), subset_dict) for subset_dict in subset_dict_list]\n",
                "\n",
                "    # for each key-value pair in args, we'll need to create a Doc extension attribute.\n",
                "    \n",
                "\n",
                "    for doc, context in nlp.pipe(data_context_list, as_tuples = True):\n",
                "        Doc.set_extension('context', force = True, default = context)\n",
                "        yield doc\n"
            ]
        },
        {
            "cell_type": "markdown",
            "metadata": {},
            "source": [
                "We are going to use some domain knowledge. It is unlikely that a whisky producer or reviewer would mention chill filtration in a description unless the whisky was NOT chill filtered. Chill filtration is a process that removes some esthers and fatty acids that can become non-soluble in lower ABV whisky at cooler temperatures. The process can prevent clouding but many connosieurs believe that it degrades the quality of the whisky and removes some of its mouthfeel and complexity. In any case, saying that your whisky is non chill-filtered is a point of pride. We'll thus create a very simple rule based matcher for this and not worry too heavily about the possibility that the review is saying that it IS chill filtered. The same logic goes for whether a whisky is cask strength or not."
            ]
        },
        {
            "cell_type": "code",
            "execution_count": 38,
            "metadata": {},
            "outputs": [],
            "source": [
                "def update_cs_cf_info(data):\n",
                "\n",
                "    matcher = Matcher(nlp.vocab)\n",
                "    pattern1 = [{'LOWER': 'chill'}, {'IS_PUNCT': True, 'OP': \"?\"},  {'LEMMA': 'filtration'} ]\n",
                "    pattern2 = [{'LOWER': 'chill'}, {'IS_PUNCT': True, 'OP': \"?\"},  {'LEMMA': 'filter'} ]\n",
                "    matcher.add('CHILL_FILTER', [pattern1, pattern2])\n",
                "\n",
                "    matcher2 = Matcher(nlp.vocab)\n",
                "    pattern3 = [{'LOWER': 'cask'}, {'IS_PUNCT': True, 'OP': \"?\"},  {'LEMMA': 'strength'} ]\n",
                "    matcher2.add('CASK_STRENGTH', [pattern3])\n",
                "\n",
                "    descript_corpus = doc_context_tupling(data, 'description', 'name')\n",
                "\n",
                "    new_data = deepcopy(data)\n",
                "\n",
                "    for doc in descript_corpus:\n",
                "\n",
                "        matches_chillf = matcher(doc)\n",
                "        matches_cask = matcher2(doc)\n",
                "        \n",
                "        if len(matches_cask) > 0:\n",
                "            new_data.loc[new_data.name == doc._.context['name'], 'cask_strength'] =  True \n",
                "        \n",
                "        counter = 0\n",
                "        if len(matches_chillf) > 0:\n",
                "            new_data.loc[new_data.name == doc._.context['name'], 'chill_filter'] =  False \n",
                "\n",
                "    return new_data\n",
                "\n"
            ]
        },
        {
            "cell_type": "code",
            "execution_count": 39,
            "metadata": {},
            "outputs": [],
            "source": [
                "new_whisk = update_cs_cf_info(whisky_df)"
            ]
        },
        {
            "cell_type": "code",
            "execution_count": 40,
            "metadata": {},
            "outputs": [
                {
                    "name": "stdout",
                    "output_type": "stream",
                    "text": [
                        "<class 'pandas.core.frame.DataFrame'>\n",
                        "Int64Index: 8644 entries, 0 to 14327\n",
                        "Data columns (total 14 columns):\n",
                        " #   Column         Non-Null Count  Dtype  \n",
                        "---  ------         --------------  -----  \n",
                        " 0   name           8644 non-null   object \n",
                        " 1   nose           8644 non-null   object \n",
                        " 2   palate         8644 non-null   object \n",
                        " 3   finish         8644 non-null   object \n",
                        " 4   description    8644 non-null   object \n",
                        " 5   price          5278 non-null   float64\n",
                        " 6   region         8644 non-null   object \n",
                        " 7   distillery     8644 non-null   object \n",
                        " 8   bottler        8644 non-null   object \n",
                        " 9   age            6686 non-null   float64\n",
                        " 10  ABV            8644 non-null   float64\n",
                        " 11  maturation     1680 non-null   object \n",
                        " 12  chill_filter   827 non-null    object \n",
                        " 13  cask_strength  1668 non-null   object \n",
                        "dtypes: float64(3), object(11)\n",
                        "memory usage: 1.2+ MB\n"
                    ]
                }
            ],
            "source": [
                "new_whisk.info()"
            ]
        },
        {
            "cell_type": "markdown",
            "metadata": {},
            "source": [
                "Whisky maturation column text normalizing"
            ]
        },
        {
            "cell_type": "code",
            "execution_count": 41,
            "metadata": {},
            "outputs": [
                {
                    "data": {
                        "text/plain": [
                            "array([nan, 'Sherry', 'Wine Cask', 'Bourbon', 'Port Finish', 'Brandy',\n",
                            "       'Rum Finish', 'Oak'], dtype=object)"
                        ]
                    },
                    "execution_count": 41,
                    "metadata": {},
                    "output_type": "execute_result"
                }
            ],
            "source": [
                "new_whisk.maturation.unique()"
            ]
        },
        {
            "cell_type": "markdown",
            "metadata": {},
            "source": [
                "Let's lower-case all these. Also we can remove the word 'finish' where necessary."
            ]
        },
        {
            "cell_type": "code",
            "execution_count": 42,
            "metadata": {},
            "outputs": [],
            "source": [
                "new_whisk.maturation = new_whisk.maturation.str.lower().replace({'port finish': 'port',  'rum finish': 'rum', 'wine cask': 'wine'})\n"
            ]
        },
        {
            "cell_type": "markdown",
            "metadata": {},
            "source": [
                "The description also has information about the wood / type of barrel(s) that the whisky was aged in.  We want to be able to extract that information from the free text. There are different names used for 'casks' in the corpus. Some examples are octaves, pipes, butts, puncheons, etc. There are technical differences between these (size, shape, etc) that can have effects on the whisky taste. But it'll be good to create a broad named entity class for this. We've already done this via the Entity Ruler and created a named entity class CSK.\n",
                "\n",
                "We want characteristics of the cask that directly impact flavor profiles such as whether the cask once held sherry, bourbon, etc or the kind of wood when relevant (oak can impart strong flavors to a Scotch). My bet is that this can be parsed via syntactic dependencies. Statements regarding cask aging will typically have a structure like:\n",
                "\n",
                "\"Was aged in a sherry cask.\"\n",
                "\n",
                "Cask entities in such a formation thus will be a prepositional object and we can look for noun modifiers on pobj.\n",
                "\n"
            ]
        },
        {
            "cell_type": "code",
            "execution_count": 43,
            "metadata": {},
            "outputs": [
                {
                    "name": "stdout",
                    "output_type": "stream",
                    "text": [
                        "A delicious Dalwhinnie, matured for 30 years and bottled as part of Diageo's Special Releases 2019! Matured in a combination of refill hogsheads and butts, this one has developed a vibrant, complex flavour profile which we're rather fond of. The theme for the Special Releases 2019 is 'Rare by Nature', hence why there's a cheerful-looking rabbit on the label. A release of 7,586 bottles. View more Special Releases\n"
                    ]
                }
            ],
            "source": [
                "dc = nlp(new_whisk.iloc[450].description)\n",
                "print(dc)\n"
            ]
        },
        {
            "cell_type": "markdown",
            "metadata": {},
            "source": [
                "There are a lot of downsides to what I'm doing next and a lot of dependency rule generation. But hey...this is my first NLP rodeo and it seems to work OK"
            ]
        },
        {
            "cell_type": "code",
            "execution_count": 44,
            "metadata": {},
            "outputs": [],
            "source": [
                "def parse_cask_traits(doc):\n",
                "\n",
                "    # let's construct a dependency pattern matcher\n",
                "\n",
                "    dep_matcher = DependencyMatcher(nlp.vocab)\n",
                "\n",
                "    # define our cask entity as an anchor where we inisist that the cask mention is a prepositional object\n",
                "    #dep_pattern1 looks for modifiers like 'American oak' or 'Oloroso sherry' or single modifiers like 'sherry' or 'bourbon'\n",
                "\n",
                "    dep_pattern1 = [{'RIGHT_ID': 'csk_ent', 'RIGHT_ATTRS': {'ENT_TYPE': 'CSK', 'DEP': 'pobj'}}, {'LEFT_ID': 'csk_ent', 'REL_OP': '>>', 'RIGHT_ID': 'cask_trait', 'RIGHT_ATTRS': {'DEP': {'IN': ['compound', 'amod']}}}]\n",
                "    # this is designed to find things like \"bourbon and sherry casks\" or \"bourbon and European oak\"\n",
                "    dep_pattern2 = [{'RIGHT_ID': 'csk_ent', 'RIGHT_ATTRS': {'ENT_TYPE': 'CSK', 'DEP': 'pobj'}}, {'LEFT_ID': 'csk_ent', 'REL_OP': '>', 'RIGHT_ID': 'cask_trait', 'RIGHT_ATTRS': {'DEP': 'nmod' }}, {'LEFT_ID': 'cask_trait', 'REL_OP': '>', 'RIGHT_ID': 'cask_conj', 'RIGHT_ATTRS': {'DEP': 'conj'}}]\n",
                "    \n",
                "    \n",
                "    # this is a common misparsing that needs to be accounted for when conjunctions with compounds and noun modifiers on the cask entity are present -- first nmod sometimes gets mislabeled as a pobj. the parser mislabels the cask as a conjunction.\n",
                "    dep_pattern3 = [{'RIGHT_ID': 'csk_ent', 'RIGHT_ATTRS': {'ENT_TYPE': 'CSK', 'DEP': 'conj'}}, {'LEFT_ID': 'csk_ent', 'REL_OP': '<', 'RIGHT_ID': 'cask_trait2', 'RIGHT_ATTRS': {'DEP': 'pobj'}}, {'LEFT_ID': 'csk_ent', 'REL_OP': '>>', 'RIGHT_ID': 'cask_trait', 'RIGHT_ATTRS': {'DEP': {'IN': ['compound', 'amod']}}}]\n",
                "    dep_pattern4 = [{'RIGHT_ID': 'csk_ent', 'RIGHT_ATTRS': {'ENT_TYPE': 'CSK', 'DEP': 'conj'}}, {'LEFT_ID': 'csk_ent', 'REL_OP': '>>', 'RIGHT_ID': 'cask_trait', 'RIGHT_ATTRS': {'DEP': {'IN': ['compound', 'amod']}}}]\n",
                "\n",
                "    dep_matcher.add('compoundamod', patterns = [dep_pattern1, dep_pattern2, dep_pattern3, dep_pattern4])\n",
                "\n",
                "    dep_matches = dep_matcher(doc)\n",
                "    match_dict = {}\n",
                "    for match_objs in dep_matches:\n",
                "        match = match_objs[1]\n",
                "\n",
                "        # match is a tuple with cask, then children as indices. let's construct a dictionary instead out of this.\n",
                "        csk_ind = match[0]\n",
                "\n",
                "        if csk_ind not in match_dict.keys():\n",
                "            match_dict.update({csk_ind: match[1::]})\n",
                "        else:\n",
                "            match_dict[csk_ind].extend(match[1::])\n",
                "            match_dict[csk_ind].sort()\n",
                "\n",
                "\n",
                "\n",
                "    return(match_dict)\n"
            ]
        },
        {
            "cell_type": "code",
            "execution_count": 45,
            "metadata": {},
            "outputs": [],
            "source": [
                "\n",
                "import itertools\n",
                "\n",
                "def create_spans_from_matches(doc):\n",
                "\n",
                "    matchdicts = parse_cask_traits(doc)\n",
                "\n",
                "    span_list = []\n",
                "\n",
                "    def group_ranges(L):\n",
                "        for w, z in itertools.groupby(L, lambda x, y=itertools.count(): next(y)-x):\n",
                "            grouped = list(z)\n",
                "            yield (x for x in [grouped[0], grouped[-1]][:len(grouped)])\n",
                "\n",
                "    for key, val in matchdicts.items():\n",
                "        gener = group_ranges(val)\n",
                "        while True:\n",
                "            try:\n",
                "                \n",
                "                span_inds = list(next(gener))\n",
                "                span_list.append(Span(doc, span_inds[0], span_inds[-1] + 1))\n",
                "                \n",
                "            except StopIteration:\n",
                "                break\n",
                "\n",
                "    return span_list\n",
                "        \n",
                "\n",
                "\n"
            ]
        },
        {
            "cell_type": "markdown",
            "metadata": {},
            "source": [
                "Without getting more sophisticated (i.e. training NER), it'll be difficult to extract relevant cask descriptors and put them into the right categories (i.e. oloroso = sherry, Chardonnay = white wine, etc.) This is definitely something worth doing on a second pass with the spans we have created but for now we'll do a simple keyword match based off of a list based off of the 'maturation' column with a few augmented descriptors.\n",
                "\n",
                "The following function extracts the cask descriptors from each review description where it follows our dependecy matching patterns and then one-hot encodes the types of casks used in maturation via employing a multilabel binarizer."
            ]
        },
        {
            "cell_type": "code",
            "execution_count": 46,
            "metadata": {},
            "outputs": [],
            "source": [
                "\n",
                "def maturation_descriptor(data):\n",
                "\n",
                "    maturation_traits = set(np.append(data.maturation.unique(), ['sauternes', 'marsala', \"white wine\", \"rye\", \"red wine\"]))\n",
                "    #create generator from description\n",
                "\n",
                "    descript_corpus = doc_context_tupling(data, 'description', 'name')\n",
                "\n",
                "    #return dictionary \n",
                "\n",
                "    csk_doc_dict = {'name': [], 'cask_description': []}\n",
                "\n",
                "    for doc in descript_corpus:\n",
                "        match_spans = create_spans_from_matches(doc)\n",
                "\n",
                "        # initialize the set with any value that is in the maturation column\n",
                "\n",
                "        maturation_col_dat = data[data['name'] == doc._.context['name']].maturation.values\n",
                "\n",
                "        # csk_descript = set()\n",
                "        \n",
                "\n",
                "        if str(maturation_col_dat[0]) == 'nan':\n",
                "            csk_descript = set()\n",
                "        else:\n",
                "            csk_descript = set([str(maturation_col_dat[0])])\n",
                "\n",
                "        \n",
                "\n",
                "        for span in match_spans:\n",
                "            span_descriptors = [token.lemma_.lower() for token in span if token.lemma_.lower() in maturation_traits]\n",
                "            csk_descript.update(span_descriptors)\n",
                "\n",
                "            # this will manually construct bigrams to test against maturation_traits list  (in future iteration we can use mutual information to get words most commonly linked in bigrams) \n",
                "\n",
                "            csk_descript.update( [doc[token.i:token.i + 2].lemma_.lower() for token in span if doc[token.i:token.i + 2].lemma_.lower() in maturation_traits] )\n",
                "\n",
                "        # now let's look within the the corresponding data.maturation entry in the orginal dataframe. \n",
                "        # if there are cask descriptors here that are not in the spans that we have extracted from free text let's put those in now.\n",
                "            \n",
                "\n",
                "        #now create column in dataframe that possesses list\n",
                "\n",
                "        csk_doc_dict['name'].append(doc._.context['name'])\n",
                "        csk_doc_dict['cask_description'].append(csk_descript)\n",
                "\n",
                "    csk_doc_df = pd.DataFrame.from_dict(csk_doc_dict)\n",
                "\n",
                "    # now we need to one-hot encode the cask descriptions that are in the form of a list of descriptors.\n",
                "    # sklearn's multilabel binarizer will do the trick\n",
                "\n",
                "    from sklearn.preprocessing import MultiLabelBinarizer\n",
                "    mlb = MultiLabelBinarizer()\n",
                "\n",
                "    encoded_csk_cols = pd.DataFrame(mlb.fit_transform(csk_doc_df.cask_description), columns = 'maturation_' + mlb.classes_ )\n",
                "\n",
                "    csk_inter = csk_doc_df.drop(columns = ['cask_description']).join(encoded_csk_cols, how = 'inner')\n",
                "\n",
                "    #now columns that still all have zeros should be converted to having all NaNs.\n",
                "\n",
                "    mat_cols = csk_inter.columns[csk_inter.columns.str.contains('maturation')]\n",
                "    csk_inter.loc[csk_inter[mat_cols].sum(axis=1) == 0, mat_cols] = np.nan\n",
                "\n",
                "    csk_fulldf = pd.merge(left = data, right = csk_inter, how = 'inner', on = 'name').drop(columns = ['maturation'])\n",
                "\n",
                "\n",
                "    return csk_fulldf\n",
                "        \n",
                "    "
            ]
        },
        {
            "cell_type": "code",
            "execution_count": 47,
            "metadata": {},
            "outputs": [
                {
                    "data": {
                        "text/html": [
                            "<div>\n",
                            "<style scoped>\n",
                            "    .dataframe tbody tr th:only-of-type {\n",
                            "        vertical-align: middle;\n",
                            "    }\n",
                            "\n",
                            "    .dataframe tbody tr th {\n",
                            "        vertical-align: top;\n",
                            "    }\n",
                            "\n",
                            "    .dataframe thead th {\n",
                            "        text-align: right;\n",
                            "    }\n",
                            "</style>\n",
                            "<table border=\"1\" class=\"dataframe\">\n",
                            "  <thead>\n",
                            "    <tr style=\"text-align: right;\">\n",
                            "      <th></th>\n",
                            "      <th>name</th>\n",
                            "      <th>nose</th>\n",
                            "      <th>palate</th>\n",
                            "      <th>finish</th>\n",
                            "      <th>description</th>\n",
                            "      <th>price</th>\n",
                            "      <th>region</th>\n",
                            "      <th>distillery</th>\n",
                            "      <th>bottler</th>\n",
                            "      <th>age</th>\n",
                            "      <th>...</th>\n",
                            "      <th>maturation_marsala</th>\n",
                            "      <th>maturation_oak</th>\n",
                            "      <th>maturation_port</th>\n",
                            "      <th>maturation_red wine</th>\n",
                            "      <th>maturation_rum</th>\n",
                            "      <th>maturation_rye</th>\n",
                            "      <th>maturation_sauternes</th>\n",
                            "      <th>maturation_sherry</th>\n",
                            "      <th>maturation_white wine</th>\n",
                            "      <th>maturation_wine</th>\n",
                            "    </tr>\n",
                            "  </thead>\n",
                            "  <tbody>\n",
                            "    <tr>\n",
                            "      <th>0</th>\n",
                            "      <td>Singleton of Dufftown 12 Year Old</td>\n",
                            "      <td>Malty with cereal/barley sweetness, buttery to...</td>\n",
                            "      <td>Orange zest spiciness perks up a malty core of...</td>\n",
                            "      <td>Oaky, rich with good length, some fruit lingers.</td>\n",
                            "      <td>A straightforward, nutty and malty single malt...</td>\n",
                            "      <td>40.42</td>\n",
                            "      <td>Speyside Whisky</td>\n",
                            "      <td>Dufftown</td>\n",
                            "      <td>Dufftown</td>\n",
                            "      <td>12.0</td>\n",
                            "      <td>...</td>\n",
                            "      <td>0.0</td>\n",
                            "      <td>1.0</td>\n",
                            "      <td>0.0</td>\n",
                            "      <td>0.0</td>\n",
                            "      <td>0.0</td>\n",
                            "      <td>0.0</td>\n",
                            "      <td>0.0</td>\n",
                            "      <td>0.0</td>\n",
                            "      <td>0.0</td>\n",
                            "      <td>0.0</td>\n",
                            "    </tr>\n",
                            "    <tr>\n",
                            "      <th>1</th>\n",
                            "      <td>The GlenDronach 18 Year Old Allardice</td>\n",
                            "      <td>Sherry notes so thick you need a knife to cut ...</td>\n",
                            "      <td>Christmas cake, rum again, chocolate-coated ha...</td>\n",
                            "      <td>Fresh blackcurrant, blueberry pancakes with a ...</td>\n",
                            "      <td>The GlenDronach 18 year old Allardice is named...</td>\n",
                            "      <td>112.30</td>\n",
                            "      <td>Highland Whisky</td>\n",
                            "      <td>GlenDronach</td>\n",
                            "      <td>GlenDronach</td>\n",
                            "      <td>18.0</td>\n",
                            "      <td>...</td>\n",
                            "      <td>0.0</td>\n",
                            "      <td>0.0</td>\n",
                            "      <td>0.0</td>\n",
                            "      <td>0.0</td>\n",
                            "      <td>0.0</td>\n",
                            "      <td>0.0</td>\n",
                            "      <td>0.0</td>\n",
                            "      <td>1.0</td>\n",
                            "      <td>0.0</td>\n",
                            "      <td>0.0</td>\n",
                            "    </tr>\n",
                            "    <tr>\n",
                            "      <th>2</th>\n",
                            "      <td>Lagavulin 2005 (bottled 2020) Pedro Ximénez Ca...</td>\n",
                            "      <td>Medicinal peat with a hint of tarry ropes, dar...</td>\n",
                            "      <td>Dates, prunes, toasted almonds, bonfire smoke,...</td>\n",
                            "      <td>Lasting peat smokiness, with a crisp hint of r...</td>\n",
                            "      <td>Excellent single malt from Islay's Lagavulin D...</td>\n",
                            "      <td>99.70</td>\n",
                            "      <td>Islay Whisky</td>\n",
                            "      <td>Lagavulin</td>\n",
                            "      <td>Lagavulin</td>\n",
                            "      <td>NaN</td>\n",
                            "      <td>...</td>\n",
                            "      <td>0.0</td>\n",
                            "      <td>0.0</td>\n",
                            "      <td>0.0</td>\n",
                            "      <td>0.0</td>\n",
                            "      <td>0.0</td>\n",
                            "      <td>0.0</td>\n",
                            "      <td>0.0</td>\n",
                            "      <td>1.0</td>\n",
                            "      <td>0.0</td>\n",
                            "      <td>0.0</td>\n",
                            "    </tr>\n",
                            "    <tr>\n",
                            "      <th>3</th>\n",
                            "      <td>Glenfarclas 15 Year Old</td>\n",
                            "      <td>Intense, powerful sherry. Cream sherry, certai...</td>\n",
                            "      <td>Raisins, more sherry, orange peel, walnuts, da...</td>\n",
                            "      <td>Incredibly long, complex, more of the Walnuts ...</td>\n",
                            "      <td>A wonderfully sherried 15 year old dram from G...</td>\n",
                            "      <td>56.12</td>\n",
                            "      <td>Speyside Whisky</td>\n",
                            "      <td>Glenfarclas</td>\n",
                            "      <td>Glenfarclas</td>\n",
                            "      <td>15.0</td>\n",
                            "      <td>...</td>\n",
                            "      <td>NaN</td>\n",
                            "      <td>NaN</td>\n",
                            "      <td>NaN</td>\n",
                            "      <td>NaN</td>\n",
                            "      <td>NaN</td>\n",
                            "      <td>NaN</td>\n",
                            "      <td>NaN</td>\n",
                            "      <td>NaN</td>\n",
                            "      <td>NaN</td>\n",
                            "      <td>NaN</td>\n",
                            "    </tr>\n",
                            "    <tr>\n",
                            "      <th>4</th>\n",
                            "      <td>Darkness 8 Year Old</td>\n",
                            "      <td>Candied orange peels, chocolate peanuts, cooki...</td>\n",
                            "      <td>Amaretti biscuits, subtly toasty hints, powerf...</td>\n",
                            "      <td>Slightly oily with a hint of smoke, though cho...</td>\n",
                            "      <td>At the core of this Darkness expression is an...</td>\n",
                            "      <td>57.28</td>\n",
                            "      <td>Scotch Whisky</td>\n",
                            "      <td>Darkness</td>\n",
                            "      <td>Darkness</td>\n",
                            "      <td>8.0</td>\n",
                            "      <td>...</td>\n",
                            "      <td>0.0</td>\n",
                            "      <td>0.0</td>\n",
                            "      <td>0.0</td>\n",
                            "      <td>0.0</td>\n",
                            "      <td>0.0</td>\n",
                            "      <td>0.0</td>\n",
                            "      <td>0.0</td>\n",
                            "      <td>1.0</td>\n",
                            "      <td>0.0</td>\n",
                            "      <td>0.0</td>\n",
                            "    </tr>\n",
                            "  </tbody>\n",
                            "</table>\n",
                            "<p>5 rows × 25 columns</p>\n",
                            "</div>"
                        ],
                        "text/plain": [
                            "                                                name  \\\n",
                            "0                  Singleton of Dufftown 12 Year Old   \n",
                            "1              The GlenDronach 18 Year Old Allardice   \n",
                            "2  Lagavulin 2005 (bottled 2020) Pedro Ximénez Ca...   \n",
                            "3                            Glenfarclas 15 Year Old   \n",
                            "4                                Darkness 8 Year Old   \n",
                            "\n",
                            "                                                nose  \\\n",
                            "0  Malty with cereal/barley sweetness, buttery to...   \n",
                            "1  Sherry notes so thick you need a knife to cut ...   \n",
                            "2  Medicinal peat with a hint of tarry ropes, dar...   \n",
                            "3  Intense, powerful sherry. Cream sherry, certai...   \n",
                            "4  Candied orange peels, chocolate peanuts, cooki...   \n",
                            "\n",
                            "                                              palate  \\\n",
                            "0  Orange zest spiciness perks up a malty core of...   \n",
                            "1  Christmas cake, rum again, chocolate-coated ha...   \n",
                            "2  Dates, prunes, toasted almonds, bonfire smoke,...   \n",
                            "3  Raisins, more sherry, orange peel, walnuts, da...   \n",
                            "4  Amaretti biscuits, subtly toasty hints, powerf...   \n",
                            "\n",
                            "                                              finish  \\\n",
                            "0   Oaky, rich with good length, some fruit lingers.   \n",
                            "1  Fresh blackcurrant, blueberry pancakes with a ...   \n",
                            "2  Lasting peat smokiness, with a crisp hint of r...   \n",
                            "3  Incredibly long, complex, more of the Walnuts ...   \n",
                            "4  Slightly oily with a hint of smoke, though cho...   \n",
                            "\n",
                            "                                         description   price           region  \\\n",
                            "0  A straightforward, nutty and malty single malt...   40.42  Speyside Whisky   \n",
                            "1  The GlenDronach 18 year old Allardice is named...  112.30  Highland Whisky   \n",
                            "2  Excellent single malt from Islay's Lagavulin D...   99.70     Islay Whisky   \n",
                            "3  A wonderfully sherried 15 year old dram from G...   56.12  Speyside Whisky   \n",
                            "4   At the core of this Darkness expression is an...   57.28    Scotch Whisky   \n",
                            "\n",
                            "    distillery      bottler   age  ...  maturation_marsala maturation_oak  \\\n",
                            "0     Dufftown     Dufftown  12.0  ...                 0.0            1.0   \n",
                            "1  GlenDronach  GlenDronach  18.0  ...                 0.0            0.0   \n",
                            "2    Lagavulin    Lagavulin   NaN  ...                 0.0            0.0   \n",
                            "3  Glenfarclas  Glenfarclas  15.0  ...                 NaN            NaN   \n",
                            "4     Darkness     Darkness   8.0  ...                 0.0            0.0   \n",
                            "\n",
                            "  maturation_port  maturation_red wine  maturation_rum  maturation_rye  \\\n",
                            "0             0.0                  0.0             0.0             0.0   \n",
                            "1             0.0                  0.0             0.0             0.0   \n",
                            "2             0.0                  0.0             0.0             0.0   \n",
                            "3             NaN                  NaN             NaN             NaN   \n",
                            "4             0.0                  0.0             0.0             0.0   \n",
                            "\n",
                            "   maturation_sauternes  maturation_sherry  maturation_white wine  \\\n",
                            "0                   0.0                0.0                    0.0   \n",
                            "1                   0.0                1.0                    0.0   \n",
                            "2                   0.0                1.0                    0.0   \n",
                            "3                   NaN                NaN                    NaN   \n",
                            "4                   0.0                1.0                    0.0   \n",
                            "\n",
                            "   maturation_wine  \n",
                            "0              0.0  \n",
                            "1              0.0  \n",
                            "2              0.0  \n",
                            "3              NaN  \n",
                            "4              0.0  \n",
                            "\n",
                            "[5 rows x 25 columns]"
                        ]
                    },
                    "execution_count": 47,
                    "metadata": {},
                    "output_type": "execute_result"
                }
            ],
            "source": [
                "new_whisk2 = maturation_descriptor(new_whisk) \n",
                "new_whisk2.head()"
            ]
        },
        {
            "cell_type": "code",
            "execution_count": 48,
            "metadata": {},
            "outputs": [
                {
                    "data": {
                        "text/plain": [
                            "Index(['name', 'nose', 'palate', 'finish', 'description', 'price', 'region',\n",
                            "       'distillery', 'bottler', 'age', 'ABV', 'chill_filter', 'cask_strength',\n",
                            "       'maturation_bourbon', 'maturation_brandy', 'maturation_marsala',\n",
                            "       'maturation_oak', 'maturation_port', 'maturation_red wine',\n",
                            "       'maturation_rum', 'maturation_rye', 'maturation_sauternes',\n",
                            "       'maturation_sherry', 'maturation_white wine', 'maturation_wine'],\n",
                            "      dtype='object')"
                        ]
                    },
                    "execution_count": 48,
                    "metadata": {},
                    "output_type": "execute_result"
                }
            ],
            "source": [
                "new_whisk2.columns"
            ]
        },
        {
            "cell_type": "markdown",
            "metadata": {},
            "source": [
                "## Palate, Nose, and Finish\n",
                "\n",
                "These columns independently describe different aspects of the tasting process: the nose (smell), palate (taste of the whisky), finish (aftertaste and lingering mouthfeel). We want to extract sense descriptors and taste and smell metaphors/similies. Typically these sorts of descriptors are either in grouped noun form or adjectives.\n",
                "\n",
                "As an initial first go, we'll do a BOW Count Vectorizer or TF-IDF model. The hope is that later down the line we can either explore descriptor clustering or semantic/topic modeling in order to get a handle on the type of distinct sensory groups present within the range of single malt scotches.\n",
                "\n",
                "We'll use a combination of spacy and gensim for these tasks:"
            ]
        },
        {
            "cell_type": "code",
            "execution_count": 49,
            "metadata": {},
            "outputs": [],
            "source": [
                "from gensim.corpora.dictionary import Dictionary\n",
                "from gensim.matutils import corpus2dense\n",
                "from gensim.models import Phrases\n",
                "from gensim.models.tfidfmodel import TfidfModel\n",
                "from hunspell import Hunspell\n"
            ]
        },
        {
            "cell_type": "code",
            "execution_count": 50,
            "metadata": {},
            "outputs": [],
            "source": [
                "# the manual stemmer is going to take the list of tokenized documents and manually stem/lemmatize before gensim dictionary creation.\n",
                "# this is due to the fact that SpaCy's lemmatizer still keeps a lot of tokens distinct that should actually be rolled into the same token (smokiness, smoky, smoke)\n",
                "#NOTE: this stemmer relies on a large enough corpus that variants + the stemmed word exist in the corpus\n",
                "def manual_stemmer(tokenized_list):\n",
                "\n",
                "    word_checker = Hunspell() # we'll use this for checking whether the stemmed word is in the hunspell english dictionary\n",
                "\n",
                "    # we also want to establish the set of unique tokens in tokenized_list (the entire corpus)\n",
                "    unique_token_set = set(itertools.chain(*tokenized_list))\n",
                "\n",
                "    final_token_list = []\n",
                "    for doc in tokenized_list:\n",
                "        doc_str = \" \".join(doc)\n",
                "        \n",
                "         # on first pass, all tokens that end with \"-iness\" and \"-ied\" should be contracted to \"-y\"\n",
                "        regex_search_pattern1 = [r'iness\\b', r'ied\\b', r'iful\\b', r'ifull\\b', r'ifully\\b']\n",
                "        doc_str = re.sub(\"|\".join(regex_search_pattern1) , 'y', doc_str)\n",
                "\n",
                "        # all tokens ending with \"-ness\" or \"-ful\" should just have this ending chopped off.\n",
                "        regex_search_pattern2 = [r'ness\\b', r'ful\\b', r'full\\b']\n",
                "        doc_str = re.sub(\"|\".join(regex_search_pattern2) , '', doc_str)\n",
                "        \n",
                "        #specific word replacement rule\n",
                "        regex_search_pattern3 = r'tannic'\n",
                "        doc_str = re.sub(regex_search_pattern3 , 'tannin', doc_str)\n",
                "\n",
                "        \n",
                "\n",
                "        \"\"\"\n",
                "        Stemming words with -y endings can be tricky. We are going to construct a rule that depends on the existing tokens in the dataset.\n",
                "        It's important to have removed stop words, etc from the corpus and have a large enough corpus before running this stemmer.   \n",
                "        \n",
                "        First stem. In some cases, we wont have a complete word (e.g. smoky --> smok). After stemming, we will check whether the ending follows a pattern\n",
                "        like consonant-vowel-consonant after stemming. Append -e. This rule converts smok to smoke. It also converts pepper to peppere. For other cases, the \n",
                "        stemmed word doesnt match this consonant-vowel-consonant pattern. \n",
                "\n",
                "        At the end we check whether the stemmed/converted word is in the original corpus. If not, then do not stem the word at all and return the \n",
                "        original token. This will mess up rare words that occur only once in the corpus, but that wont matter down the line.\n",
                "        \n",
                "        \"\"\"\n",
                "\n",
                "        doc_list = doc_str.split()\n",
                "        regex_search_pattern4 = r\"y\\b\"\n",
                "        regex_search_pattern5 = r\"\\w+[^aeiou][aeiou][^aeiou]\\b\"\n",
                "        \n",
                "        spac_doc_list = []\n",
                "        for token in doc_list:\n",
                "\n",
                "            stemmed_tok = re.sub(regex_search_pattern4, \"\", token)\n",
                "\n",
                "            if stemmed_tok in unique_token_set:\n",
                "                spac_doc_list.append(stemmed_tok)\n",
                "                \n",
                "            elif (stemmed_tok not in unique_token_set) & (not not re.findall(regex_search_pattern5, stemmed_tok)):\n",
                "                stemmed_tok = stemmed_tok + 'e'\n",
                "                \n",
                "                \n",
                "            else:\n",
                "                spac_doc_list.append(token)\n",
                "\n",
                "        final_token_list.append(spac_doc_list)\n",
                "        \n",
                "    return final_token_list     \n",
                "\n",
                "    "
            ]
        },
        {
            "cell_type": "code",
            "execution_count": 51,
            "metadata": {},
            "outputs": [],
            "source": [
                "# function that converts a set of documents into a tokenized document list with relevant bigrams. also creates a gensim dictionary object\n",
                "\n",
                "def create_gensim_data_bigrams(data, col_to_tokenize, save_bigram = True):\n",
                "\n",
                "    doc_contextor = doc_context_tupling(data, col_to_tokenize, 'name')\n",
                "    name_list = []\n",
                "    doc_list = []\n",
                "    doc_generator = doc_contextor\n",
                "\n",
                "    for current_doc in doc_generator:\n",
                "        # lower case lemmatized alphabetic words with common stop words, puncuation removed.\n",
                "        # Also filter out verbs, remove prepositions\n",
                "\n",
                "        token_list = [token.lemma_.lower() for token in current_doc if ( (not token.is_stop) & (not token.is_punct) & (token.pos_ != 'VERB') & (token.dep_ != 'prep') & (token.is_alpha)) ]\n",
                "        doc_list.append(token_list)\n",
                "        name_list.append(current_doc._.context['name'])\n",
                "\n",
                "    # now let's train a phrase model that can include relevant bigrams as tokens in the tokenized docs\n",
                "    phrase_mod = Phrases(doc_list)\n",
                "\n",
                "    if save_bigram == True:\n",
                "        phrase_mod_path = \"models\\\\phrase_mod.pkl\"\n",
                "        pickle.dump(phrase_mod, open(phrase_mod_path, 'wb'))\n",
                "\n",
                "    toks_with_bigrams = list(phrase_mod[doc_list]) # this creates the new set of tokenized documents with bigrams.\n",
                "\n",
                "    # manual stemming:\n",
                "    toks_with_bigrams = manual_stemmer(toks_with_bigrams)\n",
                "\n",
                "    # let's create a gensim dictionary off of this.\n",
                "\n",
                "    gens_dict_bigrams = Dictionary(toks_with_bigrams)\n",
                "\n",
                "    #it's probably useful to return the document token lists as a Python dictionary with corresponding whisky names.\n",
                "    token_bigram_dict = {'name': name_list, col_to_tokenize + '_tokenized': toks_with_bigrams}\n",
                "\n",
                "    return pd.DataFrame.from_dict(token_bigram_dict), gens_dict_bigrams\n",
                "\n"
            ]
        },
        {
            "cell_type": "code",
            "execution_count": 52,
            "metadata": {},
            "outputs": [],
            "source": [
                "# this function executes the tokenization on each sense column, saves it into the dataframe and removes the corresponding free text\n",
                "# also generates a python dictionary of gensim Dicionaries for each sense column corpus.\n",
                "\n",
                "def generate_tokenized_cols(data, *args):\n",
                "    descriptor_cols = list(args)\n",
                "\n",
                "    # for loop to generate bigram-tokenized list and list of dictionaries for each tasting note type (i.e, nose, palate, finish)\n",
                "\n",
                "    tokenized_doc_list = []\n",
                "    gensimDict_dict = {}\n",
                "\n",
                "    for descriptor in descriptor_cols:\n",
                "\n",
                "\n",
                "        tokenized_doc, gensim_dictionary = create_gensim_data_bigrams(data, descriptor)\n",
                "        tokenized_doc_list.append(tokenized_doc.set_index('name'))\n",
                "\n",
                "        gensimDict_dict.update({descriptor: gensim_dictionary})\n",
                "\n",
                "    \n",
                "    tokdocs_df = pd.concat(tokenized_doc_list, axis = 1).reset_index()\n",
                "    new_data = pd.concat([tokdocs_df.set_index('name'), data.set_index('name')], axis = 1).reset_index().drop(columns = descriptor_cols).drop(columns = ['description'])\n",
                "\n",
                "    \n",
                "    return new_data, gensimDict_dict\n"
            ]
        },
        {
            "cell_type": "code",
            "execution_count": 53,
            "metadata": {},
            "outputs": [],
            "source": [
                "new_whisk3, gensim_dictionary_list = generate_tokenized_cols(new_whisk2, 'palate', 'nose', 'finish')"
            ]
        },
        {
            "cell_type": "markdown",
            "metadata": {},
            "source": [
                "Now we pickle the gensim dictionaries:"
            ]
        },
        {
            "cell_type": "code",
            "execution_count": 54,
            "metadata": {},
            "outputs": [],
            "source": [
                "import pickle\n",
                "for key, value in gensim_dictionary_list.items():\n",
                "    pickle_path = \"dictionaries\\\\gemsimdict_\" + key + \".pkl\"\n",
                "    pickle.dump(value, open(pickle_path, 'wb'))\n",
                "    "
            ]
        },
        {
            "cell_type": "code",
            "execution_count": 55,
            "metadata": {},
            "outputs": [
                {
                    "data": {
                        "text/html": [
                            "<div>\n",
                            "<style scoped>\n",
                            "    .dataframe tbody tr th:only-of-type {\n",
                            "        vertical-align: middle;\n",
                            "    }\n",
                            "\n",
                            "    .dataframe tbody tr th {\n",
                            "        vertical-align: top;\n",
                            "    }\n",
                            "\n",
                            "    .dataframe thead th {\n",
                            "        text-align: right;\n",
                            "    }\n",
                            "</style>\n",
                            "<table border=\"1\" class=\"dataframe\">\n",
                            "  <thead>\n",
                            "    <tr style=\"text-align: right;\">\n",
                            "      <th></th>\n",
                            "      <th>name</th>\n",
                            "      <th>palate_tokenized</th>\n",
                            "      <th>nose_tokenized</th>\n",
                            "      <th>finish_tokenized</th>\n",
                            "      <th>price</th>\n",
                            "      <th>region</th>\n",
                            "      <th>distillery</th>\n",
                            "      <th>bottler</th>\n",
                            "      <th>age</th>\n",
                            "      <th>ABV</th>\n",
                            "      <th>...</th>\n",
                            "      <th>maturation_marsala</th>\n",
                            "      <th>maturation_oak</th>\n",
                            "      <th>maturation_port</th>\n",
                            "      <th>maturation_red wine</th>\n",
                            "      <th>maturation_rum</th>\n",
                            "      <th>maturation_rye</th>\n",
                            "      <th>maturation_sauternes</th>\n",
                            "      <th>maturation_sherry</th>\n",
                            "      <th>maturation_white wine</th>\n",
                            "      <th>maturation_wine</th>\n",
                            "    </tr>\n",
                            "  </thead>\n",
                            "  <tbody>\n",
                            "    <tr>\n",
                            "      <th>0</th>\n",
                            "      <td>Singleton of Dufftown 12 Year Old</td>\n",
                            "      <td>[orange_zest, malty_core, nut, oak, toffee, cu...</td>\n",
                            "      <td>[malt, cereal, barley, sweet, butter, toast, w...</td>\n",
                            "      <td>[oak, rich, good_length, fruit]</td>\n",
                            "      <td>40.42</td>\n",
                            "      <td>Speyside Whisky</td>\n",
                            "      <td>Dufftown</td>\n",
                            "      <td>Dufftown</td>\n",
                            "      <td>12.0</td>\n",
                            "      <td>40.0</td>\n",
                            "      <td>...</td>\n",
                            "      <td>0.0</td>\n",
                            "      <td>1.0</td>\n",
                            "      <td>0.0</td>\n",
                            "      <td>0.0</td>\n",
                            "      <td>0.0</td>\n",
                            "      <td>0.0</td>\n",
                            "      <td>0.0</td>\n",
                            "      <td>0.0</td>\n",
                            "      <td>0.0</td>\n",
                            "      <td>0.0</td>\n",
                            "    </tr>\n",
                            "    <tr>\n",
                            "      <th>1</th>\n",
                            "      <td>The GlenDronach 18 Year Old Allardice</td>\n",
                            "      <td>[christmas_cake, rum, chocolate, hazelnut, run...</td>\n",
                            "      <td>[sherry, thick, knife, old, rum, pineapple, br...</td>\n",
                            "      <td>[fresh, blackcurrant, blueberry, pancake, gene...</td>\n",
                            "      <td>112.30</td>\n",
                            "      <td>Highland Whisky</td>\n",
                            "      <td>GlenDronach</td>\n",
                            "      <td>GlenDronach</td>\n",
                            "      <td>18.0</td>\n",
                            "      <td>46.0</td>\n",
                            "      <td>...</td>\n",
                            "      <td>0.0</td>\n",
                            "      <td>0.0</td>\n",
                            "      <td>0.0</td>\n",
                            "      <td>0.0</td>\n",
                            "      <td>0.0</td>\n",
                            "      <td>0.0</td>\n",
                            "      <td>0.0</td>\n",
                            "      <td>1.0</td>\n",
                            "      <td>0.0</td>\n",
                            "      <td>0.0</td>\n",
                            "    </tr>\n",
                            "    <tr>\n",
                            "      <th>2</th>\n",
                            "      <td>Lagavulin 2005 (bottled 2020) Pedro Ximénez Ca...</td>\n",
                            "      <td>[date, prune, almond, bonfire, smoke, toffee, ...</td>\n",
                            "      <td>[medicinal_peat, tarry_rope, dark_chocolate, m...</td>\n",
                            "      <td>[peat, crisp, red_grape]</td>\n",
                            "      <td>99.70</td>\n",
                            "      <td>Islay Whisky</td>\n",
                            "      <td>Lagavulin</td>\n",
                            "      <td>Lagavulin</td>\n",
                            "      <td>NaN</td>\n",
                            "      <td>43.0</td>\n",
                            "      <td>...</td>\n",
                            "      <td>0.0</td>\n",
                            "      <td>0.0</td>\n",
                            "      <td>0.0</td>\n",
                            "      <td>0.0</td>\n",
                            "      <td>0.0</td>\n",
                            "      <td>0.0</td>\n",
                            "      <td>0.0</td>\n",
                            "      <td>1.0</td>\n",
                            "      <td>0.0</td>\n",
                            "      <td>0.0</td>\n",
                            "    </tr>\n",
                            "  </tbody>\n",
                            "</table>\n",
                            "<p>3 rows × 24 columns</p>\n",
                            "</div>"
                        ],
                        "text/plain": [
                            "                                                name  \\\n",
                            "0                  Singleton of Dufftown 12 Year Old   \n",
                            "1              The GlenDronach 18 Year Old Allardice   \n",
                            "2  Lagavulin 2005 (bottled 2020) Pedro Ximénez Ca...   \n",
                            "\n",
                            "                                    palate_tokenized  \\\n",
                            "0  [orange_zest, malty_core, nut, oak, toffee, cu...   \n",
                            "1  [christmas_cake, rum, chocolate, hazelnut, run...   \n",
                            "2  [date, prune, almond, bonfire, smoke, toffee, ...   \n",
                            "\n",
                            "                                      nose_tokenized  \\\n",
                            "0  [malt, cereal, barley, sweet, butter, toast, w...   \n",
                            "1  [sherry, thick, knife, old, rum, pineapple, br...   \n",
                            "2  [medicinal_peat, tarry_rope, dark_chocolate, m...   \n",
                            "\n",
                            "                                    finish_tokenized   price           region  \\\n",
                            "0                    [oak, rich, good_length, fruit]   40.42  Speyside Whisky   \n",
                            "1  [fresh, blackcurrant, blueberry, pancake, gene...  112.30  Highland Whisky   \n",
                            "2                           [peat, crisp, red_grape]   99.70     Islay Whisky   \n",
                            "\n",
                            "    distillery      bottler   age   ABV  ... maturation_marsala  \\\n",
                            "0     Dufftown     Dufftown  12.0  40.0  ...                0.0   \n",
                            "1  GlenDronach  GlenDronach  18.0  46.0  ...                0.0   \n",
                            "2    Lagavulin    Lagavulin   NaN  43.0  ...                0.0   \n",
                            "\n",
                            "  maturation_oak  maturation_port  maturation_red wine  maturation_rum  \\\n",
                            "0            1.0              0.0                  0.0             0.0   \n",
                            "1            0.0              0.0                  0.0             0.0   \n",
                            "2            0.0              0.0                  0.0             0.0   \n",
                            "\n",
                            "   maturation_rye  maturation_sauternes  maturation_sherry  \\\n",
                            "0             0.0                   0.0                0.0   \n",
                            "1             0.0                   0.0                1.0   \n",
                            "2             0.0                   0.0                1.0   \n",
                            "\n",
                            "   maturation_white wine  maturation_wine  \n",
                            "0                    0.0              0.0  \n",
                            "1                    0.0              0.0  \n",
                            "2                    0.0              0.0  \n",
                            "\n",
                            "[3 rows x 24 columns]"
                        ]
                    },
                    "execution_count": 55,
                    "metadata": {},
                    "output_type": "execute_result"
                }
            ],
            "source": [
                "new_whisk3.head(3)"
            ]
        },
        {
            "cell_type": "markdown",
            "metadata": {},
            "source": [
                "We have extracted the tokens we want out of the free text columns or generated one-hot encoded representations of whisky preparation (chill filtering, cask strength, and types of barrels used in maturation) from the free text description. We've thus thrown out all the free text columns. The numerical columns (whisky age, ABV, etc) have also all been cleaned.\n",
                "\n",
                "We save this dataframe to CSV. Saving the sensory descriptor columns in this non-numerical form is important as it'll enable us to try different vector representation schemes later down the line.\n",
                "\n",
                "\n"
            ]
        },
        {
            "cell_type": "code",
            "execution_count": 56,
            "metadata": {},
            "outputs": [],
            "source": [
                "new_whisk3.to_csv(\"data\\\\interim\\\\whisk_tokenized_encoded.csv\")"
            ]
        },
        {
            "cell_type": "markdown",
            "metadata": {},
            "source": [
                "It may also be better to unify the palate, nose, and finish tokens. Often these are correlated with each other anyway and unifying the token sets may yield a BoW representation that captures correlations between the descriptors a bit better (i.e. a whisky may have salt in the palate, coastal in the nose, and seaweed and iodine in the finish -- we would want these words linked together. Splitting them apart might make our representation excessively sparse. )\n",
                "\n",
                "We'll thus also create and save a new dataframe with the tokens from palate, nose, and finish unified:"
            ]
        },
        {
            "cell_type": "code",
            "execution_count": 57,
            "metadata": {},
            "outputs": [
                {
                    "data": {
                        "text/html": [
                            "<div>\n",
                            "<style scoped>\n",
                            "    .dataframe tbody tr th:only-of-type {\n",
                            "        vertical-align: middle;\n",
                            "    }\n",
                            "\n",
                            "    .dataframe tbody tr th {\n",
                            "        vertical-align: top;\n",
                            "    }\n",
                            "\n",
                            "    .dataframe thead th {\n",
                            "        text-align: right;\n",
                            "    }\n",
                            "</style>\n",
                            "<table border=\"1\" class=\"dataframe\">\n",
                            "  <thead>\n",
                            "    <tr style=\"text-align: right;\">\n",
                            "      <th></th>\n",
                            "      <th>name</th>\n",
                            "      <th>token_unified</th>\n",
                            "    </tr>\n",
                            "  </thead>\n",
                            "  <tbody>\n",
                            "    <tr>\n",
                            "      <th>0</th>\n",
                            "      <td>Singleton of Dufftown 12 Year Old</td>\n",
                            "      <td>[orange_zest, malty_core, nut, oak, toffee, cu...</td>\n",
                            "    </tr>\n",
                            "    <tr>\n",
                            "      <th>1</th>\n",
                            "      <td>The GlenDronach 18 Year Old Allardice</td>\n",
                            "      <td>[christmas_cake, rum, chocolate, hazelnut, run...</td>\n",
                            "    </tr>\n",
                            "    <tr>\n",
                            "      <th>2</th>\n",
                            "      <td>Lagavulin 2005 (bottled 2020) Pedro Ximénez Ca...</td>\n",
                            "      <td>[date, prune, almond, bonfire, smoke, toffee, ...</td>\n",
                            "    </tr>\n",
                            "    <tr>\n",
                            "      <th>3</th>\n",
                            "      <td>Glenfarclas 15 Year Old</td>\n",
                            "      <td>[raisin, sherry, orange_peel, walnut, date, in...</td>\n",
                            "    </tr>\n",
                            "    <tr>\n",
                            "      <th>4</th>\n",
                            "      <td>Darkness 8 Year Old</td>\n",
                            "      <td>[amaretti, biscuit, subtly, toast, power, rais...</td>\n",
                            "    </tr>\n",
                            "    <tr>\n",
                            "      <th>...</th>\n",
                            "      <td>...</td>\n",
                            "      <td>...</td>\n",
                            "    </tr>\n",
                            "    <tr>\n",
                            "      <th>8761</th>\n",
                            "      <td>Aberlour 14 Year Old Double Cask Matured</td>\n",
                            "      <td>[texture, round, cream, sweet, dark, cherry, f...</td>\n",
                            "    </tr>\n",
                            "    <tr>\n",
                            "      <th>8762</th>\n",
                            "      <td>The GlenDronach 21 Year Old - Parliament</td>\n",
                            "      <td>[golden_syrup, soft, juicy, raisin, tang, oak,...</td>\n",
                            "    </tr>\n",
                            "    <tr>\n",
                            "      <th>8763</th>\n",
                            "      <td>The Glenlivet 18 Year Old</td>\n",
                            "      <td>[rich, chew, tannin, oak, manuka_honey, walnut...</td>\n",
                            "    </tr>\n",
                            "    <tr>\n",
                            "      <th>8764</th>\n",
                            "      <td>The GlenDronach 15 Year Old Revival</td>\n",
                            "      <td>[oily_walnut, new_leather, blackberry, apple_c...</td>\n",
                            "    </tr>\n",
                            "    <tr>\n",
                            "      <th>8765</th>\n",
                            "      <td>Aerolite Lyndsay 10 Year Old - The Character o...</td>\n",
                            "      <td>[smoke, return, mint, dark_chocolate, espresso...</td>\n",
                            "    </tr>\n",
                            "  </tbody>\n",
                            "</table>\n",
                            "<p>8766 rows × 2 columns</p>\n",
                            "</div>"
                        ],
                        "text/plain": [
                            "                                                   name  \\\n",
                            "0                     Singleton of Dufftown 12 Year Old   \n",
                            "1                 The GlenDronach 18 Year Old Allardice   \n",
                            "2     Lagavulin 2005 (bottled 2020) Pedro Ximénez Ca...   \n",
                            "3                               Glenfarclas 15 Year Old   \n",
                            "4                                   Darkness 8 Year Old   \n",
                            "...                                                 ...   \n",
                            "8761           Aberlour 14 Year Old Double Cask Matured   \n",
                            "8762           The GlenDronach 21 Year Old - Parliament   \n",
                            "8763                          The Glenlivet 18 Year Old   \n",
                            "8764                The GlenDronach 15 Year Old Revival   \n",
                            "8765  Aerolite Lyndsay 10 Year Old - The Character o...   \n",
                            "\n",
                            "                                          token_unified  \n",
                            "0     [orange_zest, malty_core, nut, oak, toffee, cu...  \n",
                            "1     [christmas_cake, rum, chocolate, hazelnut, run...  \n",
                            "2     [date, prune, almond, bonfire, smoke, toffee, ...  \n",
                            "3     [raisin, sherry, orange_peel, walnut, date, in...  \n",
                            "4     [amaretti, biscuit, subtly, toast, power, rais...  \n",
                            "...                                                 ...  \n",
                            "8761  [texture, round, cream, sweet, dark, cherry, f...  \n",
                            "8762  [golden_syrup, soft, juicy, raisin, tang, oak,...  \n",
                            "8763  [rich, chew, tannin, oak, manuka_honey, walnut...  \n",
                            "8764  [oily_walnut, new_leather, blackberry, apple_c...  \n",
                            "8765  [smoke, return, mint, dark_chocolate, espresso...  \n",
                            "\n",
                            "[8766 rows x 2 columns]"
                        ]
                    },
                    "execution_count": 57,
                    "metadata": {},
                    "output_type": "execute_result"
                }
            ],
            "source": [
                "col_list = ['palate_tokenized', 'nose_tokenized', 'finish_tokenized'  ]\n",
                "sense_df = new_whisk3[col_list]\n",
                "\n",
                "whisk_unified = deepcopy(new_whisk3)\n",
                "whisk_unified['token_unified'] = sense_df.apply(lambda x: list(itertools.chain(*x)), axis = 1)\n",
                "whisk_unified.drop(columns = col_list, inplace=True)\n",
                "\n",
                "\n",
                "whisk_unified[['name', 'token_unified']]"
            ]
        },
        {
            "cell_type": "code",
            "execution_count": 58,
            "metadata": {},
            "outputs": [
                {
                    "data": {
                        "text/plain": [
                            "['rounded',\n",
                            " 'malt',\n",
                            " 'oil',\n",
                            " 'hearty_helping',\n",
                            " 'stone_fruit',\n",
                            " 'sweet',\n",
                            " 'pear',\n",
                            " 'peach',\n",
                            " 'apple',\n",
                            " 'dusting',\n",
                            " 'brown_sugar',\n",
                            " 'greek',\n",
                            " 'yogurt',\n",
                            " 'barley',\n",
                            " 'cinnamon',\n",
                            " 'pastry',\n",
                            " 'flash',\n",
                            " 'orange_peel',\n",
                            " 'soft',\n",
                            " 'sawdust',\n",
                            " 'toffee',\n",
                            " 'date']"
                        ]
                    },
                    "execution_count": 58,
                    "metadata": {},
                    "output_type": "execute_result"
                }
            ],
            "source": [
                "whisk_unified['token_unified'][5]"
            ]
        },
        {
            "cell_type": "markdown",
            "metadata": {},
            "source": [
                "OK this worked. Let's save the whisk_unified dataframe to file:"
            ]
        },
        {
            "cell_type": "code",
            "execution_count": 59,
            "metadata": {},
            "outputs": [],
            "source": [
                "whisk_unified.to_csv(\"data\\\\interim\\\\whisk_unified_tokenized.csv\")"
            ]
        },
        {
            "cell_type": "markdown",
            "metadata": {},
            "source": [
                "It'd also be wise to create a gensim dictionary for the unified token set:"
            ]
        },
        {
            "cell_type": "code",
            "execution_count": 60,
            "metadata": {},
            "outputs": [],
            "source": [
                "gensim_dict_unified = Dictionary(list(whisk_unified['token_unified']))\n",
                "pickle_path_unified = \"dictionaries\\\\gemsimdict_unified.pkl\"\n",
                "pickle.dump(gensim_dict_unified, open(pickle_path_unified, 'wb'))"
            ]
        },
        {
            "cell_type": "markdown",
            "metadata": {},
            "source": [
                "### Corpus creation\n",
                "\n",
                "gensim_dictionary_list contains the corpuses from the palate, nose, and finish notes. A quick look at the dictionaries shows that we have a lot of unique tokens in each corpus."
            ]
        },
        {
            "cell_type": "code",
            "execution_count": 61,
            "metadata": {},
            "outputs": [
                {
                    "name": "stdout",
                    "output_type": "stream",
                    "text": [
                        "Dictionary(2765 unique tokens: ['cut_grass', 'malty_core', 'nut', 'oak', 'orange_zest']...)\n",
                        "Dictionary(2920 unique tokens: ['barley', 'butter', 'cereal', 'hay', 'malt']...)\n",
                        "Dictionary(1967 unique tokens: ['fruit', 'good_length', 'oak', 'rich', 'blackcurrant']...)\n"
                    ]
                }
            ],
            "source": [
                "for key,values in gensim_dictionary_list.items():\n",
                "\n",
                "    print(values)"
            ]
        },
        {
            "cell_type": "markdown",
            "metadata": {},
            "source": [
                "We look at the same for the unified corpus:"
            ]
        },
        {
            "cell_type": "code",
            "execution_count": 62,
            "metadata": {},
            "outputs": [
                {
                    "name": "stdout",
                    "output_type": "stream",
                    "text": [
                        "Dictionary(4145 unique tokens: ['barley', 'butter', 'cereal', 'cut_grass', 'fruit']...)\n"
                    ]
                }
            ],
            "source": [
                "print(gensim_dict_unified)"
            ]
        },
        {
            "cell_type": "markdown",
            "metadata": {},
            "source": [
                "We have a lot of unique tokens, but in order to reduce the dimensionality of the feature set we may want to discard tokens in a dictionary that appear exceedingly rarely or are in way too many documents. We put the bottom frequency cutoff at 1% (word only appears in 0.50% of documents) and an upper cutoff of 50%."
            ]
        },
        {
            "cell_type": "code",
            "execution_count": 63,
            "metadata": {},
            "outputs": [
                {
                    "name": "stdout",
                    "output_type": "stream",
                    "text": [
                        "Dictionary(146 unique tokens: ['nut', 'oak', 'toffee', 'chocolate', 'hazelnut']...)\n",
                        "Dictionary(146 unique tokens: ['barley', 'butter', 'cereal', 'hay', 'malt']...)\n",
                        "Dictionary(82 unique tokens: ['fruit', 'good_length', 'oak', 'rich', 'fresh']...)\n"
                    ]
                }
            ],
            "source": [
                "reduced_gensim_dict = deepcopy(gensim_dictionary_list)\n",
                "\n",
                "for key,values in reduced_gensim_dict.items():\n",
                "\n",
                "    n = len(new_whisk3) # size of each corpus\n",
                "    values.filter_extremes(no_below=0.01*n, no_above=0.5)\n",
                "    print(values)"
            ]
        },
        {
            "cell_type": "code",
            "execution_count": 64,
            "metadata": {},
            "outputs": [
                {
                    "name": "stdout",
                    "output_type": "stream",
                    "text": [
                        "Dictionary(477 unique tokens: ['barley', 'butter', 'cereal', 'cut_grass', 'fruit']...)\n"
                    ]
                }
            ],
            "source": [
                "gensim_dict_unified.filter_extremes(no_below=0.006*n, no_above=0.5)\n",
                "print(gensim_dict_unified)\n",
                "reduced_unified_dict_path = \"dictionaries\\\\reduced_gemsimdict_unified.pkl\"\n",
                "pickle.dump(gensim_dict_unified, open(reduced_unified_dict_path, 'wb'))"
            ]
        },
        {
            "cell_type": "markdown",
            "metadata": {},
            "source": [
                "There's a substantial reduction in the number of tokens. Let's see what these tokens are for the unified token set."
            ]
        },
        {
            "cell_type": "code",
            "execution_count": 65,
            "metadata": {},
            "outputs": [
                {
                    "name": "stdout",
                    "output_type": "stream",
                    "text": [
                        "['barley', 'butter', 'cereal', 'cut_grass', 'fruit', 'good_length', 'hay', 'malt', 'nut', 'oak', 'orange_zest', 'rich', 'sweet', 'toast', 'toffee', 'walnut', 'blackcurrant', 'blueberry', 'brown_sugar', 'chocolate', 'christmas_cake', 'fresh', 'hazelnut', 'helping', 'maple_syrup', 'old', 'pancake', 'pineapple', 'rum', 'runny_honey', 'sherry', 'thick', 'tow', 'almond', 'bonfire', 'crisp', 'dark_chocolate', 'date', 'medicinal_peat', 'peat', 'prune', 'red_berry', 'red_grape', 'ripe', 'smoke', 'complex', 'cream', 'intense', 'long', 'orange_peel', 'peppermint', 'power', 'raisin', 'rancio', 'biscuit', 'candy', 'cherry', 'earth', 'oil', 'peanut', 'slightly', 'spice', 'subtly', 'warmth', 'apple', 'cinnamon', 'dusting', 'pastry', 'peach', 'pear', 'rounded', 'sawdust', 'soft', 'stone_fruit', 'citrus', 'coastal', 'ember', 'floral', 'honeyed', 'iodine', 'roasted_nut', 'subtle', 'vanilla_pod', 'aroma', 'background', 'character', 'finish', 'mango', 'orange', 'tropical_fruit', 'vanilla', 'away', 'bitter', 'cocoa', 'cranberry', 'elegant', 'faint', 'gentle', 'juice', 'load', 'mix', 'raspberry', 'white', 'white_grape', 'buttered_toast', 'caramel', 'delicate', 'forest', 'green_apple', 'milk_chocolate', 'mouthfeel', 'nectarine', 'short', 'smooth', 'support', 'blackberry', 'bread', 'clove', 'compote', 'dark', 'ginger', 'golden', 'heat', 'honey', 'juicy', 'leather', 'liquorice', 'marmalade', 'present', 'prickle', 'red', 'red_chilli', 'sugar', 'supple', 'tannin', 'wood', 'dry', 'mature_oak', 'apricot_jam', 'core', 'gingerbread', 'glass', 'meat', 'mocha', 'oatcake', 'roasted', 'salt', 'seaweed', 'sultana', 'wave', 'balanced', 'good', 'way', 'big', 'fig', 'like', 'mouth', 'tea', 'blossom', 'butterscotch', 'fudge', 'layer', 'lemon', 'peel', 'nutmeg', 'warm', 'zest', 'herbal', 'nutty', 'tang', 'coffee', 'depth', 'great', 'pepper', 'praline', 'banana', 'jam', 'lot', 'mint', 'plum', 'toasted', 'brown_bread', 'buttered', 'cassia', 'milk', 'pie', 'pudding', 'sticky_toffee', 'influence', 'fruitcake', 'medium', 'black_pepper', 'lime', 'maritime', 'classic', 'clean', 'menthol', 'aromatic', 'backdrop', 'freshly', 'golden_syrup', 'lead', 'mixed_peel', 'rubber', 'suggestion', 'syrup', 'christmas', 'ice_cream', 'peanut_brittle', 'sea_salt', 'turkish_delight', 'custard', 'melon', 'soon', 'wax', 'grass', 'leaf', 'vegetal', 'honeydew_melon', 'pear_drop', 'apricot', 'cedar', 'charred', 'dense', 'fennel', 'heavy', 'later', 'oily_walnut', 'orange_oil', 'slice', 'espresso', 'good_helping', 'ground', 'tar', 'anise', 'berry', 'jammy', 'malt_loaf', 'shortbread', 'sultanas', 'perfumed', 'potpourri', 'stem_ginger', 'winter_spice', 'bun', 'softly', 'sweetie', 'forest_floor', 'smidge', 'spiced', 'yellow_plum', 'chip', 'flake', 'meaty_malt', 'brioche', 'cake', 'oloroso', 'waft', 'chilli', 'fiery', 'heather_honey', 'initially', 'sponge_cake', 'beauty', 'cardamom', 'fore', 'plaster', 'savoury', 'whiff', 'whisky', 'balance', 'bonfire_ember', 'brine', 'fragrant', 'orchard_fruit', 'bbq', 'charred_oak', 'peat_smoke', 'caraway', 'chew', 'plus', 'seville_orange', 'light', 'time', 'allspice', 'body', 'mixed', 'cider', 'late', 'tangerine', 'burst', 'crumbly', 'sprinkle', 'plenty', 'underneath', 'wood_smoke', 'y', 'flavour', 'texture', 'salted_caramel', 'element', 'honeycomb', 'white_pepper', 'char', 'black', 'flower', 'herb', 'refreshing', 'roasted_coffee', 'stick', 'bit', 'cask', 'tobacco', 'length', 'beeswax', 'freshly_grass', 'manuka_honey', 'medium_length', 'sea_spray', 'baking_spice', 'bright', 'tail', 'grapefruit', 'maybe', 'nougat', 'damp', 'musty', 'tart', 'granary_toast', 'lemon_zest', 'mineral', 'sea_breeze', 'ham', 'honeyed_cereal', 'kick', 'return', 'fruit_salad', 'heather', 'deep', 'dust', 'edge', 'sharp', 'treacle', 'cookie', 'ash', 'dr', 'new_leather', 'salted', 'digestive_biscuit', 'marzipan', 'lemongrass', 'sauce', 'cacao', 'coastal_air', 'kiwi', 'peppercorn', 'punch', 'medicinal', 'pine', 'pinch', 'skin', 'cooked', 'brandy_butter', 'summer_berry', 'digestive', 'pipe_tobacco', 'porridge', 'red_wine', 'mid', 'silk', 'bittersweet', 'liqueur', 'sandalwood', 'slowly', 'thyme_honey', 'old_leather', 'enjoyably', 'grist', 'richly', 'wine', 'acacia_honey', 'herbaceous', 'rhubarb', 'gently', 'grape', 'tropical', 'gooseberry', 'rum_raisin', 'damson', 'drizzle', 'point', 'black_tea', 'coffee_bean', 'green', 'root', 'coconut', 'entry', 'strawberry_jam', 'vibrant', 'popcorn', 'stewed', 'pecan', 'bourbon', 'milky_coffee', 'summer', 'cracker', 'guava', 'strawberry', 'barrel_char', 'forward', 'aniseed', 'bean', 'toasted_teacake', 'thyme', 'oats', 'rye', 'lemon_curd', 'cigar_box', 'undertone', 'sea_air', 'crunchy_brown', 'demerara_sugar', 'slight', 'caramelised', 'redcurrant', 'hot_cross', 'cooking_spice', 'earthy_peat', 'savour', 'furniture', 'robust', 'rye_bread', 'minute', 'mint_leaf', 'oat', 'charcoal', 'interesting', 'orange_blossom', 'bar', 'baked', 'apple_crumble', 'water', 'oodle', 'tone', 'salty_butter', 'flaky_pastry', 'hand', 'salted_butter', 'greengage', 'hot', 'flint', 'quince', 'lightly', 'cookie_dough', 'violet', 'cumin', 'fizz', 'soot', 'molasse', 'fairly', 'jelly', 'petal', 'dram', 'lavender', 'coriander', 'basil', 'delicious', 'strong', 'huge', 'latte', 'right', 'warming', 'pine_resin', 'exotic_spice', 'star_anise', 'porridge_oats', 'particularly']\n"
                    ]
                }
            ],
            "source": [
                "token_names = list(gensim_dict_unified.values())\n",
                "print(token_names)"
            ]
        },
        {
            "cell_type": "markdown",
            "metadata": {},
            "source": [
                "These are primarily sense descriptors and while there are some variant of words present in the corpus, our lemmatization/stemming /bigram-fitting seems to have done a decent job. There are of course some words that are not sense related: 'bit', 'age', 'element', 'mid', 'hand'. The hope is that our modeling/dimensional reduction will allow us to group these words into their own set of categories distinct from the sense descriptors.\n",
                "\n",
                "Now let's convert these to tokenized documents to a Bag of Words feature set."
            ]
        },
        {
            "cell_type": "code",
            "execution_count": 66,
            "metadata": {},
            "outputs": [],
            "source": [
                "def gen_sensory_BoW_df(data, gensim_dicts):\n",
                "\n",
                "    bow_df_list = []\n",
                "    \n",
                "    for key,value in gensim_dicts.items():\n",
                "        sense_col = key + \"_tokenized\"\n",
                "\n",
                "        corpus = [value.doc2bow(doc) for doc in data[sense_col] ]\n",
                "\n",
                "        token_names = [key + \": \" + word for word in list(value.values()) ]\n",
                "        bow_df = pd.DataFrame(corpus2dense(corpus, num_terms = len(value.token2id)).T, columns = token_names)\n",
                "        bow_df_list.append(bow_df)\n",
                "    \n",
                "    sensory_bow_df = pd.concat(bow_df_list, axis = 1)\n",
                "    sensory_bow_df['name'] = data.name\n",
                "\n",
                "    return sensory_bow_df\n",
                "    "
            ]
        },
        {
            "cell_type": "code",
            "execution_count": 67,
            "metadata": {},
            "outputs": [
                {
                    "data": {
                        "text/html": [
                            "<div>\n",
                            "<style scoped>\n",
                            "    .dataframe tbody tr th:only-of-type {\n",
                            "        vertical-align: middle;\n",
                            "    }\n",
                            "\n",
                            "    .dataframe tbody tr th {\n",
                            "        vertical-align: top;\n",
                            "    }\n",
                            "\n",
                            "    .dataframe thead th {\n",
                            "        text-align: right;\n",
                            "    }\n",
                            "</style>\n",
                            "<table border=\"1\" class=\"dataframe\">\n",
                            "  <thead>\n",
                            "    <tr style=\"text-align: right;\">\n",
                            "      <th></th>\n",
                            "      <th>palate: nut</th>\n",
                            "      <th>palate: oak</th>\n",
                            "      <th>palate: toffee</th>\n",
                            "      <th>palate: chocolate</th>\n",
                            "      <th>palate: hazelnut</th>\n",
                            "      <th>palate: almond</th>\n",
                            "      <th>palate: date</th>\n",
                            "      <th>palate: smoke</th>\n",
                            "      <th>palate: orange_peel</th>\n",
                            "      <th>palate: raisin</th>\n",
                            "      <th>...</th>\n",
                            "      <th>finish: subtly</th>\n",
                            "      <th>finish: apricot</th>\n",
                            "      <th>finish: light</th>\n",
                            "      <th>finish: walnut</th>\n",
                            "      <th>finish: juicy</th>\n",
                            "      <th>finish: butterscotch</th>\n",
                            "      <th>finish: peach</th>\n",
                            "      <th>finish: medium</th>\n",
                            "      <th>finish: white</th>\n",
                            "      <th>name</th>\n",
                            "    </tr>\n",
                            "  </thead>\n",
                            "  <tbody>\n",
                            "    <tr>\n",
                            "      <th>0</th>\n",
                            "      <td>1.0</td>\n",
                            "      <td>1.0</td>\n",
                            "      <td>1.0</td>\n",
                            "      <td>0.0</td>\n",
                            "      <td>0.0</td>\n",
                            "      <td>0.0</td>\n",
                            "      <td>0.0</td>\n",
                            "      <td>0.0</td>\n",
                            "      <td>0.0</td>\n",
                            "      <td>0.0</td>\n",
                            "      <td>...</td>\n",
                            "      <td>0.0</td>\n",
                            "      <td>0.0</td>\n",
                            "      <td>0.0</td>\n",
                            "      <td>0.0</td>\n",
                            "      <td>0.0</td>\n",
                            "      <td>0.0</td>\n",
                            "      <td>0.0</td>\n",
                            "      <td>0.0</td>\n",
                            "      <td>0.0</td>\n",
                            "      <td>Singleton of Dufftown 12 Year Old</td>\n",
                            "    </tr>\n",
                            "    <tr>\n",
                            "      <th>1</th>\n",
                            "      <td>0.0</td>\n",
                            "      <td>0.0</td>\n",
                            "      <td>0.0</td>\n",
                            "      <td>1.0</td>\n",
                            "      <td>1.0</td>\n",
                            "      <td>0.0</td>\n",
                            "      <td>0.0</td>\n",
                            "      <td>0.0</td>\n",
                            "      <td>0.0</td>\n",
                            "      <td>0.0</td>\n",
                            "      <td>...</td>\n",
                            "      <td>0.0</td>\n",
                            "      <td>0.0</td>\n",
                            "      <td>0.0</td>\n",
                            "      <td>0.0</td>\n",
                            "      <td>0.0</td>\n",
                            "      <td>0.0</td>\n",
                            "      <td>0.0</td>\n",
                            "      <td>0.0</td>\n",
                            "      <td>0.0</td>\n",
                            "      <td>The GlenDronach 18 Year Old Allardice</td>\n",
                            "    </tr>\n",
                            "    <tr>\n",
                            "      <th>2</th>\n",
                            "      <td>0.0</td>\n",
                            "      <td>0.0</td>\n",
                            "      <td>1.0</td>\n",
                            "      <td>0.0</td>\n",
                            "      <td>0.0</td>\n",
                            "      <td>1.0</td>\n",
                            "      <td>1.0</td>\n",
                            "      <td>1.0</td>\n",
                            "      <td>0.0</td>\n",
                            "      <td>0.0</td>\n",
                            "      <td>...</td>\n",
                            "      <td>0.0</td>\n",
                            "      <td>0.0</td>\n",
                            "      <td>0.0</td>\n",
                            "      <td>0.0</td>\n",
                            "      <td>0.0</td>\n",
                            "      <td>0.0</td>\n",
                            "      <td>0.0</td>\n",
                            "      <td>0.0</td>\n",
                            "      <td>0.0</td>\n",
                            "      <td>Lagavulin 2005 (bottled 2020) Pedro Ximénez Ca...</td>\n",
                            "    </tr>\n",
                            "    <tr>\n",
                            "      <th>3</th>\n",
                            "      <td>0.0</td>\n",
                            "      <td>0.0</td>\n",
                            "      <td>0.0</td>\n",
                            "      <td>0.0</td>\n",
                            "      <td>0.0</td>\n",
                            "      <td>0.0</td>\n",
                            "      <td>1.0</td>\n",
                            "      <td>0.0</td>\n",
                            "      <td>1.0</td>\n",
                            "      <td>1.0</td>\n",
                            "      <td>...</td>\n",
                            "      <td>0.0</td>\n",
                            "      <td>0.0</td>\n",
                            "      <td>0.0</td>\n",
                            "      <td>0.0</td>\n",
                            "      <td>0.0</td>\n",
                            "      <td>0.0</td>\n",
                            "      <td>0.0</td>\n",
                            "      <td>0.0</td>\n",
                            "      <td>0.0</td>\n",
                            "      <td>Glenfarclas 15 Year Old</td>\n",
                            "    </tr>\n",
                            "    <tr>\n",
                            "      <th>4</th>\n",
                            "      <td>0.0</td>\n",
                            "      <td>1.0</td>\n",
                            "      <td>0.0</td>\n",
                            "      <td>0.0</td>\n",
                            "      <td>0.0</td>\n",
                            "      <td>0.0</td>\n",
                            "      <td>0.0</td>\n",
                            "      <td>0.0</td>\n",
                            "      <td>0.0</td>\n",
                            "      <td>1.0</td>\n",
                            "      <td>...</td>\n",
                            "      <td>0.0</td>\n",
                            "      <td>0.0</td>\n",
                            "      <td>0.0</td>\n",
                            "      <td>0.0</td>\n",
                            "      <td>0.0</td>\n",
                            "      <td>0.0</td>\n",
                            "      <td>0.0</td>\n",
                            "      <td>0.0</td>\n",
                            "      <td>0.0</td>\n",
                            "      <td>Darkness 8 Year Old</td>\n",
                            "    </tr>\n",
                            "  </tbody>\n",
                            "</table>\n",
                            "<p>5 rows × 375 columns</p>\n",
                            "</div>"
                        ],
                        "text/plain": [
                            "   palate: nut  palate: oak  palate: toffee  palate: chocolate  \\\n",
                            "0          1.0          1.0             1.0                0.0   \n",
                            "1          0.0          0.0             0.0                1.0   \n",
                            "2          0.0          0.0             1.0                0.0   \n",
                            "3          0.0          0.0             0.0                0.0   \n",
                            "4          0.0          1.0             0.0                0.0   \n",
                            "\n",
                            "   palate: hazelnut  palate: almond  palate: date  palate: smoke  \\\n",
                            "0               0.0             0.0           0.0            0.0   \n",
                            "1               1.0             0.0           0.0            0.0   \n",
                            "2               0.0             1.0           1.0            1.0   \n",
                            "3               0.0             0.0           1.0            0.0   \n",
                            "4               0.0             0.0           0.0            0.0   \n",
                            "\n",
                            "   palate: orange_peel  palate: raisin  ...  finish: subtly  finish: apricot  \\\n",
                            "0                  0.0             0.0  ...             0.0              0.0   \n",
                            "1                  0.0             0.0  ...             0.0              0.0   \n",
                            "2                  0.0             0.0  ...             0.0              0.0   \n",
                            "3                  1.0             1.0  ...             0.0              0.0   \n",
                            "4                  0.0             1.0  ...             0.0              0.0   \n",
                            "\n",
                            "   finish: light  finish: walnut  finish: juicy  finish: butterscotch  \\\n",
                            "0            0.0             0.0            0.0                   0.0   \n",
                            "1            0.0             0.0            0.0                   0.0   \n",
                            "2            0.0             0.0            0.0                   0.0   \n",
                            "3            0.0             0.0            0.0                   0.0   \n",
                            "4            0.0             0.0            0.0                   0.0   \n",
                            "\n",
                            "   finish: peach  finish: medium  finish: white  \\\n",
                            "0            0.0             0.0            0.0   \n",
                            "1            0.0             0.0            0.0   \n",
                            "2            0.0             0.0            0.0   \n",
                            "3            0.0             0.0            0.0   \n",
                            "4            0.0             0.0            0.0   \n",
                            "\n",
                            "                                                name  \n",
                            "0                  Singleton of Dufftown 12 Year Old  \n",
                            "1              The GlenDronach 18 Year Old Allardice  \n",
                            "2  Lagavulin 2005 (bottled 2020) Pedro Ximénez Ca...  \n",
                            "3                            Glenfarclas 15 Year Old  \n",
                            "4                                Darkness 8 Year Old  \n",
                            "\n",
                            "[5 rows x 375 columns]"
                        ]
                    },
                    "execution_count": 67,
                    "metadata": {},
                    "output_type": "execute_result"
                }
            ],
            "source": [
                "term_freq_df = gen_sensory_BoW_df(new_whisk3, reduced_gensim_dict)\n",
                "term_freq_df.head()"
            ]
        },
        {
            "cell_type": "markdown",
            "metadata": {},
            "source": [
                "We created a BoW with the three types of tasting notes -- palate, nose, and finish -- with separate dictionaries/corpuses. This might be the way to go so we've saved this non-unified BoW dataframe to file:"
            ]
        },
        {
            "cell_type": "code",
            "execution_count": 68,
            "metadata": {},
            "outputs": [],
            "source": [
                "cols_to_drop = [\"palate_tokenized\", \"nose_tokenized\", \"finish_tokenized\"]\n",
                "new_whisk4 = pd.concat([new_whisk3.set_index('name'), term_freq_df.set_index('name')], axis = 1).reset_index().drop(columns = cols_to_drop)"
            ]
        },
        {
            "cell_type": "code",
            "execution_count": 69,
            "metadata": {},
            "outputs": [
                {
                    "data": {
                        "text/html": [
                            "<div>\n",
                            "<style scoped>\n",
                            "    .dataframe tbody tr th:only-of-type {\n",
                            "        vertical-align: middle;\n",
                            "    }\n",
                            "\n",
                            "    .dataframe tbody tr th {\n",
                            "        vertical-align: top;\n",
                            "    }\n",
                            "\n",
                            "    .dataframe thead th {\n",
                            "        text-align: right;\n",
                            "    }\n",
                            "</style>\n",
                            "<table border=\"1\" class=\"dataframe\">\n",
                            "  <thead>\n",
                            "    <tr style=\"text-align: right;\">\n",
                            "      <th></th>\n",
                            "      <th>name</th>\n",
                            "      <th>price</th>\n",
                            "      <th>region</th>\n",
                            "      <th>distillery</th>\n",
                            "      <th>bottler</th>\n",
                            "      <th>age</th>\n",
                            "      <th>ABV</th>\n",
                            "      <th>chill_filter</th>\n",
                            "      <th>cask_strength</th>\n",
                            "      <th>maturation_bourbon</th>\n",
                            "      <th>...</th>\n",
                            "      <th>finish: earth</th>\n",
                            "      <th>finish: subtly</th>\n",
                            "      <th>finish: apricot</th>\n",
                            "      <th>finish: light</th>\n",
                            "      <th>finish: walnut</th>\n",
                            "      <th>finish: juicy</th>\n",
                            "      <th>finish: butterscotch</th>\n",
                            "      <th>finish: peach</th>\n",
                            "      <th>finish: medium</th>\n",
                            "      <th>finish: white</th>\n",
                            "    </tr>\n",
                            "  </thead>\n",
                            "  <tbody>\n",
                            "    <tr>\n",
                            "      <th>0</th>\n",
                            "      <td>Singleton of Dufftown 12 Year Old</td>\n",
                            "      <td>40.42</td>\n",
                            "      <td>Speyside Whisky</td>\n",
                            "      <td>Dufftown</td>\n",
                            "      <td>Dufftown</td>\n",
                            "      <td>12.0</td>\n",
                            "      <td>40.0</td>\n",
                            "      <td>NaN</td>\n",
                            "      <td>NaN</td>\n",
                            "      <td>0.0</td>\n",
                            "      <td>...</td>\n",
                            "      <td>0.0</td>\n",
                            "      <td>0.0</td>\n",
                            "      <td>0.0</td>\n",
                            "      <td>0.0</td>\n",
                            "      <td>0.0</td>\n",
                            "      <td>0.0</td>\n",
                            "      <td>0.0</td>\n",
                            "      <td>0.0</td>\n",
                            "      <td>0.0</td>\n",
                            "      <td>0.0</td>\n",
                            "    </tr>\n",
                            "    <tr>\n",
                            "      <th>1</th>\n",
                            "      <td>The GlenDronach 18 Year Old Allardice</td>\n",
                            "      <td>112.30</td>\n",
                            "      <td>Highland Whisky</td>\n",
                            "      <td>GlenDronach</td>\n",
                            "      <td>GlenDronach</td>\n",
                            "      <td>18.0</td>\n",
                            "      <td>46.0</td>\n",
                            "      <td>NaN</td>\n",
                            "      <td>NaN</td>\n",
                            "      <td>0.0</td>\n",
                            "      <td>...</td>\n",
                            "      <td>0.0</td>\n",
                            "      <td>0.0</td>\n",
                            "      <td>0.0</td>\n",
                            "      <td>0.0</td>\n",
                            "      <td>0.0</td>\n",
                            "      <td>0.0</td>\n",
                            "      <td>0.0</td>\n",
                            "      <td>0.0</td>\n",
                            "      <td>0.0</td>\n",
                            "      <td>0.0</td>\n",
                            "    </tr>\n",
                            "    <tr>\n",
                            "      <th>2</th>\n",
                            "      <td>Lagavulin 2005 (bottled 2020) Pedro Ximénez Ca...</td>\n",
                            "      <td>99.70</td>\n",
                            "      <td>Islay Whisky</td>\n",
                            "      <td>Lagavulin</td>\n",
                            "      <td>Lagavulin</td>\n",
                            "      <td>NaN</td>\n",
                            "      <td>43.0</td>\n",
                            "      <td>NaN</td>\n",
                            "      <td>NaN</td>\n",
                            "      <td>0.0</td>\n",
                            "      <td>...</td>\n",
                            "      <td>0.0</td>\n",
                            "      <td>0.0</td>\n",
                            "      <td>0.0</td>\n",
                            "      <td>0.0</td>\n",
                            "      <td>0.0</td>\n",
                            "      <td>0.0</td>\n",
                            "      <td>0.0</td>\n",
                            "      <td>0.0</td>\n",
                            "      <td>0.0</td>\n",
                            "      <td>0.0</td>\n",
                            "    </tr>\n",
                            "    <tr>\n",
                            "      <th>3</th>\n",
                            "      <td>Glenfarclas 15 Year Old</td>\n",
                            "      <td>56.12</td>\n",
                            "      <td>Speyside Whisky</td>\n",
                            "      <td>Glenfarclas</td>\n",
                            "      <td>Glenfarclas</td>\n",
                            "      <td>15.0</td>\n",
                            "      <td>46.0</td>\n",
                            "      <td>NaN</td>\n",
                            "      <td>NaN</td>\n",
                            "      <td>NaN</td>\n",
                            "      <td>...</td>\n",
                            "      <td>0.0</td>\n",
                            "      <td>0.0</td>\n",
                            "      <td>0.0</td>\n",
                            "      <td>0.0</td>\n",
                            "      <td>0.0</td>\n",
                            "      <td>0.0</td>\n",
                            "      <td>0.0</td>\n",
                            "      <td>0.0</td>\n",
                            "      <td>0.0</td>\n",
                            "      <td>0.0</td>\n",
                            "    </tr>\n",
                            "    <tr>\n",
                            "      <th>4</th>\n",
                            "      <td>Darkness 8 Year Old</td>\n",
                            "      <td>57.28</td>\n",
                            "      <td>Scotch Whisky</td>\n",
                            "      <td>Darkness</td>\n",
                            "      <td>Darkness</td>\n",
                            "      <td>8.0</td>\n",
                            "      <td>47.8</td>\n",
                            "      <td>False</td>\n",
                            "      <td>NaN</td>\n",
                            "      <td>1.0</td>\n",
                            "      <td>...</td>\n",
                            "      <td>0.0</td>\n",
                            "      <td>0.0</td>\n",
                            "      <td>0.0</td>\n",
                            "      <td>0.0</td>\n",
                            "      <td>0.0</td>\n",
                            "      <td>0.0</td>\n",
                            "      <td>0.0</td>\n",
                            "      <td>0.0</td>\n",
                            "      <td>0.0</td>\n",
                            "      <td>0.0</td>\n",
                            "    </tr>\n",
                            "  </tbody>\n",
                            "</table>\n",
                            "<p>5 rows × 395 columns</p>\n",
                            "</div>"
                        ],
                        "text/plain": [
                            "                                                name   price           region  \\\n",
                            "0                  Singleton of Dufftown 12 Year Old   40.42  Speyside Whisky   \n",
                            "1              The GlenDronach 18 Year Old Allardice  112.30  Highland Whisky   \n",
                            "2  Lagavulin 2005 (bottled 2020) Pedro Ximénez Ca...   99.70     Islay Whisky   \n",
                            "3                            Glenfarclas 15 Year Old   56.12  Speyside Whisky   \n",
                            "4                                Darkness 8 Year Old   57.28    Scotch Whisky   \n",
                            "\n",
                            "    distillery      bottler   age   ABV chill_filter cask_strength  \\\n",
                            "0     Dufftown     Dufftown  12.0  40.0          NaN           NaN   \n",
                            "1  GlenDronach  GlenDronach  18.0  46.0          NaN           NaN   \n",
                            "2    Lagavulin    Lagavulin   NaN  43.0          NaN           NaN   \n",
                            "3  Glenfarclas  Glenfarclas  15.0  46.0          NaN           NaN   \n",
                            "4     Darkness     Darkness   8.0  47.8        False           NaN   \n",
                            "\n",
                            "   maturation_bourbon  ...  finish: earth  finish: subtly  finish: apricot  \\\n",
                            "0                 0.0  ...            0.0             0.0              0.0   \n",
                            "1                 0.0  ...            0.0             0.0              0.0   \n",
                            "2                 0.0  ...            0.0             0.0              0.0   \n",
                            "3                 NaN  ...            0.0             0.0              0.0   \n",
                            "4                 1.0  ...            0.0             0.0              0.0   \n",
                            "\n",
                            "   finish: light  finish: walnut  finish: juicy  finish: butterscotch  \\\n",
                            "0            0.0             0.0            0.0                   0.0   \n",
                            "1            0.0             0.0            0.0                   0.0   \n",
                            "2            0.0             0.0            0.0                   0.0   \n",
                            "3            0.0             0.0            0.0                   0.0   \n",
                            "4            0.0             0.0            0.0                   0.0   \n",
                            "\n",
                            "   finish: peach  finish: medium  finish: white  \n",
                            "0            0.0             0.0            0.0  \n",
                            "1            0.0             0.0            0.0  \n",
                            "2            0.0             0.0            0.0  \n",
                            "3            0.0             0.0            0.0  \n",
                            "4            0.0             0.0            0.0  \n",
                            "\n",
                            "[5 rows x 395 columns]"
                        ]
                    },
                    "execution_count": 69,
                    "metadata": {},
                    "output_type": "execute_result"
                }
            ],
            "source": [
                "new_whisk4.head()"
            ]
        },
        {
            "cell_type": "code",
            "execution_count": 70,
            "metadata": {},
            "outputs": [],
            "source": [
                "new_whisk4.to_csv(\"data\\\\interim\\\\whisk_bow_encoded.csv\")"
            ]
        },
        {
            "cell_type": "code",
            "execution_count": 71,
            "metadata": {},
            "outputs": [
                {
                    "data": {
                        "text/plain": [
                            "Index(['name', 'price', 'region', 'distillery', 'bottler', 'age', 'ABV',\n",
                            "       'chill_filter', 'cask_strength', 'maturation_bourbon',\n",
                            "       ...\n",
                            "       'finish: earth', 'finish: subtly', 'finish: apricot', 'finish: light',\n",
                            "       'finish: walnut', 'finish: juicy', 'finish: butterscotch',\n",
                            "       'finish: peach', 'finish: medium', 'finish: white'],\n",
                            "      dtype='object', length=395)"
                        ]
                    },
                    "execution_count": 71,
                    "metadata": {},
                    "output_type": "execute_result"
                }
            ],
            "source": [
                "new_whisk4.columns"
            ]
        },
        {
            "cell_type": "markdown",
            "metadata": {},
            "source": [
                "Let's also create a BoW for the unified token set where the descriptors for palate, nose, and finish were put into the same corpus."
            ]
        },
        {
            "cell_type": "code",
            "execution_count": 72,
            "metadata": {},
            "outputs": [],
            "source": [
                "\n",
                "corpus_unified = [gensim_dict_unified.doc2bow(doc) for doc in whisk_unified['token_unified']]\n",
                "token_names = list(gensim_dict_unified.values())\n",
                "bow_df_unified = pd.DataFrame(corpus2dense(corpus_unified, num_terms = len(gensim_dict_unified.token2id)).T, columns = token_names)\n",
                "\n",
                "bow_df_unified['name'] = whisk_unified.name\n",
                "\n",
                "cols_to_drop = ['token_unified']\n",
                "bow_unified_final = pd.concat([whisk_unified.set_index('name'), bow_df_unified.set_index('name')], axis = 1).reset_index().drop(columns = cols_to_drop)\n"
            ]
        },
        {
            "cell_type": "code",
            "execution_count": 73,
            "metadata": {},
            "outputs": [
                {
                    "data": {
                        "text/html": [
                            "<div>\n",
                            "<style scoped>\n",
                            "    .dataframe tbody tr th:only-of-type {\n",
                            "        vertical-align: middle;\n",
                            "    }\n",
                            "\n",
                            "    .dataframe tbody tr th {\n",
                            "        vertical-align: top;\n",
                            "    }\n",
                            "\n",
                            "    .dataframe thead th {\n",
                            "        text-align: right;\n",
                            "    }\n",
                            "</style>\n",
                            "<table border=\"1\" class=\"dataframe\">\n",
                            "  <thead>\n",
                            "    <tr style=\"text-align: right;\">\n",
                            "      <th></th>\n",
                            "      <th>name</th>\n",
                            "      <th>price</th>\n",
                            "      <th>region</th>\n",
                            "      <th>distillery</th>\n",
                            "      <th>bottler</th>\n",
                            "      <th>age</th>\n",
                            "      <th>ABV</th>\n",
                            "      <th>chill_filter</th>\n",
                            "      <th>cask_strength</th>\n",
                            "      <th>maturation_bourbon</th>\n",
                            "      <th>...</th>\n",
                            "      <th>strong</th>\n",
                            "      <th>huge</th>\n",
                            "      <th>latte</th>\n",
                            "      <th>right</th>\n",
                            "      <th>warming</th>\n",
                            "      <th>pine_resin</th>\n",
                            "      <th>exotic_spice</th>\n",
                            "      <th>star_anise</th>\n",
                            "      <th>porridge_oats</th>\n",
                            "      <th>particularly</th>\n",
                            "    </tr>\n",
                            "  </thead>\n",
                            "  <tbody>\n",
                            "    <tr>\n",
                            "      <th>0</th>\n",
                            "      <td>Singleton of Dufftown 12 Year Old</td>\n",
                            "      <td>40.42</td>\n",
                            "      <td>Speyside Whisky</td>\n",
                            "      <td>Dufftown</td>\n",
                            "      <td>Dufftown</td>\n",
                            "      <td>12.0</td>\n",
                            "      <td>40.0</td>\n",
                            "      <td>NaN</td>\n",
                            "      <td>NaN</td>\n",
                            "      <td>0.0</td>\n",
                            "      <td>...</td>\n",
                            "      <td>0.0</td>\n",
                            "      <td>0.0</td>\n",
                            "      <td>0.0</td>\n",
                            "      <td>0.0</td>\n",
                            "      <td>0.0</td>\n",
                            "      <td>0.0</td>\n",
                            "      <td>0.0</td>\n",
                            "      <td>0.0</td>\n",
                            "      <td>0.0</td>\n",
                            "      <td>0.0</td>\n",
                            "    </tr>\n",
                            "    <tr>\n",
                            "      <th>1</th>\n",
                            "      <td>The GlenDronach 18 Year Old Allardice</td>\n",
                            "      <td>112.30</td>\n",
                            "      <td>Highland Whisky</td>\n",
                            "      <td>GlenDronach</td>\n",
                            "      <td>GlenDronach</td>\n",
                            "      <td>18.0</td>\n",
                            "      <td>46.0</td>\n",
                            "      <td>NaN</td>\n",
                            "      <td>NaN</td>\n",
                            "      <td>0.0</td>\n",
                            "      <td>...</td>\n",
                            "      <td>0.0</td>\n",
                            "      <td>0.0</td>\n",
                            "      <td>0.0</td>\n",
                            "      <td>0.0</td>\n",
                            "      <td>0.0</td>\n",
                            "      <td>0.0</td>\n",
                            "      <td>0.0</td>\n",
                            "      <td>0.0</td>\n",
                            "      <td>0.0</td>\n",
                            "      <td>0.0</td>\n",
                            "    </tr>\n",
                            "    <tr>\n",
                            "      <th>2</th>\n",
                            "      <td>Lagavulin 2005 (bottled 2020) Pedro Ximénez Ca...</td>\n",
                            "      <td>99.70</td>\n",
                            "      <td>Islay Whisky</td>\n",
                            "      <td>Lagavulin</td>\n",
                            "      <td>Lagavulin</td>\n",
                            "      <td>NaN</td>\n",
                            "      <td>43.0</td>\n",
                            "      <td>NaN</td>\n",
                            "      <td>NaN</td>\n",
                            "      <td>0.0</td>\n",
                            "      <td>...</td>\n",
                            "      <td>0.0</td>\n",
                            "      <td>0.0</td>\n",
                            "      <td>0.0</td>\n",
                            "      <td>0.0</td>\n",
                            "      <td>0.0</td>\n",
                            "      <td>0.0</td>\n",
                            "      <td>0.0</td>\n",
                            "      <td>0.0</td>\n",
                            "      <td>0.0</td>\n",
                            "      <td>0.0</td>\n",
                            "    </tr>\n",
                            "    <tr>\n",
                            "      <th>3</th>\n",
                            "      <td>Glenfarclas 15 Year Old</td>\n",
                            "      <td>56.12</td>\n",
                            "      <td>Speyside Whisky</td>\n",
                            "      <td>Glenfarclas</td>\n",
                            "      <td>Glenfarclas</td>\n",
                            "      <td>15.0</td>\n",
                            "      <td>46.0</td>\n",
                            "      <td>NaN</td>\n",
                            "      <td>NaN</td>\n",
                            "      <td>NaN</td>\n",
                            "      <td>...</td>\n",
                            "      <td>0.0</td>\n",
                            "      <td>0.0</td>\n",
                            "      <td>0.0</td>\n",
                            "      <td>0.0</td>\n",
                            "      <td>0.0</td>\n",
                            "      <td>0.0</td>\n",
                            "      <td>0.0</td>\n",
                            "      <td>0.0</td>\n",
                            "      <td>0.0</td>\n",
                            "      <td>0.0</td>\n",
                            "    </tr>\n",
                            "    <tr>\n",
                            "      <th>4</th>\n",
                            "      <td>Darkness 8 Year Old</td>\n",
                            "      <td>57.28</td>\n",
                            "      <td>Scotch Whisky</td>\n",
                            "      <td>Darkness</td>\n",
                            "      <td>Darkness</td>\n",
                            "      <td>8.0</td>\n",
                            "      <td>47.8</td>\n",
                            "      <td>False</td>\n",
                            "      <td>NaN</td>\n",
                            "      <td>1.0</td>\n",
                            "      <td>...</td>\n",
                            "      <td>0.0</td>\n",
                            "      <td>0.0</td>\n",
                            "      <td>0.0</td>\n",
                            "      <td>0.0</td>\n",
                            "      <td>0.0</td>\n",
                            "      <td>0.0</td>\n",
                            "      <td>0.0</td>\n",
                            "      <td>0.0</td>\n",
                            "      <td>0.0</td>\n",
                            "      <td>0.0</td>\n",
                            "    </tr>\n",
                            "  </tbody>\n",
                            "</table>\n",
                            "<p>5 rows × 498 columns</p>\n",
                            "</div>"
                        ],
                        "text/plain": [
                            "                                                name   price           region  \\\n",
                            "0                  Singleton of Dufftown 12 Year Old   40.42  Speyside Whisky   \n",
                            "1              The GlenDronach 18 Year Old Allardice  112.30  Highland Whisky   \n",
                            "2  Lagavulin 2005 (bottled 2020) Pedro Ximénez Ca...   99.70     Islay Whisky   \n",
                            "3                            Glenfarclas 15 Year Old   56.12  Speyside Whisky   \n",
                            "4                                Darkness 8 Year Old   57.28    Scotch Whisky   \n",
                            "\n",
                            "    distillery      bottler   age   ABV chill_filter cask_strength  \\\n",
                            "0     Dufftown     Dufftown  12.0  40.0          NaN           NaN   \n",
                            "1  GlenDronach  GlenDronach  18.0  46.0          NaN           NaN   \n",
                            "2    Lagavulin    Lagavulin   NaN  43.0          NaN           NaN   \n",
                            "3  Glenfarclas  Glenfarclas  15.0  46.0          NaN           NaN   \n",
                            "4     Darkness     Darkness   8.0  47.8        False           NaN   \n",
                            "\n",
                            "   maturation_bourbon  ...  strong  huge  latte  right  warming  pine_resin  \\\n",
                            "0                 0.0  ...     0.0   0.0    0.0    0.0      0.0         0.0   \n",
                            "1                 0.0  ...     0.0   0.0    0.0    0.0      0.0         0.0   \n",
                            "2                 0.0  ...     0.0   0.0    0.0    0.0      0.0         0.0   \n",
                            "3                 NaN  ...     0.0   0.0    0.0    0.0      0.0         0.0   \n",
                            "4                 1.0  ...     0.0   0.0    0.0    0.0      0.0         0.0   \n",
                            "\n",
                            "   exotic_spice  star_anise  porridge_oats  particularly  \n",
                            "0           0.0         0.0            0.0           0.0  \n",
                            "1           0.0         0.0            0.0           0.0  \n",
                            "2           0.0         0.0            0.0           0.0  \n",
                            "3           0.0         0.0            0.0           0.0  \n",
                            "4           0.0         0.0            0.0           0.0  \n",
                            "\n",
                            "[5 rows x 498 columns]"
                        ]
                    },
                    "execution_count": 73,
                    "metadata": {},
                    "output_type": "execute_result"
                }
            ],
            "source": [
                "bow_unified_final.head()"
            ]
        },
        {
            "cell_type": "markdown",
            "metadata": {},
            "source": [
                "Let's save this dataframe to disk:"
            ]
        },
        {
            "cell_type": "code",
            "execution_count": 74,
            "metadata": {},
            "outputs": [],
            "source": [
                "bow_unified_final.to_csv(\"data\\\\interim\\\\whiskunified_bow_encoded.csv\")"
            ]
        }
    ],
    "metadata": {
        "interpreter": {
            "hash": "95508d1f9e276930ee7bf977622471e4c9572bc985693ed5ef89eacdfe75f4af"
        },
        "kernelspec": {
            "display_name": "Python 3.8.11 64-bit ('sb_cpstone3': conda)",
            "name": "python3"
        },
        "language_info": {
            "codemirror_mode": {
                "name": "ipython",
                "version": 3
            },
            "file_extension": ".py",
            "mimetype": "text/x-python",
            "name": "python",
            "nbconvert_exporter": "python",
            "pygments_lexer": "ipython3",
            "version": "3.8.11"
        },
        "orig_nbformat": 4
    },
    "nbformat": 4,
    "nbformat_minor": 2
}
