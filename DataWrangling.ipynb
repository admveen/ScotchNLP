{
    "cells": [
        {
            "cell_type": "markdown",
            "source": [
                "# Scotch Whisky Exploration: Data Wrangling"
            ],
            "metadata": {}
        },
        {
            "cell_type": "code",
            "execution_count": 456,
            "source": [
                "import numpy as np\r\n",
                "import pandas as pd\r\n",
                "import re\r\n",
                "import spacy\r\n"
            ],
            "outputs": [],
            "metadata": {}
        },
        {
            "cell_type": "markdown",
            "source": [
                "Load data from the JSON file created by our scrapy Spider."
            ],
            "metadata": {}
        },
        {
            "cell_type": "code",
            "execution_count": 2,
            "source": [
                "whiskydf_raw = pd.read_json(\"whiskeyscraper/MoM_whiskydata.json\")"
            ],
            "outputs": [],
            "metadata": {}
        },
        {
            "cell_type": "code",
            "execution_count": 3,
            "source": [
                "whiskydf_raw.head(2)"
            ],
            "outputs": [
                {
                    "output_type": "execute_result",
                    "data": {
                        "text/html": [
                            "<div>\n",
                            "<style scoped>\n",
                            "    .dataframe tbody tr th:only-of-type {\n",
                            "        vertical-align: middle;\n",
                            "    }\n",
                            "\n",
                            "    .dataframe tbody tr th {\n",
                            "        vertical-align: top;\n",
                            "    }\n",
                            "\n",
                            "    .dataframe thead th {\n",
                            "        text-align: right;\n",
                            "    }\n",
                            "</style>\n",
                            "<table border=\"1\" class=\"dataframe\">\n",
                            "  <thead>\n",
                            "    <tr style=\"text-align: right;\">\n",
                            "      <th></th>\n",
                            "      <th>name</th>\n",
                            "      <th>nose</th>\n",
                            "      <th>palate</th>\n",
                            "      <th>finish</th>\n",
                            "      <th>description</th>\n",
                            "      <th>region</th>\n",
                            "      <th>style</th>\n",
                            "      <th>distillery</th>\n",
                            "      <th>bottler</th>\n",
                            "      <th>age</th>\n",
                            "      <th>alcohol</th>\n",
                            "      <th>maturation</th>\n",
                            "      <th>chill_filter</th>\n",
                            "      <th>cask_strength</th>\n",
                            "    </tr>\n",
                            "  </thead>\n",
                            "  <tbody>\n",
                            "    <tr>\n",
                            "      <th>0</th>\n",
                            "      <td>Singleton of Dufftown 12 Year Old</td>\n",
                            "      <td>Malty with cereal/barley sweetness, buttery to...</td>\n",
                            "      <td>Orange zest spiciness perks up a malty core of...</td>\n",
                            "      <td>Oaky, rich with good length, some fruit lingers.</td>\n",
                            "      <td>A straightforward, nutty and malty single malt...</td>\n",
                            "      <td>Speyside Whisky</td>\n",
                            "      <td>Single Malt Whisky</td>\n",
                            "      <td>Dufftown</td>\n",
                            "      <td>Dufftown</td>\n",
                            "      <td>12 year old Whisky</td>\n",
                            "      <td>40.0%</td>\n",
                            "      <td>NaN</td>\n",
                            "      <td>NaN</td>\n",
                            "      <td>NaN</td>\n",
                            "    </tr>\n",
                            "    <tr>\n",
                            "      <th>1</th>\n",
                            "      <td>Laphroaig 10 Year Old Sherry Oak Finish</td>\n",
                            "      <td>Smoked meats, maple syrup, BBQ lemon, charred ...</td>\n",
                            "      <td>More roasted cedar and peat smoke, with a hint...</td>\n",
                            "      <td>A balanced finish of sherried sweetness and sm...</td>\n",
                            "      <td>Smoke and sherry here from Laphroaig! The lege...</td>\n",
                            "      <td>Islay Whisky</td>\n",
                            "      <td>Single Malt Whisky</td>\n",
                            "      <td>Laphroaig</td>\n",
                            "      <td>Laphroaig</td>\n",
                            "      <td>10 year old Whisky</td>\n",
                            "      <td>48.0%</td>\n",
                            "      <td>NaN</td>\n",
                            "      <td>NaN</td>\n",
                            "      <td>NaN</td>\n",
                            "    </tr>\n",
                            "  </tbody>\n",
                            "</table>\n",
                            "</div>"
                        ],
                        "text/plain": [
                            "                                      name  \\\n",
                            "0        Singleton of Dufftown 12 Year Old   \n",
                            "1  Laphroaig 10 Year Old Sherry Oak Finish   \n",
                            "\n",
                            "                                                nose  \\\n",
                            "0  Malty with cereal/barley sweetness, buttery to...   \n",
                            "1  Smoked meats, maple syrup, BBQ lemon, charred ...   \n",
                            "\n",
                            "                                              palate  \\\n",
                            "0  Orange zest spiciness perks up a malty core of...   \n",
                            "1  More roasted cedar and peat smoke, with a hint...   \n",
                            "\n",
                            "                                              finish  \\\n",
                            "0   Oaky, rich with good length, some fruit lingers.   \n",
                            "1  A balanced finish of sherried sweetness and sm...   \n",
                            "\n",
                            "                                         description           region  \\\n",
                            "0  A straightforward, nutty and malty single malt...  Speyside Whisky   \n",
                            "1  Smoke and sherry here from Laphroaig! The lege...     Islay Whisky   \n",
                            "\n",
                            "                style distillery    bottler                 age alcohol  \\\n",
                            "0  Single Malt Whisky   Dufftown   Dufftown  12 year old Whisky   40.0%   \n",
                            "1  Single Malt Whisky  Laphroaig  Laphroaig  10 year old Whisky   48.0%   \n",
                            "\n",
                            "  maturation chill_filter cask_strength  \n",
                            "0        NaN          NaN           NaN  \n",
                            "1        NaN          NaN           NaN  "
                        ]
                    },
                    "metadata": {},
                    "execution_count": 3
                }
            ],
            "metadata": {}
        },
        {
            "cell_type": "markdown",
            "source": [
                "## Initial Data Clean\r\n",
                "#### Dropping observations with no reviews or missing taste,nose, and finish notes.\r\n",
                "#### Coverting/cleaning numeric columns. "
            ],
            "metadata": {}
        },
        {
            "cell_type": "code",
            "execution_count": 4,
            "source": [
                "whiskydf_raw.info()"
            ],
            "outputs": [
                {
                    "output_type": "stream",
                    "name": "stdout",
                    "text": [
                        "<class 'pandas.core.frame.DataFrame'>\n",
                        "RangeIndex: 14143 entries, 0 to 14142\n",
                        "Data columns (total 14 columns):\n",
                        " #   Column         Non-Null Count  Dtype \n",
                        "---  ------         --------------  ----- \n",
                        " 0   name           14143 non-null  object\n",
                        " 1   nose           8553 non-null   object\n",
                        " 2   palate         8552 non-null   object\n",
                        " 3   finish         8488 non-null   object\n",
                        " 4   description    14143 non-null  object\n",
                        " 5   region         14143 non-null  object\n",
                        " 6   style          14143 non-null  object\n",
                        " 7   distillery     14143 non-null  object\n",
                        " 8   bottler        14142 non-null  object\n",
                        " 9   age            10667 non-null  object\n",
                        " 10  alcohol        14142 non-null  object\n",
                        " 11  maturation     2376 non-null   object\n",
                        " 12  chill_filter   479 non-null    object\n",
                        " 13  cask_strength  1022 non-null   object\n",
                        "dtypes: object(14)\n",
                        "memory usage: 1.5+ MB\n"
                    ]
                }
            ],
            "metadata": {}
        },
        {
            "cell_type": "markdown",
            "source": [
                "### Let's keep the subset of whiskeys where there are tasting notes (e.g. where nose, palate, and finish are not null)"
            ],
            "metadata": {}
        },
        {
            "cell_type": "code",
            "execution_count": 5,
            "source": [
                "tastingnote_cols = ['nose', 'palate', 'finish']\r\n",
                "\r\n",
                "whiskydf_raw[tastingnote_cols].isna().all() == True"
            ],
            "outputs": [
                {
                    "output_type": "execute_result",
                    "data": {
                        "text/plain": [
                            "nose      False\n",
                            "palate    False\n",
                            "finish    False\n",
                            "dtype: bool"
                        ]
                    },
                    "metadata": {},
                    "execution_count": 5
                }
            ],
            "metadata": {}
        },
        {
            "cell_type": "markdown",
            "source": [
                "Takes subset where Master of Malt bros have created tasting notes on the whiskey. "
            ],
            "metadata": {}
        },
        {
            "cell_type": "code",
            "execution_count": 6,
            "source": [
                "whisky_df =  whiskydf_raw.dropna(how = \"any\", axis = 0, subset= tastingnote_cols)"
            ],
            "outputs": [],
            "metadata": {}
        },
        {
            "cell_type": "code",
            "execution_count": 7,
            "source": [
                "whisky_df.info()"
            ],
            "outputs": [
                {
                    "output_type": "stream",
                    "name": "stdout",
                    "text": [
                        "<class 'pandas.core.frame.DataFrame'>\n",
                        "Int64Index: 8485 entries, 0 to 14141\n",
                        "Data columns (total 14 columns):\n",
                        " #   Column         Non-Null Count  Dtype \n",
                        "---  ------         --------------  ----- \n",
                        " 0   name           8485 non-null   object\n",
                        " 1   nose           8485 non-null   object\n",
                        " 2   palate         8485 non-null   object\n",
                        " 3   finish         8485 non-null   object\n",
                        " 4   description    8485 non-null   object\n",
                        " 5   region         8485 non-null   object\n",
                        " 6   style          8485 non-null   object\n",
                        " 7   distillery     8485 non-null   object\n",
                        " 8   bottler        8485 non-null   object\n",
                        " 9   age            6557 non-null   object\n",
                        " 10  alcohol        8485 non-null   object\n",
                        " 11  maturation     1613 non-null   object\n",
                        " 12  chill_filter   403 non-null    object\n",
                        " 13  cask_strength  550 non-null    object\n",
                        "dtypes: object(14)\n",
                        "memory usage: 994.3+ KB\n"
                    ]
                }
            ],
            "metadata": {}
        },
        {
            "cell_type": "markdown",
            "source": [
                "Our scraper extracted a good amount of data and it'll be good to see whether there are some entries that don't belong (i.e styles that are not single malt, etc.)"
            ],
            "metadata": {}
        },
        {
            "cell_type": "code",
            "execution_count": 8,
            "source": [
                "whisky_df['style'].unique()"
            ],
            "outputs": [
                {
                    "output_type": "execute_result",
                    "data": {
                        "text/plain": [
                            "array(['Single Malt Whisky'], dtype=object)"
                        ]
                    },
                    "metadata": {},
                    "execution_count": 8
                }
            ],
            "metadata": {}
        },
        {
            "cell_type": "markdown",
            "source": [
                "Alright, so these are all single malt whiskies. Good. But since there's only one value the column carries no information. We'll drop it.  Also there seem to be no disambiguations/mispellings in the Scotch whisky region names. Each unique entry corresponds to a different Scotch whisky making region."
            ],
            "metadata": {}
        },
        {
            "cell_type": "code",
            "execution_count": 9,
            "source": [
                "whisky_df.region.unique()"
            ],
            "outputs": [
                {
                    "output_type": "execute_result",
                    "data": {
                        "text/plain": [
                            "array(['Speyside Whisky', 'Islay Whisky', 'Highland Whisky',\n",
                            "       'Island Whisky', 'Scotch Whisky', 'Lowland Whisky',\n",
                            "       'Campbeltown Whisky', 'Other Scotch Whisky'], dtype=object)"
                        ]
                    },
                    "metadata": {},
                    "execution_count": 9
                }
            ],
            "metadata": {}
        },
        {
            "cell_type": "code",
            "execution_count": 10,
            "source": [
                "whisky_df = whisky_df.drop(columns = ['style'])\r\n",
                "print(whisky_df.columns)"
            ],
            "outputs": [
                {
                    "output_type": "stream",
                    "name": "stdout",
                    "text": [
                        "Index(['name', 'nose', 'palate', 'finish', 'description', 'region',\n",
                        "       'distillery', 'bottler', 'age', 'alcohol', 'maturation', 'chill_filter',\n",
                        "       'cask_strength'],\n",
                        "      dtype='object')\n"
                    ]
                }
            ],
            "metadata": {}
        },
        {
            "cell_type": "markdown",
            "source": [
                "#### Age column\r\n",
                "Now we'll tackle the age column. Generally, the whiskies are matured for years in casks before bottling. The age corresponds to the aging before bottling. But let's check whether there are other units (months, etc.) of aging buried in the data."
            ],
            "metadata": {}
        },
        {
            "cell_type": "code",
            "execution_count": 11,
            "source": [
                "whisky_df.age.head(3)"
            ],
            "outputs": [
                {
                    "output_type": "execute_result",
                    "data": {
                        "text/plain": [
                            "0    12 year old Whisky\n",
                            "1    10 year old Whisky\n",
                            "2    15 year old Whisky\n",
                            "Name: age, dtype: object"
                        ]
                    },
                    "metadata": {},
                    "execution_count": 11
                }
            ],
            "metadata": {}
        },
        {
            "cell_type": "markdown",
            "source": [
                "The second word is the aging unit (year). Let's extract this second word and see if anything else pops up."
            ],
            "metadata": {}
        },
        {
            "cell_type": "code",
            "execution_count": 12,
            "source": [
                "whisky_df.age.str.split().str[1].unique()"
            ],
            "outputs": [
                {
                    "output_type": "execute_result",
                    "data": {
                        "text/plain": [
                            "array(['year', nan], dtype=object)"
                        ]
                    },
                    "metadata": {},
                    "execution_count": 12
                }
            ],
            "metadata": {}
        },
        {
            "cell_type": "markdown",
            "source": [
                "Nope. Either the age is recorded in years or the entry corresponds to a whisky with no age statement. Let's process this understanding that age is in years and convert the column to numeric."
            ],
            "metadata": {}
        },
        {
            "cell_type": "code",
            "execution_count": 13,
            "source": [
                "#convert whiskey age to numeric.\r\n",
                "whisky_df.age = whisky_df.age.str.split(' ').str[0].astype('float')"
            ],
            "outputs": [],
            "metadata": {}
        },
        {
            "cell_type": "code",
            "execution_count": 14,
            "source": [
                "np.sort(whisky_df.age.unique())"
            ],
            "outputs": [
                {
                    "output_type": "execute_result",
                    "data": {
                        "text/plain": [
                            "array([   3.,    4.,    5.,    6.,    7.,    8.,    9.,   10.,   11.,\n",
                            "         12.,   13.,   14.,   15.,   16.,   17.,   18.,   19.,   20.,\n",
                            "         21.,   22.,   23.,   24.,   25.,   26.,   27.,   28.,   29.,\n",
                            "         30.,   31.,   32.,   33.,   34.,   35.,   36.,   37.,   38.,\n",
                            "         39.,   40.,   41.,   42.,   43.,   44.,   45.,   46.,   47.,\n",
                            "         48.,   49.,   50.,   51.,   52.,   54.,   55.,   56.,   60.,\n",
                            "         62.,   64.,   65.,   71.,   78.,  105., 2003.,   nan])"
                        ]
                    },
                    "metadata": {},
                    "execution_count": 14
                }
            ],
            "metadata": {}
        },
        {
            "cell_type": "markdown",
            "source": [
                "105 and 2003 year old whisky are possible outliers. Let's investigate more closely."
            ],
            "metadata": {}
        },
        {
            "cell_type": "code",
            "execution_count": 15,
            "source": [
                "whisky_df[whisky_df.age == 105]"
            ],
            "outputs": [
                {
                    "output_type": "execute_result",
                    "data": {
                        "text/html": [
                            "<div>\n",
                            "<style scoped>\n",
                            "    .dataframe tbody tr th:only-of-type {\n",
                            "        vertical-align: middle;\n",
                            "    }\n",
                            "\n",
                            "    .dataframe tbody tr th {\n",
                            "        vertical-align: top;\n",
                            "    }\n",
                            "\n",
                            "    .dataframe thead th {\n",
                            "        text-align: right;\n",
                            "    }\n",
                            "</style>\n",
                            "<table border=\"1\" class=\"dataframe\">\n",
                            "  <thead>\n",
                            "    <tr style=\"text-align: right;\">\n",
                            "      <th></th>\n",
                            "      <th>name</th>\n",
                            "      <th>nose</th>\n",
                            "      <th>palate</th>\n",
                            "      <th>finish</th>\n",
                            "      <th>description</th>\n",
                            "      <th>region</th>\n",
                            "      <th>distillery</th>\n",
                            "      <th>bottler</th>\n",
                            "      <th>age</th>\n",
                            "      <th>alcohol</th>\n",
                            "      <th>maturation</th>\n",
                            "      <th>chill_filter</th>\n",
                            "      <th>cask_strength</th>\n",
                            "    </tr>\n",
                            "  </thead>\n",
                            "  <tbody>\n",
                            "    <tr>\n",
                            "      <th>9219</th>\n",
                            "      <td>Aisla T'Orten 105 Year Old 1906 - Liquid Histo...</td>\n",
                            "      <td>The most unique bouquet I’ve ever experienced....</td>\n",
                            "      <td>Heaven is spelt “T-O-R-T-E-N”. This conjures u...</td>\n",
                            "      <td>To say this was long would be an understatemen...</td>\n",
                            "      <td>The world's oldest whisky. Read more about thi...</td>\n",
                            "      <td>Highland Whisky</td>\n",
                            "      <td>Aisla T'Orten</td>\n",
                            "      <td>Master of Malt</td>\n",
                            "      <td>105.0</td>\n",
                            "      <td>40.7%</td>\n",
                            "      <td>Sherry</td>\n",
                            "      <td>NaN</td>\n",
                            "      <td>NaN</td>\n",
                            "    </tr>\n",
                            "  </tbody>\n",
                            "</table>\n",
                            "</div>"
                        ],
                        "text/plain": [
                            "                                                   name  \\\n",
                            "9219  Aisla T'Orten 105 Year Old 1906 - Liquid Histo...   \n",
                            "\n",
                            "                                                   nose  \\\n",
                            "9219  The most unique bouquet I’ve ever experienced....   \n",
                            "\n",
                            "                                                 palate  \\\n",
                            "9219  Heaven is spelt “T-O-R-T-E-N”. This conjures u...   \n",
                            "\n",
                            "                                                 finish  \\\n",
                            "9219  To say this was long would be an understatemen...   \n",
                            "\n",
                            "                                            description           region  \\\n",
                            "9219  The world's oldest whisky. Read more about thi...  Highland Whisky   \n",
                            "\n",
                            "         distillery         bottler    age alcohol maturation chill_filter  \\\n",
                            "9219  Aisla T'Orten  Master of Malt  105.0   40.7%     Sherry          NaN   \n",
                            "\n",
                            "     cask_strength  \n",
                            "9219           NaN  "
                        ]
                    },
                    "metadata": {},
                    "execution_count": 15
                }
            ],
            "metadata": {}
        },
        {
            "cell_type": "code",
            "execution_count": 16,
            "source": [
                "whisky_df[whisky_df.age == 105].description.values"
            ],
            "outputs": [
                {
                    "output_type": "execute_result",
                    "data": {
                        "text/plain": [
                            "array([\"The world's oldest whisky. Read more about this extraordinary liquid history over on the Master of Malt blog . OK everyone, we have to come clean! The miraculous discovery of this 105 year old whisky may have had something to do with its launch on April Fools’ Day 2011. It’s also possible that some sneaky anagrams were used in some of the names in the story: Allie Sisell (the discoverer of the cask):  Aethenias Simonvent (the distillery’s founder):  And there’s a good chance that if you rearrange the letters in Aisla T’Orten distillery you get:\"],\n",
                            "      dtype=object)"
                        ]
                    },
                    "metadata": {},
                    "execution_count": 16
                }
            ],
            "metadata": {}
        },
        {
            "cell_type": "markdown",
            "source": [
                "It's an April Fools joke! Gaaaarrrrr!!!! Remove this."
            ],
            "metadata": {}
        },
        {
            "cell_type": "code",
            "execution_count": 17,
            "source": [
                "whisky_df = whisky_df[~(whisky_df.age == 105)]\r\n",
                "print(whisky_df.age.unique())"
            ],
            "outputs": [
                {
                    "output_type": "stream",
                    "name": "stdout",
                    "text": [
                        "[  12.   10.   15.   nan   18.   25.   14.   21.   13.   16.    8.    5.\n",
                        "   11.   26.   23.   43.   28.   24.    9.   30.   29.   42.   19.   27.\n",
                        "   20.   17.    7.   40.    6.   22.   45.    3.   37.   35.   31.   64.\n",
                        "   50.   46.   36.   32.   44.   56.   38.   34.   33.   62.    4.   41.\n",
                        "   39. 2003.   60.   54.   55.   78.   52.   49.   47.   48.   51.   71.\n",
                        "   65.]\n"
                    ]
                }
            ],
            "metadata": {}
        },
        {
            "cell_type": "code",
            "execution_count": 18,
            "source": [
                "whisky_df[whisky_df.age == 2003].description.values"
            ],
            "outputs": [
                {
                    "output_type": "execute_result",
                    "data": {
                        "text/plain": [
                            "array([\"Batch 4 of Benromach's Origins range, bottled in 2013, is matured entirely in first fill Port pipes and peated to a level of 8ppm. The idea behind the range is to highlight how changing different factors during production results in different characteristics in the final spirit.\"],\n",
                            "      dtype=object)"
                        ]
                    },
                    "metadata": {},
                    "execution_count": 18
                }
            ],
            "metadata": {}
        },
        {
            "cell_type": "markdown",
            "source": [
                "This batch was started on 2003 but bottled in 2013, so we'll change the age value to 10 years. "
            ],
            "metadata": {}
        },
        {
            "cell_type": "code",
            "execution_count": 19,
            "source": [
                "whisky_df.loc[whisky_df.age == 2003, \"age\"] = 10"
            ],
            "outputs": [],
            "metadata": {}
        },
        {
            "cell_type": "code",
            "execution_count": 20,
            "source": [
                "# check if we have removed the outlier. \r\n",
                "whisky_df.age.unique()"
            ],
            "outputs": [
                {
                    "output_type": "execute_result",
                    "data": {
                        "text/plain": [
                            "array([12., 10., 15., nan, 18., 25., 14., 21., 13., 16.,  8.,  5., 11.,\n",
                            "       26., 23., 43., 28., 24.,  9., 30., 29., 42., 19., 27., 20., 17.,\n",
                            "        7., 40.,  6., 22., 45.,  3., 37., 35., 31., 64., 50., 46., 36.,\n",
                            "       32., 44., 56., 38., 34., 33., 62.,  4., 41., 39., 60., 54., 55.,\n",
                            "       78., 52., 49., 47., 48., 51., 71., 65.])"
                        ]
                    },
                    "metadata": {},
                    "execution_count": 20
                }
            ],
            "metadata": {}
        },
        {
            "cell_type": "markdown",
            "source": [
                "#### Alcohol column\r\n",
                "Yes. Now we convert the alcohol column to numeric value, we'll also change the name from alcohol to ABV as this is known to be in percent."
            ],
            "metadata": {}
        },
        {
            "cell_type": "code",
            "execution_count": 21,
            "source": [
                "whisky_df.alcohol = whisky_df.alcohol.str.replace('%', '').astype('float')\r\n",
                "#check for NaNs\r\n",
                "print(whisky_df.alcohol.isna().any())"
            ],
            "outputs": [
                {
                    "output_type": "stream",
                    "name": "stdout",
                    "text": [
                        "False\n"
                    ]
                }
            ],
            "metadata": {}
        },
        {
            "cell_type": "code",
            "execution_count": 22,
            "source": [
                "whisky_df.rename(columns = {'alcohol': 'ABV'}, inplace = True)\r\n",
                "print(whisky_df.columns)"
            ],
            "outputs": [
                {
                    "output_type": "stream",
                    "name": "stdout",
                    "text": [
                        "Index(['name', 'nose', 'palate', 'finish', 'description', 'region',\n",
                        "       'distillery', 'bottler', 'age', 'ABV', 'maturation', 'chill_filter',\n",
                        "       'cask_strength'],\n",
                        "      dtype='object')\n"
                    ]
                }
            ],
            "metadata": {}
        },
        {
            "cell_type": "markdown",
            "source": [
                "#### cask_strength and chill_filter have Yes/No entries when populated. Let's convert these to Boolean."
            ],
            "metadata": {}
        },
        {
            "cell_type": "code",
            "execution_count": 23,
            "source": [
                "print({'cask_strength_unique': whisky_df.cask_strength.unique(), 'chill_filter_unique': whisky_df.chill_filter.unique()})"
            ],
            "outputs": [
                {
                    "output_type": "stream",
                    "name": "stdout",
                    "text": [
                        "{'cask_strength_unique': array([nan, 'No', 'Yes'], dtype=object), 'chill_filter_unique': array([nan, 'No', 'Yes'], dtype=object)}\n"
                    ]
                }
            ],
            "metadata": {}
        },
        {
            "cell_type": "code",
            "execution_count": 24,
            "source": [
                "whisky_df.loc[:, ['cask_strength', 'chill_filter']] = whisky_df[['cask_strength', 'chill_filter']].replace({'Yes': True, 'No': False})"
            ],
            "outputs": [],
            "metadata": {}
        },
        {
            "cell_type": "code",
            "execution_count": 25,
            "source": [
                "print({'cask_strength_unique': whisky_df.cask_strength.unique(), 'chill_filter_unique': whisky_df.chill_filter.unique()})"
            ],
            "outputs": [
                {
                    "output_type": "stream",
                    "name": "stdout",
                    "text": [
                        "{'cask_strength_unique': array([nan, False, True], dtype=object), 'chill_filter_unique': array([nan, False, True], dtype=object)}\n"
                    ]
                }
            ],
            "metadata": {}
        },
        {
            "cell_type": "markdown",
            "source": [
                "## Description Column: Extracting Cask Data and Filtration Process from free text\r\n",
                "\r\n",
                "We want to extract information about the whiskies from these columns. Some of this info will be concrete (is it cask strength? is it chill filtered? which barrels was it aged in?). Some of that info is in the description but was not put into the bottle detail data on the website...so we'll need to extract it from free text and put it into the appropriate existing dataframe column. "
            ],
            "metadata": {}
        },
        {
            "cell_type": "code",
            "execution_count": 26,
            "source": [
                "# we're going to import necessary NLP libraries\r\n",
                "\r\n",
                "import spacy\r\n",
                "from spacy.tokens import Doc, Span, Token # for creating global objects \r\n",
                "from spacy.matcher import Matcher # for rule-based matching\r\n",
                "from spacy.matcher import DependencyMatcher\r\n",
                "from spacy.language import Language # for building custom pipeline components\r\n",
                "from spacy.pipeline import EntityRuler \r\n",
                "\r\n",
                "from copy import deepcopy\r\n"
            ],
            "outputs": [],
            "metadata": {}
        },
        {
            "cell_type": "markdown",
            "source": [
                "#### We create our nlp object and we are going to use a rule-based scheme to get some named entities."
            ],
            "metadata": {}
        },
        {
            "cell_type": "code",
            "execution_count": 27,
            "source": [
                "nlp = spacy.load('en_core_web_lg') # loads our NLP model\r\n",
                "\r\n",
                "# creates ruler\r\n",
                "ruler = nlp.add_pipe(\"entity_ruler\")\r\n",
                "\r\n",
                "# pattern_csk1 = [{\"POS\": \"NOUN\", \"OP\":\"*\"}, {\"LEMMA\": \"cask\"}]\r\n",
                "# pattern_csk1 = [{\"POS\": \"NOUN\", \"OP\":\"*\"}, {\"LEMMA\": {\"IN\": [\"cask\", \"octave\", \"pipe\", \"puncheon\", \"butt\", \"barrel\"]} } ]\r\n",
                "# pattern_csk2 = [{\"POS\": \"NOUN\", \"OP\":\"*\"}, {\"POS\": \"CCONJ\"}, {\"POS\": \"NOUN\", \"OP\":\"*\"}, {\"LEMMA\": {\"IN\": [\"cask\", \"octave\", \"pipe\", \"puncheon\", \"butt\", \"hogshead\"]} } ]\r\n",
                "\r\n",
                "pattern_csk = [{\"LEMMA\": {\"IN\": [\"cask\", \"octave\", \"pipe\", \"puncheon\", \"butt\", \"barrel\", \"hogshead\"]} } ]\r\n",
                "\r\n",
                "patterns = [ {\"label\": \"CSK\", \"pattern\": pattern_csk }]\r\n",
                "\r\n",
                "# adds rules that will be used to parse and create entities\r\n",
                "ruler.add_patterns(patterns)\r\n",
                "\r\n"
            ],
            "outputs": [],
            "metadata": {}
        },
        {
            "cell_type": "markdown",
            "source": [
                "We want to batch process all the description text. So we'll construct a pipeline. We also want to keep track of what description belongs to what whisky. This will enable us to rejoin any results from NLP into our pandas dataframe. So we will construct a custom attribute via context creation."
            ],
            "metadata": {}
        },
        {
            "cell_type": "code",
            "execution_count": 28,
            "source": [
                "# passing context metadata into attributes via pipeline requires the data to be in a specific form. We'll create a function to do transform the data into the right form.\r\n",
                "# then the data will be used to create a Doc object generator based off of the text and context metadata.\r\n",
                "\r\n",
                "def doc_context_tupling(data, textcolname, *args):\r\n",
                "    col_list = [textcolname]\r\n",
                "    attr_list = list(args)\r\n",
                "    \r\n",
                "    col_list.extend(attr_list)\r\n",
                "\r\n",
                "    # data is in dataframe w/ form of whisky_df\r\n",
                "    subset_dict_list = list(data[col_list].T.to_dict().values())\r\n",
                "\r\n",
                "    # now let's form a (text, context_dictionary) tuple which is what the spacy pipeline requires. \r\n",
                "\r\n",
                "    data_context_list = [ (subset_dict.pop(textcolname), subset_dict) for subset_dict in subset_dict_list]\r\n",
                "\r\n",
                "    # for each key-value pair in args, we'll need to create a Doc extension attribute.\r\n",
                "    \r\n",
                "\r\n",
                "    for doc, context in nlp.pipe(data_context_list, as_tuples = True):\r\n",
                "        Doc.set_extension('context', force = True, default = context)\r\n",
                "        yield doc\r\n"
            ],
            "outputs": [],
            "metadata": {}
        },
        {
            "cell_type": "markdown",
            "source": [
                "We are going to use some domain knowledge. It is unlikely that a whisky producer or reviewer would mention chill filtration in a description unless the whisky was NOT chill filtered. Chill filtration is a process that removes some esthers and fatty acids that can become non-soluble in lower ABV whisky at cooler temperatures. The process can prevent clouding but many connosieurs believe that it degrades the quality of the whisky and removes some of its mouthfeel and complexity. In any case, saying that your whisky is non chill-filtered is a point of pride. We'll thus create a very simple rule based matcher for this and not worry too heavily about the possibility that the review is saying that it IS chill filtered. The same logic goes for whether a whisky is cask strength or not."
            ],
            "metadata": {}
        },
        {
            "cell_type": "code",
            "execution_count": 29,
            "source": [
                "def update_cs_cf_info(data):\r\n",
                "\r\n",
                "    matcher = Matcher(nlp.vocab)\r\n",
                "    pattern1 = [{'LOWER': 'chill'}, {'IS_PUNCT': True, 'OP': \"?\"},  {'LEMMA': 'filtration'} ]\r\n",
                "    pattern2 = [{'LOWER': 'chill'}, {'IS_PUNCT': True, 'OP': \"?\"},  {'LEMMA': 'filter'} ]\r\n",
                "    matcher.add('CHILL_FILTER', [pattern1, pattern2])\r\n",
                "\r\n",
                "    matcher2 = Matcher(nlp.vocab)\r\n",
                "    pattern3 = [{'LOWER': 'cask'}, {'IS_PUNCT': True, 'OP': \"?\"},  {'LEMMA': 'strength'} ]\r\n",
                "    matcher2.add('CASK_STRENGTH', [pattern3])\r\n",
                "\r\n",
                "    descript_corpus = doc_context_tupling(data, 'description', 'name')\r\n",
                "\r\n",
                "    new_data = deepcopy(data)\r\n",
                "\r\n",
                "    for doc in descript_corpus:\r\n",
                "\r\n",
                "        matches_chillf = matcher(doc)\r\n",
                "        matches_cask = matcher2(doc)\r\n",
                "        \r\n",
                "        if len(matches_cask) > 0:\r\n",
                "            new_data.loc[new_data.name == doc._.context['name'], 'cask_strength'] =  True \r\n",
                "        \r\n",
                "        counter = 0\r\n",
                "        if len(matches_chillf) > 0:\r\n",
                "            new_data.loc[new_data.name == doc._.context['name'], 'chill_filter'] =  False \r\n",
                "\r\n",
                "    return new_data\r\n",
                "\r\n"
            ],
            "outputs": [],
            "metadata": {}
        },
        {
            "cell_type": "code",
            "execution_count": 30,
            "source": [
                "new_whisk = update_cs_cf_info(whisky_df)"
            ],
            "outputs": [],
            "metadata": {}
        },
        {
            "cell_type": "code",
            "execution_count": 31,
            "source": [
                "new_whisk.info()"
            ],
            "outputs": [
                {
                    "output_type": "stream",
                    "name": "stdout",
                    "text": [
                        "<class 'pandas.core.frame.DataFrame'>\n",
                        "Int64Index: 8484 entries, 0 to 14141\n",
                        "Data columns (total 13 columns):\n",
                        " #   Column         Non-Null Count  Dtype  \n",
                        "---  ------         --------------  -----  \n",
                        " 0   name           8484 non-null   object \n",
                        " 1   nose           8484 non-null   object \n",
                        " 2   palate         8484 non-null   object \n",
                        " 3   finish         8484 non-null   object \n",
                        " 4   description    8484 non-null   object \n",
                        " 5   region         8484 non-null   object \n",
                        " 6   distillery     8484 non-null   object \n",
                        " 7   bottler        8484 non-null   object \n",
                        " 8   age            6556 non-null   float64\n",
                        " 9   ABV            8484 non-null   float64\n",
                        " 10  maturation     1612 non-null   object \n",
                        " 11  chill_filter   819 non-null    object \n",
                        " 12  cask_strength  1643 non-null   object \n",
                        "dtypes: float64(2), object(11)\n",
                        "memory usage: 1.2+ MB\n"
                    ]
                }
            ],
            "metadata": {}
        },
        {
            "cell_type": "markdown",
            "source": [
                "Whisky maturation column text normalizing"
            ],
            "metadata": {}
        },
        {
            "cell_type": "code",
            "execution_count": 32,
            "source": [
                "new_whisk.maturation.unique()"
            ],
            "outputs": [
                {
                    "output_type": "execute_result",
                    "data": {
                        "text/plain": [
                            "array([nan, 'Sherry', 'Wine Cask', 'Bourbon', 'Port Finish', 'Rum Finish',\n",
                            "       'Oak', 'Brandy'], dtype=object)"
                        ]
                    },
                    "metadata": {},
                    "execution_count": 32
                }
            ],
            "metadata": {}
        },
        {
            "cell_type": "markdown",
            "source": [
                "Let's lower-case all these. Also we can remove the word 'finish' where necessary."
            ],
            "metadata": {}
        },
        {
            "cell_type": "code",
            "execution_count": 33,
            "source": [
                "new_whisk.maturation = new_whisk.maturation.str.lower().replace({'port finish': 'port',  'rum finish': 'rum', 'wine cask': 'red wine'})\r\n"
            ],
            "outputs": [],
            "metadata": {}
        },
        {
            "cell_type": "markdown",
            "source": [
                "The description also has information about the wood / type of barrel(s) that the whisky was aged in.  We want to be able to extract that information from the free text. There are different names used for 'casks' in the corpus. Some examples are octaves, pipes, butts, puncheons, etc. There are technical differences between these (size, shape, etc) that can have effects on the whisky taste. But it'll be good to create a broad named entity class for this. We've already done this via the Entity Ruler and created a named entity class CSK.\r\n",
                "\r\n",
                "We want characteristics of the cask that directly impact flavor profiles such as whether the cask once held sherry, bourbon, etc or the kind of wood when relevant (oak can impart strong flavors to a Scotch). My bet is that this can be parsed via syntactic dependencies. Statements regarding cask aging will typically have a structure like:\r\n",
                "\r\n",
                "\"Was aged in a sherry cask.\"\r\n",
                "\r\n",
                "Cask entities in such a formation thus will be a prepositional object and we can look for noun modifiers on pobj.\r\n",
                "\r\n"
            ],
            "metadata": {}
        },
        {
            "cell_type": "code",
            "execution_count": 34,
            "source": [
                "dc = nlp(new_whisk.iloc[450].description)\r\n",
                "print(dc)\r\n"
            ],
            "outputs": [
                {
                    "output_type": "stream",
                    "name": "stdout",
                    "text": [
                        "A 21 year old single malt from the Aberlour Distillery, independently bottled by Montgomerie's as part of the Rare Select series. This one was distilled back in February 1996 and filled into a single bourbon cask, then left alone for 21 years before being bottled in September 2017 at 46% ABV. A tasty chance to see the non-sherried side of Aberlour.\n"
                    ]
                }
            ],
            "metadata": {}
        },
        {
            "cell_type": "markdown",
            "source": [
                "There are a lot of downsides to what I'm doing next and a lot of dependency rule generation. But hey...this is my first NLP rodeo and it seems to work OK"
            ],
            "metadata": {}
        },
        {
            "cell_type": "code",
            "execution_count": 35,
            "source": [
                "def parse_cask_traits(doc):\r\n",
                "\r\n",
                "    # let's construct a dependency pattern matcher\r\n",
                "\r\n",
                "    dep_matcher = DependencyMatcher(nlp.vocab)\r\n",
                "\r\n",
                "    # define our cask entity as an anchor where we inisist that the cask mention is a prepositional object\r\n",
                "    #dep_pattern1 looks for modifiers like 'American oak' or 'Oloroso sherry' or single modifiers like 'sherry' or 'bourbon'\r\n",
                "\r\n",
                "    dep_pattern1 = [{'RIGHT_ID': 'csk_ent', 'RIGHT_ATTRS': {'ENT_TYPE': 'CSK', 'DEP': 'pobj'}}, {'LEFT_ID': 'csk_ent', 'REL_OP': '>>', 'RIGHT_ID': 'cask_trait', 'RIGHT_ATTRS': {'DEP': {'IN': ['compound', 'amod']}}}]\r\n",
                "    # this is designed to find things like \"bourbon and sherry casks\" or \"bourbon and European oak\"\r\n",
                "    dep_pattern2 = [{'RIGHT_ID': 'csk_ent', 'RIGHT_ATTRS': {'ENT_TYPE': 'CSK', 'DEP': 'pobj'}}, {'LEFT_ID': 'csk_ent', 'REL_OP': '>', 'RIGHT_ID': 'cask_trait', 'RIGHT_ATTRS': {'DEP': 'nmod' }}, {'LEFT_ID': 'cask_trait', 'REL_OP': '>', 'RIGHT_ID': 'cask_conj', 'RIGHT_ATTRS': {'DEP': 'conj'}}]\r\n",
                "    \r\n",
                "    \r\n",
                "    # this is a common misparsing that needs to be accounted for when conjunctions with compounds and noun modifiers on the cask entity are present -- first nmod sometimes gets mislabeled as a pobj. the parser mislabels the cask as a conjunction.\r\n",
                "    dep_pattern3 = [{'RIGHT_ID': 'csk_ent', 'RIGHT_ATTRS': {'ENT_TYPE': 'CSK', 'DEP': 'conj'}}, {'LEFT_ID': 'csk_ent', 'REL_OP': '<', 'RIGHT_ID': 'cask_trait2', 'RIGHT_ATTRS': {'DEP': 'pobj'}}, {'LEFT_ID': 'csk_ent', 'REL_OP': '>>', 'RIGHT_ID': 'cask_trait', 'RIGHT_ATTRS': {'DEP': {'IN': ['compound', 'amod']}}}]\r\n",
                "    dep_pattern4 = [{'RIGHT_ID': 'csk_ent', 'RIGHT_ATTRS': {'ENT_TYPE': 'CSK', 'DEP': 'conj'}}, {'LEFT_ID': 'csk_ent', 'REL_OP': '>>', 'RIGHT_ID': 'cask_trait', 'RIGHT_ATTRS': {'DEP': {'IN': ['compound', 'amod']}}}]\r\n",
                "\r\n",
                "    dep_matcher.add('compoundamod', patterns = [dep_pattern1, dep_pattern2, dep_pattern3, dep_pattern4])\r\n",
                "\r\n",
                "    dep_matches = dep_matcher(doc)\r\n",
                "    match_dict = {}\r\n",
                "    for match_objs in dep_matches:\r\n",
                "        match = match_objs[1]\r\n",
                "\r\n",
                "        # match is a tuple with cask, then children as indices. let's construct a dictionary instead out of this.\r\n",
                "        csk_ind = match[0]\r\n",
                "\r\n",
                "        if csk_ind not in match_dict.keys():\r\n",
                "            match_dict.update({csk_ind: match[1::]})\r\n",
                "        else:\r\n",
                "            match_dict[csk_ind].extend(match[1::])\r\n",
                "            match_dict[csk_ind].sort()\r\n",
                "\r\n",
                "\r\n",
                "\r\n",
                "    return(match_dict)\r\n"
            ],
            "outputs": [],
            "metadata": {}
        },
        {
            "cell_type": "code",
            "execution_count": 36,
            "source": [
                "\r\n",
                "import itertools\r\n",
                "\r\n",
                "def create_spans_from_matches(doc):\r\n",
                "\r\n",
                "    matchdicts = parse_cask_traits(doc)\r\n",
                "\r\n",
                "    span_list = []\r\n",
                "\r\n",
                "    def group_ranges(L):\r\n",
                "        for w, z in itertools.groupby(L, lambda x, y=itertools.count(): next(y)-x):\r\n",
                "            grouped = list(z)\r\n",
                "            yield (x for x in [grouped[0], grouped[-1]][:len(grouped)])\r\n",
                "\r\n",
                "    for key, val in matchdicts.items():\r\n",
                "        gener = group_ranges(val)\r\n",
                "        while True:\r\n",
                "            try:\r\n",
                "                \r\n",
                "                span_inds = list(next(gener))\r\n",
                "                span_list.append(Span(doc, span_inds[0], span_inds[-1] + 1))\r\n",
                "                \r\n",
                "            except StopIteration:\r\n",
                "                break\r\n",
                "\r\n",
                "    return span_list\r\n",
                "        \r\n",
                "\r\n",
                "\r\n"
            ],
            "outputs": [],
            "metadata": {}
        },
        {
            "cell_type": "markdown",
            "source": [
                "Without getting more sophisticated (i.e. training NER), it'll be difficult to extract relevant cask descriptors and put them into the right categories (i.e. oloroso = sherry, Chardonnay = white wine, etc.) This is definitely something worth doing on a second pass with the spans we have created but for now we'll do a simple keyword match based off of a list based off of the 'maturation' column with a few augmented descriptors.\r\n",
                "\r\n",
                "The following function extracts the cask descriptors from each review description where it follows our dependecy matching patterns and then one-hot encodes the types of casks used in maturation via employing a multilabel binarizer."
            ],
            "metadata": {}
        },
        {
            "cell_type": "code",
            "execution_count": 37,
            "source": [
                "\r\n",
                "def maturation_descriptor(data):\r\n",
                "\r\n",
                "    maturation_traits = set(np.append(data.maturation.unique(), ['sauternes', 'marsala', \"white wine\", \"rye\", \"red wine\"]))\r\n",
                "    #create generator from description\r\n",
                "\r\n",
                "    descript_corpus = doc_context_tupling(data, 'description', 'name')\r\n",
                "\r\n",
                "    #return dictionary \r\n",
                "\r\n",
                "    csk_doc_dict = {'name': [], 'cask_description': []}\r\n",
                "\r\n",
                "    for doc in descript_corpus:\r\n",
                "        match_spans = create_spans_from_matches(doc)\r\n",
                "\r\n",
                "        # initialize the set with any value that is in the maturation column\r\n",
                "\r\n",
                "        maturation_col_dat = data[data['name'] == doc._.context['name']].maturation.values\r\n",
                "\r\n",
                "        # csk_descript = set()\r\n",
                "        \r\n",
                "\r\n",
                "        if str(maturation_col_dat[0]) == 'nan':\r\n",
                "            csk_descript = set()\r\n",
                "        else:\r\n",
                "            csk_descript = set([str(maturation_col_dat[0])])\r\n",
                "\r\n",
                "        \r\n",
                "\r\n",
                "        for span in match_spans:\r\n",
                "            span_descriptors = [token.lemma_.lower() for token in span if token.lemma_.lower() in maturation_traits]\r\n",
                "            csk_descript.update(span_descriptors)\r\n",
                "\r\n",
                "            # this will manually construct bigrams to test against maturation_traits list  (in future iteration we can use mutual information to get words most commonly linked in bigrams) \r\n",
                "\r\n",
                "            csk_descript.update( [doc[token.i:token.i + 2].lemma_.lower() for token in span if doc[token.i:token.i + 2].lemma_.lower() in maturation_traits] )\r\n",
                "\r\n",
                "        # now let's look within the the corresponding data.maturation entry in the orginal dataframe. \r\n",
                "        # if there are cask descriptors here that are not in the spans that we have extracted from free text let's put those in now.\r\n",
                "            \r\n",
                "\r\n",
                "        #now create column in dataframe that possesses list\r\n",
                "\r\n",
                "        csk_doc_dict['name'].append(doc._.context['name'])\r\n",
                "        csk_doc_dict['cask_description'].append(csk_descript)\r\n",
                "\r\n",
                "    csk_doc_df = pd.DataFrame.from_dict(csk_doc_dict)\r\n",
                "\r\n",
                "    # now we need to one-hot encode the cask descriptions that are in the form of a list of descriptors.\r\n",
                "    # sklearn's multilabel binarizer will do the trick\r\n",
                "\r\n",
                "    from sklearn.preprocessing import MultiLabelBinarizer\r\n",
                "    mlb = MultiLabelBinarizer()\r\n",
                "\r\n",
                "    encoded_csk_cols = pd.DataFrame(mlb.fit_transform(csk_doc_df.cask_description), columns = 'maturation_' + mlb.classes_ )\r\n",
                "\r\n",
                "    csk_inter = csk_doc_df.drop(columns = ['cask_description']).join(encoded_csk_cols, how = 'inner')\r\n",
                "\r\n",
                "    #now columns that still all have zeros should be converted to having all NaNs.\r\n",
                "\r\n",
                "    mat_cols = csk_inter.columns[csk_inter.columns.str.contains('maturation')]\r\n",
                "    csk_inter.loc[csk_inter[mat_cols].sum(axis=1) == 0, mat_cols] = np.nan\r\n",
                "\r\n",
                "    csk_fulldf = pd.merge(left = data, right = csk_inter, how = 'inner', on = 'name').drop(columns = ['maturation'])\r\n",
                "\r\n",
                "\r\n",
                "    return csk_fulldf\r\n",
                "        \r\n",
                "\r\n",
                "    \r\n",
                "\r\n",
                "\r\n",
                "    \r\n",
                "    "
            ],
            "outputs": [],
            "metadata": {}
        },
        {
            "cell_type": "code",
            "execution_count": 333,
            "source": [
                "new_whisk2 = maturation_descriptor(new_whisk) \r\n",
                "new_whisk2.head()"
            ],
            "outputs": [
                {
                    "output_type": "execute_result",
                    "data": {
                        "text/html": [
                            "<div>\n",
                            "<style scoped>\n",
                            "    .dataframe tbody tr th:only-of-type {\n",
                            "        vertical-align: middle;\n",
                            "    }\n",
                            "\n",
                            "    .dataframe tbody tr th {\n",
                            "        vertical-align: top;\n",
                            "    }\n",
                            "\n",
                            "    .dataframe thead th {\n",
                            "        text-align: right;\n",
                            "    }\n",
                            "</style>\n",
                            "<table border=\"1\" class=\"dataframe\">\n",
                            "  <thead>\n",
                            "    <tr style=\"text-align: right;\">\n",
                            "      <th></th>\n",
                            "      <th>name</th>\n",
                            "      <th>nose</th>\n",
                            "      <th>palate</th>\n",
                            "      <th>finish</th>\n",
                            "      <th>description</th>\n",
                            "      <th>region</th>\n",
                            "      <th>distillery</th>\n",
                            "      <th>bottler</th>\n",
                            "      <th>age</th>\n",
                            "      <th>ABV</th>\n",
                            "      <th>...</th>\n",
                            "      <th>maturation_brandy</th>\n",
                            "      <th>maturation_marsala</th>\n",
                            "      <th>maturation_oak</th>\n",
                            "      <th>maturation_port</th>\n",
                            "      <th>maturation_red wine</th>\n",
                            "      <th>maturation_rum</th>\n",
                            "      <th>maturation_rye</th>\n",
                            "      <th>maturation_sauternes</th>\n",
                            "      <th>maturation_sherry</th>\n",
                            "      <th>maturation_white wine</th>\n",
                            "    </tr>\n",
                            "  </thead>\n",
                            "  <tbody>\n",
                            "    <tr>\n",
                            "      <th>0</th>\n",
                            "      <td>Singleton of Dufftown 12 Year Old</td>\n",
                            "      <td>Malty with cereal/barley sweetness, buttery to...</td>\n",
                            "      <td>Orange zest spiciness perks up a malty core of...</td>\n",
                            "      <td>Oaky, rich with good length, some fruit lingers.</td>\n",
                            "      <td>A straightforward, nutty and malty single malt...</td>\n",
                            "      <td>Speyside Whisky</td>\n",
                            "      <td>Dufftown</td>\n",
                            "      <td>Dufftown</td>\n",
                            "      <td>12.0</td>\n",
                            "      <td>40.0</td>\n",
                            "      <td>...</td>\n",
                            "      <td>0.0</td>\n",
                            "      <td>0.0</td>\n",
                            "      <td>1.0</td>\n",
                            "      <td>0.0</td>\n",
                            "      <td>0.0</td>\n",
                            "      <td>0.0</td>\n",
                            "      <td>0.0</td>\n",
                            "      <td>0.0</td>\n",
                            "      <td>0.0</td>\n",
                            "      <td>0.0</td>\n",
                            "    </tr>\n",
                            "    <tr>\n",
                            "      <th>1</th>\n",
                            "      <td>Laphroaig 10 Year Old Sherry Oak Finish</td>\n",
                            "      <td>Smoked meats, maple syrup, BBQ lemon, charred ...</td>\n",
                            "      <td>More roasted cedar and peat smoke, with a hint...</td>\n",
                            "      <td>A balanced finish of sherried sweetness and sm...</td>\n",
                            "      <td>Smoke and sherry here from Laphroaig! The lege...</td>\n",
                            "      <td>Islay Whisky</td>\n",
                            "      <td>Laphroaig</td>\n",
                            "      <td>Laphroaig</td>\n",
                            "      <td>10.0</td>\n",
                            "      <td>48.0</td>\n",
                            "      <td>...</td>\n",
                            "      <td>0.0</td>\n",
                            "      <td>0.0</td>\n",
                            "      <td>0.0</td>\n",
                            "      <td>0.0</td>\n",
                            "      <td>0.0</td>\n",
                            "      <td>0.0</td>\n",
                            "      <td>0.0</td>\n",
                            "      <td>0.0</td>\n",
                            "      <td>1.0</td>\n",
                            "      <td>0.0</td>\n",
                            "    </tr>\n",
                            "    <tr>\n",
                            "      <th>2</th>\n",
                            "      <td>GlenAllachie 15 Year Old</td>\n",
                            "      <td>Peanut brittle, dates and a big scoop of choco...</td>\n",
                            "      <td>Walnut, raisin, Christmas spices and fresh gin...</td>\n",
                            "      <td>Coffee, Turkish delight and just a hint of fla...</td>\n",
                            "      <td>A 2019 addition to the GlenAllachie core range...</td>\n",
                            "      <td>Speyside Whisky</td>\n",
                            "      <td>GlenAllachie</td>\n",
                            "      <td>GlenAllachie</td>\n",
                            "      <td>15.0</td>\n",
                            "      <td>46.0</td>\n",
                            "      <td>...</td>\n",
                            "      <td>0.0</td>\n",
                            "      <td>0.0</td>\n",
                            "      <td>0.0</td>\n",
                            "      <td>0.0</td>\n",
                            "      <td>0.0</td>\n",
                            "      <td>0.0</td>\n",
                            "      <td>0.0</td>\n",
                            "      <td>0.0</td>\n",
                            "      <td>1.0</td>\n",
                            "      <td>0.0</td>\n",
                            "    </tr>\n",
                            "    <tr>\n",
                            "      <th>3</th>\n",
                            "      <td>Seaweed &amp; Aeons &amp; Digging &amp; Fire &amp; Cask Streng...</td>\n",
                            "      <td>Roasted fruit and driftwood notes jump out of ...</td>\n",
                            "      <td>The coastal core remains solid on the palate w...</td>\n",
                            "      <td>A meaty hint lingers on the finish, with cinna...</td>\n",
                            "      <td>Behold, batch 4 of Seaweed &amp; Aeons &amp; Digging &amp;...</td>\n",
                            "      <td>Islay Whisky</td>\n",
                            "      <td>Seaweed &amp; Aeons &amp; Digging &amp; Fire</td>\n",
                            "      <td>Seaweed &amp; Aeons &amp; Digging &amp; Fire</td>\n",
                            "      <td>10.0</td>\n",
                            "      <td>58.3</td>\n",
                            "      <td>...</td>\n",
                            "      <td>0.0</td>\n",
                            "      <td>0.0</td>\n",
                            "      <td>0.0</td>\n",
                            "      <td>0.0</td>\n",
                            "      <td>0.0</td>\n",
                            "      <td>0.0</td>\n",
                            "      <td>0.0</td>\n",
                            "      <td>0.0</td>\n",
                            "      <td>1.0</td>\n",
                            "      <td>0.0</td>\n",
                            "    </tr>\n",
                            "    <tr>\n",
                            "      <th>4</th>\n",
                            "      <td>Edradour 10 Year Old</td>\n",
                            "      <td>Medium, great complexity. Thoroughly fruity, s...</td>\n",
                            "      <td>Cloying, seductive murkiness. Rum, barley, toa...</td>\n",
                            "      <td>Any confusion is arrested: spiced fruitcake wi...</td>\n",
                            "      <td>Edradour is one of Scotland's smallest distill...</td>\n",
                            "      <td>Highland Whisky</td>\n",
                            "      <td>Edradour</td>\n",
                            "      <td>Edradour</td>\n",
                            "      <td>10.0</td>\n",
                            "      <td>40.0</td>\n",
                            "      <td>...</td>\n",
                            "      <td>0.0</td>\n",
                            "      <td>0.0</td>\n",
                            "      <td>0.0</td>\n",
                            "      <td>0.0</td>\n",
                            "      <td>0.0</td>\n",
                            "      <td>0.0</td>\n",
                            "      <td>0.0</td>\n",
                            "      <td>0.0</td>\n",
                            "      <td>1.0</td>\n",
                            "      <td>0.0</td>\n",
                            "    </tr>\n",
                            "  </tbody>\n",
                            "</table>\n",
                            "<p>5 rows × 23 columns</p>\n",
                            "</div>"
                        ],
                        "text/plain": [
                            "                                                name  \\\n",
                            "0                  Singleton of Dufftown 12 Year Old   \n",
                            "1            Laphroaig 10 Year Old Sherry Oak Finish   \n",
                            "2                           GlenAllachie 15 Year Old   \n",
                            "3  Seaweed & Aeons & Digging & Fire & Cask Streng...   \n",
                            "4                               Edradour 10 Year Old   \n",
                            "\n",
                            "                                                nose  \\\n",
                            "0  Malty with cereal/barley sweetness, buttery to...   \n",
                            "1  Smoked meats, maple syrup, BBQ lemon, charred ...   \n",
                            "2  Peanut brittle, dates and a big scoop of choco...   \n",
                            "3  Roasted fruit and driftwood notes jump out of ...   \n",
                            "4  Medium, great complexity. Thoroughly fruity, s...   \n",
                            "\n",
                            "                                              palate  \\\n",
                            "0  Orange zest spiciness perks up a malty core of...   \n",
                            "1  More roasted cedar and peat smoke, with a hint...   \n",
                            "2  Walnut, raisin, Christmas spices and fresh gin...   \n",
                            "3  The coastal core remains solid on the palate w...   \n",
                            "4  Cloying, seductive murkiness. Rum, barley, toa...   \n",
                            "\n",
                            "                                              finish  \\\n",
                            "0   Oaky, rich with good length, some fruit lingers.   \n",
                            "1  A balanced finish of sherried sweetness and sm...   \n",
                            "2  Coffee, Turkish delight and just a hint of fla...   \n",
                            "3  A meaty hint lingers on the finish, with cinna...   \n",
                            "4  Any confusion is arrested: spiced fruitcake wi...   \n",
                            "\n",
                            "                                         description           region  \\\n",
                            "0  A straightforward, nutty and malty single malt...  Speyside Whisky   \n",
                            "1  Smoke and sherry here from Laphroaig! The lege...     Islay Whisky   \n",
                            "2  A 2019 addition to the GlenAllachie core range...  Speyside Whisky   \n",
                            "3  Behold, batch 4 of Seaweed & Aeons & Digging &...     Islay Whisky   \n",
                            "4  Edradour is one of Scotland's smallest distill...  Highland Whisky   \n",
                            "\n",
                            "                         distillery                           bottler   age  \\\n",
                            "0                          Dufftown                          Dufftown  12.0   \n",
                            "1                         Laphroaig                         Laphroaig  10.0   \n",
                            "2                      GlenAllachie                      GlenAllachie  15.0   \n",
                            "3  Seaweed & Aeons & Digging & Fire  Seaweed & Aeons & Digging & Fire  10.0   \n",
                            "4                          Edradour                          Edradour  10.0   \n",
                            "\n",
                            "    ABV  ... maturation_brandy maturation_marsala  maturation_oak  \\\n",
                            "0  40.0  ...               0.0                0.0             1.0   \n",
                            "1  48.0  ...               0.0                0.0             0.0   \n",
                            "2  46.0  ...               0.0                0.0             0.0   \n",
                            "3  58.3  ...               0.0                0.0             0.0   \n",
                            "4  40.0  ...               0.0                0.0             0.0   \n",
                            "\n",
                            "   maturation_port  maturation_red wine  maturation_rum  maturation_rye  \\\n",
                            "0              0.0                  0.0             0.0             0.0   \n",
                            "1              0.0                  0.0             0.0             0.0   \n",
                            "2              0.0                  0.0             0.0             0.0   \n",
                            "3              0.0                  0.0             0.0             0.0   \n",
                            "4              0.0                  0.0             0.0             0.0   \n",
                            "\n",
                            "   maturation_sauternes  maturation_sherry  maturation_white wine  \n",
                            "0                   0.0                0.0                    0.0  \n",
                            "1                   0.0                1.0                    0.0  \n",
                            "2                   0.0                1.0                    0.0  \n",
                            "3                   0.0                1.0                    0.0  \n",
                            "4                   0.0                1.0                    0.0  \n",
                            "\n",
                            "[5 rows x 23 columns]"
                        ]
                    },
                    "metadata": {},
                    "execution_count": 333
                }
            ],
            "metadata": {}
        },
        {
            "cell_type": "code",
            "execution_count": 1183,
            "source": [
                "m.columns"
            ],
            "outputs": [
                {
                    "output_type": "execute_result",
                    "data": {
                        "text/plain": [
                            "Index(['name', 'nose', 'palate', 'finish', 'description', 'region',\n",
                            "       'distillery', 'bottler', 'age', 'ABV', 'chill_filter', 'cask_strength',\n",
                            "       'maturation_bourbon', 'maturation_brandy', 'maturation_marsala',\n",
                            "       'maturation_oak', 'maturation_port', 'maturation_red wine',\n",
                            "       'maturation_rum', 'maturation_rye', 'maturation_sauternes',\n",
                            "       'maturation_sherry', 'maturation_white wine'],\n",
                            "      dtype='object')"
                        ]
                    },
                    "metadata": {},
                    "execution_count": 1183
                }
            ],
            "metadata": {}
        },
        {
            "cell_type": "markdown",
            "source": [
                "## Palate, Nose, and Finish\r\n",
                "\r\n",
                "These columns independently describe different aspects of the tasting process: the nose (smell), palate (taste of the whisky), finish (aftertaste and lingering mouthfeel). We want to extract sense descriptors and taste and smell metaphors/similies. Typically these sorts of descriptors are either in grouped noun form or adjectives.\r\n",
                "\r\n",
                "As an initial first go, we'll do a BOW Count Vectorizer or TF-IDF model. The hope is that later down the line we can either explore descriptor clustering or semantic/topic modeling in order to get a handle on the type of distinct sensory groups present within the range of single malt scotches.\r\n",
                "\r\n",
                "We'll use a combination of spacy and gensim for these tasks:"
            ],
            "metadata": {}
        },
        {
            "cell_type": "code",
            "execution_count": 613,
            "source": [
                "from gensim.corpora.dictionary import Dictionary\r\n",
                "from gensim.matutils import corpus2dense\r\n",
                "from gensim.models import Phrases\r\n",
                "from gensim.models.tfidfmodel import TfidfModel"
            ],
            "outputs": [],
            "metadata": {}
        },
        {
            "cell_type": "code",
            "execution_count": 507,
            "source": [
                "# function that converts a set of documents into a tokenized document list with relevant bigrams. also creates a gensim dictionary object\r\n",
                "\r\n",
                "def create_gensim_data_bigrams(data, col_to_tokenize):\r\n",
                "\r\n",
                "    doc_contextor = doc_context_tupling(data, col_to_tokenize, 'name')\r\n",
                "    name_list = []\r\n",
                "    doc_list = []\r\n",
                "    doc_generator = doc_contextor\r\n",
                "\r\n",
                "    for current_doc in doc_generator:\r\n",
                "        # lower case lemmatized alphabetic words with common stop words, puncuation removed.\r\n",
                "        # Also filter out verbs, remove prepositions\r\n",
                "\r\n",
                "        token_list = [token.lemma_.lower() for token in current_doc if ( (not token.is_stop) & (not token.is_punct) & (token.pos_ != 'VERB') & (token.dep_ != 'prep') & (token.is_alpha)) ]\r\n",
                "        doc_list.append(token_list)\r\n",
                "        name_list.append(current_doc._.context['name'])\r\n",
                "\r\n",
                "    # now let's train a phrase model that can include relevant bigrams as tokens in the tokenized docs\r\n",
                "    phrase_mod = Phrases(doc_list)\r\n",
                "    toks_with_bigrams = list(phrase_mod[doc_list]) # this creates the new set of tokenized documents with bigrams.\r\n",
                "\r\n",
                "    # let's create a gensim dictionary off of this.\r\n",
                "\r\n",
                "    gens_dict_bigrams = Dictionary(toks_with_bigrams)\r\n",
                "\r\n",
                "    #it's probably useful to return the document token lists as a Python dictionary with corresponding whisky names.\r\n",
                "    token_bigram_dict = {'name': name_list, col_to_tokenize + '_tokenized': toks_with_bigrams}\r\n",
                "\r\n",
                "    return pd.DataFrame.from_dict(token_bigram_dict), gens_dict_bigrams\r\n",
                "\r\n"
            ],
            "outputs": [],
            "metadata": {}
        },
        {
            "cell_type": "code",
            "execution_count": 643,
            "source": [
                "# this function executes the tokenization on each sense column, saves it into the dataframe and removes the corresponding free text\r\n",
                "# also generates a python dictionary of gensim Dicionaries for each sense column corpus.\r\n",
                "\r\n",
                "def generate_tokenized_cols(data, *args):\r\n",
                "    descriptor_cols = list(args)\r\n",
                "\r\n",
                "    # for loop to generate bigram-tokenized list and list of dictionaries for each tasting note type (i.e, nose, palate, finish)\r\n",
                "\r\n",
                "    tokenized_doc_list = []\r\n",
                "    gensimDict_dict = {}\r\n",
                "\r\n",
                "    for descriptor in descriptor_cols:\r\n",
                "\r\n",
                "        tokenized_doc, gensim_dictionary = create_gensim_data_bigrams(data, descriptor)\r\n",
                "        tokenized_doc_list.append(tokenized_doc.set_index('name'))\r\n",
                "\r\n",
                "        gensimDict_dict.update({descriptor: gensim_dictionary})\r\n",
                "\r\n",
                "    \r\n",
                "    tokdocs_df = pd.concat(tokenized_doc_list, axis = 1).reset_index()\r\n",
                "    new_data = pd.concat([tokdocs_df.set_index('name'), data.set_index('name')], axis = 1).reset_index().drop(columns = descriptor_cols).drop(columns = ['description'])\r\n",
                "\r\n",
                "    \r\n",
                "    return new_data, gensimDict_dict\r\n"
            ],
            "outputs": [],
            "metadata": {}
        },
        {
            "cell_type": "code",
            "execution_count": 671,
            "source": [
                "new_whisk3, gensim_dictionary_list = generate_tokenized_cols(new_whisk2, 'palate', 'nose', 'finish')"
            ],
            "outputs": [],
            "metadata": {}
        },
        {
            "cell_type": "code",
            "execution_count": 645,
            "source": [
                "new_whisk3.head(3)"
            ],
            "outputs": [
                {
                    "output_type": "execute_result",
                    "data": {
                        "text/html": [
                            "<div>\n",
                            "<style scoped>\n",
                            "    .dataframe tbody tr th:only-of-type {\n",
                            "        vertical-align: middle;\n",
                            "    }\n",
                            "\n",
                            "    .dataframe tbody tr th {\n",
                            "        vertical-align: top;\n",
                            "    }\n",
                            "\n",
                            "    .dataframe thead th {\n",
                            "        text-align: right;\n",
                            "    }\n",
                            "</style>\n",
                            "<table border=\"1\" class=\"dataframe\">\n",
                            "  <thead>\n",
                            "    <tr style=\"text-align: right;\">\n",
                            "      <th></th>\n",
                            "      <th>name</th>\n",
                            "      <th>palate_tokenized</th>\n",
                            "      <th>nose_tokenized</th>\n",
                            "      <th>finish_tokenized</th>\n",
                            "      <th>region</th>\n",
                            "      <th>distillery</th>\n",
                            "      <th>bottler</th>\n",
                            "      <th>age</th>\n",
                            "      <th>ABV</th>\n",
                            "      <th>chill_filter</th>\n",
                            "      <th>...</th>\n",
                            "      <th>maturation_brandy</th>\n",
                            "      <th>maturation_marsala</th>\n",
                            "      <th>maturation_oak</th>\n",
                            "      <th>maturation_port</th>\n",
                            "      <th>maturation_red wine</th>\n",
                            "      <th>maturation_rum</th>\n",
                            "      <th>maturation_rye</th>\n",
                            "      <th>maturation_sauternes</th>\n",
                            "      <th>maturation_sherry</th>\n",
                            "      <th>maturation_white wine</th>\n",
                            "    </tr>\n",
                            "  </thead>\n",
                            "  <tbody>\n",
                            "    <tr>\n",
                            "      <th>0</th>\n",
                            "      <td>Singleton of Dufftown 12 Year Old</td>\n",
                            "      <td>[orange_zest, spiciness, malty_core, nut, oak,...</td>\n",
                            "      <td>[malty, cereal, barley, sweetness, buttery, to...</td>\n",
                            "      <td>[oaky, rich, good_length, fruit]</td>\n",
                            "      <td>Speyside Whisky</td>\n",
                            "      <td>Dufftown</td>\n",
                            "      <td>Dufftown</td>\n",
                            "      <td>12.0</td>\n",
                            "      <td>40.0</td>\n",
                            "      <td>NaN</td>\n",
                            "      <td>...</td>\n",
                            "      <td>0.0</td>\n",
                            "      <td>0.0</td>\n",
                            "      <td>1.0</td>\n",
                            "      <td>0.0</td>\n",
                            "      <td>0.0</td>\n",
                            "      <td>0.0</td>\n",
                            "      <td>0.0</td>\n",
                            "      <td>0.0</td>\n",
                            "      <td>0.0</td>\n",
                            "      <td>0.0</td>\n",
                            "    </tr>\n",
                            "    <tr>\n",
                            "      <th>1</th>\n",
                            "      <td>Laphroaig 10 Year Old Sherry Oak Finish</td>\n",
                            "      <td>[roasted, cedar, peat_smoke, hint, iodine, awa...</td>\n",
                            "      <td>[meat, maple_syrup, bbq, lemon, charred_oak, s...</td>\n",
                            "      <td>[balanced, finish, sherried, sweetness, smould...</td>\n",
                            "      <td>Islay Whisky</td>\n",
                            "      <td>Laphroaig</td>\n",
                            "      <td>Laphroaig</td>\n",
                            "      <td>10.0</td>\n",
                            "      <td>48.0</td>\n",
                            "      <td>NaN</td>\n",
                            "      <td>...</td>\n",
                            "      <td>0.0</td>\n",
                            "      <td>0.0</td>\n",
                            "      <td>0.0</td>\n",
                            "      <td>0.0</td>\n",
                            "      <td>0.0</td>\n",
                            "      <td>0.0</td>\n",
                            "      <td>0.0</td>\n",
                            "      <td>0.0</td>\n",
                            "      <td>1.0</td>\n",
                            "      <td>0.0</td>\n",
                            "    </tr>\n",
                            "    <tr>\n",
                            "      <th>2</th>\n",
                            "      <td>GlenAllachie 15 Year Old</td>\n",
                            "      <td>[walnut, raisin, christmas, spice, fresh, ginger]</td>\n",
                            "      <td>[peanut_brittle, date, big, scoop, chocolate, ...</td>\n",
                            "      <td>[coffee, turkish_delight, hint, flaky, sea_salt]</td>\n",
                            "      <td>Speyside Whisky</td>\n",
                            "      <td>GlenAllachie</td>\n",
                            "      <td>GlenAllachie</td>\n",
                            "      <td>15.0</td>\n",
                            "      <td>46.0</td>\n",
                            "      <td>NaN</td>\n",
                            "      <td>...</td>\n",
                            "      <td>0.0</td>\n",
                            "      <td>0.0</td>\n",
                            "      <td>0.0</td>\n",
                            "      <td>0.0</td>\n",
                            "      <td>0.0</td>\n",
                            "      <td>0.0</td>\n",
                            "      <td>0.0</td>\n",
                            "      <td>0.0</td>\n",
                            "      <td>1.0</td>\n",
                            "      <td>0.0</td>\n",
                            "    </tr>\n",
                            "  </tbody>\n",
                            "</table>\n",
                            "<p>3 rows × 22 columns</p>\n",
                            "</div>"
                        ],
                        "text/plain": [
                            "                                      name  \\\n",
                            "0        Singleton of Dufftown 12 Year Old   \n",
                            "1  Laphroaig 10 Year Old Sherry Oak Finish   \n",
                            "2                 GlenAllachie 15 Year Old   \n",
                            "\n",
                            "                                    palate_tokenized  \\\n",
                            "0  [orange_zest, spiciness, malty_core, nut, oak,...   \n",
                            "1  [roasted, cedar, peat_smoke, hint, iodine, awa...   \n",
                            "2  [walnut, raisin, christmas, spice, fresh, ginger]   \n",
                            "\n",
                            "                                      nose_tokenized  \\\n",
                            "0  [malty, cereal, barley, sweetness, buttery, to...   \n",
                            "1  [meat, maple_syrup, bbq, lemon, charred_oak, s...   \n",
                            "2  [peanut_brittle, date, big, scoop, chocolate, ...   \n",
                            "\n",
                            "                                    finish_tokenized           region  \\\n",
                            "0                   [oaky, rich, good_length, fruit]  Speyside Whisky   \n",
                            "1  [balanced, finish, sherried, sweetness, smould...     Islay Whisky   \n",
                            "2   [coffee, turkish_delight, hint, flaky, sea_salt]  Speyside Whisky   \n",
                            "\n",
                            "     distillery       bottler   age   ABV chill_filter  ... maturation_brandy  \\\n",
                            "0      Dufftown      Dufftown  12.0  40.0          NaN  ...               0.0   \n",
                            "1     Laphroaig     Laphroaig  10.0  48.0          NaN  ...               0.0   \n",
                            "2  GlenAllachie  GlenAllachie  15.0  46.0          NaN  ...               0.0   \n",
                            "\n",
                            "   maturation_marsala  maturation_oak  maturation_port  maturation_red wine  \\\n",
                            "0                 0.0             1.0              0.0                  0.0   \n",
                            "1                 0.0             0.0              0.0                  0.0   \n",
                            "2                 0.0             0.0              0.0                  0.0   \n",
                            "\n",
                            "   maturation_rum  maturation_rye  maturation_sauternes  maturation_sherry  \\\n",
                            "0             0.0             0.0                   0.0                0.0   \n",
                            "1             0.0             0.0                   0.0                1.0   \n",
                            "2             0.0             0.0                   0.0                1.0   \n",
                            "\n",
                            "   maturation_white wine  \n",
                            "0                    0.0  \n",
                            "1                    0.0  \n",
                            "2                    0.0  \n",
                            "\n",
                            "[3 rows x 22 columns]"
                        ]
                    },
                    "metadata": {},
                    "execution_count": 645
                }
            ],
            "metadata": {}
        },
        {
            "cell_type": "markdown",
            "source": [
                "We have extracted the tokens we want out of the free text columns or generated one-hot encoded representations of whisky preparation (chill filtering, cask strength, and types of barrels used in maturation) from the free text description. We've thus thrown out all the free text columns. The numerical columns (whisky age, ABV, etc) have also all been cleaned.\r\n",
                "\r\n",
                "We save this dataframe to CSV. Saving the sensory descriptor columns in this non-numerical form is important as it'll enable us to try different vector representation schemes later down the line.\r\n",
                "\r\n",
                "\r\n"
            ],
            "metadata": {}
        },
        {
            "cell_type": "code",
            "execution_count": 646,
            "source": [
                "new_whisk3.to_csv(\"data\\\\interim\\\\whisk_tokenized_encoded.csv\")"
            ],
            "outputs": [],
            "metadata": {}
        },
        {
            "cell_type": "markdown",
            "source": [
                "### Corpus creation\r\n",
                "\r\n",
                "gensim_dictionary_list contains the corpuses from the palate, nose, and finish notes. A quick look at the dictionaries shows that we have a lot of unique tokens in each corpus."
            ],
            "metadata": {}
        },
        {
            "cell_type": "code",
            "execution_count": 687,
            "source": [
                "for key,values in gensim_dictionary_list.items():\r\n",
                "\r\n",
                "    print(values)"
            ],
            "outputs": [
                {
                    "output_type": "stream",
                    "name": "stdout",
                    "text": [
                        "Dictionary(3015 unique tokens: ['cut_grass', 'hint', 'malty_core', 'nut', 'oak']...)\n",
                        "Dictionary(3161 unique tokens: ['barley', 'buttery', 'cereal', 'hay', 'malty']...)\n",
                        "Dictionary(2161 unique tokens: ['fruit', 'good_length', 'oaky', 'rich', 'balanced']...)\n"
                    ]
                }
            ],
            "metadata": {}
        },
        {
            "cell_type": "markdown",
            "source": [
                "We have a lot of unique tokens, but in order to reduce the dimensionality of the feature set we may want to discard tokens in a dictionary that appear exceedingly rarely or are in way too many documents. We put the bottom frequency cutoff at 0.50% (word only appears in 0.50% of documents) and an upper cutoff of 50%."
            ],
            "metadata": {}
        },
        {
            "cell_type": "code",
            "execution_count": 774,
            "source": [
                "reduced_gensim_dict = deepcopy(gensim_dictionary_list)\r\n",
                "\r\n",
                "for key,values in reduced_gensim_dict.items():\r\n",
                "\r\n",
                "    n = len(new_whisk3) # size of each corpus\r\n",
                "    values.filter_extremes(no_below=0.003*n, no_above=0.5)\r\n",
                "    print(values)"
            ],
            "outputs": [
                {
                    "output_type": "stream",
                    "name": "stdout",
                    "text": [
                        "Dictionary(446 unique tokens: ['hint', 'nut', 'oak', 'orange_zest', 'spiciness']...)\n",
                        "Dictionary(447 unique tokens: ['barley', 'buttery', 'cereal', 'hay', 'malty']...)\n",
                        "Dictionary(282 unique tokens: ['fruit', 'good_length', 'oaky', 'rich', 'balanced']...)\n"
                    ]
                }
            ],
            "metadata": {}
        },
        {
            "cell_type": "code",
            "execution_count": 775,
            "source": [
                "plt_dct = reduced_gensim_dict['palate']\r\n",
                "bow = [plt_dct.doc2bow(doc) for doc in new_whisk3.palate_tokenized]\r\n",
                "\r\n",
                "# we want the actual names of the tokens in the bow corpus.\r\n",
                "token_names = list(plt_dct.values())\r\n",
                "print(token_names)"
            ],
            "outputs": [
                {
                    "output_type": "stream",
                    "name": "stdout",
                    "text": [
                        "['hint', 'nut', 'oak', 'orange_zest', 'spiciness', 'toffee', 'cedar', 'dark_chocolate', 'honey', 'iodine', 'peat_smoke', 'roasted', 'vanilla_pod', 'christmas', 'fresh', 'ginger', 'raisin', 'spice', 'walnut', 'coastal', 'core', 'date', 'mocha', 'palate', 'salt', 'seaweed', 'slightly', 'sultana', 'touch', 'wave', 'almond', 'barley', 'rum', 'juicy', 'little', 'malty', 'nutty', 'sherry', 'soft', 'supple', 'sweetness', 'backdrop', 'chocolate', 'cinnamon', 'freshly', 'lead', 'lime', 'malt', 'orange', 'present', 'suggestion', 'sweet', 'syrupy', 'cherry', 'jammy', 'peat', 'savoury', 'sea_breeze', 'smoke', 'banana', 'jam', 'lot', 'plum', 'raspberry', 'apricot', 'candied', 'dry', 'freshness', 'fruit', 'note', 'rich', 'clean', 'creamy', 'gingerbread', 'tangy', 'apple', 'background', 'mango', 'vanilla', 'cranberry', 'gentle', 'juice', 'load', 'mix', 'subtle', 'white_grape', 'citrus_zest', 'intense', 'layer', 'light', 'way', 'christmas_cake', 'hazelnut', 'runny_honey', 'orange_peel', 'malt_loaf', 'oloroso', 'pepper', 'prickle', 'waft', 'chewy', 'herb', 'manuka_honey', 'tannic', 'coffee', 'peaty', 'vegetal', 'bonfire', 'end', 'prune', 'character', 'rounded', 'smooth', 'biscuit', 'buttery', 'clove', 'orange_oil', 'pastry', 'warm', 'citrus', 'floral', 'honeyed', 'whisper', 'acacia_honey', 'butterscotch', 'cream', 'nectarine', 'peach', 'tropical', 'balanced', 'delivery', 'good', 'blackberry', 'brown_sugar', 'new_leather', 'oily_walnut', 'toasted', 'big', 'fruity', 'powerful', 'thick', 'dark', 'fudge', 'refreshing', 'texture', 'earthy', 'heavy', 'later', 'leather', 'kick', 'underneath', 'blossom', 'cocoa', 'golden_syrup', 'honeydew_melon', 'cereal', 'anise', 'lovely', 'medium', 'stem_ginger', 'syrup', 'winter_spice', 'zesty', 'aromatic', 'balance', 'black_pepper', 'caramel', 'digestive', 'marzipan', 'nose', 'nutmeg', 'oily', 'pear', 'pleasant', 'brine', 'delicate', 'orchard_fruit', 'fruitcake', 'wood', 'late_palate', 'oaky', 'peel', 'cider', 'marmalade', 'smoky', 'good_helping', 'ripe', 'custard', 'red_berry', 'time', 'burst', 'tropical_fruit', 'berry', 'mint', 'strong', 'peppercorn', 'bourbon', 'subtly', 'toasty', 'lemon', 'allspice', 'baking_spice', 'complex', 'sponge_cake', 'element', 'maritime', 'peanut', 'white_pepper', 'grassy', 'fig', 'grapefruit', 'red', 'milk_chocolate', 'sherried', 'espresso', 'forward', 'depth', 'liquorice', 'oil', 'plenty', 'salty', 'black_tea', 'body', 'granary_toast', 'char', 'bitter', 'cake', 'spicy', 'bread', 'cacao', 'herbal', 'green_apple', 'mature_oak', 'pineapple', 'whisky', 'cookie', 'salted_caramel', 'sea_salt', 'ice_cream', 'sauce', 'charred_oak', 'pinch', 'punchy', 'liqueur', 'y', 'earth', 'medium_bodied', 'cooked', 'cigar_box', 'hot', 'mouth', 'gooseberry', 'spiced', 'butter', 'chilli', 'crisp', 'mouthfeel', 'peppery', 'rye', 'toast', 'pecan', 'coconut', 'menthol', 'smokiness', 'tongue', 'waxy', 'white', 'thing', 'chocolatey', 'bitterness', 'biscuity', 'hay', 'tart', 'support', 'compote', 'grape', 'milk', 'black', 'helping', 'treacle', 'beeswax', 'shortly', 'yellow_plum', 'tannin', 'great', 'rye_bread', 'brown_bread', 'slight', 'warming', 'aniseed', 'peppermint', 'leafy', 'pie', 'apricot_jam', 'cardamom', 'blackcurrant', 'heat', 'medicinal_peat', 'caramelised', 'like', 'whiff', 'salted_butter', 'fragrant', 'woody', 'shortbread', 'initially', 'grist', 'oatcake', 'stone_fruit', 'sugar', 'tobacco', 'gently', 'dusting', 'herbaceous', 'heather', 'caraway', 'molasse', 'redcurrant', 'bun', 'golden', 'maple_syrup', 'sweetie', 'melon', 'bit', 'salinity', 'honeycomb', 'ember', 'tow', 'red_chilli', 'seville_orange', 'lemongrass', 'stewed', 'richness', 'warmth', 'coffee_bean', 'palate_entry', 'meat', 'water', 'lemon_curd', 'praline', 'flavour', 'summer_berry', 'golden_barley', 'plus', 'sultanas', 'demerara_sugar', 'oodle', 'bodied', 'buttered', 'slow_build', 'slowly', 'quince', 'dram', 'flake', 'soon', 'delicious', 'old', 'digestive_biscuit', 'bittersweet', 'classic', 'red_grape', 'nuttiness', 'baked', 'milky_coffee', 'mid_palate', 'tea', 'oats', 'heather_honey', 'grass', 'silky', 'crunchy_brown', 'ash', 'deep', 'bright', 'enjoyably', 'basil', 'rum_raisin', 'roasted_nut', 'earthiness', 'orange_blossom', 'influence', 'sharp', 'fruit_salad', 'guava', 'mouth_coating', 'drizzle', 'thyme', 'bbq', 'skin', 'point', 'cassia', 'waxy_orange', 'huge', 'pancake', 'sugary', 'strawberry', 'charred', 'meaty', 'peanut_brittle', 'wine', 'thyme_honey', 'surprisingly', 'strawberry_jam', 'quality', 'chocolate_chip', 'mint_leaf', 'fizzy', 'sticky_toffee', 'porridge', 'root', 'bean', 'green', 'edge', 'mineral', 'fore', 'ground', 'mixed', 'flaky_pastry', 'lemon_zest', 'robust', 'cumin', 'meaty_malt', 'dried', 'greengage', 'mixed_peel', 'medicinal', 'vibrant', 'salty_butter', 'blueberry', 'handful', 'tar', 'damson', 'pear_drop', 'lavender', 'roasted_coffee', 'pine', 'pudding', 'fruitiness', 'rhubarb', 'little_bit', 'crumble', 'crème_caramel', 'zest', 'star_anise', 'potpourri', 'plaster']\n"
                    ]
                }
            ],
            "metadata": {}
        },
        {
            "cell_type": "markdown",
            "source": [
                "This is a substantial decrease in the number of unique tokens for the palate descriptor from the original ~3000 to ~300. A lot of these tokens are indeed sense descriptors. There are some issues: 'woody' could go to 'wood', 'meaty' to 'meat', 'smokiness' to 'smoke', 'nuttiness' to 'nutty'. There are a few of these that have not been picked up by the spacy lemmatizers and it might be useful to go back at some point and write a manual stemmer/lemmatizer for these cases. There might even be a better way to deal with this with."
            ],
            "metadata": {}
        },
        {
            "cell_type": "code",
            "execution_count": 802,
            "source": [
                "def gen_sensory_BoW_df(data, gensim_dicts):\r\n",
                "\r\n",
                "    bow_df_list = []\r\n",
                "    \r\n",
                "    for key,value in gensim_dicts.items():\r\n",
                "        sense_col = key + \"_tokenized\"\r\n",
                "\r\n",
                "        corpus = [value.doc2bow(doc) for doc in data[sense_col] ]\r\n",
                "\r\n",
                "        token_names = [key + \": \" + word for word in list(value.values()) ]\r\n",
                "        bow_df = pd.DataFrame(corpus2dense(corpus, num_terms = len(value.token2id)).T, columns = token_names)\r\n",
                "        bow_df_list.append(bow_df)\r\n",
                "    \r\n",
                "    sensory_bow_df = pd.concat(bow_df_list, axis = 1)\r\n",
                "    sensory_bow_df['name'] = data.name\r\n",
                "\r\n",
                "    return sensory_bow_df\r\n",
                "    "
            ],
            "outputs": [],
            "metadata": {}
        },
        {
            "cell_type": "code",
            "execution_count": 803,
            "source": [
                "term_freq_df = gen_sensory_BoW_df(new_whisk3, reduced_gensim_dict)\r\n",
                "term_freq_df.head()"
            ],
            "outputs": [
                {
                    "output_type": "execute_result",
                    "data": {
                        "text/html": [
                            "<div>\n",
                            "<style scoped>\n",
                            "    .dataframe tbody tr th:only-of-type {\n",
                            "        vertical-align: middle;\n",
                            "    }\n",
                            "\n",
                            "    .dataframe tbody tr th {\n",
                            "        vertical-align: top;\n",
                            "    }\n",
                            "\n",
                            "    .dataframe thead th {\n",
                            "        text-align: right;\n",
                            "    }\n",
                            "</style>\n",
                            "<table border=\"1\" class=\"dataframe\">\n",
                            "  <thead>\n",
                            "    <tr style=\"text-align: right;\">\n",
                            "      <th></th>\n",
                            "      <th>palate: hint</th>\n",
                            "      <th>palate: nut</th>\n",
                            "      <th>palate: oak</th>\n",
                            "      <th>palate: orange_zest</th>\n",
                            "      <th>palate: spiciness</th>\n",
                            "      <th>palate: toffee</th>\n",
                            "      <th>palate: cedar</th>\n",
                            "      <th>palate: dark_chocolate</th>\n",
                            "      <th>palate: honey</th>\n",
                            "      <th>palate: iodine</th>\n",
                            "      <th>...</th>\n",
                            "      <th>finish: charred_oak</th>\n",
                            "      <th>finish: jam</th>\n",
                            "      <th>finish: buttered</th>\n",
                            "      <th>finish: peaty</th>\n",
                            "      <th>finish: hay</th>\n",
                            "      <th>finish: whisky</th>\n",
                            "      <th>finish: pine</th>\n",
                            "      <th>finish: grist</th>\n",
                            "      <th>finish: refreshing</th>\n",
                            "      <th>name</th>\n",
                            "    </tr>\n",
                            "  </thead>\n",
                            "  <tbody>\n",
                            "    <tr>\n",
                            "      <th>0</th>\n",
                            "      <td>1.0</td>\n",
                            "      <td>1.0</td>\n",
                            "      <td>1.0</td>\n",
                            "      <td>1.0</td>\n",
                            "      <td>1.0</td>\n",
                            "      <td>1.0</td>\n",
                            "      <td>0.0</td>\n",
                            "      <td>0.0</td>\n",
                            "      <td>0.0</td>\n",
                            "      <td>0.0</td>\n",
                            "      <td>...</td>\n",
                            "      <td>0.0</td>\n",
                            "      <td>0.0</td>\n",
                            "      <td>0.0</td>\n",
                            "      <td>0.0</td>\n",
                            "      <td>0.0</td>\n",
                            "      <td>0.0</td>\n",
                            "      <td>0.0</td>\n",
                            "      <td>0.0</td>\n",
                            "      <td>0.0</td>\n",
                            "      <td>Singleton of Dufftown 12 Year Old</td>\n",
                            "    </tr>\n",
                            "    <tr>\n",
                            "      <th>1</th>\n",
                            "      <td>1.0</td>\n",
                            "      <td>0.0</td>\n",
                            "      <td>0.0</td>\n",
                            "      <td>0.0</td>\n",
                            "      <td>0.0</td>\n",
                            "      <td>0.0</td>\n",
                            "      <td>1.0</td>\n",
                            "      <td>1.0</td>\n",
                            "      <td>1.0</td>\n",
                            "      <td>1.0</td>\n",
                            "      <td>...</td>\n",
                            "      <td>0.0</td>\n",
                            "      <td>0.0</td>\n",
                            "      <td>0.0</td>\n",
                            "      <td>0.0</td>\n",
                            "      <td>0.0</td>\n",
                            "      <td>0.0</td>\n",
                            "      <td>0.0</td>\n",
                            "      <td>0.0</td>\n",
                            "      <td>0.0</td>\n",
                            "      <td>Laphroaig 10 Year Old Sherry Oak Finish</td>\n",
                            "    </tr>\n",
                            "    <tr>\n",
                            "      <th>2</th>\n",
                            "      <td>0.0</td>\n",
                            "      <td>0.0</td>\n",
                            "      <td>0.0</td>\n",
                            "      <td>0.0</td>\n",
                            "      <td>0.0</td>\n",
                            "      <td>0.0</td>\n",
                            "      <td>0.0</td>\n",
                            "      <td>0.0</td>\n",
                            "      <td>0.0</td>\n",
                            "      <td>0.0</td>\n",
                            "      <td>...</td>\n",
                            "      <td>0.0</td>\n",
                            "      <td>0.0</td>\n",
                            "      <td>0.0</td>\n",
                            "      <td>0.0</td>\n",
                            "      <td>0.0</td>\n",
                            "      <td>0.0</td>\n",
                            "      <td>0.0</td>\n",
                            "      <td>0.0</td>\n",
                            "      <td>0.0</td>\n",
                            "      <td>GlenAllachie 15 Year Old</td>\n",
                            "    </tr>\n",
                            "    <tr>\n",
                            "      <th>3</th>\n",
                            "      <td>0.0</td>\n",
                            "      <td>0.0</td>\n",
                            "      <td>0.0</td>\n",
                            "      <td>0.0</td>\n",
                            "      <td>0.0</td>\n",
                            "      <td>0.0</td>\n",
                            "      <td>0.0</td>\n",
                            "      <td>0.0</td>\n",
                            "      <td>0.0</td>\n",
                            "      <td>0.0</td>\n",
                            "      <td>...</td>\n",
                            "      <td>0.0</td>\n",
                            "      <td>0.0</td>\n",
                            "      <td>0.0</td>\n",
                            "      <td>0.0</td>\n",
                            "      <td>0.0</td>\n",
                            "      <td>0.0</td>\n",
                            "      <td>0.0</td>\n",
                            "      <td>0.0</td>\n",
                            "      <td>0.0</td>\n",
                            "      <td>Seaweed &amp; Aeons &amp; Digging &amp; Fire &amp; Cask Streng...</td>\n",
                            "    </tr>\n",
                            "    <tr>\n",
                            "      <th>4</th>\n",
                            "      <td>0.0</td>\n",
                            "      <td>0.0</td>\n",
                            "      <td>0.0</td>\n",
                            "      <td>0.0</td>\n",
                            "      <td>0.0</td>\n",
                            "      <td>0.0</td>\n",
                            "      <td>0.0</td>\n",
                            "      <td>0.0</td>\n",
                            "      <td>0.0</td>\n",
                            "      <td>0.0</td>\n",
                            "      <td>...</td>\n",
                            "      <td>0.0</td>\n",
                            "      <td>0.0</td>\n",
                            "      <td>0.0</td>\n",
                            "      <td>0.0</td>\n",
                            "      <td>0.0</td>\n",
                            "      <td>0.0</td>\n",
                            "      <td>0.0</td>\n",
                            "      <td>0.0</td>\n",
                            "      <td>0.0</td>\n",
                            "      <td>Edradour 10 Year Old</td>\n",
                            "    </tr>\n",
                            "  </tbody>\n",
                            "</table>\n",
                            "<p>5 rows × 1176 columns</p>\n",
                            "</div>"
                        ],
                        "text/plain": [
                            "   palate: hint  palate: nut  palate: oak  palate: orange_zest  \\\n",
                            "0           1.0          1.0          1.0                  1.0   \n",
                            "1           1.0          0.0          0.0                  0.0   \n",
                            "2           0.0          0.0          0.0                  0.0   \n",
                            "3           0.0          0.0          0.0                  0.0   \n",
                            "4           0.0          0.0          0.0                  0.0   \n",
                            "\n",
                            "   palate: spiciness  palate: toffee  palate: cedar  palate: dark_chocolate  \\\n",
                            "0                1.0             1.0            0.0                     0.0   \n",
                            "1                0.0             0.0            1.0                     1.0   \n",
                            "2                0.0             0.0            0.0                     0.0   \n",
                            "3                0.0             0.0            0.0                     0.0   \n",
                            "4                0.0             0.0            0.0                     0.0   \n",
                            "\n",
                            "   palate: honey  palate: iodine  ...  finish: charred_oak  finish: jam  \\\n",
                            "0            0.0             0.0  ...                  0.0          0.0   \n",
                            "1            1.0             1.0  ...                  0.0          0.0   \n",
                            "2            0.0             0.0  ...                  0.0          0.0   \n",
                            "3            0.0             0.0  ...                  0.0          0.0   \n",
                            "4            0.0             0.0  ...                  0.0          0.0   \n",
                            "\n",
                            "   finish: buttered  finish: peaty  finish: hay  finish: whisky  finish: pine  \\\n",
                            "0               0.0            0.0          0.0             0.0           0.0   \n",
                            "1               0.0            0.0          0.0             0.0           0.0   \n",
                            "2               0.0            0.0          0.0             0.0           0.0   \n",
                            "3               0.0            0.0          0.0             0.0           0.0   \n",
                            "4               0.0            0.0          0.0             0.0           0.0   \n",
                            "\n",
                            "   finish: grist  finish: refreshing  \\\n",
                            "0            0.0                 0.0   \n",
                            "1            0.0                 0.0   \n",
                            "2            0.0                 0.0   \n",
                            "3            0.0                 0.0   \n",
                            "4            0.0                 0.0   \n",
                            "\n",
                            "                                                name  \n",
                            "0                  Singleton of Dufftown 12 Year Old  \n",
                            "1            Laphroaig 10 Year Old Sherry Oak Finish  \n",
                            "2                           GlenAllachie 15 Year Old  \n",
                            "3  Seaweed & Aeons & Digging & Fire & Cask Streng...  \n",
                            "4                               Edradour 10 Year Old  \n",
                            "\n",
                            "[5 rows x 1176 columns]"
                        ]
                    },
                    "metadata": {},
                    "execution_count": 803
                }
            ],
            "metadata": {}
        },
        {
            "cell_type": "markdown",
            "source": [
                "There are a good deal of term-frequency features numbering ~1200 but given the size of the corpus, etc it could have been a lot worse. Let's just fold this into a new whisky dataframe and save to csv."
            ],
            "metadata": {}
        },
        {
            "cell_type": "code",
            "execution_count": 834,
            "source": [
                "cols_to_drop = [\"palate_tokenized\", \"nose_tokenized\", \"finish_tokenized\"]\r\n",
                "new_whisk4 = pd.concat([new_whisk3.set_index('name'), term_freq_df.set_index('name')], axis = 1).reset_index().drop(columns = cols_to_drop)"
            ],
            "outputs": [],
            "metadata": {}
        },
        {
            "cell_type": "code",
            "execution_count": 836,
            "source": [
                "new_whisk4.head()"
            ],
            "outputs": [
                {
                    "output_type": "execute_result",
                    "data": {
                        "text/html": [
                            "<div>\n",
                            "<style scoped>\n",
                            "    .dataframe tbody tr th:only-of-type {\n",
                            "        vertical-align: middle;\n",
                            "    }\n",
                            "\n",
                            "    .dataframe tbody tr th {\n",
                            "        vertical-align: top;\n",
                            "    }\n",
                            "\n",
                            "    .dataframe thead th {\n",
                            "        text-align: right;\n",
                            "    }\n",
                            "</style>\n",
                            "<table border=\"1\" class=\"dataframe\">\n",
                            "  <thead>\n",
                            "    <tr style=\"text-align: right;\">\n",
                            "      <th></th>\n",
                            "      <th>name</th>\n",
                            "      <th>region</th>\n",
                            "      <th>distillery</th>\n",
                            "      <th>bottler</th>\n",
                            "      <th>age</th>\n",
                            "      <th>ABV</th>\n",
                            "      <th>chill_filter</th>\n",
                            "      <th>cask_strength</th>\n",
                            "      <th>maturation_bourbon</th>\n",
                            "      <th>maturation_brandy</th>\n",
                            "      <th>...</th>\n",
                            "      <th>finish: fizzy</th>\n",
                            "      <th>finish: charred_oak</th>\n",
                            "      <th>finish: jam</th>\n",
                            "      <th>finish: buttered</th>\n",
                            "      <th>finish: peaty</th>\n",
                            "      <th>finish: hay</th>\n",
                            "      <th>finish: whisky</th>\n",
                            "      <th>finish: pine</th>\n",
                            "      <th>finish: grist</th>\n",
                            "      <th>finish: refreshing</th>\n",
                            "    </tr>\n",
                            "  </thead>\n",
                            "  <tbody>\n",
                            "    <tr>\n",
                            "      <th>0</th>\n",
                            "      <td>Singleton of Dufftown 12 Year Old</td>\n",
                            "      <td>Speyside Whisky</td>\n",
                            "      <td>Dufftown</td>\n",
                            "      <td>Dufftown</td>\n",
                            "      <td>12.0</td>\n",
                            "      <td>40.0</td>\n",
                            "      <td>NaN</td>\n",
                            "      <td>NaN</td>\n",
                            "      <td>0.0</td>\n",
                            "      <td>0.0</td>\n",
                            "      <td>...</td>\n",
                            "      <td>0.0</td>\n",
                            "      <td>0.0</td>\n",
                            "      <td>0.0</td>\n",
                            "      <td>0.0</td>\n",
                            "      <td>0.0</td>\n",
                            "      <td>0.0</td>\n",
                            "      <td>0.0</td>\n",
                            "      <td>0.0</td>\n",
                            "      <td>0.0</td>\n",
                            "      <td>0.0</td>\n",
                            "    </tr>\n",
                            "    <tr>\n",
                            "      <th>1</th>\n",
                            "      <td>Laphroaig 10 Year Old Sherry Oak Finish</td>\n",
                            "      <td>Islay Whisky</td>\n",
                            "      <td>Laphroaig</td>\n",
                            "      <td>Laphroaig</td>\n",
                            "      <td>10.0</td>\n",
                            "      <td>48.0</td>\n",
                            "      <td>NaN</td>\n",
                            "      <td>NaN</td>\n",
                            "      <td>0.0</td>\n",
                            "      <td>0.0</td>\n",
                            "      <td>...</td>\n",
                            "      <td>0.0</td>\n",
                            "      <td>0.0</td>\n",
                            "      <td>0.0</td>\n",
                            "      <td>0.0</td>\n",
                            "      <td>0.0</td>\n",
                            "      <td>0.0</td>\n",
                            "      <td>0.0</td>\n",
                            "      <td>0.0</td>\n",
                            "      <td>0.0</td>\n",
                            "      <td>0.0</td>\n",
                            "    </tr>\n",
                            "    <tr>\n",
                            "      <th>2</th>\n",
                            "      <td>GlenAllachie 15 Year Old</td>\n",
                            "      <td>Speyside Whisky</td>\n",
                            "      <td>GlenAllachie</td>\n",
                            "      <td>GlenAllachie</td>\n",
                            "      <td>15.0</td>\n",
                            "      <td>46.0</td>\n",
                            "      <td>NaN</td>\n",
                            "      <td>NaN</td>\n",
                            "      <td>0.0</td>\n",
                            "      <td>0.0</td>\n",
                            "      <td>...</td>\n",
                            "      <td>0.0</td>\n",
                            "      <td>0.0</td>\n",
                            "      <td>0.0</td>\n",
                            "      <td>0.0</td>\n",
                            "      <td>0.0</td>\n",
                            "      <td>0.0</td>\n",
                            "      <td>0.0</td>\n",
                            "      <td>0.0</td>\n",
                            "      <td>0.0</td>\n",
                            "      <td>0.0</td>\n",
                            "    </tr>\n",
                            "    <tr>\n",
                            "      <th>3</th>\n",
                            "      <td>Seaweed &amp; Aeons &amp; Digging &amp; Fire &amp; Cask Streng...</td>\n",
                            "      <td>Islay Whisky</td>\n",
                            "      <td>Seaweed &amp; Aeons &amp; Digging &amp; Fire</td>\n",
                            "      <td>Seaweed &amp; Aeons &amp; Digging &amp; Fire</td>\n",
                            "      <td>10.0</td>\n",
                            "      <td>58.3</td>\n",
                            "      <td>NaN</td>\n",
                            "      <td>True</td>\n",
                            "      <td>0.0</td>\n",
                            "      <td>0.0</td>\n",
                            "      <td>...</td>\n",
                            "      <td>0.0</td>\n",
                            "      <td>0.0</td>\n",
                            "      <td>0.0</td>\n",
                            "      <td>0.0</td>\n",
                            "      <td>0.0</td>\n",
                            "      <td>0.0</td>\n",
                            "      <td>0.0</td>\n",
                            "      <td>0.0</td>\n",
                            "      <td>0.0</td>\n",
                            "      <td>0.0</td>\n",
                            "    </tr>\n",
                            "    <tr>\n",
                            "      <th>4</th>\n",
                            "      <td>Edradour 10 Year Old</td>\n",
                            "      <td>Highland Whisky</td>\n",
                            "      <td>Edradour</td>\n",
                            "      <td>Edradour</td>\n",
                            "      <td>10.0</td>\n",
                            "      <td>40.0</td>\n",
                            "      <td>NaN</td>\n",
                            "      <td>NaN</td>\n",
                            "      <td>1.0</td>\n",
                            "      <td>0.0</td>\n",
                            "      <td>...</td>\n",
                            "      <td>0.0</td>\n",
                            "      <td>0.0</td>\n",
                            "      <td>0.0</td>\n",
                            "      <td>0.0</td>\n",
                            "      <td>0.0</td>\n",
                            "      <td>0.0</td>\n",
                            "      <td>0.0</td>\n",
                            "      <td>0.0</td>\n",
                            "      <td>0.0</td>\n",
                            "      <td>0.0</td>\n",
                            "    </tr>\n",
                            "  </tbody>\n",
                            "</table>\n",
                            "<p>5 rows × 1194 columns</p>\n",
                            "</div>"
                        ],
                        "text/plain": [
                            "                                                name           region  \\\n",
                            "0                  Singleton of Dufftown 12 Year Old  Speyside Whisky   \n",
                            "1            Laphroaig 10 Year Old Sherry Oak Finish     Islay Whisky   \n",
                            "2                           GlenAllachie 15 Year Old  Speyside Whisky   \n",
                            "3  Seaweed & Aeons & Digging & Fire & Cask Streng...     Islay Whisky   \n",
                            "4                               Edradour 10 Year Old  Highland Whisky   \n",
                            "\n",
                            "                         distillery                           bottler   age  \\\n",
                            "0                          Dufftown                          Dufftown  12.0   \n",
                            "1                         Laphroaig                         Laphroaig  10.0   \n",
                            "2                      GlenAllachie                      GlenAllachie  15.0   \n",
                            "3  Seaweed & Aeons & Digging & Fire  Seaweed & Aeons & Digging & Fire  10.0   \n",
                            "4                          Edradour                          Edradour  10.0   \n",
                            "\n",
                            "    ABV chill_filter cask_strength  maturation_bourbon  maturation_brandy  \\\n",
                            "0  40.0          NaN           NaN                 0.0                0.0   \n",
                            "1  48.0          NaN           NaN                 0.0                0.0   \n",
                            "2  46.0          NaN           NaN                 0.0                0.0   \n",
                            "3  58.3          NaN          True                 0.0                0.0   \n",
                            "4  40.0          NaN           NaN                 1.0                0.0   \n",
                            "\n",
                            "   ...  finish: fizzy  finish: charred_oak  finish: jam  finish: buttered  \\\n",
                            "0  ...            0.0                  0.0          0.0               0.0   \n",
                            "1  ...            0.0                  0.0          0.0               0.0   \n",
                            "2  ...            0.0                  0.0          0.0               0.0   \n",
                            "3  ...            0.0                  0.0          0.0               0.0   \n",
                            "4  ...            0.0                  0.0          0.0               0.0   \n",
                            "\n",
                            "   finish: peaty  finish: hay  finish: whisky  finish: pine  finish: grist  \\\n",
                            "0            0.0          0.0             0.0           0.0            0.0   \n",
                            "1            0.0          0.0             0.0           0.0            0.0   \n",
                            "2            0.0          0.0             0.0           0.0            0.0   \n",
                            "3            0.0          0.0             0.0           0.0            0.0   \n",
                            "4            0.0          0.0             0.0           0.0            0.0   \n",
                            "\n",
                            "   finish: refreshing  \n",
                            "0                 0.0  \n",
                            "1                 0.0  \n",
                            "2                 0.0  \n",
                            "3                 0.0  \n",
                            "4                 0.0  \n",
                            "\n",
                            "[5 rows x 1194 columns]"
                        ]
                    },
                    "metadata": {},
                    "execution_count": 836
                }
            ],
            "metadata": {}
        },
        {
            "cell_type": "code",
            "execution_count": 842,
            "source": [
                "new_whisk4.to_csv(\"data\\\\interim\\\\whisk_bow_encoded.csv\")"
            ],
            "outputs": [],
            "metadata": {}
        }
    ],
    "metadata": {
        "orig_nbformat": 4,
        "language_info": {
            "name": "python",
            "version": "3.8.11",
            "mimetype": "text/x-python",
            "codemirror_mode": {
                "name": "ipython",
                "version": 3
            },
            "pygments_lexer": "ipython3",
            "nbconvert_exporter": "python",
            "file_extension": ".py"
        },
        "kernelspec": {
            "name": "python3",
            "display_name": "Python 3.9.6 64-bit ('sb_cpstone3': conda)"
        },
        "interpreter": {
            "hash": "95508d1f9e276930ee7bf977622471e4c9572bc985693ed5ef89eacdfe75f4af"
        }
    },
    "nbformat": 4,
    "nbformat_minor": 2
}