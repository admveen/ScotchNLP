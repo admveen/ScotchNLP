{
    "cells": [
        {
            "cell_type": "markdown",
            "source": [
                "# Scotch Whisky Exploration: Data Wrangling"
            ],
            "metadata": {}
        },
        {
            "cell_type": "code",
            "execution_count": 1,
            "source": [
                "import numpy as np\r\n",
                "import pandas as pd\r\n",
                "import re\r\n",
                "import spacy\r\n"
            ],
            "outputs": [],
            "metadata": {}
        },
        {
            "cell_type": "code",
            "execution_count": 2,
            "source": [
                "whiskydf_raw = pd.read_json(\"whiskeyscraper/MoM_whiskydata.json\")"
            ],
            "outputs": [],
            "metadata": {}
        },
        {
            "cell_type": "code",
            "execution_count": 3,
            "source": [
                "whiskydf_raw.head(2)"
            ],
            "outputs": [
                {
                    "output_type": "execute_result",
                    "data": {
                        "text/plain": [
                            "                                      name  \\\n",
                            "0        Singleton of Dufftown 12 Year Old   \n",
                            "1  Laphroaig 10 Year Old Sherry Oak Finish   \n",
                            "\n",
                            "                                                nose  \\\n",
                            "0  Malty with cereal/barley sweetness, buttery to...   \n",
                            "1  Smoked meats, maple syrup, BBQ lemon, charred ...   \n",
                            "\n",
                            "                                              palate  \\\n",
                            "0  Orange zest spiciness perks up a malty core of...   \n",
                            "1  More roasted cedar and peat smoke, with a hint...   \n",
                            "\n",
                            "                                              finish  \\\n",
                            "0   Oaky, rich with good length, some fruit lingers.   \n",
                            "1  A balanced finish of sherried sweetness and sm...   \n",
                            "\n",
                            "                                         description           region  \\\n",
                            "0  A straightforward, nutty and malty single malt...  Speyside Whisky   \n",
                            "1  Smoke and sherry here from Laphroaig! The lege...     Islay Whisky   \n",
                            "\n",
                            "                style distillery    bottler                 age alcohol  \\\n",
                            "0  Single Malt Whisky   Dufftown   Dufftown  12 year old Whisky   40.0%   \n",
                            "1  Single Malt Whisky  Laphroaig  Laphroaig  10 year old Whisky   48.0%   \n",
                            "\n",
                            "  maturation chill_filter cask_strength  \n",
                            "0        NaN          NaN           NaN  \n",
                            "1        NaN          NaN           NaN  "
                        ],
                        "text/html": [
                            "<div>\n",
                            "<style scoped>\n",
                            "    .dataframe tbody tr th:only-of-type {\n",
                            "        vertical-align: middle;\n",
                            "    }\n",
                            "\n",
                            "    .dataframe tbody tr th {\n",
                            "        vertical-align: top;\n",
                            "    }\n",
                            "\n",
                            "    .dataframe thead th {\n",
                            "        text-align: right;\n",
                            "    }\n",
                            "</style>\n",
                            "<table border=\"1\" class=\"dataframe\">\n",
                            "  <thead>\n",
                            "    <tr style=\"text-align: right;\">\n",
                            "      <th></th>\n",
                            "      <th>name</th>\n",
                            "      <th>nose</th>\n",
                            "      <th>palate</th>\n",
                            "      <th>finish</th>\n",
                            "      <th>description</th>\n",
                            "      <th>region</th>\n",
                            "      <th>style</th>\n",
                            "      <th>distillery</th>\n",
                            "      <th>bottler</th>\n",
                            "      <th>age</th>\n",
                            "      <th>alcohol</th>\n",
                            "      <th>maturation</th>\n",
                            "      <th>chill_filter</th>\n",
                            "      <th>cask_strength</th>\n",
                            "    </tr>\n",
                            "  </thead>\n",
                            "  <tbody>\n",
                            "    <tr>\n",
                            "      <th>0</th>\n",
                            "      <td>Singleton of Dufftown 12 Year Old</td>\n",
                            "      <td>Malty with cereal/barley sweetness, buttery to...</td>\n",
                            "      <td>Orange zest spiciness perks up a malty core of...</td>\n",
                            "      <td>Oaky, rich with good length, some fruit lingers.</td>\n",
                            "      <td>A straightforward, nutty and malty single malt...</td>\n",
                            "      <td>Speyside Whisky</td>\n",
                            "      <td>Single Malt Whisky</td>\n",
                            "      <td>Dufftown</td>\n",
                            "      <td>Dufftown</td>\n",
                            "      <td>12 year old Whisky</td>\n",
                            "      <td>40.0%</td>\n",
                            "      <td>NaN</td>\n",
                            "      <td>NaN</td>\n",
                            "      <td>NaN</td>\n",
                            "    </tr>\n",
                            "    <tr>\n",
                            "      <th>1</th>\n",
                            "      <td>Laphroaig 10 Year Old Sherry Oak Finish</td>\n",
                            "      <td>Smoked meats, maple syrup, BBQ lemon, charred ...</td>\n",
                            "      <td>More roasted cedar and peat smoke, with a hint...</td>\n",
                            "      <td>A balanced finish of sherried sweetness and sm...</td>\n",
                            "      <td>Smoke and sherry here from Laphroaig! The lege...</td>\n",
                            "      <td>Islay Whisky</td>\n",
                            "      <td>Single Malt Whisky</td>\n",
                            "      <td>Laphroaig</td>\n",
                            "      <td>Laphroaig</td>\n",
                            "      <td>10 year old Whisky</td>\n",
                            "      <td>48.0%</td>\n",
                            "      <td>NaN</td>\n",
                            "      <td>NaN</td>\n",
                            "      <td>NaN</td>\n",
                            "    </tr>\n",
                            "  </tbody>\n",
                            "</table>\n",
                            "</div>"
                        ]
                    },
                    "metadata": {},
                    "execution_count": 3
                }
            ],
            "metadata": {}
        },
        {
            "cell_type": "markdown",
            "source": [
                "## Initial Data Clean\r\n",
                "#### Dropping observations with no reviews or missing taste,nose, and finish notes.\r\n",
                "#### Coverting/cleaning numeric columns. "
            ],
            "metadata": {}
        },
        {
            "cell_type": "code",
            "execution_count": 4,
            "source": [
                "whiskydf_raw.info()"
            ],
            "outputs": [
                {
                    "output_type": "stream",
                    "name": "stdout",
                    "text": [
                        "<class 'pandas.core.frame.DataFrame'>\n",
                        "RangeIndex: 14143 entries, 0 to 14142\n",
                        "Data columns (total 14 columns):\n",
                        " #   Column         Non-Null Count  Dtype \n",
                        "---  ------         --------------  ----- \n",
                        " 0   name           14143 non-null  object\n",
                        " 1   nose           8553 non-null   object\n",
                        " 2   palate         8552 non-null   object\n",
                        " 3   finish         8488 non-null   object\n",
                        " 4   description    14143 non-null  object\n",
                        " 5   region         14143 non-null  object\n",
                        " 6   style          14143 non-null  object\n",
                        " 7   distillery     14143 non-null  object\n",
                        " 8   bottler        14142 non-null  object\n",
                        " 9   age            10667 non-null  object\n",
                        " 10  alcohol        14142 non-null  object\n",
                        " 11  maturation     2376 non-null   object\n",
                        " 12  chill_filter   479 non-null    object\n",
                        " 13  cask_strength  1022 non-null   object\n",
                        "dtypes: object(14)\n",
                        "memory usage: 1.5+ MB\n"
                    ]
                }
            ],
            "metadata": {}
        },
        {
            "cell_type": "markdown",
            "source": [
                "### Let's keep the subset of whiskeys where there are tasting notes (e.g. where nose, palate, and finish are not null)"
            ],
            "metadata": {}
        },
        {
            "cell_type": "code",
            "execution_count": 5,
            "source": [
                "tastingnote_cols = ['nose', 'palate', 'finish']\r\n",
                "\r\n",
                "whiskydf_raw[tastingnote_cols].isna().all() == True"
            ],
            "outputs": [
                {
                    "output_type": "execute_result",
                    "data": {
                        "text/plain": [
                            "nose      False\n",
                            "palate    False\n",
                            "finish    False\n",
                            "dtype: bool"
                        ]
                    },
                    "metadata": {},
                    "execution_count": 5
                }
            ],
            "metadata": {}
        },
        {
            "cell_type": "markdown",
            "source": [
                "Takes subset where Master of Malt bros have created tasting notes on the whiskey. "
            ],
            "metadata": {}
        },
        {
            "cell_type": "code",
            "execution_count": 6,
            "source": [
                "whisky_df =  whiskydf_raw.dropna(how = \"any\", axis = 0, subset= tastingnote_cols)"
            ],
            "outputs": [],
            "metadata": {}
        },
        {
            "cell_type": "code",
            "execution_count": 7,
            "source": [
                "whisky_df.info()"
            ],
            "outputs": [
                {
                    "output_type": "stream",
                    "name": "stdout",
                    "text": [
                        "<class 'pandas.core.frame.DataFrame'>\n",
                        "Int64Index: 8485 entries, 0 to 14141\n",
                        "Data columns (total 14 columns):\n",
                        " #   Column         Non-Null Count  Dtype \n",
                        "---  ------         --------------  ----- \n",
                        " 0   name           8485 non-null   object\n",
                        " 1   nose           8485 non-null   object\n",
                        " 2   palate         8485 non-null   object\n",
                        " 3   finish         8485 non-null   object\n",
                        " 4   description    8485 non-null   object\n",
                        " 5   region         8485 non-null   object\n",
                        " 6   style          8485 non-null   object\n",
                        " 7   distillery     8485 non-null   object\n",
                        " 8   bottler        8485 non-null   object\n",
                        " 9   age            6557 non-null   object\n",
                        " 10  alcohol        8485 non-null   object\n",
                        " 11  maturation     1613 non-null   object\n",
                        " 12  chill_filter   403 non-null    object\n",
                        " 13  cask_strength  550 non-null    object\n",
                        "dtypes: object(14)\n",
                        "memory usage: 994.3+ KB\n"
                    ]
                }
            ],
            "metadata": {}
        },
        {
            "cell_type": "markdown",
            "source": [
                "Our scraper extracted a good amount of data and it'll be good to see whether there are some entries that don't belong (i.e styles that are not single malt, etc.)"
            ],
            "metadata": {}
        },
        {
            "cell_type": "code",
            "execution_count": 8,
            "source": [
                "whisky_df['style'].unique()"
            ],
            "outputs": [
                {
                    "output_type": "execute_result",
                    "data": {
                        "text/plain": [
                            "array(['Single Malt Whisky'], dtype=object)"
                        ]
                    },
                    "metadata": {},
                    "execution_count": 8
                }
            ],
            "metadata": {}
        },
        {
            "cell_type": "markdown",
            "source": [
                "Alright, so these are all single malt whiskies. Good. But since there's only one value the column carries no information. We'll drop it.  Also there seem to be no disambiguations/mispellings in the Scotch whisky region names. Each unique entry corresponds to a different Scotch whisky making region."
            ],
            "metadata": {}
        },
        {
            "cell_type": "code",
            "execution_count": 9,
            "source": [
                "whisky_df.region.unique()"
            ],
            "outputs": [
                {
                    "output_type": "execute_result",
                    "data": {
                        "text/plain": [
                            "array(['Speyside Whisky', 'Islay Whisky', 'Highland Whisky',\n",
                            "       'Island Whisky', 'Scotch Whisky', 'Lowland Whisky',\n",
                            "       'Campbeltown Whisky', 'Other Scotch Whisky'], dtype=object)"
                        ]
                    },
                    "metadata": {},
                    "execution_count": 9
                }
            ],
            "metadata": {}
        },
        {
            "cell_type": "code",
            "execution_count": 10,
            "source": [
                "whisky_df = whisky_df.drop(columns = ['style'])\r\n",
                "print(whisky_df.columns)"
            ],
            "outputs": [
                {
                    "output_type": "stream",
                    "name": "stdout",
                    "text": [
                        "Index(['name', 'nose', 'palate', 'finish', 'description', 'region',\n",
                        "       'distillery', 'bottler', 'age', 'alcohol', 'maturation', 'chill_filter',\n",
                        "       'cask_strength'],\n",
                        "      dtype='object')\n"
                    ]
                }
            ],
            "metadata": {}
        },
        {
            "cell_type": "markdown",
            "source": [
                "#### Age column\r\n",
                "Now we'll tackle the age column. Generally, the whiskies are matured for years in casks before bottling. The age corresponds to the aging before bottling. But let's check whether there are other units (months, etc.) of aging buried in the data."
            ],
            "metadata": {}
        },
        {
            "cell_type": "code",
            "execution_count": 11,
            "source": [
                "whisky_df.age.head(3)"
            ],
            "outputs": [
                {
                    "output_type": "execute_result",
                    "data": {
                        "text/plain": [
                            "0    12 year old Whisky\n",
                            "1    10 year old Whisky\n",
                            "2    15 year old Whisky\n",
                            "Name: age, dtype: object"
                        ]
                    },
                    "metadata": {},
                    "execution_count": 11
                }
            ],
            "metadata": {}
        },
        {
            "cell_type": "markdown",
            "source": [
                "The second word is the aging unit (year). Let's extract this second word and see if anything else pops up."
            ],
            "metadata": {}
        },
        {
            "cell_type": "code",
            "execution_count": 12,
            "source": [
                "whisky_df.age.str.split().str[1].unique()"
            ],
            "outputs": [
                {
                    "output_type": "execute_result",
                    "data": {
                        "text/plain": [
                            "array(['year', nan], dtype=object)"
                        ]
                    },
                    "metadata": {},
                    "execution_count": 12
                }
            ],
            "metadata": {}
        },
        {
            "cell_type": "markdown",
            "source": [
                "Nope. Either the age is recorded in years or the entry corresponds to a whisky with no age statement. Let's process this understanding that age is in years and convert the column to numeric."
            ],
            "metadata": {}
        },
        {
            "cell_type": "code",
            "execution_count": 13,
            "source": [
                "#convert whiskey age to numeric.\r\n",
                "whisky_df.age = whisky_df.age.str.split(' ').str[0].astype('float')"
            ],
            "outputs": [],
            "metadata": {}
        },
        {
            "cell_type": "code",
            "execution_count": 14,
            "source": [
                "np.sort(whisky_df.age.unique())"
            ],
            "outputs": [
                {
                    "output_type": "execute_result",
                    "data": {
                        "text/plain": [
                            "array([   3.,    4.,    5.,    6.,    7.,    8.,    9.,   10.,   11.,\n",
                            "         12.,   13.,   14.,   15.,   16.,   17.,   18.,   19.,   20.,\n",
                            "         21.,   22.,   23.,   24.,   25.,   26.,   27.,   28.,   29.,\n",
                            "         30.,   31.,   32.,   33.,   34.,   35.,   36.,   37.,   38.,\n",
                            "         39.,   40.,   41.,   42.,   43.,   44.,   45.,   46.,   47.,\n",
                            "         48.,   49.,   50.,   51.,   52.,   54.,   55.,   56.,   60.,\n",
                            "         62.,   64.,   65.,   71.,   78.,  105., 2003.,   nan])"
                        ]
                    },
                    "metadata": {},
                    "execution_count": 14
                }
            ],
            "metadata": {}
        },
        {
            "cell_type": "markdown",
            "source": [
                "105 and 2003 year old whisky are possible outliers. Let's investigate more closely."
            ],
            "metadata": {}
        },
        {
            "cell_type": "code",
            "execution_count": 15,
            "source": [
                "whisky_df[whisky_df.age == 105]"
            ],
            "outputs": [
                {
                    "output_type": "execute_result",
                    "data": {
                        "text/plain": [
                            "                                                   name  \\\n",
                            "9219  Aisla T'Orten 105 Year Old 1906 - Liquid Histo...   \n",
                            "\n",
                            "                                                   nose  \\\n",
                            "9219  The most unique bouquet I’ve ever experienced....   \n",
                            "\n",
                            "                                                 palate  \\\n",
                            "9219  Heaven is spelt “T-O-R-T-E-N”. This conjures u...   \n",
                            "\n",
                            "                                                 finish  \\\n",
                            "9219  To say this was long would be an understatemen...   \n",
                            "\n",
                            "                                            description           region  \\\n",
                            "9219  The world's oldest whisky. Read more about thi...  Highland Whisky   \n",
                            "\n",
                            "         distillery         bottler    age alcohol maturation chill_filter  \\\n",
                            "9219  Aisla T'Orten  Master of Malt  105.0   40.7%     Sherry          NaN   \n",
                            "\n",
                            "     cask_strength  \n",
                            "9219           NaN  "
                        ],
                        "text/html": [
                            "<div>\n",
                            "<style scoped>\n",
                            "    .dataframe tbody tr th:only-of-type {\n",
                            "        vertical-align: middle;\n",
                            "    }\n",
                            "\n",
                            "    .dataframe tbody tr th {\n",
                            "        vertical-align: top;\n",
                            "    }\n",
                            "\n",
                            "    .dataframe thead th {\n",
                            "        text-align: right;\n",
                            "    }\n",
                            "</style>\n",
                            "<table border=\"1\" class=\"dataframe\">\n",
                            "  <thead>\n",
                            "    <tr style=\"text-align: right;\">\n",
                            "      <th></th>\n",
                            "      <th>name</th>\n",
                            "      <th>nose</th>\n",
                            "      <th>palate</th>\n",
                            "      <th>finish</th>\n",
                            "      <th>description</th>\n",
                            "      <th>region</th>\n",
                            "      <th>distillery</th>\n",
                            "      <th>bottler</th>\n",
                            "      <th>age</th>\n",
                            "      <th>alcohol</th>\n",
                            "      <th>maturation</th>\n",
                            "      <th>chill_filter</th>\n",
                            "      <th>cask_strength</th>\n",
                            "    </tr>\n",
                            "  </thead>\n",
                            "  <tbody>\n",
                            "    <tr>\n",
                            "      <th>9219</th>\n",
                            "      <td>Aisla T'Orten 105 Year Old 1906 - Liquid Histo...</td>\n",
                            "      <td>The most unique bouquet I’ve ever experienced....</td>\n",
                            "      <td>Heaven is spelt “T-O-R-T-E-N”. This conjures u...</td>\n",
                            "      <td>To say this was long would be an understatemen...</td>\n",
                            "      <td>The world's oldest whisky. Read more about thi...</td>\n",
                            "      <td>Highland Whisky</td>\n",
                            "      <td>Aisla T'Orten</td>\n",
                            "      <td>Master of Malt</td>\n",
                            "      <td>105.0</td>\n",
                            "      <td>40.7%</td>\n",
                            "      <td>Sherry</td>\n",
                            "      <td>NaN</td>\n",
                            "      <td>NaN</td>\n",
                            "    </tr>\n",
                            "  </tbody>\n",
                            "</table>\n",
                            "</div>"
                        ]
                    },
                    "metadata": {},
                    "execution_count": 15
                }
            ],
            "metadata": {}
        },
        {
            "cell_type": "code",
            "execution_count": 16,
            "source": [
                "whisky_df[whisky_df.age == 105].description.values"
            ],
            "outputs": [
                {
                    "output_type": "execute_result",
                    "data": {
                        "text/plain": [
                            "array([\"The world's oldest whisky. Read more about this extraordinary liquid history over on the Master of Malt blog . OK everyone, we have to come clean! The miraculous discovery of this 105 year old whisky may have had something to do with its launch on April Fools’ Day 2011. It’s also possible that some sneaky anagrams were used in some of the names in the story: Allie Sisell (the discoverer of the cask):  Aethenias Simonvent (the distillery’s founder):  And there’s a good chance that if you rearrange the letters in Aisla T’Orten distillery you get:\"],\n",
                            "      dtype=object)"
                        ]
                    },
                    "metadata": {},
                    "execution_count": 16
                }
            ],
            "metadata": {}
        },
        {
            "cell_type": "markdown",
            "source": [
                "It's an April Fools joke! Gaaaarrrrr!!!! Remove this."
            ],
            "metadata": {}
        },
        {
            "cell_type": "code",
            "execution_count": 17,
            "source": [
                "whisky_df = whisky_df[~(whisky_df.age == 105)]\r\n",
                "print(whisky_df.age.unique())"
            ],
            "outputs": [
                {
                    "output_type": "stream",
                    "name": "stdout",
                    "text": [
                        "[  12.   10.   15.   nan   18.   25.   14.   21.   13.   16.    8.    5.\n",
                        "   11.   26.   23.   43.   28.   24.    9.   30.   29.   42.   19.   27.\n",
                        "   20.   17.    7.   40.    6.   22.   45.    3.   37.   35.   31.   64.\n",
                        "   50.   46.   36.   32.   44.   56.   38.   34.   33.   62.    4.   41.\n",
                        "   39. 2003.   60.   54.   55.   78.   52.   49.   47.   48.   51.   71.\n",
                        "   65.]\n"
                    ]
                }
            ],
            "metadata": {}
        },
        {
            "cell_type": "code",
            "execution_count": 18,
            "source": [
                "whisky_df[whisky_df.age == 2003].description.values"
            ],
            "outputs": [
                {
                    "output_type": "execute_result",
                    "data": {
                        "text/plain": [
                            "array([\"Batch 4 of Benromach's Origins range, bottled in 2013, is matured entirely in first fill Port pipes and peated to a level of 8ppm. The idea behind the range is to highlight how changing different factors during production results in different characteristics in the final spirit.\"],\n",
                            "      dtype=object)"
                        ]
                    },
                    "metadata": {},
                    "execution_count": 18
                }
            ],
            "metadata": {}
        },
        {
            "cell_type": "markdown",
            "source": [
                "This batch was started on 2003 but bottled in 2013, so we'll change the age value to 10 years. "
            ],
            "metadata": {}
        },
        {
            "cell_type": "code",
            "execution_count": 19,
            "source": [
                "whisky_df.loc[whisky_df.age == 2003, \"age\"] = 10"
            ],
            "outputs": [],
            "metadata": {}
        },
        {
            "cell_type": "code",
            "execution_count": 20,
            "source": [
                "# check if we have removed the outlier. \r\n",
                "whisky_df.age.unique()"
            ],
            "outputs": [
                {
                    "output_type": "execute_result",
                    "data": {
                        "text/plain": [
                            "array([12., 10., 15., nan, 18., 25., 14., 21., 13., 16.,  8.,  5., 11.,\n",
                            "       26., 23., 43., 28., 24.,  9., 30., 29., 42., 19., 27., 20., 17.,\n",
                            "        7., 40.,  6., 22., 45.,  3., 37., 35., 31., 64., 50., 46., 36.,\n",
                            "       32., 44., 56., 38., 34., 33., 62.,  4., 41., 39., 60., 54., 55.,\n",
                            "       78., 52., 49., 47., 48., 51., 71., 65.])"
                        ]
                    },
                    "metadata": {},
                    "execution_count": 20
                }
            ],
            "metadata": {}
        },
        {
            "cell_type": "markdown",
            "source": [
                "#### Alcohol column\r\n",
                "Yes. Now we convert the alcohol column to numeric value, we'll also change the name from alcohol to ABV as this is known to be in percent."
            ],
            "metadata": {}
        },
        {
            "cell_type": "code",
            "execution_count": 21,
            "source": [
                "whisky_df.alcohol = whisky_df.alcohol.str.replace('%', '').astype('float')\r\n",
                "#check for NaNs\r\n",
                "print(whisky_df.alcohol.isna().any())"
            ],
            "outputs": [
                {
                    "output_type": "stream",
                    "name": "stdout",
                    "text": [
                        "False\n"
                    ]
                }
            ],
            "metadata": {}
        },
        {
            "cell_type": "code",
            "execution_count": 22,
            "source": [
                "whisky_df.rename(columns = {'alcohol': 'ABV'}, inplace = True)\r\n",
                "print(whisky_df.columns)"
            ],
            "outputs": [
                {
                    "output_type": "stream",
                    "name": "stdout",
                    "text": [
                        "Index(['name', 'nose', 'palate', 'finish', 'description', 'region',\n",
                        "       'distillery', 'bottler', 'age', 'ABV', 'maturation', 'chill_filter',\n",
                        "       'cask_strength'],\n",
                        "      dtype='object')\n"
                    ]
                }
            ],
            "metadata": {}
        },
        {
            "cell_type": "markdown",
            "source": [
                "#### cask_strength and chill_filter have Yes/No entries when populated. Let's convert these to Boolean."
            ],
            "metadata": {}
        },
        {
            "cell_type": "code",
            "execution_count": 23,
            "source": [
                "print({'cask_strength_unique': whisky_df.cask_strength.unique(), 'chill_filter_unique': whisky_df.chill_filter.unique()})"
            ],
            "outputs": [
                {
                    "output_type": "stream",
                    "name": "stdout",
                    "text": [
                        "{'cask_strength_unique': array([nan, 'No', 'Yes'], dtype=object), 'chill_filter_unique': array([nan, 'No', 'Yes'], dtype=object)}\n"
                    ]
                }
            ],
            "metadata": {}
        },
        {
            "cell_type": "code",
            "execution_count": 24,
            "source": [
                "whisky_df.loc[:, ['cask_strength', 'chill_filter']] = whisky_df[['cask_strength', 'chill_filter']].replace({'Yes': True, 'No': False})"
            ],
            "outputs": [],
            "metadata": {}
        },
        {
            "cell_type": "code",
            "execution_count": 25,
            "source": [
                "print({'cask_strength_unique': whisky_df.cask_strength.unique(), 'chill_filter_unique': whisky_df.chill_filter.unique()})"
            ],
            "outputs": [
                {
                    "output_type": "stream",
                    "name": "stdout",
                    "text": [
                        "{'cask_strength_unique': array([nan, False, True], dtype=object), 'chill_filter_unique': array([nan, False, True], dtype=object)}\n"
                    ]
                }
            ],
            "metadata": {}
        },
        {
            "cell_type": "markdown",
            "source": [
                "## Free text columns: Description, taste, nose, and palate\r\n",
                "\r\n",
                "We want to extract information about the whiskies from these columns. Some of this info will be concrete (is it cask strength? is it chill filtered? which barrels was it aged in?). Some of that info is in the description but was not put into the bottle detail data on the website...so we'll need to extract it from free text and put it into the appropriate existing dataframe column. "
            ],
            "metadata": {}
        },
        {
            "cell_type": "code",
            "execution_count": 44,
            "source": [
                "# we're going to import necessary NLP libraries\r\n",
                "\r\n",
                "import spacy\r\n",
                "from spacy.tokens import Doc, Span, Token # for creating global objects \r\n",
                "from spacy.matcher import Matcher # for rule-based matching\r\n",
                "from spacy.language import Language # for building custom pipeline components\r\n",
                "from spacy.pipeline import EntityRuler \r\n",
                "\r\n",
                "from copy import deepcopy\r\n"
            ],
            "outputs": [],
            "metadata": {}
        },
        {
            "cell_type": "markdown",
            "source": [
                "#### We create our nlp object and we are going to use a rule-based scheme to get some named entities."
            ],
            "metadata": {}
        },
        {
            "cell_type": "code",
            "execution_count": 45,
            "source": [
                "nlp = spacy.load('en_core_web_lg') # loads our NLP model\r\n",
                "\r\n",
                "# creates ruler\r\n",
                "ruler = nlp.add_pipe(\"entity_ruler\")\r\n",
                "\r\n",
                "#pattern_csk1 = [{\"POS\": \"NOUN\", \"OP\":\"*\"}, {\"LEMMA\": \"cask\"}]\r\n",
                "pattern_csk1 = [{\"POS\": \"NOUN\", \"OP\":\"*\"}, {\"LEMMA\": {\"IN\": [\"cask\", \"octave\", \"pipe\", \"puncheon\", \"butt\", \"barrel\"]} } ]\r\n",
                "pattern_csk2 = [{\"POS\": \"NOUN\", \"OP\":\"*\"}, {\"POS\": \"CCONJ\"}, {\"POS\": \"NOUN\", \"OP\":\"*\"}, {\"LEMMA\": {\"IN\": [\"cask\", \"octave\", \"pipe\", \"puncheon\", \"butt\"]} } ]\r\n",
                "patterns = [ {\"label\": \"CSK\", \"pattern\": pattern_csk1 }, {\"label\": \"CSK\", \"pattern\": pattern_csk2 }, {\"label\": \"WOD\", \"pattern\": pattern_csk2 } ]\r\n",
                "\r\n",
                "# adds rules that will be used to parse and create entities\r\n",
                "ruler.add_patterns(patterns)\r\n",
                "\r\n"
            ],
            "outputs": [],
            "metadata": {}
        },
        {
            "cell_type": "markdown",
            "source": [
                "We want to batch process all the description text. So we'll construct a pipeline. We also want to keep track of what description belongs to what whisky. This will enable us to rejoin any results from NLP into our pandas dataframe. So we will construct a custom attribute via context creation."
            ],
            "metadata": {}
        },
        {
            "cell_type": "code",
            "execution_count": 46,
            "source": [
                "# passing context metadata into attributes via pipeline requires the data to be in a specific form. We'll create a function to do transform the data into the right form.\r\n",
                "# then the data will be used to create a Doc object generator based off of the text and context metadata.\r\n",
                "\r\n",
                "def doc_context_tupling(data, textcolname, *args):\r\n",
                "    col_list = [textcolname]\r\n",
                "    attr_list = list(args)\r\n",
                "    \r\n",
                "    col_list.extend(attr_list)\r\n",
                "\r\n",
                "    # data is in dataframe w/ form of whisky_df\r\n",
                "    subset_dict_list = list(data[col_list].T.to_dict().values())\r\n",
                "\r\n",
                "    # now let's form a (text, context_dictionary) tuple which is what the spacy pipeline requires. \r\n",
                "\r\n",
                "    data_context_list = [ (subset_dict.pop(textcolname), subset_dict) for subset_dict in subset_dict_list]\r\n",
                "\r\n",
                "    # for each key-value pair in args, we'll need to create a Doc extension attribute.\r\n",
                "    \r\n",
                "\r\n",
                "    for doc, context in nlp.pipe(data_context_list, as_tuples = True):\r\n",
                "        Doc.set_extension('context', force = True, default = context)\r\n",
                "        yield doc\r\n"
            ],
            "outputs": [],
            "metadata": {}
        },
        {
            "cell_type": "markdown",
            "source": [
                "We are going to use some domain knowledge. It is unlikely that a whisky producer or reviewer would mention chill filtration in a description unless the whisky was NOT chill filtered. Chill filtration is a process that removes some esthers and fatty acids that can become non-soluble in lower ABV whisky at cooler temperatures. The process can prevent clouding but many connosieurs believe that it degrades the quality of the whisky and removes some of its mouthfeel and complexity. In any case, saying that your whisky is non chill-filtered is a point of pride. We'll thus create a very simple rule based matcher for this and not worry too heavily about the possibility that the review is saying that it IS chill filtered. The same logic goes for whether a whisky is cask strength or not."
            ],
            "metadata": {}
        },
        {
            "cell_type": "code",
            "execution_count": 47,
            "source": [
                "def update_cs_cf_info(data):\r\n",
                "\r\n",
                "    matcher = Matcher(nlp.vocab)\r\n",
                "    pattern1 = [{'LOWER': 'chill'}, {'IS_PUNCT': True, 'OP': \"?\"},  {'LEMMA': 'filtration'} ]\r\n",
                "    pattern2 = [{'LOWER': 'chill'}, {'IS_PUNCT': True, 'OP': \"?\"},  {'LEMMA': 'filter'} ]\r\n",
                "    matcher.add('CHILL_FILTER', [pattern1, pattern2])\r\n",
                "\r\n",
                "    matcher2 = Matcher(nlp.vocab)\r\n",
                "    pattern3 = [{'LOWER': 'cask'}, {'IS_PUNCT': True, 'OP': \"?\"},  {'LEMMA': 'strength'} ]\r\n",
                "    matcher2.add('CASK_STRENGTH', [pattern3])\r\n",
                "\r\n",
                "    descript_corpus = doc_context_tupling(data, 'description', 'name')\r\n",
                "\r\n",
                "    new_data = deepcopy(data)\r\n",
                "\r\n",
                "    for doc in descript_corpus:\r\n",
                "\r\n",
                "        matches_chillf = matcher(doc)\r\n",
                "        matches_cask = matcher2(doc)\r\n",
                "        \r\n",
                "        if len(matches_cask) > 0:\r\n",
                "            new_data.loc[new_data.name == doc._.context['name'], 'cask_strength'] =  True \r\n",
                "        \r\n",
                "        counter = 0\r\n",
                "        if len(matches_chillf) > 0:\r\n",
                "            new_data.loc[new_data.name == doc._.context['name'], 'chill_filter'] =  False \r\n",
                "\r\n",
                "    return new_data\r\n",
                "\r\n"
            ],
            "outputs": [],
            "metadata": {}
        },
        {
            "cell_type": "code",
            "execution_count": 48,
            "source": [
                "new_whisk = update_cs_cf_info(whisky_df)"
            ],
            "outputs": [],
            "metadata": {}
        },
        {
            "cell_type": "code",
            "execution_count": 49,
            "source": [
                "new_whisk.info()"
            ],
            "outputs": [
                {
                    "output_type": "stream",
                    "name": "stdout",
                    "text": [
                        "<class 'pandas.core.frame.DataFrame'>\n",
                        "Int64Index: 8484 entries, 0 to 14141\n",
                        "Data columns (total 13 columns):\n",
                        " #   Column         Non-Null Count  Dtype  \n",
                        "---  ------         --------------  -----  \n",
                        " 0   name           8484 non-null   object \n",
                        " 1   nose           8484 non-null   object \n",
                        " 2   palate         8484 non-null   object \n",
                        " 3   finish         8484 non-null   object \n",
                        " 4   description    8484 non-null   object \n",
                        " 5   region         8484 non-null   object \n",
                        " 6   distillery     8484 non-null   object \n",
                        " 7   bottler        8484 non-null   object \n",
                        " 8   age            6556 non-null   float64\n",
                        " 9   ABV            8484 non-null   float64\n",
                        " 10  maturation     1612 non-null   object \n",
                        " 11  chill_filter   819 non-null    object \n",
                        " 12  cask_strength  1643 non-null   object \n",
                        "dtypes: float64(2), object(11)\n",
                        "memory usage: 1.2+ MB\n"
                    ]
                }
            ],
            "metadata": {}
        },
        {
            "cell_type": "markdown",
            "source": [
                "The description also has information about the wood / type of barrel(s) that the whisky was aged in.  We want to be able to extract that information from the free text. There are different names used for 'casks' in the corpus. Some examples are octaves, pipes, butts, puncheons, etc. There are technical differences between these (size, shape, etc) that can have effects on the whisky taste. But it'll be good to create a broad named entity class for this.\r\n",
                "\r\n",
                "Then there will be characteristics of the cask that directly impact flavor profiles such as whether the cask once held sherry, bourbon, etc or the kind of wood when relevant (oak can impart strong flavors to a Scotch)."
            ],
            "metadata": {}
        },
        {
            "cell_type": "code",
            "execution_count": 148,
            "source": [
                "dc = nlp(new_whisk.iloc[280].nose)\r\n",
                "print(dc)"
            ],
            "outputs": [
                {
                    "output_type": "stream",
                    "name": "stdout",
                    "text": [
                        "Some dates then what at first appears to be a touch of salinity, but is better described as a slightly sharp plum and apricot wine note. There's orange zest, toffee, hints of struck match and chocolate raisins, but before this starts to sound 'Sherried' there's also pear drops, a dusting of sweet cinnamon, honeysuckle and sweet pea.\n"
                    ]
                }
            ],
            "metadata": {}
        },
        {
            "cell_type": "code",
            "execution_count": 149,
            "source": [
                "[(token.text, token.pos_) for token in dc]"
            ],
            "outputs": [
                {
                    "output_type": "execute_result",
                    "data": {
                        "text/plain": [
                            "[('Some', 'DET'),\n",
                            " ('dates', 'NOUN'),\n",
                            " ('then', 'ADV'),\n",
                            " ('what', 'PRON'),\n",
                            " ('at', 'ADP'),\n",
                            " ('first', 'ADV'),\n",
                            " ('appears', 'VERB'),\n",
                            " ('to', 'PART'),\n",
                            " ('be', 'VERB'),\n",
                            " ('a', 'DET'),\n",
                            " ('touch', 'NOUN'),\n",
                            " ('of', 'ADP'),\n",
                            " ('salinity', 'NOUN'),\n",
                            " (',', 'PUNCT'),\n",
                            " ('but', 'CCONJ'),\n",
                            " ('is', 'AUX'),\n",
                            " ('better', 'ADV'),\n",
                            " ('described', 'VERB'),\n",
                            " ('as', 'ADP'),\n",
                            " ('a', 'DET'),\n",
                            " ('slightly', 'ADV'),\n",
                            " ('sharp', 'ADJ'),\n",
                            " ('plum', 'NOUN'),\n",
                            " ('and', 'CCONJ'),\n",
                            " ('apricot', 'ADJ'),\n",
                            " ('wine', 'NOUN'),\n",
                            " ('note', 'NOUN'),\n",
                            " ('.', 'PUNCT'),\n",
                            " ('There', 'PRON'),\n",
                            " (\"'s\", 'AUX'),\n",
                            " ('orange', 'ADJ'),\n",
                            " ('zest', 'NOUN'),\n",
                            " (',', 'PUNCT'),\n",
                            " ('toffee', 'NOUN'),\n",
                            " (',', 'PUNCT'),\n",
                            " ('hints', 'NOUN'),\n",
                            " ('of', 'ADP'),\n",
                            " ('struck', 'VERB'),\n",
                            " ('match', 'NOUN'),\n",
                            " ('and', 'CCONJ'),\n",
                            " ('chocolate', 'NOUN'),\n",
                            " ('raisins', 'NOUN'),\n",
                            " (',', 'PUNCT'),\n",
                            " ('but', 'CCONJ'),\n",
                            " ('before', 'ADP'),\n",
                            " ('this', 'DET'),\n",
                            " ('starts', 'VERB'),\n",
                            " ('to', 'PART'),\n",
                            " ('sound', 'VERB'),\n",
                            " (\"'\", 'PUNCT'),\n",
                            " ('Sherried', 'ADJ'),\n",
                            " (\"'\", 'PUNCT'),\n",
                            " ('there', 'PRON'),\n",
                            " (\"'s\", 'VERB'),\n",
                            " ('also', 'ADV'),\n",
                            " ('pear', 'NOUN'),\n",
                            " ('drops', 'NOUN'),\n",
                            " (',', 'PUNCT'),\n",
                            " ('a', 'DET'),\n",
                            " ('dusting', 'NOUN'),\n",
                            " ('of', 'ADP'),\n",
                            " ('sweet', 'ADJ'),\n",
                            " ('cinnamon', 'NOUN'),\n",
                            " (',', 'PUNCT'),\n",
                            " ('honeysuckle', 'PROPN'),\n",
                            " ('and', 'CCONJ'),\n",
                            " ('sweet', 'ADJ'),\n",
                            " ('pea', 'NOUN'),\n",
                            " ('.', 'PUNCT')]"
                        ]
                    },
                    "metadata": {},
                    "execution_count": 149
                }
            ],
            "metadata": {}
        },
        {
            "cell_type": "code",
            "execution_count": 150,
            "source": [
                "with dc.retokenize() as retokenizer:\r\n",
                "    for chunk in dc.noun_chunks:\r\n",
                "        retokenizer.merge(chunk)\r\n"
            ],
            "outputs": [],
            "metadata": {}
        },
        {
            "cell_type": "code",
            "execution_count": 151,
            "source": [
                "[token.lemma_ for token in dc if not token.is_stop]"
            ],
            "outputs": [
                {
                    "output_type": "execute_result",
                    "data": {
                        "text/plain": [
                            "['some date',\n",
                            " 'appear',\n",
                            " 'a touch',\n",
                            " 'salinity',\n",
                            " ',',\n",
                            " 'well',\n",
                            " 'describe',\n",
                            " 'a slightly sharp plum and apricot wine note',\n",
                            " '.',\n",
                            " 'orange zest',\n",
                            " ',',\n",
                            " 'toffee',\n",
                            " ',',\n",
                            " 'hint',\n",
                            " 'strike match',\n",
                            " 'chocolate raisin',\n",
                            " ',',\n",
                            " 'start',\n",
                            " 'sound',\n",
                            " \"'\",\n",
                            " 'sherried',\n",
                            " \"'\",\n",
                            " 'pear drop',\n",
                            " ',',\n",
                            " 'a dusting',\n",
                            " 'sweet cinnamon',\n",
                            " ',',\n",
                            " 'honeysuckle',\n",
                            " 'sweet pea',\n",
                            " '.']"
                        ]
                    },
                    "metadata": {},
                    "execution_count": 151
                }
            ],
            "metadata": {}
        },
        {
            "cell_type": "code",
            "execution_count": 152,
            "source": [
                "[(token.lemma_, token.pos_, token.dep_) for token in dc if not (token.is_punct | token.is_stop)]"
            ],
            "outputs": [
                {
                    "output_type": "execute_result",
                    "data": {
                        "text/plain": [
                            "[('some date', 'NOUN', 'ROOT'),\n",
                            " ('appear', 'VERB', 'relcl'),\n",
                            " ('a touch', 'NOUN', 'attr'),\n",
                            " ('salinity', 'NOUN', 'pobj'),\n",
                            " ('well', 'ADV', 'advmod'),\n",
                            " ('describe', 'VERB', 'conj'),\n",
                            " ('a slightly sharp plum and apricot wine note', 'NOUN', 'pobj'),\n",
                            " ('orange zest', 'NOUN', 'attr'),\n",
                            " ('toffee', 'NOUN', 'conj'),\n",
                            " ('hint', 'NOUN', 'conj'),\n",
                            " ('strike match', 'NOUN', 'pobj'),\n",
                            " ('chocolate raisin', 'NOUN', 'conj'),\n",
                            " ('start', 'VERB', 'advcl'),\n",
                            " ('sound', 'VERB', 'xcomp'),\n",
                            " ('sherried', 'ADJ', 'dobj'),\n",
                            " ('pear drop', 'NOUN', 'attr'),\n",
                            " ('a dusting', 'NOUN', 'attr'),\n",
                            " ('sweet cinnamon', 'NOUN', 'pobj'),\n",
                            " ('honeysuckle', 'PROPN', 'conj'),\n",
                            " ('sweet pea', 'NOUN', 'conj')]"
                        ]
                    },
                    "metadata": {},
                    "execution_count": 152
                }
            ],
            "metadata": {}
        },
        {
            "cell_type": "code",
            "execution_count": 55,
            "source": [
                "li = []\r\n",
                "for ent in dc.ents:\r\n",
                "    if ent.label_ == 'CSK':\r\n",
                "        print(ent)\r\n",
                "        "
            ],
            "outputs": [
                {
                    "output_type": "stream",
                    "name": "stdout",
                    "text": [
                        "port pipes\n"
                    ]
                }
            ],
            "metadata": {}
        },
        {
            "cell_type": "code",
            "execution_count": 36,
            "source": [
                "from sklearn.feature_extraction.text import TfidfVectorizer"
            ],
            "outputs": [],
            "metadata": {}
        },
        {
            "cell_type": "code",
            "execution_count": 37,
            "source": [
                "vect = TfidfVectorizer()"
            ],
            "outputs": [],
            "metadata": {}
        },
        {
            "cell_type": "code",
            "execution_count": 38,
            "source": [
                "Q = vect.fit_transform(new_whisk.nose.values)"
            ],
            "outputs": [
                {
                    "output_type": "error",
                    "ename": "NameError",
                    "evalue": "name 'new_whisk' is not defined",
                    "traceback": [
                        "\u001b[1;31m---------------------------------------------------------------------------\u001b[0m",
                        "\u001b[1;31mNameError\u001b[0m                                 Traceback (most recent call last)",
                        "\u001b[1;32m~\\AppData\\Local\\Temp/ipykernel_9812/1388982977.py\u001b[0m in \u001b[0;36m<module>\u001b[1;34m\u001b[0m\n\u001b[1;32m----> 1\u001b[1;33m \u001b[0mQ\u001b[0m \u001b[1;33m=\u001b[0m \u001b[0mvect\u001b[0m\u001b[1;33m.\u001b[0m\u001b[0mfit_transform\u001b[0m\u001b[1;33m(\u001b[0m\u001b[0mnew_whisk\u001b[0m\u001b[1;33m.\u001b[0m\u001b[0mnose\u001b[0m\u001b[1;33m.\u001b[0m\u001b[0mvalues\u001b[0m\u001b[1;33m)\u001b[0m\u001b[1;33m\u001b[0m\u001b[1;33m\u001b[0m\u001b[0m\n\u001b[0m",
                        "\u001b[1;31mNameError\u001b[0m: name 'new_whisk' is not defined"
                    ]
                }
            ],
            "metadata": {}
        }
    ],
    "metadata": {
        "orig_nbformat": 4,
        "language_info": {
            "name": "python",
            "version": "3.8.11",
            "mimetype": "text/x-python",
            "codemirror_mode": {
                "name": "ipython",
                "version": 3
            },
            "pygments_lexer": "ipython3",
            "nbconvert_exporter": "python",
            "file_extension": ".py"
        },
        "kernelspec": {
            "name": "python3",
            "display_name": "Python 3.9.6 64-bit ('sb_cpstone3': conda)"
        },
        "interpreter": {
            "hash": "95508d1f9e276930ee7bf977622471e4c9572bc985693ed5ef89eacdfe75f4af"
        }
    },
    "nbformat": 4,
    "nbformat_minor": 2
}