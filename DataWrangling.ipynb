{
    "cells": [
        {
            "cell_type": "markdown",
            "source": [
                "# Scotch Whisky Exploration: Data Wrangling"
            ],
            "metadata": {}
        },
        {
            "cell_type": "code",
            "execution_count": 290,
            "source": [
                "import numpy as np\r\n",
                "import pandas as pd\r\n",
                "\r\n",
                "import re\r\n",
                "import spacy\r\n"
            ],
            "outputs": [],
            "metadata": {}
        },
        {
            "cell_type": "code",
            "execution_count": 291,
            "source": [
                "whiskydf_raw = pd.read_json(\"whiskeyscraper/MoM_whiskydata.json\")"
            ],
            "outputs": [],
            "metadata": {}
        },
        {
            "cell_type": "code",
            "execution_count": 292,
            "source": [
                "whiskydf_raw.head(2)"
            ],
            "outputs": [
                {
                    "output_type": "execute_result",
                    "data": {
                        "text/plain": [
                            "                                      name  \\\n",
                            "0        Singleton of Dufftown 12 Year Old   \n",
                            "1  Laphroaig 10 Year Old Sherry Oak Finish   \n",
                            "\n",
                            "                                                nose  \\\n",
                            "0  Malty with cereal/barley sweetness, buttery to...   \n",
                            "1  Smoked meats, maple syrup, BBQ lemon, charred ...   \n",
                            "\n",
                            "                                              palate  \\\n",
                            "0  Orange zest spiciness perks up a malty core of...   \n",
                            "1  More roasted cedar and peat smoke, with a hint...   \n",
                            "\n",
                            "                                              finish  \\\n",
                            "0   Oaky, rich with good length, some fruit lingers.   \n",
                            "1  A balanced finish of sherried sweetness and sm...   \n",
                            "\n",
                            "                                         description           region  \\\n",
                            "0  A straightforward, nutty and malty single malt...  Speyside Whisky   \n",
                            "1  Smoke and sherry here from Laphroaig! The lege...     Islay Whisky   \n",
                            "\n",
                            "                style distillery    bottler                 age alcohol  \\\n",
                            "0  Single Malt Whisky   Dufftown   Dufftown  12 year old Whisky   40.0%   \n",
                            "1  Single Malt Whisky  Laphroaig  Laphroaig  10 year old Whisky   48.0%   \n",
                            "\n",
                            "  maturation chill_filter cask_strength  \n",
                            "0        NaN          NaN           NaN  \n",
                            "1        NaN          NaN           NaN  "
                        ],
                        "text/html": [
                            "<div>\n",
                            "<style scoped>\n",
                            "    .dataframe tbody tr th:only-of-type {\n",
                            "        vertical-align: middle;\n",
                            "    }\n",
                            "\n",
                            "    .dataframe tbody tr th {\n",
                            "        vertical-align: top;\n",
                            "    }\n",
                            "\n",
                            "    .dataframe thead th {\n",
                            "        text-align: right;\n",
                            "    }\n",
                            "</style>\n",
                            "<table border=\"1\" class=\"dataframe\">\n",
                            "  <thead>\n",
                            "    <tr style=\"text-align: right;\">\n",
                            "      <th></th>\n",
                            "      <th>name</th>\n",
                            "      <th>nose</th>\n",
                            "      <th>palate</th>\n",
                            "      <th>finish</th>\n",
                            "      <th>description</th>\n",
                            "      <th>region</th>\n",
                            "      <th>style</th>\n",
                            "      <th>distillery</th>\n",
                            "      <th>bottler</th>\n",
                            "      <th>age</th>\n",
                            "      <th>alcohol</th>\n",
                            "      <th>maturation</th>\n",
                            "      <th>chill_filter</th>\n",
                            "      <th>cask_strength</th>\n",
                            "    </tr>\n",
                            "  </thead>\n",
                            "  <tbody>\n",
                            "    <tr>\n",
                            "      <th>0</th>\n",
                            "      <td>Singleton of Dufftown 12 Year Old</td>\n",
                            "      <td>Malty with cereal/barley sweetness, buttery to...</td>\n",
                            "      <td>Orange zest spiciness perks up a malty core of...</td>\n",
                            "      <td>Oaky, rich with good length, some fruit lingers.</td>\n",
                            "      <td>A straightforward, nutty and malty single malt...</td>\n",
                            "      <td>Speyside Whisky</td>\n",
                            "      <td>Single Malt Whisky</td>\n",
                            "      <td>Dufftown</td>\n",
                            "      <td>Dufftown</td>\n",
                            "      <td>12 year old Whisky</td>\n",
                            "      <td>40.0%</td>\n",
                            "      <td>NaN</td>\n",
                            "      <td>NaN</td>\n",
                            "      <td>NaN</td>\n",
                            "    </tr>\n",
                            "    <tr>\n",
                            "      <th>1</th>\n",
                            "      <td>Laphroaig 10 Year Old Sherry Oak Finish</td>\n",
                            "      <td>Smoked meats, maple syrup, BBQ lemon, charred ...</td>\n",
                            "      <td>More roasted cedar and peat smoke, with a hint...</td>\n",
                            "      <td>A balanced finish of sherried sweetness and sm...</td>\n",
                            "      <td>Smoke and sherry here from Laphroaig! The lege...</td>\n",
                            "      <td>Islay Whisky</td>\n",
                            "      <td>Single Malt Whisky</td>\n",
                            "      <td>Laphroaig</td>\n",
                            "      <td>Laphroaig</td>\n",
                            "      <td>10 year old Whisky</td>\n",
                            "      <td>48.0%</td>\n",
                            "      <td>NaN</td>\n",
                            "      <td>NaN</td>\n",
                            "      <td>NaN</td>\n",
                            "    </tr>\n",
                            "  </tbody>\n",
                            "</table>\n",
                            "</div>"
                        ]
                    },
                    "metadata": {},
                    "execution_count": 292
                }
            ],
            "metadata": {}
        },
        {
            "cell_type": "markdown",
            "source": [
                "## Initial Data Clean: \r\n",
                "#### Dropping observations with no reviews or missing taste,nose, and finish notes.\r\n",
                "#### Coverting/cleaning numeric columns. "
            ],
            "metadata": {}
        },
        {
            "cell_type": "code",
            "execution_count": 293,
            "source": [
                "whiskydf_raw.info()"
            ],
            "outputs": [
                {
                    "output_type": "stream",
                    "name": "stdout",
                    "text": [
                        "<class 'pandas.core.frame.DataFrame'>\n",
                        "RangeIndex: 14143 entries, 0 to 14142\n",
                        "Data columns (total 14 columns):\n",
                        " #   Column         Non-Null Count  Dtype \n",
                        "---  ------         --------------  ----- \n",
                        " 0   name           14143 non-null  object\n",
                        " 1   nose           8553 non-null   object\n",
                        " 2   palate         8552 non-null   object\n",
                        " 3   finish         8488 non-null   object\n",
                        " 4   description    14143 non-null  object\n",
                        " 5   region         14143 non-null  object\n",
                        " 6   style          14143 non-null  object\n",
                        " 7   distillery     14143 non-null  object\n",
                        " 8   bottler        14142 non-null  object\n",
                        " 9   age            10667 non-null  object\n",
                        " 10  alcohol        14142 non-null  object\n",
                        " 11  maturation     2376 non-null   object\n",
                        " 12  chill_filter   479 non-null    object\n",
                        " 13  cask_strength  1022 non-null   object\n",
                        "dtypes: object(14)\n",
                        "memory usage: 1.5+ MB\n"
                    ]
                }
            ],
            "metadata": {}
        },
        {
            "cell_type": "markdown",
            "source": [
                "### Let's keep the subset of whiskeys where there are tasting notes (e.g. where nose, palate, and finish are not null)"
            ],
            "metadata": {}
        },
        {
            "cell_type": "code",
            "execution_count": 294,
            "source": [
                "tastingnote_cols = ['nose', 'palate', 'finish']\r\n",
                "\r\n",
                "whiskydf_raw[tastingnote_cols].isna().all() == True"
            ],
            "outputs": [
                {
                    "output_type": "execute_result",
                    "data": {
                        "text/plain": [
                            "nose      False\n",
                            "palate    False\n",
                            "finish    False\n",
                            "dtype: bool"
                        ]
                    },
                    "metadata": {},
                    "execution_count": 294
                }
            ],
            "metadata": {}
        },
        {
            "cell_type": "markdown",
            "source": [
                "Takes subset where Master of Malt bros have created tasting notes on the whiskey. "
            ],
            "metadata": {}
        },
        {
            "cell_type": "code",
            "execution_count": 295,
            "source": [
                "whisky_df =  whiskydf_raw.dropna(how = \"any\", axis = 0, subset= tastingnote_cols)"
            ],
            "outputs": [],
            "metadata": {}
        },
        {
            "cell_type": "code",
            "execution_count": 296,
            "source": [
                "whisky_df.info()"
            ],
            "outputs": [
                {
                    "output_type": "stream",
                    "name": "stdout",
                    "text": [
                        "<class 'pandas.core.frame.DataFrame'>\n",
                        "Int64Index: 8485 entries, 0 to 14141\n",
                        "Data columns (total 14 columns):\n",
                        " #   Column         Non-Null Count  Dtype \n",
                        "---  ------         --------------  ----- \n",
                        " 0   name           8485 non-null   object\n",
                        " 1   nose           8485 non-null   object\n",
                        " 2   palate         8485 non-null   object\n",
                        " 3   finish         8485 non-null   object\n",
                        " 4   description    8485 non-null   object\n",
                        " 5   region         8485 non-null   object\n",
                        " 6   style          8485 non-null   object\n",
                        " 7   distillery     8485 non-null   object\n",
                        " 8   bottler        8485 non-null   object\n",
                        " 9   age            6557 non-null   object\n",
                        " 10  alcohol        8485 non-null   object\n",
                        " 11  maturation     1613 non-null   object\n",
                        " 12  chill_filter   403 non-null    object\n",
                        " 13  cask_strength  550 non-null    object\n",
                        "dtypes: object(14)\n",
                        "memory usage: 994.3+ KB\n"
                    ]
                }
            ],
            "metadata": {}
        },
        {
            "cell_type": "markdown",
            "source": [
                "Our scraper extracted a good amount of data and it'll be good to see whether there are some entries that don't belong (i.e styles that are not single malt, etc.)"
            ],
            "metadata": {}
        },
        {
            "cell_type": "code",
            "execution_count": 297,
            "source": [
                "whisky_df['style'].unique()"
            ],
            "outputs": [
                {
                    "output_type": "execute_result",
                    "data": {
                        "text/plain": [
                            "array(['Single Malt Whisky'], dtype=object)"
                        ]
                    },
                    "metadata": {},
                    "execution_count": 297
                }
            ],
            "metadata": {}
        },
        {
            "cell_type": "markdown",
            "source": [
                "Alright, so these are all single malt whiskies. Good. But since there's only one value the column carries no information. We'll drop it.  Also there seem to be no disambiguations/mispellings in the Scotch whisky region names. Each unique entry corresponds to a different Scotch whisky making region."
            ],
            "metadata": {}
        },
        {
            "cell_type": "code",
            "execution_count": 298,
            "source": [
                "whisky_df.region.unique()"
            ],
            "outputs": [
                {
                    "output_type": "execute_result",
                    "data": {
                        "text/plain": [
                            "array(['Speyside Whisky', 'Islay Whisky', 'Highland Whisky',\n",
                            "       'Island Whisky', 'Scotch Whisky', 'Lowland Whisky',\n",
                            "       'Campbeltown Whisky', 'Other Scotch Whisky'], dtype=object)"
                        ]
                    },
                    "metadata": {},
                    "execution_count": 298
                }
            ],
            "metadata": {}
        },
        {
            "cell_type": "code",
            "execution_count": 299,
            "source": [
                "whisky_df = whisky_df.drop(columns = ['style'])\r\n",
                "print(whisky_df.columns)"
            ],
            "outputs": [
                {
                    "output_type": "stream",
                    "name": "stdout",
                    "text": [
                        "Index(['name', 'nose', 'palate', 'finish', 'description', 'region',\n",
                        "       'distillery', 'bottler', 'age', 'alcohol', 'maturation', 'chill_filter',\n",
                        "       'cask_strength'],\n",
                        "      dtype='object')\n"
                    ]
                }
            ],
            "metadata": {}
        },
        {
            "cell_type": "markdown",
            "source": [
                "#### Age column\r\n",
                "Now we'll tackle the age column. Generally, the whiskies are matured for years in casks before bottling. The age corresponds to the aging before bottling. But let's check whether there are other units (months, etc.) of aging buried in the data."
            ],
            "metadata": {}
        },
        {
            "cell_type": "code",
            "execution_count": 300,
            "source": [
                "whisky_df.age.head(3)"
            ],
            "outputs": [
                {
                    "output_type": "execute_result",
                    "data": {
                        "text/plain": [
                            "0    12 year old Whisky\n",
                            "1    10 year old Whisky\n",
                            "2    15 year old Whisky\n",
                            "Name: age, dtype: object"
                        ]
                    },
                    "metadata": {},
                    "execution_count": 300
                }
            ],
            "metadata": {}
        },
        {
            "cell_type": "markdown",
            "source": [
                "The second word is the aging unit (year). Let's extract this second word and see if anything else pops up."
            ],
            "metadata": {}
        },
        {
            "cell_type": "code",
            "execution_count": 301,
            "source": [
                "whisky_df.age.str.split().str[1].unique()"
            ],
            "outputs": [
                {
                    "output_type": "execute_result",
                    "data": {
                        "text/plain": [
                            "array(['year', nan], dtype=object)"
                        ]
                    },
                    "metadata": {},
                    "execution_count": 301
                }
            ],
            "metadata": {}
        },
        {
            "cell_type": "markdown",
            "source": [
                "Nope. Either the age is recorded in years or the entry corresponds to a whisky with no age statement. Let's process this understanding that age is in years and convert the column to numeric."
            ],
            "metadata": {}
        },
        {
            "cell_type": "code",
            "execution_count": 302,
            "source": [
                "#convert whiskey age to numeric.\r\n",
                "whisky_df.age = whisky_df.age.str.split(' ').str[0].astype('float')"
            ],
            "outputs": [],
            "metadata": {}
        },
        {
            "cell_type": "code",
            "execution_count": 303,
            "source": [
                "np.sort(whisky_df.age.unique())"
            ],
            "outputs": [
                {
                    "output_type": "execute_result",
                    "data": {
                        "text/plain": [
                            "array([   3.,    4.,    5.,    6.,    7.,    8.,    9.,   10.,   11.,\n",
                            "         12.,   13.,   14.,   15.,   16.,   17.,   18.,   19.,   20.,\n",
                            "         21.,   22.,   23.,   24.,   25.,   26.,   27.,   28.,   29.,\n",
                            "         30.,   31.,   32.,   33.,   34.,   35.,   36.,   37.,   38.,\n",
                            "         39.,   40.,   41.,   42.,   43.,   44.,   45.,   46.,   47.,\n",
                            "         48.,   49.,   50.,   51.,   52.,   54.,   55.,   56.,   60.,\n",
                            "         62.,   64.,   65.,   71.,   78.,  105., 2003.,   nan])"
                        ]
                    },
                    "metadata": {},
                    "execution_count": 303
                }
            ],
            "metadata": {}
        },
        {
            "cell_type": "markdown",
            "source": [
                "105 and 2003 year old whisky are possible outliers. Let's investigate more closely."
            ],
            "metadata": {}
        },
        {
            "cell_type": "code",
            "execution_count": 304,
            "source": [
                "whisky_df[whisky_df.age == 105]"
            ],
            "outputs": [
                {
                    "output_type": "execute_result",
                    "data": {
                        "text/plain": [
                            "                                                   name  \\\n",
                            "9219  Aisla T'Orten 105 Year Old 1906 - Liquid Histo...   \n",
                            "\n",
                            "                                                   nose  \\\n",
                            "9219  The most unique bouquet I’ve ever experienced....   \n",
                            "\n",
                            "                                                 palate  \\\n",
                            "9219  Heaven is spelt “T-O-R-T-E-N”. This conjures u...   \n",
                            "\n",
                            "                                                 finish  \\\n",
                            "9219  To say this was long would be an understatemen...   \n",
                            "\n",
                            "                                            description           region  \\\n",
                            "9219  The world's oldest whisky. Read more about thi...  Highland Whisky   \n",
                            "\n",
                            "         distillery         bottler    age alcohol maturation chill_filter  \\\n",
                            "9219  Aisla T'Orten  Master of Malt  105.0   40.7%     Sherry          NaN   \n",
                            "\n",
                            "     cask_strength  \n",
                            "9219           NaN  "
                        ],
                        "text/html": [
                            "<div>\n",
                            "<style scoped>\n",
                            "    .dataframe tbody tr th:only-of-type {\n",
                            "        vertical-align: middle;\n",
                            "    }\n",
                            "\n",
                            "    .dataframe tbody tr th {\n",
                            "        vertical-align: top;\n",
                            "    }\n",
                            "\n",
                            "    .dataframe thead th {\n",
                            "        text-align: right;\n",
                            "    }\n",
                            "</style>\n",
                            "<table border=\"1\" class=\"dataframe\">\n",
                            "  <thead>\n",
                            "    <tr style=\"text-align: right;\">\n",
                            "      <th></th>\n",
                            "      <th>name</th>\n",
                            "      <th>nose</th>\n",
                            "      <th>palate</th>\n",
                            "      <th>finish</th>\n",
                            "      <th>description</th>\n",
                            "      <th>region</th>\n",
                            "      <th>distillery</th>\n",
                            "      <th>bottler</th>\n",
                            "      <th>age</th>\n",
                            "      <th>alcohol</th>\n",
                            "      <th>maturation</th>\n",
                            "      <th>chill_filter</th>\n",
                            "      <th>cask_strength</th>\n",
                            "    </tr>\n",
                            "  </thead>\n",
                            "  <tbody>\n",
                            "    <tr>\n",
                            "      <th>9219</th>\n",
                            "      <td>Aisla T'Orten 105 Year Old 1906 - Liquid Histo...</td>\n",
                            "      <td>The most unique bouquet I’ve ever experienced....</td>\n",
                            "      <td>Heaven is spelt “T-O-R-T-E-N”. This conjures u...</td>\n",
                            "      <td>To say this was long would be an understatemen...</td>\n",
                            "      <td>The world's oldest whisky. Read more about thi...</td>\n",
                            "      <td>Highland Whisky</td>\n",
                            "      <td>Aisla T'Orten</td>\n",
                            "      <td>Master of Malt</td>\n",
                            "      <td>105.0</td>\n",
                            "      <td>40.7%</td>\n",
                            "      <td>Sherry</td>\n",
                            "      <td>NaN</td>\n",
                            "      <td>NaN</td>\n",
                            "    </tr>\n",
                            "  </tbody>\n",
                            "</table>\n",
                            "</div>"
                        ]
                    },
                    "metadata": {},
                    "execution_count": 304
                }
            ],
            "metadata": {}
        },
        {
            "cell_type": "code",
            "execution_count": 305,
            "source": [
                "whisky_df[whisky_df.age == 105].description.values"
            ],
            "outputs": [
                {
                    "output_type": "execute_result",
                    "data": {
                        "text/plain": [
                            "array([\"The world's oldest whisky. Read more about this extraordinary liquid history over on the Master of Malt blog . OK everyone, we have to come clean! The miraculous discovery of this 105 year old whisky may have had something to do with its launch on April Fools’ Day 2011. It’s also possible that some sneaky anagrams were used in some of the names in the story: Allie Sisell (the discoverer of the cask):  Aethenias Simonvent (the distillery’s founder):  And there’s a good chance that if you rearrange the letters in Aisla T’Orten distillery you get:\"],\n",
                            "      dtype=object)"
                        ]
                    },
                    "metadata": {},
                    "execution_count": 305
                }
            ],
            "metadata": {}
        },
        {
            "cell_type": "markdown",
            "source": [
                "It's an April Fools joke! Gaaaarrrrr!!!! Remove this."
            ],
            "metadata": {}
        },
        {
            "cell_type": "code",
            "execution_count": 306,
            "source": [
                "whisky_df = whisky_df[~(whisky_df.age == 105)]\r\n",
                "print(whisky_df.age.unique())"
            ],
            "outputs": [
                {
                    "output_type": "stream",
                    "name": "stdout",
                    "text": [
                        "[  12.   10.   15.   nan   18.   25.   14.   21.   13.   16.    8.    5.\n",
                        "   11.   26.   23.   43.   28.   24.    9.   30.   29.   42.   19.   27.\n",
                        "   20.   17.    7.   40.    6.   22.   45.    3.   37.   35.   31.   64.\n",
                        "   50.   46.   36.   32.   44.   56.   38.   34.   33.   62.    4.   41.\n",
                        "   39. 2003.   60.   54.   55.   78.   52.   49.   47.   48.   51.   71.\n",
                        "   65.]\n"
                    ]
                }
            ],
            "metadata": {}
        },
        {
            "cell_type": "code",
            "execution_count": 307,
            "source": [
                "whisky_df[whisky_df.age == 2003].description.values"
            ],
            "outputs": [
                {
                    "output_type": "execute_result",
                    "data": {
                        "text/plain": [
                            "array([\"Batch 4 of Benromach's Origins range, bottled in 2013, is matured entirely in first fill Port pipes and peated to a level of 8ppm. The idea behind the range is to highlight how changing different factors during production results in different characteristics in the final spirit.\"],\n",
                            "      dtype=object)"
                        ]
                    },
                    "metadata": {},
                    "execution_count": 307
                }
            ],
            "metadata": {}
        },
        {
            "cell_type": "markdown",
            "source": [
                "This batch was started on 2003 but bottled in 2013, so we'll change the age value to 10 years. "
            ],
            "metadata": {}
        },
        {
            "cell_type": "code",
            "execution_count": 308,
            "source": [
                "whisky_df.loc[whisky_df.age == 2003, \"age\"] = 10"
            ],
            "outputs": [],
            "metadata": {}
        },
        {
            "cell_type": "code",
            "execution_count": 309,
            "source": [
                "# check if we have removed the outlier. \r\n",
                "whisky_df.age.unique()"
            ],
            "outputs": [
                {
                    "output_type": "execute_result",
                    "data": {
                        "text/plain": [
                            "array([12., 10., 15., nan, 18., 25., 14., 21., 13., 16.,  8.,  5., 11.,\n",
                            "       26., 23., 43., 28., 24.,  9., 30., 29., 42., 19., 27., 20., 17.,\n",
                            "        7., 40.,  6., 22., 45.,  3., 37., 35., 31., 64., 50., 46., 36.,\n",
                            "       32., 44., 56., 38., 34., 33., 62.,  4., 41., 39., 60., 54., 55.,\n",
                            "       78., 52., 49., 47., 48., 51., 71., 65.])"
                        ]
                    },
                    "metadata": {},
                    "execution_count": 309
                }
            ],
            "metadata": {}
        },
        {
            "cell_type": "markdown",
            "source": [
                "#### Alcohol column\r\n",
                "Yes. Now we convert the alcohol column to numeric value, we'll also change the name from alcohol to ABV as this is known to be in percent."
            ],
            "metadata": {}
        },
        {
            "cell_type": "code",
            "execution_count": 310,
            "source": [
                "whisky_df.alcohol = whisky_df.alcohol.str.replace('%', '').astype('float')\r\n",
                "#check for NaNs\r\n",
                "print(whisky_df.alcohol.isna().any())"
            ],
            "outputs": [
                {
                    "output_type": "stream",
                    "name": "stdout",
                    "text": [
                        "False\n"
                    ]
                }
            ],
            "metadata": {}
        },
        {
            "cell_type": "code",
            "execution_count": 311,
            "source": [
                "whisky_df.rename(columns = {'alcohol': 'ABV'}, inplace = True)\r\n",
                "print(whisky_df.columns)"
            ],
            "outputs": [
                {
                    "output_type": "stream",
                    "name": "stdout",
                    "text": [
                        "Index(['name', 'nose', 'palate', 'finish', 'description', 'region',\n",
                        "       'distillery', 'bottler', 'age', 'ABV', 'maturation', 'chill_filter',\n",
                        "       'cask_strength'],\n",
                        "      dtype='object')\n"
                    ]
                }
            ],
            "metadata": {}
        },
        {
            "cell_type": "markdown",
            "source": [
                "#### cask_strength and chill_filter have Yes/No entries when populated. Let's convert these to Boolean."
            ],
            "metadata": {}
        },
        {
            "cell_type": "code",
            "execution_count": 312,
            "source": [
                "print({'cask_strength_unique': whisky_df.cask_strength.unique(), 'chill_filter_unique': whisky_df.chill_filter.unique()})"
            ],
            "outputs": [
                {
                    "output_type": "stream",
                    "name": "stdout",
                    "text": [
                        "{'cask_strength_unique': array([nan, 'No', 'Yes'], dtype=object), 'chill_filter_unique': array([nan, 'No', 'Yes'], dtype=object)}\n"
                    ]
                }
            ],
            "metadata": {}
        },
        {
            "cell_type": "code",
            "execution_count": 316,
            "source": [
                "whisky_df.loc[:, ['cask_strength', 'chill_filter']] = whisky_df[['cask_strength', 'chill_filter']].replace({'Yes': True, 'No': False})"
            ],
            "outputs": [],
            "metadata": {}
        },
        {
            "cell_type": "code",
            "execution_count": 318,
            "source": [
                "print({'cask_strength_unique': whisky_df.cask_strength.unique(), 'chill_filter_unique': whisky_df.chill_filter.unique()})"
            ],
            "outputs": [
                {
                    "output_type": "stream",
                    "name": "stdout",
                    "text": [
                        "{'cask_strength_unique': array([nan, False, True], dtype=object), 'chill_filter_unique': array([nan, False, True], dtype=object)}\n"
                    ]
                }
            ],
            "metadata": {}
        },
        {
            "cell_type": "markdown",
            "source": [
                "## Free text columns: Description, taste, nose, and palate\r\n",
                "\r\n",
                "We want to extract information about the whiskies from these columns. Some of this info will be concrete (is it cask strength? is it chill filtered? which barrels was it aged in?). Some of that info is in the description but was not put into the bottle detail data on the website...so we'll need to extract it from free text and put it into the appropriate existing dataframe column. "
            ],
            "metadata": {}
        },
        {
            "cell_type": "code",
            "execution_count": 957,
            "source": [
                "# we're going to import necessary NLP libraries\r\n",
                "\r\n",
                "import spacy\r\n",
                "from spacy.tokens import Doc, Span, Token # for creating global objects \r\n",
                "from spacy.matcher import Matcher # for rule-based matching\r\n",
                "from spacy.language import Language # for building custom pipeline components\r\n",
                "\r\n",
                "from copy import deepcopy\r\n"
            ],
            "outputs": [],
            "metadata": {}
        },
        {
            "cell_type": "code",
            "execution_count": 939,
            "source": [
                "Doc.set_extension('name', force = True, default = None)"
            ],
            "outputs": [],
            "metadata": {}
        },
        {
            "cell_type": "code",
            "execution_count": 941,
            "source": [
                "nlp = spacy.load('en_core_web_lg') # loads our NLP model"
            ],
            "outputs": [],
            "metadata": {}
        },
        {
            "cell_type": "markdown",
            "source": [
                "We want to batch process all the description text. So we'll construct a pipeline. We also want to keep track of what description belongs to what whisky. This will enable us to rejoin any results from NLP into our pandas dataframe. So we will construct a custom attribute via context creation."
            ],
            "metadata": {}
        },
        {
            "cell_type": "code",
            "execution_count": 459,
            "source": [
                "# passing context metadata into attributes via pipeline requires the data to be in a specific form. We'll create a function to do transform the data into the right form.\r\n",
                "# then the data will be used to create a Doc object generator based off of the text and context metadata.\r\n",
                "\r\n",
                "def doc_context_tupling(data, textcolname, *args):\r\n",
                "    col_list = [textcolname]\r\n",
                "    attr_list = list(args)\r\n",
                "    \r\n",
                "    col_list.extend(attr_list)\r\n",
                "\r\n",
                "    # data is in dataframe w/ form of whisky_df\r\n",
                "    subset_dict_list = list(data[col_list].T.to_dict().values())\r\n",
                "\r\n",
                "    # now let's form a (text, context_dictionary) tuple which is what the spacy pipeline requires. \r\n",
                "\r\n",
                "    data_context_list = [ (subset_dict.pop(textcolname), subset_dict) for subset_dict in subset_dict_list]\r\n",
                "\r\n",
                "    # for each key-value pair in args, we'll need to create a Doc extension attribute.\r\n",
                "    \r\n",
                "\r\n",
                "    for doc, context in nlp.pipe(data_context_list, as_tuples = True):\r\n",
                "        Doc.set_extension('context', force = True, default = context)\r\n",
                "        yield doc\r\n"
            ],
            "outputs": [],
            "metadata": {}
        },
        {
            "cell_type": "markdown",
            "source": [
                "We are going to use some domain knowledge. It is unlikely that a whisky producer or reviewer would mention chill filtration in a description unless the whisky was NOT chill filtered. Chill filtration is a process that removes some esthers and fatty acids that can become non-soluble in lower ABV whisky at cooler temperatures. The process can prevent clouding but many connosieurs believe that it degrades the quality of the whisky and removes some of its mouthfeel and complexity. In any case, saying that your whisky is non chill-filtered is a point of pride. We'll thus create a very simple rule based matcher for this and not worry too heavily about the possibility that the review is saying that it IS chill filtered. The same logic goes for whether a whisky is cask strength or not."
            ],
            "metadata": {}
        },
        {
            "cell_type": "code",
            "execution_count": 910,
            "source": [
                "\r\n",
                "matcher = Matcher(nlp.vocab)\r\n",
                "pattern1 = [{'LOWER': 'chill'}, {'IS_PUNCT': True, 'OP': \"?\"},  {'LEMMA': 'filtration'} ]\r\n",
                "pattern2 = [{'LOWER': 'chill'}, {'IS_PUNCT': True, 'OP': \"?\"},  {'LEMMA': 'filter'} ]\r\n",
                "matcher.add('CHILL_FILTER', [pattern1, pattern2])\r\n",
                "\r\n",
                "matcher2 = Matcher(nlp.vocab)\r\n",
                "pattern3 = [{'LOWER': 'cask'}, {'IS_PUNCT': True, 'OP': \"?\"},  {'LEMMA': 'strength'} ]\r\n",
                "matcher2.add('')\r\n",
                "\r\n"
            ],
            "outputs": [],
            "metadata": {}
        },
        {
            "cell_type": "code",
            "execution_count": 828,
            "source": [
                "def update_cs_cf_info(data):\r\n",
                "\r\n",
                "    descript_corpus = doc_context_tupling(data, 'description', 'name')\r\n",
                "\r\n",
                "    new_data = deepcopy(data)\r\n",
                "\r\n",
                "    for doc in descript_corpus:\r\n",
                "\r\n",
                "        matches_chillf = matcher(doc)\r\n",
                "        matches_cask = matcher2(doc)\r\n",
                "        \r\n",
                "        if len(matches_cask) > 0:\r\n",
                "            new_data.loc[new_data.name == doc._.context['name'], 'cask_strength'] =  True \r\n",
                "        \r\n",
                "        counter = 0\r\n",
                "        if len(matches_chillf) > 0:\r\n",
                "            new_data.loc[new_data.name == doc._.context['name'], 'chill_filter'] =  False \r\n",
                "\r\n",
                "    return new_data\r\n",
                "\r\n"
            ],
            "outputs": [],
            "metadata": {}
        },
        {
            "cell_type": "code",
            "execution_count": 829,
            "source": [
                "new_whisk = update_cs_cf_info(whisky_df)"
            ],
            "outputs": [],
            "metadata": {}
        },
        {
            "cell_type": "code",
            "execution_count": 876,
            "source": [
                "new_whisk.info()"
            ],
            "outputs": [
                {
                    "output_type": "stream",
                    "name": "stdout",
                    "text": [
                        "<class 'pandas.core.frame.DataFrame'>\n",
                        "Int64Index: 8484 entries, 0 to 14141\n",
                        "Data columns (total 13 columns):\n",
                        " #   Column         Non-Null Count  Dtype  \n",
                        "---  ------         --------------  -----  \n",
                        " 0   name           8484 non-null   object \n",
                        " 1   nose           8484 non-null   object \n",
                        " 2   palate         8484 non-null   object \n",
                        " 3   finish         8484 non-null   object \n",
                        " 4   description    8484 non-null   object \n",
                        " 5   region         8484 non-null   object \n",
                        " 6   distillery     8484 non-null   object \n",
                        " 7   bottler        8484 non-null   object \n",
                        " 8   age            6556 non-null   float64\n",
                        " 9   ABV            8484 non-null   float64\n",
                        " 10  maturation     1612 non-null   object \n",
                        " 11  chill_filter   819 non-null    object \n",
                        " 12  cask_strength  1643 non-null   object \n",
                        "dtypes: float64(2), object(11)\n",
                        "memory usage: 1.2+ MB\n"
                    ]
                }
            ],
            "metadata": {}
        },
        {
            "cell_type": "markdown",
            "source": [
                "The description also has information about the wood / type of barrel(s) that the whisky was aged in.  We want to be able to extract that information from the free text. There are different names used for 'casks' in the corpus. Some examples are octaves, pipes, butts, puncheons, etc. There are technical differences between these (size, shape, etc) that can have effects on the whisky taste. But it'll be good to create a broad named entity class for this.\r\n",
                "\r\n",
                "Then there will be characteristics of the cask that directly impact flavor profiles such as whether the cask once held sherry, bourbon, etc or the kind of wood when relevant (oak can impart strong flavors to a Scotch)."
            ],
            "metadata": {}
        },
        {
            "cell_type": "code",
            "execution_count": 967,
            "source": [
                "dc = nlp(new_whisk.iloc[12].description)\r\n",
                "print(dc)"
            ],
            "outputs": [
                {
                    "output_type": "stream",
                    "name": "stdout",
                    "text": [
                        "Here we have the flagship single malt from Balvenie's series of Port Wood whiskies. This 21 year old expression, a marriage of rare Balvenie, was impressively finished in 30 year old port pipes. Originally released in 1996, this whisky is a veritable masterclass in poise and balance. It’s fruity and very subtly smoky, the perfect after-dinner dram.\n"
                    ]
                }
            ],
            "metadata": {}
        },
        {
            "cell_type": "code",
            "execution_count": 964,
            "source": [
                "cask_syn_matcher = Matcher(nlp.vocab)\r\n",
                "pattern_csk = [{'LEMMA': 'cask'} ]\r\n",
                "cask_syn_matcher.add('CSK', [pattern_csk])\r\n",
                "\r\n",
                "matches = cask_syn_matcher(dc)\r\n",
                "\r\n",
                "matches"
            ],
            "outputs": [
                {
                    "output_type": "execute_result",
                    "data": {
                        "text/plain": [
                            "[(18191201152368054836, 87, 88)]"
                        ]
                    },
                    "metadata": {},
                    "execution_count": 964
                }
            ],
            "metadata": {}
        },
        {
            "cell_type": "code",
            "execution_count": 959,
            "source": [
                "@Language.component(\"cask_entity_creator\")\r\n",
                "def cask_entity_creator(doc):\r\n",
                "\r\n",
                "    # matcher for entity creation\r\n",
                "    cask_syn_matcher = Matcher(nlp.vocab)\r\n",
                "    pattern_csk = [{'LEMMA': 'cask'} ]\r\n",
                "    cask_syn_matcher.add('CSK', [pattern_csk])\r\n",
                "\r\n",
                "    \r\n",
                "    matches = cask_syn_matcher(doc)\r\n",
                "    spans = [ Span(doc, start, end, label = \"CSK\") for match_id, start, end in matches]\r\n",
                "\r\n",
                "    orig_ents = list(doc.ents)\r\n",
                "\r\n",
                "    doc.set_ents(spans, default=\"unmodified\")\r\n",
                "\r\n",
                "\r\n",
                "    return doc\r\n",
                "\r\n",
                "\r\n",
                "nlp.add_pipe(\"cask_entity_creator\", after = \"ner\")\r\n"
            ],
            "outputs": [
                {
                    "output_type": "error",
                    "ename": "ValueError",
                    "evalue": "[E007] 'cask_entity_creator' already exists in pipeline. Existing names: ['tok2vec', 'tagger', 'parser', 'senter', 'attribute_ruler', 'lemmatizer', 'ner', 'cask_entity_creator']",
                    "traceback": [
                        "\u001b[1;31m---------------------------------------------------------------------------\u001b[0m",
                        "\u001b[1;31mValueError\u001b[0m                                Traceback (most recent call last)",
                        "\u001b[1;32mC:\\Users\\CPTVEE~1\\AppData\\Local\\Temp/ipykernel_12960/3181444248.py\u001b[0m in \u001b[0;36m<module>\u001b[1;34m\u001b[0m\n\u001b[0;32m     12\u001b[0m \u001b[1;33m\u001b[0m\u001b[0m\n\u001b[0;32m     13\u001b[0m \u001b[1;33m\u001b[0m\u001b[0m\n\u001b[1;32m---> 14\u001b[1;33m \u001b[0mnlp\u001b[0m\u001b[1;33m.\u001b[0m\u001b[0madd_pipe\u001b[0m\u001b[1;33m(\u001b[0m\u001b[1;34m\"cask_entity_creator\"\u001b[0m\u001b[1;33m,\u001b[0m \u001b[0mafter\u001b[0m \u001b[1;33m=\u001b[0m \u001b[1;34m\"ner\"\u001b[0m\u001b[1;33m)\u001b[0m\u001b[1;33m\u001b[0m\u001b[1;33m\u001b[0m\u001b[0m\n\u001b[0m",
                        "\u001b[1;32m~\\miniconda3\\envs\\sb_cpstone3\\lib\\site-packages\\spacy\\language.py\u001b[0m in \u001b[0;36madd_pipe\u001b[1;34m(self, factory_name, name, before, after, first, last, source, config, raw_config, validate)\u001b[0m\n\u001b[0;32m    759\u001b[0m         \u001b[0mname\u001b[0m \u001b[1;33m=\u001b[0m \u001b[0mname\u001b[0m \u001b[1;32mif\u001b[0m \u001b[0mname\u001b[0m \u001b[1;32mis\u001b[0m \u001b[1;32mnot\u001b[0m \u001b[1;32mNone\u001b[0m \u001b[1;32melse\u001b[0m \u001b[0mfactory_name\u001b[0m\u001b[1;33m\u001b[0m\u001b[1;33m\u001b[0m\u001b[0m\n\u001b[0;32m    760\u001b[0m         \u001b[1;32mif\u001b[0m \u001b[0mname\u001b[0m \u001b[1;32min\u001b[0m \u001b[0mself\u001b[0m\u001b[1;33m.\u001b[0m\u001b[0mcomponent_names\u001b[0m\u001b[1;33m:\u001b[0m\u001b[1;33m\u001b[0m\u001b[1;33m\u001b[0m\u001b[0m\n\u001b[1;32m--> 761\u001b[1;33m             \u001b[1;32mraise\u001b[0m \u001b[0mValueError\u001b[0m\u001b[1;33m(\u001b[0m\u001b[0mErrors\u001b[0m\u001b[1;33m.\u001b[0m\u001b[0mE007\u001b[0m\u001b[1;33m.\u001b[0m\u001b[0mformat\u001b[0m\u001b[1;33m(\u001b[0m\u001b[0mname\u001b[0m\u001b[1;33m=\u001b[0m\u001b[0mname\u001b[0m\u001b[1;33m,\u001b[0m \u001b[0mopts\u001b[0m\u001b[1;33m=\u001b[0m\u001b[0mself\u001b[0m\u001b[1;33m.\u001b[0m\u001b[0mcomponent_names\u001b[0m\u001b[1;33m)\u001b[0m\u001b[1;33m)\u001b[0m\u001b[1;33m\u001b[0m\u001b[1;33m\u001b[0m\u001b[0m\n\u001b[0m\u001b[0;32m    762\u001b[0m         \u001b[1;32mif\u001b[0m \u001b[0msource\u001b[0m \u001b[1;32mis\u001b[0m \u001b[1;32mnot\u001b[0m \u001b[1;32mNone\u001b[0m\u001b[1;33m:\u001b[0m\u001b[1;33m\u001b[0m\u001b[1;33m\u001b[0m\u001b[0m\n\u001b[0;32m    763\u001b[0m             \u001b[1;31m# We're loading the component from a model. After loading the\u001b[0m\u001b[1;33m\u001b[0m\u001b[1;33m\u001b[0m\u001b[1;33m\u001b[0m\u001b[0m\n",
                        "\u001b[1;31mValueError\u001b[0m: [E007] 'cask_entity_creator' already exists in pipeline. Existing names: ['tok2vec', 'tagger', 'parser', 'senter', 'attribute_ruler', 'lemmatizer', 'ner', 'cask_entity_creator']"
                    ]
                }
            ],
            "metadata": {}
        },
        {
            "cell_type": "code",
            "execution_count": 960,
            "source": [
                "dc = nlp(new_whisk.iloc[4].description)"
            ],
            "outputs": [],
            "metadata": {}
        },
        {
            "cell_type": "code",
            "execution_count": 978,
            "source": [
                "nlp(\"oak\").similarity(nlp(\"wood\"))"
            ],
            "outputs": [
                {
                    "output_type": "execute_result",
                    "data": {
                        "text/plain": [
                            "0.7538728358926644"
                        ]
                    },
                    "metadata": {},
                    "execution_count": 978
                }
            ],
            "metadata": {}
        },
        {
            "cell_type": "code",
            "execution_count": null,
            "source": [],
            "outputs": [],
            "metadata": {}
        }
    ],
    "metadata": {
        "orig_nbformat": 4,
        "language_info": {
            "name": "python",
            "version": "3.8.11",
            "mimetype": "text/x-python",
            "codemirror_mode": {
                "name": "ipython",
                "version": 3
            },
            "pygments_lexer": "ipython3",
            "nbconvert_exporter": "python",
            "file_extension": ".py"
        },
        "kernelspec": {
            "name": "python3",
            "display_name": "Python 3.8.11 64-bit ('sb_cpstone3': conda)"
        },
        "interpreter": {
            "hash": "0377a9459ab4ae7ce6f89acc0b0aff97180940e4bf254eaf95eac83f6f0eec7f"
        }
    },
    "nbformat": 4,
    "nbformat_minor": 2
}