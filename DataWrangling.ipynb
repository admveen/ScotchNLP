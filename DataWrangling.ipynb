{
    "cells": [
        {
            "cell_type": "markdown",
            "metadata": {},
            "source": [
                "# Scotch Whisky Exploration: Data Wrangling"
            ]
        },
        {
            "cell_type": "code",
            "execution_count": 3,
            "metadata": {},
            "outputs": [],
            "source": [
                "import numpy as np\n",
                "import pandas as pd\n",
                "import re\n",
                "import spacy\n",
                "\n",
                "import pickle\n"
            ]
        },
        {
            "cell_type": "markdown",
            "metadata": {},
            "source": [
                "Load data from the JSON file created by our scrapy Spider."
            ]
        },
        {
            "cell_type": "code",
            "execution_count": 4,
            "metadata": {},
            "outputs": [],
            "source": [
                "whiskydf_raw = pd.read_json(\"whiskeyscraper/MoM_whiskydata.json\")"
            ]
        },
        {
            "cell_type": "code",
            "execution_count": 5,
            "metadata": {},
            "outputs": [
                {
                    "data": {
                        "text/html": [
                            "<div>\n",
                            "<style scoped>\n",
                            "    .dataframe tbody tr th:only-of-type {\n",
                            "        vertical-align: middle;\n",
                            "    }\n",
                            "\n",
                            "    .dataframe tbody tr th {\n",
                            "        vertical-align: top;\n",
                            "    }\n",
                            "\n",
                            "    .dataframe thead th {\n",
                            "        text-align: right;\n",
                            "    }\n",
                            "</style>\n",
                            "<table border=\"1\" class=\"dataframe\">\n",
                            "  <thead>\n",
                            "    <tr style=\"text-align: right;\">\n",
                            "      <th></th>\n",
                            "      <th>name</th>\n",
                            "      <th>nose</th>\n",
                            "      <th>palate</th>\n",
                            "      <th>finish</th>\n",
                            "      <th>description</th>\n",
                            "      <th>region</th>\n",
                            "      <th>style</th>\n",
                            "      <th>distillery</th>\n",
                            "      <th>bottler</th>\n",
                            "      <th>age</th>\n",
                            "      <th>alcohol</th>\n",
                            "      <th>maturation</th>\n",
                            "      <th>chill_filter</th>\n",
                            "      <th>cask_strength</th>\n",
                            "    </tr>\n",
                            "  </thead>\n",
                            "  <tbody>\n",
                            "    <tr>\n",
                            "      <th>0</th>\n",
                            "      <td>Singleton of Dufftown 12 Year Old</td>\n",
                            "      <td>Malty with cereal/barley sweetness, buttery to...</td>\n",
                            "      <td>Orange zest spiciness perks up a malty core of...</td>\n",
                            "      <td>Oaky, rich with good length, some fruit lingers.</td>\n",
                            "      <td>A straightforward, nutty and malty single malt...</td>\n",
                            "      <td>Speyside Whisky</td>\n",
                            "      <td>Single Malt Whisky</td>\n",
                            "      <td>Dufftown</td>\n",
                            "      <td>Dufftown</td>\n",
                            "      <td>12 year old Whisky</td>\n",
                            "      <td>40.0%</td>\n",
                            "      <td>NaN</td>\n",
                            "      <td>NaN</td>\n",
                            "      <td>NaN</td>\n",
                            "    </tr>\n",
                            "    <tr>\n",
                            "      <th>1</th>\n",
                            "      <td>Laphroaig 10 Year Old Sherry Oak Finish</td>\n",
                            "      <td>Smoked meats, maple syrup, BBQ lemon, charred ...</td>\n",
                            "      <td>More roasted cedar and peat smoke, with a hint...</td>\n",
                            "      <td>A balanced finish of sherried sweetness and sm...</td>\n",
                            "      <td>Smoke and sherry here from Laphroaig! The lege...</td>\n",
                            "      <td>Islay Whisky</td>\n",
                            "      <td>Single Malt Whisky</td>\n",
                            "      <td>Laphroaig</td>\n",
                            "      <td>Laphroaig</td>\n",
                            "      <td>10 year old Whisky</td>\n",
                            "      <td>48.0%</td>\n",
                            "      <td>NaN</td>\n",
                            "      <td>NaN</td>\n",
                            "      <td>NaN</td>\n",
                            "    </tr>\n",
                            "  </tbody>\n",
                            "</table>\n",
                            "</div>"
                        ],
                        "text/plain": [
                            "                                      name  \\\n",
                            "0        Singleton of Dufftown 12 Year Old   \n",
                            "1  Laphroaig 10 Year Old Sherry Oak Finish   \n",
                            "\n",
                            "                                                nose  \\\n",
                            "0  Malty with cereal/barley sweetness, buttery to...   \n",
                            "1  Smoked meats, maple syrup, BBQ lemon, charred ...   \n",
                            "\n",
                            "                                              palate  \\\n",
                            "0  Orange zest spiciness perks up a malty core of...   \n",
                            "1  More roasted cedar and peat smoke, with a hint...   \n",
                            "\n",
                            "                                              finish  \\\n",
                            "0   Oaky, rich with good length, some fruit lingers.   \n",
                            "1  A balanced finish of sherried sweetness and sm...   \n",
                            "\n",
                            "                                         description           region  \\\n",
                            "0  A straightforward, nutty and malty single malt...  Speyside Whisky   \n",
                            "1  Smoke and sherry here from Laphroaig! The lege...     Islay Whisky   \n",
                            "\n",
                            "                style distillery    bottler                 age alcohol  \\\n",
                            "0  Single Malt Whisky   Dufftown   Dufftown  12 year old Whisky   40.0%   \n",
                            "1  Single Malt Whisky  Laphroaig  Laphroaig  10 year old Whisky   48.0%   \n",
                            "\n",
                            "  maturation chill_filter cask_strength  \n",
                            "0        NaN          NaN           NaN  \n",
                            "1        NaN          NaN           NaN  "
                        ]
                    },
                    "execution_count": 5,
                    "metadata": {},
                    "output_type": "execute_result"
                }
            ],
            "source": [
                "whiskydf_raw.head(2)"
            ]
        },
        {
            "cell_type": "markdown",
            "metadata": {},
            "source": [
                "## Initial Data Clean\n",
                "#### Dropping observations with no reviews or missing taste,nose, and finish notes.\n",
                "#### Coverting/cleaning numeric columns. "
            ]
        },
        {
            "cell_type": "code",
            "execution_count": 6,
            "metadata": {},
            "outputs": [
                {
                    "name": "stdout",
                    "output_type": "stream",
                    "text": [
                        "<class 'pandas.core.frame.DataFrame'>\n",
                        "RangeIndex: 14143 entries, 0 to 14142\n",
                        "Data columns (total 14 columns):\n",
                        " #   Column         Non-Null Count  Dtype \n",
                        "---  ------         --------------  ----- \n",
                        " 0   name           14143 non-null  object\n",
                        " 1   nose           8553 non-null   object\n",
                        " 2   palate         8552 non-null   object\n",
                        " 3   finish         8488 non-null   object\n",
                        " 4   description    14143 non-null  object\n",
                        " 5   region         14143 non-null  object\n",
                        " 6   style          14143 non-null  object\n",
                        " 7   distillery     14143 non-null  object\n",
                        " 8   bottler        14142 non-null  object\n",
                        " 9   age            10667 non-null  object\n",
                        " 10  alcohol        14142 non-null  object\n",
                        " 11  maturation     2376 non-null   object\n",
                        " 12  chill_filter   479 non-null    object\n",
                        " 13  cask_strength  1022 non-null   object\n",
                        "dtypes: object(14)\n",
                        "memory usage: 1.5+ MB\n"
                    ]
                }
            ],
            "source": [
                "whiskydf_raw.info()"
            ]
        },
        {
            "cell_type": "markdown",
            "metadata": {},
            "source": [
                "### Let's keep the subset of whiskeys where there are tasting notes (e.g. where nose, palate, and finish are not null)"
            ]
        },
        {
            "cell_type": "code",
            "execution_count": 7,
            "metadata": {},
            "outputs": [
                {
                    "data": {
                        "text/plain": [
                            "nose      False\n",
                            "palate    False\n",
                            "finish    False\n",
                            "dtype: bool"
                        ]
                    },
                    "execution_count": 7,
                    "metadata": {},
                    "output_type": "execute_result"
                }
            ],
            "source": [
                "tastingnote_cols = ['nose', 'palate', 'finish']\n",
                "\n",
                "whiskydf_raw[tastingnote_cols].isna().all() == True"
            ]
        },
        {
            "cell_type": "markdown",
            "metadata": {},
            "source": [
                "Takes subset where Master of Malt bros have created tasting notes on the whiskey. "
            ]
        },
        {
            "cell_type": "code",
            "execution_count": 8,
            "metadata": {},
            "outputs": [],
            "source": [
                "whisky_df =  whiskydf_raw.dropna(how = \"any\", axis = 0, subset= tastingnote_cols)"
            ]
        },
        {
            "cell_type": "code",
            "execution_count": 9,
            "metadata": {},
            "outputs": [
                {
                    "name": "stdout",
                    "output_type": "stream",
                    "text": [
                        "<class 'pandas.core.frame.DataFrame'>\n",
                        "Int64Index: 8485 entries, 0 to 14141\n",
                        "Data columns (total 14 columns):\n",
                        " #   Column         Non-Null Count  Dtype \n",
                        "---  ------         --------------  ----- \n",
                        " 0   name           8485 non-null   object\n",
                        " 1   nose           8485 non-null   object\n",
                        " 2   palate         8485 non-null   object\n",
                        " 3   finish         8485 non-null   object\n",
                        " 4   description    8485 non-null   object\n",
                        " 5   region         8485 non-null   object\n",
                        " 6   style          8485 non-null   object\n",
                        " 7   distillery     8485 non-null   object\n",
                        " 8   bottler        8485 non-null   object\n",
                        " 9   age            6557 non-null   object\n",
                        " 10  alcohol        8485 non-null   object\n",
                        " 11  maturation     1613 non-null   object\n",
                        " 12  chill_filter   403 non-null    object\n",
                        " 13  cask_strength  550 non-null    object\n",
                        "dtypes: object(14)\n",
                        "memory usage: 994.3+ KB\n"
                    ]
                }
            ],
            "source": [
                "whisky_df.info()"
            ]
        },
        {
            "cell_type": "markdown",
            "metadata": {},
            "source": [
                "Our scraper extracted a good amount of data and it'll be good to see whether there are some entries that don't belong (i.e styles that are not single malt, etc.)"
            ]
        },
        {
            "cell_type": "code",
            "execution_count": 10,
            "metadata": {},
            "outputs": [
                {
                    "data": {
                        "text/plain": [
                            "array(['Single Malt Whisky'], dtype=object)"
                        ]
                    },
                    "execution_count": 10,
                    "metadata": {},
                    "output_type": "execute_result"
                }
            ],
            "source": [
                "whisky_df['style'].unique()"
            ]
        },
        {
            "cell_type": "markdown",
            "metadata": {},
            "source": [
                "Alright, so these are all single malt whiskies. Good. But since there's only one value the column carries no information. We'll drop it.  Also there seem to be no disambiguations/mispellings in the Scotch whisky region names. Each unique entry corresponds to a different Scotch whisky making region."
            ]
        },
        {
            "cell_type": "code",
            "execution_count": 11,
            "metadata": {},
            "outputs": [
                {
                    "data": {
                        "text/plain": [
                            "array(['Speyside Whisky', 'Islay Whisky', 'Highland Whisky',\n",
                            "       'Island Whisky', 'Scotch Whisky', 'Lowland Whisky',\n",
                            "       'Campbeltown Whisky', 'Other Scotch Whisky'], dtype=object)"
                        ]
                    },
                    "execution_count": 11,
                    "metadata": {},
                    "output_type": "execute_result"
                }
            ],
            "source": [
                "whisky_df.region.unique()"
            ]
        },
        {
            "cell_type": "code",
            "execution_count": 12,
            "metadata": {},
            "outputs": [
                {
                    "name": "stdout",
                    "output_type": "stream",
                    "text": [
                        "Index(['name', 'nose', 'palate', 'finish', 'description', 'region',\n",
                        "       'distillery', 'bottler', 'age', 'alcohol', 'maturation', 'chill_filter',\n",
                        "       'cask_strength'],\n",
                        "      dtype='object')\n"
                    ]
                }
            ],
            "source": [
                "whisky_df = whisky_df.drop(columns = ['style'])\n",
                "print(whisky_df.columns)"
            ]
        },
        {
            "cell_type": "markdown",
            "metadata": {},
            "source": [
                "#### Age column\n",
                "Now we'll tackle the age column. Generally, the whiskies are matured for years in casks before bottling. The age corresponds to the aging before bottling. But let's check whether there are other units (months, etc.) of aging buried in the data."
            ]
        },
        {
            "cell_type": "code",
            "execution_count": 13,
            "metadata": {},
            "outputs": [
                {
                    "data": {
                        "text/plain": [
                            "0    12 year old Whisky\n",
                            "1    10 year old Whisky\n",
                            "2    15 year old Whisky\n",
                            "Name: age, dtype: object"
                        ]
                    },
                    "execution_count": 13,
                    "metadata": {},
                    "output_type": "execute_result"
                }
            ],
            "source": [
                "whisky_df.age.head(3)"
            ]
        },
        {
            "cell_type": "markdown",
            "metadata": {},
            "source": [
                "The second word is the aging unit (year). Let's extract this second word and see if anything else pops up."
            ]
        },
        {
            "cell_type": "code",
            "execution_count": 14,
            "metadata": {},
            "outputs": [
                {
                    "data": {
                        "text/plain": [
                            "array(['year', nan], dtype=object)"
                        ]
                    },
                    "execution_count": 14,
                    "metadata": {},
                    "output_type": "execute_result"
                }
            ],
            "source": [
                "whisky_df.age.str.split().str[1].unique()"
            ]
        },
        {
            "cell_type": "markdown",
            "metadata": {},
            "source": [
                "Nope. Either the age is recorded in years or the entry corresponds to a whisky with no age statement. Let's process this understanding that age is in years and convert the column to numeric."
            ]
        },
        {
            "cell_type": "code",
            "execution_count": 15,
            "metadata": {},
            "outputs": [],
            "source": [
                "#convert whiskey age to numeric.\n",
                "whisky_df.age = whisky_df.age.str.split(' ').str[0].astype('float')"
            ]
        },
        {
            "cell_type": "code",
            "execution_count": 16,
            "metadata": {},
            "outputs": [
                {
                    "data": {
                        "text/plain": [
                            "array([   3.,    4.,    5.,    6.,    7.,    8.,    9.,   10.,   11.,\n",
                            "         12.,   13.,   14.,   15.,   16.,   17.,   18.,   19.,   20.,\n",
                            "         21.,   22.,   23.,   24.,   25.,   26.,   27.,   28.,   29.,\n",
                            "         30.,   31.,   32.,   33.,   34.,   35.,   36.,   37.,   38.,\n",
                            "         39.,   40.,   41.,   42.,   43.,   44.,   45.,   46.,   47.,\n",
                            "         48.,   49.,   50.,   51.,   52.,   54.,   55.,   56.,   60.,\n",
                            "         62.,   64.,   65.,   71.,   78.,  105., 2003.,   nan])"
                        ]
                    },
                    "execution_count": 16,
                    "metadata": {},
                    "output_type": "execute_result"
                }
            ],
            "source": [
                "np.sort(whisky_df.age.unique())"
            ]
        },
        {
            "cell_type": "markdown",
            "metadata": {},
            "source": [
                "105 and 2003 year old whisky are possible outliers. Let's investigate more closely."
            ]
        },
        {
            "cell_type": "code",
            "execution_count": 17,
            "metadata": {},
            "outputs": [
                {
                    "data": {
                        "text/html": [
                            "<div>\n",
                            "<style scoped>\n",
                            "    .dataframe tbody tr th:only-of-type {\n",
                            "        vertical-align: middle;\n",
                            "    }\n",
                            "\n",
                            "    .dataframe tbody tr th {\n",
                            "        vertical-align: top;\n",
                            "    }\n",
                            "\n",
                            "    .dataframe thead th {\n",
                            "        text-align: right;\n",
                            "    }\n",
                            "</style>\n",
                            "<table border=\"1\" class=\"dataframe\">\n",
                            "  <thead>\n",
                            "    <tr style=\"text-align: right;\">\n",
                            "      <th></th>\n",
                            "      <th>name</th>\n",
                            "      <th>nose</th>\n",
                            "      <th>palate</th>\n",
                            "      <th>finish</th>\n",
                            "      <th>description</th>\n",
                            "      <th>region</th>\n",
                            "      <th>distillery</th>\n",
                            "      <th>bottler</th>\n",
                            "      <th>age</th>\n",
                            "      <th>alcohol</th>\n",
                            "      <th>maturation</th>\n",
                            "      <th>chill_filter</th>\n",
                            "      <th>cask_strength</th>\n",
                            "    </tr>\n",
                            "  </thead>\n",
                            "  <tbody>\n",
                            "    <tr>\n",
                            "      <th>9219</th>\n",
                            "      <td>Aisla T'Orten 105 Year Old 1906 - Liquid Histo...</td>\n",
                            "      <td>The most unique bouquet I’ve ever experienced....</td>\n",
                            "      <td>Heaven is spelt “T-O-R-T-E-N”. This conjures u...</td>\n",
                            "      <td>To say this was long would be an understatemen...</td>\n",
                            "      <td>The world's oldest whisky. Read more about thi...</td>\n",
                            "      <td>Highland Whisky</td>\n",
                            "      <td>Aisla T'Orten</td>\n",
                            "      <td>Master of Malt</td>\n",
                            "      <td>105.0</td>\n",
                            "      <td>40.7%</td>\n",
                            "      <td>Sherry</td>\n",
                            "      <td>NaN</td>\n",
                            "      <td>NaN</td>\n",
                            "    </tr>\n",
                            "  </tbody>\n",
                            "</table>\n",
                            "</div>"
                        ],
                        "text/plain": [
                            "                                                   name  \\\n",
                            "9219  Aisla T'Orten 105 Year Old 1906 - Liquid Histo...   \n",
                            "\n",
                            "                                                   nose  \\\n",
                            "9219  The most unique bouquet I’ve ever experienced....   \n",
                            "\n",
                            "                                                 palate  \\\n",
                            "9219  Heaven is spelt “T-O-R-T-E-N”. This conjures u...   \n",
                            "\n",
                            "                                                 finish  \\\n",
                            "9219  To say this was long would be an understatemen...   \n",
                            "\n",
                            "                                            description           region  \\\n",
                            "9219  The world's oldest whisky. Read more about thi...  Highland Whisky   \n",
                            "\n",
                            "         distillery         bottler    age alcohol maturation chill_filter  \\\n",
                            "9219  Aisla T'Orten  Master of Malt  105.0   40.7%     Sherry          NaN   \n",
                            "\n",
                            "     cask_strength  \n",
                            "9219           NaN  "
                        ]
                    },
                    "execution_count": 17,
                    "metadata": {},
                    "output_type": "execute_result"
                }
            ],
            "source": [
                "whisky_df[whisky_df.age == 105]"
            ]
        },
        {
            "cell_type": "code",
            "execution_count": 18,
            "metadata": {},
            "outputs": [
                {
                    "data": {
                        "text/plain": [
                            "array([\"The world's oldest whisky. Read more about this extraordinary liquid history over on the Master of Malt blog . OK everyone, we have to come clean! The miraculous discovery of this 105 year old whisky may have had something to do with its launch on April Fools’ Day 2011. It’s also possible that some sneaky anagrams were used in some of the names in the story: Allie Sisell (the discoverer of the cask):  Aethenias Simonvent (the distillery’s founder):  And there’s a good chance that if you rearrange the letters in Aisla T’Orten distillery you get:\"],\n",
                            "      dtype=object)"
                        ]
                    },
                    "execution_count": 18,
                    "metadata": {},
                    "output_type": "execute_result"
                }
            ],
            "source": [
                "whisky_df[whisky_df.age == 105].description.values"
            ]
        },
        {
            "cell_type": "markdown",
            "metadata": {},
            "source": [
                "It's an April Fools joke! Gaaaarrrrr!!!! Remove this."
            ]
        },
        {
            "cell_type": "code",
            "execution_count": 19,
            "metadata": {},
            "outputs": [
                {
                    "name": "stdout",
                    "output_type": "stream",
                    "text": [
                        "[  12.   10.   15.   nan   18.   25.   14.   21.   13.   16.    8.    5.\n",
                        "   11.   26.   23.   43.   28.   24.    9.   30.   29.   42.   19.   27.\n",
                        "   20.   17.    7.   40.    6.   22.   45.    3.   37.   35.   31.   64.\n",
                        "   50.   46.   36.   32.   44.   56.   38.   34.   33.   62.    4.   41.\n",
                        "   39. 2003.   60.   54.   55.   78.   52.   49.   47.   48.   51.   71.\n",
                        "   65.]\n"
                    ]
                }
            ],
            "source": [
                "whisky_df = whisky_df[~(whisky_df.age == 105)]\n",
                "print(whisky_df.age.unique())"
            ]
        },
        {
            "cell_type": "code",
            "execution_count": 20,
            "metadata": {},
            "outputs": [
                {
                    "data": {
                        "text/plain": [
                            "array([\"Batch 4 of Benromach's Origins range, bottled in 2013, is matured entirely in first fill Port pipes and peated to a level of 8ppm. The idea behind the range is to highlight how changing different factors during production results in different characteristics in the final spirit.\"],\n",
                            "      dtype=object)"
                        ]
                    },
                    "execution_count": 20,
                    "metadata": {},
                    "output_type": "execute_result"
                }
            ],
            "source": [
                "whisky_df[whisky_df.age == 2003].description.values"
            ]
        },
        {
            "cell_type": "markdown",
            "metadata": {},
            "source": [
                "This batch was started on 2003 but bottled in 2013, so we'll change the age value to 10 years. "
            ]
        },
        {
            "cell_type": "code",
            "execution_count": 21,
            "metadata": {},
            "outputs": [],
            "source": [
                "whisky_df.loc[whisky_df.age == 2003, \"age\"] = 10"
            ]
        },
        {
            "cell_type": "code",
            "execution_count": 22,
            "metadata": {},
            "outputs": [
                {
                    "data": {
                        "text/plain": [
                            "array([12., 10., 15., nan, 18., 25., 14., 21., 13., 16.,  8.,  5., 11.,\n",
                            "       26., 23., 43., 28., 24.,  9., 30., 29., 42., 19., 27., 20., 17.,\n",
                            "        7., 40.,  6., 22., 45.,  3., 37., 35., 31., 64., 50., 46., 36.,\n",
                            "       32., 44., 56., 38., 34., 33., 62.,  4., 41., 39., 60., 54., 55.,\n",
                            "       78., 52., 49., 47., 48., 51., 71., 65.])"
                        ]
                    },
                    "execution_count": 22,
                    "metadata": {},
                    "output_type": "execute_result"
                }
            ],
            "source": [
                "# check if we have removed the outlier. \n",
                "whisky_df.age.unique()"
            ]
        },
        {
            "cell_type": "markdown",
            "metadata": {},
            "source": [
                "#### Alcohol column\n",
                "Yes. Now we convert the alcohol column to numeric value, we'll also change the name from alcohol to ABV as this is known to be in percent."
            ]
        },
        {
            "cell_type": "code",
            "execution_count": 23,
            "metadata": {},
            "outputs": [
                {
                    "name": "stdout",
                    "output_type": "stream",
                    "text": [
                        "False\n"
                    ]
                }
            ],
            "source": [
                "whisky_df.alcohol = whisky_df.alcohol.str.replace('%', '').astype('float')\n",
                "#check for NaNs\n",
                "print(whisky_df.alcohol.isna().any())"
            ]
        },
        {
            "cell_type": "code",
            "execution_count": 24,
            "metadata": {},
            "outputs": [
                {
                    "name": "stdout",
                    "output_type": "stream",
                    "text": [
                        "Index(['name', 'nose', 'palate', 'finish', 'description', 'region',\n",
                        "       'distillery', 'bottler', 'age', 'ABV', 'maturation', 'chill_filter',\n",
                        "       'cask_strength'],\n",
                        "      dtype='object')\n"
                    ]
                }
            ],
            "source": [
                "whisky_df.rename(columns = {'alcohol': 'ABV'}, inplace = True)\n",
                "print(whisky_df.columns)"
            ]
        },
        {
            "cell_type": "markdown",
            "metadata": {},
            "source": [
                "#### cask_strength and chill_filter have Yes/No entries when populated. Let's convert these to Boolean."
            ]
        },
        {
            "cell_type": "code",
            "execution_count": 25,
            "metadata": {},
            "outputs": [
                {
                    "name": "stdout",
                    "output_type": "stream",
                    "text": [
                        "{'cask_strength_unique': array([nan, 'No', 'Yes'], dtype=object), 'chill_filter_unique': array([nan, 'No', 'Yes'], dtype=object)}\n"
                    ]
                }
            ],
            "source": [
                "print({'cask_strength_unique': whisky_df.cask_strength.unique(), 'chill_filter_unique': whisky_df.chill_filter.unique()})"
            ]
        },
        {
            "cell_type": "code",
            "execution_count": 26,
            "metadata": {},
            "outputs": [],
            "source": [
                "whisky_df.loc[:, ['cask_strength', 'chill_filter']] = whisky_df[['cask_strength', 'chill_filter']].replace({'Yes': True, 'No': False})"
            ]
        },
        {
            "cell_type": "code",
            "execution_count": 27,
            "metadata": {},
            "outputs": [
                {
                    "name": "stdout",
                    "output_type": "stream",
                    "text": [
                        "{'cask_strength_unique': array([nan, False, True], dtype=object), 'chill_filter_unique': array([nan, False, True], dtype=object)}\n"
                    ]
                }
            ],
            "source": [
                "print({'cask_strength_unique': whisky_df.cask_strength.unique(), 'chill_filter_unique': whisky_df.chill_filter.unique()})"
            ]
        },
        {
            "cell_type": "markdown",
            "metadata": {},
            "source": [
                "## Description Column: Extracting Cask Data and Filtration Process from free text\n",
                "\n",
                "We want to extract information about the whiskies from these columns. Some of this info will be concrete (is it cask strength? is it chill filtered? which barrels was it aged in?). Some of that info is in the description but was not put into the bottle detail data on the website...so we'll need to extract it from free text and put it into the appropriate existing dataframe column. "
            ]
        },
        {
            "cell_type": "code",
            "execution_count": 28,
            "metadata": {},
            "outputs": [],
            "source": [
                "# we're going to import necessary NLP libraries\n",
                "\n",
                "import spacy\n",
                "from spacy.tokens import Doc, Span, Token # for creating global objects \n",
                "from spacy.matcher import Matcher # for rule-based matching\n",
                "from spacy.matcher import DependencyMatcher\n",
                "from spacy.language import Language # for building custom pipeline components\n",
                "from spacy.pipeline import EntityRuler \n",
                "\n",
                "\n",
                "\n",
                "from copy import deepcopy\n"
            ]
        },
        {
            "cell_type": "markdown",
            "metadata": {},
            "source": [
                "#### We create our nlp object and we are going to use a rule-based scheme to get some named entities."
            ]
        },
        {
            "cell_type": "code",
            "execution_count": 29,
            "metadata": {},
            "outputs": [],
            "source": [
                "nlp = spacy.load('en_core_web_lg') # loads our NLP model\n",
                "\n",
                "# we're going to create a manual list of stop words that will be used later down the line. \"hint\", \"touch\", and \"note\" and variants thereof need to be removed.\n",
                "\n",
                "nlp.Defaults.stop_words |= {\"hint\", \"Hint\", \"hints\", \"touch\", \"touches\", \"Touch\", \"note\", \"Note\", \"notes\", \"Notes\", \"little\", \"end\", \"thing\", \"palate\", \"Palate\", \"nose\", \"Nose\", \"whisper\", \"whispers\"}\n",
                "\n",
                "\n",
                "# creates ruler\n",
                "ruler = nlp.add_pipe(\"entity_ruler\")\n",
                "\n",
                "# pattern_csk1 = [{\"POS\": \"NOUN\", \"OP\":\"*\"}, {\"LEMMA\": \"cask\"}]\n",
                "# pattern_csk1 = [{\"POS\": \"NOUN\", \"OP\":\"*\"}, {\"LEMMA\": {\"IN\": [\"cask\", \"octave\", \"pipe\", \"puncheon\", \"butt\", \"barrel\"]} } ]\n",
                "# pattern_csk2 = [{\"POS\": \"NOUN\", \"OP\":\"*\"}, {\"POS\": \"CCONJ\"}, {\"POS\": \"NOUN\", \"OP\":\"*\"}, {\"LEMMA\": {\"IN\": [\"cask\", \"octave\", \"pipe\", \"puncheon\", \"butt\", \"hogshead\"]} } ]\n",
                "\n",
                "pattern_csk = [{\"LEMMA\": {\"IN\": [\"cask\", \"octave\", \"pipe\", \"puncheon\", \"butt\", \"barrel\", \"hogshead\"]} } ]\n",
                "\n",
                "patterns = [ {\"label\": \"CSK\", \"pattern\": pattern_csk }]\n",
                "\n",
                "# adds rules that will be used to parse and create entities\n",
                "ruler.add_patterns(patterns)\n",
                "\n",
                "\n",
                "\n"
            ]
        },
        {
            "cell_type": "markdown",
            "metadata": {},
            "source": [
                "We want to batch process all the description text. So we'll construct a pipeline. We also want to keep track of what description belongs to what whisky. This will enable us to rejoin any results from NLP into our pandas dataframe. So we will construct a custom attribute via context creation."
            ]
        },
        {
            "cell_type": "code",
            "execution_count": 30,
            "metadata": {},
            "outputs": [],
            "source": [
                "# passing context metadata into attributes via pipeline requires the data to be in a specific form. We'll create a function to do transform the data into the right form.\n",
                "# then the data will be used to create a Doc object generator based off of the text and context metadata.\n",
                "\n",
                "def doc_context_tupling(data, textcolname, *args):\n",
                "    col_list = [textcolname]\n",
                "    attr_list = list(args)\n",
                "    \n",
                "    col_list.extend(attr_list)\n",
                "\n",
                "    # data is in dataframe w/ form of whisky_df\n",
                "    subset_dict_list = list(data[col_list].T.to_dict().values())\n",
                "\n",
                "    # now let's form a (text, context_dictionary) tuple which is what the spacy pipeline requires. \n",
                "\n",
                "    data_context_list = [ (subset_dict.pop(textcolname), subset_dict) for subset_dict in subset_dict_list]\n",
                "\n",
                "    # for each key-value pair in args, we'll need to create a Doc extension attribute.\n",
                "    \n",
                "\n",
                "    for doc, context in nlp.pipe(data_context_list, as_tuples = True):\n",
                "        Doc.set_extension('context', force = True, default = context)\n",
                "        yield doc\n"
            ]
        },
        {
            "cell_type": "markdown",
            "metadata": {},
            "source": [
                "We are going to use some domain knowledge. It is unlikely that a whisky producer or reviewer would mention chill filtration in a description unless the whisky was NOT chill filtered. Chill filtration is a process that removes some esthers and fatty acids that can become non-soluble in lower ABV whisky at cooler temperatures. The process can prevent clouding but many connosieurs believe that it degrades the quality of the whisky and removes some of its mouthfeel and complexity. In any case, saying that your whisky is non chill-filtered is a point of pride. We'll thus create a very simple rule based matcher for this and not worry too heavily about the possibility that the review is saying that it IS chill filtered. The same logic goes for whether a whisky is cask strength or not."
            ]
        },
        {
            "cell_type": "code",
            "execution_count": 31,
            "metadata": {},
            "outputs": [],
            "source": [
                "def update_cs_cf_info(data):\n",
                "\n",
                "    matcher = Matcher(nlp.vocab)\n",
                "    pattern1 = [{'LOWER': 'chill'}, {'IS_PUNCT': True, 'OP': \"?\"},  {'LEMMA': 'filtration'} ]\n",
                "    pattern2 = [{'LOWER': 'chill'}, {'IS_PUNCT': True, 'OP': \"?\"},  {'LEMMA': 'filter'} ]\n",
                "    matcher.add('CHILL_FILTER', [pattern1, pattern2])\n",
                "\n",
                "    matcher2 = Matcher(nlp.vocab)\n",
                "    pattern3 = [{'LOWER': 'cask'}, {'IS_PUNCT': True, 'OP': \"?\"},  {'LEMMA': 'strength'} ]\n",
                "    matcher2.add('CASK_STRENGTH', [pattern3])\n",
                "\n",
                "    descript_corpus = doc_context_tupling(data, 'description', 'name')\n",
                "\n",
                "    new_data = deepcopy(data)\n",
                "\n",
                "    for doc in descript_corpus:\n",
                "\n",
                "        matches_chillf = matcher(doc)\n",
                "        matches_cask = matcher2(doc)\n",
                "        \n",
                "        if len(matches_cask) > 0:\n",
                "            new_data.loc[new_data.name == doc._.context['name'], 'cask_strength'] =  True \n",
                "        \n",
                "        counter = 0\n",
                "        if len(matches_chillf) > 0:\n",
                "            new_data.loc[new_data.name == doc._.context['name'], 'chill_filter'] =  False \n",
                "\n",
                "    return new_data\n",
                "\n"
            ]
        },
        {
            "cell_type": "code",
            "execution_count": 32,
            "metadata": {},
            "outputs": [],
            "source": [
                "new_whisk = update_cs_cf_info(whisky_df)"
            ]
        },
        {
            "cell_type": "code",
            "execution_count": 33,
            "metadata": {},
            "outputs": [
                {
                    "name": "stdout",
                    "output_type": "stream",
                    "text": [
                        "<class 'pandas.core.frame.DataFrame'>\n",
                        "Int64Index: 8484 entries, 0 to 14141\n",
                        "Data columns (total 13 columns):\n",
                        " #   Column         Non-Null Count  Dtype  \n",
                        "---  ------         --------------  -----  \n",
                        " 0   name           8484 non-null   object \n",
                        " 1   nose           8484 non-null   object \n",
                        " 2   palate         8484 non-null   object \n",
                        " 3   finish         8484 non-null   object \n",
                        " 4   description    8484 non-null   object \n",
                        " 5   region         8484 non-null   object \n",
                        " 6   distillery     8484 non-null   object \n",
                        " 7   bottler        8484 non-null   object \n",
                        " 8   age            6556 non-null   float64\n",
                        " 9   ABV            8484 non-null   float64\n",
                        " 10  maturation     1612 non-null   object \n",
                        " 11  chill_filter   819 non-null    object \n",
                        " 12  cask_strength  1643 non-null   object \n",
                        "dtypes: float64(2), object(11)\n",
                        "memory usage: 1.2+ MB\n"
                    ]
                }
            ],
            "source": [
                "new_whisk.info()"
            ]
        },
        {
            "cell_type": "markdown",
            "metadata": {},
            "source": [
                "Whisky maturation column text normalizing"
            ]
        },
        {
            "cell_type": "code",
            "execution_count": 34,
            "metadata": {},
            "outputs": [
                {
                    "data": {
                        "text/plain": [
                            "array([nan, 'Sherry', 'Wine Cask', 'Bourbon', 'Port Finish', 'Rum Finish',\n",
                            "       'Oak', 'Brandy'], dtype=object)"
                        ]
                    },
                    "execution_count": 34,
                    "metadata": {},
                    "output_type": "execute_result"
                }
            ],
            "source": [
                "new_whisk.maturation.unique()"
            ]
        },
        {
            "cell_type": "markdown",
            "metadata": {},
            "source": [
                "Let's lower-case all these. Also we can remove the word 'finish' where necessary."
            ]
        },
        {
            "cell_type": "code",
            "execution_count": 35,
            "metadata": {},
            "outputs": [],
            "source": [
                "new_whisk.maturation = new_whisk.maturation.str.lower().replace({'port finish': 'port',  'rum finish': 'rum', 'wine cask': 'wine'})\n"
            ]
        },
        {
            "cell_type": "markdown",
            "metadata": {},
            "source": [
                "The description also has information about the wood / type of barrel(s) that the whisky was aged in.  We want to be able to extract that information from the free text. There are different names used for 'casks' in the corpus. Some examples are octaves, pipes, butts, puncheons, etc. There are technical differences between these (size, shape, etc) that can have effects on the whisky taste. But it'll be good to create a broad named entity class for this. We've already done this via the Entity Ruler and created a named entity class CSK.\n",
                "\n",
                "We want characteristics of the cask that directly impact flavor profiles such as whether the cask once held sherry, bourbon, etc or the kind of wood when relevant (oak can impart strong flavors to a Scotch). My bet is that this can be parsed via syntactic dependencies. Statements regarding cask aging will typically have a structure like:\n",
                "\n",
                "\"Was aged in a sherry cask.\"\n",
                "\n",
                "Cask entities in such a formation thus will be a prepositional object and we can look for noun modifiers on pobj.\n",
                "\n"
            ]
        },
        {
            "cell_type": "code",
            "execution_count": 36,
            "metadata": {},
            "outputs": [
                {
                    "name": "stdout",
                    "output_type": "stream",
                    "text": [
                        "A 21 year old single malt from the Aberlour Distillery, independently bottled by Montgomerie's as part of the Rare Select series. This one was distilled back in February 1996 and filled into a single bourbon cask, then left alone for 21 years before being bottled in September 2017 at 46% ABV. A tasty chance to see the non-sherried side of Aberlour.\n"
                    ]
                }
            ],
            "source": [
                "dc = nlp(new_whisk.iloc[450].description)\n",
                "print(dc)\n"
            ]
        },
        {
            "cell_type": "markdown",
            "metadata": {},
            "source": [
                "There are a lot of downsides to what I'm doing next and a lot of dependency rule generation. But hey...this is my first NLP rodeo and it seems to work OK"
            ]
        },
        {
            "cell_type": "code",
            "execution_count": 37,
            "metadata": {},
            "outputs": [],
            "source": [
                "def parse_cask_traits(doc):\n",
                "\n",
                "    # let's construct a dependency pattern matcher\n",
                "\n",
                "    dep_matcher = DependencyMatcher(nlp.vocab)\n",
                "\n",
                "    # define our cask entity as an anchor where we inisist that the cask mention is a prepositional object\n",
                "    #dep_pattern1 looks for modifiers like 'American oak' or 'Oloroso sherry' or single modifiers like 'sherry' or 'bourbon'\n",
                "\n",
                "    dep_pattern1 = [{'RIGHT_ID': 'csk_ent', 'RIGHT_ATTRS': {'ENT_TYPE': 'CSK', 'DEP': 'pobj'}}, {'LEFT_ID': 'csk_ent', 'REL_OP': '>>', 'RIGHT_ID': 'cask_trait', 'RIGHT_ATTRS': {'DEP': {'IN': ['compound', 'amod']}}}]\n",
                "    # this is designed to find things like \"bourbon and sherry casks\" or \"bourbon and European oak\"\n",
                "    dep_pattern2 = [{'RIGHT_ID': 'csk_ent', 'RIGHT_ATTRS': {'ENT_TYPE': 'CSK', 'DEP': 'pobj'}}, {'LEFT_ID': 'csk_ent', 'REL_OP': '>', 'RIGHT_ID': 'cask_trait', 'RIGHT_ATTRS': {'DEP': 'nmod' }}, {'LEFT_ID': 'cask_trait', 'REL_OP': '>', 'RIGHT_ID': 'cask_conj', 'RIGHT_ATTRS': {'DEP': 'conj'}}]\n",
                "    \n",
                "    \n",
                "    # this is a common misparsing that needs to be accounted for when conjunctions with compounds and noun modifiers on the cask entity are present -- first nmod sometimes gets mislabeled as a pobj. the parser mislabels the cask as a conjunction.\n",
                "    dep_pattern3 = [{'RIGHT_ID': 'csk_ent', 'RIGHT_ATTRS': {'ENT_TYPE': 'CSK', 'DEP': 'conj'}}, {'LEFT_ID': 'csk_ent', 'REL_OP': '<', 'RIGHT_ID': 'cask_trait2', 'RIGHT_ATTRS': {'DEP': 'pobj'}}, {'LEFT_ID': 'csk_ent', 'REL_OP': '>>', 'RIGHT_ID': 'cask_trait', 'RIGHT_ATTRS': {'DEP': {'IN': ['compound', 'amod']}}}]\n",
                "    dep_pattern4 = [{'RIGHT_ID': 'csk_ent', 'RIGHT_ATTRS': {'ENT_TYPE': 'CSK', 'DEP': 'conj'}}, {'LEFT_ID': 'csk_ent', 'REL_OP': '>>', 'RIGHT_ID': 'cask_trait', 'RIGHT_ATTRS': {'DEP': {'IN': ['compound', 'amod']}}}]\n",
                "\n",
                "    dep_matcher.add('compoundamod', patterns = [dep_pattern1, dep_pattern2, dep_pattern3, dep_pattern4])\n",
                "\n",
                "    dep_matches = dep_matcher(doc)\n",
                "    match_dict = {}\n",
                "    for match_objs in dep_matches:\n",
                "        match = match_objs[1]\n",
                "\n",
                "        # match is a tuple with cask, then children as indices. let's construct a dictionary instead out of this.\n",
                "        csk_ind = match[0]\n",
                "\n",
                "        if csk_ind not in match_dict.keys():\n",
                "            match_dict.update({csk_ind: match[1::]})\n",
                "        else:\n",
                "            match_dict[csk_ind].extend(match[1::])\n",
                "            match_dict[csk_ind].sort()\n",
                "\n",
                "\n",
                "\n",
                "    return(match_dict)\n"
            ]
        },
        {
            "cell_type": "code",
            "execution_count": 38,
            "metadata": {},
            "outputs": [],
            "source": [
                "\n",
                "import itertools\n",
                "\n",
                "def create_spans_from_matches(doc):\n",
                "\n",
                "    matchdicts = parse_cask_traits(doc)\n",
                "\n",
                "    span_list = []\n",
                "\n",
                "    def group_ranges(L):\n",
                "        for w, z in itertools.groupby(L, lambda x, y=itertools.count(): next(y)-x):\n",
                "            grouped = list(z)\n",
                "            yield (x for x in [grouped[0], grouped[-1]][:len(grouped)])\n",
                "\n",
                "    for key, val in matchdicts.items():\n",
                "        gener = group_ranges(val)\n",
                "        while True:\n",
                "            try:\n",
                "                \n",
                "                span_inds = list(next(gener))\n",
                "                span_list.append(Span(doc, span_inds[0], span_inds[-1] + 1))\n",
                "                \n",
                "            except StopIteration:\n",
                "                break\n",
                "\n",
                "    return span_list\n",
                "        \n",
                "\n",
                "\n"
            ]
        },
        {
            "cell_type": "markdown",
            "metadata": {},
            "source": [
                "Without getting more sophisticated (i.e. training NER), it'll be difficult to extract relevant cask descriptors and put them into the right categories (i.e. oloroso = sherry, Chardonnay = white wine, etc.) This is definitely something worth doing on a second pass with the spans we have created but for now we'll do a simple keyword match based off of a list based off of the 'maturation' column with a few augmented descriptors.\n",
                "\n",
                "The following function extracts the cask descriptors from each review description where it follows our dependecy matching patterns and then one-hot encodes the types of casks used in maturation via employing a multilabel binarizer."
            ]
        },
        {
            "cell_type": "code",
            "execution_count": 39,
            "metadata": {},
            "outputs": [],
            "source": [
                "\n",
                "def maturation_descriptor(data):\n",
                "\n",
                "    maturation_traits = set(np.append(data.maturation.unique(), ['sauternes', 'marsala', \"white wine\", \"rye\", \"red wine\"]))\n",
                "    #create generator from description\n",
                "\n",
                "    descript_corpus = doc_context_tupling(data, 'description', 'name')\n",
                "\n",
                "    #return dictionary \n",
                "\n",
                "    csk_doc_dict = {'name': [], 'cask_description': []}\n",
                "\n",
                "    for doc in descript_corpus:\n",
                "        match_spans = create_spans_from_matches(doc)\n",
                "\n",
                "        # initialize the set with any value that is in the maturation column\n",
                "\n",
                "        maturation_col_dat = data[data['name'] == doc._.context['name']].maturation.values\n",
                "\n",
                "        # csk_descript = set()\n",
                "        \n",
                "\n",
                "        if str(maturation_col_dat[0]) == 'nan':\n",
                "            csk_descript = set()\n",
                "        else:\n",
                "            csk_descript = set([str(maturation_col_dat[0])])\n",
                "\n",
                "        \n",
                "\n",
                "        for span in match_spans:\n",
                "            span_descriptors = [token.lemma_.lower() for token in span if token.lemma_.lower() in maturation_traits]\n",
                "            csk_descript.update(span_descriptors)\n",
                "\n",
                "            # this will manually construct bigrams to test against maturation_traits list  (in future iteration we can use mutual information to get words most commonly linked in bigrams) \n",
                "\n",
                "            csk_descript.update( [doc[token.i:token.i + 2].lemma_.lower() for token in span if doc[token.i:token.i + 2].lemma_.lower() in maturation_traits] )\n",
                "\n",
                "        # now let's look within the the corresponding data.maturation entry in the orginal dataframe. \n",
                "        # if there are cask descriptors here that are not in the spans that we have extracted from free text let's put those in now.\n",
                "            \n",
                "\n",
                "        #now create column in dataframe that possesses list\n",
                "\n",
                "        csk_doc_dict['name'].append(doc._.context['name'])\n",
                "        csk_doc_dict['cask_description'].append(csk_descript)\n",
                "\n",
                "    csk_doc_df = pd.DataFrame.from_dict(csk_doc_dict)\n",
                "\n",
                "    # now we need to one-hot encode the cask descriptions that are in the form of a list of descriptors.\n",
                "    # sklearn's multilabel binarizer will do the trick\n",
                "\n",
                "    from sklearn.preprocessing import MultiLabelBinarizer\n",
                "    mlb = MultiLabelBinarizer()\n",
                "\n",
                "    encoded_csk_cols = pd.DataFrame(mlb.fit_transform(csk_doc_df.cask_description), columns = 'maturation_' + mlb.classes_ )\n",
                "\n",
                "    csk_inter = csk_doc_df.drop(columns = ['cask_description']).join(encoded_csk_cols, how = 'inner')\n",
                "\n",
                "    #now columns that still all have zeros should be converted to having all NaNs.\n",
                "\n",
                "    mat_cols = csk_inter.columns[csk_inter.columns.str.contains('maturation')]\n",
                "    csk_inter.loc[csk_inter[mat_cols].sum(axis=1) == 0, mat_cols] = np.nan\n",
                "\n",
                "    csk_fulldf = pd.merge(left = data, right = csk_inter, how = 'inner', on = 'name').drop(columns = ['maturation'])\n",
                "\n",
                "\n",
                "    return csk_fulldf\n",
                "        \n",
                "    "
            ]
        },
        {
            "cell_type": "code",
            "execution_count": 40,
            "metadata": {},
            "outputs": [
                {
                    "data": {
                        "text/html": [
                            "<div>\n",
                            "<style scoped>\n",
                            "    .dataframe tbody tr th:only-of-type {\n",
                            "        vertical-align: middle;\n",
                            "    }\n",
                            "\n",
                            "    .dataframe tbody tr th {\n",
                            "        vertical-align: top;\n",
                            "    }\n",
                            "\n",
                            "    .dataframe thead th {\n",
                            "        text-align: right;\n",
                            "    }\n",
                            "</style>\n",
                            "<table border=\"1\" class=\"dataframe\">\n",
                            "  <thead>\n",
                            "    <tr style=\"text-align: right;\">\n",
                            "      <th></th>\n",
                            "      <th>name</th>\n",
                            "      <th>nose</th>\n",
                            "      <th>palate</th>\n",
                            "      <th>finish</th>\n",
                            "      <th>description</th>\n",
                            "      <th>region</th>\n",
                            "      <th>distillery</th>\n",
                            "      <th>bottler</th>\n",
                            "      <th>age</th>\n",
                            "      <th>ABV</th>\n",
                            "      <th>...</th>\n",
                            "      <th>maturation_marsala</th>\n",
                            "      <th>maturation_oak</th>\n",
                            "      <th>maturation_port</th>\n",
                            "      <th>maturation_red wine</th>\n",
                            "      <th>maturation_rum</th>\n",
                            "      <th>maturation_rye</th>\n",
                            "      <th>maturation_sauternes</th>\n",
                            "      <th>maturation_sherry</th>\n",
                            "      <th>maturation_white wine</th>\n",
                            "      <th>maturation_wine</th>\n",
                            "    </tr>\n",
                            "  </thead>\n",
                            "  <tbody>\n",
                            "    <tr>\n",
                            "      <th>0</th>\n",
                            "      <td>Singleton of Dufftown 12 Year Old</td>\n",
                            "      <td>Malty with cereal/barley sweetness, buttery to...</td>\n",
                            "      <td>Orange zest spiciness perks up a malty core of...</td>\n",
                            "      <td>Oaky, rich with good length, some fruit lingers.</td>\n",
                            "      <td>A straightforward, nutty and malty single malt...</td>\n",
                            "      <td>Speyside Whisky</td>\n",
                            "      <td>Dufftown</td>\n",
                            "      <td>Dufftown</td>\n",
                            "      <td>12.0</td>\n",
                            "      <td>40.0</td>\n",
                            "      <td>...</td>\n",
                            "      <td>0.0</td>\n",
                            "      <td>1.0</td>\n",
                            "      <td>0.0</td>\n",
                            "      <td>0.0</td>\n",
                            "      <td>0.0</td>\n",
                            "      <td>0.0</td>\n",
                            "      <td>0.0</td>\n",
                            "      <td>0.0</td>\n",
                            "      <td>0.0</td>\n",
                            "      <td>0.0</td>\n",
                            "    </tr>\n",
                            "    <tr>\n",
                            "      <th>1</th>\n",
                            "      <td>Laphroaig 10 Year Old Sherry Oak Finish</td>\n",
                            "      <td>Smoked meats, maple syrup, BBQ lemon, charred ...</td>\n",
                            "      <td>More roasted cedar and peat smoke, with a hint...</td>\n",
                            "      <td>A balanced finish of sherried sweetness and sm...</td>\n",
                            "      <td>Smoke and sherry here from Laphroaig! The lege...</td>\n",
                            "      <td>Islay Whisky</td>\n",
                            "      <td>Laphroaig</td>\n",
                            "      <td>Laphroaig</td>\n",
                            "      <td>10.0</td>\n",
                            "      <td>48.0</td>\n",
                            "      <td>...</td>\n",
                            "      <td>0.0</td>\n",
                            "      <td>0.0</td>\n",
                            "      <td>0.0</td>\n",
                            "      <td>0.0</td>\n",
                            "      <td>0.0</td>\n",
                            "      <td>0.0</td>\n",
                            "      <td>0.0</td>\n",
                            "      <td>1.0</td>\n",
                            "      <td>0.0</td>\n",
                            "      <td>0.0</td>\n",
                            "    </tr>\n",
                            "    <tr>\n",
                            "      <th>2</th>\n",
                            "      <td>GlenAllachie 15 Year Old</td>\n",
                            "      <td>Peanut brittle, dates and a big scoop of choco...</td>\n",
                            "      <td>Walnut, raisin, Christmas spices and fresh gin...</td>\n",
                            "      <td>Coffee, Turkish delight and just a hint of fla...</td>\n",
                            "      <td>A 2019 addition to the GlenAllachie core range...</td>\n",
                            "      <td>Speyside Whisky</td>\n",
                            "      <td>GlenAllachie</td>\n",
                            "      <td>GlenAllachie</td>\n",
                            "      <td>15.0</td>\n",
                            "      <td>46.0</td>\n",
                            "      <td>...</td>\n",
                            "      <td>0.0</td>\n",
                            "      <td>0.0</td>\n",
                            "      <td>0.0</td>\n",
                            "      <td>0.0</td>\n",
                            "      <td>0.0</td>\n",
                            "      <td>0.0</td>\n",
                            "      <td>0.0</td>\n",
                            "      <td>1.0</td>\n",
                            "      <td>0.0</td>\n",
                            "      <td>0.0</td>\n",
                            "    </tr>\n",
                            "    <tr>\n",
                            "      <th>3</th>\n",
                            "      <td>Seaweed &amp; Aeons &amp; Digging &amp; Fire &amp; Cask Streng...</td>\n",
                            "      <td>Roasted fruit and driftwood notes jump out of ...</td>\n",
                            "      <td>The coastal core remains solid on the palate w...</td>\n",
                            "      <td>A meaty hint lingers on the finish, with cinna...</td>\n",
                            "      <td>Behold, batch 4 of Seaweed &amp; Aeons &amp; Digging &amp;...</td>\n",
                            "      <td>Islay Whisky</td>\n",
                            "      <td>Seaweed &amp; Aeons &amp; Digging &amp; Fire</td>\n",
                            "      <td>Seaweed &amp; Aeons &amp; Digging &amp; Fire</td>\n",
                            "      <td>10.0</td>\n",
                            "      <td>58.3</td>\n",
                            "      <td>...</td>\n",
                            "      <td>0.0</td>\n",
                            "      <td>0.0</td>\n",
                            "      <td>0.0</td>\n",
                            "      <td>0.0</td>\n",
                            "      <td>0.0</td>\n",
                            "      <td>0.0</td>\n",
                            "      <td>0.0</td>\n",
                            "      <td>1.0</td>\n",
                            "      <td>0.0</td>\n",
                            "      <td>0.0</td>\n",
                            "    </tr>\n",
                            "    <tr>\n",
                            "      <th>4</th>\n",
                            "      <td>Edradour 10 Year Old</td>\n",
                            "      <td>Medium, great complexity. Thoroughly fruity, s...</td>\n",
                            "      <td>Cloying, seductive murkiness. Rum, barley, toa...</td>\n",
                            "      <td>Any confusion is arrested: spiced fruitcake wi...</td>\n",
                            "      <td>Edradour is one of Scotland's smallest distill...</td>\n",
                            "      <td>Highland Whisky</td>\n",
                            "      <td>Edradour</td>\n",
                            "      <td>Edradour</td>\n",
                            "      <td>10.0</td>\n",
                            "      <td>40.0</td>\n",
                            "      <td>...</td>\n",
                            "      <td>0.0</td>\n",
                            "      <td>0.0</td>\n",
                            "      <td>0.0</td>\n",
                            "      <td>0.0</td>\n",
                            "      <td>0.0</td>\n",
                            "      <td>0.0</td>\n",
                            "      <td>0.0</td>\n",
                            "      <td>1.0</td>\n",
                            "      <td>0.0</td>\n",
                            "      <td>0.0</td>\n",
                            "    </tr>\n",
                            "  </tbody>\n",
                            "</table>\n",
                            "<p>5 rows × 24 columns</p>\n",
                            "</div>"
                        ],
                        "text/plain": [
                            "                                                name  \\\n",
                            "0                  Singleton of Dufftown 12 Year Old   \n",
                            "1            Laphroaig 10 Year Old Sherry Oak Finish   \n",
                            "2                           GlenAllachie 15 Year Old   \n",
                            "3  Seaweed & Aeons & Digging & Fire & Cask Streng...   \n",
                            "4                               Edradour 10 Year Old   \n",
                            "\n",
                            "                                                nose  \\\n",
                            "0  Malty with cereal/barley sweetness, buttery to...   \n",
                            "1  Smoked meats, maple syrup, BBQ lemon, charred ...   \n",
                            "2  Peanut brittle, dates and a big scoop of choco...   \n",
                            "3  Roasted fruit and driftwood notes jump out of ...   \n",
                            "4  Medium, great complexity. Thoroughly fruity, s...   \n",
                            "\n",
                            "                                              palate  \\\n",
                            "0  Orange zest spiciness perks up a malty core of...   \n",
                            "1  More roasted cedar and peat smoke, with a hint...   \n",
                            "2  Walnut, raisin, Christmas spices and fresh gin...   \n",
                            "3  The coastal core remains solid on the palate w...   \n",
                            "4  Cloying, seductive murkiness. Rum, barley, toa...   \n",
                            "\n",
                            "                                              finish  \\\n",
                            "0   Oaky, rich with good length, some fruit lingers.   \n",
                            "1  A balanced finish of sherried sweetness and sm...   \n",
                            "2  Coffee, Turkish delight and just a hint of fla...   \n",
                            "3  A meaty hint lingers on the finish, with cinna...   \n",
                            "4  Any confusion is arrested: spiced fruitcake wi...   \n",
                            "\n",
                            "                                         description           region  \\\n",
                            "0  A straightforward, nutty and malty single malt...  Speyside Whisky   \n",
                            "1  Smoke and sherry here from Laphroaig! The lege...     Islay Whisky   \n",
                            "2  A 2019 addition to the GlenAllachie core range...  Speyside Whisky   \n",
                            "3  Behold, batch 4 of Seaweed & Aeons & Digging &...     Islay Whisky   \n",
                            "4  Edradour is one of Scotland's smallest distill...  Highland Whisky   \n",
                            "\n",
                            "                         distillery                           bottler   age  \\\n",
                            "0                          Dufftown                          Dufftown  12.0   \n",
                            "1                         Laphroaig                         Laphroaig  10.0   \n",
                            "2                      GlenAllachie                      GlenAllachie  15.0   \n",
                            "3  Seaweed & Aeons & Digging & Fire  Seaweed & Aeons & Digging & Fire  10.0   \n",
                            "4                          Edradour                          Edradour  10.0   \n",
                            "\n",
                            "    ABV  ... maturation_marsala maturation_oak  maturation_port  \\\n",
                            "0  40.0  ...                0.0            1.0              0.0   \n",
                            "1  48.0  ...                0.0            0.0              0.0   \n",
                            "2  46.0  ...                0.0            0.0              0.0   \n",
                            "3  58.3  ...                0.0            0.0              0.0   \n",
                            "4  40.0  ...                0.0            0.0              0.0   \n",
                            "\n",
                            "   maturation_red wine  maturation_rum  maturation_rye  maturation_sauternes  \\\n",
                            "0                  0.0             0.0             0.0                   0.0   \n",
                            "1                  0.0             0.0             0.0                   0.0   \n",
                            "2                  0.0             0.0             0.0                   0.0   \n",
                            "3                  0.0             0.0             0.0                   0.0   \n",
                            "4                  0.0             0.0             0.0                   0.0   \n",
                            "\n",
                            "   maturation_sherry  maturation_white wine  maturation_wine  \n",
                            "0                0.0                    0.0              0.0  \n",
                            "1                1.0                    0.0              0.0  \n",
                            "2                1.0                    0.0              0.0  \n",
                            "3                1.0                    0.0              0.0  \n",
                            "4                1.0                    0.0              0.0  \n",
                            "\n",
                            "[5 rows x 24 columns]"
                        ]
                    },
                    "execution_count": 40,
                    "metadata": {},
                    "output_type": "execute_result"
                }
            ],
            "source": [
                "new_whisk2 = maturation_descriptor(new_whisk) \n",
                "new_whisk2.head()"
            ]
        },
        {
            "cell_type": "code",
            "execution_count": 41,
            "metadata": {},
            "outputs": [
                {
                    "data": {
                        "text/plain": [
                            "Index(['name', 'nose', 'palate', 'finish', 'description', 'region',\n",
                            "       'distillery', 'bottler', 'age', 'ABV', 'chill_filter', 'cask_strength',\n",
                            "       'maturation_bourbon', 'maturation_brandy', 'maturation_marsala',\n",
                            "       'maturation_oak', 'maturation_port', 'maturation_red wine',\n",
                            "       'maturation_rum', 'maturation_rye', 'maturation_sauternes',\n",
                            "       'maturation_sherry', 'maturation_white wine', 'maturation_wine'],\n",
                            "      dtype='object')"
                        ]
                    },
                    "execution_count": 41,
                    "metadata": {},
                    "output_type": "execute_result"
                }
            ],
            "source": [
                "new_whisk2.columns"
            ]
        },
        {
            "cell_type": "markdown",
            "metadata": {},
            "source": [
                "## Palate, Nose, and Finish\n",
                "\n",
                "These columns independently describe different aspects of the tasting process: the nose (smell), palate (taste of the whisky), finish (aftertaste and lingering mouthfeel). We want to extract sense descriptors and taste and smell metaphors/similies. Typically these sorts of descriptors are either in grouped noun form or adjectives.\n",
                "\n",
                "As an initial first go, we'll do a BOW Count Vectorizer or TF-IDF model. The hope is that later down the line we can either explore descriptor clustering or semantic/topic modeling in order to get a handle on the type of distinct sensory groups present within the range of single malt scotches.\n",
                "\n",
                "We'll use a combination of spacy and gensim for these tasks:"
            ]
        },
        {
            "cell_type": "code",
            "execution_count": 42,
            "metadata": {},
            "outputs": [],
            "source": [
                "from gensim.corpora.dictionary import Dictionary\n",
                "from gensim.matutils import corpus2dense\n",
                "from gensim.models import Phrases\n",
                "from gensim.models.tfidfmodel import TfidfModel\n",
                "from hunspell import Hunspell\n"
            ]
        },
        {
            "cell_type": "code",
            "execution_count": 43,
            "metadata": {},
            "outputs": [],
            "source": [
                "# the manual stemmer is going to take the list of tokenized documents and manually stem/lemmatize before gensim dictionary creation.\n",
                "# this is due to the fact that SpaCy's lemmatizer still keeps a lot of tokens distinct that should actually be rolled into the same token (smokiness, smoky, smoke)\n",
                "#NOTE: this stemmer relies on a large enough corpus that variants + the stemmed word exist in the corpus\n",
                "def manual_stemmer(tokenized_list):\n",
                "\n",
                "    word_checker = Hunspell() # we'll use this for checking whether the stemmed word is in the hunspell english dictionary\n",
                "\n",
                "    # we also want to establish the set of unique tokens in tokenized_list (the entire corpus)\n",
                "    unique_token_set = set(itertools.chain(*tokenized_list))\n",
                "\n",
                "    final_token_list = []\n",
                "    for doc in tokenized_list:\n",
                "        doc_str = \" \".join(doc)\n",
                "        \n",
                "         # on first pass, all tokens that end with \"-iness\" and \"-ied\" should be contracted to \"-y\"\n",
                "        regex_search_pattern1 = [r'iness\\b', r'ied\\b', r'iful\\b', r'ifull\\b', r'ifully\\b']\n",
                "        doc_str = re.sub(\"|\".join(regex_search_pattern1) , 'y', doc_str)\n",
                "\n",
                "        # all tokens ending with \"-ness\" or \"-ful\" should just have this ending chopped off.\n",
                "        regex_search_pattern2 = [r'ness\\b', r'ful\\b', r'full\\b']\n",
                "        doc_str = re.sub(\"|\".join(regex_search_pattern2) , '', doc_str)\n",
                "        \n",
                "        #specific word replacement rule\n",
                "        regex_search_pattern3 = r'tannic'\n",
                "        doc_str = re.sub(regex_search_pattern3 , 'tannin', doc_str)\n",
                "\n",
                "        \n",
                "\n",
                "        \"\"\"\n",
                "        Stemming words with -y endings can be tricky. We are going to construct a rule that depends on the existing tokens in the dataset.\n",
                "        It's important to have removed stop words, etc from the corpus and have a large enough corpus before running this stemmer.   \n",
                "        \n",
                "        First stem. In some cases, we wont have a complete word (e.g. smoky --> smok). After stemming, we will check whether the ending follows a pattern\n",
                "        like consonant-vowel-consonant after stemming. Append -e. This rule converts smok to smoke. It also converts pepper to peppere. For other cases, the \n",
                "        stemmed word doesnt match this consonant-vowel-consonant pattern. \n",
                "\n",
                "        At the end we check whether the stemmed/converted word is in the original corpus. If not, then do not stem the word at all and return the \n",
                "        original token. This will mess up rare words that occur only once in the corpus, but that wont matter down the line.\n",
                "        \n",
                "        \"\"\"\n",
                "\n",
                "        doc_list = doc_str.split()\n",
                "        regex_search_pattern4 = r\"y\\b\"\n",
                "        regex_search_pattern5 = r\"\\w+[^aeiou][aeiou][^aeiou]\\b\"\n",
                "        \n",
                "        spac_doc_list = []\n",
                "        for token in doc_list:\n",
                "\n",
                "            stemmed_tok = re.sub(regex_search_pattern4, \"\", token)\n",
                "\n",
                "            if stemmed_tok in unique_token_set:\n",
                "                spac_doc_list.append(stemmed_tok)\n",
                "                \n",
                "            elif (stemmed_tok not in unique_token_set) & (not not re.findall(regex_search_pattern5, stemmed_tok)):\n",
                "                stemmed_tok = stemmed_tok + 'e'\n",
                "        \n",
                "            else:\n",
                "                spac_doc_list.append(token)\n",
                "\n",
                "        final_token_list.append(spac_doc_list)\n",
                "        \n",
                "    return final_token_list     \n",
                "\n",
                "    "
            ]
        },
        {
            "cell_type": "code",
            "execution_count": 44,
            "metadata": {},
            "outputs": [],
            "source": [
                "# function that converts a set of documents into a tokenized document list with relevant bigrams. also creates a gensim dictionary object\n",
                "\n",
                "def create_gensim_data_bigrams(data, col_to_tokenize, save_bigram = True):\n",
                "\n",
                "    doc_contextor = doc_context_tupling(data, col_to_tokenize, 'name')\n",
                "    name_list = []\n",
                "    doc_list = []\n",
                "    doc_generator = doc_contextor\n",
                "\n",
                "    for current_doc in doc_generator:\n",
                "        # lower case lemmatized alphabetic words with common stop words, puncuation removed.\n",
                "        # Also filter out verbs, remove prepositions\n",
                "\n",
                "        token_list = [token.lemma_.lower() for token in current_doc if ( (not token.is_stop) & (not token.is_punct) & (token.pos_ != 'VERB') & (token.dep_ != 'prep') & (token.is_alpha)) ]\n",
                "        doc_list.append(token_list)\n",
                "        name_list.append(current_doc._.context['name'])\n",
                "\n",
                "    # now let's train a phrase model that can include relevant bigrams as tokens in the tokenized docs\n",
                "    phrase_mod = Phrases(doc_list)\n",
                "\n",
                "    if save_bigram == True:\n",
                "        phrase_mod_path = \"models\\\\phrase_mod.pkl\"\n",
                "        pickle.dump(phrase_mod, open(phrase_mod_path, 'wb'))\n",
                "\n",
                "    toks_with_bigrams = list(phrase_mod[doc_list]) # this creates the new set of tokenized documents with bigrams.\n",
                "\n",
                "    # manual stemming:\n",
                "    toks_with_bigrams = manual_stemmer(toks_with_bigrams)\n",
                "\n",
                "    # let's create a gensim dictionary off of this.\n",
                "\n",
                "    gens_dict_bigrams = Dictionary(toks_with_bigrams)\n",
                "\n",
                "    #it's probably useful to return the document token lists as a Python dictionary with corresponding whisky names.\n",
                "    token_bigram_dict = {'name': name_list, col_to_tokenize + '_tokenized': toks_with_bigrams}\n",
                "\n",
                "    return pd.DataFrame.from_dict(token_bigram_dict), gens_dict_bigrams\n",
                "\n"
            ]
        },
        {
            "cell_type": "code",
            "execution_count": 45,
            "metadata": {},
            "outputs": [],
            "source": [
                "# this function executes the tokenization on each sense column, saves it into the dataframe and removes the corresponding free text\n",
                "# also generates a python dictionary of gensim Dicionaries for each sense column corpus.\n",
                "\n",
                "def generate_tokenized_cols(data, *args):\n",
                "    descriptor_cols = list(args)\n",
                "\n",
                "    # for loop to generate bigram-tokenized list and list of dictionaries for each tasting note type (i.e, nose, palate, finish)\n",
                "\n",
                "    tokenized_doc_list = []\n",
                "    gensimDict_dict = {}\n",
                "\n",
                "    for descriptor in descriptor_cols:\n",
                "\n",
                "\n",
                "        tokenized_doc, gensim_dictionary = create_gensim_data_bigrams(data, descriptor)\n",
                "        tokenized_doc_list.append(tokenized_doc.set_index('name'))\n",
                "\n",
                "        gensimDict_dict.update({descriptor: gensim_dictionary})\n",
                "\n",
                "    \n",
                "    tokdocs_df = pd.concat(tokenized_doc_list, axis = 1).reset_index()\n",
                "    new_data = pd.concat([tokdocs_df.set_index('name'), data.set_index('name')], axis = 1).reset_index().drop(columns = descriptor_cols).drop(columns = ['description'])\n",
                "\n",
                "    \n",
                "    return new_data, gensimDict_dict\n"
            ]
        },
        {
            "cell_type": "code",
            "execution_count": 46,
            "metadata": {},
            "outputs": [
                {
                    "ename": "NameError",
                    "evalue": "name 'pickle' is not defined",
                    "output_type": "error",
                    "traceback": [
                        "\u001b[1;31m---------------------------------------------------------------------------\u001b[0m",
                        "\u001b[1;31mNameError\u001b[0m                                 Traceback (most recent call last)",
                        "\u001b[1;32m~\\AppData\\Local\\Temp/ipykernel_4980/2193775920.py\u001b[0m in \u001b[0;36m<module>\u001b[1;34m\u001b[0m\n\u001b[1;32m----> 1\u001b[1;33m \u001b[0mnew_whisk3\u001b[0m\u001b[1;33m,\u001b[0m \u001b[0mgensim_dictionary_list\u001b[0m \u001b[1;33m=\u001b[0m \u001b[0mgenerate_tokenized_cols\u001b[0m\u001b[1;33m(\u001b[0m\u001b[0mnew_whisk2\u001b[0m\u001b[1;33m,\u001b[0m \u001b[1;34m'palate'\u001b[0m\u001b[1;33m,\u001b[0m \u001b[1;34m'nose'\u001b[0m\u001b[1;33m,\u001b[0m \u001b[1;34m'finish'\u001b[0m\u001b[1;33m)\u001b[0m\u001b[1;33m\u001b[0m\u001b[1;33m\u001b[0m\u001b[0m\n\u001b[0m",
                        "\u001b[1;32m~\\AppData\\Local\\Temp/ipykernel_4980/1469369113.py\u001b[0m in \u001b[0;36mgenerate_tokenized_cols\u001b[1;34m(data, *args)\u001b[0m\n\u001b[0;32m     13\u001b[0m \u001b[1;33m\u001b[0m\u001b[0m\n\u001b[0;32m     14\u001b[0m \u001b[1;33m\u001b[0m\u001b[0m\n\u001b[1;32m---> 15\u001b[1;33m         \u001b[0mtokenized_doc\u001b[0m\u001b[1;33m,\u001b[0m \u001b[0mgensim_dictionary\u001b[0m \u001b[1;33m=\u001b[0m \u001b[0mcreate_gensim_data_bigrams\u001b[0m\u001b[1;33m(\u001b[0m\u001b[0mdata\u001b[0m\u001b[1;33m,\u001b[0m \u001b[0mdescriptor\u001b[0m\u001b[1;33m)\u001b[0m\u001b[1;33m\u001b[0m\u001b[1;33m\u001b[0m\u001b[0m\n\u001b[0m\u001b[0;32m     16\u001b[0m         \u001b[0mtokenized_doc_list\u001b[0m\u001b[1;33m.\u001b[0m\u001b[0mappend\u001b[0m\u001b[1;33m(\u001b[0m\u001b[0mtokenized_doc\u001b[0m\u001b[1;33m.\u001b[0m\u001b[0mset_index\u001b[0m\u001b[1;33m(\u001b[0m\u001b[1;34m'name'\u001b[0m\u001b[1;33m)\u001b[0m\u001b[1;33m)\u001b[0m\u001b[1;33m\u001b[0m\u001b[1;33m\u001b[0m\u001b[0m\n\u001b[0;32m     17\u001b[0m \u001b[1;33m\u001b[0m\u001b[0m\n",
                        "\u001b[1;32m~\\AppData\\Local\\Temp/ipykernel_4980/4134375943.py\u001b[0m in \u001b[0;36mcreate_gensim_data_bigrams\u001b[1;34m(data, col_to_tokenize, save_bigram)\u001b[0m\n\u001b[0;32m     21\u001b[0m     \u001b[1;32mif\u001b[0m \u001b[0msave_bigram\u001b[0m \u001b[1;33m==\u001b[0m \u001b[1;32mTrue\u001b[0m\u001b[1;33m:\u001b[0m\u001b[1;33m\u001b[0m\u001b[1;33m\u001b[0m\u001b[0m\n\u001b[0;32m     22\u001b[0m         \u001b[0mphrase_mod_path\u001b[0m \u001b[1;33m=\u001b[0m \u001b[1;34m\"models\\\\phrase_mod.pkl\"\u001b[0m\u001b[1;33m\u001b[0m\u001b[1;33m\u001b[0m\u001b[0m\n\u001b[1;32m---> 23\u001b[1;33m         \u001b[0mpickle\u001b[0m\u001b[1;33m.\u001b[0m\u001b[0mdump\u001b[0m\u001b[1;33m(\u001b[0m\u001b[0mphrase_mod\u001b[0m\u001b[1;33m,\u001b[0m \u001b[0mopen\u001b[0m\u001b[1;33m(\u001b[0m\u001b[0mphrase_mod_path\u001b[0m\u001b[1;33m,\u001b[0m \u001b[1;34m'wb'\u001b[0m\u001b[1;33m)\u001b[0m\u001b[1;33m)\u001b[0m\u001b[1;33m\u001b[0m\u001b[1;33m\u001b[0m\u001b[0m\n\u001b[0m\u001b[0;32m     24\u001b[0m \u001b[1;33m\u001b[0m\u001b[0m\n\u001b[0;32m     25\u001b[0m     \u001b[0mtoks_with_bigrams\u001b[0m \u001b[1;33m=\u001b[0m \u001b[0mlist\u001b[0m\u001b[1;33m(\u001b[0m\u001b[0mphrase_mod\u001b[0m\u001b[1;33m[\u001b[0m\u001b[0mdoc_list\u001b[0m\u001b[1;33m]\u001b[0m\u001b[1;33m)\u001b[0m \u001b[1;31m# this creates the new set of tokenized documents with bigrams.\u001b[0m\u001b[1;33m\u001b[0m\u001b[1;33m\u001b[0m\u001b[0m\n",
                        "\u001b[1;31mNameError\u001b[0m: name 'pickle' is not defined"
                    ]
                }
            ],
            "source": [
                "new_whisk3, gensim_dictionary_list = generate_tokenized_cols(new_whisk2, 'palate', 'nose', 'finish')"
            ]
        },
        {
            "cell_type": "markdown",
            "metadata": {},
            "source": [
                "Now we pickle the gensim dictionaries:"
            ]
        },
        {
            "cell_type": "code",
            "execution_count": 55,
            "metadata": {},
            "outputs": [],
            "source": [
                "import pickle\n",
                "for key, value in gensim_dictionary_list.items():\n",
                "    pickle_path = \"dictionaries\\\\gemsimdict_\" + key + \".pkl\"\n",
                "    pickle.dump(value, open(pickle_path, 'wb'))\n",
                "    "
            ]
        },
        {
            "cell_type": "code",
            "execution_count": 56,
            "metadata": {},
            "outputs": [
                {
                    "data": {
                        "text/html": [
                            "<div>\n",
                            "<style scoped>\n",
                            "    .dataframe tbody tr th:only-of-type {\n",
                            "        vertical-align: middle;\n",
                            "    }\n",
                            "\n",
                            "    .dataframe tbody tr th {\n",
                            "        vertical-align: top;\n",
                            "    }\n",
                            "\n",
                            "    .dataframe thead th {\n",
                            "        text-align: right;\n",
                            "    }\n",
                            "</style>\n",
                            "<table border=\"1\" class=\"dataframe\">\n",
                            "  <thead>\n",
                            "    <tr style=\"text-align: right;\">\n",
                            "      <th></th>\n",
                            "      <th>name</th>\n",
                            "      <th>palate_tokenized</th>\n",
                            "      <th>nose_tokenized</th>\n",
                            "      <th>finish_tokenized</th>\n",
                            "      <th>region</th>\n",
                            "      <th>distillery</th>\n",
                            "      <th>bottler</th>\n",
                            "      <th>age</th>\n",
                            "      <th>ABV</th>\n",
                            "      <th>chill_filter</th>\n",
                            "      <th>...</th>\n",
                            "      <th>maturation_marsala</th>\n",
                            "      <th>maturation_oak</th>\n",
                            "      <th>maturation_port</th>\n",
                            "      <th>maturation_red wine</th>\n",
                            "      <th>maturation_rum</th>\n",
                            "      <th>maturation_rye</th>\n",
                            "      <th>maturation_sauternes</th>\n",
                            "      <th>maturation_sherry</th>\n",
                            "      <th>maturation_white wine</th>\n",
                            "      <th>maturation_wine</th>\n",
                            "    </tr>\n",
                            "  </thead>\n",
                            "  <tbody>\n",
                            "    <tr>\n",
                            "      <th>0</th>\n",
                            "      <td>Singleton of Dufftown 12 Year Old</td>\n",
                            "      <td>[orange_zest, malty_core, nut, oak, toffee, cu...</td>\n",
                            "      <td>[malt, cereal, barley, sweet, butter, toast, w...</td>\n",
                            "      <td>[oak, rich, good_length, fruit]</td>\n",
                            "      <td>Speyside Whisky</td>\n",
                            "      <td>Dufftown</td>\n",
                            "      <td>Dufftown</td>\n",
                            "      <td>12.0</td>\n",
                            "      <td>40.0</td>\n",
                            "      <td>NaN</td>\n",
                            "      <td>...</td>\n",
                            "      <td>0.0</td>\n",
                            "      <td>1.0</td>\n",
                            "      <td>0.0</td>\n",
                            "      <td>0.0</td>\n",
                            "      <td>0.0</td>\n",
                            "      <td>0.0</td>\n",
                            "      <td>0.0</td>\n",
                            "      <td>0.0</td>\n",
                            "      <td>0.0</td>\n",
                            "      <td>0.0</td>\n",
                            "    </tr>\n",
                            "    <tr>\n",
                            "      <th>1</th>\n",
                            "      <td>Laphroaig 10 Year Old Sherry Oak Finish</td>\n",
                            "      <td>[roasted, cedar, peat_smoke, iodine, away, dar...</td>\n",
                            "      <td>[meat, maple_syrup, bbq, lemon, charred_oak, s...</td>\n",
                            "      <td>[balanced, finish, sherry, sweet, smouldering,...</td>\n",
                            "      <td>Islay Whisky</td>\n",
                            "      <td>Laphroaig</td>\n",
                            "      <td>Laphroaig</td>\n",
                            "      <td>10.0</td>\n",
                            "      <td>48.0</td>\n",
                            "      <td>NaN</td>\n",
                            "      <td>...</td>\n",
                            "      <td>0.0</td>\n",
                            "      <td>0.0</td>\n",
                            "      <td>0.0</td>\n",
                            "      <td>0.0</td>\n",
                            "      <td>0.0</td>\n",
                            "      <td>0.0</td>\n",
                            "      <td>0.0</td>\n",
                            "      <td>1.0</td>\n",
                            "      <td>0.0</td>\n",
                            "      <td>0.0</td>\n",
                            "    </tr>\n",
                            "    <tr>\n",
                            "      <th>2</th>\n",
                            "      <td>GlenAllachie 15 Year Old</td>\n",
                            "      <td>[walnut, raisin, christmas, spice, fresh, ginger]</td>\n",
                            "      <td>[peanut_brittle, date, big, scoop, chocolate, ...</td>\n",
                            "      <td>[coffee, turkish_delight, sea_salt]</td>\n",
                            "      <td>Speyside Whisky</td>\n",
                            "      <td>GlenAllachie</td>\n",
                            "      <td>GlenAllachie</td>\n",
                            "      <td>15.0</td>\n",
                            "      <td>46.0</td>\n",
                            "      <td>NaN</td>\n",
                            "      <td>...</td>\n",
                            "      <td>0.0</td>\n",
                            "      <td>0.0</td>\n",
                            "      <td>0.0</td>\n",
                            "      <td>0.0</td>\n",
                            "      <td>0.0</td>\n",
                            "      <td>0.0</td>\n",
                            "      <td>0.0</td>\n",
                            "      <td>1.0</td>\n",
                            "      <td>0.0</td>\n",
                            "      <td>0.0</td>\n",
                            "    </tr>\n",
                            "  </tbody>\n",
                            "</table>\n",
                            "<p>3 rows × 23 columns</p>\n",
                            "</div>"
                        ],
                        "text/plain": [
                            "                                      name  \\\n",
                            "0        Singleton of Dufftown 12 Year Old   \n",
                            "1  Laphroaig 10 Year Old Sherry Oak Finish   \n",
                            "2                 GlenAllachie 15 Year Old   \n",
                            "\n",
                            "                                    palate_tokenized  \\\n",
                            "0  [orange_zest, malty_core, nut, oak, toffee, cu...   \n",
                            "1  [roasted, cedar, peat_smoke, iodine, away, dar...   \n",
                            "2  [walnut, raisin, christmas, spice, fresh, ginger]   \n",
                            "\n",
                            "                                      nose_tokenized  \\\n",
                            "0  [malt, cereal, barley, sweet, butter, toast, w...   \n",
                            "1  [meat, maple_syrup, bbq, lemon, charred_oak, s...   \n",
                            "2  [peanut_brittle, date, big, scoop, chocolate, ...   \n",
                            "\n",
                            "                                    finish_tokenized           region  \\\n",
                            "0                    [oak, rich, good_length, fruit]  Speyside Whisky   \n",
                            "1  [balanced, finish, sherry, sweet, smouldering,...     Islay Whisky   \n",
                            "2                [coffee, turkish_delight, sea_salt]  Speyside Whisky   \n",
                            "\n",
                            "     distillery       bottler   age   ABV chill_filter  ...  \\\n",
                            "0      Dufftown      Dufftown  12.0  40.0          NaN  ...   \n",
                            "1     Laphroaig     Laphroaig  10.0  48.0          NaN  ...   \n",
                            "2  GlenAllachie  GlenAllachie  15.0  46.0          NaN  ...   \n",
                            "\n",
                            "  maturation_marsala  maturation_oak  maturation_port  maturation_red wine  \\\n",
                            "0                0.0             1.0              0.0                  0.0   \n",
                            "1                0.0             0.0              0.0                  0.0   \n",
                            "2                0.0             0.0              0.0                  0.0   \n",
                            "\n",
                            "   maturation_rum  maturation_rye  maturation_sauternes  maturation_sherry  \\\n",
                            "0             0.0             0.0                   0.0                0.0   \n",
                            "1             0.0             0.0                   0.0                1.0   \n",
                            "2             0.0             0.0                   0.0                1.0   \n",
                            "\n",
                            "   maturation_white wine  maturation_wine  \n",
                            "0                    0.0              0.0  \n",
                            "1                    0.0              0.0  \n",
                            "2                    0.0              0.0  \n",
                            "\n",
                            "[3 rows x 23 columns]"
                        ]
                    },
                    "execution_count": 56,
                    "metadata": {},
                    "output_type": "execute_result"
                }
            ],
            "source": [
                "new_whisk3.head(3)"
            ]
        },
        {
            "cell_type": "markdown",
            "metadata": {},
            "source": [
                "We have extracted the tokens we want out of the free text columns or generated one-hot encoded representations of whisky preparation (chill filtering, cask strength, and types of barrels used in maturation) from the free text description. We've thus thrown out all the free text columns. The numerical columns (whisky age, ABV, etc) have also all been cleaned.\n",
                "\n",
                "We save this dataframe to CSV. Saving the sensory descriptor columns in this non-numerical form is important as it'll enable us to try different vector representation schemes later down the line.\n",
                "\n",
                "\n"
            ]
        },
        {
            "cell_type": "code",
            "execution_count": 57,
            "metadata": {},
            "outputs": [],
            "source": [
                "new_whisk3.to_csv(\"data\\\\interim\\\\whisk_tokenized_encoded.csv\")"
            ]
        },
        {
            "cell_type": "markdown",
            "metadata": {},
            "source": [
                "It may also be better to unify the palate, nose, and finish tokens. Often these are correlated with each other anyway and unifying the token sets may yield a BoW representation that captures correlations between the descriptors a bit better (i.e. a whisky may have salt in the palate, coastal in the nose, and seaweed and iodine in the finish -- we would want these words linked together. Splitting them apart might make our representation excessively sparse. )\n",
                "\n",
                "We'll thus also create and save a new dataframe with the tokens from palate, nose, and finish unified:"
            ]
        },
        {
            "cell_type": "code",
            "execution_count": 58,
            "metadata": {},
            "outputs": [
                {
                    "data": {
                        "text/html": [
                            "<div>\n",
                            "<style scoped>\n",
                            "    .dataframe tbody tr th:only-of-type {\n",
                            "        vertical-align: middle;\n",
                            "    }\n",
                            "\n",
                            "    .dataframe tbody tr th {\n",
                            "        vertical-align: top;\n",
                            "    }\n",
                            "\n",
                            "    .dataframe thead th {\n",
                            "        text-align: right;\n",
                            "    }\n",
                            "</style>\n",
                            "<table border=\"1\" class=\"dataframe\">\n",
                            "  <thead>\n",
                            "    <tr style=\"text-align: right;\">\n",
                            "      <th></th>\n",
                            "      <th>name</th>\n",
                            "      <th>token_unified</th>\n",
                            "    </tr>\n",
                            "  </thead>\n",
                            "  <tbody>\n",
                            "    <tr>\n",
                            "      <th>0</th>\n",
                            "      <td>Singleton of Dufftown 12 Year Old</td>\n",
                            "      <td>[orange_zest, malty_core, nut, oak, toffee, cu...</td>\n",
                            "    </tr>\n",
                            "    <tr>\n",
                            "      <th>1</th>\n",
                            "      <td>Laphroaig 10 Year Old Sherry Oak Finish</td>\n",
                            "      <td>[roasted, cedar, peat_smoke, iodine, away, dar...</td>\n",
                            "    </tr>\n",
                            "    <tr>\n",
                            "      <th>2</th>\n",
                            "      <td>GlenAllachie 15 Year Old</td>\n",
                            "      <td>[walnut, raisin, christmas, spice, fresh, ging...</td>\n",
                            "    </tr>\n",
                            "    <tr>\n",
                            "      <th>3</th>\n",
                            "      <td>Seaweed &amp; Aeons &amp; Digging &amp; Fire &amp; Cask Streng...</td>\n",
                            "      <td>[coastal, core, solid, seaweed, salt, slightly...</td>\n",
                            "    </tr>\n",
                            "    <tr>\n",
                            "      <th>4</th>\n",
                            "      <td>Edradour 10 Year Old</td>\n",
                            "      <td>[cloying, seductive, murky, rum, barley, almon...</td>\n",
                            "    </tr>\n",
                            "    <tr>\n",
                            "      <th>...</th>\n",
                            "      <td>...</td>\n",
                            "      <td>...</td>\n",
                            "    </tr>\n",
                            "    <tr>\n",
                            "      <th>8597</th>\n",
                            "      <td>Caol Ila 12 Year Old</td>\n",
                            "      <td>[oil, tar, elegant, smoke, sweet, fresh, herba...</td>\n",
                            "    </tr>\n",
                            "    <tr>\n",
                            "      <th>8598</th>\n",
                            "      <td>Bowmore 15 Year Old</td>\n",
                            "      <td>[rich, wood, pine_oil, syrup, cream, toffee, m...</td>\n",
                            "    </tr>\n",
                            "    <tr>\n",
                            "      <th>8599</th>\n",
                            "      <td>anCnoc 24 Year Old</td>\n",
                            "      <td>[rich, citrus, forward, oodle, lemon, peel, ma...</td>\n",
                            "    </tr>\n",
                            "    <tr>\n",
                            "      <th>8600</th>\n",
                            "      <td>Tobermory 12 Year Old</td>\n",
                            "      <td>[rounded, malt, oil, hearty_helping, stone_fru...</td>\n",
                            "    </tr>\n",
                            "    <tr>\n",
                            "      <th>8601</th>\n",
                            "      <td>Laphroaig 10 Year Old</td>\n",
                            "      <td>[seaweed, vanilla, ice_cream, whiff, aid, box,...</td>\n",
                            "    </tr>\n",
                            "  </tbody>\n",
                            "</table>\n",
                            "<p>8602 rows × 2 columns</p>\n",
                            "</div>"
                        ],
                        "text/plain": [
                            "                                                   name  \\\n",
                            "0                     Singleton of Dufftown 12 Year Old   \n",
                            "1               Laphroaig 10 Year Old Sherry Oak Finish   \n",
                            "2                              GlenAllachie 15 Year Old   \n",
                            "3     Seaweed & Aeons & Digging & Fire & Cask Streng...   \n",
                            "4                                  Edradour 10 Year Old   \n",
                            "...                                                 ...   \n",
                            "8597                               Caol Ila 12 Year Old   \n",
                            "8598                                Bowmore 15 Year Old   \n",
                            "8599                                 anCnoc 24 Year Old   \n",
                            "8600                              Tobermory 12 Year Old   \n",
                            "8601                              Laphroaig 10 Year Old   \n",
                            "\n",
                            "                                          token_unified  \n",
                            "0     [orange_zest, malty_core, nut, oak, toffee, cu...  \n",
                            "1     [roasted, cedar, peat_smoke, iodine, away, dar...  \n",
                            "2     [walnut, raisin, christmas, spice, fresh, ging...  \n",
                            "3     [coastal, core, solid, seaweed, salt, slightly...  \n",
                            "4     [cloying, seductive, murky, rum, barley, almon...  \n",
                            "...                                                 ...  \n",
                            "8597  [oil, tar, elegant, smoke, sweet, fresh, herba...  \n",
                            "8598  [rich, wood, pine_oil, syrup, cream, toffee, m...  \n",
                            "8599  [rich, citrus, forward, oodle, lemon, peel, ma...  \n",
                            "8600  [rounded, malt, oil, hearty_helping, stone_fru...  \n",
                            "8601  [seaweed, vanilla, ice_cream, whiff, aid, box,...  \n",
                            "\n",
                            "[8602 rows x 2 columns]"
                        ]
                    },
                    "execution_count": 58,
                    "metadata": {},
                    "output_type": "execute_result"
                }
            ],
            "source": [
                "col_list = ['palate_tokenized', 'nose_tokenized', 'finish_tokenized'  ]\n",
                "sense_df = new_whisk3[col_list]\n",
                "\n",
                "whisk_unified = deepcopy(new_whisk3)\n",
                "whisk_unified['token_unified'] = sense_df.apply(lambda x: list(itertools.chain(*x)), axis = 1)\n",
                "whisk_unified.drop(columns = col_list, inplace=True)\n",
                "\n",
                "\n",
                "whisk_unified[['name', 'token_unified']]"
            ]
        },
        {
            "cell_type": "code",
            "execution_count": 59,
            "metadata": {},
            "outputs": [
                {
                    "data": {
                        "text/plain": [
                            "['soft',\n",
                            " 'supple',\n",
                            " 'sherry',\n",
                            " 'nutty',\n",
                            " 'sweet',\n",
                            " 'malt',\n",
                            " 'juicy',\n",
                            " 'sultana',\n",
                            " 'slightly',\n",
                            " 'coastal',\n",
                            " 'fresh',\n",
                            " 'sweet',\n",
                            " 'seaweed',\n",
                            " 'malt',\n",
                            " 'sherry',\n",
                            " 'mochaccino',\n",
                            " 'herbal',\n",
                            " 'balanced',\n",
                            " 'salt',\n",
                            " 'tang']"
                        ]
                    },
                    "execution_count": 59,
                    "metadata": {},
                    "output_type": "execute_result"
                }
            ],
            "source": [
                "whisk_unified['token_unified'][5]"
            ]
        },
        {
            "cell_type": "markdown",
            "metadata": {},
            "source": [
                "OK this worked. Let's save the whisk_unified dataframe to file:"
            ]
        },
        {
            "cell_type": "code",
            "execution_count": 60,
            "metadata": {},
            "outputs": [],
            "source": [
                "whisk_unified.to_csv(\"data\\\\interim\\\\whisk_unified_tokenized.csv\")"
            ]
        },
        {
            "cell_type": "markdown",
            "metadata": {},
            "source": [
                "It'd also be wise to create a gensim dictionary for the unified token set:"
            ]
        },
        {
            "cell_type": "code",
            "execution_count": 61,
            "metadata": {},
            "outputs": [],
            "source": [
                "gensim_dict_unified = Dictionary(list(whisk_unified['token_unified']))\n",
                "pickle_path_unified = \"dictionaries\\\\gemsimdict_unified.pkl\"\n",
                "pickle.dump(gensim_dict_unified, open(pickle_path_unified, 'wb'))"
            ]
        },
        {
            "cell_type": "markdown",
            "metadata": {},
            "source": [
                "### Corpus creation\n",
                "\n",
                "gensim_dictionary_list contains the corpuses from the palate, nose, and finish notes. A quick look at the dictionaries shows that we have a lot of unique tokens in each corpus."
            ]
        },
        {
            "cell_type": "code",
            "execution_count": 62,
            "metadata": {},
            "outputs": [
                {
                    "name": "stdout",
                    "output_type": "stream",
                    "text": [
                        "Dictionary(2743 unique tokens: ['cut_grass', 'malty_core', 'nut', 'oak', 'orange_zest']...)\n",
                        "Dictionary(2913 unique tokens: ['barley', 'butter', 'cereal', 'hay', 'malt']...)\n",
                        "Dictionary(1956 unique tokens: ['fruit', 'good_length', 'oak', 'rich', 'balanced']...)\n"
                    ]
                }
            ],
            "source": [
                "for key,values in gensim_dictionary_list.items():\n",
                "\n",
                "    print(values)"
            ]
        },
        {
            "cell_type": "markdown",
            "metadata": {},
            "source": [
                "We look at the same for the unified corpus:"
            ]
        },
        {
            "cell_type": "code",
            "execution_count": 63,
            "metadata": {},
            "outputs": [
                {
                    "name": "stdout",
                    "output_type": "stream",
                    "text": [
                        "Dictionary(4129 unique tokens: ['barley', 'butter', 'cereal', 'cut_grass', 'fruit']...)\n"
                    ]
                }
            ],
            "source": [
                "print(gensim_dict_unified)"
            ]
        },
        {
            "cell_type": "markdown",
            "metadata": {},
            "source": [
                "We have a lot of unique tokens, but in order to reduce the dimensionality of the feature set we may want to discard tokens in a dictionary that appear exceedingly rarely or are in way too many documents. We put the bottom frequency cutoff at 1% (word only appears in 0.50% of documents) and an upper cutoff of 50%."
            ]
        },
        {
            "cell_type": "code",
            "execution_count": 64,
            "metadata": {},
            "outputs": [
                {
                    "name": "stdout",
                    "output_type": "stream",
                    "text": [
                        "Dictionary(146 unique tokens: ['nut', 'oak', 'toffee', 'cedar', 'dark_chocolate']...)\n",
                        "Dictionary(145 unique tokens: ['barley', 'butter', 'cereal', 'hay', 'malt']...)\n",
                        "Dictionary(80 unique tokens: ['fruit', 'good_length', 'oak', 'rich', 'finish']...)\n"
                    ]
                }
            ],
            "source": [
                "reduced_gensim_dict = deepcopy(gensim_dictionary_list)\n",
                "\n",
                "for key,values in reduced_gensim_dict.items():\n",
                "\n",
                "    n = len(new_whisk3) # size of each corpus\n",
                "    values.filter_extremes(no_below=0.01*n, no_above=0.5)\n",
                "    print(values)"
            ]
        },
        {
            "cell_type": "code",
            "execution_count": 80,
            "metadata": {},
            "outputs": [
                {
                    "name": "stdout",
                    "output_type": "stream",
                    "text": [
                        "Dictionary(477 unique tokens: ['barley', 'butter', 'cereal', 'cut_grass', 'fruit']...)\n"
                    ]
                }
            ],
            "source": [
                "gensim_dict_unified.filter_extremes(no_below=0.006*n, no_above=0.5)\n",
                "print(gensim_dict_unified)\n",
                "reduced_unified_dict_path = \"dictionaries\\\\reduced_gemsimdict_unified.pkl\"\n",
                "pickle.dump(gensim_dict_unified, open(reduced_unified_dict_path, 'wb'))"
            ]
        },
        {
            "cell_type": "markdown",
            "metadata": {},
            "source": [
                "There's a substantial reduction in the number of tokens. Let's see what these tokens are for the unified token set."
            ]
        },
        {
            "cell_type": "code",
            "execution_count": 66,
            "metadata": {},
            "outputs": [
                {
                    "name": "stdout",
                    "output_type": "stream",
                    "text": [
                        "['barley', 'butter', 'cereal', 'cut_grass', 'fruit', 'good_length', 'hay', 'malt', 'nut', 'oak', 'orange_zest', 'rich', 'sweet', 'toast', 'toffee', 'walnut', 'away', 'balanced', 'bbq', 'cedar', 'charred_oak', 'coffee', 'dark_chocolate', 'finish', 'honey', 'iodine', 'lemon', 'maple_syrup', 'meat', 'peat', 'peat_smoke', 'roasted', 'sherry', 'smidge', 'vanilla_pod', 'big', 'chocolate', 'christmas', 'date', 'fresh', 'ginger', 'ice_cream', 'peanut_brittle', 'raisin', 'sea_salt', 'spice', 'turkish_delight', 'apricot_jam', 'cinnamon', 'coastal', 'core', 'gingerbread', 'glass', 'mocha', 'oatcake', 'peanut', 'salt', 'seaweed', 'slightly', 'sultana', 'support', 'wave', 'almond', 'fruitcake', 'great', 'medium', 'rum', 'vanilla', 'herbal', 'juicy', 'nutty', 'soft', 'supple', 'tang', 'aroma', 'backdrop', 'bitter', 'bread', 'freshly', 'golden_syrup', 'lead', 'lime', 'mixed_peel', 'oil', 'orange', 'present', 'pudding', 'rubber', 'suggestion', 'syrup', 'toasted', 'bean', 'cassia', 'cherry', 'cigar_box', 'jammy', 'marmalade', 'mature_oak', 'roasted_coffee', 'savoury', 'sea_breeze', 'smoke', 'banana', 'fudge', 'jam', 'lot', 'mint', 'plum', 'raspberry', 'apple', 'apricot', 'baked', 'candy', 'dry', 'flake', 'grapefruit', 'load', 'wood', 'y', 'zest', 'classic', 'clean', 'cocoa', 'complex', 'cream', 'long', 'menthol', 'background', 'character', 'mango', 'tropical_fruit', 'cranberry', 'elegant', 'faint', 'gentle', 'juice', 'mix', 'peach', 'subtle', 'white', 'white_grape', 'intense', 'layer', 'light', 'way', 'blackcurrant', 'blueberry', 'brown_sugar', 'christmas_cake', 'hazelnut', 'helping', 'old', 'pancake', 'pineapple', 'runny_honey', 'thick', 'tow', 'orange_peel', 'peppermint', 'power', 'rancio', 'biscuit', 'brioche', 'cake', 'malt_loaf', 'milk', 'mouthfeel', 'oloroso', 'pepper', 'prickle', 'waft', 'blossom', 'chew', 'dr', 'fennel', 'herb', 'manuka_honey', 'petal', 'rounded', 'sugar', 'tannin', 'black_pepper', 'medicinal', 'sea_air', 'vegetal', 'bonfire', 'crisp', 'medicinal_peat', 'prune', 'red_berry', 'red_grape', 'ripe', 'influence', 'smooth', 'clove', 'earth', 'forest_floor', 'leather', 'orange_oil', 'pastry', 'red', 'spiced', 'warm', 'yellow_plum', 'citrus', 'ember', 'floral', 'honeyed', 'acacia_honey', 'butterscotch', 'caramel', 'dark', 'nectarine', 'plenty', 'tropical', 'good', 'blackberry', 'coffee_bean', 'crumble', 'mint_leaf', 'new_leather', 'oily_walnut', 'sponge_cake', 'waxy_orange', 'fig', 'like', 'mouth', 'tea', 'aromatic', 'cardamom', 'milk_chocolate', 'refreshing', 'texture', 'charred', 'dense', 'heavy', 'later', 'slice', 'warmth', 'char', 'kick', 'nutmeg', 'sandalwood', 'thyme_honey', 'underneath', 'espresso', 'honeydew_melon', 'peel', 'custard', 'fruit_salad', 'pear', 'anise', 'perfumed', 'potpourri', 'stem_ginger', 'winter_spice', 'balance', 'depth', 'digestive', 'marzipan', 'medium_length', 'orchard_fruit', 'pipe_tobacco', 'porridge', 'red_wine', 'beauty', 'bonfire_ember', 'brine', 'delicate', 'fragrant', 'maritime', 'beeswax', 'freshly_grass', 'late', 'cider', 'plaster', 'good_helping', 'ground', 'tar', 'molasse', 'tail', 'subtly', 'time', 'burst', 'sprinkle', 'berry', 'compote', 'jelly', 'strong', 'toasted_teacake', 'wax', 'peppercorn', 'bourbon', 'grape', 'grist', 'sea_spray', 'allspice', 'baking_spice', 'element', 'honeycomb', 'sawdust', 'white_pepper', 'grass', 'sweetie', 'popcorn', 'mineral', 'softly', 'length', 'mixed', 'salted_caramel', 'sticky_toffee', 'edge', 'forward', 'bit', 'damp', 'initially', 'liquorice', 'musty', 'pear_drop', 'tart', 'whiff', 'pinch', 'return', 'praline', 'black_tea', 'body', 'treacle', 'granary_toast', 'sauce', 'black', 'flower', 'stick', 'plus', 'cacao', 'robust', 'green_apple', 'hand', 'chilli', 'coastal_air', 'whisky', 'cookie', 'red_chilli', 'sharp', 'sultanas', 'lemongrass', 'heather_honey', 'leaf', 'kiwi', 'punch', 'forest', 'green', 'liqueur', 'soon', 'cooked', 'brandy_butter', 'hot', 'lavender', 'maybe', 'nougat', 'gooseberry', 'bittersweet', 'tone', 'flaky_pastry', 'rye', 'pecan', 'air', 'bright', 'coconut', 'mid', 'shortbread', 'slowly', 'richly', 'tobacco', 'fairly', 'stone_fruit', 'strawberry', 'water', 'heather', 'buttered_toast', 'short', 'golden', 'heat', 'rhubarb', 'honeyed_cereal', 'quince', 'flint', 'melon', 'wine', 'dusting', 'silk', 'charcoal', 'cookie_dough', 'rye_bread', 'brown_bread', 'slight', 'pine', 'warming', 'rum_raisin', 'aniseed', 'flavour', 'pie', 'wood_smoke', 'milky_coffee', 'summer', 'bun', 'buttered', 'hot_cross', 'caramelised', 'pine_resin', 'salted_butter', 'seville_orange', 'drizzle', 'cooking_spice', 'point', 'root', 'damson', 'interesting', 'particularly', 'guava', 'gently', 'herbaceous', 'vibrant', 'caraway', 'redcurrant', 'fore', 'ash', 'stewed', 'undertone', 'entry', 'earthy_peat', 'lemon_curd', 'lemon_zest', 'summer_berry', 'demerara_sugar', 'oodle', 'meaty_malt', 'deep', 'polished_oak', 'orange_blossom', 'cask', 'dram', 'bar', 'delicious', 'digestive_biscuit', 'minute', 'violet', 'crunchy_brown', 'chocolate_chip', 'star_anise', 'oats', 'savour', 'greengage', 'enjoyably', 'basil', 'barrel_char', 'thyme', 'old_leather', 'soot', 'salted', 'furniture', 'ham', 'skin', 'latte', 'dust', 'huge', 'cumin', 'oat', 'exotic_spice', 'strawberry_jam', 'cracker', 'fizz', 'tangerine', 'porridge_oats', 'right', 'salty_butter', 'coriander', 'lightly']\n"
                    ]
                }
            ],
            "source": [
                "token_names = list(gensim_dict_unified.values())\n",
                "print(token_names)"
            ]
        },
        {
            "cell_type": "markdown",
            "metadata": {},
            "source": [
                "These are primarily sense descriptors and while there are some variant of words present in the corpus, our lemmatization/stemming /bigram-fitting seems to have done a decent job. There are of course some words that are not sense related: 'bit', 'age', 'element', 'mid', 'hand'. The hope is that our modeling/dimensional reduction will allow us to group these words into their own set of categories distinct from the sense descriptors.\n",
                "\n",
                "Now let's convert these to tokenized documents to a Bag of Words feature set."
            ]
        },
        {
            "cell_type": "code",
            "execution_count": 67,
            "metadata": {},
            "outputs": [],
            "source": [
                "def gen_sensory_BoW_df(data, gensim_dicts):\n",
                "\n",
                "    bow_df_list = []\n",
                "    \n",
                "    for key,value in gensim_dicts.items():\n",
                "        sense_col = key + \"_tokenized\"\n",
                "\n",
                "        corpus = [value.doc2bow(doc) for doc in data[sense_col] ]\n",
                "\n",
                "        token_names = [key + \": \" + word for word in list(value.values()) ]\n",
                "        bow_df = pd.DataFrame(corpus2dense(corpus, num_terms = len(value.token2id)).T, columns = token_names)\n",
                "        bow_df_list.append(bow_df)\n",
                "    \n",
                "    sensory_bow_df = pd.concat(bow_df_list, axis = 1)\n",
                "    sensory_bow_df['name'] = data.name\n",
                "\n",
                "    return sensory_bow_df\n",
                "    "
            ]
        },
        {
            "cell_type": "code",
            "execution_count": 68,
            "metadata": {},
            "outputs": [
                {
                    "data": {
                        "text/html": [
                            "<div>\n",
                            "<style scoped>\n",
                            "    .dataframe tbody tr th:only-of-type {\n",
                            "        vertical-align: middle;\n",
                            "    }\n",
                            "\n",
                            "    .dataframe tbody tr th {\n",
                            "        vertical-align: top;\n",
                            "    }\n",
                            "\n",
                            "    .dataframe thead th {\n",
                            "        text-align: right;\n",
                            "    }\n",
                            "</style>\n",
                            "<table border=\"1\" class=\"dataframe\">\n",
                            "  <thead>\n",
                            "    <tr style=\"text-align: right;\">\n",
                            "      <th></th>\n",
                            "      <th>palate: nut</th>\n",
                            "      <th>palate: oak</th>\n",
                            "      <th>palate: toffee</th>\n",
                            "      <th>palate: cedar</th>\n",
                            "      <th>palate: dark_chocolate</th>\n",
                            "      <th>palate: honey</th>\n",
                            "      <th>palate: peat_smoke</th>\n",
                            "      <th>palate: vanilla_pod</th>\n",
                            "      <th>palate: fresh</th>\n",
                            "      <th>palate: ginger</th>\n",
                            "      <th>...</th>\n",
                            "      <th>finish: subtly</th>\n",
                            "      <th>finish: peach</th>\n",
                            "      <th>finish: white</th>\n",
                            "      <th>finish: cedar</th>\n",
                            "      <th>finish: nut</th>\n",
                            "      <th>finish: floral</th>\n",
                            "      <th>finish: brown_sugar</th>\n",
                            "      <th>finish: butterscotch</th>\n",
                            "      <th>finish: juicy</th>\n",
                            "      <th>name</th>\n",
                            "    </tr>\n",
                            "  </thead>\n",
                            "  <tbody>\n",
                            "    <tr>\n",
                            "      <th>0</th>\n",
                            "      <td>1.0</td>\n",
                            "      <td>1.0</td>\n",
                            "      <td>1.0</td>\n",
                            "      <td>0.0</td>\n",
                            "      <td>0.0</td>\n",
                            "      <td>0.0</td>\n",
                            "      <td>0.0</td>\n",
                            "      <td>0.0</td>\n",
                            "      <td>0.0</td>\n",
                            "      <td>0.0</td>\n",
                            "      <td>...</td>\n",
                            "      <td>0.0</td>\n",
                            "      <td>0.0</td>\n",
                            "      <td>0.0</td>\n",
                            "      <td>0.0</td>\n",
                            "      <td>0.0</td>\n",
                            "      <td>0.0</td>\n",
                            "      <td>0.0</td>\n",
                            "      <td>0.0</td>\n",
                            "      <td>0.0</td>\n",
                            "      <td>Singleton of Dufftown 12 Year Old</td>\n",
                            "    </tr>\n",
                            "    <tr>\n",
                            "      <th>1</th>\n",
                            "      <td>0.0</td>\n",
                            "      <td>0.0</td>\n",
                            "      <td>0.0</td>\n",
                            "      <td>1.0</td>\n",
                            "      <td>1.0</td>\n",
                            "      <td>1.0</td>\n",
                            "      <td>1.0</td>\n",
                            "      <td>1.0</td>\n",
                            "      <td>0.0</td>\n",
                            "      <td>0.0</td>\n",
                            "      <td>...</td>\n",
                            "      <td>0.0</td>\n",
                            "      <td>0.0</td>\n",
                            "      <td>0.0</td>\n",
                            "      <td>0.0</td>\n",
                            "      <td>0.0</td>\n",
                            "      <td>0.0</td>\n",
                            "      <td>0.0</td>\n",
                            "      <td>0.0</td>\n",
                            "      <td>0.0</td>\n",
                            "      <td>Laphroaig 10 Year Old Sherry Oak Finish</td>\n",
                            "    </tr>\n",
                            "    <tr>\n",
                            "      <th>2</th>\n",
                            "      <td>0.0</td>\n",
                            "      <td>0.0</td>\n",
                            "      <td>0.0</td>\n",
                            "      <td>0.0</td>\n",
                            "      <td>0.0</td>\n",
                            "      <td>0.0</td>\n",
                            "      <td>0.0</td>\n",
                            "      <td>0.0</td>\n",
                            "      <td>1.0</td>\n",
                            "      <td>1.0</td>\n",
                            "      <td>...</td>\n",
                            "      <td>0.0</td>\n",
                            "      <td>0.0</td>\n",
                            "      <td>0.0</td>\n",
                            "      <td>0.0</td>\n",
                            "      <td>0.0</td>\n",
                            "      <td>0.0</td>\n",
                            "      <td>0.0</td>\n",
                            "      <td>0.0</td>\n",
                            "      <td>0.0</td>\n",
                            "      <td>GlenAllachie 15 Year Old</td>\n",
                            "    </tr>\n",
                            "    <tr>\n",
                            "      <th>3</th>\n",
                            "      <td>0.0</td>\n",
                            "      <td>0.0</td>\n",
                            "      <td>0.0</td>\n",
                            "      <td>0.0</td>\n",
                            "      <td>0.0</td>\n",
                            "      <td>0.0</td>\n",
                            "      <td>0.0</td>\n",
                            "      <td>0.0</td>\n",
                            "      <td>0.0</td>\n",
                            "      <td>0.0</td>\n",
                            "      <td>...</td>\n",
                            "      <td>0.0</td>\n",
                            "      <td>0.0</td>\n",
                            "      <td>0.0</td>\n",
                            "      <td>0.0</td>\n",
                            "      <td>0.0</td>\n",
                            "      <td>0.0</td>\n",
                            "      <td>0.0</td>\n",
                            "      <td>0.0</td>\n",
                            "      <td>0.0</td>\n",
                            "      <td>Seaweed &amp; Aeons &amp; Digging &amp; Fire &amp; Cask Streng...</td>\n",
                            "    </tr>\n",
                            "    <tr>\n",
                            "      <th>4</th>\n",
                            "      <td>0.0</td>\n",
                            "      <td>0.0</td>\n",
                            "      <td>0.0</td>\n",
                            "      <td>0.0</td>\n",
                            "      <td>0.0</td>\n",
                            "      <td>0.0</td>\n",
                            "      <td>0.0</td>\n",
                            "      <td>0.0</td>\n",
                            "      <td>0.0</td>\n",
                            "      <td>0.0</td>\n",
                            "      <td>...</td>\n",
                            "      <td>0.0</td>\n",
                            "      <td>0.0</td>\n",
                            "      <td>0.0</td>\n",
                            "      <td>0.0</td>\n",
                            "      <td>0.0</td>\n",
                            "      <td>0.0</td>\n",
                            "      <td>0.0</td>\n",
                            "      <td>0.0</td>\n",
                            "      <td>0.0</td>\n",
                            "      <td>Edradour 10 Year Old</td>\n",
                            "    </tr>\n",
                            "  </tbody>\n",
                            "</table>\n",
                            "<p>5 rows × 372 columns</p>\n",
                            "</div>"
                        ],
                        "text/plain": [
                            "   palate: nut  palate: oak  palate: toffee  palate: cedar  \\\n",
                            "0          1.0          1.0             1.0            0.0   \n",
                            "1          0.0          0.0             0.0            1.0   \n",
                            "2          0.0          0.0             0.0            0.0   \n",
                            "3          0.0          0.0             0.0            0.0   \n",
                            "4          0.0          0.0             0.0            0.0   \n",
                            "\n",
                            "   palate: dark_chocolate  palate: honey  palate: peat_smoke  \\\n",
                            "0                     0.0            0.0                 0.0   \n",
                            "1                     1.0            1.0                 1.0   \n",
                            "2                     0.0            0.0                 0.0   \n",
                            "3                     0.0            0.0                 0.0   \n",
                            "4                     0.0            0.0                 0.0   \n",
                            "\n",
                            "   palate: vanilla_pod  palate: fresh  palate: ginger  ...  finish: subtly  \\\n",
                            "0                  0.0            0.0             0.0  ...             0.0   \n",
                            "1                  1.0            0.0             0.0  ...             0.0   \n",
                            "2                  0.0            1.0             1.0  ...             0.0   \n",
                            "3                  0.0            0.0             0.0  ...             0.0   \n",
                            "4                  0.0            0.0             0.0  ...             0.0   \n",
                            "\n",
                            "   finish: peach  finish: white  finish: cedar  finish: nut  finish: floral  \\\n",
                            "0            0.0            0.0            0.0          0.0             0.0   \n",
                            "1            0.0            0.0            0.0          0.0             0.0   \n",
                            "2            0.0            0.0            0.0          0.0             0.0   \n",
                            "3            0.0            0.0            0.0          0.0             0.0   \n",
                            "4            0.0            0.0            0.0          0.0             0.0   \n",
                            "\n",
                            "   finish: brown_sugar  finish: butterscotch  finish: juicy  \\\n",
                            "0                  0.0                   0.0            0.0   \n",
                            "1                  0.0                   0.0            0.0   \n",
                            "2                  0.0                   0.0            0.0   \n",
                            "3                  0.0                   0.0            0.0   \n",
                            "4                  0.0                   0.0            0.0   \n",
                            "\n",
                            "                                                name  \n",
                            "0                  Singleton of Dufftown 12 Year Old  \n",
                            "1            Laphroaig 10 Year Old Sherry Oak Finish  \n",
                            "2                           GlenAllachie 15 Year Old  \n",
                            "3  Seaweed & Aeons & Digging & Fire & Cask Streng...  \n",
                            "4                               Edradour 10 Year Old  \n",
                            "\n",
                            "[5 rows x 372 columns]"
                        ]
                    },
                    "execution_count": 68,
                    "metadata": {},
                    "output_type": "execute_result"
                }
            ],
            "source": [
                "term_freq_df = gen_sensory_BoW_df(new_whisk3, reduced_gensim_dict)\n",
                "term_freq_df.head()"
            ]
        },
        {
            "cell_type": "markdown",
            "metadata": {},
            "source": [
                "We created a BoW with the three types of tasting notes -- palate, nose, and finish -- with separate dictionaries/corpuses. This might be the way to go so we've saved this non-unified BoW dataframe to file:"
            ]
        },
        {
            "cell_type": "code",
            "execution_count": 69,
            "metadata": {},
            "outputs": [],
            "source": [
                "cols_to_drop = [\"palate_tokenized\", \"nose_tokenized\", \"finish_tokenized\"]\n",
                "new_whisk4 = pd.concat([new_whisk3.set_index('name'), term_freq_df.set_index('name')], axis = 1).reset_index().drop(columns = cols_to_drop)"
            ]
        },
        {
            "cell_type": "code",
            "execution_count": 70,
            "metadata": {},
            "outputs": [
                {
                    "data": {
                        "text/html": [
                            "<div>\n",
                            "<style scoped>\n",
                            "    .dataframe tbody tr th:only-of-type {\n",
                            "        vertical-align: middle;\n",
                            "    }\n",
                            "\n",
                            "    .dataframe tbody tr th {\n",
                            "        vertical-align: top;\n",
                            "    }\n",
                            "\n",
                            "    .dataframe thead th {\n",
                            "        text-align: right;\n",
                            "    }\n",
                            "</style>\n",
                            "<table border=\"1\" class=\"dataframe\">\n",
                            "  <thead>\n",
                            "    <tr style=\"text-align: right;\">\n",
                            "      <th></th>\n",
                            "      <th>name</th>\n",
                            "      <th>region</th>\n",
                            "      <th>distillery</th>\n",
                            "      <th>bottler</th>\n",
                            "      <th>age</th>\n",
                            "      <th>ABV</th>\n",
                            "      <th>chill_filter</th>\n",
                            "      <th>cask_strength</th>\n",
                            "      <th>maturation_bourbon</th>\n",
                            "      <th>maturation_brandy</th>\n",
                            "      <th>...</th>\n",
                            "      <th>finish: apricot</th>\n",
                            "      <th>finish: subtly</th>\n",
                            "      <th>finish: peach</th>\n",
                            "      <th>finish: white</th>\n",
                            "      <th>finish: cedar</th>\n",
                            "      <th>finish: nut</th>\n",
                            "      <th>finish: floral</th>\n",
                            "      <th>finish: brown_sugar</th>\n",
                            "      <th>finish: butterscotch</th>\n",
                            "      <th>finish: juicy</th>\n",
                            "    </tr>\n",
                            "  </thead>\n",
                            "  <tbody>\n",
                            "    <tr>\n",
                            "      <th>0</th>\n",
                            "      <td>Singleton of Dufftown 12 Year Old</td>\n",
                            "      <td>Speyside Whisky</td>\n",
                            "      <td>Dufftown</td>\n",
                            "      <td>Dufftown</td>\n",
                            "      <td>12.0</td>\n",
                            "      <td>40.0</td>\n",
                            "      <td>NaN</td>\n",
                            "      <td>NaN</td>\n",
                            "      <td>0.0</td>\n",
                            "      <td>0.0</td>\n",
                            "      <td>...</td>\n",
                            "      <td>0.0</td>\n",
                            "      <td>0.0</td>\n",
                            "      <td>0.0</td>\n",
                            "      <td>0.0</td>\n",
                            "      <td>0.0</td>\n",
                            "      <td>0.0</td>\n",
                            "      <td>0.0</td>\n",
                            "      <td>0.0</td>\n",
                            "      <td>0.0</td>\n",
                            "      <td>0.0</td>\n",
                            "    </tr>\n",
                            "    <tr>\n",
                            "      <th>1</th>\n",
                            "      <td>Laphroaig 10 Year Old Sherry Oak Finish</td>\n",
                            "      <td>Islay Whisky</td>\n",
                            "      <td>Laphroaig</td>\n",
                            "      <td>Laphroaig</td>\n",
                            "      <td>10.0</td>\n",
                            "      <td>48.0</td>\n",
                            "      <td>NaN</td>\n",
                            "      <td>NaN</td>\n",
                            "      <td>0.0</td>\n",
                            "      <td>0.0</td>\n",
                            "      <td>...</td>\n",
                            "      <td>0.0</td>\n",
                            "      <td>0.0</td>\n",
                            "      <td>0.0</td>\n",
                            "      <td>0.0</td>\n",
                            "      <td>0.0</td>\n",
                            "      <td>0.0</td>\n",
                            "      <td>0.0</td>\n",
                            "      <td>0.0</td>\n",
                            "      <td>0.0</td>\n",
                            "      <td>0.0</td>\n",
                            "    </tr>\n",
                            "    <tr>\n",
                            "      <th>2</th>\n",
                            "      <td>GlenAllachie 15 Year Old</td>\n",
                            "      <td>Speyside Whisky</td>\n",
                            "      <td>GlenAllachie</td>\n",
                            "      <td>GlenAllachie</td>\n",
                            "      <td>15.0</td>\n",
                            "      <td>46.0</td>\n",
                            "      <td>NaN</td>\n",
                            "      <td>NaN</td>\n",
                            "      <td>0.0</td>\n",
                            "      <td>0.0</td>\n",
                            "      <td>...</td>\n",
                            "      <td>0.0</td>\n",
                            "      <td>0.0</td>\n",
                            "      <td>0.0</td>\n",
                            "      <td>0.0</td>\n",
                            "      <td>0.0</td>\n",
                            "      <td>0.0</td>\n",
                            "      <td>0.0</td>\n",
                            "      <td>0.0</td>\n",
                            "      <td>0.0</td>\n",
                            "      <td>0.0</td>\n",
                            "    </tr>\n",
                            "    <tr>\n",
                            "      <th>3</th>\n",
                            "      <td>Seaweed &amp; Aeons &amp; Digging &amp; Fire &amp; Cask Streng...</td>\n",
                            "      <td>Islay Whisky</td>\n",
                            "      <td>Seaweed &amp; Aeons &amp; Digging &amp; Fire</td>\n",
                            "      <td>Seaweed &amp; Aeons &amp; Digging &amp; Fire</td>\n",
                            "      <td>10.0</td>\n",
                            "      <td>58.3</td>\n",
                            "      <td>NaN</td>\n",
                            "      <td>True</td>\n",
                            "      <td>0.0</td>\n",
                            "      <td>0.0</td>\n",
                            "      <td>...</td>\n",
                            "      <td>0.0</td>\n",
                            "      <td>0.0</td>\n",
                            "      <td>0.0</td>\n",
                            "      <td>0.0</td>\n",
                            "      <td>0.0</td>\n",
                            "      <td>0.0</td>\n",
                            "      <td>0.0</td>\n",
                            "      <td>0.0</td>\n",
                            "      <td>0.0</td>\n",
                            "      <td>0.0</td>\n",
                            "    </tr>\n",
                            "    <tr>\n",
                            "      <th>4</th>\n",
                            "      <td>Edradour 10 Year Old</td>\n",
                            "      <td>Highland Whisky</td>\n",
                            "      <td>Edradour</td>\n",
                            "      <td>Edradour</td>\n",
                            "      <td>10.0</td>\n",
                            "      <td>40.0</td>\n",
                            "      <td>NaN</td>\n",
                            "      <td>NaN</td>\n",
                            "      <td>1.0</td>\n",
                            "      <td>0.0</td>\n",
                            "      <td>...</td>\n",
                            "      <td>0.0</td>\n",
                            "      <td>0.0</td>\n",
                            "      <td>0.0</td>\n",
                            "      <td>0.0</td>\n",
                            "      <td>0.0</td>\n",
                            "      <td>0.0</td>\n",
                            "      <td>0.0</td>\n",
                            "      <td>0.0</td>\n",
                            "      <td>0.0</td>\n",
                            "      <td>0.0</td>\n",
                            "    </tr>\n",
                            "  </tbody>\n",
                            "</table>\n",
                            "<p>5 rows × 391 columns</p>\n",
                            "</div>"
                        ],
                        "text/plain": [
                            "                                                name           region  \\\n",
                            "0                  Singleton of Dufftown 12 Year Old  Speyside Whisky   \n",
                            "1            Laphroaig 10 Year Old Sherry Oak Finish     Islay Whisky   \n",
                            "2                           GlenAllachie 15 Year Old  Speyside Whisky   \n",
                            "3  Seaweed & Aeons & Digging & Fire & Cask Streng...     Islay Whisky   \n",
                            "4                               Edradour 10 Year Old  Highland Whisky   \n",
                            "\n",
                            "                         distillery                           bottler   age  \\\n",
                            "0                          Dufftown                          Dufftown  12.0   \n",
                            "1                         Laphroaig                         Laphroaig  10.0   \n",
                            "2                      GlenAllachie                      GlenAllachie  15.0   \n",
                            "3  Seaweed & Aeons & Digging & Fire  Seaweed & Aeons & Digging & Fire  10.0   \n",
                            "4                          Edradour                          Edradour  10.0   \n",
                            "\n",
                            "    ABV chill_filter cask_strength  maturation_bourbon  maturation_brandy  \\\n",
                            "0  40.0          NaN           NaN                 0.0                0.0   \n",
                            "1  48.0          NaN           NaN                 0.0                0.0   \n",
                            "2  46.0          NaN           NaN                 0.0                0.0   \n",
                            "3  58.3          NaN          True                 0.0                0.0   \n",
                            "4  40.0          NaN           NaN                 1.0                0.0   \n",
                            "\n",
                            "   ...  finish: apricot  finish: subtly  finish: peach  finish: white  \\\n",
                            "0  ...              0.0             0.0            0.0            0.0   \n",
                            "1  ...              0.0             0.0            0.0            0.0   \n",
                            "2  ...              0.0             0.0            0.0            0.0   \n",
                            "3  ...              0.0             0.0            0.0            0.0   \n",
                            "4  ...              0.0             0.0            0.0            0.0   \n",
                            "\n",
                            "   finish: cedar  finish: nut  finish: floral  finish: brown_sugar  \\\n",
                            "0            0.0          0.0             0.0                  0.0   \n",
                            "1            0.0          0.0             0.0                  0.0   \n",
                            "2            0.0          0.0             0.0                  0.0   \n",
                            "3            0.0          0.0             0.0                  0.0   \n",
                            "4            0.0          0.0             0.0                  0.0   \n",
                            "\n",
                            "   finish: butterscotch  finish: juicy  \n",
                            "0                   0.0            0.0  \n",
                            "1                   0.0            0.0  \n",
                            "2                   0.0            0.0  \n",
                            "3                   0.0            0.0  \n",
                            "4                   0.0            0.0  \n",
                            "\n",
                            "[5 rows x 391 columns]"
                        ]
                    },
                    "execution_count": 70,
                    "metadata": {},
                    "output_type": "execute_result"
                }
            ],
            "source": [
                "new_whisk4.head()"
            ]
        },
        {
            "cell_type": "code",
            "execution_count": 71,
            "metadata": {},
            "outputs": [],
            "source": [
                "new_whisk4.to_csv(\"data\\\\interim\\\\whisk_bow_encoded.csv\")"
            ]
        },
        {
            "cell_type": "code",
            "execution_count": 72,
            "metadata": {},
            "outputs": [
                {
                    "data": {
                        "text/plain": [
                            "Index(['name', 'region', 'distillery', 'bottler', 'age', 'ABV', 'chill_filter',\n",
                            "       'cask_strength', 'maturation_bourbon', 'maturation_brandy',\n",
                            "       ...\n",
                            "       'finish: apricot', 'finish: subtly', 'finish: peach', 'finish: white',\n",
                            "       'finish: cedar', 'finish: nut', 'finish: floral', 'finish: brown_sugar',\n",
                            "       'finish: butterscotch', 'finish: juicy'],\n",
                            "      dtype='object', length=391)"
                        ]
                    },
                    "execution_count": 72,
                    "metadata": {},
                    "output_type": "execute_result"
                }
            ],
            "source": [
                "new_whisk4.columns"
            ]
        },
        {
            "cell_type": "markdown",
            "metadata": {},
            "source": [
                "Let's also create a BoW for the unified token set where the descriptors for palate, nose, and finish were put into the same corpus."
            ]
        },
        {
            "cell_type": "code",
            "execution_count": 73,
            "metadata": {},
            "outputs": [],
            "source": [
                "\n",
                "corpus_unified = [gensim_dict_unified.doc2bow(doc) for doc in whisk_unified['token_unified']]\n",
                "token_names = list(gensim_dict_unified.values())\n",
                "bow_df_unified = pd.DataFrame(corpus2dense(corpus_unified, num_terms = len(gensim_dict_unified.token2id)).T, columns = token_names)\n",
                "\n",
                "bow_df_unified['name'] = whisk_unified.name\n",
                "\n",
                "cols_to_drop = ['token_unified']\n",
                "bow_unified_final = pd.concat([whisk_unified.set_index('name'), bow_df_unified.set_index('name')], axis = 1).reset_index().drop(columns = cols_to_drop)\n"
            ]
        },
        {
            "cell_type": "code",
            "execution_count": 74,
            "metadata": {},
            "outputs": [
                {
                    "data": {
                        "text/html": [
                            "<div>\n",
                            "<style scoped>\n",
                            "    .dataframe tbody tr th:only-of-type {\n",
                            "        vertical-align: middle;\n",
                            "    }\n",
                            "\n",
                            "    .dataframe tbody tr th {\n",
                            "        vertical-align: top;\n",
                            "    }\n",
                            "\n",
                            "    .dataframe thead th {\n",
                            "        text-align: right;\n",
                            "    }\n",
                            "</style>\n",
                            "<table border=\"1\" class=\"dataframe\">\n",
                            "  <thead>\n",
                            "    <tr style=\"text-align: right;\">\n",
                            "      <th></th>\n",
                            "      <th>name</th>\n",
                            "      <th>region</th>\n",
                            "      <th>distillery</th>\n",
                            "      <th>bottler</th>\n",
                            "      <th>age</th>\n",
                            "      <th>ABV</th>\n",
                            "      <th>chill_filter</th>\n",
                            "      <th>cask_strength</th>\n",
                            "      <th>maturation_bourbon</th>\n",
                            "      <th>maturation_brandy</th>\n",
                            "      <th>...</th>\n",
                            "      <th>exotic_spice</th>\n",
                            "      <th>strawberry_jam</th>\n",
                            "      <th>cracker</th>\n",
                            "      <th>fizz</th>\n",
                            "      <th>tangerine</th>\n",
                            "      <th>porridge_oats</th>\n",
                            "      <th>right</th>\n",
                            "      <th>salty_butter</th>\n",
                            "      <th>coriander</th>\n",
                            "      <th>lightly</th>\n",
                            "    </tr>\n",
                            "  </thead>\n",
                            "  <tbody>\n",
                            "    <tr>\n",
                            "      <th>0</th>\n",
                            "      <td>Singleton of Dufftown 12 Year Old</td>\n",
                            "      <td>Speyside Whisky</td>\n",
                            "      <td>Dufftown</td>\n",
                            "      <td>Dufftown</td>\n",
                            "      <td>12.0</td>\n",
                            "      <td>40.0</td>\n",
                            "      <td>NaN</td>\n",
                            "      <td>NaN</td>\n",
                            "      <td>0.0</td>\n",
                            "      <td>0.0</td>\n",
                            "      <td>...</td>\n",
                            "      <td>0.0</td>\n",
                            "      <td>0.0</td>\n",
                            "      <td>0.0</td>\n",
                            "      <td>0.0</td>\n",
                            "      <td>0.0</td>\n",
                            "      <td>0.0</td>\n",
                            "      <td>0.0</td>\n",
                            "      <td>0.0</td>\n",
                            "      <td>0.0</td>\n",
                            "      <td>0.0</td>\n",
                            "    </tr>\n",
                            "    <tr>\n",
                            "      <th>1</th>\n",
                            "      <td>Laphroaig 10 Year Old Sherry Oak Finish</td>\n",
                            "      <td>Islay Whisky</td>\n",
                            "      <td>Laphroaig</td>\n",
                            "      <td>Laphroaig</td>\n",
                            "      <td>10.0</td>\n",
                            "      <td>48.0</td>\n",
                            "      <td>NaN</td>\n",
                            "      <td>NaN</td>\n",
                            "      <td>0.0</td>\n",
                            "      <td>0.0</td>\n",
                            "      <td>...</td>\n",
                            "      <td>0.0</td>\n",
                            "      <td>0.0</td>\n",
                            "      <td>0.0</td>\n",
                            "      <td>0.0</td>\n",
                            "      <td>0.0</td>\n",
                            "      <td>0.0</td>\n",
                            "      <td>0.0</td>\n",
                            "      <td>0.0</td>\n",
                            "      <td>0.0</td>\n",
                            "      <td>0.0</td>\n",
                            "    </tr>\n",
                            "    <tr>\n",
                            "      <th>2</th>\n",
                            "      <td>GlenAllachie 15 Year Old</td>\n",
                            "      <td>Speyside Whisky</td>\n",
                            "      <td>GlenAllachie</td>\n",
                            "      <td>GlenAllachie</td>\n",
                            "      <td>15.0</td>\n",
                            "      <td>46.0</td>\n",
                            "      <td>NaN</td>\n",
                            "      <td>NaN</td>\n",
                            "      <td>0.0</td>\n",
                            "      <td>0.0</td>\n",
                            "      <td>...</td>\n",
                            "      <td>0.0</td>\n",
                            "      <td>0.0</td>\n",
                            "      <td>0.0</td>\n",
                            "      <td>0.0</td>\n",
                            "      <td>0.0</td>\n",
                            "      <td>0.0</td>\n",
                            "      <td>0.0</td>\n",
                            "      <td>0.0</td>\n",
                            "      <td>0.0</td>\n",
                            "      <td>0.0</td>\n",
                            "    </tr>\n",
                            "    <tr>\n",
                            "      <th>3</th>\n",
                            "      <td>Seaweed &amp; Aeons &amp; Digging &amp; Fire &amp; Cask Streng...</td>\n",
                            "      <td>Islay Whisky</td>\n",
                            "      <td>Seaweed &amp; Aeons &amp; Digging &amp; Fire</td>\n",
                            "      <td>Seaweed &amp; Aeons &amp; Digging &amp; Fire</td>\n",
                            "      <td>10.0</td>\n",
                            "      <td>58.3</td>\n",
                            "      <td>NaN</td>\n",
                            "      <td>True</td>\n",
                            "      <td>0.0</td>\n",
                            "      <td>0.0</td>\n",
                            "      <td>...</td>\n",
                            "      <td>0.0</td>\n",
                            "      <td>0.0</td>\n",
                            "      <td>0.0</td>\n",
                            "      <td>0.0</td>\n",
                            "      <td>0.0</td>\n",
                            "      <td>0.0</td>\n",
                            "      <td>0.0</td>\n",
                            "      <td>0.0</td>\n",
                            "      <td>0.0</td>\n",
                            "      <td>0.0</td>\n",
                            "    </tr>\n",
                            "    <tr>\n",
                            "      <th>4</th>\n",
                            "      <td>Edradour 10 Year Old</td>\n",
                            "      <td>Highland Whisky</td>\n",
                            "      <td>Edradour</td>\n",
                            "      <td>Edradour</td>\n",
                            "      <td>10.0</td>\n",
                            "      <td>40.0</td>\n",
                            "      <td>NaN</td>\n",
                            "      <td>NaN</td>\n",
                            "      <td>1.0</td>\n",
                            "      <td>0.0</td>\n",
                            "      <td>...</td>\n",
                            "      <td>0.0</td>\n",
                            "      <td>0.0</td>\n",
                            "      <td>0.0</td>\n",
                            "      <td>0.0</td>\n",
                            "      <td>0.0</td>\n",
                            "      <td>0.0</td>\n",
                            "      <td>0.0</td>\n",
                            "      <td>0.0</td>\n",
                            "      <td>0.0</td>\n",
                            "      <td>0.0</td>\n",
                            "    </tr>\n",
                            "  </tbody>\n",
                            "</table>\n",
                            "<p>5 rows × 497 columns</p>\n",
                            "</div>"
                        ],
                        "text/plain": [
                            "                                                name           region  \\\n",
                            "0                  Singleton of Dufftown 12 Year Old  Speyside Whisky   \n",
                            "1            Laphroaig 10 Year Old Sherry Oak Finish     Islay Whisky   \n",
                            "2                           GlenAllachie 15 Year Old  Speyside Whisky   \n",
                            "3  Seaweed & Aeons & Digging & Fire & Cask Streng...     Islay Whisky   \n",
                            "4                               Edradour 10 Year Old  Highland Whisky   \n",
                            "\n",
                            "                         distillery                           bottler   age  \\\n",
                            "0                          Dufftown                          Dufftown  12.0   \n",
                            "1                         Laphroaig                         Laphroaig  10.0   \n",
                            "2                      GlenAllachie                      GlenAllachie  15.0   \n",
                            "3  Seaweed & Aeons & Digging & Fire  Seaweed & Aeons & Digging & Fire  10.0   \n",
                            "4                          Edradour                          Edradour  10.0   \n",
                            "\n",
                            "    ABV chill_filter cask_strength  maturation_bourbon  maturation_brandy  \\\n",
                            "0  40.0          NaN           NaN                 0.0                0.0   \n",
                            "1  48.0          NaN           NaN                 0.0                0.0   \n",
                            "2  46.0          NaN           NaN                 0.0                0.0   \n",
                            "3  58.3          NaN          True                 0.0                0.0   \n",
                            "4  40.0          NaN           NaN                 1.0                0.0   \n",
                            "\n",
                            "   ...  exotic_spice  strawberry_jam  cracker  fizz  tangerine  porridge_oats  \\\n",
                            "0  ...           0.0             0.0      0.0   0.0        0.0            0.0   \n",
                            "1  ...           0.0             0.0      0.0   0.0        0.0            0.0   \n",
                            "2  ...           0.0             0.0      0.0   0.0        0.0            0.0   \n",
                            "3  ...           0.0             0.0      0.0   0.0        0.0            0.0   \n",
                            "4  ...           0.0             0.0      0.0   0.0        0.0            0.0   \n",
                            "\n",
                            "   right  salty_butter  coriander  lightly  \n",
                            "0    0.0           0.0        0.0      0.0  \n",
                            "1    0.0           0.0        0.0      0.0  \n",
                            "2    0.0           0.0        0.0      0.0  \n",
                            "3    0.0           0.0        0.0      0.0  \n",
                            "4    0.0           0.0        0.0      0.0  \n",
                            "\n",
                            "[5 rows x 497 columns]"
                        ]
                    },
                    "execution_count": 74,
                    "metadata": {},
                    "output_type": "execute_result"
                }
            ],
            "source": [
                "bow_unified_final.head()"
            ]
        },
        {
            "cell_type": "markdown",
            "metadata": {},
            "source": [
                "Let's save this dataframe to disk:"
            ]
        },
        {
            "cell_type": "code",
            "execution_count": 75,
            "metadata": {},
            "outputs": [],
            "source": [
                "bow_unified_final.to_csv(\"data\\\\interim\\\\whiskunified_bow_encoded.csv\")"
            ]
        }
    ],
    "metadata": {
        "interpreter": {
            "hash": "95508d1f9e276930ee7bf977622471e4c9572bc985693ed5ef89eacdfe75f4af"
        },
        "kernelspec": {
            "display_name": "Python 3.8.11 64-bit ('sb_cpstone3': conda)",
            "name": "python3"
        },
        "language_info": {
            "codemirror_mode": {
                "name": "ipython",
                "version": 3
            },
            "file_extension": ".py",
            "mimetype": "text/x-python",
            "name": "python",
            "nbconvert_exporter": "python",
            "pygments_lexer": "ipython3",
            "version": "3.8.11"
        },
        "orig_nbformat": 4
    },
    "nbformat": 4,
    "nbformat_minor": 2
}
