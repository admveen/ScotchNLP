{
    "cells": [
        {
            "cell_type": "markdown",
            "source": [
                "# Scotch Whisky Exploration: Data Wrangling"
            ],
            "metadata": {}
        },
        {
            "cell_type": "code",
            "execution_count": 1,
            "source": [
                "import numpy as np\r\n",
                "import pandas as pd\r\n",
                "\r\n",
                "import re\r\n",
                "import spacy\r\n"
            ],
            "outputs": [],
            "metadata": {}
        },
        {
            "cell_type": "code",
            "execution_count": 2,
            "source": [
                "whiskydf_raw = pd.read_json(\"whiskeyscraper/MoM_whiskydata.json\")"
            ],
            "outputs": [],
            "metadata": {}
        },
        {
            "cell_type": "code",
            "execution_count": 3,
            "source": [
                "whiskydf_raw.head(2)"
            ],
            "outputs": [
                {
                    "output_type": "execute_result",
                    "data": {
                        "text/html": [
                            "<div>\n",
                            "<style scoped>\n",
                            "    .dataframe tbody tr th:only-of-type {\n",
                            "        vertical-align: middle;\n",
                            "    }\n",
                            "\n",
                            "    .dataframe tbody tr th {\n",
                            "        vertical-align: top;\n",
                            "    }\n",
                            "\n",
                            "    .dataframe thead th {\n",
                            "        text-align: right;\n",
                            "    }\n",
                            "</style>\n",
                            "<table border=\"1\" class=\"dataframe\">\n",
                            "  <thead>\n",
                            "    <tr style=\"text-align: right;\">\n",
                            "      <th></th>\n",
                            "      <th>name</th>\n",
                            "      <th>nose</th>\n",
                            "      <th>palate</th>\n",
                            "      <th>finish</th>\n",
                            "      <th>description</th>\n",
                            "      <th>region</th>\n",
                            "      <th>style</th>\n",
                            "      <th>distillery</th>\n",
                            "      <th>bottler</th>\n",
                            "      <th>age</th>\n",
                            "      <th>alcohol</th>\n",
                            "      <th>maturation</th>\n",
                            "      <th>chill_filter</th>\n",
                            "      <th>cask_strength</th>\n",
                            "    </tr>\n",
                            "  </thead>\n",
                            "  <tbody>\n",
                            "    <tr>\n",
                            "      <th>0</th>\n",
                            "      <td>Singleton of Dufftown 12 Year Old</td>\n",
                            "      <td>Malty with cereal/barley sweetness, buttery to...</td>\n",
                            "      <td>Orange zest spiciness perks up a malty core of...</td>\n",
                            "      <td>Oaky, rich with good length, some fruit lingers.</td>\n",
                            "      <td>A straightforward, nutty and malty single malt...</td>\n",
                            "      <td>Speyside Whisky</td>\n",
                            "      <td>Single Malt Whisky</td>\n",
                            "      <td>Dufftown</td>\n",
                            "      <td>Dufftown</td>\n",
                            "      <td>12 year old Whisky</td>\n",
                            "      <td>40.0%</td>\n",
                            "      <td>NaN</td>\n",
                            "      <td>NaN</td>\n",
                            "      <td>NaN</td>\n",
                            "    </tr>\n",
                            "    <tr>\n",
                            "      <th>1</th>\n",
                            "      <td>Laphroaig 10 Year Old Sherry Oak Finish</td>\n",
                            "      <td>Smoked meats, maple syrup, BBQ lemon, charred ...</td>\n",
                            "      <td>More roasted cedar and peat smoke, with a hint...</td>\n",
                            "      <td>A balanced finish of sherried sweetness and sm...</td>\n",
                            "      <td>Smoke and sherry here from Laphroaig! The lege...</td>\n",
                            "      <td>Islay Whisky</td>\n",
                            "      <td>Single Malt Whisky</td>\n",
                            "      <td>Laphroaig</td>\n",
                            "      <td>Laphroaig</td>\n",
                            "      <td>10 year old Whisky</td>\n",
                            "      <td>48.0%</td>\n",
                            "      <td>NaN</td>\n",
                            "      <td>NaN</td>\n",
                            "      <td>NaN</td>\n",
                            "    </tr>\n",
                            "  </tbody>\n",
                            "</table>\n",
                            "</div>"
                        ],
                        "text/plain": [
                            "                                      name  \\\n",
                            "0        Singleton of Dufftown 12 Year Old   \n",
                            "1  Laphroaig 10 Year Old Sherry Oak Finish   \n",
                            "\n",
                            "                                                nose  \\\n",
                            "0  Malty with cereal/barley sweetness, buttery to...   \n",
                            "1  Smoked meats, maple syrup, BBQ lemon, charred ...   \n",
                            "\n",
                            "                                              palate  \\\n",
                            "0  Orange zest spiciness perks up a malty core of...   \n",
                            "1  More roasted cedar and peat smoke, with a hint...   \n",
                            "\n",
                            "                                              finish  \\\n",
                            "0   Oaky, rich with good length, some fruit lingers.   \n",
                            "1  A balanced finish of sherried sweetness and sm...   \n",
                            "\n",
                            "                                         description           region  \\\n",
                            "0  A straightforward, nutty and malty single malt...  Speyside Whisky   \n",
                            "1  Smoke and sherry here from Laphroaig! The lege...     Islay Whisky   \n",
                            "\n",
                            "                style distillery    bottler                 age alcohol  \\\n",
                            "0  Single Malt Whisky   Dufftown   Dufftown  12 year old Whisky   40.0%   \n",
                            "1  Single Malt Whisky  Laphroaig  Laphroaig  10 year old Whisky   48.0%   \n",
                            "\n",
                            "  maturation chill_filter cask_strength  \n",
                            "0        NaN          NaN           NaN  \n",
                            "1        NaN          NaN           NaN  "
                        ]
                    },
                    "metadata": {},
                    "execution_count": 3
                }
            ],
            "metadata": {}
        },
        {
            "cell_type": "markdown",
            "source": [
                "## Initial Data Clean: \r\n",
                "#### Dropping observations with no reviews or missing taste,nose, and finish notes.\r\n",
                "#### Coverting/cleaning numeric columns. "
            ],
            "metadata": {}
        },
        {
            "cell_type": "code",
            "execution_count": 4,
            "source": [
                "whiskydf_raw.info()"
            ],
            "outputs": [
                {
                    "output_type": "stream",
                    "name": "stdout",
                    "text": [
                        "<class 'pandas.core.frame.DataFrame'>\n",
                        "RangeIndex: 14143 entries, 0 to 14142\n",
                        "Data columns (total 14 columns):\n",
                        " #   Column         Non-Null Count  Dtype \n",
                        "---  ------         --------------  ----- \n",
                        " 0   name           14143 non-null  object\n",
                        " 1   nose           8553 non-null   object\n",
                        " 2   palate         8552 non-null   object\n",
                        " 3   finish         8488 non-null   object\n",
                        " 4   description    14143 non-null  object\n",
                        " 5   region         14143 non-null  object\n",
                        " 6   style          14143 non-null  object\n",
                        " 7   distillery     14143 non-null  object\n",
                        " 8   bottler        14142 non-null  object\n",
                        " 9   age            10667 non-null  object\n",
                        " 10  alcohol        14142 non-null  object\n",
                        " 11  maturation     2376 non-null   object\n",
                        " 12  chill_filter   479 non-null    object\n",
                        " 13  cask_strength  1022 non-null   object\n",
                        "dtypes: object(14)\n",
                        "memory usage: 1.5+ MB\n"
                    ]
                }
            ],
            "metadata": {}
        },
        {
            "cell_type": "markdown",
            "source": [
                "### Let's keep the subset of whiskeys where there are tasting notes (e.g. where nose, palate, and finish are not null)"
            ],
            "metadata": {}
        },
        {
            "cell_type": "code",
            "execution_count": 5,
            "source": [
                "tastingnote_cols = ['nose', 'palate', 'finish']\r\n",
                "\r\n",
                "whiskydf_raw[tastingnote_cols].isna().all() == True"
            ],
            "outputs": [
                {
                    "output_type": "execute_result",
                    "data": {
                        "text/plain": [
                            "nose      False\n",
                            "palate    False\n",
                            "finish    False\n",
                            "dtype: bool"
                        ]
                    },
                    "metadata": {},
                    "execution_count": 5
                }
            ],
            "metadata": {}
        },
        {
            "cell_type": "markdown",
            "source": [
                "Takes subset where Master of Malt bros have created tasting notes on the whiskey. "
            ],
            "metadata": {}
        },
        {
            "cell_type": "code",
            "execution_count": 6,
            "source": [
                "whisky_df =  whiskydf_raw.dropna(how = \"any\", axis = 0, subset= tastingnote_cols)"
            ],
            "outputs": [],
            "metadata": {}
        },
        {
            "cell_type": "code",
            "execution_count": 7,
            "source": [
                "whisky_df.info()"
            ],
            "outputs": [
                {
                    "output_type": "stream",
                    "name": "stdout",
                    "text": [
                        "<class 'pandas.core.frame.DataFrame'>\n",
                        "Int64Index: 8485 entries, 0 to 14141\n",
                        "Data columns (total 14 columns):\n",
                        " #   Column         Non-Null Count  Dtype \n",
                        "---  ------         --------------  ----- \n",
                        " 0   name           8485 non-null   object\n",
                        " 1   nose           8485 non-null   object\n",
                        " 2   palate         8485 non-null   object\n",
                        " 3   finish         8485 non-null   object\n",
                        " 4   description    8485 non-null   object\n",
                        " 5   region         8485 non-null   object\n",
                        " 6   style          8485 non-null   object\n",
                        " 7   distillery     8485 non-null   object\n",
                        " 8   bottler        8485 non-null   object\n",
                        " 9   age            6557 non-null   object\n",
                        " 10  alcohol        8485 non-null   object\n",
                        " 11  maturation     1613 non-null   object\n",
                        " 12  chill_filter   403 non-null    object\n",
                        " 13  cask_strength  550 non-null    object\n",
                        "dtypes: object(14)\n",
                        "memory usage: 994.3+ KB\n"
                    ]
                }
            ],
            "metadata": {}
        },
        {
            "cell_type": "markdown",
            "source": [
                "Our scraper extracted a good amount of data and it'll be good to see whether there are some entries that don't belong (i.e styles that are not single malt, etc.)"
            ],
            "metadata": {}
        },
        {
            "cell_type": "code",
            "execution_count": 8,
            "source": [
                "whisky_df['style'].unique()"
            ],
            "outputs": [
                {
                    "output_type": "execute_result",
                    "data": {
                        "text/plain": [
                            "array(['Single Malt Whisky'], dtype=object)"
                        ]
                    },
                    "metadata": {},
                    "execution_count": 8
                }
            ],
            "metadata": {}
        },
        {
            "cell_type": "markdown",
            "source": [
                "Alright, so these are all single malt whiskies. Good. But since there's only one value the column carries no information. We'll drop it.  Also there seem to be no disambiguations/mispellings in the Scotch whisky region names. Each unique entry corresponds to a different Scotch whisky making region."
            ],
            "metadata": {}
        },
        {
            "cell_type": "code",
            "execution_count": 9,
            "source": [
                "whisky_df.region.unique()"
            ],
            "outputs": [
                {
                    "output_type": "execute_result",
                    "data": {
                        "text/plain": [
                            "array(['Speyside Whisky', 'Islay Whisky', 'Highland Whisky',\n",
                            "       'Island Whisky', 'Scotch Whisky', 'Lowland Whisky',\n",
                            "       'Campbeltown Whisky', 'Other Scotch Whisky'], dtype=object)"
                        ]
                    },
                    "metadata": {},
                    "execution_count": 9
                }
            ],
            "metadata": {}
        },
        {
            "cell_type": "code",
            "execution_count": 10,
            "source": [
                "whisky_df = whisky_df.drop(columns = ['style'])\r\n",
                "print(whisky_df.columns)"
            ],
            "outputs": [
                {
                    "output_type": "stream",
                    "name": "stdout",
                    "text": [
                        "Index(['name', 'nose', 'palate', 'finish', 'description', 'region',\n",
                        "       'distillery', 'bottler', 'age', 'alcohol', 'maturation', 'chill_filter',\n",
                        "       'cask_strength'],\n",
                        "      dtype='object')\n"
                    ]
                }
            ],
            "metadata": {}
        },
        {
            "cell_type": "markdown",
            "source": [
                "#### Age column\r\n",
                "Now we'll tackle the age column. Generally, the whiskies are matured for years in casks before bottling. The age corresponds to the aging before bottling. But let's check whether there are other units (months, etc.) of aging buried in the data."
            ],
            "metadata": {}
        },
        {
            "cell_type": "code",
            "execution_count": 11,
            "source": [
                "whisky_df.age.head(3)"
            ],
            "outputs": [
                {
                    "output_type": "execute_result",
                    "data": {
                        "text/plain": [
                            "0    12 year old Whisky\n",
                            "1    10 year old Whisky\n",
                            "2    15 year old Whisky\n",
                            "Name: age, dtype: object"
                        ]
                    },
                    "metadata": {},
                    "execution_count": 11
                }
            ],
            "metadata": {}
        },
        {
            "cell_type": "markdown",
            "source": [
                "The second word is the aging unit (year). Let's extract this second word and see if anything else pops up."
            ],
            "metadata": {}
        },
        {
            "cell_type": "code",
            "execution_count": 12,
            "source": [
                "whisky_df.age.str.split().str[1].unique()"
            ],
            "outputs": [
                {
                    "output_type": "execute_result",
                    "data": {
                        "text/plain": [
                            "array(['year', nan], dtype=object)"
                        ]
                    },
                    "metadata": {},
                    "execution_count": 12
                }
            ],
            "metadata": {}
        },
        {
            "cell_type": "markdown",
            "source": [
                "Nope. Either the age is recorded in years or the entry corresponds to a whisky with no age statement. Let's process this understanding that age is in years and convert the column to numeric."
            ],
            "metadata": {}
        },
        {
            "cell_type": "code",
            "execution_count": 13,
            "source": [
                "#convert whiskey age to numeric.\r\n",
                "whisky_df.age = whisky_df.age.str.split(' ').str[0].astype('float')"
            ],
            "outputs": [],
            "metadata": {}
        },
        {
            "cell_type": "code",
            "execution_count": 14,
            "source": [
                "np.sort(whisky_df.age.unique())"
            ],
            "outputs": [
                {
                    "output_type": "execute_result",
                    "data": {
                        "text/plain": [
                            "array([   3.,    4.,    5.,    6.,    7.,    8.,    9.,   10.,   11.,\n",
                            "         12.,   13.,   14.,   15.,   16.,   17.,   18.,   19.,   20.,\n",
                            "         21.,   22.,   23.,   24.,   25.,   26.,   27.,   28.,   29.,\n",
                            "         30.,   31.,   32.,   33.,   34.,   35.,   36.,   37.,   38.,\n",
                            "         39.,   40.,   41.,   42.,   43.,   44.,   45.,   46.,   47.,\n",
                            "         48.,   49.,   50.,   51.,   52.,   54.,   55.,   56.,   60.,\n",
                            "         62.,   64.,   65.,   71.,   78.,  105., 2003.,   nan])"
                        ]
                    },
                    "metadata": {},
                    "execution_count": 14
                }
            ],
            "metadata": {}
        },
        {
            "cell_type": "markdown",
            "source": [
                "105 and 2003 year old whisky are possible outliers. Let's investigate more closely."
            ],
            "metadata": {}
        },
        {
            "cell_type": "code",
            "execution_count": 15,
            "source": [
                "whisky_df[whisky_df.age == 105]"
            ],
            "outputs": [
                {
                    "output_type": "execute_result",
                    "data": {
                        "text/html": [
                            "<div>\n",
                            "<style scoped>\n",
                            "    .dataframe tbody tr th:only-of-type {\n",
                            "        vertical-align: middle;\n",
                            "    }\n",
                            "\n",
                            "    .dataframe tbody tr th {\n",
                            "        vertical-align: top;\n",
                            "    }\n",
                            "\n",
                            "    .dataframe thead th {\n",
                            "        text-align: right;\n",
                            "    }\n",
                            "</style>\n",
                            "<table border=\"1\" class=\"dataframe\">\n",
                            "  <thead>\n",
                            "    <tr style=\"text-align: right;\">\n",
                            "      <th></th>\n",
                            "      <th>name</th>\n",
                            "      <th>nose</th>\n",
                            "      <th>palate</th>\n",
                            "      <th>finish</th>\n",
                            "      <th>description</th>\n",
                            "      <th>region</th>\n",
                            "      <th>distillery</th>\n",
                            "      <th>bottler</th>\n",
                            "      <th>age</th>\n",
                            "      <th>alcohol</th>\n",
                            "      <th>maturation</th>\n",
                            "      <th>chill_filter</th>\n",
                            "      <th>cask_strength</th>\n",
                            "    </tr>\n",
                            "  </thead>\n",
                            "  <tbody>\n",
                            "    <tr>\n",
                            "      <th>9219</th>\n",
                            "      <td>Aisla T'Orten 105 Year Old 1906 - Liquid Histo...</td>\n",
                            "      <td>The most unique bouquet I’ve ever experienced....</td>\n",
                            "      <td>Heaven is spelt “T-O-R-T-E-N”. This conjures u...</td>\n",
                            "      <td>To say this was long would be an understatemen...</td>\n",
                            "      <td>The world's oldest whisky. Read more about thi...</td>\n",
                            "      <td>Highland Whisky</td>\n",
                            "      <td>Aisla T'Orten</td>\n",
                            "      <td>Master of Malt</td>\n",
                            "      <td>105.0</td>\n",
                            "      <td>40.7%</td>\n",
                            "      <td>Sherry</td>\n",
                            "      <td>NaN</td>\n",
                            "      <td>NaN</td>\n",
                            "    </tr>\n",
                            "  </tbody>\n",
                            "</table>\n",
                            "</div>"
                        ],
                        "text/plain": [
                            "                                                   name  \\\n",
                            "9219  Aisla T'Orten 105 Year Old 1906 - Liquid Histo...   \n",
                            "\n",
                            "                                                   nose  \\\n",
                            "9219  The most unique bouquet I’ve ever experienced....   \n",
                            "\n",
                            "                                                 palate  \\\n",
                            "9219  Heaven is spelt “T-O-R-T-E-N”. This conjures u...   \n",
                            "\n",
                            "                                                 finish  \\\n",
                            "9219  To say this was long would be an understatemen...   \n",
                            "\n",
                            "                                            description           region  \\\n",
                            "9219  The world's oldest whisky. Read more about thi...  Highland Whisky   \n",
                            "\n",
                            "         distillery         bottler    age alcohol maturation chill_filter  \\\n",
                            "9219  Aisla T'Orten  Master of Malt  105.0   40.7%     Sherry          NaN   \n",
                            "\n",
                            "     cask_strength  \n",
                            "9219           NaN  "
                        ]
                    },
                    "metadata": {},
                    "execution_count": 15
                }
            ],
            "metadata": {}
        },
        {
            "cell_type": "code",
            "execution_count": 16,
            "source": [
                "whisky_df[whisky_df.age == 105].description.values"
            ],
            "outputs": [
                {
                    "output_type": "execute_result",
                    "data": {
                        "text/plain": [
                            "array([\"The world's oldest whisky. Read more about this extraordinary liquid history over on the Master of Malt blog . OK everyone, we have to come clean! The miraculous discovery of this 105 year old whisky may have had something to do with its launch on April Fools’ Day 2011. It’s also possible that some sneaky anagrams were used in some of the names in the story: Allie Sisell (the discoverer of the cask):  Aethenias Simonvent (the distillery’s founder):  And there’s a good chance that if you rearrange the letters in Aisla T’Orten distillery you get:\"],\n",
                            "      dtype=object)"
                        ]
                    },
                    "metadata": {},
                    "execution_count": 16
                }
            ],
            "metadata": {}
        },
        {
            "cell_type": "markdown",
            "source": [
                "It's an April Fools joke! Gaaaarrrrr!!!! Remove this."
            ],
            "metadata": {}
        },
        {
            "cell_type": "code",
            "execution_count": 17,
            "source": [
                "whisky_df = whisky_df[~(whisky_df.age == 105)]\r\n",
                "print(whisky_df.age.unique())"
            ],
            "outputs": [
                {
                    "output_type": "stream",
                    "name": "stdout",
                    "text": [
                        "[  12.   10.   15.   nan   18.   25.   14.   21.   13.   16.    8.    5.\n",
                        "   11.   26.   23.   43.   28.   24.    9.   30.   29.   42.   19.   27.\n",
                        "   20.   17.    7.   40.    6.   22.   45.    3.   37.   35.   31.   64.\n",
                        "   50.   46.   36.   32.   44.   56.   38.   34.   33.   62.    4.   41.\n",
                        "   39. 2003.   60.   54.   55.   78.   52.   49.   47.   48.   51.   71.\n",
                        "   65.]\n"
                    ]
                }
            ],
            "metadata": {}
        },
        {
            "cell_type": "code",
            "execution_count": 18,
            "source": [
                "whisky_df[whisky_df.age == 2003].description.values"
            ],
            "outputs": [
                {
                    "output_type": "execute_result",
                    "data": {
                        "text/plain": [
                            "array([\"Batch 4 of Benromach's Origins range, bottled in 2013, is matured entirely in first fill Port pipes and peated to a level of 8ppm. The idea behind the range is to highlight how changing different factors during production results in different characteristics in the final spirit.\"],\n",
                            "      dtype=object)"
                        ]
                    },
                    "metadata": {},
                    "execution_count": 18
                }
            ],
            "metadata": {}
        },
        {
            "cell_type": "markdown",
            "source": [
                "This batch was started on 2003 but bottled in 2013, so we'll change the age value to 10 years. "
            ],
            "metadata": {}
        },
        {
            "cell_type": "code",
            "execution_count": 19,
            "source": [
                "whisky_df.loc[whisky_df.age == 2003, \"age\"] = 10"
            ],
            "outputs": [],
            "metadata": {}
        },
        {
            "cell_type": "code",
            "execution_count": 20,
            "source": [
                "# check if we have removed the outlier. \r\n",
                "whisky_df.age.unique()"
            ],
            "outputs": [
                {
                    "output_type": "execute_result",
                    "data": {
                        "text/plain": [
                            "array([12., 10., 15., nan, 18., 25., 14., 21., 13., 16.,  8.,  5., 11.,\n",
                            "       26., 23., 43., 28., 24.,  9., 30., 29., 42., 19., 27., 20., 17.,\n",
                            "        7., 40.,  6., 22., 45.,  3., 37., 35., 31., 64., 50., 46., 36.,\n",
                            "       32., 44., 56., 38., 34., 33., 62.,  4., 41., 39., 60., 54., 55.,\n",
                            "       78., 52., 49., 47., 48., 51., 71., 65.])"
                        ]
                    },
                    "metadata": {},
                    "execution_count": 20
                }
            ],
            "metadata": {}
        },
        {
            "cell_type": "markdown",
            "source": [
                "#### Alcohol column\r\n",
                "Yes. Now we convert the alcohol column to numeric value, we'll also change the name from alcohol to ABV as this is known to be in percent."
            ],
            "metadata": {}
        },
        {
            "cell_type": "code",
            "execution_count": 21,
            "source": [
                "whisky_df.alcohol = whisky_df.alcohol.str.replace('%', '').astype('float')\r\n",
                "#check for NaNs\r\n",
                "print(whisky_df.alcohol.isna().any())"
            ],
            "outputs": [
                {
                    "output_type": "stream",
                    "name": "stdout",
                    "text": [
                        "False\n"
                    ]
                }
            ],
            "metadata": {}
        },
        {
            "cell_type": "code",
            "execution_count": 22,
            "source": [
                "whisky_df.rename(columns = {'alcohol': 'ABV'}, inplace = True)\r\n",
                "print(whisky_df.columns)"
            ],
            "outputs": [
                {
                    "output_type": "stream",
                    "name": "stdout",
                    "text": [
                        "Index(['name', 'nose', 'palate', 'finish', 'description', 'region',\n",
                        "       'distillery', 'bottler', 'age', 'ABV', 'maturation', 'chill_filter',\n",
                        "       'cask_strength'],\n",
                        "      dtype='object')\n"
                    ]
                }
            ],
            "metadata": {}
        },
        {
            "cell_type": "markdown",
            "source": [
                "#### cask_strength and chill_filter have Yes/No entries when populated. Let's convert these to Boolean."
            ],
            "metadata": {}
        },
        {
            "cell_type": "code",
            "execution_count": 23,
            "source": [
                "print({'cask_strength_unique': whisky_df.cask_strength.unique(), 'chill_filter_unique': whisky_df.chill_filter.unique()})"
            ],
            "outputs": [
                {
                    "output_type": "stream",
                    "name": "stdout",
                    "text": [
                        "{'cask_strength_unique': array([nan, 'No', 'Yes'], dtype=object), 'chill_filter_unique': array([nan, 'No', 'Yes'], dtype=object)}\n"
                    ]
                }
            ],
            "metadata": {}
        },
        {
            "cell_type": "code",
            "execution_count": 24,
            "source": [
                "whisky_df.loc[:, ['cask_strength', 'chill_filter']] = whisky_df[['cask_strength', 'chill_filter']].replace({'Yes': True, 'No': False})"
            ],
            "outputs": [],
            "metadata": {}
        },
        {
            "cell_type": "code",
            "execution_count": 25,
            "source": [
                "print({'cask_strength_unique': whisky_df.cask_strength.unique(), 'chill_filter_unique': whisky_df.chill_filter.unique()})"
            ],
            "outputs": [
                {
                    "output_type": "stream",
                    "name": "stdout",
                    "text": [
                        "{'cask_strength_unique': array([nan, False, True], dtype=object), 'chill_filter_unique': array([nan, False, True], dtype=object)}\n"
                    ]
                }
            ],
            "metadata": {}
        },
        {
            "cell_type": "markdown",
            "source": [
                "## Free text columns: Description, taste, nose, and palate\r\n",
                "\r\n",
                "We want to extract information about the whiskies from these columns. Some of this info will be concrete (is it cask strength? is it chill filtered? which barrels was it aged in?). Some of that info is in the description but was not put into the bottle detail data on the website...so we'll need to extract it from free text and put it into the appropriate existing dataframe column. "
            ],
            "metadata": {}
        },
        {
            "cell_type": "code",
            "execution_count": 26,
            "source": [
                "# we're going to import necessary NLP libraries\r\n",
                "\r\n",
                "import spacy\r\n",
                "from spacy.tokens import Doc, Span, Token # for creating global objects \r\n",
                "from spacy.matcher import Matcher # for rule-based matching\r\n",
                "from spacy.language import Language # for building custom pipeline components\r\n",
                "\r\n",
                "from copy import deepcopy\r\n"
            ],
            "outputs": [],
            "metadata": {}
        },
        {
            "cell_type": "code",
            "execution_count": 27,
            "source": [
                "Doc.set_extension('name', force = True, default = None)"
            ],
            "outputs": [],
            "metadata": {}
        },
        {
            "cell_type": "code",
            "execution_count": 28,
            "source": [
                "nlp = spacy.load('en_core_web_lg') # loads our NLP model"
            ],
            "outputs": [],
            "metadata": {}
        },
        {
            "cell_type": "markdown",
            "source": [
                "We want to batch process all the description text. So we'll construct a pipeline. We also want to keep track of what description belongs to what whisky. This will enable us to rejoin any results from NLP into our pandas dataframe. So we will construct a custom attribute via context creation."
            ],
            "metadata": {}
        },
        {
            "cell_type": "code",
            "execution_count": 29,
            "source": [
                "# passing context metadata into attributes via pipeline requires the data to be in a specific form. We'll create a function to do transform the data into the right form.\r\n",
                "# then the data will be used to create a Doc object generator based off of the text and context metadata.\r\n",
                "\r\n",
                "def doc_context_tupling(data, textcolname, *args):\r\n",
                "    col_list = [textcolname]\r\n",
                "    attr_list = list(args)\r\n",
                "    \r\n",
                "    col_list.extend(attr_list)\r\n",
                "\r\n",
                "    # data is in dataframe w/ form of whisky_df\r\n",
                "    subset_dict_list = list(data[col_list].T.to_dict().values())\r\n",
                "\r\n",
                "    # now let's form a (text, context_dictionary) tuple which is what the spacy pipeline requires. \r\n",
                "\r\n",
                "    data_context_list = [ (subset_dict.pop(textcolname), subset_dict) for subset_dict in subset_dict_list]\r\n",
                "\r\n",
                "    # for each key-value pair in args, we'll need to create a Doc extension attribute.\r\n",
                "    \r\n",
                "\r\n",
                "    for doc, context in nlp.pipe(data_context_list, as_tuples = True):\r\n",
                "        Doc.set_extension('context', force = True, default = context)\r\n",
                "        yield doc\r\n"
            ],
            "outputs": [],
            "metadata": {}
        },
        {
            "cell_type": "markdown",
            "source": [
                "We are going to use some domain knowledge. It is unlikely that a whisky producer or reviewer would mention chill filtration in a description unless the whisky was NOT chill filtered. Chill filtration is a process that removes some esthers and fatty acids that can become non-soluble in lower ABV whisky at cooler temperatures. The process can prevent clouding but many connosieurs believe that it degrades the quality of the whisky and removes some of its mouthfeel and complexity. In any case, saying that your whisky is non chill-filtered is a point of pride. We'll thus create a very simple rule based matcher for this and not worry too heavily about the possibility that the review is saying that it IS chill filtered. The same logic goes for whether a whisky is cask strength or not."
            ],
            "metadata": {}
        },
        {
            "cell_type": "code",
            "execution_count": 31,
            "source": [
                "\r\n",
                "matcher = Matcher(nlp.vocab)\r\n",
                "pattern1 = [{'LOWER': 'chill'}, {'IS_PUNCT': True, 'OP': \"?\"},  {'LEMMA': 'filtration'} ]\r\n",
                "pattern2 = [{'LOWER': 'chill'}, {'IS_PUNCT': True, 'OP': \"?\"},  {'LEMMA': 'filter'} ]\r\n",
                "matcher.add('CHILL_FILTER', [pattern1, pattern2])\r\n",
                "\r\n",
                "matcher2 = Matcher(nlp.vocab)\r\n",
                "pattern3 = [{'LOWER': 'cask'}, {'IS_PUNCT': True, 'OP': \"?\"},  {'LEMMA': 'strength'} ]\r\n",
                "matcher2.add('CASK_STRENGTH', [pattern3])\r\n",
                "\r\n"
            ],
            "outputs": [],
            "metadata": {}
        },
        {
            "cell_type": "code",
            "execution_count": 32,
            "source": [
                "def update_cs_cf_info(data):\r\n",
                "\r\n",
                "    descript_corpus = doc_context_tupling(data, 'description', 'name')\r\n",
                "\r\n",
                "    new_data = deepcopy(data)\r\n",
                "\r\n",
                "    for doc in descript_corpus:\r\n",
                "\r\n",
                "        matches_chillf = matcher(doc)\r\n",
                "        matches_cask = matcher2(doc)\r\n",
                "        \r\n",
                "        if len(matches_cask) > 0:\r\n",
                "            new_data.loc[new_data.name == doc._.context['name'], 'cask_strength'] =  True \r\n",
                "        \r\n",
                "        counter = 0\r\n",
                "        if len(matches_chillf) > 0:\r\n",
                "            new_data.loc[new_data.name == doc._.context['name'], 'chill_filter'] =  False \r\n",
                "\r\n",
                "    return new_data\r\n",
                "\r\n"
            ],
            "outputs": [],
            "metadata": {}
        },
        {
            "cell_type": "code",
            "execution_count": 33,
            "source": [
                "new_whisk = update_cs_cf_info(whisky_df)"
            ],
            "outputs": [],
            "metadata": {}
        },
        {
            "cell_type": "code",
            "execution_count": 34,
            "source": [
                "new_whisk.info()"
            ],
            "outputs": [
                {
                    "output_type": "stream",
                    "name": "stdout",
                    "text": [
                        "<class 'pandas.core.frame.DataFrame'>\n",
                        "Int64Index: 8484 entries, 0 to 14141\n",
                        "Data columns (total 13 columns):\n",
                        " #   Column         Non-Null Count  Dtype  \n",
                        "---  ------         --------------  -----  \n",
                        " 0   name           8484 non-null   object \n",
                        " 1   nose           8484 non-null   object \n",
                        " 2   palate         8484 non-null   object \n",
                        " 3   finish         8484 non-null   object \n",
                        " 4   description    8484 non-null   object \n",
                        " 5   region         8484 non-null   object \n",
                        " 6   distillery     8484 non-null   object \n",
                        " 7   bottler        8484 non-null   object \n",
                        " 8   age            6556 non-null   float64\n",
                        " 9   ABV            8484 non-null   float64\n",
                        " 10  maturation     1612 non-null   object \n",
                        " 11  chill_filter   819 non-null    object \n",
                        " 12  cask_strength  1643 non-null   object \n",
                        "dtypes: float64(2), object(11)\n",
                        "memory usage: 1.2+ MB\n"
                    ]
                }
            ],
            "metadata": {}
        },
        {
            "cell_type": "markdown",
            "source": [
                "The description also has information about the wood / type of barrel(s) that the whisky was aged in.  We want to be able to extract that information from the free text. There are different names used for 'casks' in the corpus. Some examples are octaves, pipes, butts, puncheons, etc. There are technical differences between these (size, shape, etc) that can have effects on the whisky taste. But it'll be good to create a broad named entity class for this.\r\n",
                "\r\n",
                "Then there will be characteristics of the cask that directly impact flavor profiles such as whether the cask once held sherry, bourbon, etc or the kind of wood when relevant (oak can impart strong flavors to a Scotch)."
            ],
            "metadata": {}
        },
        {
            "cell_type": "code",
            "execution_count": 35,
            "source": [
                "dc = nlp(new_whisk.iloc[12].description)\r\n",
                "print(dc)"
            ],
            "outputs": [
                {
                    "output_type": "stream",
                    "name": "stdout",
                    "text": [
                        "Here we have the flagship single malt from Balvenie's series of Port Wood whiskies. This 21 year old expression, a marriage of rare Balvenie, was impressively finished in 30 year old port pipes. Originally released in 1996, this whisky is a veritable masterclass in poise and balance. It’s fruity and very subtly smoky, the perfect after-dinner dram.\n"
                    ]
                }
            ],
            "metadata": {}
        },
        {
            "cell_type": "code",
            "execution_count": 36,
            "source": [
                "@Language.component(\"cask_entity_creator\")\r\n",
                "def cask_entity_creator(doc):\r\n",
                "\r\n",
                "    # matcher for entity creation\r\n",
                "    cask_syn_matcher = Matcher(nlp.vocab)\r\n",
                "    pattern_csk = [{'LEMMA': 'cask'} ]\r\n",
                "    cask_syn_matcher.add('CSK', [pattern_csk])\r\n",
                "\r\n",
                "    \r\n",
                "    matches = cask_syn_matcher(doc)\r\n",
                "    spans = [ Span(doc, start, end, label = \"CSK\") for match_id, start, end in matches]\r\n",
                "\r\n",
                "    orig_ents = list(doc.ents)\r\n",
                "\r\n",
                "    doc.set_ents(spans, default=\"unmodified\")\r\n",
                "\r\n",
                "\r\n",
                "    return doc\r\n",
                "\r\n"
            ],
            "outputs": [],
            "metadata": {}
        },
        {
            "cell_type": "code",
            "execution_count": 38,
            "source": [
                "from sklearn.model_selection import train_test_split"
            ],
            "outputs": [],
            "metadata": {}
        },
        {
            "cell_type": "code",
            "execution_count": 40,
            "source": [
                "from spacy.pipeline import EntityRuler\r\n",
                "    \r\n",
                "hp_chars = list(nlp.pipe(new_whisk.description))\r\n"
            ],
            "outputs": [],
            "metadata": {}
        },
        {
            "cell_type": "code",
            "execution_count": 195,
            "source": [
                "from spacy.lang.en import English\r\n",
                "nlp2 = spacy.load('en_core_web_lg')\r\n",
                "ruler = nlp2.add_pipe(\"entity_ruler\")\r\n",
                "\r\n",
                "+6\r\n",
                "\r\n",
                "#pattern_csk1 = [{\"POS\": \"NOUN\", \"OP\":\"*\"}, {\"LEMMA\": \"cask\"}]\r\n",
                "\r\n",
                "pattern_csk1 = [{\"POS\": \"NOUN\", \"OP\":\"*\"}, {\"LEMMA\": {\"IN\": [\"cask\", \"octave\", \"pipe\", \"puncheon\", \"butt\", \"barrel\"]} } ]\r\n",
                "pattern_csk2 = [{\"POS\": \"NOUN\", \"OP\":\"*\"}, {\"POS\": \"CCONJ\"}, {\"POS\": \"NOUN\", \"OP\":\"*\"}, {\"LEMMA\": {\"IN\": [\"cask\", \"octave\", \"pipe\", \"puncheon\", \"butt\"]} } ]\r\n",
                "\r\n",
                "\r\n",
                "patterns = [ {\"label\": \"CSK\", \"pattern\": pattern_csk1 }, {\"label\": \"CSK\", \"pattern\": pattern_csk2 }, {\"label\": \"WOD\", \"pattern\": pattern_csk2 } ]\r\n",
                "\r\n",
                "\r\n",
                "ruler.add_patterns(patterns)\r\n"
            ],
            "outputs": [],
            "metadata": {}
        },
        {
            "cell_type": "code",
            "execution_count": 196,
            "source": [
                "doc = nlp2(new_whisk.iloc[159].description)"
            ],
            "outputs": [],
            "metadata": {}
        },
        {
            "cell_type": "code",
            "execution_count": 197,
            "source": [
                "doc.ents"
            ],
            "outputs": [
                {
                    "output_type": "execute_result",
                    "data": {
                        "text/plain": [
                            "(the Tamnavulin Distillery,\n",
                            " American,\n",
                            " oak barrels,\n",
                            " three,\n",
                            " sherry casks,\n",
                            " Three,\n",
                            " Christmas,\n",
                            " Speyside)"
                        ]
                    },
                    "metadata": {},
                    "execution_count": 197
                }
            ],
            "metadata": {}
        },
        {
            "cell_type": "markdown",
            "source": [],
            "metadata": {}
        },
        {
            "cell_type": "code",
            "execution_count": 198,
            "source": [
                "Tasting Notes"
            ],
            "outputs": [
                {
                    "output_type": "error",
                    "ename": "SyntaxError",
                    "evalue": "invalid syntax (Temp/ipykernel_6968/1019552579.py, line 1)",
                    "traceback": [
                        "\u001b[1;36m  File \u001b[1;32m\"C:\\Users\\CPTVEE~1\\AppData\\Local\\Temp/ipykernel_6968/1019552579.py\"\u001b[1;36m, line \u001b[1;32m1\u001b[0m\n\u001b[1;33m    Tasting Notes\u001b[0m\n\u001b[1;37m            ^\u001b[0m\n\u001b[1;31mSyntaxError\u001b[0m\u001b[1;31m:\u001b[0m invalid syntax\n"
                    ]
                }
            ],
            "metadata": {}
        },
        {
            "cell_type": "code",
            "execution_count": 201,
            "source": [
                "from sklearn.feature_extraction.text import TfidfVectorizer"
            ],
            "outputs": [],
            "metadata": {}
        },
        {
            "cell_type": "code",
            "execution_count": 202,
            "source": [
                "vect = TfidfVectorizer()"
            ],
            "outputs": [],
            "metadata": {}
        },
        {
            "cell_type": "code",
            "execution_count": 215,
            "source": [
                "Q = vect.fit_transform(new_whisk.nose.values)"
            ],
            "outputs": [],
            "metadata": {}
        },
        {
            "cell_type": "code",
            "execution_count": 216,
            "source": [
                "first_document_vector=Q[0]"
            ],
            "outputs": [],
            "metadata": {}
        },
        {
            "cell_type": "code",
            "execution_count": 217,
            "source": [
                "feature_names = vect.get_feature_names()\r\n",
                "first_document_vector.todense()"
            ],
            "outputs": [
                {
                    "output_type": "execute_result",
                    "data": {
                        "text/plain": [
                            "matrix([[0., 0., 0., ..., 0., 0., 0.]])"
                        ]
                    },
                    "metadata": {},
                    "execution_count": 217
                }
            ],
            "metadata": {}
        },
        {
            "cell_type": "code",
            "execution_count": 218,
            "source": [
                "print(feature_names)"
            ],
            "outputs": [
                {
                    "output_type": "stream",
                    "name": "stdout",
                    "text": [
                        "['10', '11', '12', '15', '15yo', '16', '17', '18', '1940', '2006', '22', '28', '30', '35', '40', '57', '5th', '69', 'aberfeldy', 'aberlour', 'able', 'abound', 'abounds', 'about', 'above', 'abricot', 'abrupt', 'abruptly', 'absolutely', 'abundance', 'abv', 'acacia', 'accentuate', 'accompanied', 'accompanies', 'accompanying', 'acetone', 'acidic', 'acidity', 'across', 'act', 'acting', 'action', 'active', 'actors', 'actual', 'actually', 'add', 'added', 'adding', 'addition', 'additional', 'adds', 'admirable', 'aeration', 'aforementioned', 'after', 'afternoon', 'afterthought', 'afterwards', 'again', 'against', 'agave', 'age', 'aged', 'aggressive', 'agreement', 'agricole', 'ahead', 'ahh', 'air', 'airiness', 'airy', 'akin', 'alaska', 'alcohol', 'ale', 'align', 'alive', 'all', 'allowed', 'allowing', 'allows', 'allsorts', 'allspice', 'alluring', 'almond', 'almonds', 'almost', 'aloe', 'along', 'alongside', 'alpine', 'already', 'alright', 'also', 'although', 'always', 'amalfi', 'amaretti', 'amaretto', 'amaro', 'amazing', 'amazingly', 'amber', 'ambrosia', 'american', 'amidst', 'among', 'amongst', 'amount', 'amour', 'an', 'anchovy', 'ancnoc', 'and', 'angel', 'angelica', 'anglaise', 'angles', 'angostura', 'anise', 'aniseed', 'announces', 'annual', 'another', 'ans', 'anticipate', 'antique', 'any', 'anything', 'apartment', 'aplenty', 'apparent', 'appealing', 'appear', 'appearance', 'appearing', 'appears', 'appetising', 'apple', 'apples', 'applesauce', 'applewood', 'appley', 'applied', 'approachable', 'approached', 'apricot', 'apricots', 'apt', 'arabica', 'arak', 'archived', 'ardbeg', 'ardbeggian', 'ardbegs', 'ardmore', 'are', 'arise', 'armagnac', 'armchair', 'armchairs', 'armpits', 'aroma', 'aromas', 'aromatic', 'aromatics', 'around', 'arran', 'arrans', 'array', 'arrive', 'arrived', 'arrives', 'artichoke', 'artisan', 'as', 'ash', 'ashes', 'ashy', 'aside', 'asparagus', 'assam', 'assertive', 'associate', 'assorted', 'assortment', 'astonishing', 'astonishingly', 'astounding', 'astringent', 'at', 'atop', 'attached', 'attended', 'attention', 'attic', 'attics', 'attractive', 'au', 'auchentoshan', 'aunt', 'austere', 'authentic', 'autosuggestion', 'autumn', 'autumnal', 'aux', 'awakened', 'away', 'awesome', 'aye', 'babies', 'back', 'backbone', 'backdrop', 'backed', 'background', 'backing', 'bacon', 'bad', 'bag', 'bagels', 'bags', 'baked', 'bakery', 'bakes', 'bakewell', 'bakewells', 'baking', 'baklava', 'baklavas', 'balance', 'balanced', 'balancing', 'balblair', 'ballsy', 'balm', 'balsa', 'balsam', 'balsamic', 'balvenie', 'banana', 'bananas', 'bandages', 'banger', 'banoffee', 'bar', 'barbecue', 'barbecued', 'barbecues', 'barbeque', 'barely', 'bark', 'barley', 'barrage', 'barrel', 'barrels', 'bars', 'bas', 'basalt', 'base', 'based', 'basically', 'basil', 'basket', 'baskets', 'bat', 'batches', 'bath', 'battalion', 'battenberg', 'batter', 'battered', 'battering', 'battle', 'bay', 'bazaar', 'bbq', 'bbqs', 'be', 'beach', 'beaches', 'beachy', 'bean', 'beans', 'bear', 'bears', 'beastie', 'beautiful', 'beautifully', 'because', 'become', 'becomes', 'becoming', 'bed', 'beef', 'been', 'beer', 'bees', 'beeswax', 'beetroot', 'beets', 'before', 'begin', 'beginning', 'begins', 'beguiling', 'begun', 'behind', 'being', 'belgian', 'belies', 'bell', 'below', 'belts', 'beneath', 'benriach', 'bereft', 'bergamot', 'berries', 'berrries', 'berry', 'beside', 'best', 'better', 'between', 'beyond', 'bicarbonate', 'big', 'bigger', 'bilberries', 'bilberry', 'bill', 'billowing', 'biltong', 'birch', 'biscotti', 'biscuit', 'biscuits', 'biscuity', 'bison', 'bit', 'bite', 'bits', 'bitter', 'bitterness', 'bitters', 'bittersweet', 'bitumen', 'black', 'blackberries', 'blackberry', 'blackcurrant', 'blackcurrants', 'blast', 'blend', 'blended', 'blending', 'blends', 'blissfully', 'blocks', 'blonde', 'blondies', 'blood', 'bloom', 'bloomer', 'blooms', 'blossom', 'blossoms', 'blown', 'blue', 'blueberries', 'blueberry', 'blustery', 'bodied', 'body', 'bog', 'boiled', 'bold', 'bolster', 'bolstered', 'bomb', 'bombay', 'bon', 'bonbon', 'bonbons', 'bonfire', 'bonfires', 'bonjela', 'bons', 'book', 'bookcases', 'books', 'bookshelves', 'bookshops', 'boot', 'booze', 'booziness', 'boozy', 'botanicals', 'both', 'botrytis', 'bottle', 'bottles', 'bottling', 'bottlings', 'bottom', 'bound', 'bountiful', 'bounty', 'bouquet', 'bourbon', 'bovril', 'bow', 'bowl', 'bowmore', 'box', 'boxes', 'bracing', 'bracken', 'brackish', 'braised', 'bramble', 'brambleberries', 'brambly', 'bramley', 'bran', 'branch', 'branches', 'brand', 'brandied', 'brandy', 'branston', 'brash', 'brazen', 'brazil', 'bread', 'breads', 'bready', 'break', 'breakfast', 'breaks', 'breast', 'breathe', 'breathes', 'breeze', 'brewed', 'bricks', 'brief', 'briefly', 'bright', 'brighter', 'brightly', 'brightness', 'brilliantly', 'brim', 'brimming', 'brine', 'briney', 'bring', 'bringing', 'brings', 'briny', 'brioche', 'bristles', 'brittle', 'broccoli', 'broken', 'brooding', 'brora', 'brought', 'brown', 'brownie', 'brownies', 'browning', 'bruichladdich', 'bruised', 'brulee', 'brulée', 'brûlee', 'brûlée', 'bubble', 'bubblegum', 'bubbling', 'buck', 'bucketfuls', 'buckets', 'buffalo', 'build', 'building', 'builds', 'bun', 'bunadh', 'bunches', 'bundles', 'bunna', 'bunnah', 'bunnahabhain', 'buns', 'buoyant', 'burdock', 'burgers', 'burly', 'burning', 'burnished', 'burnt', 'burst', 'bursting', 'bursts', 'bush', 'bushels', 'bushes', 'bustling', 'busy', 'but', 'butt', 'butter', 'buttercream', 'buttercup', 'buttercups', 'buttered', 'buttermilk', 'butters', 'butterscotch', 'buttertoffee', 'buttery', 'buttey', 'buttons', 'butts', 'buy', 'by', 'cabernet', 'cabinet', 'cacao', 'cadbury', 'cairn', 'cake', 'cakes', 'cakey', 'calf', 'calming', 'calvados', 'calve', 'calves', 'came', 'camomile', 'campfire', 'camphor', 'camphoric', 'campino', 'can', 'candied', 'candies', 'candle', 'candles', 'candlewax', 'candy', 'candyfloss', 'cane', 'canes', 'canned', 'cannot', 'canopy', 'cantaloupe', 'canteloupe', 'canvas', 'caol', 'capped', 'cappuccino', 'captivating', 'caramac', 'caramalised', 'caramel', 'caramelise', 'caramelised', 'caramelising', 'caramels', 'caraway', 'carbolic', 'cardamom', 'cardamon', 'cardboard', 'care', 'carefully', 'caress', 'caressing', 'caribbean', 'carnation', 'carnations', 'carpenter', 'carried', 'carries', 'carrot', 'carry', 'carrying', 'cascading', 'case', 'cashew', 'cashews', 'cask', 'casks', 'cassia', 'cassis', 'catch', 'catching', 'caught', 'cauldron', 'cautiously', 'cedar', 'cedarwood', 'ceder', 'celariac', 'celebration', 'celeriac', 'celery', 'cellar', 'cellently', 'cement', 'centre', 'centres', 'cereal', 'cereals', 'certain', 'certainly', 'chaff', 'chai', 'chains', 'chalk', 'chalky', 'chamois', 'chamomile', 'champions', 'chantilly', 'char', 'character', 'characteristic', 'characteristically', 'characteristics', 'characterized', 'charcoal', 'chard', 'charge', 'chargrilled', 'charming', 'charmingly', 'charred', 'chased', 'check', 'cheerful', 'cheerios', 'cheese', 'cheesecake', 'chelsea', 'chemical', 'cherries', 'cherry', 'chestnut', 'chestnuts', 'chewed', 'chewing', 'chewits', 'chewy', 'chicken', 'chickpeas', 'chicory', 'childhood', 'chili', 'chilli', 'chillies', 'chilly', 'chip', 'chippings', 'chips', 'chlorine', 'choc', 'chock', 'chocoalte', 'chocolat', 'chocolate', 'chocolates', 'chocolatey', 'chocolateyness', 'choice', 'chooclate', 'choosing', 'chopped', 'choux', 'chowder', 'christmas', 'christmassy', 'christmastime', 'chuck', 'chunks', 'chunky', 'churchill', 'churros', 'chutney', 'chèvre', 'cider', 'cigar', 'cigars', 'cinder', 'cinema', 'cinnamon', 'circa', 'circled', 'citric', 'citrus', 'citrussy', 'citrusy', 'claret', 'clarity', 'class', 'classic', 'classically', 'clay', 'clean', 'cleanly', 'clear', 'clearly', 'clement', 'clementine', 'clementines', 'close', 'closed', 'cloth', 'clotted', 'clouds', 'cloudy', 'clove', 'clover', 'cloves', 'clusters', 'clynelish', 'coal', 'coals', 'coast', 'coastal', 'coastline', 'coat', 'coated', 'coating', 'coats', 'cob', 'cobbler', 'cobnuts', 'cockle', 'cocktail', 'coco', 'cocoa', 'coconut', 'coexists', 'coffee', 'cognac', 'coins', 'cola', 'colada', 'cold', 'coleslaw', 'colour', 'comb', 'combination', 'combine', 'combined', 'combines', 'combining', 'combo', 'come', 'comes', 'comfiture', 'comforting', 'coming', 'compact', 'company', 'comparison', 'compete', 'competes', 'competing', 'complement', 'complemented', 'complements', 'complete', 'complex', 'complexity', 'complimented', 'complimenting', 'composed', 'compote', 'compôte', 'concentrate', 'concentrated', 'concoction', 'condensed', 'cones', 'confectioner', 'conference', 'confident', 'confidently', 'confirmed', 'conifer', 'conjuring', 'conserve', 'conserves', 'considerably', 'considering', 'contains', 'contends', 'continues', 'continuously', 'contrast', 'contrasted', 'contrasts', 'convinced', 'cooked', 'cookie', 'cookies', 'cooking', 'cool', 'cooling', 'copella', 'copper', 'coppery', 'cordial', 'cordite', 'core', 'cores', 'coriander', 'corinth', 'cork', 'corn', 'cornbread', 'corner', 'cornetto', 'cornflakes', 'corns', 'cornucopia', 'corroded', 'cotta', 'cottage', 'cough', 'could', 'couldn', 'coulis', 'counter', 'counterbalances', 'counterbalancing', 'countries', 'country', 'countryside', 'couple', 'coupled', 'courgette', 'course', 'covered', 'covers', 'cow', 'cox', 'cr', 'crab', 'crack', 'cracked', 'crackers', 'cracking', 'crackle', 'crackles', 'crackling', 'craigellachie', 'cranberries', 'cranberry', 'crash', 'crashes', 'crashing', 'crayola', 'crayons', 'creaking', 'cream', 'creamed', 'creamier', 'creamiest', 'creaminess', 'creams', 'creamy', 'create', 'creates', 'creating', 'creep', 'creeping', 'creeps', 'creme', 'cremes', 'creosote', 'crikey', 'crisp', 'crisped', 'crisps', 'crispy', 'croissant', 'croissants', 'cross', 'crumb', 'crumble', 'crumbled', 'crumbling', 'crumbly', 'crumbs', 'crumpet', 'crumpets', 'crunchie', 'crunchy', 'crushed', 'crust', 'crusty', 'crystalised', 'crystalline', 'crystallised', 'crystallized', 'crème', 'cubeb', 'cubes', 'cumin', 'cup', 'cups', 'curaçao', 'curd', 'cure', 'cured', 'curious', 'curiously', 'curls', 'currant', 'currants', 'current', 'curry', 'custard', 'cut', 'cuts', 'cutting', 'cuttings', 'dab', 'dahlias', 'dailuaine', 'daim', 'dairy', 'dalmore', 'dame', 'damp', 'damson', 'damsons', 'dance', 'dancing', 'dandelion', 'dandelions', 'dangerously', 'danish', 'danishes', 'darjeeling', 'dark', 'darker', 'darkly', 'darkness', 'dash', 'dashes', 'date', 'dates', 'day', 'days', 'de', 'dead', 'deal', 'decadent', 'decadently', 'decent', 'decides', 'deck', 'decorate', 'decorated', 'deep', 'deepening', 'deeper', 'deeply', 'defined', 'definite', 'definitely', 'definitive', 'deft', 'dehydrated', 'delectable', 'delicate', 'delicately', 'delicious', 'deliciously', 'deliciousness', 'delight', 'delightful', 'delightfully', 'delights', 'delivers', 'delivery', 'demerara', 'demonstrate', 'demrara', 'dense', 'densely', 'denser', 'depth', 'depths', 'describe', 'described', 'describing', 'desiccated', 'despite', 'dessert', 'desserts', 'dessicated', 'detect', 'deuce', 'develop', 'developed', 'developing', 'development', 'develops', 'dew', 'diced', 'dichotomy', 'did', 'didn', 'different', 'dig', 'digestive', 'digestives', 'dignified', 'dill', 'dime', 'dimension', 'dimensional', 'dinner', 'dipped', 'dirty', 'disappoint', 'discernible', 'disco', 'discover', 'discreet', 'display', 'dissimilar', 'dissipates', 'distance', 'distant', 'distillate', 'distilled', 'distillery', 'distinct', 'distinctive', 'distinctly', 'distinguished', 'distressed', 'divine', 'diy', 'do', 'dodger', 'dodgers', 'does', 'doesn', 'dollop', 'dollops', 'dolly', 'dominance', 'dominant', 'dominate', 'dominated', 'dominates', 'don', 'done', 'door', 'dose', 'dotted', 'double', 'doubt', 'dough', 'doughnuts', 'doughtnut', 'doughy', 'doused', 'down', 'downpour', 'downs', 'dowsed', 'dram', 'draped', 'draw', 'drawn', 'draws', 'drenched', 'dressed', 'dressing', 'dried', 'drier', 'drift', 'drifting', 'drifts', 'driftwood', 'drink', 'drinker', 'dripped', 'dripping', 'driven', 'drizzle', 'drizzled', 'drizzles', 'drop', 'dropped', 'drops', 'drown', 'drowned', 'dry', 'drying', 'dryness', 'duchess', 'duet', 'dug', 'dulse', 'dundee', 'dune', 'dunes', 'dunked', 'dunnage', 'duo', 'during', 'dust', 'dusted', 'dustiness', 'dusting', 'dusts', 'dusty', 'dutifully', 'each', 'eager', 'earl', 'early', 'earth', 'earthen', 'earthier', 'earthiness', 'earthy', 'ease', 'eastern', 'easy', 'eat', 'eau', 'eccles', 'eclair', 'edge', 'edges', 'edradour', 'effervesce', 'effervescence', 'effortlessly', 'egg', 'eggs', 'either', 'elastoplast', 'elbowing', 'elderberries', 'elderflower', 'elegance', 'elegant', 'elegantly', 'element', 'elements', 'elike', 'eliminate', 'ellen', 'ellens', 'else', 'emanating', 'embellished', 'ember', 'embers', 'emerge', 'emerges', 'emerging', 'emery', 'empty', 'enchanting', 'encompassing', 'end', 'ending', 'ends', 'engine', 'english', 'engulfed', 'enjoy', 'enjoyable', 'enjoyably', 'enjoyed', 'enlivened', 'enormous', 'enough', 'enriched', 'ensemble', 'entering', 'enticing', 'entry', 'entwines', 'enveloped', 'eponymous', 'equal', 'equally', 'erm', 'erupt', 'especially', 'espresso', 'esque', 'essence', 'essentially', 'ester', 'esters', 'estery', 'etc', 'ethereal', 'eton', 'eucalyptol', 'eucalyptus', 'evaporated', 'even', 'evenings', 'eventually', 'ever', 'everton', 'every', 'everyone', 'everything', 'evidence', 'evident', 'evocative', 'evokes', 'exactly', 'example', 'excellent', 'exceptional', 'exceptionally', 'exciting', 'exclusive', 'exotic', 'expect', 'expected', 'expects', 'explode', 'explore', 'explosion', 'expressed', 'expression', 'expressive', 'exquisite', 'extinguished', 'extra', 'extract', 'extravagant', 'extremely', 'fabulous', 'fact', 'fade', 'fading', 'faint', 'faintest', 'faintly', 'fairground', 'fairly', 'famed', 'familiar', 'famous', 'fanatics', 'fancy', 'fanfare', 'fantastic', 'fantastically', 'far', 'farley', 'farmhouse', 'farmy', 'farmyard', 'farmyards', 'farmyardy', 'fascinating', 'fashioned', 'fat', 'fatter', 'favourite', 'feast', 'feat', 'featured', 'feel', 'feels', 'feinty', 'feisty', 'felt', 'fennel', 'fermented', 'fermenting', 'fern', 'ferrero', 'festive', 'few', 'fibreglass', 'field', 'fields', 'fierce', 'fiery', 'fifty', 'fig', 'figgy', 'fight', 'figs', 'fill', 'filled', 'filling', 'fills', 'filly', 'filo', 'filter', 'finally', 'find', 'fine', 'finely', 'finger', 'fingers', 'finish', 'finishing', 'fino', 'fire', 'fireplace', 'firewood', 'firework', 'firm', 'firmly', 'first', 'fish', 'fisherman', 'fishing', 'fishmonger', 'fitting', 'five', 'fizz', 'fizzes', 'fizzing', 'fizzy', 'flake', 'flaked', 'flakes', 'flaky', 'flambeed', 'flambé', 'flambéed', 'flame', 'flamed', 'flan', 'flapjack', 'flapjacks', 'flash', 'flashes', 'flat', 'flavour', 'flavoured', 'flavours', 'flecks', 'fleeting', 'flesh', 'fleshy', 'fleur', 'flicker', 'flickers', 'flint', 'flintiness', 'flints', 'flinty', 'flirting', 'flit', 'float', 'floating', 'floor', 'floors', 'flora', 'floral', 'florals', 'florentines', 'floss', 'flour', 'floura', 'flourishes', 'flourishing', 'flourless', 'floury', 'flow', 'flower', 'flowering', 'flowers', 'flowery', 'flowing', 'fluffy', 'flurry', 'flutter', 'fluttering', 'flying', 'foam', 'focal', 'foccacia', 'focus', 'focused', 'foil', 'follewed', 'follow', 'followed', 'following', 'follows', 'food', 'for', 'fore', 'forest', 'foresty', 'forgiven', 'form', 'forming', 'forms', 'fort', 'forth', 'fortune', 'forward', 'forwards', 'found', 'fragrance', 'fragrant', 'framed', 'frangipane', 'frankincense', 'frankly', 'frazzles', 'fraîche', 'freeze', 'freezer', 'french', 'frequently', 'fresh', 'freshenss', 'fresher', 'freshly', 'freshness', 'fried', 'friends', 'fritter', 'fritters', 'from', 'fromage', 'front', 'frosted', 'frosties', 'frosting', 'frosty', 'fruit', 'fruitcake', 'fruited', 'fruitier', 'fruitiness', 'fruits', 'fruity', 'fudge', 'fudgey', 'fug', 'full', 'fully', 'fumes', 'funk', 'funkiness', 'funky', 'furniture', 'further', 'fusion', 'fuzz', 'gaining', 'galaxy', 'galia', 'galore', 'game', 'gamey', 'gammon', 'ganache', 'garage', 'garden', 'gardens', 'garibaldi', 'gate', 'gateau', 'gateaux', 'gathers', 'gave', 'gelato', 'gems', 'general', 'generosity', 'generous', 'generously', 'gentle', 'gently', 'geranium', 'geraniums', 'german', 'germolene', 'get', 'gets', 'gewurztraminer', 'gf', 'gigantic', 'gilded', 'gin', 'ginger', 'gingerbread', 'gingernut', 'gingernuts', 'gingers', 'gingersnap', 'gingersnaps', 'gingery', 'gipsy', 'give', 'given', 'gives', 'giving', 'glacial', 'glacé', 'glass', 'glaze', 'glazed', 'glen', 'glencadam', 'glenfarclas', 'glenfiddich', 'glenlivet', 'glenmorangie', 'glenrothes', 'glide', 'gloopy', 'glorious', 'gloriously', 'glove', 'gloves', 'glowing', 'glutinous', 'go', 'goes', 'going', 'gold', 'goldbears', 'golden', 'golds', 'good', 'goodness', 'goods', 'gooey', 'gooseberries', 'gooseberry', 'gorgeous', 'gorse', 'got', 'gradations', 'gradual', 'gradually', 'graham', 'grahams', 'grain', 'grains', 'grainy', 'gran', 'granary', 'grand', 'grande', 'grandeur', 'granny', 'granola', 'grant', 'granules', 'grape', 'grapefruit', 'grapefruits', 'grapes', 'grapeseed', 'grapey', 'graphite', 'grass', 'grasses', 'grassier', 'grassiness', 'grassy', 'grated', 'gray', 'great', 'greater', 'greatness', 'greats', 'greek', 'green', 'greener', 'greenery', 'greengage', 'greengages', 'greenness', 'greens', 'greet', 'greeted', 'greeting', 'greets', 'gregg', 'grenadine', 'grey', 'grilled', 'grinds', 'grist', 'gristly', 'gristy', 'groomed', 'ground', 'grounded', 'grounds', 'grove', 'grow', 'growing', 'grows', 'guava', 'guess', 'guises', 'gum', 'gummi', 'gummy', 'gums', 'gunpowder', 'gust', 'gypsy', 'gâteau', 'had', 'haddock', 'half', 'hallmark', 'ham', 'hand', 'handed', 'handful', 'handfuls', 'hang', 'hanging', 'hangs', 'happily', 'harbor', 'harbour', 'harbourmaster', 'harbours', 'hard', 'hardwoods', 'haribo', 'harmonious', 'harvested', 'has', 'hasn', 'hat', 'havana', 'have', 'having', 'hay', 'hayloft', 'haylofts', 'haze', 'hazel', 'hazelnut', 'hazelnuts', 'head', 'heady', 'healthy', 'heap', 'heaped', 'heaps', 'heard', 'heart', 'hearty', 'heat', 'heather', 'heathery', 'heathy', 'heavenly', 'heavily', 'heavy', 'hedgerow', 'hedgerows', 'heels', 'hefty', 'held', 'hello', 'helped', 'helping', 'helpings', 'helps', 'hemp', 'herb', 'herbaceous', 'herbaceousness', 'herbal', 'herbs', 'herby', 'here', 'hessian', 'hibiscus', 'hickory', 'hidden', 'hide', 'hides', 'hiding', 'high', 'higher', 'highland', 'highlighted', 'highlights', 'highly', 'hillside', 'hint', 'hints', 'his', 'hit', 'hits', 'hobnob', 'hobnobs', 'hogmanay', 'hoisin', 'hold', 'home', 'homely', 'homemade', 'homeycomb', 'honey', 'honeycomb', 'honeydew', 'honeyed', 'honeysuckle', 'hop', 'hoppy', 'hops', 'horchata', 'horse', 'horseradish', 'hot', 'houmous', 'house', 'how', 'however', 'hoyo', 'hp', 'huckleberry', 'hue', 'huge', 'hugely', 'hum', 'humbugs', 'humidor', 'humidors', 'hung', 'hunk', 'husk', 'husks', 'hyacinth', 'ice', 'icecream', 'iced', 'icing', 'idea', 'if', 'ila', 'images', 'imagine', 'immediate', 'immediately', 'immensely', 'immersed', 'impact', 'imparting', 'imparts', 'impression', 'impressions', 'impressive', 'in', 'incense', 'inchgower', 'include', 'including', 'increasingly', 'incredible', 'incredibly', 'indeed', 'indian', 'indication', 'individual', 'indulgent', 'industrial', 'influence', 'infused', 'infusions', 'ing', 'initial', 'initially', 'innocuous', 'inside', 'insistent', 'inspiration', 'instant', 'instantly', 'instead', 'insulation', 'integrated', 'integrates', 'integration', 'intense', 'intensely', 'intensity', 'intent', 'interesting', 'interestingly', 'interlacing', 'intermingle', 'intermingled', 'interplay', 'intertwined', 'intertwines', 'into', 'intr', 'intricacy', 'intriguing', 'intriguingly', 'introduces', 'introduction', 'intrusive', 'invited', 'inviting', 'invitingly', 'involved', 'iodine', 'iodised', 'iodoform', 'iris', 'irish', 'irresistible', 'is', 'ish', 'island', 'islay', 'isn', 'it', 'italian', 'items', 'its', 'itself', 'ivy', 'jacket', 'jacks', 'jaffa', 'jake', 'jalapeños', 'jam', 'jamaica', 'jamaican', 'jamboree', 'jammie', 'jammy', 'jams', 'japanese', 'jar', 'jars', 'jasmine', 'jazz', 'jazzes', 'jelly', 'jerusalem', 'join', 'joined', 'jostle', 'jostling', 'judged', 'juice', 'juiced', 'juicier', 'juiciness', 'juicy', 'jump', 'jumping', 'jumps', 'juniper', 'jura', 'just', 'juxtaposed', 'juxtaposition', 'ka', 'kaffir', 'keep', 'keeps', 'kelloggs', 'kelp', 'kerosene', 'kettle', 'key', 'kick', 'kicking', 'kicks', 'kidding', 'kiln', 'kilns', 'kind', 'kinder', 'kindling', 'kinds', 'kintyre', 'kipling', 'kipper', 'kippers', 'kirsch', 'kirshwasser', 'kitchen', 'kiwi', 'kiwis', 'knife', 'know', 'known', 'kola', 'krispies', 'kumquat', 'kumquats', 'label', 'lace', 'laced', 'laces', 'lack', 'lacquered', 'laddie', 'laden', 'lady', 'laga', 'lagavulin', 'lager', 'laid', 'lain', 'lait', 'laminated', 'lanolin', 'laphroaig', 'lapping', 'lapsang', 'lardy', 'large', 'largely', 'lashes', 'lashings', 'last', 'lasting', 'late', 'later', 'lathered', 'latte', 'lattes', 'launch', 'launching', 'laundered', 'laundry', 'lavender', 'lawn', 'layer', 'layered', 'layers', 'lays', 'lead', 'leading', 'leads', 'leaf', 'leafs', 'leafy', 'lean', 'leans', 'leaping', 'leaps', 'least', 'leater', 'leather', 'leathery', 'leave', 'leaves', 'led', 'ledaig', 'left', 'lemon', 'lemonade', 'lemongrass', 'lemons', 'lemony', 'lend', 'lengthens', 'lent', 'less', 'let', 'letting', 'level', 'levels', 'levity', 'liberal', 'liberally', 'library', 'lick', 'lie', 'lies', 'life', 'lift', 'lifted', 'lifts', 'light', 'lighter', 'lightly', 'lightness', 'like', 'likes', 'lilac', 'lilt', 'lily', 'lime', 'limes', 'limestone', 'limoncello', 'line', 'linen', 'linger', 'lingering', 'lingerings', 'lingers', 'lingonberry', 'linin', 'linoleum', 'linseed', 'lip', 'liqueur', 'liqueurs', 'liquorice', 'liquorices', 'liquorish', 'lit', 'litany', 'literally', 'littered', 'little', 'littoral', 'lively', 'livens', 'lives', 'll', 'load', 'loads', 'loaf', 'lobster', 'long', 'longer', 'longrow', 'loose', 'losing', 'lot', 'lots', 'lotus', 'love', 'lovely', 'low', 'lower', 'lowland', 'lozenges', 'luck', 'lucozade', 'luggage', 'lumps', 'lurk', 'lurking', 'lurks', 'luscious', 'lusciously', 'lush', 'luxurious', 'luxuriously', 'lychee', 'lychees', 'lying', 'lyle', 'macadamia', 'macallan', 'macarons', 'macaroons', 'mace', 'macerated', 'macerating', 'machrie', 'mackerel', 'made', 'madeira', 'maderia', 'magnificent', 'magnificently', 'magnolia', 'mahogany', 'maid', 'main', 'mainly', 'maintain', 'maintains', 'major', 'make', 'maker', 'makes', 'making', 'malbec', 'malmsey', 'malt', 'malteasers', 'malted', 'maltesars', 'maltesers', 'maltiness', 'malting', 'malty', 'manages', 'manchego', 'mandarin', 'mandarins', 'mango', 'mangoes', 'mangos', 'manner', 'manuka', 'many', 'manzana', 'manzanilla', 'maple', 'maraschino', 'marble', 'marc', 'marine', 'maritime', 'mark', 'market', 'marketplace', 'marking', 'marmalade', 'marmamalde', 'marmite', 'marnier', 'marriage', 'married', 'marry', 'mars', 'marsala', 'marsh', 'marshmallow', 'marshmallows', 'marvellous', 'marzipan', 'mascarpone', 'mashed', 'masks', 'masses', 'massive', 'massively', 'match', 'matcha', 'matches', 'matchsticks', 'materials', 'maturation', 'mature', 'matured', 'maturely', 'maturity', 'may', 'maybe', 'mcguinness', 'mcvitie', 'me', 'mead', 'meadow', 'meadows', 'meander', 'measure', 'measured', 'measures', 'meat', 'meatiness', 'meats', 'meaty', 'mechanical', 'medicinal', 'medicine', 'medium', 'medjool', 'medley', 'meet', 'meets', 'melange', 'melba', 'meld', 'melded', 'mellifluous', 'mellifluously', 'mellow', 'mellowed', 'mellowing', 'melon', 'melons', 'melted', 'melting', 'memories', 'men', 'menthe', 'menthol', 'mere', 'merest', 'merge', 'meringue', 'mescal', 'mess', 'met', 'metallic', 'methol', 'mezcal', 'middle', 'midget', 'might', 'mild', 'mildly', 'milk', 'milka', 'milks', 'milkshake', 'milky', 'milkybars', 'millionaire', 'mince', 'mincemeat', 'mincepie', 'mincepies', 'mind', 'mineral', 'mineralic', 'minerality', 'minerals', 'mineraly', 'mingle', 'mingled', 'mingling', 'mini', 'mint', 'minty', 'minute', 'minutes', 'miscellaneous', 'mississippi', 'mix', 'mixed', 'mixing', 'mixture', 'mmmm', 'mocchaccino', 'mocha', 'mochaccino', 'moist', 'molasses', 'moment', 'monarch', 'monkey', 'monterrey', 'moor', 'moorland', 'more', 'moreish', 'morello', 'morning', 'mornings', 'moroccan', 'morphing', 'mortlach', 'moscow', 'moss', 'mossy', 'most', 'mostly', 'motor', 'mountain', 'mousse', 'mouth', 'mouthwatering', 'mouthwateringly', 'move', 'moves', 'moving', 'mowed', 'mown', 'mr', 'much', 'mud', 'muddy', 'muesli', 'muffin', 'muffins', 'mug', 'mulch', 'mulchiness', 'mule', 'mulled', 'multi', 'multifaceted', 'multigrain', 'multilayered', 'multiple', 'multitude', 'murmur', 'muscavado', 'muscle', 'muscled', 'muscovado', 'muscular', 'mushroom', 'mushrooms', 'musk', 'musky', 'must', 'mustard', 'mustier', 'mustiness', 'musty', 'muted', 'myriad', 'myrtle', 'mysterious', 'mûre', 'naan', 'nail', 'name', 'namely', 'nata', 'natural', 'nature', 'nay', 'near', 'nearby', 'necessarily', 'necklaces', 'necks', 'nectar', 'nectarine', 'nectarines', 'need', 'needle', 'needles', 'neighbour', 'neither', 'nettle', 'nettles', 'never', 'new', 'newer', 'newly', 'next', 'nibs', 'nice', 'nicely', 'nicotiana', 'night', 'nines', 'no', 'noble', 'nods', 'noes', 'noir', 'nomnomnom', 'nonetheless', 'nordic', 'normandy', 'nose', 'noses', 'nosewith', 'nosing', 'nostalgia', 'nostalgic', 'nostrils', 'not', 'notable', 'notably', 'note', 'notes', 'nothing', 'notice', 'noticeable', 'noticeably', 'nougat', 'november', 'now', 'nuances', 'nuggets', 'number', 'nurtured', 'nut', 'nutella', 'nutmeg', 'nuts', 'nuttiness', 'nutty', 'oak', 'oakcakes', 'oaked', 'oaken', 'oakier', 'oakiness', 'oaky', 'oat', 'oatcake', 'oatcakes', 'oatiness', 'oatmeal', 'oats', 'oaty', 'oban', 'obvious', 'obviously', 'occasional', 'oceanic', 'oceans', 'odd', 'oddly', 'of', 'off', 'offer', 'offering', 'offers', 'often', 'oh', 'oil', 'oiled', 'oilier', 'oiliness', 'oils', 'oily', 'ol', 'old', 'older', 'olds', 'olive', 'olives', 'oliy', 'oloroso', 'olosoro', 'on', 'once', 'one', 'ones', 'onion', 'only', 'onto', 'oodles', 'ooh', 'oomph', 'oozes', 'oozing', 'open', 'opened', 'opening', 'opens', 'opulent', 'or', 'orange', 'oranges', 'orangey', 'orangina', 'orchard', 'orchards', 'orchestrated', 'orchid', 'oregano', 'orgeat', 'oriental', 'original', 'originals', 'orris', 'other', 'others', 'ounce', 'our', 'out', 'outdoor', 'outset', 'outstanding', 'ovaltine', 'oven', 'over', 'overarching', 'overdrive', 'overflowing', 'overlaid', 'overly', 'overlying', 'overn', 'overpower', 'overpowering', 'overripe', 'overs', 'overstate', 'overt', 'overtaken', 'overtly', 'overtones', 'overwhelming', 'overwhelmingly', 'own', 'owned', 'oxidised', 'oyster', 'oysters', 'ozonic', 'packed', 'packet', 'pad', 'pain', 'paint', 'painting', 'pair', 'paired', 'pairs', 'palate', 'palette', 'palma', 'palpable', 'pan', 'panache', 'panatella', 'pancake', 'pancakes', 'pancetta', 'panelling', 'panettone', 'panna', 'pannacotta', 'pantry', 'papaya', 'paper', 'paprika', 'paraffin', 'parfait', 'park', 'parks', 'parma', 'parmesan', 'parmigiana', 'parprika', 'parsley', 'parsnips', 'part', 'partially', 'particular', 'particularly', 'party', 'pass', 'passion', 'passionfruit', 'past', 'paste', 'pastel', 'pastilles', 'pastries', 'pastry', 'patisserie', 'pave', 'pawpaw', 'paxarette', 'pea', 'peach', 'peached', 'peaches', 'peachy', 'peaking', 'peanut', 'peanuts', 'pear', 'pearl', 'pears', 'peas', 'peat', 'peated', 'peatiness', 'peatsmoke', 'peaty', 'pebble', 'pebbles', 'pebbly', 'pecan', 'pecans', 'pedigree', 'pedro', 'peeking', 'peeks', 'peel', 'peeled', 'peelings', 'peels', 'pencil', 'peninsula', 'pennies', 'penny', 'peony', 'pep', 'pepparkakor', 'pepped', 'pepper', 'peppercorn', 'peppercorns', 'peppered', 'peppermint', 'peppers', 'peppery', 'per', 'perfect', 'perfectly', 'perfume', 'perfumed', 'perfumes', 'perfumy', 'perhaps', 'perimeter', 'period', 'periphery', 'perky', 'persimmon', 'persist', 'persistent', 'persisting', 'persists', 'personality', 'pertained', 'pertains', 'pervasive', 'peshwari', 'petal', 'petals', 'petrichor', 'petrol', 'peychaud', 'phenol', 'phenolic', 'phenols', 'phenomenally', 'pick', 'picked', 'pickle', 'pickled', 'picks', 'picnic', 'pie', 'pieces', 'pies', 'pile', 'piled', 'pimento', 'pinch', 'pinches', 'pinching', 'pine', 'pineapple', 'pineapples', 'pinecones', 'pinenuts', 'piney', 'pink', 'pinot', 'pipe', 'pips', 'pique', 'pistachio', 'pith', 'pithy', 'pitta', 'piña', 'place', 'plain', 'plaits', 'planed', 'plankish', 'plantain', 'plantains', 'plaster', 'plasters', 'platinum', 'play', 'playdough', 'playful', 'playing', 'plays', 'pleasant', 'pleasantly', 'pleasing', 'pleasingly', 'plentiful', 'plenty', 'plethora', 'plum', 'plume', 'plumes', 'pluming', 'plummy', 'plump', 'plums', 'plumwine', 'plunge', 'plus', 'poached', 'pockets', 'pod', 'pods', 'point', 'points', 'poire', 'poise', 'poised', 'poke', 'pokes', 'poking', 'polish', 'polished', 'polite', 'pollen', 'poly', 'pomander', 'pombe', 'pomegranate', 'pomegranates', 'pomelo', 'pool', 'pools', 'pop', 'popcorn', 'popped', 'popping', 'poppy', 'pops', 'porcini', 'pork', 'porridge', 'port', 'portion', 'portuguese', 'posh', 'position', 'positively', 'posset', 'possibly', 'post', 'pot', 'potato', 'potatoes', 'potent', 'potently', 'potpourri', 'pounces', 'pound', 'pounding', 'pounds', 'pour', 'poured', 'pourii', 'pourri', 'pow', 'powder', 'powerful', 'powerfully', 'powering', 'powers', 'pper', 'praline', 'pralines', 'precise', 'predominance', 'predominantly', 'presence', 'present', 'presents', 'preserve', 'preserves', 'pressed', 'presumably', 'pretty', 'pretzels', 'previous', 'prickle', 'prickles', 'prickling', 'prickly', 'primrose', 'probably', 'proceedings', 'producer', 'producing', 'proffer', 'profiteroles', 'profusion', 'progresses', 'proliferation', 'prominent', 'promised', 'pronounced', 'proper', 'prosciutto', 'provenance', 'proves', 'provide', 'provided', 'provides', 'providing', 'prune', 'prunes', 'puckering', 'pudding', 'puddings', 'puff', 'puffs', 'pulled', 'pulses', 'pumpkin', 'punch', 'punchy', 'punctuated', 'punctured', 'pungent', 'punnet', 'punnets', 'pure', 'puree', 'purfumed', 'purple', 'purée', 'put', 'putty', 'px', 'pyrat', 'pâtisserie', 'pâtissière', 'qualities', 'quality', 'quick', 'quickly', 'quiet', 'quince', 'quite', 'rack', 'rainforest', 'rains', 'rainwater', 'raised', 'raisin', 'raisins', 'rancio', 'range', 'rapeseed', 'raspberries', 'raspberry', 'rasps', 'rather', 'raw', 're', 'reach', 'reaching', 'ready', 'real', 'realise', 'really', 'realm', 'reams', 'rear', 'reasonably', 'reassuring', 'reassuringly', 'recent', 'recently', 'recipe', 'recognisable', 'recommended', 'recurrants', 'red', 'redcurrant', 'redcurrants', 'redolent', 'reduced', 'reek', 'reese', 'refined', 'refinement', 'refresh', 'refresher', 'refreshers', 'refreshing', 'refreshingly', 'register', 'reigns', 'relaxed', 'release', 'releases', 'remain', 'remaining', 'remarkably', 'remind', 'reminds', 'reminiscent', 'renowned', 'repeat', 'requisite', 'reserved', 'residing', 'resin', 'resinous', 'resonating', 'respect', 'resplendent', 'restaurant', 'restrained', 'result', 'retains', 'retrained', 'reveal', 'revealed', 'revealing', 'reveals', 'revels', 'rhubarb', 'rhum', 'ribena', 'ribs', 'rice', 'rich', 'richer', 'richly', 'richness', 'ricicles', 'rick', 'ridge', 'riesen', 'riesling', 'rife', 'right', 'rind', 'rinds', 'rings', 'ripe', 'ripen', 'ripened', 'ripple', 'ripples', 'rise', 'rises', 'rising', 'roadworks', 'roast', 'roasted', 'roasting', 'roasty', 'robinsons', 'robust', 'robustly', 'rocher', 'rock', 'rocket', 'rockpool', 'rocks', 'roles', 'roll', 'rolled', 'rolling', 'rolls', 'rolos', 'room', 'rooms', 'root', 'roots', 'rooty', 'rope', 'ropes', 'rose', 'rosebank', 'rosemary', 'roses', 'rosewater', 'rosin', 'rosy', 'rot', 'rotund', 'roulade', 'round', 'rounded', 'rounder', 'roundness', 'rounds', 'rubbed', 'rubber', 'rubbery', 'rugged', 'rum', 'rummy', 'run', 'running', 'runny', 'runs', 'rush', 'rusks', 'rutter', 'rye', 'ryvita', 'sacks', 'saddle', 'saffron', 'sage', 'salad', 'salami', 'saline', 'salinity', 'salmon', 'salnity', 'salsa', 'salt', 'salted', 'saltiness', 'salts', 'salty', 'samba', 'same', 'samphire', 'sample', 'sand', 'sandalwood', 'sanded', 'sandlewood', 'sandwich', 'sandwiches', 'sandy', 'sap', 'sat', 'satay', 'sateen', 'satisfy', 'satisfying', 'satsuma', 'satsumas', 'sauce', 'saucepan', 'sausage', 'sauternes', 'sauvignon', 'savour', 'savoury', 'saw', 'sawdust', 'sawed', 'sawn', 'say', 'says', 'scatter', 'scattered', 'scattering', 'scene', 'scent', 'scented', 'scents', 'school', 'scoffing', 'scone', 'scones', 'scoop', 'scoopfuls', 'scoops', 'scorched', 'scotch', 'scottish', 'scrambled', 'scrolls', 'scrub', 'se', 'sea', 'seafood', 'searching', 'seasalt', 'seashell', 'seashells', 'seashore', 'seaside', 'seasoned', 'seasoning', 'seaspray', 'seattle', 'seawater', 'seaweed', 'seaweedy', 'second', 'seductive', 'seed', 'seeded', 'seedless', 'seeds', 'seedy', 'seem', 'seems', 'seen', 'seeping', 'seeps', 'segment', 'segments', 'sel', 'selection', 'semi', 'semolina', 'sensation', 'sense', 'senses', 'separate', 'serge', 'serious', 'seriously', 'serrano', 'serve', 'sesame', 'set', 'settle', 'settles', 'seville', 'shape', 'shards', 'share', 'sharp', 'sharpenings', 'sharper', 'sharpness', 'shatter', 'shaved', 'shaving', 'shavings', 'shed', 'sheds', 'shell', 'shellfish', 'shells', 'sherbert', 'sherbet', 'sherbets', 'sherried', 'sherry', 'shifting', 'shifts', 'shine', 'shines', 'shining', 'ship', 'ships', 'shoe', 'shop', 'shops', 'shore', 'shoreline', 'shores', 'short', 'shortbread', 'shortcrust', 'shortly', 'shot', 'should', 'shout', 'shovel', 'shovelful', 'shovelfuls', 'show', 'showing', 'shows', 'shredded', 'shreddies', 'shrouded', 'shrouds', 'shy', 'sickly', 'side', 'sightly', 'sign', 'signature', 'silky', 'silvery', 'similar', 'similarity', 'simmer', 'simmered', 'simmering', 'simmers', 'simple', 'simultaneously', 'since', 'sing', 'singed', 'single', 'sinuses', 'sit', 'sits', 'sitting', 'skin', 'skins', 'slab', 'slabs', 'slated', 'slathered', 'slice', 'sliced', 'slices', 'slick', 'slight', 'slightest', 'slightly', 'slivers', 'sloe', 'slow', 'slowly', 'smack', 'small', 'smattering', 'smeared', 'smell', 'smelling', 'smells', 'smidge', 'smidgen', 'smidgeon', 'smith', 'smoke', 'smoked', 'smokehouse', 'smokey', 'smokier', 'smokiest', 'smokiness', 'smoking', 'smoky', 'smooth', 'smoother', 'smoothness', 'smothers', 'smouldering', 'snacks', 'snap', 'snaps', 'sneak', 'sneaking', 'sneaks', 'sneaky', 'sniff', 'sniffs', 'snifter', 'snubbed', 'snuffed', 'so', 'soaked', 'soap', 'soapiness', 'soapy', 'soda', 'sodabread', 'soft', 'soften', 'softened', 'softens', 'softer', 'softly', 'softness', 'soil', 'soldiers', 'solely', 'solid', 'some', 'somebody', 'somehow', 'someone', 'something', 'somewhat', 'somewhere', 'soon', 'sooo', 'soooooo', 'soot', 'sootiness', 'sooty', 'sophisticated', 'sophistication', 'sorbet', 'sort', 'sorts', 'souchong', 'soufflé', 'soul', 'sound', 'sounds', 'soup', 'soupcon', 'sour', 'sourdough', 'soured', 'sourness', 'southern', 'soy', 'spades', 'spanish', 'spare', 'spark', 'sparkler', 'sparklers', 'sparkles', 'sparkling', 'sparks', 'spearmint', 'specifically', 'speechless', 'spent', 'speyside', 'speysider', 'spice', 'spiced', 'spices', 'spiciness', 'spicy', 'spine', 'spirit', 'spirity', 'splash', 'splashes', 'splendid', 'split', 'sponge', 'spongecake', 'spoonful', 'spoonfuls', 'spotlight', 'spray', 'sprayed', 'spread', 'sprig', 'sprightly', 'spring', 'springbank', 'springy', 'sprinkle', 'sprinkled', 'sprinkles', 'sprinkling', 'spritz', 'spruce', 'spun', 'squash', 'squashed', 'squeeze', 'squeezed', 'squidgy', 'st', 'stable', 'stack', 'stacks', 'stage', 'stalk', 'stalks', 'stallions', 'stand', 'standing', 'stands', 'star', 'starburst', 'starfruit', 'start', 'starting', 'starts', 'state', 'states', 'stave', 'staves', 'stawberries', 'stays', 'steak', 'steam', 'steamed', 'steeped', 'stem', 'stemmy', 'stew', 'stewed', 'stewing', 'stfcs', 'stick', 'sticking', 'sticks', 'sticky', 'still', 'stills', 'stilton', 'stimulating', 'stock', 'stone', 'stonefruit', 'stones', 'stony', 'stood', 'stops', 'storm', 'stormy', 'story', 'stout', 'stove', 'straight', 'strange', 'straw', 'strawberries', 'strawberry', 'stray', 'streaks', 'streaky', 'strength', 'strepsils', 'strike', 'striking', 'strips', 'strong', 'stronger', 'strongly', 'stroopwafel', 'stroopwafels', 'struck', 'structured', 'strudel', 'struggling', 'studded', 'stuff', 'stuffed', 'stuffing', 'stunning', 'sturdy', 'style', 'styled', 'stylish', 'subdued', 'sublime', 'sublimely', 'substance', 'substratum', 'subsumed', 'subtle', 'subtlest', 'subtlety', 'subtly', 'succulent', 'such', 'suede', 'sufficiently', 'sugar', 'sugarcane', 'sugared', 'sugars', 'sugary', 'suggestion', 'suggestions', 'suggests', 'sulphur', 'sulphured', 'sulphurous', 'sulphury', 'sultana', 'sultanas', 'sum', 'summer', 'summery', 'sumptuous', 'sun', 'sunbaked', 'sunflower', 'sunny', 'sunshine', 'super', 'superb', 'superbly', 'supple', 'support', 'supported', 'supporting', 'supports', 'supremacy', 'supreme', 'surce', 'sure', 'surely', 'surface', 'surfaces', 'surge', 'surprising', 'surprisingly', 'surrealist', 'surround', 'surrounded', 'surrounding', 'surrounds', 'sushi', 'sustaining', 'swathes', 'sweaty', 'swedish', 'sweet', 'sweetcorn', 'sweeten', 'sweetened', 'sweeter', 'sweetest', 'sweetie', 'sweeties', 'sweetly', 'sweetness', 'sweetpea', 'sweets', 'swept', 'swiftly', 'swirl', 'swirling', 'swirls', 'swiss', 'switches', 'switching', 'symphony', 'synthetic', 'syrup', 'syrupy', 'tabac', 'table', 'tablespoons', 'tablet', 'tackle', 'tad', 'tahini', 'tail', 'take', 'takes', 'taking', 'talisker', 'taliskers', 'tallow', 'tamarind', 'tang', 'tangerine', 'tangerines', 'tangs', 'tangy', 'tanned', 'tannic', 'tannin', 'tannins', 'tantalising', 'tapenade', 'tapestry', 'tar', 'taragon', 'tarmac', 'tarragon', 'tarred', 'tarry', 'tart', 'tarte', 'tartness', 'tarts', 'taste', 'tasted', 'tasteful', 'tastefully', 'tastic', 'tasting', 'tasty', 'tatin', 'tcp', 'tea', 'teabags', 'teacake', 'teacakes', 'teas', 'tease', 'teaspoon', 'teeth', 'tell', 'temper', 'tempered', 'tempers', 'tempting', 'ten', 'tequila', 'teriyaki', 'terrific', 'territory', 'terry', 'tertiary', 'test', 'textbook', 'texture', 'textured', 'than', 'that', 'the', 'their', 'them', 'theme', 'themselves', 'then', 'there', 'thereof', 'these', 'they', 'thick', 'thickly', 'thin', 'thing', 'things', 'think', 'thinking', 'thins', 'this', 'thistle', 'thoroughly', 'those', 'though', 'thousand', 'through', 'throughout', 'throw', 'thrown', 'thyme', 'tickle', 'tides', 'tiffin', 'tiger', 'tight', 'time', 'tin', 'tincture', 'tinge', 'tinged', 'tingles', 'tingling', 'tinned', 'tip', 'tiramisu', 'tire', 'tires', 'to', 'toast', 'toasted', 'toastiness', 'toasty', 'tobacco', 'toblerone', 'toby', 'toddy', 'toe', 'toffe', 'toffee', 'toffeed', 'toffees', 'together', 'tokaji', 'tom', 'tomato', 'tomatoes', 'tomes', 'tone', 'tones', 'tonic', 'too', 'top', 'topical', 'topped', 'topping', 'torn', 'tot', 'totally', 'tots', 'touch', 'touches', 'tough', 'tow', 'toward', 'towards', 'trace', 'traces', 'track', 'traditional', 'traditionally', 'trailing', 'trainers', 'transforms', 'trappist', 'travel', 'tray', 'treacle', 'treacly', 'treat', 'treated', 'treats', 'tree', 'trees', 'tremendously', 'trick', 'trickle', 'tried', 'trifle', 'triggers', 'triple', 'tropical', 'true', 'truffle', 'truffles', 'truly', 'try', 'tuck', 'tucked', 'tulip', 'tulips', 'tumeric', 'tunnock', 'tunnocks', 'turbinado', 'turf', 'turkish', 'turmeric', 'turn', 'turned', 'turnover', 'turnovers', 'turns', 'twelve', 'twirling', 'twist', 'twix', 'two', 'typical', 'typically', 'tyres', 'ultimately', 'umami', 'umeshu', 'un', 'unbelievably', 'uncover', 'unctuous', 'under', 'undercurrent', 'undergrowth', 'underlay', 'underling', 'underlying', 'underneath', 'underpin', 'underpinned', 'underpinning', 'underpins', 'underripe', 'underscored', 'understandably', 'understated', 'undertone', 'undertones', 'unearths', 'unexpected', 'unhinged', 'unique', 'uniqueness', 'universal', 'unlike', 'unlit', 'unlocks', 'unmistakable', 'unmistakably', 'unpeated', 'unpleasant', 'unpleasantly', 'unrefined', 'unripe', 'unroasted', 'unsurprising', 'unsurprisingly', 'until', 'unusual', 'unveils', 'unwrapped', 'up', 'upfront', 'uplifting', 'upon', 'upset', 'upside', 'urbane', 'urge', 'us', 'use', 'used', 'utterly', 'vague', 'vaguely', 'valentin', 'van', 'vanilla', 'vanillas', 'vapours', 'varied', 'varieties', 'variety', 'various', 'varnich', 'varnish', 'varnished', 'vast', 've', 'vegetables', 'vegetal', 'veil', 'veiled', 'vein', 'velvet', 'velvety', 'venerable', 'venison', 'vera', 'verbena', 'verde', 'veritable', 'vermouth', 'version', 'very', 'vibe', 'vibrancy', 'vibrant', 'vibrantly', 'victoria', 'vie', 'viennese', 'vine', 'vinegar', 'vines', 'vinous', 'vintage', 'violet', 'violets', 'violin', 'virgin', 'viscous', 'vivacious', 'vivid', 'voluptuous', 'wafer', 'wafers', 'waffles', 'waft', 'wafting', 'wafts', 'walk', 'walking', 'wallace', 'wallpaper', 'walnut', 'walnuts', 'waltz', 'want', 'wanted', 'warehouse', 'warehouses', 'warm', 'warmer', 'warming', 'warms', 'warmth', 'warns', 'warp', 'was', 'wasabi', 'washback', 'washed', 'wasps', 'water', 'watering', 'watermelon', 'wave', 'waves', 'wax', 'waxed', 'waxiness', 'waxy', 'waxyness', 'way', 'ways', 'we', 'wealth', 'weaves', 'wedding', 'wee', 'week', 'weetabix', 'weighty', 'welcome', 'welcomes', 'welcoming', 'well', 'wells', 'wemyss', 'wensleydale', 'were', 'werther', 'wet', 'whack', 'what', 'wheat', 'wheats', 'when', 'where', 'which', 'whiff', 'whiffs', 'while', 'whilst', 'whimsical', 'whip', 'whipped', 'whippy', 'whips', 'whirling', 'whirls', 'whiskies', 'whisky', 'whisper', 'whispers', 'whit', 'white', 'who', 'whole', 'wholemeal', 'why', 'wild', 'wildflower', 'wildflowers', 'will', 'william', 'williams', 'wind', 'window', 'wine', 'winegums', 'wines', 'winesky', 'winey', 'winter', 'wisp', 'wisps', 'with', 'within', 'without', 'woah', 'won', 'wonderful', 'wonderfully', 'wood', 'woodchip', 'wooden', 'woodiness', 'woodland', 'woods', 'woodshed', 'woodsheds', 'woodsmoke', 'woodsy', 'woody', 'working', 'works', 'workshop', 'worn', 'would', 'woven', 'wow', 'wowsers', 'wrapped', 'written', 'ximenez', 'ximénez', 'xo', 'yamazaki', 'yeah', 'year', 'years', 'yeast', 'yeasty', 'yellow', 'yep', 'yes', 'yet', 'yoghurt', 'yogurt', 'yolky', 'you', 'young', 'younger', 'your', 'yourself', 'youth', 'youthful', 'youthfulness', 'yum', 'yumminess', 'yummy', 'zest', 'zested', 'zestiness', 'zests', 'zesty', 'zing', 'zinging', 'zingy', 'zip', 'ágrain', 'ámedium', 'éclair']\n"
                    ]
                }
            ],
            "metadata": {}
        },
        {
            "cell_type": "code",
            "execution_count": null,
            "source": [],
            "outputs": [],
            "metadata": {}
        }
    ],
    "metadata": {
        "orig_nbformat": 4,
        "language_info": {
            "name": "python",
            "version": "3.8.11",
            "mimetype": "text/x-python",
            "codemirror_mode": {
                "name": "ipython",
                "version": 3
            },
            "pygments_lexer": "ipython3",
            "nbconvert_exporter": "python",
            "file_extension": ".py"
        },
        "kernelspec": {
            "name": "python3",
            "display_name": "Python 3.8.11 64-bit ('sb_cpstone3': conda)"
        },
        "interpreter": {
            "hash": "0377a9459ab4ae7ce6f89acc0b0aff97180940e4bf254eaf95eac83f6f0eec7f"
        }
    },
    "nbformat": 4,
    "nbformat_minor": 2
}