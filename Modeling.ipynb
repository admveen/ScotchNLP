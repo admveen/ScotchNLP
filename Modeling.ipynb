{
 "cells": [
  {
   "cell_type": "code",
   "execution_count": 37,
   "metadata": {},
   "outputs": [],
   "source": [
    "# import necessary packages\n",
    "\n",
    "import pickle\n",
    "import pandas as pd\n",
    "import numpy as np\n",
    "import matplotlib.pyplot as plt\n",
    "import ast\n",
    "import re\n",
    "import seaborn as sns\n",
    "\n",
    "from gensim.corpora.dictionary import Dictionary\n",
    "from gensim.models import LdaModel\n",
    "\n",
    "from gensim.models.coherencemodel import CoherenceModel\n",
    "import pyLDAvis\n",
    "from  pyLDAvis import gensim_models\n",
    "\n",
    "from gensim.similarities import MatrixSimilarity\n",
    "\n",
    "import sys\n",
    "sys.path.append(\"src\\\\\")\n",
    "# custom recommendation class\n",
    "from ScotchRecommender import Scotch_Recommender\n",
    "\n"
   ]
  },
  {
   "cell_type": "code",
   "execution_count": 2,
   "metadata": {},
   "outputs": [],
   "source": [
    "# load unified token data\n",
    "whisk_interdf_path = \"data\\\\interim\\\\whisk_unified_tokenized.csv\"\n",
    "whisk_data = pd.read_csv(whisk_interdf_path)"
   ]
  },
  {
   "cell_type": "code",
   "execution_count": 3,
   "metadata": {},
   "outputs": [
    {
     "name": "stdout",
     "output_type": "stream",
     "text": [
      "Dictionary(477 unique tokens: ['barley', 'butter', 'cereal', 'cut_grass', 'fruit']...)\n"
     ]
    }
   ],
   "source": [
    "# load reduced gensim dict\n",
    "reduced_gensim_dict_path = \"dictionaries\\\\reduced_gemsimdict_unified.pkl\"\n",
    "reduced_gensim_dict = pickle.load(open(reduced_gensim_dict_path, 'rb'))\n",
    "print(reduced_gensim_dict)"
   ]
  },
  {
   "cell_type": "code",
   "execution_count": 4,
   "metadata": {},
   "outputs": [
    {
     "data": {
      "text/html": [
       "<div>\n",
       "<style scoped>\n",
       "    .dataframe tbody tr th:only-of-type {\n",
       "        vertical-align: middle;\n",
       "    }\n",
       "\n",
       "    .dataframe tbody tr th {\n",
       "        vertical-align: top;\n",
       "    }\n",
       "\n",
       "    .dataframe thead th {\n",
       "        text-align: right;\n",
       "    }\n",
       "</style>\n",
       "<table border=\"1\" class=\"dataframe\">\n",
       "  <thead>\n",
       "    <tr style=\"text-align: right;\">\n",
       "      <th></th>\n",
       "      <th>tokens</th>\n",
       "    </tr>\n",
       "    <tr>\n",
       "      <th>name</th>\n",
       "      <th></th>\n",
       "    </tr>\n",
       "  </thead>\n",
       "  <tbody>\n",
       "    <tr>\n",
       "      <th>Singleton of Dufftown 12 Year Old</th>\n",
       "      <td>[orange_zest, malty_core, nut, oak, toffee, cu...</td>\n",
       "    </tr>\n",
       "    <tr>\n",
       "      <th>The GlenDronach 18 Year Old Allardice</th>\n",
       "      <td>[christmas_cake, rum, chocolate, hazelnut, run...</td>\n",
       "    </tr>\n",
       "    <tr>\n",
       "      <th>Lagavulin 2005 (bottled 2020) Pedro Ximénez Cask Finish - Distillers Edition</th>\n",
       "      <td>[date, prune, almond, bonfire, smoke, toffee, ...</td>\n",
       "    </tr>\n",
       "    <tr>\n",
       "      <th>Glenfarclas 15 Year Old</th>\n",
       "      <td>[raisin, sherry, orange_peel, walnut, date, in...</td>\n",
       "    </tr>\n",
       "    <tr>\n",
       "      <th>Darkness 8 Year Old</th>\n",
       "      <td>[amaretti, biscuit, subtly, toast, power, rais...</td>\n",
       "    </tr>\n",
       "  </tbody>\n",
       "</table>\n",
       "</div>"
      ],
      "text/plain": [
       "                                                                                               tokens\n",
       "name                                                                                                 \n",
       "Singleton of Dufftown 12 Year Old                   [orange_zest, malty_core, nut, oak, toffee, cu...\n",
       "The GlenDronach 18 Year Old Allardice               [christmas_cake, rum, chocolate, hazelnut, run...\n",
       "Lagavulin 2005 (bottled 2020) Pedro Ximénez Cas...  [date, prune, almond, bonfire, smoke, toffee, ...\n",
       "Glenfarclas 15 Year Old                             [raisin, sherry, orange_peel, walnut, date, in...\n",
       "Darkness 8 Year Old                                 [amaretti, biscuit, subtly, toast, power, rais..."
      ]
     },
     "execution_count": 4,
     "metadata": {},
     "output_type": "execute_result"
    }
   ],
   "source": [
    "cols_to_keep = ['name', 'token_unified']\n",
    "unitoken_df = whisk_data[cols_to_keep].set_index('name')\n",
    "\n",
    "# entries in token_unified are strings. Literal evaluate to get this back into list of strings\n",
    "attr_listed = [ast.literal_eval(row) for row in unitoken_df['token_unified'] ] \n",
    "unitoken_df['tokens'] = attr_listed\n",
    "# get rid of original token unified column\n",
    "unitoken_df.drop(columns = ['token_unified'], inplace = True)\n",
    "unitoken_df.head()"
   ]
  },
  {
   "cell_type": "markdown",
   "metadata": {},
   "source": [
    "Create gensim corpus from reduced dictionary set."
   ]
  },
  {
   "cell_type": "code",
   "execution_count": 5,
   "metadata": {},
   "outputs": [],
   "source": [
    "corpus = [reduced_gensim_dict.doc2bow(doc) for doc in unitoken_df.tokens]"
   ]
  },
  {
   "cell_type": "code",
   "execution_count": 6,
   "metadata": {},
   "outputs": [],
   "source": [
    "# lets pickle the whisky descriptor corpus (reference dictionary is reduced_gensim_dict):\n",
    "pickle.dump(corpus, open('data\\\\final\\\\descriptor_corpus.pkl', 'wb'))"
   ]
  },
  {
   "cell_type": "markdown",
   "metadata": {},
   "source": [
    "Of course, one of the big issues is that it's not clear what the best number of topics is a priori and whether the topics that an LDA model fits to are actually meaningful. We can use coherence measures (i.e. an aggregation of pairwise correlations between members of a topic as one measure). This can have some issues but its a way of putting a number on estimating topic coherence.\n",
    "\n",
    "There are also other hyperparameters such as the alpha vector for the Dirichlet distribution."
   ]
  },
  {
   "cell_type": "code",
   "execution_count": 116,
   "metadata": {},
   "outputs": [
    {
     "name": "stdout",
     "output_type": "stream",
     "text": [
      "[(2, 0.2993272541832943), (3, 0.3136807900071163), (4, 0.35908733130685), (5, 0.3735726377031539), (6, 0.37486755012748624), (7, 0.37267587961541854), (8, 0.3534713379917902), (9, 0.37798863377144926), (10, 0.3707958121442076), (11, 0.37322423256263304), (12, 0.34913368873656414), (13, 0.3602244146876927), (14, 0.36407616003603377), (15, 0.3640611499931736), (16, 0.3632675135810002), (17, 0.36519366154047733), (18, 0.3577528042053702), (19, 0.36248111014751244)]\n"
     ]
    }
   ],
   "source": [
    "# let's loop to extract the best hyperparameters and get the topic model coherence score for each hyperparameter set.\n",
    "model_coherence_list = []\n",
    "for topic_num in range(2,20, 1):\n",
    "    # our LDA model\n",
    "    scotch_topic_model = LdaModel(corpus = corpus, num_topics = topic_num, random_state=100,  id2word = reduced_gensim_dict, passes = 10, alpha = 'auto' )\n",
    "\n",
    "    # coherence model wrapper\n",
    "    cm = CoherenceModel(model=scotch_topic_model, texts= unitoken_df.tokens, coherence = 'c_v')\n",
    "    model_coherence_list.append((topic_num, cm.get_coherence()))\n",
    "    \n",
    "print(model_coherence_list)\n"
   ]
  },
  {
   "cell_type": "code",
   "execution_count": 118,
   "metadata": {},
   "outputs": [
    {
     "data": {
      "image/png": "[encoded data removed]",
      "text/plain": [
       "<Figure size 432x288 with 1 Axes>"
      ]
     },
     "metadata": {
      "needs_background": "light"
     },
     "output_type": "display_data"
    }
   ],
   "source": [
    "# plot model coherence score vs number of topics\n",
    "unzipped_coherence_list = list(zip(*model_coherence_list))\n",
    "plt.plot(unzipped_coherence_list[0], unzipped_coherence_list[1], c = 'b', linewidth = 2 )\n",
    "plt.axvline(x = 6, c ='r', linestyle = '--')\n",
    "plt.annotate('Optimal num. topics', xy = (6.3, 0.30), c ='r')\n",
    "plt.title('LDA coherence score vs. number of topics')\n",
    "plt.xlabel('Number of topics')\n",
    "plt.ylabel('Coherence score ($c_v$)')\n",
    "plt.xticks(np.arange(2,20, 2))\n",
    "model_image_path = \"images\\\\Modeling\\\\\"\n",
    "plt.savefig(model_image_path +'LDA_coherence.jpg', dpi = 300)\n",
    "plt.show()\n"
   ]
  },
  {
   "cell_type": "code",
   "execution_count": 120,
   "metadata": {},
   "outputs": [],
   "source": [
    "scotch_topic_model = LdaModel(corpus = corpus, num_topics = 6, random_state= 100,  id2word = reduced_gensim_dict, passes = 10, alpha = 'auto' )"
   ]
  },
  {
   "cell_type": "code",
   "execution_count": 121,
   "metadata": {},
   "outputs": [
    {
     "data": {
      "text/plain": [
       "[(0,\n",
       "  '0.049*\"chocolate\" + 0.042*\"fruit\" + 0.041*\"raisin\" + 0.028*\"sherry\" + 0.026*\"cinnamon\" + 0.025*\"oak\" + 0.022*\"dark_chocolate\" + 0.021*\"rich\" + 0.017*\"spice\" + 0.016*\"clove\" + 0.015*\"cherry\" + 0.015*\"date\" + 0.015*\"coffee\" + 0.015*\"orange\" + 0.014*\"ginger\" + 0.013*\"sweet\" + 0.013*\"orange_peel\" + 0.012*\"sultana\" + 0.012*\"dark\" + 0.010*\"cake\" + 0.009*\"walnut\" + 0.009*\"plum\" + 0.008*\"treacle\" + 0.008*\"toffee\" + 0.008*\"brown_sugar\" + 0.008*\"red\" + 0.008*\"juicy\" + 0.008*\"caramel\" + 0.007*\"honey\" + 0.007*\"thick\"'),\n",
       " (1,\n",
       "  '0.033*\"vanilla\" + 0.030*\"oak\" + 0.027*\"barley\" + 0.024*\"malt\" + 0.023*\"honey\" + 0.022*\"fresh\" + 0.019*\"chocolate\" + 0.018*\"sweet\" + 0.016*\"butter\" + 0.016*\"apple\" + 0.015*\"citrus\" + 0.014*\"lemon\" + 0.014*\"floral\" + 0.013*\"cinnamon\" + 0.012*\"peel\" + 0.012*\"grass\" + 0.011*\"sugar\" + 0.011*\"cream\" + 0.011*\"orange\" + 0.011*\"apricot\" + 0.010*\"spice\" + 0.010*\"pear\" + 0.010*\"almond\" + 0.010*\"caramel\" + 0.010*\"toasted\" + 0.009*\"earth\" + 0.009*\"finish\" + 0.009*\"peach\" + 0.009*\"biscuit\" + 0.008*\"white\"'),\n",
       " (2,\n",
       "  '0.071*\"sweet\" + 0.058*\"fruit\" + 0.037*\"spice\" + 0.031*\"vanilla\" + 0.029*\"oak\" + 0.024*\"long\" + 0.023*\"citrus\" + 0.020*\"rich\" + 0.020*\"cream\" + 0.018*\"finish\" + 0.016*\"fresh\" + 0.016*\"wood\" + 0.016*\"floral\" + 0.016*\"toffee\" + 0.015*\"gentle\" + 0.014*\"soft\" + 0.012*\"aroma\" + 0.011*\"orange\" + 0.011*\"light\" + 0.010*\"honey\" + 0.009*\"zest\" + 0.009*\"malt\" + 0.008*\"flavour\" + 0.008*\"green\" + 0.008*\"nutty\" + 0.008*\"caramel\" + 0.008*\"tannin\" + 0.008*\"smoke\" + 0.008*\"dark\" + 0.008*\"pepper\"'),\n",
       " (3,\n",
       "  '0.045*\"malt\" + 0.040*\"fruit\" + 0.039*\"sweet\" + 0.032*\"spice\" + 0.028*\"rich\" + 0.027*\"oak\" + 0.027*\"apple\" + 0.025*\"toffee\" + 0.024*\"long\" + 0.022*\"barley\" + 0.020*\"cream\" + 0.019*\"vanilla\" + 0.018*\"finish\" + 0.017*\"sherry\" + 0.016*\"pepper\" + 0.014*\"honey\" + 0.014*\"thick\" + 0.013*\"oil\" + 0.012*\"soft\" + 0.012*\"butter\" + 0.012*\"spiced\" + 0.012*\"peel\" + 0.011*\"smoke\" + 0.010*\"allspice\" + 0.009*\"cocoa\" + 0.008*\"cereal\" + 0.008*\"cinnamon\" + 0.008*\"manuka_honey\" + 0.008*\"good_length\" + 0.008*\"custard\"'),\n",
       " (4,\n",
       "  '0.103*\"smoke\" + 0.071*\"peat\" + 0.032*\"sweet\" + 0.024*\"coastal\" + 0.023*\"salt\" + 0.021*\"earth\" + 0.020*\"meat\" + 0.020*\"peat_smoke\" + 0.018*\"sea_salt\" + 0.014*\"oil\" + 0.012*\"lemon\" + 0.012*\"finish\" + 0.012*\"seaweed\" + 0.011*\"oak\" + 0.010*\"sea_breeze\" + 0.010*\"pepper\" + 0.010*\"ash\" + 0.010*\"black_pepper\" + 0.009*\"bonfire\" + 0.009*\"barley\" + 0.009*\"toasted\" + 0.008*\"citrus\" + 0.008*\"long\" + 0.008*\"savoury\" + 0.008*\"vanilla\" + 0.008*\"apple\" + 0.008*\"maritime\" + 0.008*\"caramel\" + 0.008*\"waft\" + 0.008*\"iodine\"'),\n",
       " (5,\n",
       "  '0.044*\"apple\" + 0.038*\"fruit\" + 0.037*\"vanilla\" + 0.035*\"oak\" + 0.030*\"spice\" + 0.028*\"cream\" + 0.028*\"cinnamon\" + 0.022*\"sweet\" + 0.018*\"orange\" + 0.018*\"red\" + 0.018*\"malt\" + 0.018*\"caramel\" + 0.017*\"nut\" + 0.016*\"tart\" + 0.015*\"pear\" + 0.014*\"berry\" + 0.014*\"fresh\" + 0.014*\"nutmeg\" + 0.014*\"ginger\" + 0.013*\"jam\" + 0.013*\"baking_spice\" + 0.013*\"custard\" + 0.012*\"milk_chocolate\" + 0.012*\"toffee\" + 0.011*\"honey\" + 0.011*\"plum\" + 0.011*\"pepper\" + 0.011*\"chocolate\" + 0.010*\"lot\" + 0.010*\"finish\"')]"
      ]
     },
     "execution_count": 121,
     "metadata": {},
     "output_type": "execute_result"
    }
   ],
   "source": [
    "scotch_topic_model.show_topics(num_words=30)"
   ]
  },
  {
   "cell_type": "code",
   "execution_count": 122,
   "metadata": {},
   "outputs": [],
   "source": [
    "vis = gensim_models.prepare(scotch_topic_model, corpus, reduced_gensim_dict, sort_topics = False)\n",
    "pyLDAvis.display(vis)\n",
    "pyLDAvis.save_html(vis, 'lda.html')"
   ]
  },
  {
   "cell_type": "markdown",
   "metadata": {},
   "source": [
    "Picking the optimal number of topics is not straightforward. The coherence score is just a guide. Ultimately, it depends on what you are going for. In some cases, overlap between topics with increased topic number can be tolerated. In other cases, we want as few topics as is practical. In either case, there are risks of losing some degree of interpretability.\n",
    "\n",
    "In our case, we went for the model recommended by the coherence score. \n",
    "\n",
    "Let's look at this visualization at different values of relevance. At values of lambda = 1, we see that a common descriptor set tends to pile up at the highest saliency in all the topics. \"Vanilla\", \"sweet\", \"oak\", \"fruit\", \"malt\", \"barley\", etc. are examples of such ultra-common descriptors tht seem to be a unifying descriptor set for Scotch. We saw these same descriptors as the most frequent across Scotch regions during EDA. It's not too surprising that these words appear prelevantly in many of the descriptor topic groupings.\n",
    "\n",
    "Looking at lower ranges values of relevance, we see that each topic has real differences and in ways that actually make some sense in terms of tastes.\n",
    "\n",
    "Number in brackets are the index of each topic in the gensim model.\n",
    "\n",
    "1. Topic 1 [0]: Sweet, rich, spiced christmas flavors with a mix of nuts, berries, aromatice spice, and dark chocolate. These are dark flavors.\n",
    "2. Topic 2 [1]: Citrus and floral with cream, malty notes.\n",
    "3. Topic 3 [2]: Herbal, tannin, citrus, wood. Drier notes.\n",
    "4. Topic 4 [3]: Wood, smoke, and pepper/heat. But also combined with cream and custard. Richness.\n",
    "5. Topic 5 [4]: Smoke, peat, salt, meat. All the savoury notes.\n",
    "6. Topic 6 [5]: Berries, sweet chocolate, jam, fruits, tartness but sweet.\n",
    "\n",
    "\n",
    "A quick exploration of the visual shows that many of these topics are meaningful and interpretable but that there are some confused descriptors that one might think would belong in a different topic. The topics are not as clean as one might hope. But the topics do line up with the kinds of thing we were seeing in Correspondence Analysis which is good. We expected the categories to be more of a continuum rather than disjoint descriptions. Getting better results might mean twiddling with the topic number a little, or just iterating over several random initializations, or going back to corpus building and further tailoring the stop word list and stemming/lemmatizing. \n",
    "\n",
    "For this project, we'll stick with this model for now and see where it takes us.\n"
   ]
  },
  {
   "cell_type": "code",
   "execution_count": 123,
   "metadata": {},
   "outputs": [],
   "source": [
    "doc_lda_decomp = scotch_topic_model[corpus] # for each document (scotch) creates a list of tuples for each scotch with the topic (taste type) and its relative importance."
   ]
  },
  {
   "cell_type": "markdown",
   "metadata": {},
   "source": [
    "This gives us a numeric breakdown of each scotch across different relevant taste/smell types as represented by the topics found by LDA. This is what we wanted and was something that the descriptor-scotch joint embedding via Correspondence Analysis could not give us.\n",
    "\n",
    "Let's do a sanity check and see what we get for some well known Scotches:"
   ]
  },
  {
   "cell_type": "markdown",
   "metadata": {},
   "source": [
    "1. Ardbeg 10 Year Old"
   ]
  },
  {
   "cell_type": "code",
   "execution_count": 113,
   "metadata": {},
   "outputs": [
    {
     "name": "stdout",
     "output_type": "stream",
     "text": [
      "62\n"
     ]
    },
    {
     "data": {
      "text/plain": [
       "[(1, 0.013747543), (2, 0.42268798), (4, 0.544057)]"
      ]
     },
     "execution_count": 113,
     "metadata": {},
     "output_type": "execute_result"
    }
   ],
   "source": [
    "doc_num = whisk_data[whisk_data['name'] == 'Ardbeg 10 Year Old'].index[0]\n",
    "print(doc_num)\n",
    "doc_lda_decomp[doc_num]"
   ]
  },
  {
   "cell_type": "markdown",
   "metadata": {},
   "source": [
    "The topic decomposition is Topic [4] which is smoke, peat, salt, meat. There is a good portion of topic [2] which is citrus, wood notes AND non taste-related words. Looking at the tokens for this Scotch shows this decomposition is reasonable:"
   ]
  },
  {
   "cell_type": "code",
   "execution_count": 124,
   "metadata": {},
   "outputs": [
    {
     "data": {
      "text/plain": [
       "array([\"['sweet', 'vanilla', 'lemon', 'lime', 'ardbeg', 'smoke', 'love', 'ridge', 'vanilla', 'mountain', 'peat', 'citrus', 'fruit', 'cloud', 'sea_spray', 'long', 'glorious', 'sea', 'caramel', 'beach_bonfire', 'smoke']\"],\n",
       "      dtype=object)"
      ]
     },
     "execution_count": 124,
     "metadata": {},
     "output_type": "execute_result"
    }
   ],
   "source": [
    "whisk_data[whisk_data['name'] == 'Ardbeg 10 Year Old'].token_unified.values"
   ]
  },
  {
   "cell_type": "markdown",
   "metadata": {},
   "source": [
    "2. Lagavulin 16 Year Old\n",
    "Lagavulin is a really complex whisky. My own impressions are that it's smoky and there is some peat but it's also dark fruit notes, chocolate, aromatics like cloves. It's definitely rich but also somehow dry and peppery. "
   ]
  },
  {
   "cell_type": "code",
   "execution_count": 12,
   "metadata": {},
   "outputs": [
    {
     "name": "stdout",
     "output_type": "stream",
     "text": [
      "16\n"
     ]
    },
    {
     "data": {
      "text/plain": [
       "[(2, 0.1358548), (3, 0.6667338), (4, 0.18491378)]"
      ]
     },
     "execution_count": 12,
     "metadata": {},
     "output_type": "execute_result"
    }
   ],
   "source": [
    "doc_num = whisk_data[whisk_data['name'] == 'Lagavulin 16 Year Old'].index[0]\n",
    "print(doc_num)\n",
    "doc_lda_decomp[doc_num]"
   ]
  },
  {
   "cell_type": "markdown",
   "metadata": {},
   "source": [
    "2 = dry, smoky, wood, citrus notes. 3 = fruit, wood, creamy, rich. 4 = peat, salt, smoke, meat.\n",
    "\n",
    "Not too shabby. We can see that there are different kinds of taste/smell types. There are strong flavors present here but there is a balance between these notes. That definitely is characteristic of Lagavulin."
   ]
  },
  {
   "cell_type": "code",
   "execution_count": 129,
   "metadata": {},
   "outputs": [
    {
     "data": {
      "text/plain": [
       "array([\"['thick', 'rich', 'massive', 'mouth', 'malt', 'sherry', 'good', 'fruit', 'sweet', 'sweet', 'big', 'power', 'peat', 'oak', 'like', 'lapsang_souchong', 'tea', 'lapsang_souchong', 'nose', 'islay_big', 'concentrated', 'redolent', 'iodine', 'sweet', 'spice', 'good', 'mature', 'sherry', 'cream', 'vanilla', 'stunning', 'long', 'finish', 'fig', 'date', 'peat', 'smoke', 'vanilla']\"],\n",
       "      dtype=object)"
      ]
     },
     "execution_count": 129,
     "metadata": {},
     "output_type": "execute_result"
    }
   ],
   "source": [
    "whisk_data[whisk_data['name'] == 'Lagavulin 16 Year Old'].token_unified.values"
   ]
  },
  {
   "cell_type": "markdown",
   "metadata": {},
   "source": [
    "Topic breakdown looks OK."
   ]
  },
  {
   "cell_type": "markdown",
   "metadata": {},
   "source": [
    "3. Glenfarclas 18 Year Old\n",
    "One of my favorite whiskies. This tastes like liquid christmas, sweetness, cinammon, spices. There's really no peat. "
   ]
  },
  {
   "cell_type": "code",
   "execution_count": 132,
   "metadata": {},
   "outputs": [
    {
     "name": "stdout",
     "output_type": "stream",
     "text": [
      "7751\n"
     ]
    },
    {
     "data": {
      "text/plain": [
       "[(0, 0.31502056), (1, 0.27825588), (5, 0.387444)]"
      ]
     },
     "execution_count": 132,
     "metadata": {},
     "output_type": "execute_result"
    }
   ],
   "source": [
    "doc_num = whisk_data[whisk_data['name'] == \"Glenfarclas 18 Year Old\"].index[0]\n",
    "print(doc_num)\n",
    "doc_lda_decomp[doc_num]"
   ]
  },
  {
   "cell_type": "markdown",
   "metadata": {},
   "source": [
    "0 = christmas flavors, nuts. 1 = citrus and fruit but rich and creamy. 5 = raisins, plum, berry"
   ]
  },
  {
   "cell_type": "code",
   "execution_count": 134,
   "metadata": {},
   "outputs": [
    {
     "name": "stdout",
     "output_type": "stream",
     "text": [
      "[\"['rich', 'toffee', 'rum_raisin', 'plum', 'warm', 'lemon', 'hazelnut', 'honeyed', 'apple', 'citrus', 'vanilla', 'sultana', 'oak']\"]\n"
     ]
    }
   ],
   "source": [
    "print(whisk_data[whisk_data['name'] == \"Glenfarclas 18 Year Old\"].token_unified.values)\n"
   ]
  },
  {
   "cell_type": "markdown",
   "metadata": {},
   "source": [
    "Topic decomposition looks reasonable."
   ]
  },
  {
   "cell_type": "markdown",
   "metadata": {},
   "source": [
    "This is alright. Let's pickle the model."
   ]
  },
  {
   "cell_type": "code",
   "execution_count": 15,
   "metadata": {},
   "outputs": [],
   "source": [
    "LDA_model_path = \"models\\\\Scotch_LDA.pkl\"\n",
    "pickle.dump(scotch_topic_model, open(LDA_model_path, 'wb'))"
   ]
  },
  {
   "cell_type": "markdown",
   "metadata": {},
   "source": [
    "Let's also construct a new dataframe with the seven topics as features. We can discard the unified_tokens or BoW representation. This can be used for higher level analytics. We can the save this:"
   ]
  },
  {
   "cell_type": "markdown",
   "metadata": {},
   "source": [
    "# Similarity measures: Content-based recommender systems"
   ]
  },
  {
   "cell_type": "code",
   "execution_count": 16,
   "metadata": {},
   "outputs": [],
   "source": [
    "index = MatrixSimilarity(doc_lda_decomp) "
   ]
  },
  {
   "cell_type": "code",
   "execution_count": 17,
   "metadata": {},
   "outputs": [],
   "source": [
    "# We'll reuse this index object for matrix similarity often for in-corpus recommendation. let's save this.\n",
    "pickle.dump(index, open('data\\\\final\\\\index_sim.pkl', 'wb'))"
   ]
  },
  {
   "cell_type": "markdown",
   "metadata": {},
   "source": [
    "## In-corpus recommendation"
   ]
  },
  {
   "cell_type": "markdown",
   "metadata": {},
   "source": [
    "We've created a class that can do in-corpus recommendations and out-of-corpus recommendations. The in-corpus recommender takes in the name of a Scotch and the number of recommendations and outputs the Scotches with the nearest cosine similarity scores. Let's evaluate the LDA-based recommender on a few scotches to see if its making reasonable recommendations."
   ]
  },
  {
   "cell_type": "code",
   "execution_count": 38,
   "metadata": {},
   "outputs": [],
   "source": [
    "rec_engine = Scotch_Recommender()"
   ]
  },
  {
   "cell_type": "code",
   "execution_count": 68,
   "metadata": {},
   "outputs": [
    {
     "name": "stdout",
     "output_type": "stream",
     "text": [
      "[\"['thick', 'rich', 'massive', 'mouth', 'malt', 'sherry', 'good', 'fruit', 'sweet', 'sweet', 'big', 'power', 'peat', 'oak', 'like', 'lapsang_souchong', 'tea', 'lapsang_souchong', 'nose', 'islay_big', 'concentrated', 'redolent', 'iodine', 'sweet', 'spice', 'good', 'mature', 'sherry', 'cream', 'vanilla', 'stunning', 'long', 'finish', 'fig', 'date', 'peat', 'smoke', 'vanilla']\"]\n",
      "Caol Ila 1995 Moscatel Cask Finish - Distillers Edition [\"['soft', 'round', 'pear', 'fruit_salad', 'earthen', 'unlit', 'cigar', 'herbal', 'gentle', 'peat_smoke', 'rich', 'great', 'fruit', 'liqueur', 'sherry', 'smoke', 'medicinal', 'tarry', 'black_pepper', 'long', 'thick', 'herbal', 'lavender', 'fennel']\"]\n",
      "Bunnahabhain 20 Year Old 1991 (cask 7957) - Directors' Cut (Douglas Laing) [\"['aniseed', 'linseed_oil', 'toasted', 'oak', 'cream', 'fudge', 'oil', 'smoke', 'bonfire', 'seafront', 'tropical', 'sweet', 'rancio', 'sherried_peel', 'serrano', 'ham', 'fresh', 'herb', 'toffee', 'sweet', 'spiced', 'star_anise', 'applewood', 'toffee', 'cherry']\"]\n",
      "Springbank 12 Year Old 1991 Bourbon Wood [\"['rich', 'punch', 'beeswax', 'solid', 'peat', 'rise', 'meat', 'kipper', 'sugar', 'aniseed', 'sweet', 'oak', 'solid', 'tannin', 'herbal', 'winter_spice', 'chilli', 'calvados', 'beeswax', 'apple', 'peel', 'cereal', 'oats', 'hay', 'finish', 'long', 'herbal', 'superb', 'integration', 'flavour']\"]\n",
      "Clynelish 23 Year Old 1988 - The Octave (Duncan Taylor) [\"['ginger', 'malt', 'sweet', 'spice', 'salty_butter', 'pepper', 'peat', 'tonic', 'water', 'butterscotch', 'apple', 'peel', 'citrus', 'tropical_fruit', 'pepper', 'gingerbread', 'lemon', 'oil', 'long']\"]\n"
     ]
    }
   ],
   "source": [
    "print(whisk_data[whisk_data['name'] == \"Lagavulin 16 Year Old\"].token_unified.values)\n",
    "for x in rec_engine.get_recommendations(\"Lagavulin 16 Year Old\", 15).values[1:5]:\n",
    "    print(x, whisk_data[whisk_data['name'] == x].token_unified.values )"
   ]
  },
  {
   "cell_type": "markdown",
   "metadata": {},
   "source": [
    "This is good. Many of these whiskies have strong flavors but can be described as balanced between peaty/salty/smoke, oak/pepper/heat, and rich fruit/chocolate/sweet notes."
   ]
  },
  {
   "cell_type": "code",
   "execution_count": 82,
   "metadata": {},
   "outputs": [
    {
     "name": "stdout",
     "output_type": "stream",
     "text": [
      "[\"['raisin', 'sherry', 'orange_peel', 'walnut', 'date', 'intense', 'power', 'sherry', 'cream', 'sherry', 'certainly', 'pedro', 'ximenez', 'peppermint', 'rancio', 'old', 'incredibly', 'long', 'complex', 'walnuts']\"]\n",
      "Tomintoul 38 Year Old 1977 (cask 3700) - Vintage Single Cask [\"['toasted', 'barley', 'orange_rind', 'fruit', 'fruit', 'malt_loaf', 'cocoa', 'oak', 'nutmeg', 'rounded', 'oak', 'spice']\"]\n",
      "Clynelish 23 Year Old 1995 (cask 11227) - Cask Strength Collection (Signatory) [\"['date', 'pecan', 'cacao', 'soft', 'smoke', 'fragrant', 'wood_smoke', 'honeyed', 'barley', 'fruit', 'rich', 'tobacco', 'peek', 'layer', 'fruit', 'peel']\"]\n",
      "Aultmore 10 Year Old 2010 (cask 800318) - The Cooper's Choice (The Vintage Malt Whisky Co.) [\"['robust', 'malt', 'dark', 'fruit', 'liquorice', 'cinnamon', 'herbal', 'mint', 'milk_chocolate', 'peanut', 'raisin', 'earthen', 'musty', 'oak', 'sweet', 'marzipan', 'herb', 'spice', 'damp', 'pepper', 'oak', 'finish']\"]\n",
      "GlenDronach 40 Year Old 1972  - Batch 7 [\"['chocolate', 'brazil_nut', 'christmas_cake', 'prune', 'juice', 'fig', 'allspice', 'dark', 'brown_sugar', 'rich', 'dark', 'aroma', 'chocolate', 'honey', 'toffee', 'apple', 'black_pepper', 'prune_juice', 'cedar', 'pipe_tobacco', 'spiced']\"]\n",
      "Bunnahabhain 1979 (Berry Bros. & Rudd) [\"['thick', 'syrup', 'lot', 'sherry', 'crème_caramel', 'rum_raisin', 'ice_cream', 'toffee', 'apple', 'sherry', 'musty', 'prune', 'apricot', 'spice', 'applewood', 'chamomile_tea', 'malt', 'liquorice', 'black_pepper', 'oak', 'sherry', 'raisin', 'caramel', 'apple_strudel']\"]\n",
      "GlenDronach 41 Year Old 1971 Batch 6 [\"['spiced', 'decadent', 'milk_chocolate', 'cocoa', 'butter', 'sultana', 'christmas_pudding', 'brandy', 'winter_spice', 'black_pepper', 'date', 'rum', 'spice', 'particularly', 'nutmeg', 'cinnamon', 'big', 'whack', 'demerara_sugar', 'fig', 'christmas_cake', 'cocoa', 'butter', 'toffee', 'long', 'beauty', 'rich', 'sweet']\"]\n",
      "Glenfarclas 1961 (cask 3056) Family Cask Spring 2015 Release [\"['theme', 'big', 'fruit', 'sweet', 'oak', 'huge', 'sherry_cask', 'influence', 'plenty', 'rich', 'sweet', 'raisin', 'oak', 'y', 'spice', 'intense']\"]\n",
      "Blair Athol 13 Year Old 2008 - Strictly Limited (Càrn Mòr) [\"['malt', 'spice', 'cocoa_powder', 'chocolate', 'raisin', 'date', 'marmalade', 'cinnamon_bun', 'fruit', 'nut', 'orange_zest', 'gingerbread', 'apple', 'honey', 'gentle', 'prick', 'pepper']\"]\n",
      "Ben Nevis 25 Year Old 1991 (cask 2379) - Cask Strength Collection (Signatory) [\"['malt', 'raisin', 'milk', 'button', 'smoke', 'blueberries', 'golden_syrup', 'banana_fritter', 'strong_coffee', 'cigar_box', 'christmas_cake', 'fig']\"]\n"
     ]
    }
   ],
   "source": [
    "\n",
    "print(whisk_data[whisk_data['name'] == \"Glenfarclas 15 Year Old\"].token_unified.values)\n",
    "for x in rec_engine.get_recommendations(\"Glenfarclas 15 Year Old\", 20).values[8:17]:\n",
    "    print(x, whisk_data[whisk_data['name'] == x].token_unified.values )"
   ]
  },
  {
   "cell_type": "markdown",
   "metadata": {},
   "source": [
    "Glenfarclas 15 is a sherried whisky with no smoke/peat. My own impressions is that it is rich with raisins, chocolate, fruits, some aromatic spices. Is a bit christmas-y. Sure enough some Macallans, older Tomintouls and Glendronachs are right at the top (which also have similar profiles). Some Dalmores and the Arberlour Abunadh are a little further down the list (older Dalmour and the Aberlour Abunadh are whiskies I'd recommend if someone liked Glenfarclas 15).\n"
   ]
  },
  {
   "cell_type": "code",
   "execution_count": 103,
   "metadata": {},
   "outputs": [
    {
     "name": "stdout",
     "output_type": "stream",
     "text": [
      "[\"['chocolate', 'fudge', 'brown_sugar', 'dark', 'fruit', 'blackberry', 'gently', 'bitter', 'rich', 'oak', 'fruit', 'galore', 'boozy', 'raisin', 'date', 'fresh', 'juicy', 'tropical', 'berry', 'jam', 'buttered', 'croissant', 'mixed', 'grape', 'tannin', 'oak', 'fruit', 'sweet', 'charred', 'wood']\"]\n",
      "Strathisla 65 Year Old 1953 - Private Collection (Gordon & MacPhail) [\"['initial', 'mature_oak', 'open', 'flavour', 'autumnal', 'berry', 'blackberry', 'blackcurrant', 'redcurrant', 'cranberry', 'crystallised_ginger', 'trace', 'dark_chocolate', 'aniseed', 'initially', 'aroma', 'fruit', 'rich', 'sherry', 'wood', 'polish', 'fruit', 'intense', 'orange', 'oil', 'spice', 'clove', 'nutmeg', 'allspice', 'subtle', 'menthol', 'edge', 'delightfully', 'balanced', 'fruit', 'oak', 'finish', 'nutty', 'subtle', 'humidor', 'edge']\"]\n",
      "The Glenrothes 25 Year Old - Soleo Collection [\"['rounded', 'malt', 'vibrant', 'cooked', 'berry', 'wine', 'sweet', 'oak', 'spice', 'mid', 'mellow', 'swiftly', 'stewed_plum', 'apple', 'polished_oak', 'furniture', 'cigar_box', 'slight', 'soft', 'smoke', 'caramelised', 'date', 'mango', 'old_leather']\"]\n",
      "Wemyss Winter Spice 1982 (Teaninich) [\"['fresh', 'vibrant', 'age', 'grass', 'herbal', 'mint', 'sweet', 'spice', 'cloved', 'orange', 'cinnamon', 'ginger', 'clove', 'sweet', 'fruit', 'demerara_sugar', 'spiced', 'marmalade', 'slowly', 'tongue']\"]\n",
      "Glen Grant 1956 (cask 4450) - Gordon & MacPhail (La Maison du Whisky 60th Anniversary) [\"['juicy', 'remarkably', 'fruit', 'sherry', 'opening', 'deep', 'furrow', 'spotlight', 'soil', 'liquorice', 'noble', 'spice', 'saffron', 'cardamom', 'head', 'floral', 'freesia', 'hyacinth', 'red', 'strawberry', 'redcurrant', 'ripe', 'fruit', 'russet', 'apple', 'apricot', 'suddenly', 'mid', 'vanilla', 'rich', 'phenomenally', 'power', 'time', 'exceptionally', 'fresh', 'initial', 'tertiary', 'aroma', 'dust', 'black', 'liquorice', 'chocolate', 'leather', 'roasted', 'fig', 'truffle', 'etc', 'slightly', 'jammy', 'blackcurrant', 'rhubarb', 'unbelievably', 'deep', 'test', 'time', 'panache', 'havana', 'cigar', 'smoke', 'aromatic', 'palette', 'long', 'silk', 'velvet', 'tannin', 'taste', 'bud', 'fruit', 'present', 'close', 'time', 'tobacco', 'raisin', 'black', 'olive', 'retro', 'nasal', 'olfaction', 'warm', 'voluminous', 'taffeta', 'silk', 'fruit', 'wild', 'strawberry', 'blueberry', 'glass', 'amazingly', 'young', 'expression', 'malted_barley']\"]\n",
      "Balvenie 50 Year Old - Marriage 0614 [\"['rich', 'lush', 'bitter', 'chocolate', 'maple_syrup', 'sweet', 'honey', 'oak', 'tannin', 'deep', 'dark', 'spice', 'rich', 'fruit', 'cake', 'lot', 'elegant', 'oak', 'sweet', 'aroma', 'fruit', 'raisin', 'sultana', 'ginger', 'rich', 'mouth', 'sweet', 'oak', 'spiced']\"]\n",
      "Glenburgie 7 Year Old 2011 - Strictly Limited (Càrn Mòr) [\"['light', 'sweet', 'winter', 'berry', 'mixed', 'fruit', 'nut', 'dark_chocolate', 'dry', 'buttered', 'malt_loaf', 'sweet', 'sherry', 'fruitcake', 'orange_peel', 'length', 'complex', 'savoury', 'malt']\"]\n"
     ]
    }
   ],
   "source": [
    "print(whisk_data[whisk_data['name'] == \"GlenDronach Port Wood\"].token_unified.values)\n",
    "for x in rec_engine.get_recommendations(\"GlenDronach Port Wood\", 20).values[1:7]:\n",
    "    print(x, whisk_data[whisk_data['name'] == x].token_unified.values )"
   ]
  },
  {
   "cell_type": "markdown",
   "metadata": {},
   "source": [
    "Glendronach Port wood is forward in berries, raisin type tastes: sweet and jammy. Some wood/heat, bitter/citrus, and creamy vanilla. Many of the whiskies on this list have similar taste profiles."
   ]
  },
  {
   "cell_type": "markdown",
   "metadata": {},
   "source": [
    "Definitely lots of berry/fruit, jam, some bitter/orange notes, some cream, etc. This is good. Finally let's finish up with something that's peaty, quite medicinal, and fiery."
   ]
  },
  {
   "cell_type": "code",
   "execution_count": 89,
   "metadata": {},
   "outputs": [
    {
     "name": "stdout",
     "output_type": "stream",
     "text": [
      "Laphroaig 10 Year Old [\"['seaweed', 'vanilla', 'ice_cream', 'whiff', 'aid', 'box', 'tcp', 'plaster', 'etc', 'oak', 'big', 'way', 'fore', 'whisky', 'tongue', 'upsurge', 'spice', 'cardamom', 'black_pepper', 'chilli', 'big', 'muscular', 'peat', 'spice', 'liquorice', 'big', 'dose', 'salt', 'whisky', 'slightly', 'sweet', 'recent', 'year', 'beauty', 'classic', 'iodine', 'plaster', 'cool_wood', 'smoke', 'big', 'savoury', 'tarry', 'iodine']\"]\n",
      "Bowmore 22 Year Old 1989 - Mission (Murray McDavid) [\"['peat', 'salt', 'floral', 'vanilla', 'zest', 'time', 'vanilla_pod', 'oatmeal', 'hay', 'heather', 'sea_air', 'lemon', 'lime', 'sea_spray', 'ream', 'smoke', 'pleasantly', 'long', 'finish']\"]\n",
      "Coastal Confection 1996 (bottled 2015) - Wemyss Malts (Bowmore) [\"['peat', 'slightly', 'coastal', 'plenty', 'fruit', 'way', 'sweet', 'n', 'peat', 'sugar', 'peel', 'fruit', 'sweetie', 'balanced', 'satisfying']\"]\n",
      "Caol Ila 20 Year Old 1995 (cask 10870) - Old Particular (Douglas Laing) [\"['salt', 'slice', 'lemon', 'pine_nut', 'toast', 'oak', 'sweet', 'slightly', 'green', 'coastal', 'peat', 'aroma', 'barley', 'heart', 'sweet', 'ash', 'coastal', 'tang']\"]\n",
      "Talisker 9 Year Old 2011 - Hepburn's Choice (Langside) [\"['marmalade', 'blackcurrant_jam', 'whiff', 'coastal', 'smoke', 'salt', 'black_pepper', 'oil', 'orange', 'citrus', 'fruit', 'sweet', 'beach_bonfire', 'smoke']\"]\n",
      "Caol Ila 7 Year Old 2008 - Strictly Limited (Càrn Mòr) [\"['gentle', 'oak', 'smoke', 'peel', 'black_pepper', 'sweet', 'rock_pool', 'brine', 'sea', 'harbour', 'rope', 'lemon', 'beach', 'meat', 'soft', 'spice', 'wisp', 'iodine', 'smoke']\"]\n",
      "Torabhaig Allt Gleann - The Legacy Series [\"['bold', 'peat', 'coastal', 'tar', 'oil', 'texture', 'roasted', 'salted', 'nut', 'light', 'fruit_salad', 'floral', 'waft', 'heather', 'fennel', 'metallic', 'medicinal', 'pepper', 'spice', 'wafts', 'wood', 'tobacco', 'crumbly', 'vanilla', 'shortbread', 'earthy_peat', 'smoke', 'zing', 'lemon_zest', 'salt', 'maritime', 'shellfish', 'sweet', 'fruit', 'apple', 'kiwi', 'vanilla', 'oak', 'big', 'hit', 'peat', 'smoke', 'sea_breeze', 'harbourside', 'character']\"]\n"
     ]
    }
   ],
   "source": [
    "print(\"Laphroaig 10 Year Old\", whisk_data[whisk_data['name'] == \"Laphroaig 10 Year Old\"].token_unified.values)\n",
    "for x in rec_engine.get_recommendations(\"Laphroaig 10 Year Old\", 20).values[1:7]:\n",
    "    print(x, whisk_data[whisk_data['name'] == x].token_unified.values )\n"
   ]
  },
  {
   "cell_type": "markdown",
   "metadata": {},
   "source": [
    "Again...pretty good. How about a citrus forward, lighter scotch? "
   ]
  },
  {
   "cell_type": "code",
   "execution_count": 90,
   "metadata": {},
   "outputs": [
    {
     "name": "stdout",
     "output_type": "stream",
     "text": [
      "The Glenlivet 12 Year Old [\"['butter', 'vanilla', 'rich', 'bright', 'fruit', 'apricot', 'pineapple', 'greengage', 'citrus_blossom', 'toasted_teacake', 'soft', 'crackle', 'oak', 'spice', 'malt', 'plus', 'red', 'apple', 'juicy']\"]\n",
      "Glenmorangie X [\"['lot', 'vanilla', 'apricot', 'apple', 'flaked', 'almond', 'later', 'honeyed', 'malt', 'lemon', 'apple', 'plus', 'nutmeg', 'oak', 'warmth', 'honeyed', 'orchard_fruit', 'theme', 'finish', 'pinch', 'peppercorn']\"]\n",
      "Tullibardine 24 Year Old 1993 (cask 12026) - Old Particular (Douglas Laing) [\"['zest', 'tropical_fruit', 'starfruit', 'mango', 'pine', 'cedar', 'porridge', 'rye_bread', 'oven', 'classic', 'herbaceous', 'spice', 'tow', 'cream', 'vanilla', 'subtle']\"]\n",
      "Tormore - Batch 2 (That Boutique-y Whisky Company) [\"['caramelised', 'orange_peel', 'fresh', 'lime', 'grapefruit', 'support', 'apple', 'golden', 'barley', 'core', 'steamed', 'marmalade', 'pudding', 'flourless', 'orange', 'cake', 'crushed', 'almond', 'apple', 'peel', 'juicy', 'barley', 'crisp', 'fruit']\"]\n",
      "Auchroisk 23 Year Old 1990 (cask 21752) (Berry Bros. & Rudd) [\"['fresh', 'fruit', 'green_apple', 'apricot', 'slightly_grassy', 'passion_fruit', 'raspberry', 'helping', 'filo_pastry', 'vegetal', 'oak', 'fennel', 'mint', 'caramel', 'sauce']\"]\n",
      "Glen Elgin 9 Year Old 2010 (casks 801358, 801359 & 806436) - Small Batch (James Eadie) [\"['floral', 'honey', 'barley', 'sugar', 'milk_chocolate', 'roasted_coffee', 'bean', 'butter', 'ginger', 'biscuit', 'lemon', 'shortbread', 'strawberry_jam', 'fresh', 'toast', 'grass', 'sweet', 'vanilla']\"]\n",
      "Balmenach 12 Year Old 2003 (cask 800437) - The Single Cask [\"['nutty', 'sweet', 'toffee', 'vanilla', 'bean', 'herbaceous', 'thyme', 'caramel', 'orange_peel', 'zest', 'lemon', 'orange']\"]\n"
     ]
    }
   ],
   "source": [
    " \n",
    "print(\"The Glenlivet 12 Year Old\", whisk_data[whisk_data['name'] == \"The Glenlivet 12 Year Old\"].token_unified.values)\n",
    "for x in rec_engine.get_recommendations(\"The Glenlivet 12 Year Old\", 20).values[1:7]:\n",
    "    print(x, whisk_data[whisk_data['name'] == x].token_unified.values )\n"
   ]
  },
  {
   "cell_type": "markdown",
   "metadata": {},
   "source": [
    "Again, pretty good. LDA on our BoW corpus is definitely doing a decent job at grouping whiskies with nearby combinations of broad taste categories. But we may want to input our own or someone else's tasting notes of a whisky directly. Or we just have a set of tastes and smells in mind and want to get a Scotch recommendation."
   ]
  },
  {
   "cell_type": "markdown",
   "metadata": {},
   "source": [
    "## Out-of-Corpus Recommendation"
   ]
  },
  {
   "cell_type": "markdown",
   "metadata": {},
   "source": [
    "Let's try our hand with a description for a light and dry scotch with citrus notes as well as salt and coastal influences."
   ]
  },
  {
   "cell_type": "code",
   "execution_count": 111,
   "metadata": {},
   "outputs": [
    {
     "name": "stdout",
     "output_type": "stream",
     "text": [
      "Springbank 12 Year Old Cask Strength - 52.2% [\"['calm', 'eye', 'storm', 'heather', 'coriander', 'oregano', 'caramel', 'busy', 'harbour', 'industrial', 'maritime', 'aroma', 'water', 'grape', 'springbank', 'rhubarb', 'thick', 'heavy', 'smoke', 'industrial', 'massive', 'long']\"]\n",
      "Lemon Buttered Kippers 1997 (bottled 2015) - Wemyss Malts (Bunnahabhain) [\"['burst', 'lemon', 'sweet', 'coastal', 'smoke', 'caramel', 'light', 'bbq', 'smoke', 'thyme', 'toffee', 'toasted', 'malt', 'fruit', 'slightly', 'refreshing']\"]\n",
      "Caol Ila 10 Year Old 2009 (cask 318769) - Berry Bros. & Rudd [\"['coastal', 'peat', 'whiff', 'citrus', 'vanilla', 'oil', 'barley', 'phenol', 'damp', 'oak', 'bright', 'zest', 'citrus', 'cask', 'finish']\"]\n",
      "Longrow Peated [\"['light', 'sweet', 'green', 'grape', 'rhubarb', 'great', 'contrast', 'big', 'blast', 'smoke', 'salt', 'leather', 'fore', 'maritime', 'combination', 'harbourmaster', 'jacket', 'salt', 'return', 'deeply', 'satisfying', 'ending']\"]\n",
      "Islay 9 Year Old 2008 (Single Cask Nation) [\"['fruit', 'aromatic', 'lemon', 'sweet', 'herbaceous', 'charred', 'wood', 'crack_black', 'pepper', 'pinch', 'salt', 'tropical', 'zest', 'orange', 'tang', 'pineapple', 'coastal', 'aroma', 'slight', 'char', 'sweet', 'peat', 'salt', 'pepper']\"]\n",
      "Bunnahabhain 23 Year Old - Single Cask (Master of Malt) [\"['faintly', 'peated', 'soft', 'cream', 'mouth', 'grape', 'leather', 'seaweed', 'storm', 'coastline', 'salted_caramel', 'moorland', 'heather', 'long', 'spinach', 'pepper', 'peat', 'smoke', 'distant', 'horizon']\"]\n",
      "Aberfeldy 1999 (bottled 2016) - Connoisseurs Choice (Gordon & MacPhail) [\"['rounded', 'malted_barley', 'oat_biscuit', 'oloroso', 'strawberry_lace', 'clotted', 'cream', 'slight', 'whiff', 'peel', 'light', 'smoke', 'orange', 'fresh']\"]\n",
      "Talisker 8 Year Old (Special Release 2020) [\"['silky_smooth', 'mouth_filling', 'prickle', 'characteristic', 'talisker', 'pepper', 'fruit', 'caramelised', 'smoke', 'bonfire', 'like', 'beauty', 'impression', 'sweet', 'seaside', 'vibe', 'seaweed', 'iodine', 'citrus', 'fruit', 'charred', 'meat', 'molasse', 'tropical_fruit', 'wisp_smoke', 'long', 'pepper', 'chilli', 'like', 'gentle', 'smoke']\"]\n"
     ]
    }
   ],
   "source": [
    "for x in rec_engine.recommend_from_text(text=\"light, citrus, lemon, grapefruit, dry, crisp, sea salt, salted caramel\").values[1:9]:\n",
    "    print(x, whisk_data[whisk_data['name'] == x].token_unified.values )"
   ]
  },
  {
   "cell_type": "markdown",
   "metadata": {},
   "source": [
    "Wow thats better than I expected honestly. I actually had a Springbank in mind."
   ]
  }
 ],
 "metadata": {
  "interpreter": {
   "hash": "95508d1f9e276930ee7bf977622471e4c9572bc985693ed5ef89eacdfe75f4af"
  },
  "kernelspec": {
   "display_name": "Python 3.8.11 64-bit ('sb_cpstone3': conda)",
   "name": "python3"
  },
  "language_info": {
   "codemirror_mode": {
    "name": "ipython",
    "version": 3
   },
   "file_extension": ".py",
   "mimetype": "text/x-python",
   "name": "python",
   "nbconvert_exporter": "python",
   "pygments_lexer": "ipython3",
   "version": "3.8.11"
  },
  "orig_nbformat": 4
 },
 "nbformat": 4,
 "nbformat_minor": 2
}
