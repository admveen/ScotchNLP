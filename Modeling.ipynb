{
 "cells": [
  {
   "cell_type": "code",
   "execution_count": 37,
   "metadata": {},
   "outputs": [],
   "source": [
    "# import necessary packages\n",
    "\n",
    "import pickle\n",
    "import pandas as pd\n",
    "import numpy as np\n",
    "import matplotlib.pyplot as plt\n",
    "import ast\n",
    "import re\n",
    "import seaborn as sns\n",
    "\n",
    "from gensim.corpora.dictionary import Dictionary\n",
    "from gensim.models import LdaModel\n",
    "\n",
    "from gensim.models.coherencemodel import CoherenceModel\n",
    "import pyLDAvis\n",
    "from  pyLDAvis import gensim_models\n",
    "\n",
    "from gensim.similarities import MatrixSimilarity\n",
    "\n",
    "import sys\n",
    "sys.path.append(\"src\\\\\")\n",
    "# custom recommendation class\n",
    "from ScotchRecommender import Scotch_Recommender\n",
    "\n",
    "\n"
   ]
  },
  {
   "cell_type": "code",
   "execution_count": null,
   "metadata": {},
   "outputs": [],
   "source": []
  },
  {
   "cell_type": "code",
   "execution_count": 2,
   "metadata": {},
   "outputs": [],
   "source": [
    "# load unified token data\n",
    "whisk_interdf_path = \"data\\\\interim\\\\whisk_unified_tokenized.csv\"\n",
    "whisk_data = pd.read_csv(whisk_interdf_path)"
   ]
  },
  {
   "cell_type": "code",
   "execution_count": 3,
   "metadata": {},
   "outputs": [
    {
     "name": "stdout",
     "output_type": "stream",
     "text": [
      "Dictionary(477 unique tokens: ['barley', 'butter', 'cereal', 'cut_grass', 'fruit']...)\n"
     ]
    }
   ],
   "source": [
    "# load reduced gensim dict\n",
    "reduced_gensim_dict_path = \"dictionaries\\\\reduced_gemsimdict_unified.pkl\"\n",
    "reduced_gensim_dict = pickle.load(open(reduced_gensim_dict_path, 'rb'))\n",
    "print(reduced_gensim_dict)"
   ]
  },
  {
   "cell_type": "code",
   "execution_count": 4,
   "metadata": {},
   "outputs": [
    {
     "data": {
      "text/html": [
       "<div>\n",
       "<style scoped>\n",
       "    .dataframe tbody tr th:only-of-type {\n",
       "        vertical-align: middle;\n",
       "    }\n",
       "\n",
       "    .dataframe tbody tr th {\n",
       "        vertical-align: top;\n",
       "    }\n",
       "\n",
       "    .dataframe thead th {\n",
       "        text-align: right;\n",
       "    }\n",
       "</style>\n",
       "<table border=\"1\" class=\"dataframe\">\n",
       "  <thead>\n",
       "    <tr style=\"text-align: right;\">\n",
       "      <th></th>\n",
       "      <th>tokens</th>\n",
       "    </tr>\n",
       "    <tr>\n",
       "      <th>name</th>\n",
       "      <th></th>\n",
       "    </tr>\n",
       "  </thead>\n",
       "  <tbody>\n",
       "    <tr>\n",
       "      <th>Singleton of Dufftown 12 Year Old</th>\n",
       "      <td>[orange_zest, malty_core, nut, oak, toffee, cu...</td>\n",
       "    </tr>\n",
       "    <tr>\n",
       "      <th>The GlenDronach 18 Year Old Allardice</th>\n",
       "      <td>[christmas_cake, rum, chocolate, hazelnut, run...</td>\n",
       "    </tr>\n",
       "    <tr>\n",
       "      <th>Lagavulin 2005 (bottled 2020) Pedro Ximénez Cask Finish - Distillers Edition</th>\n",
       "      <td>[date, prune, almond, bonfire, smoke, toffee, ...</td>\n",
       "    </tr>\n",
       "    <tr>\n",
       "      <th>Glenfarclas 15 Year Old</th>\n",
       "      <td>[raisin, sherry, orange_peel, walnut, date, in...</td>\n",
       "    </tr>\n",
       "    <tr>\n",
       "      <th>Darkness 8 Year Old</th>\n",
       "      <td>[amaretti, biscuit, subtly, toast, power, rais...</td>\n",
       "    </tr>\n",
       "  </tbody>\n",
       "</table>\n",
       "</div>"
      ],
      "text/plain": [
       "                                                                                               tokens\n",
       "name                                                                                                 \n",
       "Singleton of Dufftown 12 Year Old                   [orange_zest, malty_core, nut, oak, toffee, cu...\n",
       "The GlenDronach 18 Year Old Allardice               [christmas_cake, rum, chocolate, hazelnut, run...\n",
       "Lagavulin 2005 (bottled 2020) Pedro Ximénez Cas...  [date, prune, almond, bonfire, smoke, toffee, ...\n",
       "Glenfarclas 15 Year Old                             [raisin, sherry, orange_peel, walnut, date, in...\n",
       "Darkness 8 Year Old                                 [amaretti, biscuit, subtly, toast, power, rais..."
      ]
     },
     "execution_count": 4,
     "metadata": {},
     "output_type": "execute_result"
    }
   ],
   "source": [
    "cols_to_keep = ['name', 'token_unified']\n",
    "unitoken_df = whisk_data[cols_to_keep].set_index('name')\n",
    "\n",
    "# entries in token_unified are strings. Literal evaluate to get this back into list of strings\n",
    "attr_listed = [ast.literal_eval(row) for row in unitoken_df['token_unified'] ] \n",
    "unitoken_df['tokens'] = attr_listed\n",
    "# get rid of original token unified column\n",
    "unitoken_df.drop(columns = ['token_unified'], inplace = True)\n",
    "unitoken_df.head()"
   ]
  },
  {
   "cell_type": "markdown",
   "metadata": {},
   "source": [
    "Create gensim corpus from reduced dictionary set."
   ]
  },
  {
   "cell_type": "code",
   "execution_count": 5,
   "metadata": {},
   "outputs": [],
   "source": [
    "corpus = [reduced_gensim_dict.doc2bow(doc) for doc in unitoken_df.tokens]"
   ]
  },
  {
   "cell_type": "code",
   "execution_count": 6,
   "metadata": {},
   "outputs": [],
   "source": [
    "# lets pickle the whisky descriptor corpus (reference dictionary is reduced_gensim_dict):\n",
    "pickle.dump(corpus, open('data\\\\final\\\\descriptor_corpus.pkl', 'wb'))"
   ]
  },
  {
   "cell_type": "markdown",
   "metadata": {},
   "source": [
    "Of course, one of the big issues is that it's not clear what the best number of topics is a priori and whether the topics that an LDA model fits to are actually meaningful. We can use coherence measures (i.e. an aggregation of pairwise correlations between members of a topic as one measure). This can have some issues but its a way of putting a number on estimating topic coherence.\n",
    "\n",
    "There are also other hyperparameters such as the alpha vector for the Dirichlet distribution."
   ]
  },
  {
   "cell_type": "code",
   "execution_count": 7,
   "metadata": {},
   "outputs": [
    {
     "name": "stdout",
     "output_type": "stream",
     "text": [
      "[(2, 0.2993272541832943), (3, 0.3136807900071163), (4, 0.35908733130685), (5, 0.3735726377031539), (6, 0.37486755012748624), (7, 0.37267587961541854), (8, 0.3534713379917902), (9, 0.37798863377144926), (10, 0.3707958121442076), (11, 0.37322423256263304), (12, 0.34913368873656414), (13, 0.3602244146876927), (14, 0.36407616003603377), (15, 0.3640611499931736), (16, 0.3632675135810002), (17, 0.36519366154047733), (18, 0.3577528042053702), (19, 0.36248111014751244)]\n"
     ]
    }
   ],
   "source": [
    "# let's loop to extract the best hyperparameters and get the topic model coherence score for each hyperparameter set.\n",
    "model_coherence_list = []\n",
    "for topic_num in range(2,20, 1):\n",
    "    # our LDA model\n",
    "    scotch_topic_model = LdaModel(corpus = corpus, num_topics = topic_num, random_state=100,  id2word = reduced_gensim_dict, passes = 10, alpha = 'auto' )\n",
    "\n",
    "    # coherence model wrapper\n",
    "    cm = CoherenceModel(model=scotch_topic_model, texts= unitoken_df.tokens, coherence = 'c_v')\n",
    "    model_coherence_list.append((topic_num, cm.get_coherence()))\n",
    "    \n",
    "print(model_coherence_list)\n"
   ]
  },
  {
   "cell_type": "code",
   "execution_count": 30,
   "metadata": {},
   "outputs": [
    {
     "data": {
      "image/png": "[encoded data removed]",
      "text/plain": [
       "<Figure size 432x288 with 1 Axes>"
      ]
     },
     "metadata": {
      "needs_background": "light"
     },
     "output_type": "display_data"
    }
   ],
   "source": [
    "# plot model coherence score vs number of topics\n",
    "unzipped_coherence_list = list(zip(*model_coherence_list))\n",
    "plt.plot(unzipped_coherence_list[0], unzipped_coherence_list[1], c = 'b', linewidth = 2 )\n",
    "plt.axvline(x = 6, c ='r', linestyle = '--')\n",
    "plt.annotate('Optimal num. topics', xy = (6.3, 0.30), c ='r')\n",
    "plt.title('LDA coherence score vs. number of topics')\n",
    "plt.xlabel('Number of topics')\n",
    "plt.ylabel('Coherence score ($c_v$)')\n",
    "plt.xticks(np.arange(2,20, 2))\n",
    "plt.show()\n"
   ]
  },
  {
   "cell_type": "code",
   "execution_count": 7,
   "metadata": {},
   "outputs": [],
   "source": [
    "scotch_topic_model = LdaModel(corpus = corpus, num_topics = 6, random_state= 100,  id2word = reduced_gensim_dict, passes = 10, alpha = 'auto' )"
   ]
  },
  {
   "cell_type": "code",
   "execution_count": 8,
   "metadata": {},
   "outputs": [
    {
     "data": {
      "text/plain": [
       "[(0,\n",
       "  '0.049*\"chocolate\" + 0.042*\"fruit\" + 0.041*\"raisin\" + 0.028*\"sherry\" + 0.026*\"cinnamon\" + 0.025*\"oak\" + 0.022*\"dark_chocolate\" + 0.021*\"rich\" + 0.017*\"spice\" + 0.016*\"clove\" + 0.015*\"cherry\" + 0.015*\"date\" + 0.015*\"coffee\" + 0.015*\"orange\" + 0.014*\"ginger\" + 0.013*\"sweet\" + 0.013*\"orange_peel\" + 0.012*\"sultana\" + 0.012*\"dark\" + 0.010*\"cake\" + 0.009*\"walnut\" + 0.009*\"plum\" + 0.008*\"treacle\" + 0.008*\"toffee\" + 0.008*\"brown_sugar\" + 0.008*\"red\" + 0.008*\"juicy\" + 0.008*\"caramel\" + 0.007*\"honey\" + 0.007*\"thick\"'),\n",
       " (1,\n",
       "  '0.033*\"vanilla\" + 0.030*\"oak\" + 0.027*\"barley\" + 0.024*\"malt\" + 0.023*\"honey\" + 0.022*\"fresh\" + 0.019*\"chocolate\" + 0.018*\"sweet\" + 0.016*\"butter\" + 0.016*\"apple\" + 0.015*\"citrus\" + 0.014*\"lemon\" + 0.014*\"floral\" + 0.013*\"cinnamon\" + 0.012*\"peel\" + 0.012*\"grass\" + 0.011*\"sugar\" + 0.011*\"cream\" + 0.011*\"orange\" + 0.011*\"apricot\" + 0.010*\"spice\" + 0.010*\"pear\" + 0.010*\"almond\" + 0.010*\"caramel\" + 0.010*\"toasted\" + 0.009*\"earth\" + 0.009*\"finish\" + 0.009*\"peach\" + 0.009*\"biscuit\" + 0.008*\"white\"'),\n",
       " (2,\n",
       "  '0.071*\"sweet\" + 0.058*\"fruit\" + 0.037*\"spice\" + 0.031*\"vanilla\" + 0.029*\"oak\" + 0.024*\"long\" + 0.023*\"citrus\" + 0.020*\"rich\" + 0.020*\"cream\" + 0.018*\"finish\" + 0.016*\"fresh\" + 0.016*\"wood\" + 0.016*\"floral\" + 0.016*\"toffee\" + 0.015*\"gentle\" + 0.014*\"soft\" + 0.012*\"aroma\" + 0.011*\"orange\" + 0.011*\"light\" + 0.010*\"honey\" + 0.009*\"zest\" + 0.009*\"malt\" + 0.008*\"flavour\" + 0.008*\"green\" + 0.008*\"nutty\" + 0.008*\"caramel\" + 0.008*\"tannin\" + 0.008*\"smoke\" + 0.008*\"dark\" + 0.008*\"pepper\"'),\n",
       " (3,\n",
       "  '0.045*\"malt\" + 0.040*\"fruit\" + 0.039*\"sweet\" + 0.032*\"spice\" + 0.028*\"rich\" + 0.027*\"oak\" + 0.027*\"apple\" + 0.025*\"toffee\" + 0.024*\"long\" + 0.022*\"barley\" + 0.020*\"cream\" + 0.019*\"vanilla\" + 0.018*\"finish\" + 0.017*\"sherry\" + 0.016*\"pepper\" + 0.014*\"honey\" + 0.014*\"thick\" + 0.013*\"oil\" + 0.012*\"soft\" + 0.012*\"butter\" + 0.012*\"spiced\" + 0.012*\"peel\" + 0.011*\"smoke\" + 0.010*\"allspice\" + 0.009*\"cocoa\" + 0.008*\"cereal\" + 0.008*\"cinnamon\" + 0.008*\"manuka_honey\" + 0.008*\"good_length\" + 0.008*\"custard\"'),\n",
       " (4,\n",
       "  '0.103*\"smoke\" + 0.071*\"peat\" + 0.032*\"sweet\" + 0.024*\"coastal\" + 0.023*\"salt\" + 0.021*\"earth\" + 0.020*\"meat\" + 0.020*\"peat_smoke\" + 0.018*\"sea_salt\" + 0.014*\"oil\" + 0.012*\"lemon\" + 0.012*\"finish\" + 0.012*\"seaweed\" + 0.011*\"oak\" + 0.010*\"sea_breeze\" + 0.010*\"pepper\" + 0.010*\"ash\" + 0.010*\"black_pepper\" + 0.009*\"bonfire\" + 0.009*\"barley\" + 0.009*\"toasted\" + 0.008*\"citrus\" + 0.008*\"long\" + 0.008*\"savoury\" + 0.008*\"vanilla\" + 0.008*\"apple\" + 0.008*\"maritime\" + 0.008*\"caramel\" + 0.008*\"waft\" + 0.008*\"iodine\"'),\n",
       " (5,\n",
       "  '0.044*\"apple\" + 0.038*\"fruit\" + 0.037*\"vanilla\" + 0.035*\"oak\" + 0.030*\"spice\" + 0.028*\"cream\" + 0.028*\"cinnamon\" + 0.022*\"sweet\" + 0.018*\"orange\" + 0.018*\"red\" + 0.018*\"malt\" + 0.018*\"caramel\" + 0.017*\"nut\" + 0.016*\"tart\" + 0.015*\"pear\" + 0.014*\"berry\" + 0.014*\"fresh\" + 0.014*\"nutmeg\" + 0.014*\"ginger\" + 0.013*\"jam\" + 0.013*\"baking_spice\" + 0.013*\"custard\" + 0.012*\"milk_chocolate\" + 0.012*\"toffee\" + 0.011*\"honey\" + 0.011*\"plum\" + 0.011*\"pepper\" + 0.011*\"chocolate\" + 0.010*\"lot\" + 0.010*\"finish\"')]"
      ]
     },
     "execution_count": 8,
     "metadata": {},
     "output_type": "execute_result"
    }
   ],
   "source": [
    "scotch_topic_model.show_topics(num_words=30)"
   ]
  },
  {
   "cell_type": "code",
   "execution_count": 9,
   "metadata": {},
   "outputs": [
    {
     "name": "stderr",
     "output_type": "stream",
     "text": [
      "C:\\Users\\prave\\anaconda3\\envs\\sb_cpstone3\\lib\\site-packages\\pyLDAvis\\_prepare.py:246: FutureWarning: In a future version of pandas all arguments of DataFrame.drop except for the argument 'labels' will be keyword-only\n",
      "  default_term_info = default_term_info.sort_values(\n"
     ]
    },
    {
     "data": {
      "text/html": [
       "\n",
       "<link rel=\"stylesheet\" type=\"text/css\" href=\"https://cdn.jsdelivr.net/gh/bmabey/pyLDAvis@3.3.1/pyLDAvis/js/ldavis.v1.0.0.css\">\n",
       "\n",
       "\n",
       "<div id=\"ldavis_el122482807867569536269051900\"></div>\n",
       "<script type=\"text/javascript\">\n",
       "\n",
       "var ldavis_el122482807867569536269051900_data = {\"mdsDat\": {\"x\": [-0.10416317242898857, 0.00036999159384478575, 0.021165970876666513, -0.04631689349158422, 0.2769378183219958, -0.1479937148719345], \"y\": [0.17685813892800378, 0.038106713788529194, -0.17405255770373906, -0.09204532925694989, 0.05976518337486559, -0.008632149130709758], \"topics\": [1, 2, 3, 4, 5, 6], \"cluster\": [1, 1, 1, 1, 1, 1], \"Freq\": [15.73456788828832, 28.79672736686007, 15.199814547298141, 18.200297984316123, 11.446894419801946, 10.621697793435397]}, \"tinfo\": {\"Term\": [\"smoke\", \"peat\", \"raisin\", \"chocolate\", \"fruit\", \"sherry\", \"sweet\", \"cinnamon\", \"apple\", \"cream\", \"spice\", \"long\", \"vanilla\", \"coastal\", \"salt\", \"meat\", \"peat_smoke\", \"earth\", \"red\", \"dark_chocolate\", \"rich\", \"sea_salt\", \"malt\", \"date\", \"tart\", \"clove\", \"cherry\", \"custard\", \"gentle\", \"orange\", \"raisin\", \"christmas_cake\", \"mocha\", \"christmas\", \"dense\", \"redcurrant\", \"damson\", \"hot_cross\", \"red_wine\", \"prune\", \"date\", \"rum_raisin\", \"jammy\", \"tow\", \"cherry\", \"dark_chocolate\", \"demerara_sugar\", \"cookie\", \"bar\", \"old\", \"treacle\", \"seville_orange\", \"malt_loaf\", \"cigar_box\", \"stick\", \"blackcurrant\", \"blackberry\", \"fig\", \"clove\", \"mature_oak\", \"coffee\", \"sherry\", \"chocolate\", \"tobacco\", \"sultana\", \"black\", \"dark\", \"orange_peel\", \"cinnamon\", \"cake\", \"fruit\", \"walnut\", \"plum\", \"rich\", \"ginger\", \"oak\", \"orange\", \"spice\", \"red\", \"brown_sugar\", \"sweet\", \"juicy\", \"toffee\", \"caramel\", \"thick\", \"honey\", \"flaky_pastry\", \"crunchy_brown\", \"basil\", \"yellow_plum\", \"lemongrass\", \"flint\", \"white\", \"softly\", \"cracker\", \"sweetie\", \"lead\", \"milky_coffee\", \"sawdust\", \"subtly\", \"golden\", \"rye\", \"white_grape\", \"turkish_delight\", \"gooseberry\", \"thyme\", \"buttered_toast\", \"mint_leaf\", \"green_apple\", \"honeydew_melon\", \"buttered\", \"runny_honey\", \"greengage\", \"popcorn\", \"brown_bread\", \"cut_grass\", \"y\", \"sponge_cake\", \"peach\", \"grass\", \"shortbread\", \"bread\", \"apricot\", \"lemon\", \"barley\", \"fresh\", \"butter\", \"honey\", \"vanilla\", \"biscuit\", \"cedar\", \"floral\", \"peel\", \"oak\", \"almond\", \"citrus\", \"malt\", \"sugar\", \"chocolate\", \"pear\", \"vanilla_pod\", \"toasted\", \"earth\", \"orchard_fruit\", \"brown_sugar\", \"apple\", \"cinnamon\", \"orange\", \"sweet\", \"cream\", \"caramel\", \"spice\", \"finish\", \"flavour\", \"smooth\", \"tannin\", \"texture\", \"mouthfeel\", \"undertone\", \"vibrant\", \"petal\", \"short\", \"silk\", \"present\", \"tone\", \"dram\", \"initially\", \"elegant\", \"depth\", \"time\", \"whisky\", \"fairly\", \"aroma\", \"mouth\", \"faint\", \"gently\", \"length\", \"cask\", \"delicate\", \"particularly\", \"refreshing\", \"character\", \"deep\", \"gentle\", \"complex\", \"green\", \"wood\", \"sweet\", \"fruit\", \"long\", \"spice\", \"citrus\", \"light\", \"vanilla\", \"floral\", \"cream\", \"soft\", \"oak\", \"rich\", \"finish\", \"zest\", \"fresh\", \"toffee\", \"orange\", \"dark\", \"nutty\", \"tropical_fruit\", \"honey\", \"slightly\", \"malt\", \"caramel\", \"smoke\", \"pepper\", \"manuka_honey\", \"good_length\", \"potpourri\", \"granary_toast\", \"mixed_peel\", \"entry\", \"salty_butter\", \"interesting\", \"maybe\", \"pipe_tobacco\", \"tail\", \"brandy_butter\", \"guava\", \"exotic_spice\", \"musty\", \"cider\", \"acacia_honey\", \"rubber\", \"allspice\", \"peppermint\", \"aniseed\", \"oloroso\", \"huge\", \"mixed\", \"late\", \"rum\", \"bourbon\", \"bittersweet\", \"thick\", \"punch\", \"spiced\", \"cocoa\", \"herbal\", \"long\", \"malt\", \"big\", \"toffee\", \"rich\", \"sherry\", \"spice\", \"fruit\", \"apple\", \"sweet\", \"cream\", \"barley\", \"pepper\", \"cereal\", \"finish\", \"oak\", \"oil\", \"soft\", \"peel\", \"butter\", \"vanilla\", \"honey\", \"smoke\", \"custard\", \"cinnamon\", \"coastal\", \"sea_salt\", \"meat\", \"seaweed\", \"sea_breeze\", \"ash\", \"bonfire\", \"maritime\", \"sea_spray\", \"brine\", \"soot\", \"coastal_air\", \"iodine\", \"medicinal\", \"bbq\", \"sea_air\", \"earthy_peat\", \"ember\", \"bonfire_ember\", \"medicinal_peat\", \"peat\", \"peat_smoke\", \"charcoal\", \"salt\", \"tar\", \"smoke\", \"ham\", \"charred\", \"chilli\", \"oatcake\", \"savoury\", \"salted_caramel\", \"earth\", \"sweet\", \"heather\", \"oil\", \"lemon\", \"waft\", \"black_pepper\", \"finish\", \"pepper\", \"wave\", \"oak\", \"toasted\", \"barley\", \"citrus\", \"long\", \"caramel\", \"apple\", \"vanilla\", \"bean\", \"roasted_coffee\", \"porridge_oats\", \"sprinkle\", \"tart\", \"jam\", \"baking_spice\", \"stewed\", \"latte\", \"praline\", \"nougat\", \"good_helping\", \"dusting\", \"summer_berry\", \"sticky_toffee\", \"red_grape\", \"skin\", \"red\", \"compote\", \"caramelised\", \"baked\", \"berry\", \"root\", \"tangerine\", \"nut\", \"pudding\", \"raspberry\", \"peanut_brittle\", \"lot\", \"plum\", \"milk_chocolate\", \"custard\", \"apple\", \"strawberry\", \"cinnamon\", \"cream\", \"pear\", \"vanilla\", \"nutmeg\", \"fruit\", \"spice\", \"oak\", \"orange\", \"caramel\", \"ginger\", \"spiced\", \"sweet\", \"malt\", \"fresh\", \"toffee\", \"pepper\", \"honey\", \"chocolate\", \"finish\"], \"Freq\": [2183.0, 1239.0, 933.0, 2141.0, 4220.0, 1089.0, 4518.0, 1795.0, 2433.0, 1874.0, 2961.0, 1382.0, 3327.0, 396.0, 447.0, 337.0, 363.0, 876.0, 481.0, 668.0, 1913.0, 296.0, 2907.0, 404.0, 262.0, 574.0, 466.0, 500.0, 476.0, 1393.0, 931.9474557002604, 156.40639670023813, 144.1493955766295, 88.92167960597563, 79.4428437997458, 93.73749254390574, 67.3478958239285, 45.63862017008458, 43.991135003355566, 161.2238166621028, 343.45435121535695, 78.70426948069962, 111.4184396993453, 47.522126966668466, 350.49241130726284, 498.7533429172464, 55.099095327441, 73.60192577692544, 36.22426019290961, 147.16632941361178, 193.7647806665144, 48.944140268641135, 88.7207215299085, 123.7490329090461, 78.08223376113254, 85.67493600740374, 109.73911570459751, 135.210541168206, 373.14608847857323, 55.09772855625415, 338.09293496532456, 640.68778968448, 1119.5311631648262, 161.11265972417195, 280.0412508256824, 122.64618737395358, 269.5322753047608, 293.0489830573703, 586.5477619700143, 222.13233020766714, 965.5904430414724, 206.4984325636385, 197.28660832224045, 485.5186839569412, 313.2871484255138, 580.2132473465415, 337.4650958071633, 393.64727187698696, 179.65641322501278, 180.87017010633852, 295.77274447477237, 174.06746160606892, 185.4101782288714, 173.83412813751318, 164.8916218873248, 165.95351767631118, 82.78499757083284, 58.11867051430353, 51.61663779241893, 44.428809531655645, 87.506918631297, 79.33131360994679, 350.4187145825488, 105.75511265241168, 51.42561736259947, 144.32941642573272, 60.555884832832554, 104.22026577059675, 120.99697859635289, 194.11408235921888, 131.75755675051022, 85.82223168752236, 150.4377611178541, 56.928807535167486, 68.16771601036459, 98.96092356583223, 90.06126420139054, 83.06270245514696, 328.35236909281224, 128.8995835256833, 125.97948554611627, 41.651599465102485, 74.0772038377339, 81.95003129143197, 94.47885408677826, 55.7526290038159, 232.06492054183477, 161.01767133946268, 382.8042964645518, 494.41131087291706, 169.45360331554141, 199.35151772218924, 459.4785945043371, 582.2300355829357, 1128.3215600137194, 923.8234392217439, 662.426781811585, 953.68553271759, 1391.1531644169763, 363.37611317689385, 244.389443960886, 566.7770549093759, 506.5222572411489, 1266.712610079111, 416.99714393899484, 639.0863609805344, 998.4515483436873, 467.2526115487383, 792.1155197398842, 419.3709779143937, 209.78413814308175, 410.96871720362395, 398.0769023390391, 273.4369976950702, 344.9889445746736, 659.3858542130944, 555.7680559051851, 466.5580024633394, 740.745871329023, 467.2427231794717, 411.12220189180545, 437.9068629002478, 395.64901455061386, 187.23562516997598, 164.10959713467372, 175.38009832748918, 78.73839135062924, 73.10703982495247, 71.8395478598431, 69.88603090362861, 66.72914519182557, 61.47171764374614, 63.08215247814501, 68.34340173444087, 52.74478246275825, 67.52556649112604, 136.66488408977264, 73.4548307451508, 101.57044183082124, 105.95146039710536, 107.35143308955013, 38.810852356895246, 270.3543233517559, 90.63227968530747, 42.736822034123996, 63.47740272224028, 40.68456214314874, 43.05383556730268, 116.23975679079258, 36.5906281319327, 53.50592129794453, 139.23132877588915, 83.40972048883621, 331.4708335889134, 81.73865923057205, 186.252914935753, 356.89097994428073, 1578.9812164824446, 1280.8383810713376, 537.4551713136017, 815.033276189558, 502.56900957369544, 248.04679071989224, 688.6236701722828, 345.25879352366223, 432.6645302891084, 308.131553203634, 649.0721980977979, 433.9398771281903, 389.6302184417157, 201.34848703563227, 361.8802638595928, 344.34106780162153, 252.52572959953292, 168.7957334581565, 181.00109359122453, 153.58194112111516, 225.52567565798952, 167.18152849055087, 200.46317104966724, 178.00976366045728, 170.7113221522608, 168.6707672097298, 209.32717909475952, 207.10344245548941, 99.68443988642692, 93.30066116356434, 83.7105020215616, 73.39745740753077, 70.47119626672746, 66.27734892002036, 57.187413802914236, 48.732778636439946, 169.48991825888515, 53.090350541616765, 44.9881170250769, 65.20712270655665, 51.776144691713654, 68.68624255576515, 77.39112251020053, 47.55008847584793, 261.96262837837736, 114.6011388356601, 123.02019325251165, 52.10978176510921, 44.981617200555874, 75.07547433805962, 30.813543646014587, 116.85579055478985, 68.29657421597592, 40.6178943925544, 375.0043404310406, 59.220966503039676, 307.7429335175489, 227.7341633874853, 195.90794708109374, 636.7947682327487, 1194.1954613791634, 195.02150070413492, 663.9993468414625, 746.6304765781916, 438.45404027482, 848.5539500780822, 1062.26319044062, 713.8263037763114, 1036.3749544412242, 539.5273058493331, 578.7598390683441, 422.3010283846469, 221.9694088076297, 484.34412297283797, 715.2272768799157, 337.0921763159678, 315.14306247371223, 306.85757404711336, 312.23403127154427, 492.8551939078495, 379.7758600680299, 291.27098867007015, 205.16120225452596, 221.44685379416484, 395.7092880685702, 295.5908492942512, 336.3824713874159, 197.22961710412386, 170.70740798919223, 165.31780527595023, 151.68642314387512, 131.89713524734412, 104.17119386772204, 101.22710417881413, 100.37526223116784, 98.68775943325934, 126.40702018698113, 92.29242733157444, 90.14152214127422, 85.14341964212949, 75.62601354848108, 72.79846194068527, 70.94868984692619, 66.44559842248522, 1192.108162060014, 334.70137732946984, 67.45237651383108, 381.4963962927216, 70.20425838105145, 1720.8393697324505, 62.667642330504634, 98.1258799541953, 74.53793379356242, 84.52491020630588, 134.0771322329893, 114.3274542335114, 343.30341338406186, 526.3267416565409, 108.1734480902206, 231.22491417819214, 202.28243859029388, 128.13024879711696, 160.33537894316228, 197.98583288335996, 167.07867843621733, 115.85841287660247, 189.56300850262852, 142.15949327423394, 150.67172928765436, 141.15040803650157, 136.58292625381918, 130.57545886283464, 132.97560577640385, 133.53957489310415, 93.82733135292638, 71.85134657302999, 50.86093835585781, 47.48729898021148, 248.79381945845074, 204.9569499425661, 195.7241070792579, 58.52442225062546, 38.2961733954678, 96.37072660549018, 46.783832134950586, 43.73378188575237, 82.51705091104944, 63.80199136685754, 50.57453977779045, 45.55882902798462, 61.611003500733396, 282.25526481343417, 33.38273935677247, 55.13627283061621, 88.74731652673626, 221.40874530924438, 35.29712094252773, 26.847200572275963, 256.2260472686316, 60.854016000035514, 136.18135794968225, 32.304375637534775, 159.05501206625814, 170.13509242031884, 184.55058002121268, 194.753555944986, 679.6551488526012, 122.73862718279952, 427.57991133374463, 434.6941435566853, 237.937264427636, 579.6975652300066, 211.61889838826104, 595.046582808765, 461.0791563273963, 539.3289927661586, 286.10820418404717, 274.6843806627839, 211.40638714737307, 148.3324713150238, 340.4188749524699, 276.6698564201991, 219.9500281320345, 181.7151169655982, 169.57014496031488, 174.59670400458975, 163.99582273112853, 155.16486412684174], \"Total\": [2183.0, 1239.0, 933.0, 2141.0, 4220.0, 1089.0, 4518.0, 1795.0, 2433.0, 1874.0, 2961.0, 1382.0, 3327.0, 396.0, 447.0, 337.0, 363.0, 876.0, 481.0, 668.0, 1913.0, 296.0, 2907.0, 404.0, 262.0, 574.0, 466.0, 500.0, 476.0, 1393.0, 933.0682651101436, 157.2298458225738, 144.979518476779, 89.74522816787231, 80.26601958799048, 94.85306367287018, 68.17142790508753, 46.46230070701117, 47.90513045266251, 185.36565291450802, 404.9594984944358, 100.99358557361533, 144.9949585834042, 62.63696547064259, 466.7168714596036, 668.8228010909181, 73.92368789361069, 99.34915910539142, 50.12001764190518, 208.09673838409572, 275.1119977240931, 69.5185444891556, 126.63331211214009, 178.74993984017317, 114.17201274926333, 127.95920993708796, 163.95105491445545, 203.84294609224438, 574.9140881656766, 85.64250700233308, 532.9646109057677, 1089.7926759530935, 2141.0311569882433, 270.03252247841715, 524.149908845988, 196.5947602135563, 517.984926659452, 632.9546529575753, 1795.165289853428, 461.201981691647, 4220.066993095906, 436.5415563503985, 417.7035749639071, 1913.1119751138544, 1006.383384125215, 3940.1173336721536, 1393.7536250097191, 2961.5353611628298, 481.3821352527889, 714.2369929963104, 4518.620403336475, 661.4106780000143, 1655.0324711910603, 1366.567661621373, 635.6836033091829, 1966.7353367639507, 83.65240898702305, 58.94230643345667, 52.43836135131475, 45.25142985383967, 89.28354419711555, 81.11880801714267, 366.59121810176015, 113.21967477847515, 55.871326116613915, 157.03437629295357, 66.58852186579097, 114.64128087966614, 133.39481896582132, 215.09860328056567, 146.92308831843184, 95.7966760643652, 168.7189015122599, 64.01121890254097, 77.06900073430629, 113.1913249786776, 104.36660655142687, 96.79102468858217, 383.54353733220654, 150.76693553924642, 149.25800555203838, 49.508051065092644, 88.15883094354514, 98.37717240725337, 114.14341939720907, 67.76935797747552, 285.4896842049408, 202.68482750660723, 515.2195524519252, 732.7526898501558, 223.5626403261659, 269.9721879843972, 714.8514074551838, 953.3951974565368, 2123.5602423846717, 1738.4130812296041, 1203.0335558645584, 1966.7353367639507, 3327.786046823226, 613.0496320720026, 370.44278020750187, 1151.5451260746652, 1013.2478272028438, 3940.1173336721536, 819.8421756637831, 1515.5627218853506, 2907.6494041907413, 982.4392861587864, 2141.0311569882433, 851.9892208748489, 311.20278703726234, 908.110877193514, 876.3692799143694, 479.29262750292173, 714.2369929963104, 2433.753436406807, 1795.165289853428, 1393.7536250097191, 4518.620403336475, 1874.5649696337996, 1366.567661621373, 2961.5353611628298, 1778.8159595626134, 188.0594260896031, 164.9311040756145, 176.37176636003952, 79.56025260094358, 73.92774804858055, 72.66255085197768, 70.70776244085171, 67.55361059596446, 62.292347062781104, 63.960576150379815, 69.37820413763313, 53.56608168082351, 68.91056921694248, 139.68045612572786, 83.30031891208938, 117.92775747301941, 125.35949301855607, 129.46535882850108, 47.297641355602934, 332.8807333626215, 111.92224007289661, 52.8139774406196, 80.29981909092058, 51.70958846080711, 55.24048986429273, 151.1090104854037, 47.91657280120619, 70.28162641127652, 183.29491962565353, 114.91800059209883, 476.1249685591869, 112.68532762922989, 310.84257139705943, 708.8765170792626, 4518.620403336475, 4220.066993095906, 1382.5449104336165, 2961.5353611628298, 1515.5627218853506, 602.2723192647669, 3327.786046823226, 1151.5451260746652, 1874.5649696337996, 1032.5950446663358, 3940.1173336721536, 1913.1119751138544, 1778.8159595626134, 539.6079075494573, 1738.4130812296041, 1655.0324711910603, 1393.7536250097191, 517.984926659452, 731.1971723530614, 428.11060259644495, 1966.7353367639507, 631.5880717109015, 2907.6494041907413, 1366.567661621373, 2183.306105224409, 1337.991221117253, 210.13447365225971, 207.91546469761735, 100.49131001678641, 94.10875267271291, 84.51899748712577, 74.20480769156032, 71.27790468498152, 67.08833889120568, 57.99887383704632, 49.54050549996527, 180.1084235800662, 56.43255069789753, 50.29931222808319, 73.29299635519116, 62.38296180778264, 83.23804002383406, 95.34622078060245, 59.80234262990729, 330.9534378248379, 149.24132272971138, 161.29846299798598, 70.18238647603575, 67.46446409460259, 116.38945276872113, 48.39439322285556, 185.69907378299473, 112.14354117729134, 68.5815983701511, 635.6836033091829, 100.47318469382766, 534.7844526574668, 399.05633966621673, 350.6837136388479, 1382.5449104336165, 2907.6494041907413, 369.9440833586234, 1655.0324711910603, 1913.1119751138544, 1089.7926759530935, 2961.5353611628298, 4220.066993095906, 2433.753436406807, 4518.620403336475, 1874.5649696337996, 2123.5602423846717, 1337.991221117253, 500.8632579360692, 1778.8159595626134, 3940.1173336721536, 1098.7172489914294, 1032.5950446663358, 1013.2478272028438, 1203.0335558645584, 3327.786046823226, 1966.7353367639507, 2183.306105224409, 500.8960847116365, 1795.165289853428, 396.5414879683736, 296.40992600665714, 337.4548154682434, 198.04493341038307, 171.52440038775845, 166.14775844634082, 152.50248302564407, 132.7127378054171, 104.9873303548706, 102.04411904432743, 101.1918693212092, 99.50438634111165, 127.45379813868576, 93.1084948072865, 90.95692439861419, 85.959887008297, 76.44250940409403, 73.61425339159068, 71.76432767212917, 67.26051222727715, 1239.1133584890574, 363.07344369121665, 78.04700889477891, 447.35523552984125, 84.63111222337545, 2183.306105224409, 83.9141599011405, 152.9687494186248, 117.38060582161283, 134.86524252138378, 228.28225783193105, 197.29624895207448, 876.3692799143694, 4518.620403336475, 205.4639300349257, 1098.7172489914294, 953.3951974565368, 310.9177868516825, 761.1951533537454, 1778.8159595626134, 1337.991221117253, 307.51373218084166, 3940.1173336721536, 908.110877193514, 2123.5602423846717, 1515.5627218853506, 1382.5449104336165, 1366.567661621373, 2433.753436406807, 3327.786046823226, 94.65525190178789, 72.67961033967573, 51.69502435697489, 48.372241185838, 262.43990231857634, 228.56243161086184, 231.03364825499884, 73.80620269191242, 49.97114973950556, 130.39237857938167, 63.893567534819724, 62.5239890470686, 119.70633512108768, 94.80417934655023, 76.06642371682385, 72.3685203909737, 100.11134093361272, 481.3821352527889, 58.941648692862124, 99.04311075630301, 175.6100757112647, 456.55336357493593, 73.5924418220548, 56.16458485898967, 540.7138956804719, 129.18909916570203, 289.91094633011085, 72.91903376027935, 376.8774757775345, 417.7035749639071, 467.8354816481566, 500.8960847116365, 2433.753436406807, 326.750014658984, 1795.165289853428, 1874.5649696337996, 851.9892208748489, 3327.786046823226, 735.6979905260555, 4220.066993095906, 2961.5353611628298, 3940.1173336721536, 1393.7536250097191, 1366.567661621373, 1006.383384125215, 534.7844526574668, 4518.620403336475, 2907.6494041907413, 1738.4130812296041, 1655.0324711910603, 1337.991221117253, 1966.7353367639507, 2141.0311569882433, 1778.8159595626134], \"Category\": [\"Default\", \"Default\", \"Default\", \"Default\", \"Default\", \"Default\", \"Default\", \"Default\", \"Default\", \"Default\", \"Default\", \"Default\", \"Default\", \"Default\", \"Default\", \"Default\", \"Default\", \"Default\", \"Default\", \"Default\", \"Default\", \"Default\", \"Default\", \"Default\", \"Default\", \"Default\", \"Default\", \"Default\", \"Default\", \"Default\", \"Topic1\", \"Topic1\", \"Topic1\", \"Topic1\", \"Topic1\", \"Topic1\", \"Topic1\", \"Topic1\", \"Topic1\", \"Topic1\", \"Topic1\", \"Topic1\", \"Topic1\", \"Topic1\", \"Topic1\", \"Topic1\", \"Topic1\", \"Topic1\", \"Topic1\", \"Topic1\", \"Topic1\", \"Topic1\", \"Topic1\", \"Topic1\", \"Topic1\", \"Topic1\", \"Topic1\", \"Topic1\", \"Topic1\", \"Topic1\", \"Topic1\", \"Topic1\", \"Topic1\", \"Topic1\", \"Topic1\", \"Topic1\", \"Topic1\", \"Topic1\", \"Topic1\", \"Topic1\", \"Topic1\", \"Topic1\", \"Topic1\", \"Topic1\", \"Topic1\", \"Topic1\", \"Topic1\", \"Topic1\", \"Topic1\", \"Topic1\", \"Topic1\", \"Topic1\", \"Topic1\", \"Topic1\", \"Topic1\", \"Topic1\", \"Topic2\", \"Topic2\", \"Topic2\", \"Topic2\", \"Topic2\", \"Topic2\", \"Topic2\", \"Topic2\", \"Topic2\", \"Topic2\", \"Topic2\", \"Topic2\", \"Topic2\", \"Topic2\", \"Topic2\", \"Topic2\", \"Topic2\", \"Topic2\", \"Topic2\", \"Topic2\", \"Topic2\", \"Topic2\", \"Topic2\", \"Topic2\", \"Topic2\", \"Topic2\", \"Topic2\", \"Topic2\", \"Topic2\", \"Topic2\", \"Topic2\", \"Topic2\", \"Topic2\", \"Topic2\", \"Topic2\", \"Topic2\", \"Topic2\", \"Topic2\", \"Topic2\", \"Topic2\", \"Topic2\", \"Topic2\", \"Topic2\", \"Topic2\", \"Topic2\", \"Topic2\", \"Topic2\", \"Topic2\", \"Topic2\", \"Topic2\", \"Topic2\", \"Topic2\", \"Topic2\", \"Topic2\", \"Topic2\", \"Topic2\", \"Topic2\", \"Topic2\", \"Topic2\", \"Topic2\", \"Topic2\", \"Topic2\", \"Topic2\", \"Topic2\", \"Topic2\", \"Topic2\", \"Topic2\", \"Topic3\", \"Topic3\", \"Topic3\", \"Topic3\", \"Topic3\", \"Topic3\", \"Topic3\", \"Topic3\", \"Topic3\", \"Topic3\", \"Topic3\", \"Topic3\", \"Topic3\", \"Topic3\", \"Topic3\", \"Topic3\", \"Topic3\", \"Topic3\", \"Topic3\", \"Topic3\", \"Topic3\", \"Topic3\", \"Topic3\", \"Topic3\", \"Topic3\", \"Topic3\", \"Topic3\", \"Topic3\", \"Topic3\", \"Topic3\", \"Topic3\", \"Topic3\", \"Topic3\", \"Topic3\", \"Topic3\", \"Topic3\", \"Topic3\", \"Topic3\", \"Topic3\", \"Topic3\", \"Topic3\", \"Topic3\", \"Topic3\", \"Topic3\", \"Topic3\", \"Topic3\", \"Topic3\", \"Topic3\", \"Topic3\", \"Topic3\", \"Topic3\", \"Topic3\", \"Topic3\", \"Topic3\", \"Topic3\", \"Topic3\", \"Topic3\", \"Topic3\", \"Topic3\", \"Topic3\", \"Topic4\", \"Topic4\", \"Topic4\", \"Topic4\", \"Topic4\", \"Topic4\", \"Topic4\", \"Topic4\", \"Topic4\", \"Topic4\", \"Topic4\", \"Topic4\", \"Topic4\", \"Topic4\", \"Topic4\", \"Topic4\", \"Topic4\", \"Topic4\", \"Topic4\", \"Topic4\", \"Topic4\", \"Topic4\", \"Topic4\", \"Topic4\", \"Topic4\", \"Topic4\", \"Topic4\", \"Topic4\", \"Topic4\", \"Topic4\", \"Topic4\", \"Topic4\", \"Topic4\", \"Topic4\", \"Topic4\", \"Topic4\", \"Topic4\", \"Topic4\", \"Topic4\", \"Topic4\", \"Topic4\", \"Topic4\", \"Topic4\", \"Topic4\", \"Topic4\", \"Topic4\", \"Topic4\", \"Topic4\", \"Topic4\", \"Topic4\", \"Topic4\", \"Topic4\", \"Topic4\", \"Topic4\", \"Topic4\", \"Topic4\", \"Topic4\", \"Topic4\", \"Topic5\", \"Topic5\", \"Topic5\", \"Topic5\", \"Topic5\", \"Topic5\", \"Topic5\", \"Topic5\", \"Topic5\", \"Topic5\", \"Topic5\", \"Topic5\", \"Topic5\", \"Topic5\", \"Topic5\", \"Topic5\", \"Topic5\", \"Topic5\", \"Topic5\", \"Topic5\", \"Topic5\", \"Topic5\", \"Topic5\", \"Topic5\", \"Topic5\", \"Topic5\", \"Topic5\", \"Topic5\", \"Topic5\", \"Topic5\", \"Topic5\", \"Topic5\", \"Topic5\", \"Topic5\", \"Topic5\", \"Topic5\", \"Topic5\", \"Topic5\", \"Topic5\", \"Topic5\", \"Topic5\", \"Topic5\", \"Topic5\", \"Topic5\", \"Topic5\", \"Topic5\", \"Topic5\", \"Topic5\", \"Topic5\", \"Topic5\", \"Topic6\", \"Topic6\", \"Topic6\", \"Topic6\", \"Topic6\", \"Topic6\", \"Topic6\", \"Topic6\", \"Topic6\", \"Topic6\", \"Topic6\", \"Topic6\", \"Topic6\", \"Topic6\", \"Topic6\", \"Topic6\", \"Topic6\", \"Topic6\", \"Topic6\", \"Topic6\", \"Topic6\", \"Topic6\", \"Topic6\", \"Topic6\", \"Topic6\", \"Topic6\", \"Topic6\", \"Topic6\", \"Topic6\", \"Topic6\", \"Topic6\", \"Topic6\", \"Topic6\", \"Topic6\", \"Topic6\", \"Topic6\", \"Topic6\", \"Topic6\", \"Topic6\", \"Topic6\", \"Topic6\", \"Topic6\", \"Topic6\", \"Topic6\", \"Topic6\", \"Topic6\", \"Topic6\", \"Topic6\", \"Topic6\", \"Topic6\", \"Topic6\", \"Topic6\", \"Topic6\", \"Topic6\"], \"logprob\": [30.0, 29.0, 28.0, 27.0, 26.0, 25.0, 24.0, 23.0, 22.0, 21.0, 20.0, 19.0, 18.0, 17.0, 16.0, 15.0, 14.0, 13.0, 12.0, 11.0, 10.0, 9.0, 8.0, 7.0, 6.0, 5.0, 4.0, 3.0, 2.0, 1.0, -3.203, -4.9878, -5.0694, -5.5525, -5.6652, -5.4997, -5.8304, -6.2195, -6.2562, -4.9574, -4.2012, -5.6745, -5.3269, -6.179, -4.1809, -3.8281, -6.0311, -5.7416, -6.4505, -5.0487, -4.7736, -6.1495, -5.5547, -5.222, -5.6825, -5.5897, -5.3421, -5.1334, -4.1183, -6.0311, -4.2169, -3.5777, -3.0196, -4.9581, -4.4053, -5.2309, -4.4435, -4.3599, -3.666, -4.637, -3.1675, -4.7099, -4.7556, -3.855, -4.2931, -3.6768, -4.2188, -4.0648, -4.8492, -4.8424, -4.3506, -4.8808, -4.8177, -4.8821, -4.9349, -4.9285, -6.2284, -6.5821, -6.7008, -6.8507, -6.1729, -6.271, -4.7855, -5.9835, -6.7045, -5.6725, -6.5411, -5.9981, -5.8489, -5.3762, -5.7637, -6.1924, -5.6311, -6.6028, -6.4227, -6.0499, -6.1441, -6.225, -4.8505, -5.7856, -5.8085, -6.9153, -6.3395, -6.2385, -6.0963, -6.6237, -5.1976, -5.5631, -4.6971, -4.4413, -5.5121, -5.3496, -4.5145, -4.2778, -3.6161, -3.8161, -4.1487, -3.7843, -3.4067, -4.7492, -5.1459, -4.3047, -4.4171, -3.5004, -4.6116, -4.1846, -3.7384, -4.4978, -3.9699, -4.6059, -5.2986, -4.6261, -4.658, -5.0336, -4.8011, -4.1533, -4.3243, -4.4992, -4.037, -4.4978, -4.6257, -4.5626, -4.6641, -4.7733, -4.9051, -4.8387, -5.6395, -5.7137, -5.7312, -5.7588, -5.805, -5.8871, -5.8612, -5.7811, -6.0402, -5.7931, -5.0881, -5.709, -5.3849, -5.3427, -5.3295, -6.347, -4.4059, -5.4988, -6.2506, -5.855, -6.2998, -6.2432, -5.25, -6.4059, -6.0259, -5.0695, -5.5819, -4.2021, -5.6021, -4.7785, -4.1282, -2.6411, -2.8504, -3.7188, -3.3024, -3.7859, -4.492, -3.471, -4.1614, -3.9357, -4.2751, -3.5301, -3.9327, -4.0405, -4.7006, -4.1143, -4.164, -4.4741, -4.877, -4.8071, -4.9714, -4.5872, -4.8866, -4.705, -4.8238, -4.8657, -4.8777, -4.8419, -4.8526, -5.5838, -5.65, -5.7584, -5.8899, -5.9306, -5.992, -6.1395, -6.2995, -5.053, -6.2138, -6.3794, -6.0082, -6.2389, -5.9563, -5.8369, -6.324, -4.6176, -5.4443, -5.3735, -6.2325, -6.3796, -5.8673, -6.7579, -5.4249, -5.9619, -6.4816, -4.2589, -6.1045, -4.4565, -4.7576, -4.9082, -3.7294, -3.1006, -4.9127, -3.6875, -3.5702, -4.1026, -3.4423, -3.2176, -3.6152, -3.2423, -3.8951, -3.8249, -4.1401, -4.7833, -4.003, -3.6132, -4.3654, -4.4328, -4.4594, -4.4421, -3.9856, -4.2462, -4.5116, -4.862, -4.7856, -3.7414, -4.0331, -3.9038, -4.4377, -4.5821, -4.6142, -4.7003, -4.8401, -5.0761, -5.1047, -5.1132, -5.1301, -4.8826, -5.1971, -5.2207, -5.2777, -5.3963, -5.4344, -5.4601, -5.5257, -2.6386, -3.9088, -5.5107, -3.778, -5.4707, -2.2715, -5.5842, -5.1358, -5.4108, -5.285, -4.8237, -4.983, -3.8835, -3.4562, -5.0384, -4.2787, -4.4124, -4.869, -4.6448, -4.4339, -4.6036, -4.9697, -4.4774, -4.7651, -4.707, -4.7723, -4.8052, -4.8501, -4.8319, -4.8277, -5.1058, -5.3727, -5.7182, -5.7868, -4.1306, -4.3245, -4.3706, -5.5778, -6.0019, -5.0791, -5.8017, -5.8691, -5.2343, -5.4915, -5.7238, -5.8283, -5.5264, -4.0045, -6.1392, -5.6375, -5.1615, -4.2473, -6.0835, -6.3571, -4.1012, -5.5388, -4.7333, -6.1721, -4.578, -4.5107, -4.4293, -4.3755, -3.1257, -4.8372, -3.5891, -3.5726, -4.1753, -3.2848, -4.2925, -3.2586, -3.5137, -3.3569, -3.9909, -4.0316, -4.2935, -4.6478, -3.8171, -4.0244, -4.2539, -4.4448, -4.514, -4.4848, -4.5474, -4.6028], \"loglift\": [30.0, 29.0, 28.0, 27.0, 26.0, 25.0, 24.0, 23.0, 22.0, 21.0, 20.0, 19.0, 18.0, 17.0, 16.0, 15.0, 14.0, 13.0, 12.0, 11.0, 10.0, 9.0, 8.0, 7.0, 6.0, 5.0, 4.0, 3.0, 2.0, 1.0, 1.8481, 1.8441, 1.8436, 1.8401, 1.839, 1.8375, 1.8372, 1.8314, 1.7641, 1.7098, 1.6846, 1.6, 1.5859, 1.5731, 1.5629, 1.5559, 1.5554, 1.5493, 1.5246, 1.5029, 1.4988, 1.4984, 1.4935, 1.4816, 1.4694, 1.4482, 1.4478, 1.4388, 1.4171, 1.4082, 1.3942, 1.3181, 1.2009, 1.3329, 1.2225, 1.3775, 1.1961, 1.0793, 0.7307, 1.1187, 0.3744, 1.1007, 1.0992, 0.478, 0.6823, -0.0663, 0.431, -0.1687, 0.8637, 0.4759, -0.8771, 0.5144, -0.3397, -0.2126, 0.4999, -0.6231, 1.2345, 1.2308, 1.2291, 1.2266, 1.2248, 1.2226, 1.1998, 1.1767, 1.162, 1.1605, 1.1499, 1.1496, 1.1474, 1.1423, 1.136, 1.135, 1.1302, 1.1277, 1.1222, 1.1106, 1.0975, 1.0919, 1.0895, 1.0882, 1.0754, 1.0721, 1.0709, 1.0622, 1.0558, 1.0497, 1.0377, 1.0148, 0.9478, 0.8515, 0.9678, 0.9417, 0.8029, 0.7517, 0.6125, 0.6127, 0.6482, 0.5211, 0.3727, 0.7219, 0.829, 0.536, 0.5516, 0.1101, 0.5689, 0.3814, 0.176, 0.5017, 0.2506, 0.5361, 0.8505, 0.4521, 0.4558, 0.6837, 0.5172, -0.061, 0.0724, 0.1505, -0.5634, -0.1444, 0.0437, -0.6665, -0.2583, 1.8795, 1.8789, 1.8782, 1.8735, 1.8727, 1.8725, 1.8722, 1.8716, 1.8706, 1.8701, 1.8689, 1.8684, 1.8636, 1.8621, 1.7581, 1.7346, 1.7157, 1.6966, 1.6861, 1.6758, 1.6729, 1.6722, 1.6488, 1.6441, 1.6346, 1.6215, 1.6142, 1.6112, 1.6089, 1.5634, 1.5217, 1.5628, 1.3717, 1.1976, 0.8325, 0.6916, 0.9391, 0.5937, 0.7801, 0.9968, 0.3085, 0.6793, 0.4177, 0.6746, 0.0805, 0.4003, 0.3654, 0.8981, 0.3145, 0.3139, 0.1756, 0.7626, 0.4877, 0.8587, -0.2818, 0.5547, -0.7906, -0.1543, -0.6647, -0.1871, 1.6999, 1.6998, 1.6957, 1.6951, 1.6941, 1.6928, 1.6923, 1.6916, 1.6896, 1.6873, 1.643, 1.6427, 1.5921, 1.5868, 1.5174, 1.5116, 1.4951, 1.4745, 1.47, 1.4396, 1.4328, 1.406, 1.2984, 1.2653, 1.2523, 1.2405, 1.2078, 1.1799, 1.176, 1.1751, 1.1511, 1.1428, 1.1215, 0.9285, 0.8139, 1.0635, 0.7904, 0.7628, 0.7932, 0.4538, 0.3243, 0.4772, 0.2313, 0.4583, 0.4038, 0.5505, 0.8899, 0.4028, -0.0026, 0.5222, 0.5169, 0.5092, 0.3549, -0.2061, 0.0592, -0.3106, 0.8111, -0.3889, 2.1654, 2.1647, 2.1643, 2.1633, 2.1627, 2.1624, 2.1621, 2.1613, 2.1596, 2.1594, 2.1593, 2.1592, 2.1592, 2.1586, 2.1584, 2.1579, 2.1567, 2.1563, 2.156, 2.1553, 2.1288, 2.0861, 2.0216, 2.0082, 1.9806, 1.9294, 1.8755, 1.7235, 1.7133, 1.7002, 1.6353, 1.6218, 1.2303, 0.0174, 1.5259, 0.6089, 0.6171, 1.281, 0.6098, -0.0281, 0.087, 1.1913, -0.8668, 0.313, -0.4783, -0.2063, -0.1473, -0.1807, -0.7396, -1.0482, 2.2335, 2.2308, 2.226, 2.2238, 2.1889, 2.1333, 2.0764, 2.0103, 1.9762, 1.9399, 1.9306, 1.8848, 1.8702, 1.8462, 1.8341, 1.7795, 1.7568, 1.7084, 1.6738, 1.6565, 1.5598, 1.5186, 1.5075, 1.5041, 1.4954, 1.4895, 1.4867, 1.4281, 1.3796, 1.3441, 1.3121, 1.2976, 0.9667, 1.2631, 0.8076, 0.7808, 0.9667, 0.4947, 0.9962, 0.2833, 0.3824, 0.2536, 0.6589, 0.6378, 0.6819, 0.9599, -0.3435, -0.11, 0.1749, 0.0331, 0.1766, -0.1794, -0.3269, -0.1969]}, \"token.table\": {\"Topic\": [3, 4, 1, 2, 4, 6, 1, 2, 3, 4, 5, 6, 3, 4, 1, 2, 3, 4, 5, 6, 1, 2, 3, 4, 5, 6, 3, 4, 6, 5, 1, 2, 3, 4, 6, 1, 2, 6, 1, 2, 1, 2, 3, 4, 5, 6, 2, 5, 6, 1, 3, 4, 6, 1, 3, 4, 5, 1, 2, 3, 4, 5, 6, 1, 3, 4, 1, 3, 4, 5, 6, 1, 2, 4, 5, 6, 1, 2, 3, 5, 6, 1, 4, 6, 5, 5, 1, 2, 4, 4, 5, 1, 2, 3, 4, 5, 5, 1, 2, 1, 2, 5, 6, 1, 2, 3, 4, 5, 6, 1, 2, 2, 4, 5, 1, 2, 3, 4, 6, 1, 2, 3, 4, 5, 6, 1, 2, 3, 4, 5, 6, 2, 3, 5, 1, 2, 4, 5, 1, 2, 3, 4, 5, 6, 3, 4, 5, 3, 4, 5, 2, 3, 4, 5, 1, 4, 6, 1, 3, 5, 1, 2, 4, 5, 6, 1, 1, 4, 5, 1, 2, 5, 6, 1, 2, 3, 4, 5, 6, 1, 2, 3, 4, 5, 6, 1, 2, 3, 4, 5, 6, 5, 5, 1, 3, 4, 5, 6, 1, 2, 4, 5, 3, 4, 1, 3, 6, 1, 2, 2, 5, 2, 3, 4, 6, 2, 2, 4, 6, 2, 3, 4, 1, 1, 3, 4, 1, 3, 5, 6, 1, 4, 1, 3, 3, 5, 6, 1, 3, 1, 3, 4, 6, 3, 4, 2, 6, 1, 2, 3, 5, 6, 5, 3, 4, 5, 5, 4, 1, 4, 3, 4, 3, 6, 1, 3, 4, 6, 1, 2, 3, 4, 5, 6, 2, 3, 2, 5, 1, 2, 3, 4, 5, 6, 1, 2, 3, 4, 5, 6, 1, 2, 3, 4, 5, 6, 3, 4, 6, 3, 4, 1, 2, 3, 4, 5, 6, 2, 3, 4, 5, 1, 6, 4, 2, 4, 4, 2, 3, 4, 5, 2, 3, 4, 6, 2, 3, 5, 1, 2, 4, 3, 4, 1, 4, 5, 2, 4, 5, 2, 3, 4, 5, 1, 2, 3, 4, 5, 6, 2, 3, 4, 1, 1, 3, 4, 5, 3, 5, 6, 4, 5, 1, 2, 6, 1, 3, 6, 1, 2, 3, 4, 5, 6, 1, 3, 4, 5, 3, 6, 2, 6, 2, 3, 4, 5, 2, 5, 3, 6, 1, 2, 3, 4, 5, 6, 1, 3, 4, 5, 6, 1, 2, 3, 4, 5, 6, 1, 2, 3, 4, 5, 6, 1, 2, 6, 4, 5, 1, 3, 5, 4, 5, 5, 5, 1, 2, 3, 6, 1, 2, 1, 2, 5, 1, 3, 4, 4, 1, 1, 3, 4, 3, 1, 4, 1, 3, 6, 1, 2, 3, 4, 5, 6, 1, 2, 3, 4, 6, 1, 2, 3, 4, 6, 1, 2, 3, 4, 5, 6, 2, 5, 1, 2, 3, 4, 5, 6, 1, 2, 3, 4, 5, 4, 5, 1, 2, 3, 4, 5, 6, 1, 2, 3, 4, 5, 6, 2, 3, 4, 5, 6, 1, 3, 2, 3, 4, 6, 1, 5, 6, 2, 3, 4, 5, 6, 3, 5, 3, 4, 5, 1, 2, 3, 4, 5, 6, 1, 2, 3, 4, 5, 6, 2, 3, 4, 3, 4, 1, 2, 3, 6, 1, 2, 4, 5, 6, 4, 1, 2, 4, 6, 3, 1, 4, 1, 2, 4, 6, 1, 2, 4, 5, 1, 1, 2, 5, 6, 1, 3, 6, 5, 6, 1, 3, 5, 1, 3, 5, 6, 1, 2, 3, 4, 5, 6, 6, 1, 4, 5, 6, 4, 5, 1, 4, 1, 2, 4, 2, 4, 2, 5, 3, 4, 5, 2, 5, 6, 4, 2, 3, 5, 1, 2, 5, 5, 5, 5, 5, 1, 3, 4, 6, 1, 3, 4, 3, 1, 2, 5, 6, 3, 2, 3, 5, 6, 1, 2, 3, 4, 5, 6, 3, 4, 5, 3, 1, 2, 3, 4, 5, 6, 1, 2, 5, 5, 1, 2, 3, 4, 5, 6, 1, 2, 4, 6, 2, 6, 6, 2, 6, 1, 2, 5, 4, 6, 1, 2, 6, 1, 2, 5, 1, 2, 3, 4, 5, 6, 1, 2, 3, 4, 6, 1, 2, 6, 1, 2, 3, 4, 5, 6, 2, 5, 3, 4, 3, 4, 6, 3, 4, 5, 2, 6, 3, 1, 2, 3, 4, 5, 6, 2, 3, 3, 4, 5, 1, 2, 3, 4, 5, 6, 1, 2, 3, 5, 6, 1, 2, 3, 4, 5, 6, 3, 1, 5, 6, 1, 3, 4, 5, 6, 1, 2, 3, 4, 5, 6, 2, 3, 3, 1, 2, 3, 4, 5, 6, 1, 2, 5, 6, 3, 1, 2, 3, 5, 1, 2, 3, 4, 6, 1, 2, 3, 5, 1, 3, 4, 2, 3, 4, 2, 5, 6, 1, 2, 3, 4, 5, 6, 1, 2, 5, 2, 1, 2, 3, 4, 5, 6], \"Freq\": [0.17829757551815348, 0.8075831361704598, 0.06345303477740143, 0.06345303477740143, 0.7916521481751987, 0.0815824732852304, 0.1854015376519677, 0.5086344815846745, 0.020735698290022704, 0.18296204373549443, 0.009757975665893037, 0.09270076882598385, 0.23558810972969085, 0.7625615130724204, 0.03615814103581634, 0.2707751698023065, 0.06574207461057516, 0.29337400794969165, 0.054648099520040606, 0.27940381709494444, 0.08533241924661704, 0.6420914825278232, 0.061551253227068024, 0.04896122415789502, 0.019584489663158008, 0.14128810399849706, 0.8111013132919207, 0.07810605239107385, 0.10514276283413787, 0.9930919414316896, 0.01138886816089282, 0.26763840178098125, 0.05124990672401769, 0.1651385883329459, 0.5068046331597305, 0.07791072917713204, 0.06925398149078404, 0.8483612732621045, 0.7182758844422377, 0.2593774027152525, 0.05038708008577301, 0.5311834237079622, 0.03767258324169945, 0.27265532121179975, 0.0711070008687077, 0.0372016759511782, 0.9916404452767333, 0.9894793672395901, 0.9930774902752595, 0.23655504179036352, 0.14456141442744438, 0.13580011658335683, 0.48406170588583647, 0.17029600643437745, 0.13785867187544842, 0.5271066865825969, 0.1621866727946452, 0.03425497529298501, 0.5921217157787408, 0.0032623785993319055, 0.1517006048689336, 0.0016311892996659528, 0.21694817685557172, 0.13123053725614373, 0.26246107451228745, 0.5978280030557659, 0.6256524836490452, 0.11190532227869102, 0.07121247781371247, 0.09664550560432406, 0.09664550560432406, 0.1366272493220523, 0.33631322910043643, 0.2535486453765009, 0.21019576818777277, 0.06305873045633183, 0.6709319440328979, 0.26837277761315914, 0.024397525237559923, 0.036596287856339886, 0.006099381309389981, 0.6720891762482942, 0.03907495210745897, 0.2891546455951964, 0.9967050829883237, 0.9893494763077672, 0.017834286121196544, 0.36560286548452914, 0.6063657281206825, 0.9391742769829219, 0.05316080813110879, 0.12593889857263743, 0.7371129651751426, 0.00740817050427279, 0.10741847231195545, 0.018520426260681976, 0.9897679645421421, 0.16645725264179856, 0.8235253551752139, 0.2534172855436725, 0.48303294758324317, 0.13300907252292202, 0.13020888152243945, 0.05236761659131373, 0.5502755902134872, 0.010806016122017119, 0.25934438692841083, 0.009143552103245255, 0.11720371332341645, 0.15409558713405905, 0.8441758251691931, 0.8623447956569548, 0.1245609149282268, 0.00958160884063283, 0.48135092391781176, 0.44449071803221357, 0.026018968860422258, 0.010841237025175941, 0.0368602058855982, 0.12732629703351578, 0.3007534947170976, 0.13025333834463107, 0.1448885449002076, 0.09586060293902623, 0.20123409013917723, 0.2928017888225958, 0.0605796804460543, 0.010096613407675717, 0.010096613407675717, 0.07067629385373002, 0.5553137374221645, 0.18102663507450117, 0.778414530820355, 0.036205327014900236, 0.07558522259312471, 0.6586712254543724, 0.21055883436656167, 0.05398944470937479, 0.001996552919694583, 0.2475725620421283, 0.2016518448891529, 0.44323474817219743, 0.003993105839389166, 0.10382075182411832, 0.7583407127916156, 0.15275928027457006, 0.08183532871851967, 0.07687674498953644, 0.051251163326357624, 0.8584569857164901, 0.16996935713219835, 0.15035750823232932, 0.03268641483311507, 0.6406537307290553, 0.7499193224050698, 0.0792771855113931, 0.16926750420000147, 0.051115769577117345, 0.3152139123922236, 0.6389471197139668, 0.523112424751206, 0.3699152146454957, 0.021017909923039528, 0.009341293299128679, 0.07659860505285516, 0.9916961805871357, 0.9921780383607218, 0.8289479182864326, 0.16819233124652255, 0.6937065271791023, 0.11748255702226733, 0.15664340936302312, 0.033566444863504956, 0.32698938828520213, 0.30972078345242315, 0.0011141035375986444, 0.1231084409046502, 0.0011141035375986444, 0.2384181570461099, 0.038269613762898815, 0.42162557231883346, 0.33188992625410524, 0.07719904845274415, 0.0930347506994609, 0.03760979283595228, 0.64879258949819, 0.14958756755186148, 0.005218170961111447, 0.003478780640740965, 0.01391512256296386, 0.1774178126777892, 0.9986344733532225, 0.9949310140019098, 0.34581583170794267, 0.0025059118239705988, 0.5713478958652966, 0.0025059118239705988, 0.08018917836705916, 0.6341884490708916, 0.1163304255692168, 0.2251556623920325, 0.02251556623920325, 0.7276901236850085, 0.26622809403110065, 0.2714549109980633, 0.1526933874364106, 0.5598757539335055, 0.744847773915222, 0.2516377614578452, 0.9128116968899835, 0.07159307426588106, 0.2491244675777919, 0.230986926041079, 0.28806683617132256, 0.23205384024912096, 0.9840130715868661, 0.1996422073404098, 0.40926652504784006, 0.3893023043137991, 0.8263321605999676, 0.10329152007499595, 0.07377965719642568, 0.9828164387766901, 0.5212506891682408, 0.3262643202571581, 0.1525140905344112, 0.7460870041901684, 0.07774854552683118, 0.07326305251566784, 0.10316633925675675, 0.8469982832239034, 0.15063234774535889, 0.26975756487475294, 0.7222541253098225, 0.7676577301868108, 0.03308869526667288, 0.1919144325467027, 0.7440105001140468, 0.24349434549186988, 0.9842272035602484, 0.8649363151278145, 0.12719651693056094, 0.00847976779537073, 0.9867862183219551, 0.0145115620341464, 0.30908974000893974, 0.6933634708308648, 0.12095357793732493, 0.4541464530099559, 0.015975000859646687, 0.3913875210613439, 0.017116072349621453, 0.9942112130077414, 0.8763471851415146, 0.012004755960842665, 0.09603804768674132, 0.9916557818181873, 0.9837637515810536, 0.09550707909493465, 0.8868514487386789, 0.8141784066224937, 0.17040943394424288, 0.8245654303727772, 0.1691416267431338, 0.6622745725962423, 0.02943442544872188, 0.1422663896688224, 0.16679507754275733, 0.08769878590383137, 0.22261999498664886, 0.21924696475957844, 0.27209110498368194, 0.11130999749332443, 0.08713661419931963, 0.9922009539841912, 0.9943665355593592, 0.9738801879744718, 0.012327597316132555, 0.0008683984477523296, 0.4923819198755709, 0.2995974644745537, 0.08249785253647132, 0.036472734805597845, 0.08857664167073763, 0.016106643640874586, 0.5315192401488613, 0.20823589278559287, 0.08110845547726131, 0.03623994819196782, 0.12655220003544318, 0.2289063186865021, 0.05094705850683018, 0.30354968347557887, 0.25165477271745884, 0.02393326934506906, 0.14099302237936723, 0.6951956353006374, 0.21212918176847245, 0.09031242392123084, 0.7845596753918882, 0.19925325089317797, 0.3110146738681213, 0.3259195304432709, 0.020866799205209417, 0.1182451954961867, 0.013911199470139612, 0.20966164915710414, 0.8984292496895486, 0.020418846583853376, 0.020418846583853376, 0.05445025755694234, 0.28788950088340404, 0.703729891048321, 0.9955969379240319, 0.8823262187403795, 0.10380308455769172, 0.9882183894566228, 0.6741701625155692, 0.12418924046339433, 0.14465999438593186, 0.05595339405493591, 0.2155431918442617, 0.5983736370601892, 0.048255938472595905, 0.13511662772326855, 0.8551832271284043, 0.05475258466370881, 0.08603977590011384, 0.011343163121575156, 0.8393940709965616, 0.13611795745890187, 0.0994049377320987, 0.8946444395888883, 0.143003278756973, 0.10725245906772975, 0.7507672134741082, 0.3455594370648468, 0.12167585812142494, 0.5256397070845558, 0.09980503410558951, 0.3108213919288359, 0.5589081909913013, 0.031367296433185275, 0.08440383253251298, 0.4850678086507071, 0.11491124188161404, 0.1932135925443068, 0.0340666071064962, 0.08897994393487814, 0.8556252704786175, 0.07296029438189762, 0.07296029438189762, 0.9900499824594049, 0.07411309149345216, 0.13340356468821388, 0.6670178234410694, 0.13340356468821388, 0.9808100846741569, 0.00715919769835151, 0.00715919769835151, 0.9837775251378545, 0.9885935283222879, 0.09625378871299384, 0.004375172214226993, 0.8969103039165335, 0.7655438581069729, 0.1448326218040219, 0.08965828968820402, 0.2630740715075003, 0.3704203880421699, 0.04838143843816097, 0.14816815521686796, 0.007559599755962652, 0.16328735472879327, 0.04132710148446382, 0.02066355074223191, 0.6405700730091892, 0.28928971039124673, 0.22012701443416577, 0.760438777136209, 0.916073796065715, 0.07508801607096025, 0.6104498969080785, 0.12376819215662072, 0.05244414921890708, 0.2118743628443846, 0.9856239555826569, 0.011200272222530193, 0.7928896984178406, 0.19338773132142453, 0.02324529876633001, 0.36362288784473373, 0.411773863860703, 0.04150946208273216, 0.1593963343976915, 0.0016603784833092864, 0.04990796282947444, 0.38841414549895326, 0.46074452641123503, 0.09909262184982606, 0.001446607618245636, 0.05041426251542672, 0.034493969089502495, 0.2175773434876311, 0.17777660992282054, 0.0981751427931994, 0.421887775786992, 0.05124414235954619, 0.3432325776834033, 0.06878408370408884, 0.4106409797134104, 0.03026499682979909, 0.09526595593016304, 0.7028166484438635, 0.2763885696127553, 0.0157936325493003, 0.9946012016374948, 0.9946294695053152, 0.6422044604381056, 0.058382223676191426, 0.2919111183809571, 0.9827777028938053, 0.995688858473616, 0.9880945899771999, 0.9812592532299218, 0.2137503543931853, 0.37192561664414236, 0.019237531895386677, 0.39543815562739276, 0.08722861366575758, 0.9071775821238789, 0.1239784374492273, 0.8575175256904889, 0.010331536454102275, 0.025775531447521587, 0.31789822118609956, 0.6443882861880397, 0.9938593984482029, 0.9932437458265122, 0.053608648255182446, 0.8130644985369337, 0.12508684592875904, 0.9874506112647866, 0.16030017989226733, 0.8335609354397902, 0.04695308331883498, 0.21911438882122988, 0.7355983053284146, 0.15535017810905077, 0.23487467404582676, 0.0832233097012772, 0.0018494068822506044, 0.049933985820766316, 0.47344816185615474, 0.2120435314611276, 0.231073079156357, 0.0353405885768546, 0.2337915859699612, 0.28816172224204517, 0.12718867566284103, 0.3884041278306113, 0.24753925048359382, 0.23659828913625267, 0.0013676201684176454, 0.14720373808245077, 0.32156402784562954, 0.16471590692329405, 0.18146667711888329, 0.04822191419942353, 0.136797956597312, 0.37074044479675455, 0.6302587561544828, 0.061890354467831275, 0.28578781327792674, 0.09738629305967568, 0.30672131552439913, 0.2102451747363092, 0.03822639540660167, 0.7064022297585171, 0.01922182938118414, 0.024027286726480173, 0.08169277487003258, 0.1681910070853612, 0.7409266428658101, 0.24222601785997638, 0.24179309309251124, 0.33506639309852443, 0.18152419155016422, 0.02080712077057218, 0.015784712308709932, 0.2052012600132291, 0.46290835943920106, 0.281220778089344, 0.036337516269971414, 0.0015798920117378874, 0.04739676035213662, 0.17062833726769186, 0.5695893997416762, 0.13978933986334177, 0.006259224172985453, 0.05216020144154544, 0.23159129440046175, 0.2295656670946863, 0.7721754256821266, 0.7433724092521459, 0.18438741221658972, 0.0058227603857870435, 0.06793220450084884, 0.4388428967010137, 0.10971072417525342, 0.4388428967010137, 0.49179025947036964, 0.06924970240752222, 0.12089354827075911, 0.03755916062780866, 0.2793462571693269, 0.03712331860911515, 0.9619781691753317, 0.03580542787110621, 0.04131395523589178, 0.9226783336015831, 0.020725433044324677, 0.5003711692129815, 0.019738507661261596, 0.3029860926003655, 0.1223787474998219, 0.034542388407207796, 0.07100196062622358, 0.23617494271459633, 0.12630875100875563, 0.31539818299227734, 0.12481397289030882, 0.12705614006797902, 0.17421448379339408, 0.05360445655181356, 0.7705640629323199, 0.9918048703676909, 0.9890896248532295, 0.47162632021289824, 0.05745701362999776, 0.059851055864581, 0.4069871798791508, 0.06098975863182686, 0.8335267013016338, 0.04065983908788457, 0.05082479885985571, 0.9865552949124181, 0.9951109203700863, 0.07669159891819975, 0.12270655826911961, 0.05368411924273983, 0.7362393496147176, 0.9801349118968395, 0.868553572188772, 0.12407908174125315, 0.17029300569533426, 0.06966532051172765, 0.28640187321488036, 0.47217606124615413, 0.06967033065918163, 0.14929356569824637, 0.5872213584131023, 0.18910518321777872, 0.9988551050870673, 0.34493350894772257, 0.12762539831065733, 0.05863869652111283, 0.46910957216890264, 0.37392330711540916, 0.03946968241773763, 0.5858131811474743, 0.35927223410861525, 0.6356354911152424, 0.9184819994066947, 0.0208745908956067, 0.0626237726868201, 0.9910064721176299, 0.7683373700545983, 0.11382775852660716, 0.11382775852660716, 0.25403635872964353, 0.04390751879277789, 0.22685551376268578, 0.3904632921214891, 0.04495293590689165, 0.040248558893379735, 0.9906492297289501, 0.17664857529029634, 0.31253209474437044, 0.02717670389081482, 0.4755923180892594, 0.8026441421710307, 0.2006610355427577, 0.36618384041841706, 0.630051607778747, 0.7822278964679003, 0.009901618942631649, 0.2079339977952646, 0.848346866750599, 0.14139114445843318, 0.8977346974149408, 0.0939489799620287, 0.013412160009469173, 0.13412160009469173, 0.8516721606012925, 0.2483574840386482, 0.5778112893960387, 0.17232968280232733, 0.9820715172446591, 0.38110714703046383, 0.026283251519342334, 0.5869926172653122, 0.08995851632794422, 0.9070817063067709, 0.9888333146807842, 0.9969427067719056, 0.9986170300968668, 0.9905957190116818, 0.994723755905344, 0.7048478986444208, 0.10069255694920295, 0.15823116092017608, 0.02876930198548656, 0.5881852705969091, 0.009176057263602327, 0.4019113081457819, 0.9792535179084099, 0.16102869400485667, 0.7559402579672438, 0.07156830844660296, 0.004473019277912685, 0.9849817464414115, 0.25971083553102636, 0.08989990460689373, 0.02996663486896458, 0.6193104539586013, 0.10766511124219873, 0.4148273403743539, 0.26441284672716453, 0.018999725513329187, 0.18366401329551546, 0.007916552297220495, 0.07832158742689173, 0.1332841049194473, 0.7882541050390681, 0.9943545877484234, 0.03680048649882782, 0.2634140086231886, 0.29827762741155184, 0.30505666439817797, 0.08909591468137262, 0.005810603131393866, 0.05299432286605273, 0.936233037300265, 0.008832387144342122, 0.988221688864884, 0.13303910031494548, 0.14789625872575157, 0.27519509329106745, 0.28667562479032666, 0.0016883134557734198, 0.1556625006223093, 0.14398324337472662, 0.0037398245032396523, 0.5759329734989065, 0.2767470132397343, 0.7943367146944023, 0.20228450498428877, 0.9716316392997777, 0.2032349511681852, 0.7993908079281952, 0.6831796875763082, 0.20145042069557806, 0.11386328126271804, 0.32866012070014894, 0.6704666462283039, 0.41009944602405135, 0.211170610266116, 0.37643456612655457, 0.051139337179479764, 0.9019119466199158, 0.04184127587411981, 0.0916087144192784, 0.475347440375589, 0.06310822548883624, 0.1974676733037779, 0.06209035088417758, 0.10993045730313408, 0.5341983186002479, 0.22512643426724735, 0.01144710682714817, 0.15835164444221636, 0.07059049210074705, 0.05274029092876634, 0.2637014546438317, 0.6750757238882091, 0.06550671965749512, 0.16398810562906718, 0.3494429403350838, 0.22927351880123295, 0.11640721128325147, 0.07524420501198764, 0.9169966691328946, 0.07641638909440787, 0.05552211163268861, 0.9383236865924375, 0.14243851387997084, 0.37390109893492346, 0.48072998434490155, 0.9922223018550529, 0.16542379784692401, 0.82711898923462, 0.04953515027687853, 0.948788647610981, 0.9929581344625226, 0.259563089469444, 0.0015731096331481455, 0.08652102982314801, 0.5899161124305546, 0.04562017936129622, 0.018877315597777746, 0.874625330330298, 0.11484979085145326, 0.8455681931029314, 0.07977058425499353, 0.07179352582949418, 0.12113058301861913, 0.4525879056422951, 0.0055059355917554155, 0.12223177013697022, 0.15636857080585378, 0.1420531382672897, 0.5962244788972344, 0.18145962401220178, 0.05184560686062908, 0.15553682058188723, 0.011109772898706231, 0.11178028420606331, 0.1625345754131407, 0.20785090684803123, 0.4012005876368975, 0.006042177524652071, 0.10996763094866768, 0.9894320871891183, 0.7663206485074247, 0.1277201080845708, 0.11175509457399943, 0.705167355858324, 0.0399837160538225, 0.21082323010197318, 0.003634883277620227, 0.0399837160538225, 0.0023358449754224894, 0.31300322670661357, 0.35972012621506333, 0.1728525281812642, 0.06773950428725219, 0.0864262640906321, 0.890468904939683, 0.09373356894101927, 0.9908818112740443, 0.012621003697065824, 0.4179956224432991, 0.2070445606494846, 0.14814654339651073, 0.04026701179540049, 0.1742900510547185, 0.125320214421249, 0.674801154575956, 0.17352029689096013, 0.025706710650512613, 0.9899903148336258, 0.0771908234746594, 0.498524068273842, 0.012865137245776566, 0.4116843918648501, 0.4718909276867335, 0.30695817626224414, 0.006872197976020391, 0.21074740459795865, 0.0022907326586734636, 0.38047081400317767, 0.18210568875365768, 0.06178585868427672, 0.3772189267040052, 0.01544814781419129, 0.826475908059234, 0.1544814781419129, 0.9547419106554956, 0.0409175104566641, 0.002727834030444273, 0.8890527300469669, 0.06519720020344424, 0.041489127402191794, 0.00987478048904997, 0.059248682934299815, 0.5036138049415485, 0.18479946343793516, 0.16928195124085663, 0.0733555122043712, 0.15061840192142337, 0.8126388196690749, 0.035027535330563575, 0.9723449654987315, 0.0555959235961537, 0.2761264205275634, 0.3724926880942298, 0.14640259880320475, 0.0630087134089742, 0.08339388539423055], \"Term\": [\"acacia_honey\", \"acacia_honey\", \"allspice\", \"allspice\", \"allspice\", \"allspice\", \"almond\", \"almond\", \"almond\", \"almond\", \"almond\", \"almond\", \"aniseed\", \"aniseed\", \"apple\", \"apple\", \"apple\", \"apple\", \"apple\", \"apple\", \"apricot\", \"apricot\", \"apricot\", \"apricot\", \"apricot\", \"apricot\", \"aroma\", \"aroma\", \"aroma\", \"ash\", \"baked\", \"baked\", \"baked\", \"baked\", \"baked\", \"baking_spice\", \"baking_spice\", \"baking_spice\", \"bar\", \"bar\", \"barley\", \"barley\", \"barley\", \"barley\", \"barley\", \"barley\", \"basil\", \"bbq\", \"bean\", \"berry\", \"berry\", \"berry\", \"berry\", \"big\", \"big\", \"big\", \"big\", \"biscuit\", \"biscuit\", \"biscuit\", \"biscuit\", \"biscuit\", \"biscuit\", \"bittersweet\", \"bittersweet\", \"bittersweet\", \"black\", \"black\", \"black\", \"black\", \"black\", \"black_pepper\", \"black_pepper\", \"black_pepper\", \"black_pepper\", \"black_pepper\", \"blackberry\", \"blackberry\", \"blackberry\", \"blackberry\", \"blackberry\", \"blackcurrant\", \"blackcurrant\", \"blackcurrant\", \"bonfire\", \"bonfire_ember\", \"bourbon\", \"bourbon\", \"bourbon\", \"brandy_butter\", \"brandy_butter\", \"bread\", \"bread\", \"bread\", \"bread\", \"bread\", \"brine\", \"brown_bread\", \"brown_bread\", \"brown_sugar\", \"brown_sugar\", \"brown_sugar\", \"brown_sugar\", \"butter\", \"butter\", \"butter\", \"butter\", \"butter\", \"butter\", \"buttered\", \"buttered\", \"buttered_toast\", \"buttered_toast\", \"buttered_toast\", \"cake\", \"cake\", \"cake\", \"cake\", \"cake\", \"caramel\", \"caramel\", \"caramel\", \"caramel\", \"caramel\", \"caramel\", \"caramelised\", \"caramelised\", \"caramelised\", \"caramelised\", \"caramelised\", \"caramelised\", \"cask\", \"cask\", \"cask\", \"cedar\", \"cedar\", \"cedar\", \"cedar\", \"cereal\", \"cereal\", \"cereal\", \"cereal\", \"cereal\", \"cereal\", \"character\", \"character\", \"character\", \"charcoal\", \"charcoal\", \"charcoal\", \"charred\", \"charred\", \"charred\", \"charred\", \"cherry\", \"cherry\", \"cherry\", \"chilli\", \"chilli\", \"chilli\", \"chocolate\", \"chocolate\", \"chocolate\", \"chocolate\", \"chocolate\", \"christmas\", \"christmas_cake\", \"cider\", \"cider\", \"cigar_box\", \"cigar_box\", \"cigar_box\", \"cigar_box\", \"cinnamon\", \"cinnamon\", \"cinnamon\", \"cinnamon\", \"cinnamon\", \"cinnamon\", \"citrus\", \"citrus\", \"citrus\", \"citrus\", \"citrus\", \"citrus\", \"clove\", \"clove\", \"clove\", \"clove\", \"clove\", \"clove\", \"coastal\", \"coastal_air\", \"cocoa\", \"cocoa\", \"cocoa\", \"cocoa\", \"cocoa\", \"coffee\", \"coffee\", \"coffee\", \"coffee\", \"complex\", \"complex\", \"compote\", \"compote\", \"compote\", \"cookie\", \"cookie\", \"cracker\", \"cracker\", \"cream\", \"cream\", \"cream\", \"cream\", \"crunchy_brown\", \"custard\", \"custard\", \"custard\", \"cut_grass\", \"cut_grass\", \"cut_grass\", \"damson\", \"dark\", \"dark\", \"dark\", \"dark_chocolate\", \"dark_chocolate\", \"dark_chocolate\", \"dark_chocolate\", \"date\", \"date\", \"deep\", \"deep\", \"delicate\", \"delicate\", \"delicate\", \"demerara_sugar\", \"demerara_sugar\", \"dense\", \"depth\", \"depth\", \"depth\", \"dram\", \"dram\", \"dusting\", \"dusting\", \"earth\", \"earth\", \"earth\", \"earth\", \"earth\", \"earthy_peat\", \"elegant\", \"elegant\", \"elegant\", \"ember\", \"entry\", \"exotic_spice\", \"exotic_spice\", \"faint\", \"faint\", \"fairly\", \"fairly\", \"fig\", \"fig\", \"fig\", \"fig\", \"finish\", \"finish\", \"finish\", \"finish\", \"finish\", \"finish\", \"flaky_pastry\", \"flavour\", \"flint\", \"flint\", \"floral\", \"floral\", \"floral\", \"floral\", \"floral\", \"floral\", \"fresh\", \"fresh\", \"fresh\", \"fresh\", \"fresh\", \"fresh\", \"fruit\", \"fruit\", \"fruit\", \"fruit\", \"fruit\", \"fruit\", \"gentle\", \"gentle\", \"gentle\", \"gently\", \"gently\", \"ginger\", \"ginger\", \"ginger\", \"ginger\", \"ginger\", \"ginger\", \"golden\", \"golden\", \"golden\", \"golden\", \"good_helping\", \"good_helping\", \"good_length\", \"gooseberry\", \"gooseberry\", \"granary_toast\", \"grass\", \"grass\", \"grass\", \"grass\", \"green\", \"green\", \"green\", \"green\", \"green_apple\", \"green_apple\", \"green_apple\", \"greengage\", \"greengage\", \"greengage\", \"guava\", \"guava\", \"ham\", \"ham\", \"ham\", \"heather\", \"heather\", \"heather\", \"herbal\", \"herbal\", \"herbal\", \"herbal\", \"honey\", \"honey\", \"honey\", \"honey\", \"honey\", \"honey\", \"honeydew_melon\", \"honeydew_melon\", \"honeydew_melon\", \"hot_cross\", \"huge\", \"huge\", \"huge\", \"huge\", \"initially\", \"initially\", \"initially\", \"interesting\", \"iodine\", \"jam\", \"jam\", \"jam\", \"jammy\", \"jammy\", \"jammy\", \"juicy\", \"juicy\", \"juicy\", \"juicy\", \"juicy\", \"juicy\", \"late\", \"late\", \"late\", \"late\", \"latte\", \"latte\", \"lead\", \"lead\", \"lemon\", \"lemon\", \"lemon\", \"lemon\", \"lemongrass\", \"lemongrass\", \"length\", \"length\", \"light\", \"light\", \"light\", \"light\", \"light\", \"light\", \"long\", \"long\", \"long\", \"long\", \"long\", \"lot\", \"lot\", \"lot\", \"lot\", \"lot\", \"lot\", \"malt\", \"malt\", \"malt\", \"malt\", \"malt\", \"malt\", \"malt_loaf\", \"malt_loaf\", \"malt_loaf\", \"manuka_honey\", \"maritime\", \"mature_oak\", \"mature_oak\", \"mature_oak\", \"maybe\", \"meat\", \"medicinal\", \"medicinal_peat\", \"milk_chocolate\", \"milk_chocolate\", \"milk_chocolate\", \"milk_chocolate\", \"milky_coffee\", \"milky_coffee\", \"mint_leaf\", \"mint_leaf\", \"mint_leaf\", \"mixed\", \"mixed\", \"mixed\", \"mixed_peel\", \"mocha\", \"mouth\", \"mouth\", \"mouth\", \"mouthfeel\", \"musty\", \"musty\", \"nougat\", \"nougat\", \"nougat\", \"nut\", \"nut\", \"nut\", \"nut\", \"nut\", \"nut\", \"nutmeg\", \"nutmeg\", \"nutmeg\", \"nutmeg\", \"nutmeg\", \"nutty\", \"nutty\", \"nutty\", \"nutty\", \"nutty\", \"oak\", \"oak\", \"oak\", \"oak\", \"oak\", \"oak\", \"oatcake\", \"oatcake\", \"oil\", \"oil\", \"oil\", \"oil\", \"oil\", \"oil\", \"old\", \"old\", \"old\", \"old\", \"old\", \"oloroso\", \"oloroso\", \"orange\", \"orange\", \"orange\", \"orange\", \"orange\", \"orange\", \"orange_peel\", \"orange_peel\", \"orange_peel\", \"orange_peel\", \"orange_peel\", \"orange_peel\", \"orchard_fruit\", \"orchard_fruit\", \"orchard_fruit\", \"orchard_fruit\", \"orchard_fruit\", \"particularly\", \"particularly\", \"peach\", \"peach\", \"peach\", \"peach\", \"peanut_brittle\", \"peanut_brittle\", \"peanut_brittle\", \"pear\", \"pear\", \"pear\", \"pear\", \"pear\", \"peat\", \"peat\", \"peat_smoke\", \"peat_smoke\", \"peat_smoke\", \"peel\", \"peel\", \"peel\", \"peel\", \"peel\", \"peel\", \"pepper\", \"pepper\", \"pepper\", \"pepper\", \"pepper\", \"pepper\", \"peppermint\", \"peppermint\", \"peppermint\", \"petal\", \"pipe_tobacco\", \"plum\", \"plum\", \"plum\", \"plum\", \"popcorn\", \"popcorn\", \"popcorn\", \"popcorn\", \"porridge_oats\", \"potpourri\", \"praline\", \"praline\", \"praline\", \"praline\", \"present\", \"prune\", \"prune\", \"pudding\", \"pudding\", \"pudding\", \"pudding\", \"punch\", \"punch\", \"punch\", \"punch\", \"raisin\", \"raspberry\", \"raspberry\", \"raspberry\", \"raspberry\", \"red\", \"red\", \"red\", \"red_grape\", \"red_grape\", \"red_wine\", \"red_wine\", \"red_wine\", \"redcurrant\", \"refreshing\", \"refreshing\", \"refreshing\", \"rich\", \"rich\", \"rich\", \"rich\", \"rich\", \"rich\", \"roasted_coffee\", \"root\", \"root\", \"root\", \"root\", \"rubber\", \"rubber\", \"rum\", \"rum\", \"rum_raisin\", \"rum_raisin\", \"rum_raisin\", \"runny_honey\", \"runny_honey\", \"rye\", \"rye\", \"salt\", \"salt\", \"salt\", \"salted_caramel\", \"salted_caramel\", \"salted_caramel\", \"salty_butter\", \"savoury\", \"savoury\", \"savoury\", \"sawdust\", \"sawdust\", \"sea_air\", \"sea_breeze\", \"sea_salt\", \"sea_spray\", \"seaweed\", \"seville_orange\", \"seville_orange\", \"seville_orange\", \"seville_orange\", \"sherry\", \"sherry\", \"sherry\", \"short\", \"shortbread\", \"shortbread\", \"shortbread\", \"shortbread\", \"silk\", \"skin\", \"skin\", \"skin\", \"skin\", \"slightly\", \"slightly\", \"slightly\", \"slightly\", \"slightly\", \"slightly\", \"smoke\", \"smoke\", \"smoke\", \"smooth\", \"soft\", \"soft\", \"soft\", \"soft\", \"soft\", \"soft\", \"softly\", \"softly\", \"softly\", \"soot\", \"spice\", \"spice\", \"spice\", \"spice\", \"spice\", \"spice\", \"spiced\", \"spiced\", \"spiced\", \"spiced\", \"sponge_cake\", \"sponge_cake\", \"sprinkle\", \"stewed\", \"stewed\", \"stick\", \"stick\", \"stick\", \"sticky_toffee\", \"sticky_toffee\", \"strawberry\", \"strawberry\", \"strawberry\", \"subtly\", \"subtly\", \"subtly\", \"sugar\", \"sugar\", \"sugar\", \"sugar\", \"sugar\", \"sugar\", \"sultana\", \"sultana\", \"sultana\", \"sultana\", \"sultana\", \"summer_berry\", \"summer_berry\", \"summer_berry\", \"sweet\", \"sweet\", \"sweet\", \"sweet\", \"sweet\", \"sweet\", \"sweetie\", \"sweetie\", \"tail\", \"tail\", \"tangerine\", \"tangerine\", \"tangerine\", \"tannin\", \"tar\", \"tar\", \"tart\", \"tart\", \"texture\", \"thick\", \"thick\", \"thick\", \"thick\", \"thick\", \"thick\", \"thyme\", \"thyme\", \"time\", \"time\", \"time\", \"toasted\", \"toasted\", \"toasted\", \"toasted\", \"toasted\", \"toasted\", \"tobacco\", \"tobacco\", \"tobacco\", \"tobacco\", \"tobacco\", \"toffee\", \"toffee\", \"toffee\", \"toffee\", \"toffee\", \"toffee\", \"tone\", \"tow\", \"tow\", \"tow\", \"treacle\", \"treacle\", \"treacle\", \"treacle\", \"treacle\", \"tropical_fruit\", \"tropical_fruit\", \"tropical_fruit\", \"tropical_fruit\", \"tropical_fruit\", \"tropical_fruit\", \"turkish_delight\", \"turkish_delight\", \"undertone\", \"vanilla\", \"vanilla\", \"vanilla\", \"vanilla\", \"vanilla\", \"vanilla\", \"vanilla_pod\", \"vanilla_pod\", \"vanilla_pod\", \"vanilla_pod\", \"vibrant\", \"waft\", \"waft\", \"waft\", \"waft\", \"walnut\", \"walnut\", \"walnut\", \"walnut\", \"walnut\", \"wave\", \"wave\", \"wave\", \"wave\", \"whisky\", \"whisky\", \"whisky\", \"white\", \"white\", \"white\", \"white_grape\", \"white_grape\", \"white_grape\", \"wood\", \"wood\", \"wood\", \"wood\", \"wood\", \"wood\", \"y\", \"y\", \"y\", \"yellow_plum\", \"zest\", \"zest\", \"zest\", \"zest\", \"zest\", \"zest\"]}, \"R\": 30, \"lambda.step\": 0.01, \"plot.opts\": {\"xlab\": \"PC1\", \"ylab\": \"PC2\"}, \"topic.order\": [1, 2, 3, 4, 5, 6]};\n",
       "\n",
       "function LDAvis_load_lib(url, callback){\n",
       "  var s = document.createElement('script');\n",
       "  s.src = url;\n",
       "  s.async = true;\n",
       "  s.onreadystatechange = s.onload = callback;\n",
       "  s.onerror = function(){console.warn(\"failed to load library \" + url);};\n",
       "  document.getElementsByTagName(\"head\")[0].appendChild(s);\n",
       "}\n",
       "\n",
       "if(typeof(LDAvis) !== \"undefined\"){\n",
       "   // already loaded: just create the visualization\n",
       "   !function(LDAvis){\n",
       "       new LDAvis(\"#\" + \"ldavis_el122482807867569536269051900\", ldavis_el122482807867569536269051900_data);\n",
       "   }(LDAvis);\n",
       "}else if(typeof define === \"function\" && define.amd){\n",
       "   // require.js is available: use it to load d3/LDAvis\n",
       "   require.config({paths: {d3: \"https://d3js.org/d3.v5\"}});\n",
       "   require([\"d3\"], function(d3){\n",
       "      window.d3 = d3;\n",
       "      LDAvis_load_lib(\"https://cdn.jsdelivr.net/gh/bmabey/pyLDAvis@3.3.1/pyLDAvis/js/ldavis.v3.0.0.js\", function(){\n",
       "        new LDAvis(\"#\" + \"ldavis_el122482807867569536269051900\", ldavis_el122482807867569536269051900_data);\n",
       "      });\n",
       "    });\n",
       "}else{\n",
       "    // require.js not available: dynamically load d3 & LDAvis\n",
       "    LDAvis_load_lib(\"https://d3js.org/d3.v5.js\", function(){\n",
       "         LDAvis_load_lib(\"https://cdn.jsdelivr.net/gh/bmabey/pyLDAvis@3.3.1/pyLDAvis/js/ldavis.v3.0.0.js\", function(){\n",
       "                 new LDAvis(\"#\" + \"ldavis_el122482807867569536269051900\", ldavis_el122482807867569536269051900_data);\n",
       "            })\n",
       "         });\n",
       "}\n",
       "</script>"
      ],
      "text/plain": [
       "<IPython.core.display.HTML object>"
      ]
     },
     "execution_count": 9,
     "metadata": {},
     "output_type": "execute_result"
    }
   ],
   "source": [
    "vis = gensim_models.prepare(scotch_topic_model, corpus, reduced_gensim_dict, sort_topics = False)\n",
    "pyLDAvis.display(vis)"
   ]
  },
  {
   "cell_type": "markdown",
   "metadata": {},
   "source": [
    "Picking the optimal number of topics is not straightforward. The coherence score is just a guide. Ultimately, it depends on what you are going for. In some cases, overlap between topics with increased topic number can be tolerated. In other cases, we want as few topics as is practical. In either case, there are risks of losing some degree of interpretability.\n",
    "\n",
    "In our case, we went for the model recommended by the coherence score. \n",
    "\n",
    "Let's look at this visualization at different values of relevance. At values of lambda = 1, we see that a common descriptor set tends to pile up at the highest saliency in all the topics. \"Vanilla\", \"sweet\", \"oak\", \"fruit\", \"malt\", \"barley\", etc. are examples of such ultra-common descriptors tht seem to be a unifying descriptor set for Scotch. We saw these same descriptors as the most frequent across Scotch regions during EDA. It's not too surprising that these words appear prelevantly in many of the descriptor topic groupings.\n",
    "\n",
    "Looking at lower ranges values of relevance, we see that each topic has real differences and in ways that actually make some sense in terms of tastes.\n",
    "\n",
    "Number in brackets are the index of each topic in the gensim model.\n",
    "\n",
    "1. Topic 1 [0]: Sweet, rich, spiced christmas flavors with a mix of nuts, berries, aromatice spice, and dark chocolate. These are dark flavors.\n",
    "2. Topic 2 [1]: Light, grassy, citrus and floral notes.\n",
    "3. Topic 3 [2]: Herbal, tannin, citrus, wood. Many of the non-taste/smell descriptors are grouped in here -- that's actually really interesting.\n",
    "4. Topic 4 [3]: Sweetness and richness, dark sugars, with christmas spice like cinnamon, clove, etc but clearly in context.\n",
    "5. Topic 5 [4]: Lemon, citrus, green apple, fresh notes, grass, light, floral, etc.\n",
    "6. Topic 6 [5]: Berries, sweet chocolate, jam, fuit, tartness but sweet.\n",
    "7. Topic 7 [6]: All the peaty, fiery, salty, meaty notes are prominent here.\n",
    "\n",
    "\n",
    "A quick exploration of the visual shows that these topics are meaningful and overall pretty interpretable but that there are some confused descriptors that one might think would belong in a different topic. They are not as clean as one might hope. Topic 3 and Topic 5 have quite a bit of overlap. The same goes with topic 2 and 3. But the topics do line up with the kinds of thing we were seeing in Correspondence Analysis which is good. Getting better results might mean twiddling with the topic number a little, or just iterating over several random initializations at k = 7, or going back to corpus building and further tailoring the stop word list and stemming/lemmatizing. \n",
    "\n",
    "For this project, we'll stick with this model for now and see where it takes us.\n"
   ]
  },
  {
   "cell_type": "code",
   "execution_count": 10,
   "metadata": {},
   "outputs": [],
   "source": [
    "doc_lda_decomp = scotch_topic_model[corpus] # for each document (scotch) creates a list of tuples for each scotch with the topic (taste type) and its relative importance."
   ]
  },
  {
   "cell_type": "markdown",
   "metadata": {},
   "source": [
    "This gives us a numeric breakdown of each scotch across different relevant taste/smell types as represented by the topics found by LDA. This is what we wanted and was something that the descriptor-scotch joint embedding via Correspondence Analysis could not give us.\n",
    "\n",
    "Let's do a sanity check and see what we get for some well known Scotches:"
   ]
  },
  {
   "cell_type": "markdown",
   "metadata": {},
   "source": [
    "1. Ardbeg 10 Year Old\n",
    "My own experience with this whisky is that it tastes like smoked ham, peat, with some saltiness. Very fiery."
   ]
  },
  {
   "cell_type": "code",
   "execution_count": 11,
   "metadata": {},
   "outputs": [
    {
     "name": "stdout",
     "output_type": "stream",
     "text": [
      "62\n"
     ]
    },
    {
     "data": {
      "text/plain": [
       "[(1, 0.013747528), (2, 0.42275193), (4, 0.54399306)]"
      ]
     },
     "execution_count": 11,
     "metadata": {},
     "output_type": "execute_result"
    }
   ],
   "source": [
    "doc_num = whisk_data[whisk_data['name'] == 'Ardbeg 10 Year Old'].index[0]\n",
    "print(doc_num)\n",
    "doc_lda_decomp[doc_num]"
   ]
  },
  {
   "cell_type": "markdown",
   "metadata": {},
   "source": [
    "The topic decomposition reflects this."
   ]
  },
  {
   "cell_type": "markdown",
   "metadata": {},
   "source": [
    "2. Lagavulin 16 Year Old\n",
    "Lagavulin is a really complex whisky. My own impressions are that it's smoky and there is some peat but it's also dark fruit notes, chocolate, aromatics like cloves. It's definitely rich but also somehow dry and peppery. "
   ]
  },
  {
   "cell_type": "code",
   "execution_count": 12,
   "metadata": {},
   "outputs": [
    {
     "name": "stdout",
     "output_type": "stream",
     "text": [
      "16\n"
     ]
    },
    {
     "data": {
      "text/plain": [
       "[(2, 0.1358548), (3, 0.6667338), (4, 0.18491378)]"
      ]
     },
     "execution_count": 12,
     "metadata": {},
     "output_type": "execute_result"
    }
   ],
   "source": [
    "doc_num = whisk_data[whisk_data['name'] == 'Lagavulin 16 Year Old'].index[0]\n",
    "print(doc_num)\n",
    "doc_lda_decomp[doc_num]"
   ]
  },
  {
   "cell_type": "markdown",
   "metadata": {},
   "source": [
    "2 = dry, smoky, grass, citrus notes. 3 = christmas cake, aromatic spices, dark fruit, 6 = peat, salt, smoke, meat.\n",
    "\n",
    "Not too shabby. We can see that there are different kinds of taste/smell types. There are strong flavors present here but there is a balance between these notes. That definitely is characteristic of Lagavulin."
   ]
  },
  {
   "cell_type": "markdown",
   "metadata": {},
   "source": [
    "3. Glenfarclas 15 Year Old\n",
    "One of my favorite whiskies. This tastes like liquid christmas, sweetness, cinammon, spices. There's really no peat. "
   ]
  },
  {
   "cell_type": "code",
   "execution_count": 13,
   "metadata": {},
   "outputs": [
    {
     "name": "stdout",
     "output_type": "stream",
     "text": [
      "3\n"
     ]
    },
    {
     "data": {
      "text/plain": [
       "[(0, 0.48262128), (1, 0.011882149), (3, 0.48940623)]"
      ]
     },
     "execution_count": 13,
     "metadata": {},
     "output_type": "execute_result"
    }
   ],
   "source": [
    "doc_num = whisk_data[whisk_data['name'] == \"Glenfarclas 15 Year Old\"].index[0]\n",
    "print(doc_num)\n",
    "doc_lda_decomp[doc_num]"
   ]
  },
  {
   "cell_type": "markdown",
   "metadata": {},
   "source": [
    "3 = christmas cake, aromatic spices, dark fruit. Really dominates the descriptors which is about right. I'm not sure why 2 = grass, dry, smoky is in there...there's not a lot of grassy citrus notes. It might be that some of the non-taste/smell words are leaking in (which are also a major component of 2)."
   ]
  },
  {
   "cell_type": "markdown",
   "metadata": {},
   "source": [
    "4. Talisker Storm\n",
    "\n",
    "One description (not the Master of Malt description in our corpus) goes like this: \n",
    "\n",
    "Nose is delicate and soft with peat, smoke and sweetness.  Sea salt and honey with a soft fruity note.  Surprisingly sweet. Medium body with notes of peat, oak and honey sweetness.  A bit of a chilli bite mixed with smoke and hints of black pepper.  Bolder than what the nose suggested.  Lovely and warming on a cold Friday afternoon. "
   ]
  },
  {
   "cell_type": "code",
   "execution_count": 14,
   "metadata": {},
   "outputs": [
    {
     "data": {
      "text/plain": [
       "[(2, 0.36954966), (4, 0.60729116)]"
      ]
     },
     "execution_count": 14,
     "metadata": {},
     "output_type": "execute_result"
    }
   ],
   "source": [
    "doc_num = whisk_data[whisk_data['name'] == \"Talisker Storm\"].index[0]\n",
    "doc_lda_decomp[doc_num]"
   ]
  },
  {
   "cell_type": "markdown",
   "metadata": {},
   "source": [
    "1 = Wood, red chili, ginger, pepper, hot spices. 2 = drier, light mellow fruit, grass, citrus flavors. 6 = peat, bonfire, salt, meat, coastal.\n",
    "\n",
    "This topic breakdown on flavors/nose seem right. Predominantly coastal and peaty, soft fruit note, with some chili and black pepper heat. OK this is starting to satisfy me. Let's pickle the model."
   ]
  },
  {
   "cell_type": "code",
   "execution_count": 15,
   "metadata": {},
   "outputs": [],
   "source": [
    "LDA_model_path = \"models\\\\Scotch_LDA.pkl\"\n",
    "pickle.dump(scotch_topic_model, open(LDA_model_path, 'wb'))"
   ]
  },
  {
   "cell_type": "markdown",
   "metadata": {},
   "source": [
    "Let's also construct a new dataframe with the seven topics as features. We can discard the unified_tokens or BoW representation. This can be used for higher level analytics. We can the save this:"
   ]
  },
  {
   "cell_type": "code",
   "execution_count": 18,
   "metadata": {},
   "outputs": [],
   "source": [
    "trial = [ (whisk_data.loc[doc].name, doc_lda_decomp[doc] ) for doc in whisk_data.index]"
   ]
  },
  {
   "cell_type": "code",
   "execution_count": 19,
   "metadata": {},
   "outputs": [
    {
     "data": {
      "text/plain": [
       "[(1,), ([(0, 0.55038685), (5, 0.42193085)],)]"
      ]
     },
     "execution_count": 19,
     "metadata": {},
     "output_type": "execute_result"
    }
   ],
   "source": [
    "list(zip(trial[1]))"
   ]
  },
  {
   "cell_type": "markdown",
   "metadata": {},
   "source": [
    "# Similarity measures: Content-based recommender systems"
   ]
  },
  {
   "cell_type": "code",
   "execution_count": 16,
   "metadata": {},
   "outputs": [],
   "source": [
    "index = MatrixSimilarity(doc_lda_decomp) "
   ]
  },
  {
   "cell_type": "code",
   "execution_count": 17,
   "metadata": {},
   "outputs": [],
   "source": [
    "# We'll reuse this index object for matrix similarity often for in-corpus recommendation. let's save this.\n",
    "pickle.dump(index, open('data\\\\final\\\\index_sim.pkl', 'wb'))"
   ]
  },
  {
   "cell_type": "markdown",
   "metadata": {},
   "source": [
    "## In-corpus recommendation"
   ]
  },
  {
   "cell_type": "markdown",
   "metadata": {},
   "source": [
    "We've created a class that can do in-corpus recommendations and out-of-corpus recommendations. The in-corpus recommender takes in the name of a Scotch and the number of recommendations and outputs the Scotches with the nearest cosine similarity scores. Let's evaluate the LDA-based recommender on a few scotches to see if its making reasonable recommendations."
   ]
  },
  {
   "cell_type": "code",
   "execution_count": 38,
   "metadata": {},
   "outputs": [],
   "source": [
    "rec_engine = Scotch_Recommender()"
   ]
  },
  {
   "cell_type": "code",
   "execution_count": 68,
   "metadata": {},
   "outputs": [
    {
     "name": "stdout",
     "output_type": "stream",
     "text": [
      "[\"['thick', 'rich', 'massive', 'mouth', 'malt', 'sherry', 'good', 'fruit', 'sweet', 'sweet', 'big', 'power', 'peat', 'oak', 'like', 'lapsang_souchong', 'tea', 'lapsang_souchong', 'nose', 'islay_big', 'concentrated', 'redolent', 'iodine', 'sweet', 'spice', 'good', 'mature', 'sherry', 'cream', 'vanilla', 'stunning', 'long', 'finish', 'fig', 'date', 'peat', 'smoke', 'vanilla']\"]\n",
      "Caol Ila 1995 Moscatel Cask Finish - Distillers Edition [\"['soft', 'round', 'pear', 'fruit_salad', 'earthen', 'unlit', 'cigar', 'herbal', 'gentle', 'peat_smoke', 'rich', 'great', 'fruit', 'liqueur', 'sherry', 'smoke', 'medicinal', 'tarry', 'black_pepper', 'long', 'thick', 'herbal', 'lavender', 'fennel']\"]\n",
      "Bunnahabhain 20 Year Old 1991 (cask 7957) - Directors' Cut (Douglas Laing) [\"['aniseed', 'linseed_oil', 'toasted', 'oak', 'cream', 'fudge', 'oil', 'smoke', 'bonfire', 'seafront', 'tropical', 'sweet', 'rancio', 'sherried_peel', 'serrano', 'ham', 'fresh', 'herb', 'toffee', 'sweet', 'spiced', 'star_anise', 'applewood', 'toffee', 'cherry']\"]\n",
      "Springbank 12 Year Old 1991 Bourbon Wood [\"['rich', 'punch', 'beeswax', 'solid', 'peat', 'rise', 'meat', 'kipper', 'sugar', 'aniseed', 'sweet', 'oak', 'solid', 'tannin', 'herbal', 'winter_spice', 'chilli', 'calvados', 'beeswax', 'apple', 'peel', 'cereal', 'oats', 'hay', 'finish', 'long', 'herbal', 'superb', 'integration', 'flavour']\"]\n",
      "Clynelish 23 Year Old 1988 - The Octave (Duncan Taylor) [\"['ginger', 'malt', 'sweet', 'spice', 'salty_butter', 'pepper', 'peat', 'tonic', 'water', 'butterscotch', 'apple', 'peel', 'citrus', 'tropical_fruit', 'pepper', 'gingerbread', 'lemon', 'oil', 'long']\"]\n"
     ]
    }
   ],
   "source": [
    "print(whisk_data[whisk_data['name'] == \"Lagavulin 16 Year Old\"].token_unified.values)\n",
    "for x in rec_engine.get_recommendations(\"Lagavulin 16 Year Old\", 15).values[1:5]:\n",
    "    print(x, whisk_data[whisk_data['name'] == x].token_unified.values )"
   ]
  },
  {
   "cell_type": "markdown",
   "metadata": {},
   "source": [
    "This is good. Many of these whiskies have strong flavors but can be described as balanced between peaty/salty/smoke, oak/pepper/heat, and rich fruit/chocolate/sweet notes."
   ]
  },
  {
   "cell_type": "code",
   "execution_count": 82,
   "metadata": {},
   "outputs": [
    {
     "name": "stdout",
     "output_type": "stream",
     "text": [
      "[\"['raisin', 'sherry', 'orange_peel', 'walnut', 'date', 'intense', 'power', 'sherry', 'cream', 'sherry', 'certainly', 'pedro', 'ximenez', 'peppermint', 'rancio', 'old', 'incredibly', 'long', 'complex', 'walnuts']\"]\n",
      "Tomintoul 38 Year Old 1977 (cask 3700) - Vintage Single Cask [\"['toasted', 'barley', 'orange_rind', 'fruit', 'fruit', 'malt_loaf', 'cocoa', 'oak', 'nutmeg', 'rounded', 'oak', 'spice']\"]\n",
      "Clynelish 23 Year Old 1995 (cask 11227) - Cask Strength Collection (Signatory) [\"['date', 'pecan', 'cacao', 'soft', 'smoke', 'fragrant', 'wood_smoke', 'honeyed', 'barley', 'fruit', 'rich', 'tobacco', 'peek', 'layer', 'fruit', 'peel']\"]\n",
      "Aultmore 10 Year Old 2010 (cask 800318) - The Cooper's Choice (The Vintage Malt Whisky Co.) [\"['robust', 'malt', 'dark', 'fruit', 'liquorice', 'cinnamon', 'herbal', 'mint', 'milk_chocolate', 'peanut', 'raisin', 'earthen', 'musty', 'oak', 'sweet', 'marzipan', 'herb', 'spice', 'damp', 'pepper', 'oak', 'finish']\"]\n",
      "GlenDronach 40 Year Old 1972  - Batch 7 [\"['chocolate', 'brazil_nut', 'christmas_cake', 'prune', 'juice', 'fig', 'allspice', 'dark', 'brown_sugar', 'rich', 'dark', 'aroma', 'chocolate', 'honey', 'toffee', 'apple', 'black_pepper', 'prune_juice', 'cedar', 'pipe_tobacco', 'spiced']\"]\n",
      "Bunnahabhain 1979 (Berry Bros. & Rudd) [\"['thick', 'syrup', 'lot', 'sherry', 'crème_caramel', 'rum_raisin', 'ice_cream', 'toffee', 'apple', 'sherry', 'musty', 'prune', 'apricot', 'spice', 'applewood', 'chamomile_tea', 'malt', 'liquorice', 'black_pepper', 'oak', 'sherry', 'raisin', 'caramel', 'apple_strudel']\"]\n",
      "GlenDronach 41 Year Old 1971 Batch 6 [\"['spiced', 'decadent', 'milk_chocolate', 'cocoa', 'butter', 'sultana', 'christmas_pudding', 'brandy', 'winter_spice', 'black_pepper', 'date', 'rum', 'spice', 'particularly', 'nutmeg', 'cinnamon', 'big', 'whack', 'demerara_sugar', 'fig', 'christmas_cake', 'cocoa', 'butter', 'toffee', 'long', 'beauty', 'rich', 'sweet']\"]\n",
      "Glenfarclas 1961 (cask 3056) Family Cask Spring 2015 Release [\"['theme', 'big', 'fruit', 'sweet', 'oak', 'huge', 'sherry_cask', 'influence', 'plenty', 'rich', 'sweet', 'raisin', 'oak', 'y', 'spice', 'intense']\"]\n",
      "Blair Athol 13 Year Old 2008 - Strictly Limited (Càrn Mòr) [\"['malt', 'spice', 'cocoa_powder', 'chocolate', 'raisin', 'date', 'marmalade', 'cinnamon_bun', 'fruit', 'nut', 'orange_zest', 'gingerbread', 'apple', 'honey', 'gentle', 'prick', 'pepper']\"]\n",
      "Ben Nevis 25 Year Old 1991 (cask 2379) - Cask Strength Collection (Signatory) [\"['malt', 'raisin', 'milk', 'button', 'smoke', 'blueberries', 'golden_syrup', 'banana_fritter', 'strong_coffee', 'cigar_box', 'christmas_cake', 'fig']\"]\n"
     ]
    }
   ],
   "source": [
    "\n",
    "print(whisk_data[whisk_data['name'] == \"Glenfarclas 15 Year Old\"].token_unified.values)\n",
    "for x in rec_engine.get_recommendations(\"Glenfarclas 15 Year Old\", 20).values[8:17]:\n",
    "    print(x, whisk_data[whisk_data['name'] == x].token_unified.values )"
   ]
  },
  {
   "cell_type": "markdown",
   "metadata": {},
   "source": [
    "Glenfarclas 15 is a sherried whisky with no smoke/peat. My own impressions is that it is rich with raisins, chocolate, fruits, some aromatic spices. Is a bit christmas-y. Sure enough some Macallans, older Tomintouls and Glendronachs are right at the top (which also have similar profiles). Some Dalmores and the Arberlour Abunadh are a little further down the list (older Dalmour and the Aberlour Abunadh are whiskies I'd recommend if someone liked Glenfarclas 15).\n"
   ]
  },
  {
   "cell_type": "code",
   "execution_count": 87,
   "metadata": {},
   "outputs": [
    {
     "name": "stdout",
     "output_type": "stream",
     "text": [
      "[\"['chocolate', 'fudge', 'brown_sugar', 'dark', 'fruit', 'blackberry', 'gently', 'bitter', 'rich', 'oak', 'fruit', 'galore', 'boozy', 'raisin', 'date', 'fresh', 'juicy', 'tropical', 'berry', 'jam', 'buttered', 'croissant', 'mixed', 'grape', 'tannin', 'oak', 'fruit', 'sweet', 'charred', 'wood']\"]\n",
      "Strathisla 65 Year Old 1953 - Private Collection (Gordon & MacPhail) [\"['initial', 'mature_oak', 'open', 'flavour', 'autumnal', 'berry', 'blackberry', 'blackcurrant', 'redcurrant', 'cranberry', 'crystallised_ginger', 'trace', 'dark_chocolate', 'aniseed', 'initially', 'aroma', 'fruit', 'rich', 'sherry', 'wood', 'polish', 'fruit', 'intense', 'orange', 'oil', 'spice', 'clove', 'nutmeg', 'allspice', 'subtle', 'menthol', 'edge', 'delightfully', 'balanced', 'fruit', 'oak', 'finish', 'nutty', 'subtle', 'humidor', 'edge']\"]\n",
      "The Glenrothes 25 Year Old - Soleo Collection [\"['rounded', 'malt', 'vibrant', 'cooked', 'berry', 'wine', 'sweet', 'oak', 'spice', 'mid', 'mellow', 'swiftly', 'stewed_plum', 'apple', 'polished_oak', 'furniture', 'cigar_box', 'slight', 'soft', 'smoke', 'caramelised', 'date', 'mango', 'old_leather']\"]\n",
      "Wemyss Winter Spice 1982 (Teaninich) [\"['fresh', 'vibrant', 'age', 'grass', 'herbal', 'mint', 'sweet', 'spice', 'cloved', 'orange', 'cinnamon', 'ginger', 'clove', 'sweet', 'fruit', 'demerara_sugar', 'spiced', 'marmalade', 'slowly', 'tongue']\"]\n",
      "Glen Grant 1956 (cask 4450) - Gordon & MacPhail (La Maison du Whisky 60th Anniversary) [\"['juicy', 'remarkably', 'fruit', 'sherry', 'opening', 'deep', 'furrow', 'spotlight', 'soil', 'liquorice', 'noble', 'spice', 'saffron', 'cardamom', 'head', 'floral', 'freesia', 'hyacinth', 'red', 'strawberry', 'redcurrant', 'ripe', 'fruit', 'russet', 'apple', 'apricot', 'suddenly', 'mid', 'vanilla', 'rich', 'phenomenally', 'power', 'time', 'exceptionally', 'fresh', 'initial', 'tertiary', 'aroma', 'dust', 'black', 'liquorice', 'chocolate', 'leather', 'roasted', 'fig', 'truffle', 'etc', 'slightly', 'jammy', 'blackcurrant', 'rhubarb', 'unbelievably', 'deep', 'test', 'time', 'panache', 'havana', 'cigar', 'smoke', 'aromatic', 'palette', 'long', 'silk', 'velvet', 'tannin', 'taste', 'bud', 'fruit', 'present', 'close', 'time', 'tobacco', 'raisin', 'black', 'olive', 'retro', 'nasal', 'olfaction', 'warm', 'voluminous', 'taffeta', 'silk', 'fruit', 'wild', 'strawberry', 'blueberry', 'glass', 'amazingly', 'young', 'expression', 'malted_barley']\"]\n",
      "Balvenie 50 Year Old - Marriage 0614 [\"['rich', 'lush', 'bitter', 'chocolate', 'maple_syrup', 'sweet', 'honey', 'oak', 'tannin', 'deep', 'dark', 'spice', 'rich', 'fruit', 'cake', 'lot', 'elegant', 'oak', 'sweet', 'aroma', 'fruit', 'raisin', 'sultana', 'ginger', 'rich', 'mouth', 'sweet', 'oak', 'spiced']\"]\n",
      "Glenburgie 7 Year Old 2011 - Strictly Limited (Càrn Mòr) [\"['light', 'sweet', 'winter', 'berry', 'mixed', 'fruit', 'nut', 'dark_chocolate', 'dry', 'buttered', 'malt_loaf', 'sweet', 'sherry', 'fruitcake', 'orange_peel', 'length', 'complex', 'savoury', 'malt']\"]\n"
     ]
    }
   ],
   "source": [
    "print(whisk_data[whisk_data['name'] == \"GlenDronach Port Wood\"].token_unified.values)\n",
    "for x in rec_engine.get_recommendations(\"GlenDronach Port Wood\", 20).values[1:7]:\n",
    "    print(x, whisk_data[whisk_data['name'] == x].token_unified.values )"
   ]
  },
  {
   "cell_type": "markdown",
   "metadata": {},
   "source": [
    "Glendronach Port wood is forward in berries, raisin type tastes: sweet and jammy. Some wood/heat, bitter/citrus, and creamy vanilla. Many of the whiskies on this list have similar taste profiles."
   ]
  },
  {
   "cell_type": "markdown",
   "metadata": {},
   "source": [
    "Definitely lots of berry/fruit, jam, some bitter/orange notes, some cream, etc. This is good. Finally let's finish up with something that's peaty, quite medicinal, and fiery."
   ]
  },
  {
   "cell_type": "code",
   "execution_count": 89,
   "metadata": {},
   "outputs": [
    {
     "name": "stdout",
     "output_type": "stream",
     "text": [
      "Laphroaig 10 Year Old [\"['seaweed', 'vanilla', 'ice_cream', 'whiff', 'aid', 'box', 'tcp', 'plaster', 'etc', 'oak', 'big', 'way', 'fore', 'whisky', 'tongue', 'upsurge', 'spice', 'cardamom', 'black_pepper', 'chilli', 'big', 'muscular', 'peat', 'spice', 'liquorice', 'big', 'dose', 'salt', 'whisky', 'slightly', 'sweet', 'recent', 'year', 'beauty', 'classic', 'iodine', 'plaster', 'cool_wood', 'smoke', 'big', 'savoury', 'tarry', 'iodine']\"]\n",
      "Bowmore 22 Year Old 1989 - Mission (Murray McDavid) [\"['peat', 'salt', 'floral', 'vanilla', 'zest', 'time', 'vanilla_pod', 'oatmeal', 'hay', 'heather', 'sea_air', 'lemon', 'lime', 'sea_spray', 'ream', 'smoke', 'pleasantly', 'long', 'finish']\"]\n",
      "Coastal Confection 1996 (bottled 2015) - Wemyss Malts (Bowmore) [\"['peat', 'slightly', 'coastal', 'plenty', 'fruit', 'way', 'sweet', 'n', 'peat', 'sugar', 'peel', 'fruit', 'sweetie', 'balanced', 'satisfying']\"]\n",
      "Caol Ila 20 Year Old 1995 (cask 10870) - Old Particular (Douglas Laing) [\"['salt', 'slice', 'lemon', 'pine_nut', 'toast', 'oak', 'sweet', 'slightly', 'green', 'coastal', 'peat', 'aroma', 'barley', 'heart', 'sweet', 'ash', 'coastal', 'tang']\"]\n",
      "Talisker 9 Year Old 2011 - Hepburn's Choice (Langside) [\"['marmalade', 'blackcurrant_jam', 'whiff', 'coastal', 'smoke', 'salt', 'black_pepper', 'oil', 'orange', 'citrus', 'fruit', 'sweet', 'beach_bonfire', 'smoke']\"]\n",
      "Caol Ila 7 Year Old 2008 - Strictly Limited (Càrn Mòr) [\"['gentle', 'oak', 'smoke', 'peel', 'black_pepper', 'sweet', 'rock_pool', 'brine', 'sea', 'harbour', 'rope', 'lemon', 'beach', 'meat', 'soft', 'spice', 'wisp', 'iodine', 'smoke']\"]\n",
      "Torabhaig Allt Gleann - The Legacy Series [\"['bold', 'peat', 'coastal', 'tar', 'oil', 'texture', 'roasted', 'salted', 'nut', 'light', 'fruit_salad', 'floral', 'waft', 'heather', 'fennel', 'metallic', 'medicinal', 'pepper', 'spice', 'wafts', 'wood', 'tobacco', 'crumbly', 'vanilla', 'shortbread', 'earthy_peat', 'smoke', 'zing', 'lemon_zest', 'salt', 'maritime', 'shellfish', 'sweet', 'fruit', 'apple', 'kiwi', 'vanilla', 'oak', 'big', 'hit', 'peat', 'smoke', 'sea_breeze', 'harbourside', 'character']\"]\n"
     ]
    }
   ],
   "source": [
    "print(\"Laphroaig 10 Year Old\", whisk_data[whisk_data['name'] == \"Laphroaig 10 Year Old\"].token_unified.values)\n",
    "for x in rec_engine.get_recommendations(\"Laphroaig 10 Year Old\", 20).values[1:7]:\n",
    "    print(x, whisk_data[whisk_data['name'] == x].token_unified.values )\n"
   ]
  },
  {
   "cell_type": "markdown",
   "metadata": {},
   "source": [
    "Again...pretty good. How about a citrus forward, lighter scotch? "
   ]
  },
  {
   "cell_type": "code",
   "execution_count": 90,
   "metadata": {},
   "outputs": [
    {
     "name": "stdout",
     "output_type": "stream",
     "text": [
      "The Glenlivet 12 Year Old [\"['butter', 'vanilla', 'rich', 'bright', 'fruit', 'apricot', 'pineapple', 'greengage', 'citrus_blossom', 'toasted_teacake', 'soft', 'crackle', 'oak', 'spice', 'malt', 'plus', 'red', 'apple', 'juicy']\"]\n",
      "Glenmorangie X [\"['lot', 'vanilla', 'apricot', 'apple', 'flaked', 'almond', 'later', 'honeyed', 'malt', 'lemon', 'apple', 'plus', 'nutmeg', 'oak', 'warmth', 'honeyed', 'orchard_fruit', 'theme', 'finish', 'pinch', 'peppercorn']\"]\n",
      "Tullibardine 24 Year Old 1993 (cask 12026) - Old Particular (Douglas Laing) [\"['zest', 'tropical_fruit', 'starfruit', 'mango', 'pine', 'cedar', 'porridge', 'rye_bread', 'oven', 'classic', 'herbaceous', 'spice', 'tow', 'cream', 'vanilla', 'subtle']\"]\n",
      "Tormore - Batch 2 (That Boutique-y Whisky Company) [\"['caramelised', 'orange_peel', 'fresh', 'lime', 'grapefruit', 'support', 'apple', 'golden', 'barley', 'core', 'steamed', 'marmalade', 'pudding', 'flourless', 'orange', 'cake', 'crushed', 'almond', 'apple', 'peel', 'juicy', 'barley', 'crisp', 'fruit']\"]\n",
      "Auchroisk 23 Year Old 1990 (cask 21752) (Berry Bros. & Rudd) [\"['fresh', 'fruit', 'green_apple', 'apricot', 'slightly_grassy', 'passion_fruit', 'raspberry', 'helping', 'filo_pastry', 'vegetal', 'oak', 'fennel', 'mint', 'caramel', 'sauce']\"]\n",
      "Glen Elgin 9 Year Old 2010 (casks 801358, 801359 & 806436) - Small Batch (James Eadie) [\"['floral', 'honey', 'barley', 'sugar', 'milk_chocolate', 'roasted_coffee', 'bean', 'butter', 'ginger', 'biscuit', 'lemon', 'shortbread', 'strawberry_jam', 'fresh', 'toast', 'grass', 'sweet', 'vanilla']\"]\n",
      "Balmenach 12 Year Old 2003 (cask 800437) - The Single Cask [\"['nutty', 'sweet', 'toffee', 'vanilla', 'bean', 'herbaceous', 'thyme', 'caramel', 'orange_peel', 'zest', 'lemon', 'orange']\"]\n"
     ]
    }
   ],
   "source": [
    " \n",
    "print(\"The Glenlivet 12 Year Old\", whisk_data[whisk_data['name'] == \"The Glenlivet 12 Year Old\"].token_unified.values)\n",
    "for x in rec_engine.get_recommendations(\"The Glenlivet 12 Year Old\", 20).values[1:7]:\n",
    "    print(x, whisk_data[whisk_data['name'] == x].token_unified.values )\n"
   ]
  },
  {
   "cell_type": "markdown",
   "metadata": {},
   "source": [
    "Again, pretty good. LDA on our BoW corpus is definitely doing a decent job at grouping whiskies with nearby combinations of broad taste categories. But we may want to input our own or someone else's tasting notes of a whisky directly. Or we just have a set of tastes and smells in mind and want to get a Scotch recommendation."
   ]
  },
  {
   "cell_type": "markdown",
   "metadata": {},
   "source": [
    "## Out-of-Corpus Recommendation"
   ]
  },
  {
   "cell_type": "markdown",
   "metadata": {},
   "source": [
    "Let's try our hand with a description for a light and dry scotch with citrus notes as well as salt and coastal influences."
   ]
  },
  {
   "cell_type": "code",
   "execution_count": 101,
   "metadata": {},
   "outputs": [
    {
     "name": "stdout",
     "output_type": "stream",
     "text": [
      "Springbank 12 Year Old Cask Strength - 52.2% [\"['calm', 'eye', 'storm', 'heather', 'coriander', 'oregano', 'caramel', 'busy', 'harbour', 'industrial', 'maritime', 'aroma', 'water', 'grape', 'springbank', 'rhubarb', 'thick', 'heavy', 'smoke', 'industrial', 'massive', 'long']\"]\n",
      "Lemon Buttered Kippers 1997 (bottled 2015) - Wemyss Malts (Bunnahabhain) [\"['burst', 'lemon', 'sweet', 'coastal', 'smoke', 'caramel', 'light', 'bbq', 'smoke', 'thyme', 'toffee', 'toasted', 'malt', 'fruit', 'slightly', 'refreshing']\"]\n",
      "Caol Ila 10 Year Old 2009 (cask 318769) - Berry Bros. & Rudd [\"['coastal', 'peat', 'whiff', 'citrus', 'vanilla', 'oil', 'barley', 'phenol', 'damp', 'oak', 'bright', 'zest', 'citrus', 'cask', 'finish']\"]\n",
      "Longrow Peated [\"['light', 'sweet', 'green', 'grape', 'rhubarb', 'great', 'contrast', 'big', 'blast', 'smoke', 'salt', 'leather', 'fore', 'maritime', 'combination', 'harbourmaster', 'jacket', 'salt', 'return', 'deeply', 'satisfying', 'ending']\"]\n",
      "Bunnahabhain 23 Year Old - Single Cask (Master of Malt) [\"['faintly', 'peated', 'soft', 'cream', 'mouth', 'grape', 'leather', 'seaweed', 'storm', 'coastline', 'salted_caramel', 'moorland', 'heather', 'long', 'spinach', 'pepper', 'peat', 'smoke', 'distant', 'horizon']\"]\n",
      "Islay 9 Year Old 2008 (Single Cask Nation) [\"['fruit', 'aromatic', 'lemon', 'sweet', 'herbaceous', 'charred', 'wood', 'crack_black', 'pepper', 'pinch', 'salt', 'tropical', 'zest', 'orange', 'tang', 'pineapple', 'coastal', 'aroma', 'slight', 'char', 'sweet', 'peat', 'salt', 'pepper']\"]\n"
     ]
    }
   ],
   "source": [
    "for x in rec_engine.recommend_from_text(text=\"light, citrus, lemon, grapefruit, dry, sea salt, salted caramel\").values[1:7]:\n",
    "    print(x, whisk_data[whisk_data['name'] == x].token_unified.values )"
   ]
  },
  {
   "cell_type": "markdown",
   "metadata": {},
   "source": [
    "Wow thats better than I expected honestly. I actually had a Springbank in mind (Springbank 18)."
   ]
  }
 ],
 "metadata": {
  "interpreter": {
   "hash": "95508d1f9e276930ee7bf977622471e4c9572bc985693ed5ef89eacdfe75f4af"
  },
  "kernelspec": {
   "display_name": "Python 3.8.11 64-bit ('sb_cpstone3': conda)",
   "name": "python3"
  },
  "language_info": {
   "codemirror_mode": {
    "name": "ipython",
    "version": 3
   },
   "file_extension": ".py",
   "mimetype": "text/x-python",
   "name": "python",
   "nbconvert_exporter": "python",
   "pygments_lexer": "ipython3",
   "version": "3.8.11"
  },
  "orig_nbformat": 4
 },
 "nbformat": 4,
 "nbformat_minor": 2
}
