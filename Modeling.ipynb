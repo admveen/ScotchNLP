{
 "cells": [
  {
   "cell_type": "code",
   "execution_count": 3,
   "metadata": {},
   "outputs": [
    {
     "name": "stderr",
     "output_type": "stream",
     "text": [
      "C:\\Users\\prave\\anaconda3\\envs\\sb_cpstone3\\lib\\site-packages\\sklearn\\linear_model\\_least_angle.py:34: DeprecationWarning: `np.float` is a deprecated alias for the builtin `float`. To silence this warning, use `float` by itself. Doing this will not modify any behavior and is safe. If you specifically wanted the numpy scalar type, use `np.float64` here.\n",
      "Deprecated in NumPy 1.20; for more details and guidance: https://numpy.org/devdocs/release/1.20.0-notes.html#deprecations\n",
      "  method='lar', copy_X=True, eps=np.finfo(np.float).eps,\n",
      "C:\\Users\\prave\\anaconda3\\envs\\sb_cpstone3\\lib\\site-packages\\sklearn\\linear_model\\_least_angle.py:164: DeprecationWarning: `np.float` is a deprecated alias for the builtin `float`. To silence this warning, use `float` by itself. Doing this will not modify any behavior and is safe. If you specifically wanted the numpy scalar type, use `np.float64` here.\n",
      "Deprecated in NumPy 1.20; for more details and guidance: https://numpy.org/devdocs/release/1.20.0-notes.html#deprecations\n",
      "  method='lar', copy_X=True, eps=np.finfo(np.float).eps,\n",
      "C:\\Users\\prave\\anaconda3\\envs\\sb_cpstone3\\lib\\site-packages\\sklearn\\linear_model\\_least_angle.py:281: DeprecationWarning: `np.float` is a deprecated alias for the builtin `float`. To silence this warning, use `float` by itself. Doing this will not modify any behavior and is safe. If you specifically wanted the numpy scalar type, use `np.float64` here.\n",
      "Deprecated in NumPy 1.20; for more details and guidance: https://numpy.org/devdocs/release/1.20.0-notes.html#deprecations\n",
      "  eps=np.finfo(np.float).eps, copy_Gram=True, verbose=0,\n",
      "C:\\Users\\prave\\anaconda3\\envs\\sb_cpstone3\\lib\\site-packages\\sklearn\\linear_model\\_least_angle.py:865: DeprecationWarning: `np.float` is a deprecated alias for the builtin `float`. To silence this warning, use `float` by itself. Doing this will not modify any behavior and is safe. If you specifically wanted the numpy scalar type, use `np.float64` here.\n",
      "Deprecated in NumPy 1.20; for more details and guidance: https://numpy.org/devdocs/release/1.20.0-notes.html#deprecations\n",
      "  eps=np.finfo(np.float).eps, copy_X=True, fit_path=True,\n",
      "C:\\Users\\prave\\anaconda3\\envs\\sb_cpstone3\\lib\\site-packages\\sklearn\\linear_model\\_least_angle.py:1121: DeprecationWarning: `np.float` is a deprecated alias for the builtin `float`. To silence this warning, use `float` by itself. Doing this will not modify any behavior and is safe. If you specifically wanted the numpy scalar type, use `np.float64` here.\n",
      "Deprecated in NumPy 1.20; for more details and guidance: https://numpy.org/devdocs/release/1.20.0-notes.html#deprecations\n",
      "  eps=np.finfo(np.float).eps, copy_X=True, fit_path=True,\n",
      "C:\\Users\\prave\\anaconda3\\envs\\sb_cpstone3\\lib\\site-packages\\sklearn\\linear_model\\_least_angle.py:1149: DeprecationWarning: `np.float` is a deprecated alias for the builtin `float`. To silence this warning, use `float` by itself. Doing this will not modify any behavior and is safe. If you specifically wanted the numpy scalar type, use `np.float64` here.\n",
      "Deprecated in NumPy 1.20; for more details and guidance: https://numpy.org/devdocs/release/1.20.0-notes.html#deprecations\n",
      "  eps=np.finfo(np.float).eps, positive=False):\n",
      "C:\\Users\\prave\\anaconda3\\envs\\sb_cpstone3\\lib\\site-packages\\sklearn\\linear_model\\_least_angle.py:1379: DeprecationWarning: `np.float` is a deprecated alias for the builtin `float`. To silence this warning, use `float` by itself. Doing this will not modify any behavior and is safe. If you specifically wanted the numpy scalar type, use `np.float64` here.\n",
      "Deprecated in NumPy 1.20; for more details and guidance: https://numpy.org/devdocs/release/1.20.0-notes.html#deprecations\n",
      "  max_n_alphas=1000, n_jobs=None, eps=np.finfo(np.float).eps,\n",
      "C:\\Users\\prave\\anaconda3\\envs\\sb_cpstone3\\lib\\site-packages\\sklearn\\linear_model\\_least_angle.py:1621: DeprecationWarning: `np.float` is a deprecated alias for the builtin `float`. To silence this warning, use `float` by itself. Doing this will not modify any behavior and is safe. If you specifically wanted the numpy scalar type, use `np.float64` here.\n",
      "Deprecated in NumPy 1.20; for more details and guidance: https://numpy.org/devdocs/release/1.20.0-notes.html#deprecations\n",
      "  max_n_alphas=1000, n_jobs=None, eps=np.finfo(np.float).eps,\n",
      "C:\\Users\\prave\\anaconda3\\envs\\sb_cpstone3\\lib\\site-packages\\sklearn\\linear_model\\_least_angle.py:1755: DeprecationWarning: `np.float` is a deprecated alias for the builtin `float`. To silence this warning, use `float` by itself. Doing this will not modify any behavior and is safe. If you specifically wanted the numpy scalar type, use `np.float64` here.\n",
      "Deprecated in NumPy 1.20; for more details and guidance: https://numpy.org/devdocs/release/1.20.0-notes.html#deprecations\n",
      "  eps=np.finfo(np.float).eps, copy_X=True, positive=False):\n",
      "C:\\Users\\prave\\anaconda3\\envs\\sb_cpstone3\\lib\\site-packages\\sklearn\\decomposition\\_lda.py:28: DeprecationWarning: `np.float` is a deprecated alias for the builtin `float`. To silence this warning, use `float` by itself. Doing this will not modify any behavior and is safe. If you specifically wanted the numpy scalar type, use `np.float64` here.\n",
      "Deprecated in NumPy 1.20; for more details and guidance: https://numpy.org/devdocs/release/1.20.0-notes.html#deprecations\n",
      "  EPS = np.finfo(np.float).eps\n"
     ]
    }
   ],
   "source": [
    "# import necessary packages\n",
    "\n",
    "import pickle\n",
    "import pandas as pd\n",
    "import numpy as np\n",
    "import matplotlib.pyplot as plt\n",
    "import ast\n",
    "import re\n",
    "import seaborn as sns\n",
    "\n",
    "from gensim.corpora.dictionary import Dictionary\n",
    "from gensim.models import LdaModel\n",
    "\n",
    "from gensim.models.coherencemodel import CoherenceModel\n",
    "import pyLDAvis\n",
    "from  pyLDAvis import gensim_models\n",
    "\n",
    "from gensim.similarities import MatrixSimilarity\n",
    "\n",
    "import sys\n",
    "sys.path.append(\"src\\\\\")\n",
    "# custom recommendation class\n",
    "from ScotchRecommender import Scotch_Recommender\n",
    "\n"
   ]
  },
  {
   "cell_type": "code",
   "execution_count": 4,
   "metadata": {},
   "outputs": [],
   "source": [
    "# load unified token data\n",
    "whisk_interdf_path = \"data\\\\interim\\\\whisk_unified_tokenized.csv\"\n",
    "whisk_data = pd.read_csv(whisk_interdf_path)"
   ]
  },
  {
   "cell_type": "code",
   "execution_count": 5,
   "metadata": {},
   "outputs": [
    {
     "name": "stdout",
     "output_type": "stream",
     "text": [
      "Dictionary(477 unique tokens: ['barley', 'butter', 'cereal', 'cut_grass', 'fruit']...)\n"
     ]
    }
   ],
   "source": [
    "# load reduced gensim dict\n",
    "reduced_gensim_dict_path = \"dictionaries\\\\reduced_gemsimdict_unified.pkl\"\n",
    "reduced_gensim_dict = pickle.load(open(reduced_gensim_dict_path, 'rb'))\n",
    "print(reduced_gensim_dict)"
   ]
  },
  {
   "cell_type": "code",
   "execution_count": 6,
   "metadata": {},
   "outputs": [
    {
     "data": {
      "text/html": [
       "<div>\n",
       "<style scoped>\n",
       "    .dataframe tbody tr th:only-of-type {\n",
       "        vertical-align: middle;\n",
       "    }\n",
       "\n",
       "    .dataframe tbody tr th {\n",
       "        vertical-align: top;\n",
       "    }\n",
       "\n",
       "    .dataframe thead th {\n",
       "        text-align: right;\n",
       "    }\n",
       "</style>\n",
       "<table border=\"1\" class=\"dataframe\">\n",
       "  <thead>\n",
       "    <tr style=\"text-align: right;\">\n",
       "      <th></th>\n",
       "      <th>tokens</th>\n",
       "    </tr>\n",
       "    <tr>\n",
       "      <th>name</th>\n",
       "      <th></th>\n",
       "    </tr>\n",
       "  </thead>\n",
       "  <tbody>\n",
       "    <tr>\n",
       "      <th>Singleton of Dufftown 12 Year Old</th>\n",
       "      <td>[orange_zest, malty_core, nut, oak, toffee, cu...</td>\n",
       "    </tr>\n",
       "    <tr>\n",
       "      <th>The GlenDronach 18 Year Old Allardice</th>\n",
       "      <td>[christmas_cake, rum, chocolate, hazelnut, run...</td>\n",
       "    </tr>\n",
       "    <tr>\n",
       "      <th>Lagavulin 2005 (bottled 2020) Pedro Ximénez Cask Finish - Distillers Edition</th>\n",
       "      <td>[date, prune, almond, bonfire, smoke, toffee, ...</td>\n",
       "    </tr>\n",
       "    <tr>\n",
       "      <th>Glenfarclas 15 Year Old</th>\n",
       "      <td>[raisin, sherry, orange_peel, walnut, date, in...</td>\n",
       "    </tr>\n",
       "    <tr>\n",
       "      <th>Darkness 8 Year Old</th>\n",
       "      <td>[amaretti, biscuit, subtly, toast, power, rais...</td>\n",
       "    </tr>\n",
       "  </tbody>\n",
       "</table>\n",
       "</div>"
      ],
      "text/plain": [
       "                                                                                               tokens\n",
       "name                                                                                                 \n",
       "Singleton of Dufftown 12 Year Old                   [orange_zest, malty_core, nut, oak, toffee, cu...\n",
       "The GlenDronach 18 Year Old Allardice               [christmas_cake, rum, chocolate, hazelnut, run...\n",
       "Lagavulin 2005 (bottled 2020) Pedro Ximénez Cas...  [date, prune, almond, bonfire, smoke, toffee, ...\n",
       "Glenfarclas 15 Year Old                             [raisin, sherry, orange_peel, walnut, date, in...\n",
       "Darkness 8 Year Old                                 [amaretti, biscuit, subtly, toast, power, rais..."
      ]
     },
     "execution_count": 6,
     "metadata": {},
     "output_type": "execute_result"
    }
   ],
   "source": [
    "cols_to_keep = ['name', 'token_unified']\n",
    "unitoken_df = whisk_data[cols_to_keep].set_index('name')\n",
    "\n",
    "# entries in token_unified are strings. Literal evaluate to get this back into list of strings\n",
    "attr_listed = [ast.literal_eval(row) for row in unitoken_df['token_unified'] ] \n",
    "unitoken_df['tokens'] = attr_listed\n",
    "# get rid of original token unified column\n",
    "unitoken_df.drop(columns = ['token_unified'], inplace = True)\n",
    "unitoken_df.head()"
   ]
  },
  {
   "cell_type": "markdown",
   "metadata": {},
   "source": [
    "Create gensim corpus from reduced dictionary set."
   ]
  },
  {
   "cell_type": "code",
   "execution_count": 7,
   "metadata": {},
   "outputs": [],
   "source": [
    "corpus = [reduced_gensim_dict.doc2bow(doc) for doc in unitoken_df.tokens]"
   ]
  },
  {
   "cell_type": "code",
   "execution_count": 6,
   "metadata": {},
   "outputs": [],
   "source": [
    "# lets pickle the whisky descriptor corpus (reference dictionary is reduced_gensim_dict):\n",
    "pickle.dump(corpus, open('data\\\\final\\\\descriptor_corpus.pkl', 'wb'))"
   ]
  },
  {
   "cell_type": "markdown",
   "metadata": {},
   "source": [
    "Of course, one of the big issues is that it's not clear what the best number of topics is a priori and whether the topics that an LDA model fits to are actually meaningful. We can use coherence measures (i.e. an aggregation of pairwise correlations between members of a topic as one measure). This can have some issues but its a way of putting a number on estimating topic coherence.\n",
    "\n",
    "There are also other hyperparameters such as the alpha vector for the Dirichlet distribution."
   ]
  },
  {
   "cell_type": "code",
   "execution_count": 116,
   "metadata": {},
   "outputs": [
    {
     "name": "stdout",
     "output_type": "stream",
     "text": [
      "[(2, 0.2993272541832943), (3, 0.3136807900071163), (4, 0.35908733130685), (5, 0.3735726377031539), (6, 0.37486755012748624), (7, 0.37267587961541854), (8, 0.3534713379917902), (9, 0.37798863377144926), (10, 0.3707958121442076), (11, 0.37322423256263304), (12, 0.34913368873656414), (13, 0.3602244146876927), (14, 0.36407616003603377), (15, 0.3640611499931736), (16, 0.3632675135810002), (17, 0.36519366154047733), (18, 0.3577528042053702), (19, 0.36248111014751244)]\n"
     ]
    }
   ],
   "source": [
    "# let's loop to extract the best hyperparameters and get the topic model coherence score for each hyperparameter set.\n",
    "model_coherence_list = []\n",
    "for topic_num in range(2,20, 1):\n",
    "    # our LDA model\n",
    "    scotch_topic_model = LdaModel(corpus = corpus, num_topics = topic_num, random_state=100,  id2word = reduced_gensim_dict, passes = 10, alpha = 'auto' )\n",
    "\n",
    "    # coherence model wrapper\n",
    "    cm = CoherenceModel(model=scotch_topic_model, texts= unitoken_df.tokens, coherence = 'c_v')\n",
    "    model_coherence_list.append((topic_num, cm.get_coherence()))\n",
    "    \n",
    "print(model_coherence_list)\n"
   ]
  },
  {
   "cell_type": "code",
   "execution_count": 340,
   "metadata": {},
   "outputs": [
    {
     "data": {
      "image/png": "[encoded data removed]",
      "text/plain": [
       "<Figure size 432x288 with 1 Axes>"
      ]
     },
     "metadata": {
      "needs_background": "light"
     },
     "output_type": "display_data"
    }
   ],
   "source": [
    "# plot model coherence score vs number of topics\n",
    "unzipped_coherence_list = list(zip(*model_coherence_list))\n",
    "plt.plot(unzipped_coherence_list[0], unzipped_coherence_list[1], c = 'b', linewidth = 2 )\n",
    "plt.axvline(x = 6, c ='r', linestyle = '--')\n",
    "plt.annotate('Optimal num. topics', xy = (6.3, 0.30), c ='r')\n",
    "plt.title('LDA coherence score vs. number of topics')\n",
    "plt.xlabel('Number of topics')\n",
    "plt.ylabel('Coherence score ($c_v$)')\n",
    "plt.xticks(np.arange(2,20, 2))\n",
    "model_image_path = \"images\\\\Modeling\\\\\"\n",
    "plt.savefig(model_image_path +'LDA_coherence.jpg', dpi = 300, bbox_inches = 'tight')\n",
    "plt.show()\n"
   ]
  },
  {
   "cell_type": "code",
   "execution_count": 8,
   "metadata": {},
   "outputs": [],
   "source": [
    "scotch_topic_model = LdaModel(corpus = corpus, num_topics = 6, random_state= 100,  id2word = reduced_gensim_dict, passes = 10, alpha = 'auto',  minimum_probability = 0 )"
   ]
  },
  {
   "cell_type": "code",
   "execution_count": 141,
   "metadata": {},
   "outputs": [
    {
     "data": {
      "text/plain": [
       "[(0,\n",
       "  '0.049*\"chocolate\" + 0.042*\"fruit\" + 0.041*\"raisin\" + 0.028*\"sherry\" + 0.026*\"cinnamon\" + 0.025*\"oak\" + 0.022*\"dark_chocolate\" + 0.021*\"rich\" + 0.017*\"spice\" + 0.016*\"clove\" + 0.015*\"cherry\" + 0.015*\"date\" + 0.015*\"coffee\" + 0.015*\"orange\" + 0.014*\"ginger\" + 0.013*\"sweet\" + 0.013*\"orange_peel\" + 0.012*\"sultana\" + 0.012*\"dark\" + 0.010*\"cake\" + 0.009*\"walnut\" + 0.009*\"plum\" + 0.008*\"treacle\" + 0.008*\"toffee\" + 0.008*\"brown_sugar\" + 0.008*\"red\" + 0.008*\"juicy\" + 0.008*\"caramel\" + 0.007*\"honey\" + 0.007*\"thick\"'),\n",
       " (1,\n",
       "  '0.033*\"vanilla\" + 0.030*\"oak\" + 0.027*\"barley\" + 0.024*\"malt\" + 0.023*\"honey\" + 0.022*\"fresh\" + 0.019*\"chocolate\" + 0.018*\"sweet\" + 0.016*\"butter\" + 0.016*\"apple\" + 0.015*\"citrus\" + 0.014*\"lemon\" + 0.014*\"floral\" + 0.013*\"cinnamon\" + 0.012*\"peel\" + 0.012*\"grass\" + 0.011*\"sugar\" + 0.011*\"cream\" + 0.011*\"orange\" + 0.011*\"apricot\" + 0.010*\"spice\" + 0.010*\"pear\" + 0.010*\"almond\" + 0.010*\"caramel\" + 0.010*\"toasted\" + 0.009*\"earth\" + 0.009*\"finish\" + 0.009*\"peach\" + 0.009*\"biscuit\" + 0.008*\"white\"'),\n",
       " (2,\n",
       "  '0.071*\"sweet\" + 0.058*\"fruit\" + 0.037*\"spice\" + 0.031*\"vanilla\" + 0.029*\"oak\" + 0.024*\"long\" + 0.023*\"citrus\" + 0.020*\"rich\" + 0.020*\"cream\" + 0.018*\"finish\" + 0.016*\"fresh\" + 0.016*\"wood\" + 0.016*\"floral\" + 0.016*\"toffee\" + 0.015*\"gentle\" + 0.014*\"soft\" + 0.012*\"aroma\" + 0.011*\"orange\" + 0.011*\"light\" + 0.010*\"honey\" + 0.009*\"zest\" + 0.009*\"malt\" + 0.008*\"flavour\" + 0.008*\"green\" + 0.008*\"nutty\" + 0.008*\"caramel\" + 0.008*\"tannin\" + 0.008*\"smoke\" + 0.008*\"dark\" + 0.008*\"pepper\"'),\n",
       " (3,\n",
       "  '0.045*\"malt\" + 0.040*\"fruit\" + 0.039*\"sweet\" + 0.032*\"spice\" + 0.028*\"rich\" + 0.027*\"oak\" + 0.027*\"apple\" + 0.025*\"toffee\" + 0.024*\"long\" + 0.022*\"barley\" + 0.020*\"cream\" + 0.019*\"vanilla\" + 0.018*\"finish\" + 0.017*\"sherry\" + 0.016*\"pepper\" + 0.014*\"honey\" + 0.014*\"thick\" + 0.013*\"oil\" + 0.012*\"soft\" + 0.012*\"butter\" + 0.012*\"spiced\" + 0.012*\"peel\" + 0.011*\"smoke\" + 0.010*\"allspice\" + 0.009*\"cocoa\" + 0.008*\"cereal\" + 0.008*\"cinnamon\" + 0.008*\"manuka_honey\" + 0.008*\"good_length\" + 0.008*\"custard\"'),\n",
       " (4,\n",
       "  '0.103*\"smoke\" + 0.071*\"peat\" + 0.032*\"sweet\" + 0.024*\"coastal\" + 0.023*\"salt\" + 0.021*\"earth\" + 0.020*\"meat\" + 0.020*\"peat_smoke\" + 0.018*\"sea_salt\" + 0.014*\"oil\" + 0.012*\"lemon\" + 0.012*\"finish\" + 0.012*\"seaweed\" + 0.011*\"oak\" + 0.010*\"sea_breeze\" + 0.010*\"pepper\" + 0.010*\"ash\" + 0.010*\"black_pepper\" + 0.009*\"bonfire\" + 0.009*\"barley\" + 0.009*\"toasted\" + 0.008*\"citrus\" + 0.008*\"long\" + 0.008*\"savoury\" + 0.008*\"vanilla\" + 0.008*\"apple\" + 0.008*\"maritime\" + 0.008*\"caramel\" + 0.008*\"waft\" + 0.008*\"iodine\"'),\n",
       " (5,\n",
       "  '0.044*\"apple\" + 0.038*\"fruit\" + 0.037*\"vanilla\" + 0.035*\"oak\" + 0.030*\"spice\" + 0.028*\"cream\" + 0.028*\"cinnamon\" + 0.022*\"sweet\" + 0.018*\"orange\" + 0.018*\"red\" + 0.018*\"malt\" + 0.018*\"caramel\" + 0.017*\"nut\" + 0.016*\"tart\" + 0.015*\"pear\" + 0.014*\"berry\" + 0.014*\"fresh\" + 0.014*\"nutmeg\" + 0.014*\"ginger\" + 0.013*\"jam\" + 0.013*\"baking_spice\" + 0.013*\"custard\" + 0.012*\"milk_chocolate\" + 0.012*\"toffee\" + 0.011*\"honey\" + 0.011*\"plum\" + 0.011*\"pepper\" + 0.011*\"chocolate\" + 0.010*\"lot\" + 0.010*\"finish\"')]"
      ]
     },
     "execution_count": 141,
     "metadata": {},
     "output_type": "execute_result"
    }
   ],
   "source": [
    "scotch_topic_model.show_topics(num_words=30)"
   ]
  },
  {
   "cell_type": "code",
   "execution_count": 142,
   "metadata": {},
   "outputs": [
    {
     "name": "stderr",
     "output_type": "stream",
     "text": [
      "C:\\Users\\prave\\anaconda3\\envs\\sb_cpstone3\\lib\\site-packages\\pyLDAvis\\_prepare.py:246: FutureWarning: In a future version of pandas all arguments of DataFrame.drop except for the argument 'labels' will be keyword-only\n",
      "  default_term_info = default_term_info.sort_values(\n"
     ]
    }
   ],
   "source": [
    "vis = gensim_models.prepare(scotch_topic_model, corpus, reduced_gensim_dict, sort_topics = False)\n",
    "pyLDAvis.display(vis)\n",
    "pyLDAvis.save_html(vis, 'lda.html')"
   ]
  },
  {
   "cell_type": "markdown",
   "metadata": {},
   "source": [
    "Picking the optimal number of topics is not straightforward. The coherence score is just a guide. Ultimately, it depends on what you are going for. In some cases, overlap between topics with increased topic number can be tolerated. In other cases, we want as few topics as is practical. In either case, there are risks of losing some degree of interpretability.\n",
    "\n",
    "In our case, we went for the model recommended by the coherence score. \n",
    "\n",
    "Let's look at this visualization at different values of relevance. At values of lambda = 1, we see that a common descriptor set tends to pile up at the highest saliency in all the topics. \"Vanilla\", \"sweet\", \"oak\", \"fruit\", \"malt\", \"barley\", etc. are examples of such ultra-common descriptors tht seem to be a unifying descriptor set for Scotch. We saw these same descriptors as the most frequent across Scotch regions during EDA. It's not too surprising that these words appear prelevantly in many of the descriptor topic groupings. Or it may not be possible to improve substantially usng a simple BoW.\n",
    "\n",
    "Looking at lower ranges values of relevance, we see that each topic has real differences and in ways that actually make some sense in terms of tastes.\n",
    "\n",
    "Number in brackets are the index of each topic in the gensim model.\n",
    "\n",
    "1. Topic 1 [0]: Sweet, rich, spiced christmas flavors with a mix of nuts, candied berries, aromatic spice, and dark chocolate. These are dark, sweet flavors.\n",
    "2. Topic 2 [1]: Citrus and floral with cream, malty notes.\n",
    "3. Topic 3 [2]: Herbal, tannin, citrus, wood spice. Drier notes.\n",
    "4. Topic 4 [3]: Wood, smoke, and pepper/heat. But also combined with cream and custard. Richness.\n",
    "5. Topic 5 [4]: Smoke, peat, salt, meat. All the savoury notes.\n",
    "6. Topic 6 [5]: Berries, rhubarb, dark chocolate, jam, fruits, tartness but sweet.\n",
    "\n",
    "\n",
    "A quick exploration of the visual shows that many of these topics are meaningful and interpretable but that there are some confused descriptors that one might think would belong in a different topic. The topics are not as clean as one might hope. But the topics do line up with the kinds of thing we were seeing in Correspondence Analysis which is good. We expected the categories to be more of a continuum rather than disjoint descriptions. Getting better results might mean twiddling with the topic number a little, or just iterating over several random initializations, or going back to corpus building and further tailoring the stop word list and stemming/lemmatizing. \n",
    "\n",
    "For this project, we'll stick with this model for now and see where it takes us.\n"
   ]
  },
  {
   "cell_type": "code",
   "execution_count": 9,
   "metadata": {},
   "outputs": [],
   "source": [
    "doc_lda_decomp = scotch_topic_model[corpus] # for each document (scotch) creates a list of tuples for each scotch with the topic (taste type) and its relative importance."
   ]
  },
  {
   "cell_type": "markdown",
   "metadata": {},
   "source": [
    "This gives us a numeric breakdown of each scotch across different relevant taste/smell types as represented by the topics found by LDA. This is what we wanted and was something that the descriptor-scotch joint embedding via Correspondence Analysis could not give us.\n",
    "\n",
    "Let's do a sanity check and see what we get for some well known Scotches:"
   ]
  },
  {
   "cell_type": "code",
   "execution_count": 10,
   "metadata": {},
   "outputs": [],
   "source": [
    "#its easier to inspect topic weights for Scotches against each other visually\n",
    "def plot_topicweights(scotch_name):\n",
    "    \n",
    "    doc_num = whisk_data[whisk_data['name'] == scotch_name ].index[0]\n",
    "\n",
    "    top_breakdown = doc_lda_decomp[doc_num]\n",
    "    topic_index = np.array(list(zip(*top_breakdown))[0]) + 1\n",
    "    topic_weight = np.array(list(zip(*top_breakdown))[1])\n",
    "\n",
    "    top_breakdown_series = pd.Series(data = topic_weight, index=topic_index).sort_values(ascending = False)\n",
    "    sns.barplot(x = top_breakdown_series.index, y = top_breakdown_series.values)\n",
    "    plt.xlabel('Topic')\n",
    "    plt.ylabel('Weights')\n",
    "    plt.title(scotch_name)\n",
    "    plt.show()\n",
    "        \n"
   ]
  },
  {
   "cell_type": "code",
   "execution_count": 34,
   "metadata": {},
   "outputs": [],
   "source": [
    "def plot_two_scotchweights(name_list, filename = None, for_pres = False):\n",
    "    num_cols = 1\n",
    "    num_rows = 2\n",
    "    doc_num_list = [whisk_data[whisk_data['name'] == scotch_name].index[0] for scotch_name in name_list]\n",
    "    fig, ax = plt.subplots(num_rows,num_cols, figsize = (2.5,5))\n",
    "\n",
    "    for index,doc_num in enumerate(doc_num_list):\n",
    "        name = name_list[index]\n",
    "        top_breakdown = doc_lda_decomp[doc_num]\n",
    "        topic_index = np.array(list(zip(*top_breakdown))[0]) + 1\n",
    "        topic_weight = np.array(list(zip(*top_breakdown))[1])\n",
    "        top_breakdown_series = pd.Series(data = topic_weight, index=topic_index).sort_values(ascending = False)\n",
    "        sns.barplot(x = top_breakdown_series.index, y = top_breakdown_series.values, ax = ax[index])\n",
    "        ax[index].set_title(name)\n",
    "        ax[index].set_xlabel('Taste Group')\n",
    "        ax[index].set_ylabel('Weight')\n",
    "\n",
    "    plt.tight_layout()\n",
    "    if ((for_pres == True) & (filename != None)):\n",
    "        pres_image_path = \"reports\\\\presentation\\\\\"\n",
    "        plt.savefig(pres_image_path + filename +  '.jpg', dpi = 300, bbox_inches = 'tight' )\n",
    "    else:\n",
    "        model_image_path = \"images\\\\EDA\\\\\"\n",
    "        plt.savefig(model_image_path +'scotch_topic_breakdown.jpg', dpi = 300, bbox_inches = 'tight' )\n",
    "    plt.show()"
   ]
  },
  {
   "cell_type": "code",
   "execution_count": 11,
   "metadata": {},
   "outputs": [],
   "source": [
    "import itertools"
   ]
  },
  {
   "cell_type": "code",
   "execution_count": 25,
   "metadata": {},
   "outputs": [],
   "source": [
    "def plot_multiplescotchweights(name_list, filename = None, for_pres = False):\n",
    "    num_cols = 2\n",
    "    num_rows = int(len(name_list)//2)\n",
    "    ax_indexer = list(itertools.product(range(num_rows), range(num_cols)))\n",
    "\n",
    "    doc_num_list = [whisk_data[whisk_data['name'] == scotch_name].index[0] for scotch_name in name_list]\n",
    "    fig, ax = plt.subplots(num_rows,num_cols, figsize = (7,8))\n",
    "\n",
    "    for index,doc_num in enumerate(doc_num_list):\n",
    "        name = name_list[index]\n",
    "        top_breakdown = doc_lda_decomp[doc_num]\n",
    "        topic_index = np.array(list(zip(*top_breakdown))[0]) + 1\n",
    "        topic_weight = np.array(list(zip(*top_breakdown))[1])\n",
    "        top_breakdown_series = pd.Series(data = topic_weight, index=topic_index).sort_values(ascending = False)\n",
    "        sns.barplot(x = top_breakdown_series.index, y = top_breakdown_series.values, ax = ax[ax_indexer[index]])\n",
    "        ax[ax_indexer[index]].set_title(name)\n",
    "        ax[ax_indexer[index]].set_xlabel('Taste Group')\n",
    "        ax[ax_indexer[index]].set_ylabel('Weight')\n",
    "\n",
    "    plt.tight_layout()\n",
    "    if ((for_pres == True) & (filename != None)):\n",
    "        pres_image_path = \"reports\\\\presentation\\\\\"\n",
    "        plt.savefig(pres_image_path + filename +  '.jpg', dpi = 300, bbox_inches = 'tight' )\n",
    "    else:\n",
    "        model_image_path = \"images\\\\EDA\\\\\"\n",
    "        plt.savefig(model_image_path +'scotch_topic_breakdown.jpg', dpi = 300, bbox_inches = 'tight' )\n",
    "    plt.show()\n",
    "\n"
   ]
  },
  {
   "cell_type": "code",
   "execution_count": 26,
   "metadata": {},
   "outputs": [
    {
     "data": {
      "image/png": "[encoded data removed]",
      "text/plain": [
       "<Figure size 504x576 with 6 Axes>"
      ]
     },
     "metadata": {
      "needs_background": "light"
     },
     "output_type": "display_data"
    }
   ],
   "source": [
    "whisky_list = [\"Aberlour A'Bunadh Batch 70\",\"Glenmorangie Nectar d'Or\", 'Ardbeg 10 Year Old', 'Laphroaig 10 Year Old', \"Oban 14 Year Old\", \"Laphroaig 10 Year Old Sherry Oak Finish\"]\n",
    "plot_multiplescotchweights(whisky_list)"
   ]
  },
  {
   "cell_type": "code",
   "execution_count": 36,
   "metadata": {},
   "outputs": [
    {
     "data": {
      "image/png": "[encoded data removed]",
      "text/plain": [
       "<Figure size 180x360 with 2 Axes>"
      ]
     },
     "metadata": {
      "needs_background": "light"
     },
     "output_type": "display_data"
    }
   ],
   "source": [
    "whisky_list = [\"Aberlour A'Bunadh Batch 70\",\"Glenmorangie Nectar d'Or\"]\n",
    "plot_two_scotchweights(whisky_list, filename = \"sweetsidetopics\", for_pres = True)"
   ]
  },
  {
   "cell_type": "markdown",
   "metadata": {},
   "source": [
    "Let's print the tokens for these whiskies:"
   ]
  },
  {
   "cell_type": "code",
   "execution_count": 357,
   "metadata": {},
   "outputs": [
    {
     "name": "stdout",
     "output_type": "stream",
     "text": [
      "Aberlour A'Bunadh Batch 70 [\"['gingerbread', 'orange_zest', 'black_pepper', 'thick', 'sherry', 'vanilla_pod', 'christmas_cake', 'cherry', 'bakewells', 'hefty', 'helping', 'cinnamon', 'cedar', 'cinnamon', 'raisin']\"]\n",
      "Glenmorangie Nectar d'Or [\"['silk', 'syrup', 'syrup', 'sponge', 'vanilla', 'custard', 'butter', 'baklava', 'toasted', 'brown_sugar', 'sweet', 'citrus', 'lemon_curd', 'vanilla', 'shortbread', 'oak', 'spice', 'gingerbread', 'fruit', 'drizzle', 'runny_honey', 'dr', 'oak', 'lemon', 'shortbread', 'gingersnap_biscuit']\"]\n",
      "Ardbeg 10 Year Old [\"['sweet', 'vanilla', 'lemon', 'lime', 'ardbeg', 'smoke', 'love', 'ridge', 'vanilla', 'mountain', 'peat', 'citrus', 'fruit', 'cloud', 'sea_spray', 'long', 'glorious', 'sea', 'caramel', 'beach_bonfire', 'smoke']\"]\n",
      "Laphroaig 10 Year Old [\"['seaweed', 'vanilla', 'ice_cream', 'whiff', 'aid', 'box', 'tcp', 'plaster', 'etc', 'oak', 'big', 'way', 'fore', 'whisky', 'tongue', 'upsurge', 'spice', 'cardamom', 'black_pepper', 'chilli', 'big', 'muscular', 'peat', 'spice', 'liquorice', 'big', 'dose', 'salt', 'whisky', 'slightly', 'sweet', 'recent', 'year', 'beauty', 'classic', 'iodine', 'plaster', 'cool_wood', 'smoke', 'big', 'savoury', 'tarry', 'iodine']\"]\n",
      "Oban 14 Year Old [\"['cream', 'marmalade', 'toffee', 'apple', 'pear', 'cider', 'development', 'clove', 'late', 'maritime', 'plaster', 'toffee', 'brittle', 'long', 'malt', 'finish', 'toast', 'oak', 'spice']\"]\n",
      "Laphroaig 10 Year Old Sherry Oak Finish [\"['roasted', 'cedar', 'peat_smoke', 'iodine', 'away', 'dark_chocolate', 'honey', 'vanilla_pod', 'meat', 'maple_syrup', 'bbq', 'lemon', 'charred_oak', 'smidge', 'coffee', 'balanced', 'finish', 'sherry', 'sweet', 'smouldering', 'peat']\"]\n"
     ]
    }
   ],
   "source": [
    "for scotch in whisky_list:\n",
    "    print(scotch, whisk_data[whisk_data['name'] == scotch].token_unified.values)"
   ]
  },
  {
   "cell_type": "markdown",
   "metadata": {},
   "source": [
    "The taste descriptors and the topic breakdown align well. We've tried many other whiskies too and it seems good."
   ]
  },
  {
   "cell_type": "markdown",
   "metadata": {},
   "source": [
    "This is alright. Let's pickle the model."
   ]
  },
  {
   "cell_type": "code",
   "execution_count": 15,
   "metadata": {},
   "outputs": [],
   "source": [
    "LDA_model_path = \"models\\\\Scotch_LDA.pkl\"\n",
    "pickle.dump(scotch_topic_model, open(LDA_model_path, 'wb'))"
   ]
  },
  {
   "cell_type": "markdown",
   "metadata": {},
   "source": [
    "Let's also construct a new dataframe with the seven topics as features. We can discard the unified_tokens or BoW representation. This can be used for higher level analytics. We can the save this:"
   ]
  },
  {
   "cell_type": "markdown",
   "metadata": {},
   "source": [
    "# Similarity measures: Content-based recommender systems"
   ]
  },
  {
   "cell_type": "code",
   "execution_count": 16,
   "metadata": {},
   "outputs": [],
   "source": [
    "index = MatrixSimilarity(doc_lda_decomp) "
   ]
  },
  {
   "cell_type": "code",
   "execution_count": 17,
   "metadata": {},
   "outputs": [],
   "source": [
    "# We'll reuse this index object for matrix similarity often for in-corpus recommendation. let's save this.\n",
    "pickle.dump(index, open('data\\\\final\\\\index_sim.pkl', 'wb'))"
   ]
  },
  {
   "cell_type": "markdown",
   "metadata": {},
   "source": [
    "## In-corpus recommendation"
   ]
  },
  {
   "cell_type": "markdown",
   "metadata": {},
   "source": [
    "We've created a class that can do in-corpus recommendations and out-of-corpus recommendations. The in-corpus recommender takes in the name of a Scotch and the number of recommendations and outputs the Scotches with the nearest cosine similarity scores. Let's evaluate the LDA-based recommender on a few scotches to see if its making reasonable recommendations."
   ]
  },
  {
   "cell_type": "code",
   "execution_count": 38,
   "metadata": {},
   "outputs": [],
   "source": [
    "rec_engine = Scotch_Recommender()"
   ]
  },
  {
   "cell_type": "code",
   "execution_count": 367,
   "metadata": {},
   "outputs": [
    {
     "name": "stdout",
     "output_type": "stream",
     "text": [
      "[\"['gingerbread', 'orange_zest', 'black_pepper', 'thick', 'sherry', 'vanilla_pod', 'christmas_cake', 'cherry', 'bakewells', 'hefty', 'helping', 'cinnamon', 'cedar', 'cinnamon', 'raisin']\"]\n",
      "Edradour 10 Year Old 2004 (cask 433) - Straight From The Cask [\"['brown_sugar', 'treacle', 'clove', 'cinnamon', 'load', 'raisin', 'walnut_loaf', 'damson_jam', 'richly', 'chocolate', 'rum', 'like', 'spice', 'chocolate', 'date']\"]\n",
      "The GlenDronach Cask Strength - Batch 7 [\"['chocolate', 'coffee_bean', 'heavy', 'brown_sugar', 'roasted_nut', 'gingerbread', 'cinnamon', 'blackcurrant', 'vanilla_pod', 'earth', 'rich', 'mature_oak', 'chocolate', 'truffle']\"]\n",
      "Tamdhu 10 Year Old [\"['soft', 'red', 'fruit', 'brown_sugar', 'clove', 'chocolate', 'brazil_nut', 'dry', 'orange_peel', 'red_wine', 'pecan', 'raspberry_jam', 'crystallised_ginger', 'cacao', 'juicy', 'blackcurrant']\"]\n",
      "Kingsbarns Balcomie [\"['pineapple', 'upside_cake', 'marmalade', 'cinnamon', 'cocoa', 'cinnamon', 'scroll', 'hot_cross', 'bun', 'drizzle', 'maple_syrup', 'cherry', 'apricot_jam', 'chocolate', 'nut']\"]\n",
      "Bunnahabhain 11 Year Old 2009 (cask 900027) - Cask Strength Collection (Signatory) [\"['christmas', 'spice', 'galore', 'chocolate', 'almond', 'spiced', 'hot', 'chocolate', 'date', 'slight', 'roasted', 'oak', 'finish', 'festive', 'spice']\"]\n",
      "Deanston 13 Year Old 2007 (cask 900141) - Cask Strength Collection (Signatory) [\"['winter_spice', 'galore', 'summer_berry', 'warmth', 'season', 'honeycomb', 'hazelnut', 'rye_toast', 'date', 'big', 'whack', 'ginger', 'chocolate', 'peanut', 'seville_orange', 'white_pepper', 'raisin']\"]\n"
     ]
    }
   ],
   "source": [
    "print(whisk_data[whisk_data['name'] == \"Aberlour A'Bunadh Batch 70\"].token_unified.values)\n",
    "for x in rec_engine.get_recommendations(\"Aberlour A'Bunadh Batch 70\", 20).values[1:7]:\n",
    "    print(x, whisk_data[whisk_data['name'] == x].token_unified.values )"
   ]
  },
  {
   "cell_type": "markdown",
   "metadata": {},
   "source": [
    "Glendronach Port wood is forward in berries, raisin type tastes: sweet and jammy. Some wood/heat, bitter/citrus, and creamy vanilla. Many of the whiskies on this list have similar taste profiles."
   ]
  },
  {
   "cell_type": "markdown",
   "metadata": {},
   "source": [
    "Definitely lots of berry/fruit, jam, some bitter/orange notes, some cream, etc. This is good. Finally let's finish up with something that's peaty, quite medicinal, and fiery."
   ]
  },
  {
   "cell_type": "code",
   "execution_count": 364,
   "metadata": {},
   "outputs": [
    {
     "name": "stdout",
     "output_type": "stream",
     "text": [
      "Laphroaig 10 Year Old [\"['seaweed', 'vanilla', 'ice_cream', 'whiff', 'aid', 'box', 'tcp', 'plaster', 'etc', 'oak', 'big', 'way', 'fore', 'whisky', 'tongue', 'upsurge', 'spice', 'cardamom', 'black_pepper', 'chilli', 'big', 'muscular', 'peat', 'spice', 'liquorice', 'big', 'dose', 'salt', 'whisky', 'slightly', 'sweet', 'recent', 'year', 'beauty', 'classic', 'iodine', 'plaster', 'cool_wood', 'smoke', 'big', 'savoury', 'tarry', 'iodine']\"]\n",
      "Bowmore 22 Year Old 1989 - Mission (Murray McDavid) [\"['peat', 'salt', 'floral', 'vanilla', 'zest', 'time', 'vanilla_pod', 'oatmeal', 'hay', 'heather', 'sea_air', 'lemon', 'lime', 'sea_spray', 'ream', 'smoke', 'pleasantly', 'long', 'finish']\"]\n",
      "Coastal Confection 1996 (bottled 2015) - Wemyss Malts (Bowmore) [\"['peat', 'slightly', 'coastal', 'plenty', 'fruit', 'way', 'sweet', 'n', 'peat', 'sugar', 'peel', 'fruit', 'sweetie', 'balanced', 'satisfying']\"]\n",
      "Caol Ila 20 Year Old 1995 (cask 10870) - Old Particular (Douglas Laing) [\"['salt', 'slice', 'lemon', 'pine_nut', 'toast', 'oak', 'sweet', 'slightly', 'green', 'coastal', 'peat', 'aroma', 'barley', 'heart', 'sweet', 'ash', 'coastal', 'tang']\"]\n",
      "Talisker 9 Year Old 2011 - Hepburn's Choice (Langside) [\"['marmalade', 'blackcurrant_jam', 'whiff', 'coastal', 'smoke', 'salt', 'black_pepper', 'oil', 'orange', 'citrus', 'fruit', 'sweet', 'beach_bonfire', 'smoke']\"]\n",
      "Caol Ila 7 Year Old 2008 - Strictly Limited (Càrn Mòr) [\"['gentle', 'oak', 'smoke', 'peel', 'black_pepper', 'sweet', 'rock_pool', 'brine', 'sea', 'harbour', 'rope', 'lemon', 'beach', 'meat', 'soft', 'spice', 'wisp', 'iodine', 'smoke']\"]\n",
      "Torabhaig Allt Gleann - The Legacy Series [\"['bold', 'peat', 'coastal', 'tar', 'oil', 'texture', 'roasted', 'salted', 'nut', 'light', 'fruit_salad', 'floral', 'waft', 'heather', 'fennel', 'metallic', 'medicinal', 'pepper', 'spice', 'wafts', 'wood', 'tobacco', 'crumbly', 'vanilla', 'shortbread', 'earthy_peat', 'smoke', 'zing', 'lemon_zest', 'salt', 'maritime', 'shellfish', 'sweet', 'fruit', 'apple', 'kiwi', 'vanilla', 'oak', 'big', 'hit', 'peat', 'smoke', 'sea_breeze', 'harbourside', 'character']\"]\n"
     ]
    }
   ],
   "source": [
    "print(\"Laphroaig 10 Year Old\", whisk_data[whisk_data['name'] == \"Laphroaig 10 Year Old\"].token_unified.values)\n",
    "for x in rec_engine.get_recommendations(\"Laphroaig 10 Year Old\", 20).values[1:7]:\n",
    "    print(x, whisk_data[whisk_data['name'] == x].token_unified.values )\n"
   ]
  },
  {
   "cell_type": "markdown",
   "metadata": {},
   "source": [
    "Again...pretty good. How about a citrus forward, lighter scotch? "
   ]
  },
  {
   "cell_type": "code",
   "execution_count": 90,
   "metadata": {},
   "outputs": [
    {
     "name": "stdout",
     "output_type": "stream",
     "text": [
      "The Glenlivet 12 Year Old [\"['butter', 'vanilla', 'rich', 'bright', 'fruit', 'apricot', 'pineapple', 'greengage', 'citrus_blossom', 'toasted_teacake', 'soft', 'crackle', 'oak', 'spice', 'malt', 'plus', 'red', 'apple', 'juicy']\"]\n",
      "Glenmorangie X [\"['lot', 'vanilla', 'apricot', 'apple', 'flaked', 'almond', 'later', 'honeyed', 'malt', 'lemon', 'apple', 'plus', 'nutmeg', 'oak', 'warmth', 'honeyed', 'orchard_fruit', 'theme', 'finish', 'pinch', 'peppercorn']\"]\n",
      "Tullibardine 24 Year Old 1993 (cask 12026) - Old Particular (Douglas Laing) [\"['zest', 'tropical_fruit', 'starfruit', 'mango', 'pine', 'cedar', 'porridge', 'rye_bread', 'oven', 'classic', 'herbaceous', 'spice', 'tow', 'cream', 'vanilla', 'subtle']\"]\n",
      "Tormore - Batch 2 (That Boutique-y Whisky Company) [\"['caramelised', 'orange_peel', 'fresh', 'lime', 'grapefruit', 'support', 'apple', 'golden', 'barley', 'core', 'steamed', 'marmalade', 'pudding', 'flourless', 'orange', 'cake', 'crushed', 'almond', 'apple', 'peel', 'juicy', 'barley', 'crisp', 'fruit']\"]\n",
      "Auchroisk 23 Year Old 1990 (cask 21752) (Berry Bros. & Rudd) [\"['fresh', 'fruit', 'green_apple', 'apricot', 'slightly_grassy', 'passion_fruit', 'raspberry', 'helping', 'filo_pastry', 'vegetal', 'oak', 'fennel', 'mint', 'caramel', 'sauce']\"]\n",
      "Glen Elgin 9 Year Old 2010 (casks 801358, 801359 & 806436) - Small Batch (James Eadie) [\"['floral', 'honey', 'barley', 'sugar', 'milk_chocolate', 'roasted_coffee', 'bean', 'butter', 'ginger', 'biscuit', 'lemon', 'shortbread', 'strawberry_jam', 'fresh', 'toast', 'grass', 'sweet', 'vanilla']\"]\n",
      "Balmenach 12 Year Old 2003 (cask 800437) - The Single Cask [\"['nutty', 'sweet', 'toffee', 'vanilla', 'bean', 'herbaceous', 'thyme', 'caramel', 'orange_peel', 'zest', 'lemon', 'orange']\"]\n"
     ]
    }
   ],
   "source": [
    " \n",
    "print(\"The Glenlivet 12 Year Old\", whisk_data[whisk_data['name'] == \"The Glenlivet 12 Year Old\"].token_unified.values)\n",
    "for x in rec_engine.get_recommendations(\"The Glenlivet 12 Year Old\", 20).values[1:7]:\n",
    "    print(x, whisk_data[whisk_data['name'] == x].token_unified.values )\n"
   ]
  },
  {
   "cell_type": "markdown",
   "metadata": {},
   "source": [
    "Again, pretty good. LDA on our BoW corpus is definitely doing a decent job at grouping whiskies with nearby combinations of broad taste categories. But we may want to input our own or someone else's tasting notes of a whisky directly. Or we just have a set of tastes and smells in mind and want to get a Scotch recommendation."
   ]
  },
  {
   "cell_type": "markdown",
   "metadata": {},
   "source": [
    "## Out-of-Corpus Recommendation"
   ]
  },
  {
   "cell_type": "markdown",
   "metadata": {},
   "source": [
    "Let's try our hand with a description for a light and dry scotch with citrus notes as well as salt and coastal influences."
   ]
  },
  {
   "cell_type": "code",
   "execution_count": 111,
   "metadata": {},
   "outputs": [
    {
     "name": "stdout",
     "output_type": "stream",
     "text": [
      "Springbank 12 Year Old Cask Strength - 52.2% [\"['calm', 'eye', 'storm', 'heather', 'coriander', 'oregano', 'caramel', 'busy', 'harbour', 'industrial', 'maritime', 'aroma', 'water', 'grape', 'springbank', 'rhubarb', 'thick', 'heavy', 'smoke', 'industrial', 'massive', 'long']\"]\n",
      "Lemon Buttered Kippers 1997 (bottled 2015) - Wemyss Malts (Bunnahabhain) [\"['burst', 'lemon', 'sweet', 'coastal', 'smoke', 'caramel', 'light', 'bbq', 'smoke', 'thyme', 'toffee', 'toasted', 'malt', 'fruit', 'slightly', 'refreshing']\"]\n",
      "Caol Ila 10 Year Old 2009 (cask 318769) - Berry Bros. & Rudd [\"['coastal', 'peat', 'whiff', 'citrus', 'vanilla', 'oil', 'barley', 'phenol', 'damp', 'oak', 'bright', 'zest', 'citrus', 'cask', 'finish']\"]\n",
      "Longrow Peated [\"['light', 'sweet', 'green', 'grape', 'rhubarb', 'great', 'contrast', 'big', 'blast', 'smoke', 'salt', 'leather', 'fore', 'maritime', 'combination', 'harbourmaster', 'jacket', 'salt', 'return', 'deeply', 'satisfying', 'ending']\"]\n",
      "Islay 9 Year Old 2008 (Single Cask Nation) [\"['fruit', 'aromatic', 'lemon', 'sweet', 'herbaceous', 'charred', 'wood', 'crack_black', 'pepper', 'pinch', 'salt', 'tropical', 'zest', 'orange', 'tang', 'pineapple', 'coastal', 'aroma', 'slight', 'char', 'sweet', 'peat', 'salt', 'pepper']\"]\n",
      "Bunnahabhain 23 Year Old - Single Cask (Master of Malt) [\"['faintly', 'peated', 'soft', 'cream', 'mouth', 'grape', 'leather', 'seaweed', 'storm', 'coastline', 'salted_caramel', 'moorland', 'heather', 'long', 'spinach', 'pepper', 'peat', 'smoke', 'distant', 'horizon']\"]\n",
      "Aberfeldy 1999 (bottled 2016) - Connoisseurs Choice (Gordon & MacPhail) [\"['rounded', 'malted_barley', 'oat_biscuit', 'oloroso', 'strawberry_lace', 'clotted', 'cream', 'slight', 'whiff', 'peel', 'light', 'smoke', 'orange', 'fresh']\"]\n",
      "Talisker 8 Year Old (Special Release 2020) [\"['silky_smooth', 'mouth_filling', 'prickle', 'characteristic', 'talisker', 'pepper', 'fruit', 'caramelised', 'smoke', 'bonfire', 'like', 'beauty', 'impression', 'sweet', 'seaside', 'vibe', 'seaweed', 'iodine', 'citrus', 'fruit', 'charred', 'meat', 'molasse', 'tropical_fruit', 'wisp_smoke', 'long', 'pepper', 'chilli', 'like', 'gentle', 'smoke']\"]\n"
     ]
    }
   ],
   "source": [
    "for x in rec_engine.recommend_from_text(text=\"light, citrus, lemon, grapefruit, dry, crisp, sea salt, salted caramel\").values[1:9]:\n",
    "    print(x, whisk_data[whisk_data['name'] == x].token_unified.values )"
   ]
  },
  {
   "cell_type": "markdown",
   "metadata": {},
   "source": [
    "Wow thats better than I expected honestly. I actually had a Springbank in mind."
   ]
  },
  {
   "cell_type": "code",
   "execution_count": 156,
   "metadata": {},
   "outputs": [
    {
     "name": "stdout",
     "output_type": "stream",
     "text": [
      "[\"['christmas_cake', 'rum', 'chocolate', 'hazelnut', 'runny_honey', 'sauternes', 'sherry', 'thick', 'knife', 'old', 'rum', 'pineapple', 'brown_sugar', 'tow', 'fresh', 'blackcurrant', 'blueberry', 'pancake', 'generous', 'helping', 'maple_syrup']\"]\n"
     ]
    }
   ],
   "source": [
    "print(whisk_data[whisk_data['name'] == 'The GlenDronach 18 Year Old Allardice'].token_unified.values)"
   ]
  },
  {
   "cell_type": "code",
   "execution_count": 152,
   "metadata": {},
   "outputs": [
    {
     "data": {
      "text/html": [
       "<div>\n",
       "<style scoped>\n",
       "    .dataframe tbody tr th:only-of-type {\n",
       "        vertical-align: middle;\n",
       "    }\n",
       "\n",
       "    .dataframe tbody tr th {\n",
       "        vertical-align: top;\n",
       "    }\n",
       "\n",
       "    .dataframe thead th {\n",
       "        text-align: right;\n",
       "    }\n",
       "</style>\n",
       "<table border=\"1\" class=\"dataframe\">\n",
       "  <thead>\n",
       "    <tr style=\"text-align: right;\">\n",
       "      <th></th>\n",
       "      <th>Unnamed: 0</th>\n",
       "      <th>name</th>\n",
       "      <th>price</th>\n",
       "      <th>region</th>\n",
       "      <th>distillery</th>\n",
       "      <th>bottler</th>\n",
       "      <th>age</th>\n",
       "      <th>ABV</th>\n",
       "      <th>chill_filter</th>\n",
       "      <th>cask_strength</th>\n",
       "      <th>...</th>\n",
       "      <th>maturation_oak</th>\n",
       "      <th>maturation_port</th>\n",
       "      <th>maturation_red wine</th>\n",
       "      <th>maturation_rum</th>\n",
       "      <th>maturation_rye</th>\n",
       "      <th>maturation_sauternes</th>\n",
       "      <th>maturation_sherry</th>\n",
       "      <th>maturation_white wine</th>\n",
       "      <th>maturation_wine</th>\n",
       "      <th>token_unified</th>\n",
       "    </tr>\n",
       "  </thead>\n",
       "  <tbody>\n",
       "    <tr>\n",
       "      <th>0</th>\n",
       "      <td>0</td>\n",
       "      <td>Singleton of Dufftown 12 Year Old</td>\n",
       "      <td>40.42</td>\n",
       "      <td>Speyside Whisky</td>\n",
       "      <td>Dufftown</td>\n",
       "      <td>Dufftown</td>\n",
       "      <td>12.0</td>\n",
       "      <td>40.0</td>\n",
       "      <td>NaN</td>\n",
       "      <td>NaN</td>\n",
       "      <td>...</td>\n",
       "      <td>1.0</td>\n",
       "      <td>0.0</td>\n",
       "      <td>0.0</td>\n",
       "      <td>0.0</td>\n",
       "      <td>0.0</td>\n",
       "      <td>0.0</td>\n",
       "      <td>0.0</td>\n",
       "      <td>0.0</td>\n",
       "      <td>0.0</td>\n",
       "      <td>['orange_zest', 'malty_core', 'nut', 'oak', 't...</td>\n",
       "    </tr>\n",
       "    <tr>\n",
       "      <th>1</th>\n",
       "      <td>1</td>\n",
       "      <td>The GlenDronach 18 Year Old Allardice</td>\n",
       "      <td>112.30</td>\n",
       "      <td>Highland Whisky</td>\n",
       "      <td>GlenDronach</td>\n",
       "      <td>GlenDronach</td>\n",
       "      <td>18.0</td>\n",
       "      <td>46.0</td>\n",
       "      <td>NaN</td>\n",
       "      <td>NaN</td>\n",
       "      <td>...</td>\n",
       "      <td>0.0</td>\n",
       "      <td>0.0</td>\n",
       "      <td>0.0</td>\n",
       "      <td>0.0</td>\n",
       "      <td>0.0</td>\n",
       "      <td>0.0</td>\n",
       "      <td>1.0</td>\n",
       "      <td>0.0</td>\n",
       "      <td>0.0</td>\n",
       "      <td>['christmas_cake', 'rum', 'chocolate', 'hazeln...</td>\n",
       "    </tr>\n",
       "    <tr>\n",
       "      <th>2</th>\n",
       "      <td>2</td>\n",
       "      <td>Lagavulin 2005 (bottled 2020) Pedro Ximénez Ca...</td>\n",
       "      <td>99.70</td>\n",
       "      <td>Islay Whisky</td>\n",
       "      <td>Lagavulin</td>\n",
       "      <td>Lagavulin</td>\n",
       "      <td>NaN</td>\n",
       "      <td>43.0</td>\n",
       "      <td>NaN</td>\n",
       "      <td>NaN</td>\n",
       "      <td>...</td>\n",
       "      <td>0.0</td>\n",
       "      <td>0.0</td>\n",
       "      <td>0.0</td>\n",
       "      <td>0.0</td>\n",
       "      <td>0.0</td>\n",
       "      <td>0.0</td>\n",
       "      <td>1.0</td>\n",
       "      <td>0.0</td>\n",
       "      <td>0.0</td>\n",
       "      <td>['date', 'prune', 'almond', 'bonfire', 'smoke'...</td>\n",
       "    </tr>\n",
       "    <tr>\n",
       "      <th>3</th>\n",
       "      <td>3</td>\n",
       "      <td>Glenfarclas 15 Year Old</td>\n",
       "      <td>56.12</td>\n",
       "      <td>Speyside Whisky</td>\n",
       "      <td>Glenfarclas</td>\n",
       "      <td>Glenfarclas</td>\n",
       "      <td>15.0</td>\n",
       "      <td>46.0</td>\n",
       "      <td>NaN</td>\n",
       "      <td>NaN</td>\n",
       "      <td>...</td>\n",
       "      <td>NaN</td>\n",
       "      <td>NaN</td>\n",
       "      <td>NaN</td>\n",
       "      <td>NaN</td>\n",
       "      <td>NaN</td>\n",
       "      <td>NaN</td>\n",
       "      <td>NaN</td>\n",
       "      <td>NaN</td>\n",
       "      <td>NaN</td>\n",
       "      <td>['raisin', 'sherry', 'orange_peel', 'walnut', ...</td>\n",
       "    </tr>\n",
       "    <tr>\n",
       "      <th>4</th>\n",
       "      <td>4</td>\n",
       "      <td>Darkness 8 Year Old</td>\n",
       "      <td>57.28</td>\n",
       "      <td>Scotch Whisky</td>\n",
       "      <td>Darkness</td>\n",
       "      <td>Darkness</td>\n",
       "      <td>8.0</td>\n",
       "      <td>47.8</td>\n",
       "      <td>False</td>\n",
       "      <td>NaN</td>\n",
       "      <td>...</td>\n",
       "      <td>0.0</td>\n",
       "      <td>0.0</td>\n",
       "      <td>0.0</td>\n",
       "      <td>0.0</td>\n",
       "      <td>0.0</td>\n",
       "      <td>0.0</td>\n",
       "      <td>1.0</td>\n",
       "      <td>0.0</td>\n",
       "      <td>0.0</td>\n",
       "      <td>['amaretti', 'biscuit', 'subtly', 'toast', 'po...</td>\n",
       "    </tr>\n",
       "    <tr>\n",
       "      <th>5</th>\n",
       "      <td>5</td>\n",
       "      <td>Tobermory 12 Year Old</td>\n",
       "      <td>52.68</td>\n",
       "      <td>Island Whisky</td>\n",
       "      <td>Tobermory</td>\n",
       "      <td>Tobermory</td>\n",
       "      <td>12.0</td>\n",
       "      <td>46.3</td>\n",
       "      <td>NaN</td>\n",
       "      <td>NaN</td>\n",
       "      <td>...</td>\n",
       "      <td>1.0</td>\n",
       "      <td>0.0</td>\n",
       "      <td>0.0</td>\n",
       "      <td>0.0</td>\n",
       "      <td>0.0</td>\n",
       "      <td>0.0</td>\n",
       "      <td>0.0</td>\n",
       "      <td>0.0</td>\n",
       "      <td>0.0</td>\n",
       "      <td>['rounded', 'malt', 'oil', 'hearty_helping', '...</td>\n",
       "    </tr>\n",
       "    <tr>\n",
       "      <th>6</th>\n",
       "      <td>6</td>\n",
       "      <td>Laphroaig 16 Year Old</td>\n",
       "      <td>102.00</td>\n",
       "      <td>Islay Whisky</td>\n",
       "      <td>Laphroaig</td>\n",
       "      <td>Laphroaig</td>\n",
       "      <td>16.0</td>\n",
       "      <td>48.0</td>\n",
       "      <td>NaN</td>\n",
       "      <td>NaN</td>\n",
       "      <td>...</td>\n",
       "      <td>1.0</td>\n",
       "      <td>0.0</td>\n",
       "      <td>0.0</td>\n",
       "      <td>0.0</td>\n",
       "      <td>0.0</td>\n",
       "      <td>0.0</td>\n",
       "      <td>0.0</td>\n",
       "      <td>0.0</td>\n",
       "      <td>0.0</td>\n",
       "      <td>['rich', 'peat', 'iodine', 'subtle', 'floral',...</td>\n",
       "    </tr>\n",
       "    <tr>\n",
       "      <th>7</th>\n",
       "      <td>7</td>\n",
       "      <td>Balvenie 14 Year Old Caribbean Cask</td>\n",
       "      <td>65.30</td>\n",
       "      <td>Speyside Whisky</td>\n",
       "      <td>Balvenie</td>\n",
       "      <td>Balvenie</td>\n",
       "      <td>14.0</td>\n",
       "      <td>43.0</td>\n",
       "      <td>NaN</td>\n",
       "      <td>NaN</td>\n",
       "      <td>...</td>\n",
       "      <td>1.0</td>\n",
       "      <td>0.0</td>\n",
       "      <td>0.0</td>\n",
       "      <td>0.0</td>\n",
       "      <td>0.0</td>\n",
       "      <td>0.0</td>\n",
       "      <td>0.0</td>\n",
       "      <td>0.0</td>\n",
       "      <td>0.0</td>\n",
       "      <td>['sweet', 'vanilla', 'cream', 'apple', 'mango'...</td>\n",
       "    </tr>\n",
       "    <tr>\n",
       "      <th>8</th>\n",
       "      <td>8</td>\n",
       "      <td>Balvenie 21 Year Old PortWood Finish</td>\n",
       "      <td>200.65</td>\n",
       "      <td>Speyside Whisky</td>\n",
       "      <td>Balvenie</td>\n",
       "      <td>Balvenie</td>\n",
       "      <td>21.0</td>\n",
       "      <td>40.0</td>\n",
       "      <td>NaN</td>\n",
       "      <td>NaN</td>\n",
       "      <td>...</td>\n",
       "      <td>0.0</td>\n",
       "      <td>1.0</td>\n",
       "      <td>0.0</td>\n",
       "      <td>0.0</td>\n",
       "      <td>0.0</td>\n",
       "      <td>0.0</td>\n",
       "      <td>0.0</td>\n",
       "      <td>0.0</td>\n",
       "      <td>0.0</td>\n",
       "      <td>['gentle', 'subtle', 'load', 'mix', 'cranberry...</td>\n",
       "    </tr>\n",
       "    <tr>\n",
       "      <th>9</th>\n",
       "      <td>9</td>\n",
       "      <td>Macallan 28 Year Old (That Boutique-y Whisky C...</td>\n",
       "      <td>1261.20</td>\n",
       "      <td>Speyside Whisky</td>\n",
       "      <td>The Macallan</td>\n",
       "      <td>That Boutique-y Whisky Company</td>\n",
       "      <td>28.0</td>\n",
       "      <td>43.6</td>\n",
       "      <td>NaN</td>\n",
       "      <td>NaN</td>\n",
       "      <td>...</td>\n",
       "      <td>NaN</td>\n",
       "      <td>NaN</td>\n",
       "      <td>NaN</td>\n",
       "      <td>NaN</td>\n",
       "      <td>NaN</td>\n",
       "      <td>NaN</td>\n",
       "      <td>NaN</td>\n",
       "      <td>NaN</td>\n",
       "      <td>NaN</td>\n",
       "      <td>['delicate', 'smooth', 'oil', 'mouthfeel', 'mi...</td>\n",
       "    </tr>\n",
       "    <tr>\n",
       "      <th>10</th>\n",
       "      <td>10</td>\n",
       "      <td>Macallan 28 Year Old (That Boutique-y Whisky C...</td>\n",
       "      <td>1261.20</td>\n",
       "      <td>Speyside Whisky</td>\n",
       "      <td>The Macallan</td>\n",
       "      <td>That Boutique-y Whisky Company</td>\n",
       "      <td>28.0</td>\n",
       "      <td>43.6</td>\n",
       "      <td>NaN</td>\n",
       "      <td>NaN</td>\n",
       "      <td>...</td>\n",
       "      <td>NaN</td>\n",
       "      <td>NaN</td>\n",
       "      <td>NaN</td>\n",
       "      <td>NaN</td>\n",
       "      <td>NaN</td>\n",
       "      <td>NaN</td>\n",
       "      <td>NaN</td>\n",
       "      <td>NaN</td>\n",
       "      <td>NaN</td>\n",
       "      <td>['delicate', 'smooth', 'oil', 'mouthfeel', 'mi...</td>\n",
       "    </tr>\n",
       "    <tr>\n",
       "      <th>11</th>\n",
       "      <td>11</td>\n",
       "      <td>Macallan 28 Year Old (That Boutique-y Whisky C...</td>\n",
       "      <td>974.54</td>\n",
       "      <td>Speyside Whisky</td>\n",
       "      <td>The Macallan</td>\n",
       "      <td>That Boutique-y Whisky Company</td>\n",
       "      <td>28.0</td>\n",
       "      <td>40.2</td>\n",
       "      <td>NaN</td>\n",
       "      <td>NaN</td>\n",
       "      <td>...</td>\n",
       "      <td>NaN</td>\n",
       "      <td>NaN</td>\n",
       "      <td>NaN</td>\n",
       "      <td>NaN</td>\n",
       "      <td>NaN</td>\n",
       "      <td>NaN</td>\n",
       "      <td>NaN</td>\n",
       "      <td>NaN</td>\n",
       "      <td>NaN</td>\n",
       "      <td>['vanilla', 'dark', 'honey', 'juicy', 'apple',...</td>\n",
       "    </tr>\n",
       "    <tr>\n",
       "      <th>12</th>\n",
       "      <td>12</td>\n",
       "      <td>Macallan 28 Year Old (That Boutique-y Whisky C...</td>\n",
       "      <td>974.54</td>\n",
       "      <td>Speyside Whisky</td>\n",
       "      <td>The Macallan</td>\n",
       "      <td>That Boutique-y Whisky Company</td>\n",
       "      <td>28.0</td>\n",
       "      <td>40.2</td>\n",
       "      <td>NaN</td>\n",
       "      <td>NaN</td>\n",
       "      <td>...</td>\n",
       "      <td>NaN</td>\n",
       "      <td>NaN</td>\n",
       "      <td>NaN</td>\n",
       "      <td>NaN</td>\n",
       "      <td>NaN</td>\n",
       "      <td>NaN</td>\n",
       "      <td>NaN</td>\n",
       "      <td>NaN</td>\n",
       "      <td>NaN</td>\n",
       "      <td>['vanilla', 'dark', 'honey', 'juicy', 'apple',...</td>\n",
       "    </tr>\n",
       "    <tr>\n",
       "      <th>13</th>\n",
       "      <td>13</td>\n",
       "      <td>The Macallan 18 Year Old Sherry Oak (2021 Rele...</td>\n",
       "      <td>338.24</td>\n",
       "      <td>Speyside Whisky</td>\n",
       "      <td>The Macallan</td>\n",
       "      <td>The Macallan</td>\n",
       "      <td>18.0</td>\n",
       "      <td>43.0</td>\n",
       "      <td>NaN</td>\n",
       "      <td>NaN</td>\n",
       "      <td>...</td>\n",
       "      <td>0.0</td>\n",
       "      <td>0.0</td>\n",
       "      <td>0.0</td>\n",
       "      <td>0.0</td>\n",
       "      <td>0.0</td>\n",
       "      <td>0.0</td>\n",
       "      <td>1.0</td>\n",
       "      <td>0.0</td>\n",
       "      <td>0.0</td>\n",
       "      <td>['soft', 'rich', 'spice', 'clove', 'orange', '...</td>\n",
       "    </tr>\n",
       "    <tr>\n",
       "      <th>14</th>\n",
       "      <td>14</td>\n",
       "      <td>Seaweed &amp; Aeons &amp; Digging &amp; Fire &amp; Cask Streng...</td>\n",
       "      <td>57.28</td>\n",
       "      <td>Islay Whisky</td>\n",
       "      <td>Seaweed &amp; Aeons &amp; Digging &amp; Fire</td>\n",
       "      <td>Seaweed &amp; Aeons &amp; Digging &amp; Fire</td>\n",
       "      <td>10.0</td>\n",
       "      <td>58.3</td>\n",
       "      <td>NaN</td>\n",
       "      <td>True</td>\n",
       "      <td>...</td>\n",
       "      <td>0.0</td>\n",
       "      <td>0.0</td>\n",
       "      <td>0.0</td>\n",
       "      <td>0.0</td>\n",
       "      <td>0.0</td>\n",
       "      <td>0.0</td>\n",
       "      <td>1.0</td>\n",
       "      <td>0.0</td>\n",
       "      <td>0.0</td>\n",
       "      <td>['coastal', 'core', 'solid', 'seaweed', 'salt'...</td>\n",
       "    </tr>\n",
       "    <tr>\n",
       "      <th>15</th>\n",
       "      <td>15</td>\n",
       "      <td>Seaweed &amp; Aeons &amp; Digging &amp; Fire 10 Year Old</td>\n",
       "      <td>37.78</td>\n",
       "      <td>Islay Whisky</td>\n",
       "      <td>Seaweed &amp; Aeons &amp; Digging &amp; Fire</td>\n",
       "      <td>Seaweed &amp; Aeons &amp; Digging &amp; Fire</td>\n",
       "      <td>10.0</td>\n",
       "      <td>40.0</td>\n",
       "      <td>NaN</td>\n",
       "      <td>NaN</td>\n",
       "      <td>...</td>\n",
       "      <td>0.0</td>\n",
       "      <td>0.0</td>\n",
       "      <td>0.0</td>\n",
       "      <td>0.0</td>\n",
       "      <td>0.0</td>\n",
       "      <td>0.0</td>\n",
       "      <td>1.0</td>\n",
       "      <td>0.0</td>\n",
       "      <td>0.0</td>\n",
       "      <td>['balanced', 'force', 'sherry', 'good', 'way',...</td>\n",
       "    </tr>\n",
       "    <tr>\n",
       "      <th>16</th>\n",
       "      <td>16</td>\n",
       "      <td>Lagavulin 16 Year Old</td>\n",
       "      <td>79.06</td>\n",
       "      <td>Islay Whisky</td>\n",
       "      <td>Lagavulin</td>\n",
       "      <td>Lagavulin</td>\n",
       "      <td>16.0</td>\n",
       "      <td>43.0</td>\n",
       "      <td>NaN</td>\n",
       "      <td>NaN</td>\n",
       "      <td>...</td>\n",
       "      <td>NaN</td>\n",
       "      <td>NaN</td>\n",
       "      <td>NaN</td>\n",
       "      <td>NaN</td>\n",
       "      <td>NaN</td>\n",
       "      <td>NaN</td>\n",
       "      <td>NaN</td>\n",
       "      <td>NaN</td>\n",
       "      <td>NaN</td>\n",
       "      <td>['thick', 'rich', 'massive', 'mouth', 'malt', ...</td>\n",
       "    </tr>\n",
       "    <tr>\n",
       "      <th>17</th>\n",
       "      <td>17</td>\n",
       "      <td>Balvenie 12 Year Old - The Sweet Toast of Amer...</td>\n",
       "      <td>49.02</td>\n",
       "      <td>Speyside Whisky</td>\n",
       "      <td>Balvenie</td>\n",
       "      <td>Balvenie</td>\n",
       "      <td>12.0</td>\n",
       "      <td>43.0</td>\n",
       "      <td>NaN</td>\n",
       "      <td>NaN</td>\n",
       "      <td>...</td>\n",
       "      <td>NaN</td>\n",
       "      <td>NaN</td>\n",
       "      <td>NaN</td>\n",
       "      <td>NaN</td>\n",
       "      <td>NaN</td>\n",
       "      <td>NaN</td>\n",
       "      <td>NaN</td>\n",
       "      <td>NaN</td>\n",
       "      <td>NaN</td>\n",
       "      <td>['candy', 'orange', 'lemon', 'peel', 'vanilla'...</td>\n",
       "    </tr>\n",
       "    <tr>\n",
       "      <th>18</th>\n",
       "      <td>18</td>\n",
       "      <td>The Macallan 18 Year Old Double Cask</td>\n",
       "      <td>297.54</td>\n",
       "      <td>Speyside Whisky</td>\n",
       "      <td>The Macallan</td>\n",
       "      <td>The Macallan</td>\n",
       "      <td>18.0</td>\n",
       "      <td>43.0</td>\n",
       "      <td>NaN</td>\n",
       "      <td>NaN</td>\n",
       "      <td>...</td>\n",
       "      <td>1.0</td>\n",
       "      <td>0.0</td>\n",
       "      <td>0.0</td>\n",
       "      <td>0.0</td>\n",
       "      <td>0.0</td>\n",
       "      <td>0.0</td>\n",
       "      <td>0.0</td>\n",
       "      <td>0.0</td>\n",
       "      <td>0.0</td>\n",
       "      <td>['rich', 'raisin', 'sultana', 'caramel', 'vani...</td>\n",
       "    </tr>\n",
       "    <tr>\n",
       "      <th>19</th>\n",
       "      <td>19</td>\n",
       "      <td>Bunnahabhain 12 Year Old</td>\n",
       "      <td>42.89</td>\n",
       "      <td>Islay Whisky</td>\n",
       "      <td>Bunnahabhain</td>\n",
       "      <td>Bunnahabhain</td>\n",
       "      <td>12.0</td>\n",
       "      <td>46.3</td>\n",
       "      <td>NaN</td>\n",
       "      <td>NaN</td>\n",
       "      <td>...</td>\n",
       "      <td>NaN</td>\n",
       "      <td>NaN</td>\n",
       "      <td>NaN</td>\n",
       "      <td>NaN</td>\n",
       "      <td>NaN</td>\n",
       "      <td>NaN</td>\n",
       "      <td>NaN</td>\n",
       "      <td>NaN</td>\n",
       "      <td>NaN</td>\n",
       "      <td>['soft', 'supple', 'sherry', 'nutty', 'sweet',...</td>\n",
       "    </tr>\n",
       "  </tbody>\n",
       "</table>\n",
       "<p>20 rows × 23 columns</p>\n",
       "</div>"
      ],
      "text/plain": [
       "    Unnamed: 0                                               name    price  \\\n",
       "0            0                  Singleton of Dufftown 12 Year Old    40.42   \n",
       "1            1              The GlenDronach 18 Year Old Allardice   112.30   \n",
       "2            2  Lagavulin 2005 (bottled 2020) Pedro Ximénez Ca...    99.70   \n",
       "3            3                            Glenfarclas 15 Year Old    56.12   \n",
       "4            4                                Darkness 8 Year Old    57.28   \n",
       "5            5                              Tobermory 12 Year Old    52.68   \n",
       "6            6                              Laphroaig 16 Year Old   102.00   \n",
       "7            7                Balvenie 14 Year Old Caribbean Cask    65.30   \n",
       "8            8               Balvenie 21 Year Old PortWood Finish   200.65   \n",
       "9            9  Macallan 28 Year Old (That Boutique-y Whisky C...  1261.20   \n",
       "10          10  Macallan 28 Year Old (That Boutique-y Whisky C...  1261.20   \n",
       "11          11  Macallan 28 Year Old (That Boutique-y Whisky C...   974.54   \n",
       "12          12  Macallan 28 Year Old (That Boutique-y Whisky C...   974.54   \n",
       "13          13  The Macallan 18 Year Old Sherry Oak (2021 Rele...   338.24   \n",
       "14          14  Seaweed & Aeons & Digging & Fire & Cask Streng...    57.28   \n",
       "15          15       Seaweed & Aeons & Digging & Fire 10 Year Old    37.78   \n",
       "16          16                              Lagavulin 16 Year Old    79.06   \n",
       "17          17  Balvenie 12 Year Old - The Sweet Toast of Amer...    49.02   \n",
       "18          18               The Macallan 18 Year Old Double Cask   297.54   \n",
       "19          19                           Bunnahabhain 12 Year Old    42.89   \n",
       "\n",
       "             region                        distillery  \\\n",
       "0   Speyside Whisky                          Dufftown   \n",
       "1   Highland Whisky                       GlenDronach   \n",
       "2      Islay Whisky                         Lagavulin   \n",
       "3   Speyside Whisky                       Glenfarclas   \n",
       "4     Scotch Whisky                          Darkness   \n",
       "5     Island Whisky                         Tobermory   \n",
       "6      Islay Whisky                         Laphroaig   \n",
       "7   Speyside Whisky                          Balvenie   \n",
       "8   Speyside Whisky                          Balvenie   \n",
       "9   Speyside Whisky                      The Macallan   \n",
       "10  Speyside Whisky                      The Macallan   \n",
       "11  Speyside Whisky                      The Macallan   \n",
       "12  Speyside Whisky                      The Macallan   \n",
       "13  Speyside Whisky                      The Macallan   \n",
       "14     Islay Whisky  Seaweed & Aeons & Digging & Fire   \n",
       "15     Islay Whisky  Seaweed & Aeons & Digging & Fire   \n",
       "16     Islay Whisky                         Lagavulin   \n",
       "17  Speyside Whisky                          Balvenie   \n",
       "18  Speyside Whisky                      The Macallan   \n",
       "19     Islay Whisky                      Bunnahabhain   \n",
       "\n",
       "                             bottler   age   ABV chill_filter cask_strength  \\\n",
       "0                           Dufftown  12.0  40.0          NaN           NaN   \n",
       "1                        GlenDronach  18.0  46.0          NaN           NaN   \n",
       "2                          Lagavulin   NaN  43.0          NaN           NaN   \n",
       "3                        Glenfarclas  15.0  46.0          NaN           NaN   \n",
       "4                           Darkness   8.0  47.8        False           NaN   \n",
       "5                          Tobermory  12.0  46.3          NaN           NaN   \n",
       "6                          Laphroaig  16.0  48.0          NaN           NaN   \n",
       "7                           Balvenie  14.0  43.0          NaN           NaN   \n",
       "8                           Balvenie  21.0  40.0          NaN           NaN   \n",
       "9     That Boutique-y Whisky Company  28.0  43.6          NaN           NaN   \n",
       "10    That Boutique-y Whisky Company  28.0  43.6          NaN           NaN   \n",
       "11    That Boutique-y Whisky Company  28.0  40.2          NaN           NaN   \n",
       "12    That Boutique-y Whisky Company  28.0  40.2          NaN           NaN   \n",
       "13                      The Macallan  18.0  43.0          NaN           NaN   \n",
       "14  Seaweed & Aeons & Digging & Fire  10.0  58.3          NaN          True   \n",
       "15  Seaweed & Aeons & Digging & Fire  10.0  40.0          NaN           NaN   \n",
       "16                         Lagavulin  16.0  43.0          NaN           NaN   \n",
       "17                          Balvenie  12.0  43.0          NaN           NaN   \n",
       "18                      The Macallan  18.0  43.0          NaN           NaN   \n",
       "19                      Bunnahabhain  12.0  46.3          NaN           NaN   \n",
       "\n",
       "    ...  maturation_oak  maturation_port  maturation_red wine  maturation_rum  \\\n",
       "0   ...             1.0              0.0                  0.0             0.0   \n",
       "1   ...             0.0              0.0                  0.0             0.0   \n",
       "2   ...             0.0              0.0                  0.0             0.0   \n",
       "3   ...             NaN              NaN                  NaN             NaN   \n",
       "4   ...             0.0              0.0                  0.0             0.0   \n",
       "5   ...             1.0              0.0                  0.0             0.0   \n",
       "6   ...             1.0              0.0                  0.0             0.0   \n",
       "7   ...             1.0              0.0                  0.0             0.0   \n",
       "8   ...             0.0              1.0                  0.0             0.0   \n",
       "9   ...             NaN              NaN                  NaN             NaN   \n",
       "10  ...             NaN              NaN                  NaN             NaN   \n",
       "11  ...             NaN              NaN                  NaN             NaN   \n",
       "12  ...             NaN              NaN                  NaN             NaN   \n",
       "13  ...             0.0              0.0                  0.0             0.0   \n",
       "14  ...             0.0              0.0                  0.0             0.0   \n",
       "15  ...             0.0              0.0                  0.0             0.0   \n",
       "16  ...             NaN              NaN                  NaN             NaN   \n",
       "17  ...             NaN              NaN                  NaN             NaN   \n",
       "18  ...             1.0              0.0                  0.0             0.0   \n",
       "19  ...             NaN              NaN                  NaN             NaN   \n",
       "\n",
       "    maturation_rye  maturation_sauternes  maturation_sherry  \\\n",
       "0              0.0                   0.0                0.0   \n",
       "1              0.0                   0.0                1.0   \n",
       "2              0.0                   0.0                1.0   \n",
       "3              NaN                   NaN                NaN   \n",
       "4              0.0                   0.0                1.0   \n",
       "5              0.0                   0.0                0.0   \n",
       "6              0.0                   0.0                0.0   \n",
       "7              0.0                   0.0                0.0   \n",
       "8              0.0                   0.0                0.0   \n",
       "9              NaN                   NaN                NaN   \n",
       "10             NaN                   NaN                NaN   \n",
       "11             NaN                   NaN                NaN   \n",
       "12             NaN                   NaN                NaN   \n",
       "13             0.0                   0.0                1.0   \n",
       "14             0.0                   0.0                1.0   \n",
       "15             0.0                   0.0                1.0   \n",
       "16             NaN                   NaN                NaN   \n",
       "17             NaN                   NaN                NaN   \n",
       "18             0.0                   0.0                0.0   \n",
       "19             NaN                   NaN                NaN   \n",
       "\n",
       "    maturation_white wine  maturation_wine  \\\n",
       "0                     0.0              0.0   \n",
       "1                     0.0              0.0   \n",
       "2                     0.0              0.0   \n",
       "3                     NaN              NaN   \n",
       "4                     0.0              0.0   \n",
       "5                     0.0              0.0   \n",
       "6                     0.0              0.0   \n",
       "7                     0.0              0.0   \n",
       "8                     0.0              0.0   \n",
       "9                     NaN              NaN   \n",
       "10                    NaN              NaN   \n",
       "11                    NaN              NaN   \n",
       "12                    NaN              NaN   \n",
       "13                    0.0              0.0   \n",
       "14                    0.0              0.0   \n",
       "15                    0.0              0.0   \n",
       "16                    NaN              NaN   \n",
       "17                    NaN              NaN   \n",
       "18                    0.0              0.0   \n",
       "19                    NaN              NaN   \n",
       "\n",
       "                                        token_unified  \n",
       "0   ['orange_zest', 'malty_core', 'nut', 'oak', 't...  \n",
       "1   ['christmas_cake', 'rum', 'chocolate', 'hazeln...  \n",
       "2   ['date', 'prune', 'almond', 'bonfire', 'smoke'...  \n",
       "3   ['raisin', 'sherry', 'orange_peel', 'walnut', ...  \n",
       "4   ['amaretti', 'biscuit', 'subtly', 'toast', 'po...  \n",
       "5   ['rounded', 'malt', 'oil', 'hearty_helping', '...  \n",
       "6   ['rich', 'peat', 'iodine', 'subtle', 'floral',...  \n",
       "7   ['sweet', 'vanilla', 'cream', 'apple', 'mango'...  \n",
       "8   ['gentle', 'subtle', 'load', 'mix', 'cranberry...  \n",
       "9   ['delicate', 'smooth', 'oil', 'mouthfeel', 'mi...  \n",
       "10  ['delicate', 'smooth', 'oil', 'mouthfeel', 'mi...  \n",
       "11  ['vanilla', 'dark', 'honey', 'juicy', 'apple',...  \n",
       "12  ['vanilla', 'dark', 'honey', 'juicy', 'apple',...  \n",
       "13  ['soft', 'rich', 'spice', 'clove', 'orange', '...  \n",
       "14  ['coastal', 'core', 'solid', 'seaweed', 'salt'...  \n",
       "15  ['balanced', 'force', 'sherry', 'good', 'way',...  \n",
       "16  ['thick', 'rich', 'massive', 'mouth', 'malt', ...  \n",
       "17  ['candy', 'orange', 'lemon', 'peel', 'vanilla'...  \n",
       "18  ['rich', 'raisin', 'sultana', 'caramel', 'vani...  \n",
       "19  ['soft', 'supple', 'sherry', 'nutty', 'sweet',...  \n",
       "\n",
       "[20 rows x 23 columns]"
      ]
     },
     "execution_count": 152,
     "metadata": {},
     "output_type": "execute_result"
    }
   ],
   "source": [
    "whisk_data[0:20]"
   ]
  },
  {
   "cell_type": "code",
   "execution_count": null,
   "metadata": {},
   "outputs": [],
   "source": []
  }
 ],
 "metadata": {
  "interpreter": {
   "hash": "95508d1f9e276930ee7bf977622471e4c9572bc985693ed5ef89eacdfe75f4af"
  },
  "kernelspec": {
   "display_name": "Python 3.8.11 64-bit ('sb_cpstone3': conda)",
   "name": "python3"
  },
  "language_info": {
   "codemirror_mode": {
    "name": "ipython",
    "version": 3
   },
   "file_extension": ".py",
   "mimetype": "text/x-python",
   "name": "python",
   "nbconvert_exporter": "python",
   "pygments_lexer": "ipython3",
   "version": "3.8.11"
  },
  "orig_nbformat": 4
 },
 "nbformat": 4,
 "nbformat_minor": 2
}
