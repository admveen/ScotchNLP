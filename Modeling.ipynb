{
 "cells": [
  {
   "cell_type": "code",
   "execution_count": 175,
   "metadata": {},
   "outputs": [],
   "source": [
    "# import necessary packages\n",
    "\n",
    "import pickle\n",
    "import pandas as pd\n",
    "import numpy as np\n",
    "import matplotlib.pyplot as plt\n",
    "import ast\n",
    "import re\n",
    "import seaborn as sns\n",
    "\n",
    "from gensim.corpora.dictionary import Dictionary\n",
    "from gensim.models import LdaModel\n",
    "\n",
    "from gensim.models.coherencemodel import CoherenceModel\n",
    "import pyLDAvis\n",
    "from  pyLDAvis import gensim_models\n",
    "\n",
    "from gensim.similarities import MatrixSimilarity\n"
   ]
  },
  {
   "cell_type": "code",
   "execution_count": 239,
   "metadata": {},
   "outputs": [],
   "source": [
    "# load unified token data\n",
    "whisk_interdf_path = \"data\\\\interim\\\\whisk_unified_tokenized.csv\"\n",
    "whisk_data = pd.read_csv(whisk_interdf_path)"
   ]
  },
  {
   "cell_type": "code",
   "execution_count": 3,
   "metadata": {},
   "outputs": [
    {
     "name": "stdout",
     "output_type": "stream",
     "text": [
      "Dictionary(477 unique tokens: ['barley', 'butter', 'cereal', 'cut_grass', 'fruit']...)\n"
     ]
    }
   ],
   "source": [
    "# load reduced gensim dict\n",
    "reduced_gensim_dict_path = \"dictionaries\\\\reduced_gemsimdict_unified.pkl\"\n",
    "reduced_gensim_dict = pickle.load(open(reduced_gensim_dict_path, 'rb'))\n",
    "print(reduced_gensim_dict)"
   ]
  },
  {
   "cell_type": "code",
   "execution_count": 4,
   "metadata": {},
   "outputs": [
    {
     "data": {
      "text/html": [
       "<div>\n",
       "<style scoped>\n",
       "    .dataframe tbody tr th:only-of-type {\n",
       "        vertical-align: middle;\n",
       "    }\n",
       "\n",
       "    .dataframe tbody tr th {\n",
       "        vertical-align: top;\n",
       "    }\n",
       "\n",
       "    .dataframe thead th {\n",
       "        text-align: right;\n",
       "    }\n",
       "</style>\n",
       "<table border=\"1\" class=\"dataframe\">\n",
       "  <thead>\n",
       "    <tr style=\"text-align: right;\">\n",
       "      <th></th>\n",
       "      <th>tokens</th>\n",
       "    </tr>\n",
       "    <tr>\n",
       "      <th>name</th>\n",
       "      <th></th>\n",
       "    </tr>\n",
       "  </thead>\n",
       "  <tbody>\n",
       "    <tr>\n",
       "      <th>Singleton of Dufftown 12 Year Old</th>\n",
       "      <td>[orange_zest, malty_core, nut, oak, toffee, cu...</td>\n",
       "    </tr>\n",
       "    <tr>\n",
       "      <th>Laphroaig 10 Year Old Sherry Oak Finish</th>\n",
       "      <td>[roasted, cedar, peat_smoke, iodine, away, dar...</td>\n",
       "    </tr>\n",
       "    <tr>\n",
       "      <th>GlenAllachie 15 Year Old</th>\n",
       "      <td>[walnut, raisin, christmas, spice, fresh, ging...</td>\n",
       "    </tr>\n",
       "    <tr>\n",
       "      <th>Seaweed &amp; Aeons &amp; Digging &amp; Fire &amp; Cask Strength 10 Year Old (Batch 04)</th>\n",
       "      <td>[coastal, core, solid, seaweed, salt, slightly...</td>\n",
       "    </tr>\n",
       "    <tr>\n",
       "      <th>Edradour 10 Year Old</th>\n",
       "      <td>[cloying, seductive, murky, rum, barley, almon...</td>\n",
       "    </tr>\n",
       "  </tbody>\n",
       "</table>\n",
       "</div>"
      ],
      "text/plain": [
       "                                                                                               tokens\n",
       "name                                                                                                 \n",
       "Singleton of Dufftown 12 Year Old                   [orange_zest, malty_core, nut, oak, toffee, cu...\n",
       "Laphroaig 10 Year Old Sherry Oak Finish             [roasted, cedar, peat_smoke, iodine, away, dar...\n",
       "GlenAllachie 15 Year Old                            [walnut, raisin, christmas, spice, fresh, ging...\n",
       "Seaweed & Aeons & Digging & Fire & Cask Strengt...  [coastal, core, solid, seaweed, salt, slightly...\n",
       "Edradour 10 Year Old                                [cloying, seductive, murky, rum, barley, almon..."
      ]
     },
     "execution_count": 4,
     "metadata": {},
     "output_type": "execute_result"
    }
   ],
   "source": [
    "cols_to_keep = ['name', 'token_unified']\n",
    "unitoken_df = whisk_data[cols_to_keep].set_index('name')\n",
    "\n",
    "# entries in token_unified are strings. Literal evaluate to get this back into list of strings\n",
    "attr_listed = [ast.literal_eval(row) for row in unitoken_df['token_unified'] ] \n",
    "unitoken_df['tokens'] = attr_listed\n",
    "# get rid of original token unified column\n",
    "unitoken_df.drop(columns = ['token_unified'], inplace = True)\n",
    "unitoken_df.head()"
   ]
  },
  {
   "cell_type": "markdown",
   "metadata": {},
   "source": [
    "Create gensim corpus from reduced dictionary set."
   ]
  },
  {
   "cell_type": "code",
   "execution_count": 9,
   "metadata": {},
   "outputs": [],
   "source": [
    "corpus = [reduced_gensim_dict.doc2bow(doc) for doc in unitoken_df.tokens]"
   ]
  },
  {
   "cell_type": "code",
   "execution_count": 11,
   "metadata": {},
   "outputs": [],
   "source": [
    "# lets pickle the whisky descriptor corpus (reference dictionary is reduced_gensim_dict):\n",
    "pickle.dump(corpus, open('data\\\\final\\\\descriptor_corpus.pkl', 'wb'))"
   ]
  },
  {
   "cell_type": "markdown",
   "metadata": {},
   "source": [
    "Of course, one of the big issues is that it's not clear what the best number of topics is a priori and whether the topics that an LDA model fits to are actually meaningful. We can use coherence measures (i.e. an aggregation of pairwise correlations between members of a topic as one measure). This can have some issues but its a way of putting a number on estimating topic coherence.\n",
    "\n",
    "There are also other hyperparameters such as the alpha vector for the Dirichlet distribution."
   ]
  },
  {
   "cell_type": "code",
   "execution_count": 6,
   "metadata": {},
   "outputs": [],
   "source": [
    "# let's loop to extract the best hyperparameters and get the topic model coherence score for each hyperparameter set.\n",
    "model_coherence_list = []\n",
    "for topic_num in range(2,20, 1):\n",
    "    # our LDA model\n",
    "    scotch_topic_model = LdaModel(corpus = corpus, num_topics = topic_num, random_state=100,  id2word = reduced_gensim_dict, passes = 10, alpha = 'auto' )\n",
    "\n",
    "    # coherence model wrapper\n",
    "    cm = CoherenceModel(model=scotch_topic_model, texts= unitoken_df.tokens, coherence = 'c_v')\n",
    "    model_coherence_list.append((topic_num, cm.get_coherence()))\n",
    "    \n",
    "print(model_coherence_list)\n"
   ]
  },
  {
   "cell_type": "code",
   "execution_count": 31,
   "metadata": {},
   "outputs": [
    {
     "data": {
      "image/png": "[encoded data removed]",
      "text/plain": [
       "<Figure size 432x288 with 1 Axes>"
      ]
     },
     "metadata": {
      "needs_background": "light"
     },
     "output_type": "display_data"
    }
   ],
   "source": [
    "# plot model coherence score vs number of topics\n",
    "unzipped_coherence_list = list(zip(*model_coherence_list))\n",
    "plt.plot(unzipped_coherence_list[0], unzipped_coherence_list[1], c = 'b', linewidth = 2 )\n",
    "plt.axvline(x = 7, c ='r', linestyle = '--')\n",
    "plt.annotate('Optimal num. topics', xy = (7.3, 0.30), c ='r')\n",
    "plt.title('LDA coherence score vs. number of topics')\n",
    "plt.xlabel('Number of topics')\n",
    "plt.ylabel('Coherence score ($c_v$)')\n",
    "plt.xticks(np.arange(2,20, 2))\n",
    "plt.show()\n"
   ]
  },
  {
   "cell_type": "code",
   "execution_count": 6,
   "metadata": {},
   "outputs": [],
   "source": [
    "scotch_topic_model = LdaModel(corpus = corpus, num_topics = 7, random_state=100,  id2word = reduced_gensim_dict, passes = 10, alpha = 'auto' )"
   ]
  },
  {
   "cell_type": "code",
   "execution_count": 7,
   "metadata": {},
   "outputs": [
    {
     "data": {
      "text/plain": [
       "[(0,\n",
       "  '0.044*\"malt\" + 0.044*\"apple\" + 0.043*\"vanilla\" + 0.041*\"sweet\" + 0.036*\"cream\" + 0.034*\"spice\" + 0.031*\"oak\" + 0.027*\"fruit\" + 0.023*\"toffee\" + 0.020*\"finish\" + 0.020*\"honey\" + 0.019*\"barley\" + 0.018*\"butter\" + 0.017*\"cinnamon\" + 0.016*\"pepper\" + 0.013*\"rich\" + 0.012*\"custard\" + 0.012*\"spiced\" + 0.012*\"pear\" + 0.011*\"caramel\" + 0.011*\"long\" + 0.010*\"soft\" + 0.010*\"fresh\" + 0.009*\"nutmeg\" + 0.009*\"peel\" + 0.009*\"fudge\" + 0.008*\"allspice\" + 0.008*\"oil\" + 0.008*\"floral\" + 0.007*\"butterscotch\"'),\n",
       " (1,\n",
       "  '0.035*\"chocolate\" + 0.028*\"cinnamon\" + 0.020*\"honey\" + 0.018*\"oak\" + 0.018*\"barley\" + 0.015*\"butter\" + 0.015*\"earth\" + 0.015*\"vanilla\" + 0.013*\"brown_sugar\" + 0.013*\"toasted\" + 0.013*\"ginger\" + 0.012*\"clove\" + 0.012*\"almond\" + 0.012*\"peppercorn\" + 0.011*\"caramel\" + 0.011*\"apricot\" + 0.010*\"layer\" + 0.010*\"black_pepper\" + 0.009*\"walnut\" + 0.009*\"subtle\" + 0.009*\"pineapple\" + 0.009*\"orange_peel\" + 0.008*\"plus\" + 0.008*\"later\" + 0.008*\"peanut\" + 0.008*\"background\" + 0.008*\"cedar\" + 0.008*\"apple\" + 0.008*\"helping\" + 0.008*\"white\"'),\n",
       " (2,\n",
       "  '0.063*\"sweet\" + 0.058*\"fruit\" + 0.028*\"spice\" + 0.026*\"oak\" + 0.023*\"long\" + 0.020*\"vanilla\" + 0.019*\"smoke\" + 0.019*\"rich\" + 0.017*\"wood\" + 0.016*\"cream\" + 0.015*\"fresh\" + 0.015*\"gentle\" + 0.015*\"finish\" + 0.014*\"toffee\" + 0.012*\"aroma\" + 0.012*\"soft\" + 0.012*\"citrus\" + 0.010*\"floral\" + 0.010*\"honey\" + 0.010*\"light\" + 0.010*\"herbal\" + 0.009*\"slightly\" + 0.009*\"flavour\" + 0.009*\"character\" + 0.009*\"green\" + 0.008*\"malt\" + 0.008*\"smooth\" + 0.008*\"dry\" + 0.008*\"tropical_fruit\" + 0.008*\"subtle\"'),\n",
       " (3,\n",
       "  '0.058*\"fruit\" + 0.052*\"sherry\" + 0.039*\"rich\" + 0.036*\"spice\" + 0.033*\"oak\" + 0.026*\"raisin\" + 0.023*\"chocolate\" + 0.019*\"sweet\" + 0.019*\"dark_chocolate\" + 0.019*\"dark\" + 0.018*\"cinnamon\" + 0.017*\"coffee\" + 0.016*\"long\" + 0.015*\"toffee\" + 0.015*\"date\" + 0.014*\"thick\" + 0.014*\"ginger\" + 0.013*\"malt\" + 0.012*\"nutmeg\" + 0.011*\"treacle\" + 0.011*\"cocoa\" + 0.011*\"clove\" + 0.010*\"fig\" + 0.010*\"orange\" + 0.010*\"cherry\" + 0.010*\"finish\" + 0.009*\"walnut\" + 0.008*\"old\" + 0.008*\"prune\" + 0.008*\"sultana\"'),\n",
       " (4,\n",
       "  '0.037*\"oak\" + 0.035*\"vanilla\" + 0.030*\"fresh\" + 0.030*\"barley\" + 0.026*\"citrus\" + 0.024*\"malt\" + 0.023*\"lemon\" + 0.021*\"floral\" + 0.018*\"orange\" + 0.018*\"sweet\" + 0.018*\"peel\" + 0.017*\"apple\" + 0.016*\"honey\" + 0.015*\"grass\" + 0.014*\"sugar\" + 0.014*\"light\" + 0.014*\"pear\" + 0.013*\"biscuit\" + 0.012*\"green_apple\" + 0.011*\"spice\" + 0.011*\"brown_sugar\" + 0.010*\"cream\" + 0.010*\"caramel\" + 0.010*\"toasted\" + 0.010*\"earth\" + 0.010*\"cinnamon\" + 0.010*\"peach\" + 0.009*\"oil\" + 0.009*\"finish\" + 0.009*\"orchard_fruit\"'),\n",
       " (5,\n",
       "  '0.051*\"chocolate\" + 0.046*\"fruit\" + 0.027*\"oak\" + 0.025*\"berry\" + 0.024*\"orange\" + 0.023*\"red\" + 0.022*\"raisin\" + 0.021*\"raspberry\" + 0.021*\"spice\" + 0.020*\"jam\" + 0.019*\"cinnamon\" + 0.019*\"strawberry\" + 0.019*\"nut\" + 0.016*\"plum\" + 0.016*\"apple\" + 0.016*\"malt\" + 0.015*\"sweet\" + 0.015*\"juicy\" + 0.014*\"orange_peel\" + 0.014*\"fresh\" + 0.014*\"finish\" + 0.013*\"baking_spice\" + 0.013*\"dark_chocolate\" + 0.013*\"milk_chocolate\" + 0.012*\"cherry\" + 0.012*\"tart\" + 0.011*\"cake\" + 0.011*\"toasted\" + 0.010*\"brown_sugar\" + 0.010*\"red_berry\"'),\n",
       " (6,\n",
       "  '0.117*\"smoke\" + 0.084*\"peat\" + 0.042*\"sweet\" + 0.027*\"coastal\" + 0.026*\"salt\" + 0.024*\"oil\" + 0.024*\"peat_smoke\" + 0.017*\"earth\" + 0.017*\"meat\" + 0.016*\"finish\" + 0.015*\"long\" + 0.014*\"seaweed\" + 0.014*\"oak\" + 0.013*\"lemon\" + 0.013*\"vanilla\" + 0.013*\"pepper\" + 0.012*\"citrus\" + 0.012*\"sea_salt\" + 0.011*\"maritime\" + 0.010*\"malt\" + 0.010*\"ash\" + 0.010*\"apple\" + 0.009*\"black_pepper\" + 0.009*\"heather\" + 0.009*\"bonfire\" + 0.009*\"iodine\" + 0.008*\"barley\" + 0.008*\"wood\" + 0.008*\"charred\" + 0.008*\"sea_spray\"')]"
      ]
     },
     "execution_count": 7,
     "metadata": {},
     "output_type": "execute_result"
    }
   ],
   "source": [
    "scotch_topic_model.show_topics(num_words=30)"
   ]
  },
  {
   "cell_type": "code",
   "execution_count": 226,
   "metadata": {},
   "outputs": [
    {
     "name": "stderr",
     "output_type": "stream",
     "text": [
      "C:\\Users\\prave\\anaconda3\\envs\\sb_cpstone3\\lib\\site-packages\\pyLDAvis\\_prepare.py:246: FutureWarning: In a future version of pandas all arguments of DataFrame.drop except for the argument 'labels' will be keyword-only\n",
      "  default_term_info = default_term_info.sort_values(\n"
     ]
    },
    {
     "data": {
      "text/html": [
       "\n",
       "<link rel=\"stylesheet\" type=\"text/css\" href=\"https://cdn.jsdelivr.net/gh/bmabey/pyLDAvis@3.3.1/pyLDAvis/js/ldavis.v1.0.0.css\">\n",
       "\n",
       "\n",
       "<div id=\"ldavis_el444421704206344489685500765\"></div>\n",
       "<script type=\"text/javascript\">\n",
       "\n",
       "var ldavis_el444421704206344489685500765_data = {\"mdsDat\": {\"x\": [-0.013769545668045294, 0.08477624429716132, -0.10794015920094865, 0.11480223831024801, -0.020826003579415168, 0.20023067894894325, -0.2572734531079432], \"y\": [0.05614512834783992, -0.17803532984618023, 0.14143620727065645, 0.13981989362491165, -0.11630109571197378, 0.003452978036090973, -0.04651778172134483], \"topics\": [1, 2, 3, 4, 5, 6, 7], \"cluster\": [1, 1, 1, 1, 1, 1, 1], \"Freq\": [22.1805762481044, 13.876785907909639, 14.702547795944568, 13.663005894337418, 17.03421042597121, 8.681521939489667, 9.8613517882431]}, \"tinfo\": {\"Term\": [\"smoke\", \"peat\", \"sherry\", \"chocolate\", \"fruit\", \"raisin\", \"cream\", \"spice\", \"coastal\", \"rich\", \"salt\", \"sweet\", \"long\", \"cinnamon\", \"peat_smoke\", \"berry\", \"lemon\", \"raspberry\", \"red\", \"dark_chocolate\", \"jam\", \"strawberry\", \"earth\", \"dark\", \"fresh\", \"orange\", \"light\", \"apple\", \"gentle\", \"citrus\", \"manuka_honey\", \"sticky_toffee\", \"demerara_sugar\", \"orange_blossom\", \"granary_toast\", \"porridge_oats\", \"custard\", \"baked\", \"star_anise\", \"allspice\", \"sprinkle\", \"crumble\", \"oats\", \"entry\", \"pudding\", \"spiced\", \"tail\", \"good_length\", \"latte\", \"cider\", \"milk\", \"mixed_peel\", \"fudge\", \"peppermint\", \"pastry\", \"grist\", \"lemon_curd\", \"cooked\", \"cream\", \"great\", \"apple\", \"malt\", \"blossom\", \"butter\", \"vanilla\", \"toffee\", \"spice\", \"butterscotch\", \"pepper\", \"sweet\", \"pear\", \"finish\", \"honey\", \"oak\", \"barley\", \"fruit\", \"cinnamon\", \"nutmeg\", \"soft\", \"caramel\", \"rich\", \"long\", \"peel\", \"fresh\", \"oil\", \"marmalade\", \"floral\", \"peanut\", \"helping\", \"flake\", \"forward\", \"rye_bread\", \"red_chilli\", \"cassia\", \"waxy_orange\", \"peppercorn\", \"new_leather\", \"orange_oil\", \"plus\", \"milky_coffee\", \"tow\", \"popcorn\", \"toasted_teacake\", \"later\", \"soon\", \"enjoyably\", \"layer\", \"smidge\", \"thyme\", \"cracker\", \"cooking_spice\", \"quince\", \"flint\", \"brown_bread\", \"sandalwood\", \"meaty_malt\", \"coriander\", \"caraway\", \"warmth\", \"background\", \"buttered\", \"salted_butter\", \"chocolate\", \"clove\", \"cinnamon\", \"kick\", \"earth\", \"brown_sugar\", \"walnut\", \"gingerbread\", \"pineapple\", \"honey\", \"butter\", \"almond\", \"cedar\", \"apricot\", \"toasted\", \"barley\", \"white\", \"subtle\", \"ginger\", \"oak\", \"black_pepper\", \"caramel\", \"vanilla\", \"orange_peel\", \"apple\", \"flavour\", \"character\", \"mouth\", \"dram\", \"faint\", \"supple\", \"present\", \"summer\", \"tone\", \"interesting\", \"fairly\", \"smooth\", \"backdrop\", \"slowly\", \"suggestion\", \"water\", \"huge\", \"delicate\", \"texture\", \"power\", \"complex\", \"body\", \"cask\", \"initially\", \"elegant\", \"time\", \"tannin\", \"mouthfeel\", \"whisky\", \"influence\", \"aroma\", \"gentle\", \"grape\", \"herbal\", \"wood\", \"sweet\", \"fruit\", \"long\", \"green\", \"spice\", \"rich\", \"light\", \"smoke\", \"oak\", \"cream\", \"fresh\", \"soft\", \"vanilla\", \"finish\", \"toffee\", \"slightly\", \"dry\", \"citrus\", \"floral\", \"tropical_fruit\", \"honey\", \"subtle\", \"big\", \"malt\", \"christmas_cake\", \"fruitcake\", \"fig\", \"oloroso\", \"sherry\", \"rancio\", \"musty\", \"treacle\", \"prune\", \"pipe_tobacco\", \"potpourri\", \"brandy_butter\", \"molasse\", \"liqueur\", \"rubber\", \"old\", \"bittersweet\", \"rum\", \"rum_raisin\", \"dark\", \"cranberry\", \"espresso\", \"christmas\", \"dense\", \"particularly\", \"date\", \"coffee\", \"deep\", \"black\", \"sultanas\", \"dark_chocolate\", \"raisin\", \"cocoa\", \"intense\", \"leather\", \"rich\", \"thick\", \"fruit\", \"cherry\", \"spice\", \"chocolate\", \"clove\", \"oak\", \"walnut\", \"long\", \"ginger\", \"nutmeg\", \"cinnamon\", \"toffee\", \"sweet\", \"malt\", \"sultana\", \"orange\", \"finish\", \"peanut_brittle\", \"oat\", \"basil\", \"sweetie\", \"rye\", \"golden\", \"runny_honey\", \"lemongrass\", \"yellow_plum\", \"dusting\", \"softly\", \"fizz\", \"white_grape\", \"buttered_toast\", \"grapefruit\", \"mid\", \"greengage\", \"green_apple\", \"cut_grass\", \"y\", \"black_tea\", \"vanilla_pod\", \"lime\", \"subtly\", \"crunchy_brown\", \"lightly\", \"turkish_delight\", \"light\", \"lemon\", \"shortbread\", \"biscuit\", \"grass\", \"vegetal\", \"citrus\", \"fresh\", \"floral\", \"peel\", \"barley\", \"sugar\", \"vanilla\", \"pear\", \"peach\", \"oak\", \"orange\", \"orchard_fruit\", \"malt\", \"brown_sugar\", \"honey\", \"apple\", \"earth\", \"toasted\", \"sweet\", \"caramel\", \"zest\", \"cream\", \"oil\", \"spice\", \"cinnamon\", \"finish\", \"jam\", \"cookie\", \"raspberry\", \"bun\", \"bean\", \"red_grape\", \"hot_cross\", \"chocolate_chip\", \"roasted_coffee\", \"strawberry\", \"hand\", \"pecan\", \"slice\", \"berry\", \"damson\", \"blackcurrant\", \"baking_spice\", \"redcurrant\", \"stewed\", \"summer_berry\", \"red_wine\", \"jammy\", \"compote\", \"forest\", \"gooseberry\", \"digestive\", \"red\", \"red_berry\", \"skin\", \"bar\", \"tart\", \"plum\", \"nut\", \"chocolate\", \"raisin\", \"cherry\", \"milk_chocolate\", \"orange\", \"orange_peel\", \"fruit\", \"juicy\", \"dark_chocolate\", \"cake\", \"oak\", \"cinnamon\", \"spice\", \"toast\", \"apple\", \"fresh\", \"malt\", \"finish\", \"sweet\", \"toasted\", \"brown_sugar\", \"coastal\", \"seaweed\", \"maritime\", \"bonfire\", \"sea_spray\", \"soot\", \"medicinal\", \"brine\", \"plaster\", \"iodine\", \"ember\", \"tar\", \"medicinal_peat\", \"peat_smoke\", \"peat\", \"ash\", \"sea_air\", \"earthy_peat\", \"salt\", \"smoke\", \"bonfire_ember\", \"meat\", \"sea_breeze\", \"bbq\", \"heather\", \"chilli\", \"minute\", \"charred\", \"air\", \"coastal_air\", \"sea_salt\", \"oil\", \"earth\", \"sweet\", \"savoury\", \"lemon\", \"long\", \"finish\", \"pepper\", \"citrus\", \"black_pepper\", \"oak\", \"vanilla\", \"malt\", \"apple\", \"wood\", \"barley\"], \"Freq\": [2068.0, 1224.0, 1017.0, 1940.0, 4126.0, 867.0, 1741.0, 2887.0, 381.0, 1815.0, 439.0, 4338.0, 1340.0, 1910.0, 338.0, 446.0, 955.0, 268.0, 478.0, 620.0, 245.0, 299.0, 876.0, 505.0, 1720.0, 1351.0, 581.0, 2456.0, 435.0, 1370.0, 174.64501383129192, 86.04505472274494, 75.05049660814247, 60.44589435711629, 86.92960997830282, 45.60090431497219, 387.5274734077638, 120.58805074366198, 55.68126110014316, 267.531203624957, 53.96349223222748, 80.73210154620095, 53.82319029289138, 59.05940141744606, 103.60558907667068, 382.3022590708498, 133.72170295997665, 142.15820003310773, 39.42268533004325, 52.912657012064, 62.343235726855895, 55.525470209329285, 269.5903438327227, 97.28286663635157, 172.18301372166962, 145.98486138689688, 93.90271385908231, 67.83015815745642, 1141.143180166977, 42.692748821072726, 1388.5495192342285, 1400.7228785334362, 199.84226349921624, 575.6952322179326, 1346.5767417626903, 733.0158280677311, 1065.0188319775202, 235.1401343572378, 513.4835385269761, 1292.729523360036, 379.7505334152322, 628.3796828921668, 628.1413958590758, 973.8688028019934, 602.5178284378406, 856.4821822026108, 530.412219316841, 300.1964530874339, 316.54572200311065, 359.710552726528, 423.8399036993525, 344.1910501197566, 272.31748830222625, 314.7191294544916, 256.53641740703114, 224.24949570188505, 242.95308524218376, 164.03085480930122, 160.44305210901058, 106.97099617466137, 81.12549242859978, 80.6362717157077, 79.93345887472195, 75.27820191643843, 66.14276283550073, 233.06588560132045, 76.93803620450196, 101.4696017209659, 164.8654467842757, 107.74636902088466, 49.52500709215223, 71.8499050923993, 53.55201833068068, 164.46385786047773, 124.10300173561436, 82.41875644277286, 206.82588228611553, 96.85548143358727, 83.60893019192312, 40.448865399075515, 44.975487398194396, 72.53542267011403, 64.74426333600026, 87.70583141900103, 50.305466780514045, 53.227873701268685, 35.196180698137745, 88.57756424680232, 152.55578598455648, 162.77686766130546, 83.13293066511416, 112.06655729872021, 691.5243787066271, 246.34549901514652, 551.4476430632643, 104.91422707809588, 300.52459378241196, 265.6327972884558, 187.63895822637053, 151.51025348426828, 184.47160029186827, 400.63353658521555, 302.68798861437347, 243.68026994318018, 162.66373260936294, 217.7613867729664, 252.43794309404564, 357.2957407504817, 160.0155732302922, 187.18310351512554, 251.13690841061478, 358.9540973224127, 194.37266665811768, 221.9479361120857, 288.775912695816, 176.30088887858744, 160.8941376180334, 185.82410071637472, 184.16045353835312, 101.78894534252974, 71.97800058082093, 65.74520582552077, 64.72653822933404, 62.74893673634149, 79.4239547259318, 51.318290755204124, 51.332493787179075, 48.15811126336341, 171.1509639907836, 96.9023512212644, 105.75169856666636, 78.03953466931603, 120.37265670844293, 61.74074094978739, 132.6703070717351, 50.05108960911512, 83.42176193042692, 114.31718036916243, 95.88603453902408, 43.73358391310723, 133.51964057997324, 72.47815020679587, 111.01082963238449, 142.5980410804602, 47.50331344548267, 95.90356396791074, 60.2223431853008, 253.05405502149364, 320.18121293172794, 128.84378004370433, 199.54965328946145, 347.1073911846075, 1311.1685044947517, 1204.5382274405472, 488.5276829068978, 178.44798627416537, 576.633928643007, 393.73032637648095, 208.24454266213584, 403.14057642693746, 543.3298476663223, 327.31308594908234, 320.664681798996, 248.5105675236176, 414.10851669572344, 317.18134918782147, 294.98956044912956, 192.16712016934034, 169.20988945742715, 241.92268233669927, 216.53640149286178, 167.2731070491181, 214.9127881357366, 161.13107610632542, 151.35447367341615, 172.14560544153466, 144.93629502870036, 118.36362202111442, 204.0393619127966, 71.00304806732817, 1003.8867085757164, 46.2313506365712, 68.23577196299456, 223.07193467165672, 161.06819397495124, 48.1675460099068, 79.4268837708819, 52.54509485467276, 86.7989892977319, 45.3188832979215, 46.05163925281189, 161.71669421310975, 72.4965077284333, 120.87387037093116, 67.36327271892455, 361.62352375751755, 70.88821118319677, 111.8493483813306, 66.44817649675748, 34.72044421391078, 32.27721199727706, 289.60003829245795, 328.53139186403763, 69.15826531947259, 102.26167421673046, 95.90069168135634, 363.3577528883519, 501.7287648719158, 217.21844450163846, 137.4258467730274, 144.6211281554294, 761.599085810541, 279.0017034572764, 1127.4050725930465, 196.49577159457357, 693.9027607453119, 451.2919484795798, 208.25451374455562, 646.140552313322, 173.2001288030136, 302.6672573550777, 266.52264722353357, 225.72320902450724, 347.73515026545675, 297.6430258278265, 373.1127237609285, 258.71674872097, 160.46837340744204, 197.22805163089615, 186.88290547378452, 62.73156670540513, 54.27282998744936, 49.36601812591351, 168.71001406112762, 98.20754052992197, 138.67333256896407, 55.419192421004176, 74.7401543924129, 44.48223093489677, 88.19146697349211, 77.75523626834776, 67.71746883288418, 136.0880144044833, 65.48234378577733, 135.5867778662466, 60.64328644615194, 60.05990249465315, 282.407605822242, 46.33625516174485, 197.69978364776824, 46.39269371783999, 171.71962584722016, 122.1011868089448, 145.28627562397187, 33.84296835171063, 36.14361863308042, 36.08736373186119, 346.39811822559074, 563.7198374553993, 144.8475043472196, 322.8541508302893, 371.91378176492145, 93.02602618138766, 629.8858633585961, 732.8628362519585, 504.842683663407, 434.0632472774995, 720.2330317090156, 350.7751620575533, 842.7661634842483, 338.50299289264797, 235.61928277072937, 897.8167859984496, 441.7386874733454, 218.61849218126923, 587.9710513014285, 257.2580088324825, 383.23951236872153, 409.4463511444086, 239.90107470766915, 242.23207890183647, 434.73227091036216, 246.06830715707517, 181.36892083825214, 252.99400598936876, 221.79830965543042, 273.77329504292186, 239.14245009904232, 220.98161620050232, 244.66018358463992, 106.11074354626693, 265.92760133525604, 94.00018634056016, 92.85122060769423, 86.82928380119772, 52.547149138952605, 47.65563084509759, 61.04815808870209, 239.85424170409996, 62.58396008338563, 74.54452672553829, 41.57905173901751, 306.8494046775906, 47.06628428245681, 89.73848441347539, 163.48108578457075, 73.5417441920748, 55.48847906626502, 44.47177585332872, 30.066423505310024, 71.8676271665685, 38.16494049617047, 42.75258965867768, 43.14000480112651, 52.654100935575975, 279.36392190661405, 128.75544791871675, 74.17138775865662, 29.822104198897087, 142.75232078131742, 203.08616321110878, 230.92148572356083, 634.5521056942272, 277.67494982490933, 149.86723029962346, 157.1233521319115, 302.62107622689723, 178.26181486191126, 565.6309118205359, 186.9297257536555, 161.87686643528292, 135.20365975003605, 331.12690955049396, 240.8433269426275, 255.39729609270233, 127.10222243599118, 201.0484573091345, 173.51891049010922, 196.2935490842431, 170.9595092992631, 189.69062348421937, 132.91637277591124, 129.87843026324964, 380.44567140159586, 200.50879530598527, 149.69207057985898, 129.52216707708448, 108.21902471259546, 103.5521578099816, 104.54702302740154, 94.02102123289649, 92.61020414719036, 124.43607036416394, 80.88804794113216, 78.26850772806173, 67.53835099370495, 330.7976605903481, 1181.4671376057995, 143.95420645712946, 66.603254240072, 43.657768052734156, 369.77347731865547, 1641.8038849500085, 51.35863855005858, 235.24822855530937, 99.37095629307598, 68.55711705384125, 130.42609393892968, 78.62069348271157, 31.117820926347544, 109.79913670804306, 30.354387575492844, 59.93142526784035, 162.26447652932686, 331.18263885079983, 236.86882738752917, 584.2470907677914, 93.11647280519911, 179.9992943927674, 204.6541946298047, 219.18824932319032, 175.71819742921704, 166.12194037921765, 133.06362684772142, 194.50788451460855, 175.80889370124936, 144.5006217263913, 139.71572928264405, 112.50824783181342, 116.61966386051411], \"Total\": [2068.0, 1224.0, 1017.0, 1940.0, 4126.0, 867.0, 1741.0, 2887.0, 381.0, 1815.0, 439.0, 4338.0, 1340.0, 1910.0, 338.0, 446.0, 955.0, 268.0, 478.0, 620.0, 245.0, 299.0, 876.0, 505.0, 1720.0, 1351.0, 581.0, 2456.0, 435.0, 1370.0, 175.9523583003953, 86.89750012448022, 75.89450925455317, 61.28814993496555, 88.17536393519657, 46.44255472444389, 423.14546049963053, 137.95332520294306, 64.29396601080005, 314.7764501817708, 63.847661670287835, 97.20216417150459, 64.81814422083754, 71.94490653273147, 127.50996094311212, 474.1333054650822, 176.90993375546105, 188.22155980551497, 54.381999374965474, 73.91497468452872, 87.38686170378325, 78.63855002113775, 391.44922678242153, 141.43289020860576, 251.8110862964833, 217.4982974823003, 140.0559223508934, 102.03986831837834, 1741.0575171383807, 65.24497907316155, 2456.9087734426234, 2911.853002071693, 337.4117926330191, 1145.675727499109, 3204.427765701351, 1594.4200684926427, 2887.2599982257743, 441.3265049596574, 1265.8841601592974, 4338.4574436262, 884.672892278803, 1817.5295982378443, 1825.546645976, 3945.744880167603, 2084.784984142538, 4126.7771877467685, 1910.541145983403, 772.3324715093356, 994.9158763639266, 1281.45091547957, 1815.4811713081817, 1340.450981738616, 1014.1160726136632, 1720.3769352349163, 1083.0353245380732, 635.8087068487015, 1131.8156183320593, 164.88594115344756, 161.52576085633706, 107.82285902592956, 81.9771835481938, 81.48793749921109, 80.78425156238018, 76.398364958579, 69.61817281040237, 250.4873076984726, 86.82491164621067, 116.26157174265315, 197.8016799809569, 131.66887778185156, 60.90662968215403, 88.38394711370421, 66.78667692965357, 205.52343640433617, 155.71228458155053, 104.69884606211158, 263.34792689108326, 124.88967802034689, 108.10789979623253, 52.823789471288535, 58.90543625749131, 99.82350858075007, 89.26332854905158, 120.94874171519312, 70.34840555332612, 75.35019611017638, 52.285062930500466, 132.655980785431, 230.58399309176562, 259.7771944023929, 126.53419369234149, 187.45794801016638, 1940.678198439554, 578.3558324859614, 1910.541145983403, 176.74425869901708, 876.2295769637335, 761.0480900508127, 447.8978290019924, 315.57122088512546, 449.1213789849038, 1825.546645976, 1145.675727499109, 784.0628100838179, 374.8948491285079, 671.282802949412, 906.889126118373, 2084.784984142538, 376.3106972392218, 549.1119053033402, 1079.8130457392517, 3945.744880167603, 714.9744924484119, 1281.45091547957, 3204.427765701351, 602.4294224113453, 2456.9087734426234, 186.66376546531993, 185.00969501587298, 102.62874740729328, 72.81693123218128, 66.58666090416389, 65.56571223292758, 63.594172914475905, 80.61462158185205, 52.15727028873552, 52.17752750096298, 49.933016381216945, 182.19092131972573, 103.95382661498773, 113.70148251085442, 85.839196719722, 134.53188574309897, 70.49059054441736, 152.0870808101773, 58.578801047049076, 99.56639405227142, 136.69609162916672, 119.403806088111, 54.99832809685645, 169.58650149393043, 92.39285181434511, 143.61410561863042, 184.83864957677667, 61.9417539922007, 125.26734597915139, 79.99594124274884, 339.80968563542496, 435.52715735303264, 180.43862299712646, 350.05979197489717, 723.677306135611, 4338.4574436262, 4126.7771877467685, 1340.450981738616, 327.6040316546095, 2887.2599982257743, 1815.4811713081817, 581.4451429124529, 2068.9805531356365, 3945.744880167603, 1741.0575171383807, 1720.3769352349163, 994.9158763639266, 3204.427765701351, 1817.5295982378443, 1594.4200684926427, 625.00577850659, 446.0178951307338, 1370.4711640469454, 1131.8156183320593, 454.6422476532722, 1825.546645976, 549.1119053033402, 402.6531800375296, 2911.853002071693, 145.77308370584228, 119.20024627132287, 205.5004151036229, 71.84600827437751, 1017.4542690973755, 47.06775578896645, 71.93096832184452, 237.20601846799428, 181.64158199199184, 54.84837987422706, 92.95679664855768, 63.554386533940615, 111.8448012445328, 58.6049546538213, 59.97248413606184, 213.299850313453, 95.86924796501592, 162.62504433846607, 91.87538210120526, 505.480296944372, 99.48596526930005, 157.6425455089209, 95.82753500339022, 50.19100399107353, 46.93678727568074, 426.19933072336886, 507.799912858625, 112.7596208997678, 170.69329263068258, 161.59404041012203, 620.3594936296807, 867.1739434069601, 376.4155918963203, 236.22133177468, 253.67362506582433, 1815.4811713081817, 599.4390693917999, 4126.7771877467685, 402.45165756122174, 2887.2599982257743, 1940.678198439554, 578.3558324859614, 3945.744880167603, 447.8978290019924, 1340.450981738616, 1079.8130457392517, 772.3324715093356, 1910.541145983403, 1594.4200684926427, 4338.4574436262, 2911.853002071693, 481.5637169878954, 1351.0140474309053, 1817.5295982378443, 63.579491337438576, 55.13938393122256, 50.247405259413505, 182.43412018134038, 108.81828890902842, 154.4854542412331, 62.542149091340185, 85.37693134332707, 50.907828491714014, 101.37479766080487, 90.75263329222359, 79.16530904330963, 160.46222324524965, 84.42360604517725, 177.59085515355835, 82.76074333559619, 86.6870191526293, 412.4830386936695, 67.71172255058814, 298.89053025603175, 72.1558070093606, 273.209446822853, 199.59022067057916, 237.9785728755459, 56.32663715400932, 60.19563786597411, 60.34676367393797, 581.4451429124529, 955.4161495664399, 246.27187669188504, 573.0302544536271, 749.3587333075037, 167.1849892702749, 1370.4711640469454, 1720.3769352349163, 1131.8156183320593, 1014.1160726136632, 2084.784984142538, 894.7299780462254, 3204.427765701351, 884.672892278803, 522.7275030141318, 3945.744880167603, 1351.0140474309053, 477.8093740218956, 2911.853002071693, 761.0480900508127, 1825.546645976, 2456.9087734426234, 876.2295769637335, 906.889126118373, 4338.4574436262, 1281.45091547957, 469.1378745829591, 1741.0575171383807, 1083.0353245380732, 2887.2599982257743, 1910.541145983403, 1817.5295982378443, 245.90122397262266, 106.96137814234199, 268.1186501919697, 94.84552533561327, 93.69920136127166, 87.67477188966738, 53.39215358434467, 48.501100952348594, 70.09808169553024, 299.1623596356074, 82.57011572048472, 99.79218384504034, 57.96595134270346, 446.8165874352573, 69.73857577030894, 135.41389280226954, 246.7001510597971, 111.11708219525487, 84.96514574581906, 68.39372449422693, 46.45352575811325, 112.53573957444237, 61.87947071493315, 69.52941911747328, 71.69153951108366, 89.11643425077952, 478.47741733140646, 221.79653627512232, 128.90091991014526, 54.196819606904015, 273.19900698361675, 417.08097145964365, 508.8020483036169, 1940.678198439554, 867.1739434069601, 402.45165756122174, 450.0118991971389, 1351.0140474309053, 602.4294224113453, 4126.7771877467685, 665.1744805136182, 620.3594936296807, 476.2125351727455, 3945.744880167603, 1910.541145983403, 2887.2599982257743, 539.3069674592624, 2456.9087734426234, 1720.3769352349163, 2911.853002071693, 1817.5295982378443, 4338.4574436262, 906.889126118373, 761.0480900508127, 381.3066151073466, 201.35473597367604, 150.5381722977068, 130.3682402507809, 109.06583652786688, 104.39809324545975, 105.40862924445968, 94.86687378197661, 93.45639369671187, 125.66153976771625, 81.73426659440399, 79.11626903516972, 68.38411093495327, 338.9149001248807, 1224.3402559185135, 152.13079648524067, 76.67985404319265, 50.872323068097884, 439.14571618417347, 2068.9805531356365, 65.00117278037789, 320.96278340956684, 140.966395226619, 99.30106739666286, 199.5879830339332, 129.39132889181795, 51.45860972838307, 182.14594800673012, 55.77284130254169, 111.1649141678848, 306.40239740317327, 1083.0353245380732, 876.2295769637335, 4338.4574436262, 223.0135007630916, 955.4161495664399, 1340.450981738616, 1817.5295982378443, 1265.8841601592974, 1370.4711640469454, 714.9744924484119, 3945.744880167603, 3204.427765701351, 2911.853002071693, 2456.9087734426234, 723.677306135611, 2084.784984142538], \"Category\": [\"Default\", \"Default\", \"Default\", \"Default\", \"Default\", \"Default\", \"Default\", \"Default\", \"Default\", \"Default\", \"Default\", \"Default\", \"Default\", \"Default\", \"Default\", \"Default\", \"Default\", \"Default\", \"Default\", \"Default\", \"Default\", \"Default\", \"Default\", \"Default\", \"Default\", \"Default\", \"Default\", \"Default\", \"Default\", \"Default\", \"Topic1\", \"Topic1\", \"Topic1\", \"Topic1\", \"Topic1\", \"Topic1\", \"Topic1\", \"Topic1\", \"Topic1\", \"Topic1\", \"Topic1\", \"Topic1\", \"Topic1\", \"Topic1\", \"Topic1\", \"Topic1\", \"Topic1\", \"Topic1\", \"Topic1\", \"Topic1\", \"Topic1\", \"Topic1\", \"Topic1\", \"Topic1\", \"Topic1\", \"Topic1\", \"Topic1\", \"Topic1\", \"Topic1\", \"Topic1\", \"Topic1\", \"Topic1\", \"Topic1\", \"Topic1\", \"Topic1\", \"Topic1\", \"Topic1\", \"Topic1\", \"Topic1\", \"Topic1\", \"Topic1\", \"Topic1\", \"Topic1\", \"Topic1\", \"Topic1\", \"Topic1\", \"Topic1\", \"Topic1\", \"Topic1\", \"Topic1\", \"Topic1\", \"Topic1\", \"Topic1\", \"Topic1\", \"Topic1\", \"Topic1\", \"Topic1\", \"Topic2\", \"Topic2\", \"Topic2\", \"Topic2\", \"Topic2\", \"Topic2\", \"Topic2\", \"Topic2\", \"Topic2\", \"Topic2\", \"Topic2\", \"Topic2\", \"Topic2\", \"Topic2\", \"Topic2\", \"Topic2\", \"Topic2\", \"Topic2\", \"Topic2\", \"Topic2\", \"Topic2\", \"Topic2\", \"Topic2\", \"Topic2\", \"Topic2\", \"Topic2\", \"Topic2\", \"Topic2\", \"Topic2\", \"Topic2\", \"Topic2\", \"Topic2\", \"Topic2\", \"Topic2\", \"Topic2\", \"Topic2\", \"Topic2\", \"Topic2\", \"Topic2\", \"Topic2\", \"Topic2\", \"Topic2\", \"Topic2\", \"Topic2\", \"Topic2\", \"Topic2\", \"Topic2\", \"Topic2\", \"Topic2\", \"Topic2\", \"Topic2\", \"Topic2\", \"Topic2\", \"Topic2\", \"Topic2\", \"Topic2\", \"Topic2\", \"Topic2\", \"Topic2\", \"Topic2\", \"Topic3\", \"Topic3\", \"Topic3\", \"Topic3\", \"Topic3\", \"Topic3\", \"Topic3\", \"Topic3\", \"Topic3\", \"Topic3\", \"Topic3\", \"Topic3\", \"Topic3\", \"Topic3\", \"Topic3\", \"Topic3\", \"Topic3\", \"Topic3\", \"Topic3\", \"Topic3\", \"Topic3\", \"Topic3\", \"Topic3\", \"Topic3\", \"Topic3\", \"Topic3\", \"Topic3\", \"Topic3\", \"Topic3\", \"Topic3\", \"Topic3\", \"Topic3\", \"Topic3\", \"Topic3\", \"Topic3\", \"Topic3\", \"Topic3\", \"Topic3\", \"Topic3\", \"Topic3\", \"Topic3\", \"Topic3\", \"Topic3\", \"Topic3\", \"Topic3\", \"Topic3\", \"Topic3\", \"Topic3\", \"Topic3\", \"Topic3\", \"Topic3\", \"Topic3\", \"Topic3\", \"Topic3\", \"Topic3\", \"Topic3\", \"Topic3\", \"Topic3\", \"Topic3\", \"Topic4\", \"Topic4\", \"Topic4\", \"Topic4\", \"Topic4\", \"Topic4\", \"Topic4\", \"Topic4\", \"Topic4\", \"Topic4\", \"Topic4\", \"Topic4\", \"Topic4\", \"Topic4\", \"Topic4\", \"Topic4\", \"Topic4\", \"Topic4\", \"Topic4\", \"Topic4\", \"Topic4\", \"Topic4\", \"Topic4\", \"Topic4\", \"Topic4\", \"Topic4\", \"Topic4\", \"Topic4\", \"Topic4\", \"Topic4\", \"Topic4\", \"Topic4\", \"Topic4\", \"Topic4\", \"Topic4\", \"Topic4\", \"Topic4\", \"Topic4\", \"Topic4\", \"Topic4\", \"Topic4\", \"Topic4\", \"Topic4\", \"Topic4\", \"Topic4\", \"Topic4\", \"Topic4\", \"Topic4\", \"Topic4\", \"Topic4\", \"Topic4\", \"Topic4\", \"Topic4\", \"Topic4\", \"Topic5\", \"Topic5\", \"Topic5\", \"Topic5\", \"Topic5\", \"Topic5\", \"Topic5\", \"Topic5\", \"Topic5\", \"Topic5\", \"Topic5\", \"Topic5\", \"Topic5\", \"Topic5\", \"Topic5\", \"Topic5\", \"Topic5\", \"Topic5\", \"Topic5\", \"Topic5\", \"Topic5\", \"Topic5\", \"Topic5\", \"Topic5\", \"Topic5\", \"Topic5\", \"Topic5\", \"Topic5\", \"Topic5\", \"Topic5\", \"Topic5\", \"Topic5\", \"Topic5\", \"Topic5\", \"Topic5\", \"Topic5\", \"Topic5\", \"Topic5\", \"Topic5\", \"Topic5\", \"Topic5\", \"Topic5\", \"Topic5\", \"Topic5\", \"Topic5\", \"Topic5\", \"Topic5\", \"Topic5\", \"Topic5\", \"Topic5\", \"Topic5\", \"Topic5\", \"Topic5\", \"Topic5\", \"Topic5\", \"Topic5\", \"Topic5\", \"Topic5\", \"Topic5\", \"Topic6\", \"Topic6\", \"Topic6\", \"Topic6\", \"Topic6\", \"Topic6\", \"Topic6\", \"Topic6\", \"Topic6\", \"Topic6\", \"Topic6\", \"Topic6\", \"Topic6\", \"Topic6\", \"Topic6\", \"Topic6\", \"Topic6\", \"Topic6\", \"Topic6\", \"Topic6\", \"Topic6\", \"Topic6\", \"Topic6\", \"Topic6\", \"Topic6\", \"Topic6\", \"Topic6\", \"Topic6\", \"Topic6\", \"Topic6\", \"Topic6\", \"Topic6\", \"Topic6\", \"Topic6\", \"Topic6\", \"Topic6\", \"Topic6\", \"Topic6\", \"Topic6\", \"Topic6\", \"Topic6\", \"Topic6\", \"Topic6\", \"Topic6\", \"Topic6\", \"Topic6\", \"Topic6\", \"Topic6\", \"Topic6\", \"Topic6\", \"Topic6\", \"Topic6\", \"Topic6\", \"Topic6\", \"Topic7\", \"Topic7\", \"Topic7\", \"Topic7\", \"Topic7\", \"Topic7\", \"Topic7\", \"Topic7\", \"Topic7\", \"Topic7\", \"Topic7\", \"Topic7\", \"Topic7\", \"Topic7\", \"Topic7\", \"Topic7\", \"Topic7\", \"Topic7\", \"Topic7\", \"Topic7\", \"Topic7\", \"Topic7\", \"Topic7\", \"Topic7\", \"Topic7\", \"Topic7\", \"Topic7\", \"Topic7\", \"Topic7\", \"Topic7\", \"Topic7\", \"Topic7\", \"Topic7\", \"Topic7\", \"Topic7\", \"Topic7\", \"Topic7\", \"Topic7\", \"Topic7\", \"Topic7\", \"Topic7\", \"Topic7\", \"Topic7\", \"Topic7\", \"Topic7\", \"Topic7\", \"Topic7\"], \"logprob\": [30.0, 29.0, 28.0, 27.0, 26.0, 25.0, 24.0, 23.0, 22.0, 21.0, 20.0, 19.0, 18.0, 17.0, 16.0, 15.0, 14.0, 13.0, 12.0, 11.0, 10.0, 9.0, 8.0, 7.0, 6.0, 5.0, 4.0, 3.0, 2.0, 1.0, -5.1983, -5.9061, -6.0428, -6.2593, -5.8959, -6.5411, -4.4012, -5.5686, -6.3414, -4.7718, -6.3727, -5.9699, -6.3753, -6.2825, -5.7204, -4.4148, -5.4652, -5.4041, -6.6867, -6.3924, -6.2284, -6.3442, -4.7641, -5.7834, -5.2125, -5.3775, -5.8188, -6.144, -3.3212, -6.607, -3.125, -3.1163, -5.0635, -4.0054, -3.1557, -3.7638, -3.3903, -4.9008, -4.1198, -3.1965, -4.4215, -3.9179, -3.9182, -3.4797, -3.9599, -3.6082, -4.0874, -4.6566, -4.6035, -4.4757, -4.3117, -4.5198, -4.754, -4.6093, -4.8137, -4.9483, -4.8681, -4.792, -4.8141, -5.2195, -5.496, -5.5021, -5.5108, -5.5708, -5.7002, -4.4407, -5.549, -5.2723, -4.7869, -5.2122, -5.9895, -5.6174, -5.9114, -4.7893, -5.0709, -5.4802, -4.5601, -5.3188, -5.4659, -6.192, -6.0859, -5.6079, -5.7216, -5.418, -5.9739, -5.9174, -6.3311, -5.4081, -4.8645, -4.7996, -5.4716, -5.1729, -3.3531, -4.3853, -3.5795, -5.2389, -4.1865, -4.3099, -4.6575, -4.8714, -4.6745, -3.899, -4.1793, -4.3962, -4.8003, -4.5086, -4.3608, -4.0134, -4.8167, -4.6599, -4.366, -4.0088, -4.6222, -4.4896, -4.2264, -4.7198, -4.8113, -4.725, -4.734, -5.3269, -5.6735, -5.764, -5.7796, -5.8107, -5.575, -6.0118, -6.0115, -6.0753, -4.8073, -5.3761, -5.2887, -5.5926, -5.1592, -5.8269, -5.0619, -6.0368, -5.5259, -5.2108, -5.3867, -6.1717, -5.0556, -5.6665, -5.2402, -4.9898, -6.089, -5.3865, -5.8518, -4.4162, -4.1809, -5.0912, -4.6538, -4.1002, -2.7711, -2.856, -3.7584, -4.7655, -3.5926, -3.9741, -4.6111, -3.9505, -3.6521, -4.1589, -4.1794, -4.4343, -3.9237, -4.1903, -4.2629, -4.6914, -4.8187, -4.4612, -4.5721, -4.8302, -4.5796, -4.8676, -4.9302, -4.8015, -4.9002, -5.1027, -4.5582, -5.6138, -2.9649, -6.0428, -5.6535, -4.469, -4.7947, -6.0018, -5.5016, -5.9148, -5.4129, -6.0628, -6.0467, -4.7906, -5.5929, -5.0817, -5.6664, -3.9859, -5.6154, -5.1593, -5.6801, -6.3292, -6.4021, -4.208, -4.0819, -5.6401, -5.249, -5.3132, -3.9811, -3.6584, -4.4956, -4.9534, -4.9024, -3.2411, -4.2453, -2.8488, -4.5958, -3.3342, -3.7644, -4.5377, -3.4055, -4.722, -4.1639, -4.291, -4.4572, -4.025, -4.1806, -3.9546, -4.3208, -4.7984, -4.5921, -4.646, -5.9582, -6.103, -6.1978, -4.9688, -5.5099, -5.1649, -6.0821, -5.783, -6.3019, -5.6175, -5.7435, -5.8817, -5.1837, -5.9152, -5.1874, -5.992, -6.0017, -4.4537, -6.2611, -4.8103, -6.2599, -4.9512, -5.2922, -5.1183, -6.5753, -6.5095, -6.5111, -4.2494, -3.7625, -5.1213, -4.3198, -4.1784, -5.5641, -3.6515, -3.5001, -3.8728, -4.0238, -3.5174, -4.2369, -3.3603, -4.2725, -4.6348, -3.2971, -4.0063, -4.7097, -3.7203, -4.5469, -4.1484, -4.0822, -4.6168, -4.6071, -4.0223, -4.5914, -4.8965, -4.5637, -4.6952, -4.4847, -4.62, -4.6989, -3.9231, -4.7585, -3.8398, -4.8797, -4.892, -4.959, -5.4613, -5.559, -5.3113, -3.943, -5.2865, -5.1116, -5.6954, -3.6966, -5.5714, -4.9261, -4.3263, -5.1251, -5.4068, -5.6281, -6.0196, -5.1482, -5.7811, -5.6676, -5.6585, -5.4592, -3.7905, -4.5651, -5.1166, -6.0277, -4.4619, -4.1094, -3.9809, -2.9701, -3.7965, -4.4132, -4.366, -3.7105, -4.2397, -3.085, -4.1923, -4.3362, -4.5162, -3.6205, -3.9388, -3.8802, -4.578, -4.1194, -4.2667, -4.1434, -4.2816, -4.1776, -4.5333, -4.5564, -3.6091, -4.2496, -4.5418, -4.6866, -4.8663, -4.9103, -4.9008, -5.0069, -5.022, -4.7266, -5.1574, -5.1903, -5.3377, -3.7489, -2.4759, -4.5809, -5.3517, -5.774, -3.6375, -2.1469, -5.6116, -4.0898, -4.9516, -5.3227, -4.6796, -5.1858, -6.1126, -4.8518, -6.1375, -5.4572, -4.4612, -3.7477, -4.0829, -3.1801, -5.0166, -4.3575, -4.2291, -4.1605, -4.3815, -4.4377, -4.6596, -4.2799, -4.381, -4.5771, -4.6108, -4.8274, -4.7915], \"loglift\": [30.0, 29.0, 28.0, 27.0, 26.0, 25.0, 24.0, 23.0, 22.0, 21.0, 20.0, 19.0, 18.0, 17.0, 16.0, 15.0, 14.0, 13.0, 12.0, 11.0, 10.0, 9.0, 8.0, 7.0, 6.0, 5.0, 4.0, 3.0, 2.0, 1.0, 1.4985, 1.4961, 1.4948, 1.4921, 1.4917, 1.4877, 1.418, 1.3714, 1.3621, 1.3433, 1.3378, 1.3203, 1.3201, 1.3086, 1.2984, 1.2907, 1.2261, 1.2253, 1.1843, 1.1717, 1.1683, 1.1579, 1.133, 1.1318, 1.1258, 1.1073, 1.1062, 1.0976, 1.0835, 1.0818, 0.9353, 0.7742, 0.9822, 0.8178, 0.639, 0.7289, 0.5086, 0.8763, 0.6036, 0.2952, 0.6602, 0.4439, 0.4391, 0.1068, 0.2646, -0.0665, 0.2245, 0.561, 0.3608, 0.2355, 0.0512, 0.1464, 0.1911, -0.1927, 0.0657, 0.4638, -0.0328, 1.9698, 1.9682, 1.967, 1.9645, 1.9644, 1.9644, 1.9602, 1.9237, 1.9029, 1.8541, 1.8389, 1.7928, 1.7744, 1.7681, 1.7678, 1.7541, 1.7521, 1.7481, 1.7357, 1.7334, 1.7207, 1.718, 1.708, 1.7051, 1.6556, 1.6538, 1.6536, 1.6396, 1.6274, 1.5792, 1.5711, 1.5619, 1.5075, 1.5549, 1.4605, 0.9431, 1.1215, 0.7324, 1.4534, 0.9049, 0.9224, 1.1049, 1.2412, 1.0852, 0.4584, 0.6439, 0.8063, 1.14, 0.8492, 0.6961, 0.2111, 1.1198, 0.8987, 0.5164, -0.4222, 0.6725, 0.2216, -0.4317, 0.7462, -0.751, 1.9126, 1.9125, 1.9089, 1.9056, 1.9044, 1.9043, 1.9038, 1.9023, 1.9009, 1.9008, 1.881, 1.8546, 1.8469, 1.8447, 1.8219, 1.8059, 1.7846, 1.7806, 1.7598, 1.7402, 1.7384, 1.6978, 1.688, 1.678, 1.6744, 1.6596, 1.6577, 1.6518, 1.65, 1.6332, 1.6224, 1.6095, 1.5804, 1.3551, 1.1824, 0.7205, 0.6857, 0.9078, 1.3096, 0.3063, 0.3887, 0.8903, 0.2816, -0.0655, 0.2458, 0.2372, 0.53, -0.129, 0.1714, 0.2298, 0.7378, 0.9479, 0.1829, 0.2633, 0.9173, -0.2223, 0.6911, 0.9387, -0.9111, 1.9847, 1.9834, 1.9833, 1.9787, 1.9771, 1.9725, 1.9377, 1.929, 1.8703, 1.8606, 1.8332, 1.8003, 1.737, 1.7334, 1.7264, 1.7136, 1.711, 1.6938, 1.6801, 1.6556, 1.6516, 1.6473, 1.6244, 1.622, 1.616, 1.6041, 1.555, 1.5016, 1.4781, 1.4687, 1.4556, 1.4433, 1.4407, 1.4488, 1.4285, 1.1218, 1.2257, 0.6929, 1.2735, 0.5647, 0.5318, 0.969, 0.1811, 1.0404, 0.5024, 0.5914, 0.7604, 0.2868, 0.3121, -0.4629, -0.4303, 0.8915, 0.0662, -0.2843, 1.7565, 1.7541, 1.7522, 1.6917, 1.6674, 1.662, 1.649, 1.6369, 1.635, 1.6306, 1.6154, 1.6138, 1.6052, 1.5159, 1.5001, 1.459, 1.403, 1.3911, 1.3906, 1.3566, 1.3283, 1.3056, 1.2785, 1.2765, 1.2605, 1.2598, 1.2558, 1.252, 1.2424, 1.2392, 1.1962, 1.0694, 1.1837, 0.9926, 0.9166, 0.9626, 0.9214, 0.7071, 0.8336, 0.4343, 0.8093, 0.9731, 0.2895, 0.6521, 0.9881, 0.1701, 0.6853, 0.209, -0.0219, 0.4745, 0.4498, -0.5306, 0.1198, 0.8196, -0.1589, 0.1842, -0.5858, -0.3081, -0.3372, 2.4389, 2.436, 2.4358, 2.435, 2.4349, 2.4343, 2.428, 2.4264, 2.3057, 2.223, 2.1668, 2.1523, 2.1117, 2.0682, 2.0508, 2.0325, 2.0325, 2.0312, 2.0179, 2.0135, 2.0089, 1.9955, 1.9607, 1.9577, 1.9361, 1.9178, 1.9059, 1.9001, 1.8913, 1.8466, 1.7949, 1.7243, 1.654, 1.3261, 1.3052, 1.4561, 1.3917, 0.9478, 1.2263, 0.4567, 1.1747, 1.1005, 1.1849, -0.0339, 0.373, 0.0187, 0.9987, -0.0591, 0.15, -0.253, 0.0802, -0.6859, 0.5237, 0.6759, 2.3143, 2.3123, 2.3109, 2.31, 2.3088, 2.3084, 2.3083, 2.3076, 2.3075, 2.3067, 2.3061, 2.3058, 2.3041, 2.2923, 2.2809, 2.2613, 2.1757, 2.1636, 2.1446, 2.0853, 2.081, 2.0059, 1.9669, 1.9461, 1.8911, 1.8183, 1.8135, 1.8104, 1.7082, 1.6987, 1.6809, 1.1317, 1.0084, 0.3116, 1.4432, 0.6474, 0.4371, 0.2012, 0.3419, 0.2064, 0.6351, -0.6934, -0.5863, -0.6867, -0.5505, 0.4552, -0.567]}, \"token.table\": {\"Topic\": [3, 5, 7, 1, 4, 1, 2, 3, 4, 5, 6, 7, 1, 2, 3, 4, 5, 6, 7, 1, 2, 3, 4, 5, 6, 1, 3, 4, 7, 3, 7, 3, 4, 2, 3, 4, 5, 6, 7, 1, 3, 5, 1, 5, 6, 1, 2, 6, 1, 2, 3, 4, 5, 6, 7, 5, 2, 5, 7, 6, 1, 3, 4, 6, 1, 2, 3, 4, 7, 1, 2, 4, 5, 6, 7, 1, 3, 4, 2, 3, 4, 7, 1, 2, 3, 4, 5, 6, 7, 5, 6, 7, 3, 4, 6, 7, 1, 3, 5, 6, 7, 3, 4, 5, 7, 2, 7, 1, 4, 7, 2, 6, 1, 2, 3, 4, 5, 6, 7, 6, 1, 2, 3, 4, 5, 6, 7, 1, 2, 5, 6, 2, 4, 5, 1, 2, 3, 4, 5, 1, 2, 3, 4, 6, 7, 1, 2, 3, 4, 5, 6, 7, 2, 5, 7, 3, 5, 2, 1, 2, 4, 5, 3, 1, 2, 3, 4, 5, 7, 1, 2, 4, 6, 2, 3, 6, 7, 1, 2, 3, 4, 5, 6, 7, 6, 4, 6, 4, 1, 5, 7, 1, 2, 3, 4, 5, 6, 1, 2, 3, 4, 5, 6, 7, 1, 2, 4, 6, 7, 5, 7, 1, 3, 4, 6, 7, 1, 2, 3, 4, 5, 6, 7, 3, 4, 4, 6, 1, 4, 5, 6, 2, 3, 6, 1, 2, 3, 7, 2, 7, 1, 3, 4, 5, 1, 3, 4, 5, 6, 1, 6, 2, 5, 1, 5, 1, 5, 4, 5, 6, 3, 4, 6, 7, 2, 3, 4, 5, 6, 7, 2, 4, 6, 3, 4, 3, 7, 1, 2, 4, 2, 5, 6, 3, 1, 2, 3, 4, 5, 6, 7, 1, 4, 5, 2, 3, 4, 5, 6, 7, 2, 7, 3, 5, 7, 2, 5, 7, 1, 4, 7, 1, 3, 4, 7, 3, 1, 3, 2, 4, 1, 2, 3, 4, 5, 6, 7, 5, 6, 2, 3, 2, 5, 1, 2, 3, 4, 5, 6, 7, 3, 4, 6, 2, 1, 2, 3, 4, 5, 6, 7, 1, 2, 3, 4, 5, 6, 7, 4, 1, 2, 3, 4, 5, 6, 1, 3, 7, 1, 2, 3, 4, 5, 6, 1, 2, 4, 5, 1, 4, 5, 1, 3, 4, 5, 6, 1, 4, 1, 3, 6, 3, 5, 1, 2, 3, 5, 6, 7, 1, 7, 1, 2, 3, 5, 6, 1, 2, 3, 5, 7, 1, 3, 5, 1, 3, 4, 5, 7, 1, 6, 1, 5, 7, 2, 1, 3, 4, 7, 1, 2, 3, 4, 5, 6, 7, 6, 3, 7, 3, 4, 7, 3, 4, 7, 3, 4, 7, 3, 3, 7, 1, 6, 4, 6, 1, 2, 3, 4, 5, 6, 1, 2, 4, 5, 6, 7, 2, 5, 7, 1, 3, 4, 2, 3, 4, 1, 3, 4, 7, 1, 2, 3, 5, 7, 1, 5, 7, 5, 7, 1, 2, 3, 4, 5, 6, 4, 5, 7, 3, 5, 7, 1, 4, 1, 3, 4, 7, 1, 2, 3, 4, 5, 6, 7, 1, 4, 7, 1, 2, 3, 4, 5, 6, 7, 2, 3, 4, 7, 2, 6, 7, 7, 3, 4, 5, 6, 1, 3, 4, 5, 1, 2, 3, 4, 5, 6, 2, 5, 2, 7, 1, 4, 7, 4, 6, 7, 3, 3, 4, 6, 4, 7, 2, 7, 1, 2, 3, 4, 5, 6, 7, 1, 2, 3, 4, 5, 1, 2, 3, 4, 5, 6, 7, 5, 1, 4, 7, 1, 2, 3, 4, 5, 6, 7, 2, 3, 4, 7, 4, 1, 2, 3, 4, 5, 6, 7, 1, 1, 2, 5, 1, 2, 3, 4, 5, 6, 7, 1, 2, 3, 5, 6, 7, 4, 5, 1, 2, 6, 1, 2, 3, 5, 6, 2, 5, 1, 2, 3, 5, 6, 7, 3, 7, 3, 7, 4, 6, 1, 2, 3, 4, 5, 7, 1, 2, 3, 4, 5, 6, 7, 2, 7, 1, 3, 4, 1, 2, 3, 5, 3, 4, 7, 7, 2, 3, 4, 5, 6, 2, 5, 7, 1, 2, 7, 1, 3, 4, 1, 3, 4, 7, 3, 2, 4, 1, 2, 4, 6, 2, 3, 2, 4, 6, 4, 2, 6, 1, 2, 3, 4, 6, 7, 2, 3, 4, 5, 6, 2, 6, 4, 6, 2, 4, 6, 1, 2, 3, 4, 5, 6, 7, 4, 6, 3, 4, 1, 4, 2, 4, 5, 6, 4, 5, 2, 1, 3, 7, 1, 2, 5, 6, 7, 1, 2, 5, 2, 3, 5, 6, 7, 2, 5, 7, 5, 7, 2, 5, 7, 7, 7, 3, 4, 6, 2, 4, 5, 6, 1, 3, 6, 7, 6, 7, 1, 2, 3, 5, 6, 7, 3, 4, 2, 7, 2, 3, 4, 7, 1, 3, 6, 1, 2, 3, 4, 5, 7, 4, 5, 2, 3, 5, 7, 7, 1, 2, 3, 4, 5, 6, 7, 1, 4, 6, 7, 1, 4, 6, 1, 4, 1, 5, 6, 1, 2, 6, 1, 2, 3, 4, 5, 6, 7, 2, 5, 1, 2, 3, 4, 5, 6, 7, 3, 6, 1, 2, 3, 4, 5, 6, 1, 2, 4, 3, 2, 5, 6, 3, 1, 2, 3, 4, 5, 6, 7, 5, 7, 1, 3, 4, 3, 4, 7, 1, 5, 6, 1, 3, 1, 2, 3, 4, 7, 2, 3, 7, 3, 4, 7, 1, 2, 3, 4, 5, 6, 7, 1, 2, 3, 4, 5, 6, 7, 2, 6, 1, 2, 3, 4, 5, 6, 7, 3, 2, 5, 2, 4, 7, 1, 2, 3, 5, 7, 3, 5, 6, 1, 2, 3, 4, 5, 6, 7, 2, 3, 5, 6, 7, 2, 5, 7, 1, 2, 4, 5, 2, 3, 4, 5, 1, 3, 7, 2, 6, 3, 4, 7, 1, 2, 3, 5, 6, 2, 5, 1, 3, 4, 6, 7, 2, 4, 5, 6, 4, 5, 1, 2, 3, 4, 5, 7], \"Freq\": [0.03585974738405259, 0.41238709491660486, 0.537896210760789, 0.8513978725067923, 0.1493123134620121, 0.29079302967529647, 0.31119955807356287, 0.0025508160497833025, 0.12498998643938182, 0.19258661175863934, 0.0599441771699076, 0.02040652839826642, 0.5653445561406546, 0.06552949858793765, 0.03541035016863711, 0.028491086342581583, 0.1664693473445124, 0.08181011935512712, 0.05698217268516317, 0.16982410319334676, 0.32475135522938237, 0.10874701344837116, 0.022345276735966677, 0.2904885975675668, 0.08491205159667338, 0.2177689545888728, 0.7445343987970922, 0.032371060817264874, 0.005885647421320887, 0.04601303721353436, 0.9465539083927067, 0.9331065835532681, 0.05771793300329493, 0.6274607760507037, 0.038494526138079986, 0.10393522057281596, 0.18092427284897594, 0.019247263069039993, 0.02694616829665599, 0.877108252533942, 0.03624414266669181, 0.08698594240006036, 0.056749053212401854, 0.27563825846023754, 0.6607211195443929, 0.2029639392086899, 0.2398664736102699, 0.5535380160236998, 0.2892384608420474, 0.17124068079703306, 0.07722618937905412, 0.03645459871309387, 0.34535935622931035, 0.024462954399576152, 0.056120895387262934, 0.97517473284494, 0.30211155616448276, 0.010070385205482759, 0.6948565791783103, 0.9925378087420854, 0.17904438252662636, 0.10742662951597581, 0.026856657378993953, 0.6870828179459286, 0.08692344115284971, 0.06457169914211693, 0.3750125604022944, 0.295539699919689, 0.17633040919578083, 0.29666845455148194, 0.01745108556185188, 0.0575885823541112, 0.5636700636478157, 0.06282390802266677, 0.001745108556185188, 0.020861747040404752, 0.21904834392424988, 0.7510228934545711, 0.26363074556985333, 0.10545229822794133, 0.5975630232916675, 0.029292305063317037, 0.25595318704772413, 0.2713383512964945, 0.001398651295342755, 0.15944624766907406, 0.1146894062181059, 0.009790559067399285, 0.1860206222805864, 0.6375093274756463, 0.15244788265721976, 0.1940245779273706, 0.12554103311115417, 0.1993886996471272, 0.6646289988237573, 0.007384766653597303, 0.5927475102138087, 0.053347275919242786, 0.29044628000476624, 0.029637375510690435, 0.03260111306175948, 0.8039944717437169, 0.1842487331079351, 0.00837494241399705, 0.9971753837432143, 0.1999963915100983, 0.784601228231924, 0.15734555150901497, 0.8339314229977793, 0.9908622077716099, 0.7275809467056719, 0.27284285501462696, 0.019709661184483755, 0.34951799167151193, 0.001313977412298917, 0.0854085317994296, 0.33769219496082165, 0.1708170635988592, 0.03679136754436967, 0.9910852374677523, 0.5027600621838678, 0.2644727410446388, 0.009601320631983587, 0.013965557282885217, 0.17282377137570457, 0.03229535121667206, 0.005237083981081956, 0.07112701900865495, 0.6559491753020401, 0.15015704012938266, 0.12644803379316435, 0.1302953109360623, 0.08291519786840329, 0.7699268373494591, 0.532485580084255, 0.015861272598254404, 0.056647402136622865, 0.1993988555209125, 0.19486706334998266, 0.1616925097783668, 0.25198832692732487, 0.004199805448788748, 0.26248784054929675, 0.2834868677932405, 0.03569834631470436, 0.28093155629396355, 0.17324112638127753, 0.07179361994179069, 0.11159225708343554, 0.19196989680087512, 0.08974202492723836, 0.08037763971743958, 0.6709083109034949, 0.24122546010013302, 0.09045954753754988, 0.8000243193304438, 0.20000607983261096, 0.9816964020193737, 0.13337073079619938, 0.4347885823956099, 0.12270107233250342, 0.30675268083125856, 0.994542475107662, 0.038430720400880705, 0.07686144080176141, 0.06588123497293835, 0.06039113205852683, 0.15372288160352282, 0.6039113205852683, 0.002484770484136664, 0.13417760614337987, 0.4870150148907862, 0.37271557262049965, 0.06955643841887395, 0.054099452103568625, 0.2704972605178431, 0.6105509594545602, 0.04740610786166128, 0.35657637652466967, 0.000515283781105014, 0.2323929852783613, 0.03503929711514095, 0.3272052010016839, 0.0015458513433150418, 0.989668256132146, 0.6887373237521452, 0.3026270058910941, 0.9946966635664901, 0.7170400886451704, 0.24352304897383148, 0.040587174828971916, 0.2774083149762241, 0.28839996519226313, 0.0005234119150494794, 0.18214734643721883, 0.12509544769682557, 0.12614227152692453, 0.16490678967124797, 0.009485788786399219, 0.17658160663912392, 0.06348181726282555, 0.459695918110116, 0.004378056362953486, 0.12112622604171311, 0.05878733833089734, 0.42534368321766897, 0.35964018743607784, 0.15388450327793715, 0.9965733216902656, 0.4587778471449919, 0.5397386436999905, 0.2789469997005893, 0.0053132761847731295, 0.5764904660478846, 0.11157879988023572, 0.023909742831479085, 0.0669555057790367, 0.1339110115580734, 0.00590783874520912, 0.6478929823912669, 0.05513982828861846, 0.07680190368771857, 0.013784957072154614, 0.833966784575397, 0.16094095842683098, 0.3716903156130179, 0.6140970431867252, 0.6664061912333198, 0.1470013657132323, 0.18620172990342757, 0.991011913280861, 0.7639362826088418, 0.06790544734300816, 0.1697636183575204, 0.05737776397032797, 0.669407246320493, 0.19125921323442654, 0.07650368529377062, 0.757234579350679, 0.2271703738052037, 0.02010333814007001, 0.18093004326063009, 0.7136685039724853, 0.08041335256028004, 0.655348826083218, 0.18781688530167598, 0.0034461813816821277, 0.14531398159426306, 0.007466726326977944, 0.833314779463991, 0.164605388536097, 0.39057897136388947, 0.6036220466532838, 0.9169423666789845, 0.08271387328289809, 0.31013832182914386, 0.6793506097209817, 0.21508899248823232, 0.10037486316117508, 0.6739455097964613, 0.16815690050398588, 0.7161505644993281, 0.0929808743963216, 0.02176148124169229, 0.02901543409077733, 0.04513511969676474, 0.5851445874973428, 0.0016119685605987405, 0.261138906816996, 0.07737449090873955, 0.25340255653779764, 0.6804327907033456, 0.06569695910239198, 0.3813421831049145, 0.6119211775404443, 0.8744989994646538, 0.12492842849495055, 0.9882137816906761, 0.29885833729621647, 0.6973361203578384, 0.3927446188152871, 0.011221274823293917, 0.5947275656345776, 0.9887810263580534, 0.11658725034958095, 0.1300396253899172, 0.37890856363613806, 0.1076190003226901, 0.11210312533613552, 0.011210312533613553, 0.14124993792353077, 0.07891507736239937, 0.03945753868119969, 0.8680658509863931, 0.3435172789339182, 0.06391019142956618, 0.038802616225093754, 0.27390082041242647, 0.009130027347080882, 0.27047706015727113, 0.13759937777226672, 0.8649103745685337, 0.7792810654300112, 0.20564361448847518, 0.9910164166756681, 0.7831986987836933, 0.09551203643703576, 0.11461444372444292, 0.8200719528790804, 0.16679429550082991, 0.01389952462506916, 0.15858662976604412, 0.05074772152513412, 0.7104681013518777, 0.07612158228770118, 0.9911895130916948, 0.020026829390106003, 0.9612878107250882, 0.004866170219148965, 0.9926987247063889, 0.3455239466850317, 0.040714605182631126, 0.17441256544451442, 0.10288690769124352, 0.12159361818056051, 0.09408374981391787, 0.12049322344589482, 0.8589620986990484, 0.1389497512601402, 0.9923684176679857, 0.9964440583116639, 0.7281825701164784, 0.2688674105045459, 0.21469928145902922, 0.04682741529764835, 0.1917273418790508, 0.002650608413074435, 0.44618574953419654, 0.04947802371072278, 0.04859448757303131, 0.24450082016761404, 0.12944161067697213, 0.6184432510122002, 0.9880798106753774, 0.18309940894260301, 0.07614610340152697, 0.1865870167319859, 0.0005812679648971524, 0.4260694182696127, 0.10114062589210451, 0.027319594350166163, 0.20742578556013058, 0.02883606131034526, 0.29199541074761376, 0.2730944629979757, 0.04095205345754915, 0.13715303110634802, 0.020597186650246613, 0.9899308406746838, 0.689744624658752, 0.07919290134970855, 0.1583858026994171, 0.06131063330300017, 0.010218438883833362, 0.0025546097209583406, 0.20894219445019954, 0.7347417826820204, 0.05510563370115153, 0.1870694198380504, 0.23244764544232996, 0.04537822560427955, 0.24726502523148247, 0.18614333360122837, 0.10186948605042348, 0.44363994792466493, 0.4816662291753505, 0.06971484895959021, 0.006337713541780928, 0.012946202668873585, 0.0841503173476783, 0.8997610854867142, 0.754430045881701, 0.17001240470573545, 0.06906753941170503, 0.39056212477723595, 0.5997918344793267, 0.9866701549872775, 0.011341036264221581, 0.23830818084155292, 0.7149245425246588, 0.04433640573796333, 0.23086774352512876, 0.7658051980345735, 0.16147139496984678, 0.09741662671734556, 0.16147139496984678, 0.4964244539568843, 0.006672371692968875, 0.07606503729984516, 0.6590545450521572, 0.3371906974685456, 0.2350398424924774, 0.08241656814671286, 0.5433388566709217, 0.12515108496352692, 0.009157396460745872, 0.02181907898201809, 0.23516118458397275, 0.05333552640048867, 0.6836644747699002, 0.0024243421091131212, 0.25378655553105056, 0.046143010096554644, 0.6921451514483197, 0.6712696222915551, 0.03678189711186603, 0.03218415997288278, 0.23448459408814593, 0.02298868569491627, 0.2301074648401675, 0.762987909733187, 0.13527868556800618, 0.20542318919586122, 0.6513418194015113, 0.9905540710766619, 0.34565523597373593, 0.5713309685516297, 0.008569964528274444, 0.07712968075447, 0.34400654805741737, 0.21966023211946556, 0.11777294240819226, 0.036701335541157586, 0.20980017182482621, 0.048204739218236835, 0.024102369609118417, 0.9926552207015741, 0.879550015415642, 0.11349032456976027, 0.750038052779817, 0.012500634212996952, 0.22501141583394513, 0.7901572284324523, 0.07076034881484648, 0.13562400189512241, 0.2666990297899625, 0.579964556844839, 0.14816612766109027, 0.977432286324007, 0.007957884344314794, 0.9867776586950344, 0.004066673536002142, 0.9963350163205247, 0.35544263672377613, 0.639796746102797, 0.15634995485649994, 0.1488331301037836, 0.07967834237879325, 0.15334322495541342, 0.17890042911464898, 0.28112924575159126, 0.06223681652218315, 0.5940787031662937, 0.04526313928886048, 0.2093420192109797, 0.05092103169996803, 0.03394735446664536, 0.7979625237355165, 0.18489375549969284, 0.009731250289457517, 0.7171490649156509, 0.07355375024775906, 0.18388437561939766, 0.7860323885732052, 0.04176983707393844, 0.17087660621156636, 0.059131098063930514, 0.24440853866424614, 0.5716006146179949, 0.1261463425363851, 0.15281299156001665, 0.054426544939184016, 0.014653300560549544, 0.5903186797249959, 0.18839957863563697, 0.6711604794868596, 0.3213002295415817, 0.007140005100924039, 0.8784574336409654, 0.11712765781879539, 0.006879410807293084, 0.03267720133464215, 0.3577293619792404, 0.005159558105469813, 0.5950690348308517, 0.003439705403646542, 0.18273749377806336, 0.5980499796372983, 0.19934999321243277, 0.23548247926221214, 0.6112523929785081, 0.1503079654865184, 0.22182424808262083, 0.7678531664398413, 0.25663004816022356, 0.36480259753008526, 0.22604332730391785, 0.15293360428152858, 0.4811369251824292, 0.052200437278893105, 0.05906891586822114, 0.08894679773179812, 0.20193327052624438, 0.06731109017541478, 0.04979646977262829, 0.9945874081507371, 0.005683356618004212, 0.9964250110819566, 0.3523072232058998, 0.22491041481448068, 0.09908640652665933, 0.24692961626484944, 0.014155200932379904, 0.061339204040312914, 0.0015728001035977671, 0.16824380517380083, 0.009346878065211157, 0.08723752860863747, 0.7321721151082073, 0.7033823763710432, 0.27869867743003596, 0.9961233795810778, 0.9943830382569624, 0.14499628104281037, 0.03624907026070259, 0.737064428634286, 0.08458116394163938, 0.7094888040511452, 0.14876378149459496, 0.09154694245821228, 0.03433010342182961, 0.11333033657774054, 0.10666384619081462, 0.022221634623086378, 0.04222110578386412, 0.3688791347432339, 0.34887966358245615, 0.8202393900473121, 0.17468061084340905, 0.38866188001516455, 0.6024259140235051, 0.7121189287562831, 0.20346255107322375, 0.08901486609453539, 0.7778636023482829, 0.1430553751445118, 0.0715276875722559, 0.9938735741867917, 0.7749215497843965, 0.11300939267689117, 0.11300939267689117, 0.9453508215786005, 0.04170665389317355, 0.8868422499956617, 0.1036568863631293, 0.14347426517520384, 0.06289282856995236, 0.047169621427464274, 0.12578565713990472, 0.14150886428239282, 0.4540076062393436, 0.027515612499354157, 0.3884337523886871, 0.1683212927017644, 0.027190362667208097, 0.29262009346614426, 0.1230040215897509, 0.24684819459453433, 0.09098408815137354, 0.13761660129859563, 0.16372067115818192, 0.22758693916416, 0.08388783615070931, 0.049420326433197326, 0.9793362955842279, 0.8331000624766459, 0.015427778934752702, 0.1388500104127743, 0.2372960458234485, 0.007386647340807735, 0.10895304827691409, 0.08032978983128411, 0.20497946370741463, 0.05632318597365898, 0.30562253372592, 0.06094706574287774, 0.05625882991650252, 0.7594942038727841, 0.12189413148575548, 0.9882247003737963, 0.07993995340416579, 0.10806697404637228, 0.10510623503140316, 0.14581639648722833, 0.3271616611540859, 0.22427598038390958, 0.009622401798649587, 0.9789820717980158, 0.01720258869738173, 0.8687307292177773, 0.10321553218429037, 0.05145831004720229, 0.2921504054292775, 0.008299727426968112, 0.23737220441128798, 0.10623651106519182, 0.2954702964000647, 0.008299727426968112, 0.311839842625549, 0.0020928848498358993, 0.09417981824261547, 0.4583417821140619, 0.07534385459409237, 0.05860077579540518, 0.6817680087912641, 0.298273503846178, 0.6830517374341755, 0.29784232736955324, 0.01588492412637617, 0.24869554261139667, 0.07078257751247444, 0.15686949610872714, 0.45147806197145857, 0.07078257751247444, 0.9946269454675758, 0.9908855619123624, 0.42953729374613153, 0.09834143304187748, 0.030519755081961978, 0.3831924804735226, 0.0226072259866385, 0.035041200279289676, 0.03430418937625402, 0.9646011346037142, 0.020654152406461606, 0.9766463495055416, 0.2505206223246962, 0.7515618669740886, 0.26821387348588144, 0.09762196130552302, 0.004930402086137526, 0.10255236339166054, 0.4279589010767373, 0.09762196130552302, 0.4052503508183914, 0.0189590807400417, 0.09084559521269982, 0.11296452274274847, 0.16747187987036838, 0.06477685919514248, 0.1390332587603058, 0.9301868511456749, 0.06786771016942693, 0.6858376425520989, 0.28281964641323665, 0.02121147348099275, 0.05121110033101562, 0.40968880264812496, 0.2471492233366406, 0.28945404534921876, 0.05469623727955697, 0.8751397964729115, 0.05469623727955697, 0.9951165064405013, 0.10309748692085953, 0.06953086327220759, 0.25414729333979325, 0.08391655912162986, 0.4867160429054532, 0.8341688504156546, 0.13144478855034555, 0.030333412742387437, 0.11314271795459867, 0.8146275692731104, 0.06788563077275919, 0.9904709220440244, 0.1398499138169442, 0.8498571685798917, 0.09039194484913338, 0.8336146024975634, 0.06026129656608892, 0.010043549427681486, 0.9906568025458091, 0.11010694677214249, 0.886360921515747, 0.8156225539618747, 0.11763786835988578, 0.054897671901280025, 0.007842524557325719, 0.7312906652739843, 0.270477369347912, 0.10032589270174988, 0.5788919326009015, 0.32058158817340765, 0.9773144954317802, 0.0037296920571695106, 0.9920980872070899, 0.20899627940170326, 0.05015910705640878, 0.06269888382051098, 0.08986840014273241, 0.5830996195307521, 0.0020899627940170326, 0.1893627407594052, 0.04508636684747743, 0.1352591005424323, 0.04959500353222517, 0.5816141323324588, 0.9902920241604938, 0.9923036938092461, 0.3444302609733676, 0.6458067393250642, 0.22498790920436532, 0.10799419641809535, 0.6659642112449213, 0.2335469002382868, 0.0005508181609393557, 0.21702235541010614, 0.41972343863578904, 0.05012445264548137, 0.031396635173543276, 0.04792118000172394, 0.11412580496493266, 0.8702092628576115, 0.21676607509714638, 0.767018419574518, 0.2521136899103195, 0.7440428409548454, 0.2612234033874582, 0.7292486677899875, 0.8794069407444699, 0.09593530262666944, 0.09189631724828859, 0.9005839090332282, 0.9940121505809887, 0.12068886942704984, 0.036434375676090515, 0.8425449375095933, 0.0053345297471503695, 0.5974673316808414, 0.16537042216166145, 0.06401435696580443, 0.16537042216166145, 0.056859853020661356, 0.7107481627582669, 0.21322444882748007, 0.29146217505930205, 0.017936133849803203, 0.22420167312254005, 0.049324368086958816, 0.4170151120079245, 0.05216494019076846, 0.06520617523846058, 0.8737627481953718, 0.2908494604979292, 0.7022950387632925, 0.4601791669876136, 0.0065273640707462915, 0.5287164897304496, 0.9902275858160722, 0.9982382536374887, 0.004914225780816371, 0.9867765367879273, 0.007862761249306193, 0.2233304132765896, 0.008121105937330531, 0.5887801804564635, 0.17866433062127168, 0.2792842752797654, 0.13188424110433367, 0.5740843436306289, 0.0077578965355490385, 0.7245632828777303, 0.2760241077629449, 0.02879973372887817, 0.18239831361622844, 0.3071971597747005, 0.3087971449818604, 0.08479921597947462, 0.08799918639379442, 0.9322657687412369, 0.06156472057725149, 0.7766854838411615, 0.2161908047805295, 0.011116585878558611, 0.19478191778517914, 0.00048332982080689615, 0.7936275657649234, 0.0054887476980540984, 0.9385758563672508, 0.054887476980540986, 0.3186199029796623, 0.1075467811319365, 0.25027241590516064, 0.040204404161471585, 0.17689937831047498, 0.1065416710278997, 0.1322275681121008, 0.859479192728655, 0.7963405092490182, 0.02568840352416188, 0.11559781585872846, 0.05779890792936423, 0.9961867766634036, 0.3688618277032356, 0.0003463491339936485, 0.19984345031433517, 0.24036629899159204, 0.09489966271425969, 0.08831902916838036, 0.007273331813866618, 0.8056805872881938, 0.061164233066381204, 0.10334646276733377, 0.02952756079066679, 0.8457631585453889, 0.07831140356901749, 0.062649122855214, 0.870999309493416, 0.12442847278477372, 0.2471601715699212, 0.09415625583616047, 0.6473242588736032, 0.9896717382756172, 0.1972173239703836, 0.8022399619134248, 0.0018211224166549082, 0.34054989191446783, 0.2932007090814402, 0.0036422448333098163, 0.22946142449851842, 0.014568979333239265, 0.11655183466591412, 0.38238736748618823, 0.6092985525878823, 0.24476658363254883, 0.08941245064202696, 0.06817699361454556, 0.1084125964034577, 0.3922971271918933, 0.017882490128405395, 0.0782358943117736, 0.9086757912551516, 0.08154782742033412, 0.15574263042305822, 0.31148526084611644, 0.01661254724512621, 0.3322509449025242, 0.060220483763582515, 0.12044096752716503, 0.27228726930974056, 0.12995528762510344, 0.5940813148576158, 0.9799711075960005, 0.014621224496765187, 0.32166693892883413, 0.6433338778576683, 0.9913718281452073, 0.29803219618982263, 0.035265990732438406, 0.30218113627599186, 0.08597525845228449, 0.10026605208242292, 0.0437943675762307, 0.13461005612904595, 0.9263618002598045, 0.07125860001998496, 0.757447573211041, 0.1356622519183954, 0.10174668893879656, 0.7736477210119516, 0.22722520477274102, 0.9858907776013363, 0.30014750384842137, 0.17203576440092444, 0.5234279640283446, 0.1365681758077396, 0.8535510987983727, 0.318631216670264, 0.035032751571076146, 0.10509825471322844, 0.46543512801572595, 0.07507018193802031, 0.7770014971924126, 0.03700007129487679, 0.18500035647438398, 0.7729045801027532, 0.14622519083025062, 0.07659414757775032, 0.3689920805909704, 0.13350467237462246, 0.007416926243034581, 0.07231503086958717, 0.057481178383518, 0.23548740821634795, 0.12608774613158788, 0.17201661758555242, 0.27787299763820006, 0.012129376881032543, 0.04410682502193652, 0.2668462913827159, 0.14665519319793893, 0.07939228503948574, 0.8085444954369899, 0.19464960075334944, 0.4597282827059338, 0.07839841110264902, 0.18502025020225166, 0.18690181206871526, 0.06710903990386756, 0.0075262474658543055, 0.015052494931708611, 0.9778119084390531, 0.8209286946417635, 0.18060431282118797, 0.037941701724631204, 0.9401110538436398, 0.016862978544280535, 0.28154004750042005, 0.23095082021518834, 0.3673217807232043, 0.10117845457046347, 0.017596252968776253, 0.13256717532070356, 0.596552288943166, 0.2651343506414071, 0.42035586335184033, 0.0901877093605656, 0.1291962341704988, 0.038696456611453746, 0.2630734913181896, 0.0037448183817535884, 0.05492400293238597, 0.2049709504968545, 0.02196117326752012, 0.6295536336689102, 0.12078645297136067, 0.018300977722933435, 0.11364656649458035, 0.5562700359997881, 0.32299550477407046, 0.15851829458116032, 0.4197385828346217, 0.3862488022893061, 0.035722432581669926, 0.66353261537591, 0.06071540271413555, 0.07806266063246, 0.1994934660607311, 0.02229954618884014, 0.8919818475536057, 0.08176500269241385, 0.9480283284616493, 0.04309219674825679, 0.7663609318902435, 0.22352193846798768, 0.007982926373856702, 0.27370999749848357, 0.42518057863842107, 0.11160990189258553, 0.09035087296066448, 0.09832300881013488, 0.14956791395890434, 0.8475515124337913, 0.2501114771258035, 0.4794954837715681, 0.07876438782414807, 0.03592761549873421, 0.15614694428296022, 0.27100222924632245, 0.06022271761029388, 0.6624498937132327, 0.006691413067810431, 0.11786006549025337, 0.8643071469285247, 0.20889381418440636, 0.012789417194963655, 0.2771040392242125, 0.11297318522217896, 0.3858140853814036, 0.0021315695324939424], \"Term\": [\"air\", \"air\", \"air\", \"allspice\", \"allspice\", \"almond\", \"almond\", \"almond\", \"almond\", \"almond\", \"almond\", \"almond\", \"apple\", \"apple\", \"apple\", \"apple\", \"apple\", \"apple\", \"apple\", \"apricot\", \"apricot\", \"apricot\", \"apricot\", \"apricot\", \"apricot\", \"aroma\", \"aroma\", \"aroma\", \"aroma\", \"ash\", \"ash\", \"backdrop\", \"backdrop\", \"background\", \"background\", \"background\", \"background\", \"background\", \"background\", \"baked\", \"baked\", \"baked\", \"baking_spice\", \"baking_spice\", \"baking_spice\", \"bar\", \"bar\", \"bar\", \"barley\", \"barley\", \"barley\", \"barley\", \"barley\", \"barley\", \"barley\", \"basil\", \"bbq\", \"bbq\", \"bbq\", \"bean\", \"berry\", \"berry\", \"berry\", \"berry\", \"big\", \"big\", \"big\", \"big\", \"big\", \"biscuit\", \"biscuit\", \"biscuit\", \"biscuit\", \"biscuit\", \"biscuit\", \"bittersweet\", \"bittersweet\", \"bittersweet\", \"black\", \"black\", \"black\", \"black\", \"black_pepper\", \"black_pepper\", \"black_pepper\", \"black_pepper\", \"black_pepper\", \"black_pepper\", \"black_pepper\", \"black_tea\", \"black_tea\", \"black_tea\", \"blackcurrant\", \"blackcurrant\", \"blackcurrant\", \"blackcurrant\", \"blossom\", \"blossom\", \"blossom\", \"blossom\", \"blossom\", \"body\", \"body\", \"body\", \"bonfire\", \"bonfire_ember\", \"bonfire_ember\", \"brandy_butter\", \"brandy_butter\", \"brine\", \"brown_bread\", \"brown_bread\", \"brown_sugar\", \"brown_sugar\", \"brown_sugar\", \"brown_sugar\", \"brown_sugar\", \"brown_sugar\", \"brown_sugar\", \"bun\", \"butter\", \"butter\", \"butter\", \"butter\", \"butter\", \"butter\", \"butter\", \"buttered\", \"buttered\", \"buttered\", \"buttered\", \"buttered_toast\", \"buttered_toast\", \"buttered_toast\", \"butterscotch\", \"butterscotch\", \"butterscotch\", \"butterscotch\", \"butterscotch\", \"cake\", \"cake\", \"cake\", \"cake\", \"cake\", \"cake\", \"caramel\", \"caramel\", \"caramel\", \"caramel\", \"caramel\", \"caramel\", \"caramel\", \"caraway\", \"caraway\", \"caraway\", \"cask\", \"cask\", \"cassia\", \"cedar\", \"cedar\", \"cedar\", \"cedar\", \"character\", \"charred\", \"charred\", \"charred\", \"charred\", \"charred\", \"charred\", \"cherry\", \"cherry\", \"cherry\", \"cherry\", \"chilli\", \"chilli\", \"chilli\", \"chilli\", \"chocolate\", \"chocolate\", \"chocolate\", \"chocolate\", \"chocolate\", \"chocolate\", \"chocolate\", \"chocolate_chip\", \"christmas\", \"christmas\", \"christmas_cake\", \"cider\", \"cider\", \"cider\", \"cinnamon\", \"cinnamon\", \"cinnamon\", \"cinnamon\", \"cinnamon\", \"cinnamon\", \"citrus\", \"citrus\", \"citrus\", \"citrus\", \"citrus\", \"citrus\", \"citrus\", \"clove\", \"clove\", \"clove\", \"clove\", \"coastal\", \"coastal_air\", \"coastal_air\", \"cocoa\", \"cocoa\", \"cocoa\", \"cocoa\", \"cocoa\", \"coffee\", \"coffee\", \"coffee\", \"coffee\", \"coffee\", \"coffee\", \"coffee\", \"complex\", \"complex\", \"compote\", \"compote\", \"cooked\", \"cooked\", \"cooked\", \"cookie\", \"cooking_spice\", \"cooking_spice\", \"cooking_spice\", \"coriander\", \"coriander\", \"coriander\", \"coriander\", \"cracker\", \"cracker\", \"cranberry\", \"cranberry\", \"cranberry\", \"cranberry\", \"cream\", \"cream\", \"cream\", \"cream\", \"cream\", \"crumble\", \"crumble\", \"crunchy_brown\", \"crunchy_brown\", \"custard\", \"custard\", \"cut_grass\", \"cut_grass\", \"damson\", \"damson\", \"damson\", \"dark\", \"dark\", \"dark\", \"dark\", \"dark_chocolate\", \"dark_chocolate\", \"dark_chocolate\", \"dark_chocolate\", \"dark_chocolate\", \"dark_chocolate\", \"date\", \"date\", \"date\", \"deep\", \"deep\", \"delicate\", \"delicate\", \"demerara_sugar\", \"dense\", \"dense\", \"digestive\", \"digestive\", \"digestive\", \"dram\", \"dry\", \"dry\", \"dry\", \"dry\", \"dry\", \"dry\", \"dry\", \"dusting\", \"dusting\", \"dusting\", \"earth\", \"earth\", \"earth\", \"earth\", \"earth\", \"earth\", \"earthy_peat\", \"earthy_peat\", \"elegant\", \"elegant\", \"ember\", \"enjoyably\", \"enjoyably\", \"enjoyably\", \"entry\", \"entry\", \"entry\", \"espresso\", \"espresso\", \"espresso\", \"espresso\", \"faint\", \"fairly\", \"fairly\", \"fig\", \"fig\", \"finish\", \"finish\", \"finish\", \"finish\", \"finish\", \"finish\", \"finish\", \"fizz\", \"fizz\", \"flake\", \"flavour\", \"flint\", \"flint\", \"floral\", \"floral\", \"floral\", \"floral\", \"floral\", \"floral\", \"floral\", \"forest\", \"forest\", \"forest\", \"forward\", \"fresh\", \"fresh\", \"fresh\", \"fresh\", \"fresh\", \"fresh\", \"fresh\", \"fruit\", \"fruit\", \"fruit\", \"fruit\", \"fruit\", \"fruit\", \"fruit\", \"fruitcake\", \"fudge\", \"fudge\", \"fudge\", \"fudge\", \"fudge\", \"fudge\", \"gentle\", \"gentle\", \"gentle\", \"ginger\", \"ginger\", \"ginger\", \"ginger\", \"ginger\", \"ginger\", \"gingerbread\", \"gingerbread\", \"gingerbread\", \"gingerbread\", \"golden\", \"golden\", \"golden\", \"good_length\", \"good_length\", \"good_length\", \"gooseberry\", \"gooseberry\", \"granary_toast\", \"granary_toast\", \"grape\", \"grape\", \"grape\", \"grapefruit\", \"grapefruit\", \"grass\", \"grass\", \"grass\", \"grass\", \"grass\", \"grass\", \"great\", \"great\", \"green\", \"green\", \"green\", \"green\", \"green\", \"green_apple\", \"green_apple\", \"green_apple\", \"green_apple\", \"green_apple\", \"greengage\", \"greengage\", \"greengage\", \"grist\", \"grist\", \"grist\", \"grist\", \"grist\", \"hand\", \"hand\", \"heather\", \"heather\", \"heather\", \"helping\", \"herbal\", \"herbal\", \"herbal\", \"herbal\", \"honey\", \"honey\", \"honey\", \"honey\", \"honey\", \"honey\", \"honey\", \"hot_cross\", \"huge\", \"huge\", \"influence\", \"influence\", \"influence\", \"initially\", \"initially\", \"initially\", \"intense\", \"intense\", \"intense\", \"interesting\", \"iodine\", \"iodine\", \"jam\", \"jam\", \"jammy\", \"jammy\", \"juicy\", \"juicy\", \"juicy\", \"juicy\", \"juicy\", \"juicy\", \"kick\", \"kick\", \"kick\", \"kick\", \"kick\", \"kick\", \"later\", \"later\", \"later\", \"latte\", \"latte\", \"latte\", \"layer\", \"layer\", \"layer\", \"leather\", \"leather\", \"leather\", \"leather\", \"lemon\", \"lemon\", \"lemon\", \"lemon\", \"lemon\", \"lemon_curd\", \"lemon_curd\", \"lemon_curd\", \"lemongrass\", \"lemongrass\", \"light\", \"light\", \"light\", \"light\", \"light\", \"light\", \"lightly\", \"lightly\", \"lightly\", \"lime\", \"lime\", \"lime\", \"liqueur\", \"liqueur\", \"long\", \"long\", \"long\", \"long\", \"malt\", \"malt\", \"malt\", \"malt\", \"malt\", \"malt\", \"malt\", \"manuka_honey\", \"manuka_honey\", \"maritime\", \"marmalade\", \"marmalade\", \"marmalade\", \"marmalade\", \"marmalade\", \"marmalade\", \"marmalade\", \"meat\", \"meat\", \"meat\", \"meat\", \"meaty_malt\", \"meaty_malt\", \"medicinal\", \"medicinal_peat\", \"mid\", \"mid\", \"mid\", \"mid\", \"milk\", \"milk\", \"milk\", \"milk\", \"milk_chocolate\", \"milk_chocolate\", \"milk_chocolate\", \"milk_chocolate\", \"milk_chocolate\", \"milk_chocolate\", \"milky_coffee\", \"milky_coffee\", \"minute\", \"minute\", \"mixed_peel\", \"mixed_peel\", \"mixed_peel\", \"molasse\", \"molasse\", \"molasse\", \"mouth\", \"mouthfeel\", \"mouthfeel\", \"mouthfeel\", \"musty\", \"musty\", \"new_leather\", \"new_leather\", \"nut\", \"nut\", \"nut\", \"nut\", \"nut\", \"nut\", \"nut\", \"nutmeg\", \"nutmeg\", \"nutmeg\", \"nutmeg\", \"nutmeg\", \"oak\", \"oak\", \"oak\", \"oak\", \"oak\", \"oak\", \"oak\", \"oat\", \"oats\", \"oats\", \"oats\", \"oil\", \"oil\", \"oil\", \"oil\", \"oil\", \"oil\", \"oil\", \"old\", \"old\", \"old\", \"old\", \"oloroso\", \"orange\", \"orange\", \"orange\", \"orange\", \"orange\", \"orange\", \"orange\", \"orange_blossom\", \"orange_oil\", \"orange_oil\", \"orange_oil\", \"orange_peel\", \"orange_peel\", \"orange_peel\", \"orange_peel\", \"orange_peel\", \"orange_peel\", \"orange_peel\", \"orchard_fruit\", \"orchard_fruit\", \"orchard_fruit\", \"orchard_fruit\", \"orchard_fruit\", \"orchard_fruit\", \"particularly\", \"particularly\", \"pastry\", \"pastry\", \"pastry\", \"peach\", \"peach\", \"peach\", \"peach\", \"peach\", \"peanut\", \"peanut_brittle\", \"pear\", \"pear\", \"pear\", \"pear\", \"pear\", \"pear\", \"peat\", \"peat\", \"peat_smoke\", \"peat_smoke\", \"pecan\", \"pecan\", \"peel\", \"peel\", \"peel\", \"peel\", \"peel\", \"peel\", \"pepper\", \"pepper\", \"pepper\", \"pepper\", \"pepper\", \"pepper\", \"pepper\", \"peppercorn\", \"peppercorn\", \"peppermint\", \"peppermint\", \"peppermint\", \"pineapple\", \"pineapple\", \"pineapple\", \"pineapple\", \"pipe_tobacco\", \"pipe_tobacco\", \"pipe_tobacco\", \"plaster\", \"plum\", \"plum\", \"plum\", \"plum\", \"plum\", \"plus\", \"plus\", \"plus\", \"popcorn\", \"popcorn\", \"popcorn\", \"porridge_oats\", \"potpourri\", \"potpourri\", \"power\", \"power\", \"power\", \"power\", \"present\", \"prune\", \"prune\", \"pudding\", \"pudding\", \"pudding\", \"pudding\", \"quince\", \"quince\", \"raisin\", \"raisin\", \"raisin\", \"rancio\", \"raspberry\", \"raspberry\", \"red\", \"red\", \"red\", \"red\", \"red\", \"red\", \"red_berry\", \"red_berry\", \"red_berry\", \"red_berry\", \"red_berry\", \"red_chilli\", \"red_grape\", \"red_wine\", \"red_wine\", \"redcurrant\", \"redcurrant\", \"redcurrant\", \"rich\", \"rich\", \"rich\", \"rich\", \"rich\", \"rich\", \"rich\", \"roasted_coffee\", \"roasted_coffee\", \"rubber\", \"rubber\", \"rum\", \"rum\", \"rum_raisin\", \"rum_raisin\", \"runny_honey\", \"runny_honey\", \"rye\", \"rye\", \"rye_bread\", \"salt\", \"salt\", \"salt\", \"salted_butter\", \"salted_butter\", \"salted_butter\", \"salted_butter\", \"salted_butter\", \"sandalwood\", \"sandalwood\", \"sandalwood\", \"savoury\", \"savoury\", \"savoury\", \"savoury\", \"savoury\", \"sea_air\", \"sea_air\", \"sea_air\", \"sea_breeze\", \"sea_breeze\", \"sea_salt\", \"sea_salt\", \"sea_salt\", \"sea_spray\", \"seaweed\", \"sherry\", \"sherry\", \"sherry\", \"shortbread\", \"shortbread\", \"shortbread\", \"shortbread\", \"skin\", \"skin\", \"skin\", \"skin\", \"slice\", \"slice\", \"slightly\", \"slightly\", \"slightly\", \"slightly\", \"slightly\", \"slightly\", \"slowly\", \"slowly\", \"smidge\", \"smidge\", \"smoke\", \"smoke\", \"smoke\", \"smoke\", \"smooth\", \"smooth\", \"smooth\", \"soft\", \"soft\", \"soft\", \"soft\", \"soft\", \"soft\", \"softly\", \"softly\", \"soon\", \"soon\", \"soon\", \"soon\", \"soot\", \"spice\", \"spice\", \"spice\", \"spice\", \"spice\", \"spice\", \"spice\", \"spiced\", \"spiced\", \"spiced\", \"spiced\", \"sprinkle\", \"sprinkle\", \"sprinkle\", \"star_anise\", \"star_anise\", \"stewed\", \"stewed\", \"stewed\", \"sticky_toffee\", \"strawberry\", \"strawberry\", \"subtle\", \"subtle\", \"subtle\", \"subtle\", \"subtle\", \"subtle\", \"subtle\", \"subtly\", \"subtly\", \"sugar\", \"sugar\", \"sugar\", \"sugar\", \"sugar\", \"sugar\", \"sugar\", \"suggestion\", \"suggestion\", \"sultana\", \"sultana\", \"sultana\", \"sultana\", \"sultana\", \"sultana\", \"sultanas\", \"sultanas\", \"sultanas\", \"summer\", \"summer_berry\", \"summer_berry\", \"summer_berry\", \"supple\", \"sweet\", \"sweet\", \"sweet\", \"sweet\", \"sweet\", \"sweet\", \"sweet\", \"sweetie\", \"sweetie\", \"tail\", \"tail\", \"tail\", \"tannin\", \"tannin\", \"tar\", \"tart\", \"tart\", \"tart\", \"texture\", \"texture\", \"thick\", \"thick\", \"thick\", \"thick\", \"thick\", \"thyme\", \"thyme\", \"thyme\", \"time\", \"time\", \"time\", \"toast\", \"toast\", \"toast\", \"toast\", \"toast\", \"toast\", \"toast\", \"toasted\", \"toasted\", \"toasted\", \"toasted\", \"toasted\", \"toasted\", \"toasted\", \"toasted_teacake\", \"toasted_teacake\", \"toffee\", \"toffee\", \"toffee\", \"toffee\", \"toffee\", \"toffee\", \"toffee\", \"tone\", \"tow\", \"tow\", \"treacle\", \"treacle\", \"treacle\", \"tropical_fruit\", \"tropical_fruit\", \"tropical_fruit\", \"tropical_fruit\", \"tropical_fruit\", \"turkish_delight\", \"turkish_delight\", \"turkish_delight\", \"vanilla\", \"vanilla\", \"vanilla\", \"vanilla\", \"vanilla\", \"vanilla\", \"vanilla\", \"vanilla_pod\", \"vanilla_pod\", \"vanilla_pod\", \"vanilla_pod\", \"vanilla_pod\", \"vegetal\", \"vegetal\", \"vegetal\", \"walnut\", \"walnut\", \"walnut\", \"walnut\", \"warmth\", \"warmth\", \"warmth\", \"warmth\", \"water\", \"water\", \"water\", \"waxy_orange\", \"waxy_orange\", \"whisky\", \"whisky\", \"whisky\", \"white\", \"white\", \"white\", \"white\", \"white\", \"white_grape\", \"white_grape\", \"wood\", \"wood\", \"wood\", \"wood\", \"wood\", \"y\", \"y\", \"y\", \"y\", \"yellow_plum\", \"yellow_plum\", \"zest\", \"zest\", \"zest\", \"zest\", \"zest\", \"zest\"]}, \"R\": 30, \"lambda.step\": 0.01, \"plot.opts\": {\"xlab\": \"PC1\", \"ylab\": \"PC2\"}, \"topic.order\": [1, 2, 3, 4, 5, 6, 7]};\n",
       "\n",
       "function LDAvis_load_lib(url, callback){\n",
       "  var s = document.createElement('script');\n",
       "  s.src = url;\n",
       "  s.async = true;\n",
       "  s.onreadystatechange = s.onload = callback;\n",
       "  s.onerror = function(){console.warn(\"failed to load library \" + url);};\n",
       "  document.getElementsByTagName(\"head\")[0].appendChild(s);\n",
       "}\n",
       "\n",
       "if(typeof(LDAvis) !== \"undefined\"){\n",
       "   // already loaded: just create the visualization\n",
       "   !function(LDAvis){\n",
       "       new LDAvis(\"#\" + \"ldavis_el444421704206344489685500765\", ldavis_el444421704206344489685500765_data);\n",
       "   }(LDAvis);\n",
       "}else if(typeof define === \"function\" && define.amd){\n",
       "   // require.js is available: use it to load d3/LDAvis\n",
       "   require.config({paths: {d3: \"https://d3js.org/d3.v5\"}});\n",
       "   require([\"d3\"], function(d3){\n",
       "      window.d3 = d3;\n",
       "      LDAvis_load_lib(\"https://cdn.jsdelivr.net/gh/bmabey/pyLDAvis@3.3.1/pyLDAvis/js/ldavis.v3.0.0.js\", function(){\n",
       "        new LDAvis(\"#\" + \"ldavis_el444421704206344489685500765\", ldavis_el444421704206344489685500765_data);\n",
       "      });\n",
       "    });\n",
       "}else{\n",
       "    // require.js not available: dynamically load d3 & LDAvis\n",
       "    LDAvis_load_lib(\"https://d3js.org/d3.v5.js\", function(){\n",
       "         LDAvis_load_lib(\"https://cdn.jsdelivr.net/gh/bmabey/pyLDAvis@3.3.1/pyLDAvis/js/ldavis.v3.0.0.js\", function(){\n",
       "                 new LDAvis(\"#\" + \"ldavis_el444421704206344489685500765\", ldavis_el444421704206344489685500765_data);\n",
       "            })\n",
       "         });\n",
       "}\n",
       "</script>"
      ],
      "text/plain": [
       "<IPython.core.display.HTML object>"
      ]
     },
     "execution_count": 226,
     "metadata": {},
     "output_type": "execute_result"
    }
   ],
   "source": [
    "vis = pyLDAvis.gensim_models.prepare(scotch_topic_model, corpus, reduced_gensim_dict, sort_topics = False)\n",
    "pyLDAvis.display(vis)"
   ]
  },
  {
   "cell_type": "markdown",
   "metadata": {},
   "source": [
    "Let's look at this visualization at different values of relevance. At values of lambda = 1, we see that a common descriptor set tends to pile up at the highest saliency in all the topics. \"Vanilla\", \"sweet\", \"oak\", \"fruit\", \"malt\", \"barley\", \"apple\", etc. are examples of such ultra-common descriptors tht seem to be a unifying descriptor set for Scotch. We saw these same descriptors as the most frequent across Scotch regions during EDA. It's not too surprising that these words appear prelevantly in many of the descriptor topic groupings.\n",
    "\n",
    "But restricting lambda to middle-range values (~0.4-0.6), we see that each topic has real differences and in ways that actually make some sense in terms of tastes.\n",
    "\n",
    "Number in brackets are the index of each topic in the gensim model.\n",
    "\n",
    "1. Topic 1 [0]: Custard, creamy, sticky toffee, pastry, etc along with a lot of common descriptors prominent here.\n",
    "2. Topic 2 [1]: Fruity but with strong wood notes and heat or cooling on the tongue: peppercorn, black pepper, red chilies, ginger, warmth, mint, menthol, cedar, oak. Cinnamon, cassia, and clove are in here too.\n",
    "3. Topic 3 [2]: Herbal, tannin, green, citrus, dry, smoke. Also many of the words that are not sense descriptors are huddled into a single topic. That's actually interesting. \n",
    "4. Topic 4 [3]: Sweetness and richness, dark sugars, with christmas spice like cinnamon, clove, etc but clearly in context.\n",
    "5. Topic 5 [4]: Lemon, citrus, green apple, fresh notes, grass, light, floral, etc.\n",
    "6. Topic 6 [5]: Berries, sweet chocolate, jam, fuit, tartness but sweet.\n",
    "7. Topic 7 [6]: All the peaty, fiery, salty, meaty notes are prominent here.\n",
    "\n",
    "\n",
    "A quick exploration of the visual shows that these topics are meaningful and overall pretty interpretable but that there are some confused descriptors that one might think would belong in a different topic. They are not as clean as one might hope. Topic 3 and Topic 5 have quite a bit of overlap. The same goes with topic 2 and 3. But the topics do line up with the kinds of thing we were seeing in Correspondence Analysis which is good. Getting better results might mean twiddling with the topic number a little, or just iterating over several random initializations at k = 7, or going back to corpus building and further tailoring the stop word list and stemming/lemmatizing. \n",
    "\n",
    "For this project, we'll stick with this model for now and see where it takes us.\n"
   ]
  },
  {
   "cell_type": "code",
   "execution_count": 8,
   "metadata": {},
   "outputs": [],
   "source": [
    "doc_lda_decomp = scotch_topic_model[corpus] # for each document (scotch) creates a list of tuples for each scotch with the topic (taste type) and its relative importance."
   ]
  },
  {
   "cell_type": "markdown",
   "metadata": {},
   "source": [
    "This gives us a numeric breakdown of each scotch across different relevant taste/smell types as represented by the topics found by LDA. This is what we wanted and was something that the descriptor-scotch joint embedding via Correspondence Analysis could not give us.\n",
    "\n",
    "Let's do a sanity check and see what we get for some well known Scotches:"
   ]
  },
  {
   "cell_type": "markdown",
   "metadata": {},
   "source": [
    "1. Ardbeg 10 Year Old\n",
    "My own experience with this whisky is that it tastes like smoked ham, peat, with some saltiness. Very fiery."
   ]
  },
  {
   "cell_type": "code",
   "execution_count": 17,
   "metadata": {},
   "outputs": [
    {
     "name": "stdout",
     "output_type": "stream",
     "text": [
      "48\n"
     ]
    },
    {
     "data": {
      "text/plain": [
       "[(0, 0.010454248), (6, 0.9521095)]"
      ]
     },
     "execution_count": 17,
     "metadata": {},
     "output_type": "execute_result"
    }
   ],
   "source": [
    "doc_num = whisk_data[whisk_data['name'] == 'Ardbeg 10 Year Old'].index[0]\n",
    "print(doc_num)\n",
    "doc_lda_decomp[doc_num]"
   ]
  },
  {
   "cell_type": "markdown",
   "metadata": {},
   "source": [
    "The topic decomposition reflects this."
   ]
  },
  {
   "cell_type": "markdown",
   "metadata": {},
   "source": [
    "2. Lagavulin 16 Year Old\n",
    "Lagavulin is a really complex whisky. My own impressions are that it's smoky and there is some peat but it's also dark fruit notes, chocolate, aromatics like cloves. It's definitely rich but also somehow dry and peppery. "
   ]
  },
  {
   "cell_type": "code",
   "execution_count": 58,
   "metadata": {},
   "outputs": [
    {
     "name": "stdout",
     "output_type": "stream",
     "text": [
      "26\n"
     ]
    },
    {
     "data": {
      "text/plain": [
       "[(2, 0.4747394), (3, 0.3080656), (6, 0.201558)]"
      ]
     },
     "execution_count": 58,
     "metadata": {},
     "output_type": "execute_result"
    }
   ],
   "source": [
    "doc_num = whisk_data[whisk_data['name'] == 'Lagavulin 16 Year Old'].index[0]\n",
    "print(doc_num)\n",
    "doc_lda_decomp[doc_num]"
   ]
  },
  {
   "cell_type": "markdown",
   "metadata": {},
   "source": [
    "2 = dry, smoky, grass, citrus notes. 3 = christmas cake, aromatic spices, dark fruit, 6 = peat, salt, smoke, meat.\n",
    "\n",
    "Not too shabby. We can see that there are different kinds of taste/smell types. There are strong flavors present here but there is a balance between these notes. That definitely is characteristic of Lagavulin."
   ]
  },
  {
   "cell_type": "markdown",
   "metadata": {},
   "source": [
    "3. Glenfarclas 15 Year Old\n",
    "One of my favorite whiskies. This tastes like liquid christmas, sweetness, cinammon, spices. There's really no peat. "
   ]
  },
  {
   "cell_type": "code",
   "execution_count": 49,
   "metadata": {},
   "outputs": [
    {
     "name": "stdout",
     "output_type": "stream",
     "text": [
      "15\n"
     ]
    },
    {
     "data": {
      "text/plain": [
       "[(2, 0.23294689), (3, 0.73226655)]"
      ]
     },
     "execution_count": 49,
     "metadata": {},
     "output_type": "execute_result"
    }
   ],
   "source": [
    "doc_num = whisk_data[whisk_data['name'] == \"Glenfarclas 15 Year Old\"].index[0]\n",
    "print(doc_num)\n",
    "doc_lda_decomp[doc_num]"
   ]
  },
  {
   "cell_type": "markdown",
   "metadata": {},
   "source": [
    "3 = christmas cake, aromatic spices, dark fruit. Really dominates the descriptors which is about right. I'm not sure why 2 = grass, dry, smoky is in there...there's not a lot of grassy citrus notes. It might be that some of the non-taste/smell words are leaking in (which are also a major component of 2)."
   ]
  },
  {
   "cell_type": "markdown",
   "metadata": {},
   "source": [
    "4. Talisker Storm\n",
    "\n",
    "One description (not the Master of Malt description in our corpus) goes like this: \n",
    "\n",
    "Nose is delicate and soft with peat, smoke and sweetness.  Sea salt and honey with a soft fruity note.  Surprisingly sweet. Medium body with notes of peat, oak and honey sweetness.  A bit of a chilli bite mixed with smoke and hints of black pepper.  Bolder than what the nose suggested.  Lovely and warming on a cold Friday afternoon. "
   ]
  },
  {
   "cell_type": "code",
   "execution_count": 130,
   "metadata": {},
   "outputs": [
    {
     "data": {
      "text/plain": [
       "[(1, 0.11187348), (2, 0.3725176), (6, 0.49300686)]"
      ]
     },
     "execution_count": 130,
     "metadata": {},
     "output_type": "execute_result"
    }
   ],
   "source": [
    "doc_num = whisk_data[whisk_data['name'] == \"Talisker Storm\"].index[0]\n",
    "doc_lda_decomp[doc_num]"
   ]
  },
  {
   "cell_type": "markdown",
   "metadata": {},
   "source": [
    "1 = Wood, red chili, ginger, pepper, hot spices. 2 = drier, light mellow fruit, grass, citrus flavors. 6 = peat, bonfire, salt, meat, coastal.\n",
    "\n",
    "This topic breakdown on flavors/nose seem right. Predominantly coastal and peaty, soft fruit note, with some chili and black pepper heat. OK this is starting to satisfy me. Let's pickle the model."
   ]
  },
  {
   "cell_type": "code",
   "execution_count": 131,
   "metadata": {},
   "outputs": [],
   "source": [
    "LDA_model_path = \"models\\\\Scotch_LDA.pkl\"\n",
    "pickle.dump(scotch_topic_model, open(LDA_model_path, 'wb'))"
   ]
  },
  {
   "cell_type": "markdown",
   "metadata": {},
   "source": [
    "Let's also construct a new dataframe with the seven topics as features. We can discard the unified_tokens or BoW representation. This can be used for higher level analytics. We can the save this:"
   ]
  },
  {
   "cell_type": "code",
   "execution_count": 212,
   "metadata": {},
   "outputs": [],
   "source": [
    "trial = [ (whisk_data.loc[doc].name, doc_lda_decomp[doc] ) for doc in whisk_data.index]"
   ]
  },
  {
   "cell_type": "code",
   "execution_count": 218,
   "metadata": {},
   "outputs": [
    {
     "data": {
      "text/plain": [
       "[(1,), ([(1, 0.35906678), (3, 0.14653125), (6, 0.4730465)],)]"
      ]
     },
     "execution_count": 218,
     "metadata": {},
     "output_type": "execute_result"
    }
   ],
   "source": [
    "list(zip(trial[1]))"
   ]
  },
  {
   "cell_type": "markdown",
   "metadata": {},
   "source": [
    "## Similarity measures: Content-based recommender systems"
   ]
  },
  {
   "cell_type": "code",
   "execution_count": 118,
   "metadata": {},
   "outputs": [],
   "source": [
    "index = MatrixSimilarity(doc_lda_decomp) \n",
    "sims = index[doc_lda_decomp[48]] "
   ]
  },
  {
   "cell_type": "code",
   "execution_count": 121,
   "metadata": {},
   "outputs": [],
   "source": [
    "# We'll reuse this index object for matrix similarity often for in-corpus recommendation. let's save this.\n",
    "pickle.dump(index, open('data\\\\final\\\\index_sim.pkl', 'wb'))"
   ]
  },
  {
   "cell_type": "markdown",
   "metadata": {},
   "source": [
    "### In-corpus recommendation"
   ]
  },
  {
   "cell_type": "code",
   "execution_count": 178,
   "metadata": {},
   "outputs": [],
   "source": [
    "def get_similar_whiskies(name, num_rec, index_sim, data):\n",
    "\n",
    "    doc_num = whisk_data[whisk_data['name'] == name].index[0]\n",
    "    sims = index_sim[doc_lda_decomp[doc_num]]\n",
    "\n",
    "    sorted_val_df = pd.Series(sims).sort_values(ascending = False).drop(index=doc_num).to_frame(name = \"similarity\")\n",
    "\n",
    "    sorted_val_df['name'] = data.iloc[sorted_val_df.index].name.values\n",
    "    \n",
    "    # drop whiskies that have the same name and age expression.\n",
    "    sorted_val_df.drop(index = sorted_val_df[sorted_val_df['name'].str.contains(name, flags=re.IGNORECASE, regex=True)].index, inplace = True)\n",
    "\n",
    "    # \"Glenmorangie The Quinta Ruban 14 Year Old\"\n",
    "\n",
    "    return sorted_val_df.name[0: num_rec]\n",
    "    "
   ]
  },
  {
   "cell_type": "code",
   "execution_count": 179,
   "metadata": {},
   "outputs": [
    {
     "data": {
      "text/plain": [
       "5454                        Kilchoman Sherry Cask Release\n",
       "5260    Benriach 13 Year Old Madeira Finish - Maderens...\n",
       "4007    Caol Ila 34 Year Old 1982 - Small Batch (WM Ca...\n",
       "5992                        Kilchoman Spring 2010 Release\n",
       "5266    Benriach Arumaticus 12 Year Old (Dark Rum Finish)\n",
       "3520                  Glen Grant 1952 (Gordon & MacPhail)\n",
       "4451    Caol Ila 2001 (bottled 2013) Moscatel Cask Fin...\n",
       "6454    Bunnahabhain 10 Year Old 2003 (cask 1153) - Ar...\n",
       "5                                Bunnahabhain 12 Year Old\n",
       "3227                                        Ardbeg Kelpie\n",
       "4666    Dailuaine 15 Year Old 1997 - Single Cask (Mast...\n",
       "7098                  Lp8 - Elements of Islay (Laphroaig)\n",
       "2027               Ardbeg Kelpie - Committee Release 2017\n",
       "5812                                    Ardbegg Eggeadail\n",
       "4029    Port Ellen 32 Year Old 1983 - 15th Release (20...\n",
       "Name: name, dtype: object"
      ]
     },
     "execution_count": 179,
     "metadata": {},
     "output_type": "execute_result"
    }
   ],
   "source": [
    "get_similar_whiskies(\"Lagavulin 16 Year Old\", 15, index, whisk_data)"
   ]
  },
  {
   "cell_type": "markdown",
   "metadata": {},
   "source": [
    "This is very good. Many of these whiskies have strong flavors but can be described as balanced between smoke, peat, salt, and dark aromatic spicy sweetness and bitter/dry citrus. How about another?"
   ]
  },
  {
   "cell_type": "code",
   "execution_count": 180,
   "metadata": {},
   "outputs": [
    {
     "data": {
      "text/plain": [
       "7945        Macduff 13 Year Old 2003 (Single Cask Nation)\n",
       "6414               Mortlach 20 Year Old 1978 - Rare Malts\n",
       "5257                           Aberlour A'Bunadh Batch 42\n",
       "5943    The Macallan in Lalique Spiritual Home 62 Year...\n",
       "6343    Glen Grant 19 Year Old 1992 Cask 55402 - Cask ...\n",
       "4846              Glenfarclas 1965 Family Cask Release IX\n",
       "1422    Blair Athol 12 Year Old 2008 (cask 1) - Cask S...\n",
       "4715              Glenfarclas 1986 Family Cask Release IX\n",
       "8237    Edradour 10 Year Old 2010 (cask 385) - Un-Chil...\n",
       "6127                        Bruichladdich 36 Year Old DNA\n",
       "5348                                   Highland Park 1994\n",
       "76                                Auchentoshan Three Wood\n",
       "6406                  Bowmore 10 Year Old Devil's Casks I\n",
       "7703      The GlenDronach 27 Year Old - Grandeur Batch 10\n",
       "4750    Glen Grant 39 Year Old 1973 (cask 6582) - Mack...\n",
       "Name: name, dtype: object"
      ]
     },
     "execution_count": 180,
     "metadata": {},
     "output_type": "execute_result"
    }
   ],
   "source": [
    "get_similar_whiskies(\"Glenfarclas 15 Year Old\", 15, index, whisk_data)"
   ]
  },
  {
   "cell_type": "markdown",
   "metadata": {},
   "source": [
    "Wow. Arbelour A'bunadh is a whisky that I would have personally recommended to someone who has had and liked Glenfarclas 15. These recommendations are forward in christmas spice, dessert, dark and luxuriant sweetness. "
   ]
  },
  {
   "cell_type": "code",
   "execution_count": 183,
   "metadata": {},
   "outputs": [
    {
     "data": {
      "text/plain": [
       "array(['Ledaig 10 Year Old 2007 (cask 92721) - Dun Bheagan (Ian Macleod)',\n",
       "       'Darkness! Aultmore 16 Year Old Oloroso Cask Finish',\n",
       "       'Dailuaine 19 Year Old 1997 (casks 7207 & 7208) - Un-Chillfiltered Collection (Signatory)',\n",
       "       'Balvenie Tun 1509 - Batch 5',\n",
       "       'Mortlach 10 Year Old 2007 (cask 14406) - Old Malt Cask (Hunter Laing)',\n",
       "       'Miltonduff 36 Year Old 1981 - North Star Spirits',\n",
       "       'Miltonduff 21 Year Old 1995 (cask 13271) - Old Malt Cask (Hunter Laing)',\n",
       "       'The GlenDronach 10 Year Old Port Wood',\n",
       "       'Edradour 19 Year Old 1999 (casks 814 & 815) - Bordeaux Cask Finish',\n",
       "       'Mortlach 12 Year Old 2007 (casks 304874 & 304875) - Un-Chillfiltered Collection (Signatory)',\n",
       "       'Glenlossie 13 Year Old 2007 (casks 3955 & 3956) - Un-Chillfiltered Collection (Signatory)',\n",
       "       'Glenturret 29 Year Old 1988 (cask 539) - Cask Strength Collection (Signatory)',\n",
       "       'Auchroisk 21 Year Old Moscatel Cask Finish (Darkness)',\n",
       "       'GlenAllachie 11 Year Old Grattamacco Cask Finish',\n",
       "       'Deanston 1997 (bottled 2015) (cask 15069) - Malts of Scotland'],\n",
       "      dtype=object)"
      ]
     },
     "execution_count": 183,
     "metadata": {},
     "output_type": "execute_result"
    }
   ],
   "source": [
    "get_similar_whiskies(\"Glenmorangie The Quinta Ruban 14 Year Old\", 15, index, whisk_data).values"
   ]
  },
  {
   "cell_type": "markdown",
   "metadata": {},
   "source": [
    "Quinta Ruban is forward in red berries, peach, raisin type tastes: sweet but tart and jammy (topic indexed by 5). Some heat (topic 1), dry citrus (topic 2), and creamy vanilla (topic 0). Many of the whiskies on this list have similar taste profiles."
   ]
  },
  {
   "cell_type": "code",
   "execution_count": 184,
   "metadata": {},
   "outputs": [
    {
     "data": {
      "text/plain": [
       "[(0, 0.23477353), (1, 0.27970412), (2, 0.12378674), (5, 0.34624907)]"
      ]
     },
     "execution_count": 184,
     "metadata": {},
     "output_type": "execute_result"
    }
   ],
   "source": [
    "doc_num = whisk_data[whisk_data['name'] == \"Glenmorangie The Quinta Ruban 14 Year Old\"].index[0]\n",
    "doc_lda_decomp[doc_num]"
   ]
  },
  {
   "cell_type": "markdown",
   "metadata": {},
   "source": [
    "Let's take a look and some of these:"
   ]
  },
  {
   "cell_type": "code",
   "execution_count": 203,
   "metadata": {},
   "outputs": [
    {
     "name": "stdout",
     "output_type": "stream",
     "text": [
      "Darkness! Aultmore 16 Year Old Oloroso Cask Finish:\n",
      "[\"['oooh', 'like', 'tuck', 'shop', 'bag', 'chew', 'toffee', 'chocolate', 'raisin', 'subtle', 'red_chilli', 'mid', 'cherry', 'baked', 'apple', 'freshly', 'bread', 'milka', 'chocolate', 'bar', 'long', 'sweet', 'blackcurrant', 'oak']\"]\n",
      "Balvenie Tun 1509 - Batch 5:\n",
      "[\"['vanilla', 'ice_cream', 'raspberry', 'sauce', 'nut', 'juicy', 'apple', 'apricot', 'slow_build', 'sweet', 'spice', 'sherried_peel', 'acacia_honey', 'new_leather', 'raspberry', 'eau', 'de', 'vie', 'earth', 'malt', 'brown_sugar', 'red_berry', 'smidge', 'toasted', 'oak', 'stem_ginger']\"]\n",
      "Edradour 19 Year Old 1999 (casks 814 & 815) - Bordeaux Cask Finish:\n",
      "[\"['ripe', 'plum', 'damson', 'cinnamon', 'custard', 'anise', 'clove', 'bakewell', 'tart', 'blackcurrant_jam', 'cream', 'mocha', 'toasted_teacake', 'heap', 'chai', 'spice', 'dr', 'oak', 'orange_oil', 'hefty', 'slice', 'black', 'forest', 'gateau']\"]\n"
     ]
    }
   ],
   "source": [
    "print('Darkness! Aultmore 16 Year Old Oloroso Cask Finish:')\n",
    "print(whisk_data[whisk_data['name'] == 'Darkness! Aultmore 16 Year Old Oloroso Cask Finish'].token_unified.values)\n",
    "print('Balvenie Tun 1509 - Batch 5:')\n",
    "print(whisk_data[whisk_data['name'] == 'Balvenie Tun 1509 - Batch 5'].token_unified.values)\n",
    "print('Edradour 19 Year Old 1999 (casks 814 & 815) - Bordeaux Cask Finish:')\n",
    "print(whisk_data[whisk_data['name'] == 'Edradour 19 Year Old 1999 (casks 814 & 815) - Bordeaux Cask Finish'].token_unified.values)\n",
    "\n"
   ]
  }
 ],
 "metadata": {
  "interpreter": {
   "hash": "95508d1f9e276930ee7bf977622471e4c9572bc985693ed5ef89eacdfe75f4af"
  },
  "kernelspec": {
   "display_name": "Python 3.8.11 64-bit ('sb_cpstone3': conda)",
   "name": "python3"
  },
  "language_info": {
   "codemirror_mode": {
    "name": "ipython",
    "version": 3
   },
   "file_extension": ".py",
   "mimetype": "text/x-python",
   "name": "python",
   "nbconvert_exporter": "python",
   "pygments_lexer": "ipython3",
   "version": "3.8.11"
  },
  "orig_nbformat": 4
 },
 "nbformat": 4,
 "nbformat_minor": 2
}
