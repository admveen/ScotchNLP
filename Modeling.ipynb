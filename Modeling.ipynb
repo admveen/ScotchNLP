{
 "cells": [
  {
   "cell_type": "code",
   "execution_count": 175,
   "metadata": {},
   "outputs": [],
   "source": [
    "# import necessary packages\n",
    "\n",
    "import pickle\n",
    "import pandas as pd\n",
    "import numpy as np\n",
    "import matplotlib.pyplot as plt\n",
    "import ast\n",
    "import re\n",
    "import seaborn as sns\n",
    "\n",
    "from gensim.corpora.dictionary import Dictionary\n",
    "from gensim.models import LdaModel\n",
    "\n",
    "from gensim.models.coherencemodel import CoherenceModel\n",
    "import pyLDAvis\n",
    "from  pyLDAvis import gensim_models\n",
    "\n",
    "from gensim.similarities import MatrixSimilarity\n"
   ]
  },
  {
   "cell_type": "code",
   "execution_count": 2,
   "metadata": {},
   "outputs": [],
   "source": [
    "# load unified token data\n",
    "whisk_interdf_path = \"data\\\\interim\\\\whisk_unified_tokenized.csv\"\n",
    "whisk_data = pd.read_csv(whisk_interdf_path)"
   ]
  },
  {
   "cell_type": "code",
   "execution_count": 3,
   "metadata": {},
   "outputs": [
    {
     "name": "stdout",
     "output_type": "stream",
     "text": [
      "Dictionary(477 unique tokens: ['barley', 'butter', 'cereal', 'cut_grass', 'fruit']...)\n"
     ]
    }
   ],
   "source": [
    "# load reduced gensim dict\n",
    "reduced_gensim_dict_path = \"dictionaries\\\\reduced_gemsimdict_unified.pkl\"\n",
    "reduced_gensim_dict = pickle.load(open(reduced_gensim_dict_path, 'rb'))\n",
    "print(reduced_gensim_dict)"
   ]
  },
  {
   "cell_type": "code",
   "execution_count": 4,
   "metadata": {},
   "outputs": [
    {
     "data": {
      "text/html": [
       "<div>\n",
       "<style scoped>\n",
       "    .dataframe tbody tr th:only-of-type {\n",
       "        vertical-align: middle;\n",
       "    }\n",
       "\n",
       "    .dataframe tbody tr th {\n",
       "        vertical-align: top;\n",
       "    }\n",
       "\n",
       "    .dataframe thead th {\n",
       "        text-align: right;\n",
       "    }\n",
       "</style>\n",
       "<table border=\"1\" class=\"dataframe\">\n",
       "  <thead>\n",
       "    <tr style=\"text-align: right;\">\n",
       "      <th></th>\n",
       "      <th>tokens</th>\n",
       "    </tr>\n",
       "    <tr>\n",
       "      <th>name</th>\n",
       "      <th></th>\n",
       "    </tr>\n",
       "  </thead>\n",
       "  <tbody>\n",
       "    <tr>\n",
       "      <th>Singleton of Dufftown 12 Year Old</th>\n",
       "      <td>[orange_zest, malty_core, nut, oak, toffee, cu...</td>\n",
       "    </tr>\n",
       "    <tr>\n",
       "      <th>Laphroaig 10 Year Old Sherry Oak Finish</th>\n",
       "      <td>[roasted, cedar, peat_smoke, iodine, away, dar...</td>\n",
       "    </tr>\n",
       "    <tr>\n",
       "      <th>GlenAllachie 15 Year Old</th>\n",
       "      <td>[walnut, raisin, christmas, spice, fresh, ging...</td>\n",
       "    </tr>\n",
       "    <tr>\n",
       "      <th>Seaweed &amp; Aeons &amp; Digging &amp; Fire &amp; Cask Strength 10 Year Old (Batch 04)</th>\n",
       "      <td>[coastal, core, solid, seaweed, salt, slightly...</td>\n",
       "    </tr>\n",
       "    <tr>\n",
       "      <th>Edradour 10 Year Old</th>\n",
       "      <td>[cloying, seductive, murky, rum, barley, almon...</td>\n",
       "    </tr>\n",
       "  </tbody>\n",
       "</table>\n",
       "</div>"
      ],
      "text/plain": [
       "                                                                                               tokens\n",
       "name                                                                                                 \n",
       "Singleton of Dufftown 12 Year Old                   [orange_zest, malty_core, nut, oak, toffee, cu...\n",
       "Laphroaig 10 Year Old Sherry Oak Finish             [roasted, cedar, peat_smoke, iodine, away, dar...\n",
       "GlenAllachie 15 Year Old                            [walnut, raisin, christmas, spice, fresh, ging...\n",
       "Seaweed & Aeons & Digging & Fire & Cask Strengt...  [coastal, core, solid, seaweed, salt, slightly...\n",
       "Edradour 10 Year Old                                [cloying, seductive, murky, rum, barley, almon..."
      ]
     },
     "execution_count": 4,
     "metadata": {},
     "output_type": "execute_result"
    }
   ],
   "source": [
    "cols_to_keep = ['name', 'token_unified']\n",
    "unitoken_df = whisk_data[cols_to_keep].set_index('name')\n",
    "\n",
    "# entries in token_unified are strings. Literal evaluate to get this back into list of strings\n",
    "attr_listed = [ast.literal_eval(row) for row in unitoken_df['token_unified'] ] \n",
    "unitoken_df['tokens'] = attr_listed\n",
    "# get rid of original token unified column\n",
    "unitoken_df.drop(columns = ['token_unified'], inplace = True)\n",
    "unitoken_df.head()"
   ]
  },
  {
   "cell_type": "markdown",
   "metadata": {},
   "source": [
    "Create gensim corpus from reduced dictionary set."
   ]
  },
  {
   "cell_type": "code",
   "execution_count": 9,
   "metadata": {},
   "outputs": [],
   "source": [
    "corpus = [reduced_gensim_dict.doc2bow(doc) for doc in unitoken_df.tokens]"
   ]
  },
  {
   "cell_type": "code",
   "execution_count": 11,
   "metadata": {},
   "outputs": [],
   "source": [
    "# lets pickle the whisky descriptor corpus (reference dictionary is reduced_gensim_dict):\n",
    "pickle.dump(corpus, open('data\\\\final\\\\descriptor_corpus.pkl', 'wb'))"
   ]
  },
  {
   "cell_type": "markdown",
   "metadata": {},
   "source": [
    "Of course, one of the big issues is that it's not clear what the best number of topics is a priori and whether the topics that an LDA model fits to are actually meaningful. We can use coherence measures (i.e. an aggregation of pairwise correlations between members of a topic as one measure). This can have some issues but its a way of putting a number on estimating topic coherence.\n",
    "\n",
    "There are also other hyperparameters such as the alpha vector for the Dirichlet distribution."
   ]
  },
  {
   "cell_type": "code",
   "execution_count": 6,
   "metadata": {},
   "outputs": [],
   "source": [
    "# let's loop to extract the best hyperparameters and get the topic model coherence score for each hyperparameter set.\n",
    "model_coherence_list = []\n",
    "for topic_num in range(2,20, 1):\n",
    "    # our LDA model\n",
    "    scotch_topic_model = LdaModel(corpus = corpus, num_topics = topic_num, random_state=100,  id2word = reduced_gensim_dict, passes = 10, alpha = 'auto' )\n",
    "\n",
    "    # coherence model wrapper\n",
    "    cm = CoherenceModel(model=scotch_topic_model, texts= unitoken_df.tokens, coherence = 'c_v')\n",
    "    model_coherence_list.append((topic_num, cm.get_coherence()))\n",
    "    \n",
    "print(model_coherence_list)\n"
   ]
  },
  {
   "cell_type": "code",
   "execution_count": 31,
   "metadata": {},
   "outputs": [
    {
     "data": {
      "image/png": "[encoded data removed]",
      "text/plain": [
       "<Figure size 432x288 with 1 Axes>"
      ]
     },
     "metadata": {
      "needs_background": "light"
     },
     "output_type": "display_data"
    }
   ],
   "source": [
    "# plot model coherence score vs number of topics\n",
    "unzipped_coherence_list = list(zip(*model_coherence_list))\n",
    "plt.plot(unzipped_coherence_list[0], unzipped_coherence_list[1], c = 'b', linewidth = 2 )\n",
    "plt.axvline(x = 7, c ='r', linestyle = '--')\n",
    "plt.annotate('Optimal num. topics', xy = (7.3, 0.30), c ='r')\n",
    "plt.title('LDA coherence score vs. number of topics')\n",
    "plt.xlabel('Number of topics')\n",
    "plt.ylabel('Coherence score ($c_v$)')\n",
    "plt.xticks(np.arange(2,20, 2))\n",
    "plt.show()\n"
   ]
  },
  {
   "cell_type": "code",
   "execution_count": 6,
   "metadata": {},
   "outputs": [],
   "source": [
    "scotch_topic_model = LdaModel(corpus = corpus, num_topics = 7, random_state=100,  id2word = reduced_gensim_dict, passes = 10, alpha = 'auto' )"
   ]
  },
  {
   "cell_type": "code",
   "execution_count": 7,
   "metadata": {},
   "outputs": [
    {
     "data": {
      "text/plain": [
       "[(0,\n",
       "  '0.044*\"malt\" + 0.044*\"apple\" + 0.043*\"vanilla\" + 0.041*\"sweet\" + 0.036*\"cream\" + 0.034*\"spice\" + 0.031*\"oak\" + 0.027*\"fruit\" + 0.023*\"toffee\" + 0.020*\"finish\" + 0.020*\"honey\" + 0.019*\"barley\" + 0.018*\"butter\" + 0.017*\"cinnamon\" + 0.016*\"pepper\" + 0.013*\"rich\" + 0.012*\"custard\" + 0.012*\"spiced\" + 0.012*\"pear\" + 0.011*\"caramel\" + 0.011*\"long\" + 0.010*\"soft\" + 0.010*\"fresh\" + 0.009*\"nutmeg\" + 0.009*\"peel\" + 0.009*\"fudge\" + 0.008*\"allspice\" + 0.008*\"oil\" + 0.008*\"floral\" + 0.007*\"butterscotch\"'),\n",
       " (1,\n",
       "  '0.035*\"chocolate\" + 0.028*\"cinnamon\" + 0.020*\"honey\" + 0.018*\"oak\" + 0.018*\"barley\" + 0.015*\"butter\" + 0.015*\"earth\" + 0.015*\"vanilla\" + 0.013*\"brown_sugar\" + 0.013*\"toasted\" + 0.013*\"ginger\" + 0.012*\"clove\" + 0.012*\"almond\" + 0.012*\"peppercorn\" + 0.011*\"caramel\" + 0.011*\"apricot\" + 0.010*\"layer\" + 0.010*\"black_pepper\" + 0.009*\"walnut\" + 0.009*\"subtle\" + 0.009*\"pineapple\" + 0.009*\"orange_peel\" + 0.008*\"plus\" + 0.008*\"later\" + 0.008*\"peanut\" + 0.008*\"background\" + 0.008*\"cedar\" + 0.008*\"apple\" + 0.008*\"helping\" + 0.008*\"white\"'),\n",
       " (2,\n",
       "  '0.063*\"sweet\" + 0.058*\"fruit\" + 0.028*\"spice\" + 0.026*\"oak\" + 0.023*\"long\" + 0.020*\"vanilla\" + 0.019*\"smoke\" + 0.019*\"rich\" + 0.017*\"wood\" + 0.016*\"cream\" + 0.015*\"fresh\" + 0.015*\"gentle\" + 0.015*\"finish\" + 0.014*\"toffee\" + 0.012*\"aroma\" + 0.012*\"soft\" + 0.012*\"citrus\" + 0.010*\"floral\" + 0.010*\"honey\" + 0.010*\"light\" + 0.010*\"herbal\" + 0.009*\"slightly\" + 0.009*\"flavour\" + 0.009*\"character\" + 0.009*\"green\" + 0.008*\"malt\" + 0.008*\"smooth\" + 0.008*\"dry\" + 0.008*\"tropical_fruit\" + 0.008*\"subtle\"'),\n",
       " (3,\n",
       "  '0.058*\"fruit\" + 0.052*\"sherry\" + 0.039*\"rich\" + 0.036*\"spice\" + 0.033*\"oak\" + 0.026*\"raisin\" + 0.023*\"chocolate\" + 0.019*\"sweet\" + 0.019*\"dark_chocolate\" + 0.019*\"dark\" + 0.018*\"cinnamon\" + 0.017*\"coffee\" + 0.016*\"long\" + 0.015*\"toffee\" + 0.015*\"date\" + 0.014*\"thick\" + 0.014*\"ginger\" + 0.013*\"malt\" + 0.012*\"nutmeg\" + 0.011*\"treacle\" + 0.011*\"cocoa\" + 0.011*\"clove\" + 0.010*\"fig\" + 0.010*\"orange\" + 0.010*\"cherry\" + 0.010*\"finish\" + 0.009*\"walnut\" + 0.008*\"old\" + 0.008*\"prune\" + 0.008*\"sultana\"'),\n",
       " (4,\n",
       "  '0.037*\"oak\" + 0.035*\"vanilla\" + 0.030*\"fresh\" + 0.030*\"barley\" + 0.026*\"citrus\" + 0.024*\"malt\" + 0.023*\"lemon\" + 0.021*\"floral\" + 0.018*\"orange\" + 0.018*\"sweet\" + 0.018*\"peel\" + 0.017*\"apple\" + 0.016*\"honey\" + 0.015*\"grass\" + 0.014*\"sugar\" + 0.014*\"light\" + 0.014*\"pear\" + 0.013*\"biscuit\" + 0.012*\"green_apple\" + 0.011*\"spice\" + 0.011*\"brown_sugar\" + 0.010*\"cream\" + 0.010*\"caramel\" + 0.010*\"toasted\" + 0.010*\"earth\" + 0.010*\"cinnamon\" + 0.010*\"peach\" + 0.009*\"oil\" + 0.009*\"finish\" + 0.009*\"orchard_fruit\"'),\n",
       " (5,\n",
       "  '0.051*\"chocolate\" + 0.046*\"fruit\" + 0.027*\"oak\" + 0.025*\"berry\" + 0.024*\"orange\" + 0.023*\"red\" + 0.022*\"raisin\" + 0.021*\"raspberry\" + 0.021*\"spice\" + 0.020*\"jam\" + 0.019*\"cinnamon\" + 0.019*\"strawberry\" + 0.019*\"nut\" + 0.016*\"plum\" + 0.016*\"apple\" + 0.016*\"malt\" + 0.015*\"sweet\" + 0.015*\"juicy\" + 0.014*\"orange_peel\" + 0.014*\"fresh\" + 0.014*\"finish\" + 0.013*\"baking_spice\" + 0.013*\"dark_chocolate\" + 0.013*\"milk_chocolate\" + 0.012*\"cherry\" + 0.012*\"tart\" + 0.011*\"cake\" + 0.011*\"toasted\" + 0.010*\"brown_sugar\" + 0.010*\"red_berry\"'),\n",
       " (6,\n",
       "  '0.117*\"smoke\" + 0.084*\"peat\" + 0.042*\"sweet\" + 0.027*\"coastal\" + 0.026*\"salt\" + 0.024*\"oil\" + 0.024*\"peat_smoke\" + 0.017*\"earth\" + 0.017*\"meat\" + 0.016*\"finish\" + 0.015*\"long\" + 0.014*\"seaweed\" + 0.014*\"oak\" + 0.013*\"lemon\" + 0.013*\"vanilla\" + 0.013*\"pepper\" + 0.012*\"citrus\" + 0.012*\"sea_salt\" + 0.011*\"maritime\" + 0.010*\"malt\" + 0.010*\"ash\" + 0.010*\"apple\" + 0.009*\"black_pepper\" + 0.009*\"heather\" + 0.009*\"bonfire\" + 0.009*\"iodine\" + 0.008*\"barley\" + 0.008*\"wood\" + 0.008*\"charred\" + 0.008*\"sea_spray\"')]"
      ]
     },
     "execution_count": 7,
     "metadata": {},
     "output_type": "execute_result"
    }
   ],
   "source": [
    "scotch_topic_model.show_topics(num_words=30)"
   ]
  },
  {
   "cell_type": "code",
   "execution_count": 20,
   "metadata": {},
   "outputs": [
    {
     "name": "stderr",
     "output_type": "stream",
     "text": [
      "C:\\Users\\prave\\anaconda3\\envs\\sb_cpstone3\\lib\\site-packages\\pyLDAvis\\_prepare.py:246: FutureWarning: In a future version of pandas all arguments of DataFrame.drop except for the argument 'labels' will be keyword-only\n",
      "  default_term_info = default_term_info.sort_values(\n"
     ]
    },
    {
     "data": {
      "text/html": [
       "\n",
       "<link rel=\"stylesheet\" type=\"text/css\" href=\"https://cdn.jsdelivr.net/gh/bmabey/pyLDAvis@3.3.1/pyLDAvis/js/ldavis.v1.0.0.css\">\n",
       "\n",
       "\n",
       "<div id=\"ldavis_el1134021786808083844909570765\"></div>\n",
       "<script type=\"text/javascript\">\n",
       "\n",
       "var ldavis_el1134021786808083844909570765_data = {\"mdsDat\": {\"x\": [-0.013769545668045294, 0.08477624429716132, -0.10794015920094865, 0.11480223831024801, -0.020826003579415168, 0.20023067894894325, -0.2572734531079432], \"y\": [0.05614512834783992, -0.17803532984618023, 0.14143620727065645, 0.13981989362491165, -0.11630109571197378, 0.003452978036090973, -0.04651778172134483], \"topics\": [1, 2, 3, 4, 5, 6, 7], \"cluster\": [1, 1, 1, 1, 1, 1, 1], \"Freq\": [22.191215680224126, 13.843876026894447, 14.677236491250238, 13.697764427940848, 17.05052433531266, 8.66181489852668, 9.877568139851]}, \"tinfo\": {\"Term\": [\"smoke\", \"peat\", \"sherry\", \"chocolate\", \"fruit\", \"raisin\", \"cream\", \"spice\", \"coastal\", \"rich\", \"salt\", \"sweet\", \"long\", \"cinnamon\", \"peat_smoke\", \"berry\", \"lemon\", \"raspberry\", \"red\", \"dark_chocolate\", \"jam\", \"strawberry\", \"earth\", \"fresh\", \"dark\", \"orange\", \"light\", \"apple\", \"gentle\", \"citrus\", \"manuka_honey\", \"sticky_toffee\", \"demerara_sugar\", \"orange_blossom\", \"granary_toast\", \"porridge_oats\", \"custard\", \"baked\", \"star_anise\", \"allspice\", \"sprinkle\", \"crumble\", \"oats\", \"entry\", \"pudding\", \"spiced\", \"tail\", \"good_length\", \"latte\", \"cider\", \"milk\", \"mixed_peel\", \"fudge\", \"peppermint\", \"pastry\", \"grist\", \"lemon_curd\", \"cooked\", \"cream\", \"great\", \"apple\", \"malt\", \"blossom\", \"butter\", \"vanilla\", \"toffee\", \"spice\", \"butterscotch\", \"pepper\", \"sweet\", \"pear\", \"finish\", \"honey\", \"oak\", \"barley\", \"fruit\", \"cinnamon\", \"nutmeg\", \"soft\", \"caramel\", \"rich\", \"long\", \"peel\", \"fresh\", \"oil\", \"marmalade\", \"floral\", \"peanut\", \"helping\", \"flake\", \"forward\", \"rye_bread\", \"red_chilli\", \"cassia\", \"waxy_orange\", \"peppercorn\", \"new_leather\", \"orange_oil\", \"plus\", \"milky_coffee\", \"tow\", \"popcorn\", \"toasted_teacake\", \"later\", \"soon\", \"enjoyably\", \"layer\", \"smidge\", \"thyme\", \"cracker\", \"cooking_spice\", \"quince\", \"brown_bread\", \"flint\", \"sandalwood\", \"meaty_malt\", \"coriander\", \"caraway\", \"warmth\", \"background\", \"buttered\", \"salted_butter\", \"chocolate\", \"clove\", \"cinnamon\", \"kick\", \"earth\", \"brown_sugar\", \"gingerbread\", \"walnut\", \"pineapple\", \"honey\", \"butter\", \"almond\", \"cedar\", \"apricot\", \"toasted\", \"barley\", \"white\", \"subtle\", \"ginger\", \"oak\", \"black_pepper\", \"caramel\", \"vanilla\", \"orange_peel\", \"apple\", \"flavour\", \"character\", \"mouth\", \"dram\", \"faint\", \"supple\", \"present\", \"summer\", \"tone\", \"interesting\", \"fairly\", \"smooth\", \"backdrop\", \"slowly\", \"suggestion\", \"water\", \"huge\", \"delicate\", \"texture\", \"power\", \"complex\", \"body\", \"cask\", \"initially\", \"elegant\", \"time\", \"tannin\", \"mouthfeel\", \"whisky\", \"influence\", \"aroma\", \"gentle\", \"grape\", \"herbal\", \"wood\", \"sweet\", \"fruit\", \"long\", \"green\", \"spice\", \"rich\", \"light\", \"smoke\", \"oak\", \"cream\", \"fresh\", \"soft\", \"vanilla\", \"finish\", \"toffee\", \"slightly\", \"dry\", \"citrus\", \"floral\", \"tropical_fruit\", \"honey\", \"subtle\", \"big\", \"malt\", \"christmas_cake\", \"fruitcake\", \"fig\", \"oloroso\", \"sherry\", \"rancio\", \"musty\", \"treacle\", \"prune\", \"pipe_tobacco\", \"potpourri\", \"brandy_butter\", \"molasse\", \"liqueur\", \"rubber\", \"old\", \"bittersweet\", \"rum\", \"rum_raisin\", \"dark\", \"cranberry\", \"espresso\", \"christmas\", \"dense\", \"particularly\", \"date\", \"coffee\", \"deep\", \"black\", \"sultanas\", \"dark_chocolate\", \"raisin\", \"cocoa\", \"intense\", \"leather\", \"rich\", \"thick\", \"fruit\", \"cherry\", \"spice\", \"chocolate\", \"clove\", \"oak\", \"walnut\", \"long\", \"ginger\", \"nutmeg\", \"cinnamon\", \"toffee\", \"sweet\", \"malt\", \"sultana\", \"orange\", \"finish\", \"peanut_brittle\", \"oat\", \"basil\", \"sweetie\", \"rye\", \"golden\", \"runny_honey\", \"lemongrass\", \"yellow_plum\", \"dusting\", \"softly\", \"fizz\", \"white_grape\", \"buttered_toast\", \"grapefruit\", \"mid\", \"greengage\", \"green_apple\", \"cut_grass\", \"y\", \"black_tea\", \"vanilla_pod\", \"lime\", \"subtly\", \"crunchy_brown\", \"lightly\", \"turkish_delight\", \"light\", \"lemon\", \"shortbread\", \"biscuit\", \"grass\", \"vegetal\", \"citrus\", \"fresh\", \"floral\", \"peel\", \"barley\", \"sugar\", \"vanilla\", \"pear\", \"peach\", \"oak\", \"orange\", \"orchard_fruit\", \"malt\", \"brown_sugar\", \"honey\", \"apple\", \"earth\", \"toasted\", \"sweet\", \"caramel\", \"zest\", \"cream\", \"oil\", \"spice\", \"cinnamon\", \"finish\", \"jam\", \"cookie\", \"raspberry\", \"bun\", \"bean\", \"red_grape\", \"hot_cross\", \"chocolate_chip\", \"roasted_coffee\", \"strawberry\", \"hand\", \"pecan\", \"slice\", \"berry\", \"damson\", \"blackcurrant\", \"baking_spice\", \"redcurrant\", \"stewed\", \"summer_berry\", \"red_wine\", \"jammy\", \"compote\", \"forest\", \"gooseberry\", \"digestive\", \"red\", \"red_berry\", \"skin\", \"bar\", \"tart\", \"plum\", \"nut\", \"chocolate\", \"raisin\", \"cherry\", \"milk_chocolate\", \"orange\", \"orange_peel\", \"fruit\", \"juicy\", \"dark_chocolate\", \"cake\", \"oak\", \"cinnamon\", \"spice\", \"toast\", \"apple\", \"fresh\", \"malt\", \"finish\", \"sweet\", \"toasted\", \"brown_sugar\", \"coastal\", \"seaweed\", \"maritime\", \"bonfire\", \"sea_spray\", \"soot\", \"medicinal\", \"brine\", \"plaster\", \"iodine\", \"ember\", \"tar\", \"medicinal_peat\", \"peat_smoke\", \"peat\", \"ash\", \"sea_air\", \"earthy_peat\", \"salt\", \"smoke\", \"bonfire_ember\", \"meat\", \"sea_breeze\", \"bbq\", \"heather\", \"chilli\", \"minute\", \"charred\", \"air\", \"coastal_air\", \"sea_salt\", \"oil\", \"earth\", \"sweet\", \"savoury\", \"lemon\", \"long\", \"finish\", \"pepper\", \"citrus\", \"black_pepper\", \"oak\", \"vanilla\", \"malt\", \"apple\", \"wood\", \"barley\"], \"Freq\": [2070.0, 1226.0, 1019.0, 1938.0, 4126.0, 867.0, 1741.0, 2888.0, 381.0, 1817.0, 439.0, 4338.0, 1340.0, 1910.0, 339.0, 446.0, 956.0, 267.0, 477.0, 620.0, 245.0, 298.0, 876.0, 1720.0, 506.0, 1350.0, 581.0, 2457.0, 435.0, 1371.0, 174.72878647849157, 86.08632828592566, 75.08649636923835, 60.474888672336405, 86.97130783951373, 45.62277787657787, 387.7133602052038, 120.64589367893868, 55.707969945356915, 267.65953134897563, 53.9893771086248, 80.77082662464522, 53.84900787011647, 59.087730668251616, 103.65528596907676, 382.4856394695808, 133.78584576485412, 142.22638960506663, 39.441595361525785, 52.93803783027935, 62.37314014712681, 55.55210432572573, 269.71965927246464, 97.32953068410487, 172.26560541178344, 146.0548865082626, 93.94775653591938, 67.8626945109667, 1141.6905567163512, 42.71322741651906, 1389.2155701362394, 1401.3947686776417, 199.9381226083224, 575.9713781697986, 1347.2226594206884, 733.3674365964224, 1065.52969366727, 235.2529249321638, 513.7298431558469, 1293.349611915153, 379.93268981787884, 628.6811001976342, 628.4426988644834, 974.3359422057824, 602.8068404878611, 856.8930143134648, 530.6666441913017, 300.3404494776164, 316.69756071015524, 359.88309647436535, 424.0432086202478, 344.35614956793677, 272.4481118818715, 314.87009199284523, 256.6594712195497, 224.35706232217393, 243.06962348538676, 163.6418429095281, 160.0625489617284, 106.71730615706737, 80.93309702856135, 80.44503654054982, 79.74389047474962, 75.09967381955651, 65.98590014124242, 232.5131517694113, 76.75557168181491, 101.22895868718676, 164.47445558487567, 107.49084014642258, 49.40755469505539, 71.6795074674463, 53.42501556396509, 164.07381906037088, 123.8086818375144, 82.223293966777, 206.33537865810044, 96.62578114409159, 83.4106451265324, 40.35293777624592, 44.86882454006118, 72.36339928703434, 87.49783023446076, 64.59071729181832, 50.1861634627083, 53.101639668693, 35.112710224646285, 88.36749568022084, 152.1939881008825, 162.390829689354, 82.93577446953533, 111.8007827625423, 689.8843749852977, 245.76127154962575, 550.1398421894418, 104.6654148480046, 299.81187638974967, 265.00282849852675, 151.15093516204442, 187.1939578775279, 184.03411157813107, 399.68340306697576, 301.9701405630036, 243.10236327520582, 162.2779629459656, 217.24494874754572, 251.8392669246627, 356.44838617775946, 159.63608388234013, 186.73918426110163, 250.54131774593438, 358.1028098284038, 193.91169679724274, 221.4215693600617, 288.09105821196215, 175.8827776409542, 160.51256468646562, 185.50419363510144, 183.8434105232098, 101.61370970686741, 71.854086233904, 65.63202160010398, 64.61510769989226, 62.64091076378499, 79.28722173251705, 51.2299433096998, 51.2441218903227, 48.07520425208499, 170.85631757443434, 96.73552814380457, 105.56964081905595, 77.90518503617513, 120.16542812439891, 61.63445064537181, 132.44190736177643, 49.964923724659485, 83.27814647758225, 114.12037664257204, 95.72096111030308, 43.65829398500142, 133.28977869259734, 72.35337482298208, 110.81971798238584, 142.35255019450153, 47.42153370702803, 95.73846036125045, 60.11866689163612, 252.61840763326893, 319.6300022065709, 128.62196792431243, 199.20611686492433, 346.50982546533766, 1308.9112510614602, 1202.4645442792294, 487.686653866222, 178.1407776062478, 575.6412195360388, 393.05249654152254, 207.88603747590162, 402.44654629494505, 542.3944734868401, 326.7495972864985, 320.11263875384594, 248.0827420154324, 413.3956046116836, 316.6353029039335, 294.48171863030433, 191.8362932082892, 168.9185847146612, 241.5061982590055, 216.16362138563161, 166.98513659079057, 214.5428031740672, 160.85367951427477, 151.09390807549934, 171.84924669162808, 145.3050114042824, 118.66473780238746, 204.55843585480443, 71.18367905788493, 1006.440585564277, 46.34896269531468, 68.40936303290742, 223.63942727404398, 161.4779497279338, 48.29008372885385, 79.62894490885962, 52.67876901079489, 87.01980499287372, 45.43417404957019, 46.16879412772811, 162.12809974372277, 72.6809380643039, 121.18137219700527, 67.5346441601453, 362.5434901122437, 71.06855002995552, 112.13389192053319, 66.61721994303205, 34.8087726505292, 32.35932487741638, 290.33677767486364, 329.36717219117406, 69.33420320256177, 102.52182681598572, 96.14466200946192, 364.28213110333314, 503.00515745303005, 217.7710458879948, 137.77545664903124, 144.98904274987584, 763.5365856928931, 279.7114807898597, 1130.2731789710726, 196.99565472395258, 695.6680419048565, 452.4400303423029, 208.78431098748422, 647.7843269283579, 173.64074806770464, 303.43723960222445, 267.2006779712861, 226.2974464403304, 348.61978474740596, 298.40022648400975, 374.06191851688266, 259.3749213468942, 160.87660322335267, 197.72979767281097, 187.35833357515062, 62.79164566231056, 54.324807886060825, 49.41329669763335, 168.87159015744754, 98.30159535598735, 138.80614208750308, 55.47226820801315, 74.81173415282178, 44.52483223079529, 88.27592925654984, 77.82970361763101, 67.78232286260834, 136.21834792526315, 65.54505720291303, 135.7166313453192, 60.70136542591203, 60.117422758903295, 282.6780717976836, 46.38063208429318, 197.8891236787253, 46.43712469243513, 171.88408429362784, 122.21812493636071, 145.42541845668882, 33.875380267177405, 36.17823391562965, 36.12192513825262, 346.72986886900645, 564.2597203500872, 144.98622696214173, 323.16335306503595, 372.26996913980594, 93.11511859389317, 630.4891144429788, 733.5647099189041, 505.3261790299147, 434.47895612229655, 720.9228096238111, 351.11110466111865, 843.5732932065953, 338.82718225679787, 235.84493887146326, 898.6766385229096, 442.16174720167646, 218.82786637133478, 588.534159945258, 257.50438866384883, 383.6065465646979, 409.8384840206846, 240.1308315443924, 242.46406817603707, 435.1486204890691, 246.3039704442828, 181.54262055836588, 253.23630212162615, 222.01072920410934, 274.03549181017274, 239.37148038966507, 221.1932535896807, 244.1048054724989, 105.86987237726358, 265.3239462286838, 93.7868061114365, 92.64044852841451, 86.63218150604888, 52.42786721878234, 47.54745266136593, 60.90957889574869, 239.3097730701158, 62.44189462307179, 74.37531080361468, 41.484667377324094, 306.1528571618299, 46.95944391420686, 89.53477823893672, 163.10998405700914, 73.37480458443397, 55.362520333226065, 44.37082501386188, 29.99817278596306, 71.70448780112281, 38.07830615995694, 42.65554136832698, 43.042077079201476, 52.53457623504796, 278.7297663800564, 128.4631733174912, 74.00301886141825, 29.754408083871784, 142.42827330756143, 202.62515803947187, 230.39729442722927, 633.1116737230246, 277.04462826149376, 149.52703199593495, 156.766682446629, 301.93412700799894, 177.8571609098284, 564.3469308172812, 186.5053956617254, 161.5094062823356, 134.89674772125244, 330.37525214874256, 240.29661308719182, 254.8175447573126, 126.81370065320175, 200.59207772569243, 173.1250229211684, 195.84796313266486, 170.5714315657469, 189.26002616013506, 132.6146528838415, 129.58360649441806, 381.0712897419, 200.8385190725183, 149.9382295239412, 129.73515791727684, 108.39698391076587, 103.72244264688177, 104.71894385591087, 94.17563273114465, 92.76249564784102, 124.64069744673371, 81.0210631128305, 78.39721523502986, 67.64941345079613, 331.34163598276774, 1183.409984023344, 144.1909298541699, 66.71277899093333, 43.72956043320707, 370.38154592492015, 1644.5037254234808, 51.44309451480014, 235.63507907661, 99.5343654140721, 68.66985480593408, 130.64057122847754, 78.74998013641172, 31.168992173506442, 109.97969429835825, 30.404303405803038, 60.029978626773314, 162.5313099831617, 331.72724731510976, 237.2583428789633, 585.2078473822828, 93.26959683196685, 180.29529160939774, 204.99073523784708, 219.5486902456762, 176.0071546583318, 166.39511718326767, 133.28244138982578, 194.82774017083878, 176.098000074527, 144.73824366805866, 139.94548277765998, 112.69326038043766, 116.81143736731327], \"Total\": [2070.0, 1226.0, 1019.0, 1938.0, 4126.0, 867.0, 1741.0, 2888.0, 381.0, 1817.0, 439.0, 4338.0, 1340.0, 1910.0, 339.0, 446.0, 956.0, 267.0, 477.0, 620.0, 245.0, 298.0, 876.0, 1720.0, 506.0, 1350.0, 581.0, 2457.0, 435.0, 1371.0, 176.03716819113473, 86.9386046306711, 75.9303621024485, 61.316995408039176, 88.21794082589174, 46.4642804237505, 423.36447481800235, 138.0141222687376, 64.34015373318809, 315.02267792335493, 63.87677944448683, 97.20527133993177, 64.86121665370273, 72.00322729330298, 127.53955139657428, 474.30200399216125, 176.9780077226932, 188.26766752685967, 54.420142191859505, 73.96128519294494, 87.41910947782839, 78.71548303070183, 391.4612890248983, 141.41769751435785, 251.70712467995077, 217.62817966697895, 140.1445733126712, 102.12753864756262, 1741.2693712589357, 65.30100569299731, 2457.3881870935566, 2912.882550679511, 337.5658159296311, 1145.3710727374819, 3205.0600244247144, 1594.8390474495654, 2888.258510804865, 441.68720382141726, 1266.5430488966538, 4338.3536605584495, 884.9309918037529, 1817.7690048685524, 1824.938109630692, 3946.4971832918754, 2084.9105666128003, 4126.7184643871005, 1910.0536063702693, 772.7967298626544, 994.8309089037987, 1281.4463417298234, 1817.040599218575, 1340.8810739798037, 1014.8446871602031, 1720.0511915028883, 1083.7751790033562, 635.7893207824965, 1131.8876380071847, 164.49716817283542, 161.1458782500821, 107.56940573989795, 81.78502555090066, 81.2969405826304, 80.59492070298549, 76.22031685778182, 69.45559544709295, 249.96206278048814, 86.65754366676889, 116.03359987105996, 197.44573144046595, 131.4356817505389, 60.79950066076259, 88.22788289838505, 66.63180011204888, 205.17371625336156, 155.44211503761463, 104.53217227241926, 262.9519966533755, 124.7044051415772, 107.93698381751787, 52.747048639354446, 58.771313900137045, 99.60621387529407, 120.66744811928997, 89.13268715904775, 70.24576186919488, 75.17591418993848, 52.191614293513815, 132.49553037077325, 230.28730737432699, 259.4883884951808, 126.32389513924346, 187.2451797686302, 1938.8576523025565, 578.1149101749022, 1910.0536063702693, 176.54573623781772, 876.1064316759987, 760.5844039792819, 315.33565118396524, 447.9421471300139, 448.6290569738575, 1824.938109630692, 1145.3710727374819, 783.9013985312616, 374.7601558895638, 670.7914340406065, 906.4952617122086, 2084.9105666128003, 375.8576183700861, 548.6038129854587, 1079.8510686191046, 3946.4971832918754, 715.1717654296317, 1281.4463417298234, 3205.0600244247144, 602.0468875740844, 2457.3881870935566, 186.344032400404, 184.69284108414317, 102.45368434495819, 72.69318816834016, 66.47365163913248, 65.4544536066932, 63.48633394580946, 80.478230998643, 52.06909464576044, 52.08933996131449, 49.85072970644552, 181.87607646075446, 103.80240901941322, 113.53767663472348, 85.68938831624475, 134.34351560457554, 70.39748019136917, 151.88932043264975, 58.49649524246054, 99.44314334953603, 136.55406090068135, 119.29572010568461, 54.93319390153586, 169.42557047596068, 92.28652294289786, 143.4945252284725, 184.69864959954973, 61.86320631691046, 125.1741023508317, 79.92474447105954, 339.43986639088854, 435.05914177723423, 180.2202616712087, 349.8240450975274, 723.439405599458, 4338.3536605584495, 4126.7184643871005, 1340.8810739798037, 327.30263827788116, 2888.258510804865, 1817.040599218575, 581.3788948737176, 2070.93445622773, 3946.4971832918754, 1741.2693712589357, 1720.0511915028883, 994.8309089037987, 3205.0600244247144, 1817.7690048685524, 1594.8390474495654, 624.5684845282314, 445.8771832286647, 1371.2165575867139, 1131.8876380071847, 454.2239966003344, 1824.938109630692, 548.6038129854587, 402.76903714083744, 2912.882550679511, 146.1413428853876, 119.5009060254785, 206.0175572235517, 72.02616854407543, 1019.9816232593919, 47.18491213293181, 72.10880317767858, 237.75887775769863, 182.00408367507413, 54.96956413681904, 93.13655287854786, 63.69249776177965, 112.04261030598461, 58.72575961015626, 60.066660532393165, 213.7001821454189, 96.01842276822086, 162.9517085149983, 91.99015152262166, 506.1655076104095, 99.64420713016098, 157.9446586953738, 95.93133065172582, 50.24417184960923, 47.03167906791719, 426.6165504921761, 508.4350099253075, 112.86148184864665, 170.82476570823363, 161.8099944564035, 620.9035974752966, 867.6134744886125, 376.93327187976183, 236.51934259563217, 253.99380742652593, 1817.040599218575, 600.1568026837729, 4126.7184643871005, 402.482835478345, 2888.258510804865, 1938.8576523025565, 578.1149101749022, 3946.4971832918754, 447.9421471300139, 1340.8810739798037, 1079.8510686191046, 772.7967298626544, 1910.0536063702693, 1594.8390474495654, 4338.3536605584495, 2912.882550679511, 481.5345254649397, 1350.733441731866, 1817.7690048685524, 63.63935736156026, 55.19118851160272, 50.29452578043893, 182.61665706839963, 108.936708381429, 154.65126381286964, 62.580792286231166, 85.46439822211515, 50.96440842364541, 101.47352723602954, 90.85779553669316, 79.20590265472251, 160.53661912838948, 84.47800799151337, 177.6496433922011, 82.78982824540937, 86.7477676879159, 412.49248920268366, 67.76573392394957, 298.9289050618335, 72.1979059546079, 273.16431381809366, 199.6755328826751, 237.90020529999407, 56.30752356647546, 60.27836657297436, 60.33217398691527, 581.3788948737176, 956.1749401103177, 246.18409951462672, 573.4019776352102, 749.4742254115542, 167.3170333794819, 1371.2165575867139, 1720.0511915028883, 1131.8876380071847, 1014.8446871602031, 2084.9105666128003, 895.2026604598639, 3205.0600244247144, 884.9309918037529, 522.702414042516, 3946.4971832918754, 1350.733441731866, 477.97705931897343, 2912.882550679511, 760.5844039792819, 1824.938109630692, 2457.3881870935566, 876.1064316759987, 906.4952617122086, 4338.3536605584495, 1281.4463417298234, 469.25551967102524, 1741.2693712589357, 1083.7751790033562, 2888.258510804865, 1910.0536063702693, 1817.7690048685524, 245.3462709979061, 106.72075381251442, 267.5120434708243, 94.63238098648596, 93.48866906339549, 87.47790535778108, 53.27310701584205, 48.393158745120715, 69.98060994876988, 298.47950230871913, 82.4374685164263, 99.68527416310495, 57.89735891618783, 446.10480405651816, 69.67617273360074, 135.25031599588485, 246.40141664160748, 110.92363686744844, 84.85697637297065, 68.31222524333845, 46.425046856066395, 112.47411663252448, 61.85090551255559, 69.42693307556446, 71.62060499174395, 88.9157554449901, 477.8928891956057, 221.47444245877313, 128.72390079015244, 54.10501796508237, 272.9596029739656, 416.7731097665653, 508.4504178687924, 1938.8576523025565, 867.6134744886125, 402.482835478345, 449.75672334427196, 1350.733441731866, 602.0468875740844, 4126.7184643871005, 664.8460471740652, 620.9035974752966, 475.99997217430223, 3946.4971832918754, 1910.0536063702693, 2888.258510804865, 539.1770165594766, 2457.3881870935566, 1720.0511915028883, 2912.882550679511, 1817.7690048685524, 4338.3536605584495, 906.4952617122086, 760.5844039792819, 381.93190143248694, 201.68415280356828, 150.78402393821156, 130.58092393416305, 109.24348664736317, 104.56807141586258, 105.58021619496066, 95.02117869343216, 93.60837890372083, 125.86520657213207, 81.86697500528513, 79.24466691007785, 68.49486637607544, 339.44605101233424, 1226.210448918958, 152.35458089242007, 76.7843635903314, 50.928705233138885, 439.7523308923917, 2070.93445622773, 65.05497366940469, 321.2874810645661, 141.16852092947443, 99.34409454363791, 199.85393540322144, 129.4097463485598, 51.46324743064389, 182.33244415715572, 55.840917338989925, 111.31141646206139, 306.33656377736855, 1083.7751790033562, 876.1064316759987, 4338.3536605584495, 223.02987016160648, 956.1749401103177, 1340.8810739798037, 1817.7690048685524, 1266.5430488966538, 1371.2165575867139, 715.1717654296317, 3946.4971832918754, 3205.0600244247144, 2912.882550679511, 2457.3881870935566, 723.439405599458, 2084.9105666128003], \"Category\": [\"Default\", \"Default\", \"Default\", \"Default\", \"Default\", \"Default\", \"Default\", \"Default\", \"Default\", \"Default\", \"Default\", \"Default\", \"Default\", \"Default\", \"Default\", \"Default\", \"Default\", \"Default\", \"Default\", \"Default\", \"Default\", \"Default\", \"Default\", \"Default\", \"Default\", \"Default\", \"Default\", \"Default\", \"Default\", \"Default\", \"Topic1\", \"Topic1\", \"Topic1\", \"Topic1\", \"Topic1\", \"Topic1\", \"Topic1\", \"Topic1\", \"Topic1\", \"Topic1\", \"Topic1\", \"Topic1\", \"Topic1\", \"Topic1\", \"Topic1\", \"Topic1\", \"Topic1\", \"Topic1\", \"Topic1\", \"Topic1\", \"Topic1\", \"Topic1\", \"Topic1\", \"Topic1\", \"Topic1\", \"Topic1\", \"Topic1\", \"Topic1\", \"Topic1\", \"Topic1\", \"Topic1\", \"Topic1\", \"Topic1\", \"Topic1\", \"Topic1\", \"Topic1\", \"Topic1\", \"Topic1\", \"Topic1\", \"Topic1\", \"Topic1\", \"Topic1\", \"Topic1\", \"Topic1\", \"Topic1\", \"Topic1\", \"Topic1\", \"Topic1\", \"Topic1\", \"Topic1\", \"Topic1\", \"Topic1\", \"Topic1\", \"Topic1\", \"Topic1\", \"Topic1\", \"Topic1\", \"Topic2\", \"Topic2\", \"Topic2\", \"Topic2\", \"Topic2\", \"Topic2\", \"Topic2\", \"Topic2\", \"Topic2\", \"Topic2\", \"Topic2\", \"Topic2\", \"Topic2\", \"Topic2\", \"Topic2\", \"Topic2\", \"Topic2\", \"Topic2\", \"Topic2\", \"Topic2\", \"Topic2\", \"Topic2\", \"Topic2\", \"Topic2\", \"Topic2\", \"Topic2\", \"Topic2\", \"Topic2\", \"Topic2\", \"Topic2\", \"Topic2\", \"Topic2\", \"Topic2\", \"Topic2\", \"Topic2\", \"Topic2\", \"Topic2\", \"Topic2\", \"Topic2\", \"Topic2\", \"Topic2\", \"Topic2\", \"Topic2\", \"Topic2\", \"Topic2\", \"Topic2\", \"Topic2\", \"Topic2\", \"Topic2\", \"Topic2\", \"Topic2\", \"Topic2\", \"Topic2\", \"Topic2\", \"Topic2\", \"Topic2\", \"Topic2\", \"Topic2\", \"Topic2\", \"Topic2\", \"Topic3\", \"Topic3\", \"Topic3\", \"Topic3\", \"Topic3\", \"Topic3\", \"Topic3\", \"Topic3\", \"Topic3\", \"Topic3\", \"Topic3\", \"Topic3\", \"Topic3\", \"Topic3\", \"Topic3\", \"Topic3\", \"Topic3\", \"Topic3\", \"Topic3\", \"Topic3\", \"Topic3\", \"Topic3\", \"Topic3\", \"Topic3\", \"Topic3\", \"Topic3\", \"Topic3\", \"Topic3\", \"Topic3\", \"Topic3\", \"Topic3\", \"Topic3\", \"Topic3\", \"Topic3\", \"Topic3\", \"Topic3\", \"Topic3\", \"Topic3\", \"Topic3\", \"Topic3\", \"Topic3\", \"Topic3\", \"Topic3\", \"Topic3\", \"Topic3\", \"Topic3\", \"Topic3\", \"Topic3\", \"Topic3\", \"Topic3\", \"Topic3\", \"Topic3\", \"Topic3\", \"Topic3\", \"Topic3\", \"Topic3\", \"Topic3\", \"Topic3\", \"Topic3\", \"Topic4\", \"Topic4\", \"Topic4\", \"Topic4\", \"Topic4\", \"Topic4\", \"Topic4\", \"Topic4\", \"Topic4\", \"Topic4\", \"Topic4\", \"Topic4\", \"Topic4\", \"Topic4\", \"Topic4\", \"Topic4\", \"Topic4\", \"Topic4\", \"Topic4\", \"Topic4\", \"Topic4\", \"Topic4\", \"Topic4\", \"Topic4\", \"Topic4\", \"Topic4\", \"Topic4\", \"Topic4\", \"Topic4\", \"Topic4\", \"Topic4\", \"Topic4\", \"Topic4\", \"Topic4\", \"Topic4\", \"Topic4\", \"Topic4\", \"Topic4\", \"Topic4\", \"Topic4\", \"Topic4\", \"Topic4\", \"Topic4\", \"Topic4\", \"Topic4\", \"Topic4\", \"Topic4\", \"Topic4\", \"Topic4\", \"Topic4\", \"Topic4\", \"Topic4\", \"Topic4\", \"Topic4\", \"Topic5\", \"Topic5\", \"Topic5\", \"Topic5\", \"Topic5\", \"Topic5\", \"Topic5\", \"Topic5\", \"Topic5\", \"Topic5\", \"Topic5\", \"Topic5\", \"Topic5\", \"Topic5\", \"Topic5\", \"Topic5\", \"Topic5\", \"Topic5\", \"Topic5\", \"Topic5\", \"Topic5\", \"Topic5\", \"Topic5\", \"Topic5\", \"Topic5\", \"Topic5\", \"Topic5\", \"Topic5\", \"Topic5\", \"Topic5\", \"Topic5\", \"Topic5\", \"Topic5\", \"Topic5\", \"Topic5\", \"Topic5\", \"Topic5\", \"Topic5\", \"Topic5\", \"Topic5\", \"Topic5\", \"Topic5\", \"Topic5\", \"Topic5\", \"Topic5\", \"Topic5\", \"Topic5\", \"Topic5\", \"Topic5\", \"Topic5\", \"Topic5\", \"Topic5\", \"Topic5\", \"Topic5\", \"Topic5\", \"Topic5\", \"Topic5\", \"Topic5\", \"Topic5\", \"Topic6\", \"Topic6\", \"Topic6\", \"Topic6\", \"Topic6\", \"Topic6\", \"Topic6\", \"Topic6\", \"Topic6\", \"Topic6\", \"Topic6\", \"Topic6\", \"Topic6\", \"Topic6\", \"Topic6\", \"Topic6\", \"Topic6\", \"Topic6\", \"Topic6\", \"Topic6\", \"Topic6\", \"Topic6\", \"Topic6\", \"Topic6\", \"Topic6\", \"Topic6\", \"Topic6\", \"Topic6\", \"Topic6\", \"Topic6\", \"Topic6\", \"Topic6\", \"Topic6\", \"Topic6\", \"Topic6\", \"Topic6\", \"Topic6\", \"Topic6\", \"Topic6\", \"Topic6\", \"Topic6\", \"Topic6\", \"Topic6\", \"Topic6\", \"Topic6\", \"Topic6\", \"Topic6\", \"Topic6\", \"Topic6\", \"Topic6\", \"Topic6\", \"Topic6\", \"Topic6\", \"Topic6\", \"Topic7\", \"Topic7\", \"Topic7\", \"Topic7\", \"Topic7\", \"Topic7\", \"Topic7\", \"Topic7\", \"Topic7\", \"Topic7\", \"Topic7\", \"Topic7\", \"Topic7\", \"Topic7\", \"Topic7\", \"Topic7\", \"Topic7\", \"Topic7\", \"Topic7\", \"Topic7\", \"Topic7\", \"Topic7\", \"Topic7\", \"Topic7\", \"Topic7\", \"Topic7\", \"Topic7\", \"Topic7\", \"Topic7\", \"Topic7\", \"Topic7\", \"Topic7\", \"Topic7\", \"Topic7\", \"Topic7\", \"Topic7\", \"Topic7\", \"Topic7\", \"Topic7\", \"Topic7\", \"Topic7\", \"Topic7\", \"Topic7\", \"Topic7\", \"Topic7\", \"Topic7\", \"Topic7\"], \"logprob\": [30.0, 29.0, 28.0, 27.0, 26.0, 25.0, 24.0, 23.0, 22.0, 21.0, 20.0, 19.0, 18.0, 17.0, 16.0, 15.0, 14.0, 13.0, 12.0, 11.0, 10.0, 9.0, 8.0, 7.0, 6.0, 5.0, 4.0, 3.0, 2.0, 1.0, -5.1983, -5.9061, -6.0428, -6.2593, -5.8959, -6.5411, -4.4012, -5.5686, -6.3414, -4.7718, -6.3727, -5.9699, -6.3753, -6.2825, -5.7204, -4.4148, -5.4652, -5.4041, -6.6867, -6.3924, -6.2284, -6.3442, -4.7641, -5.7834, -5.2125, -5.3775, -5.8188, -6.144, -3.3212, -6.607, -3.125, -3.1163, -5.0635, -4.0054, -3.1557, -3.7638, -3.3903, -4.9008, -4.1198, -3.1965, -4.4215, -3.9179, -3.9182, -3.4797, -3.9599, -3.6082, -4.0874, -4.6566, -4.6035, -4.4757, -4.3117, -4.5198, -4.754, -4.6093, -4.8137, -4.9483, -4.8681, -4.792, -4.8141, -5.2195, -5.496, -5.5021, -5.5108, -5.5708, -5.7002, -4.4407, -5.549, -5.2723, -4.7869, -5.2122, -5.9895, -5.6174, -5.9114, -4.7893, -5.0709, -5.4802, -4.5601, -5.3188, -5.4659, -6.192, -6.0859, -5.6079, -5.418, -5.7216, -5.9739, -5.9174, -6.3311, -5.4081, -4.8645, -4.7996, -5.4716, -5.1729, -3.3531, -4.3853, -3.5795, -5.2389, -4.1865, -4.3099, -4.8714, -4.6575, -4.6745, -3.899, -4.1793, -4.3962, -4.8003, -4.5086, -4.3608, -4.0134, -4.8167, -4.6599, -4.366, -4.0088, -4.6222, -4.4896, -4.2264, -4.7198, -4.8113, -4.725, -4.734, -5.3269, -5.6735, -5.764, -5.7796, -5.8107, -5.575, -6.0118, -6.0115, -6.0753, -4.8073, -5.3761, -5.2887, -5.5926, -5.1592, -5.8269, -5.0619, -6.0368, -5.5259, -5.2108, -5.3867, -6.1717, -5.0556, -5.6665, -5.2402, -4.9898, -6.089, -5.3865, -5.8518, -4.4162, -4.1809, -5.0912, -4.6538, -4.1002, -2.7711, -2.856, -3.7584, -4.7655, -3.5926, -3.9741, -4.6111, -3.9505, -3.6521, -4.1589, -4.1794, -4.4343, -3.9237, -4.1903, -4.2629, -4.6914, -4.8187, -4.4612, -4.5721, -4.8302, -4.5796, -4.8676, -4.9302, -4.8015, -4.9002, -5.1027, -4.5582, -5.6138, -2.9649, -6.0428, -5.6535, -4.469, -4.7947, -6.0018, -5.5016, -5.9148, -5.4129, -6.0628, -6.0467, -4.7906, -5.5929, -5.0817, -5.6664, -3.9859, -5.6154, -5.1593, -5.6801, -6.3292, -6.4021, -4.208, -4.0819, -5.6401, -5.249, -5.3132, -3.9811, -3.6584, -4.4956, -4.9534, -4.9024, -3.2411, -4.2453, -2.8488, -4.5958, -3.3342, -3.7644, -4.5377, -3.4055, -4.722, -4.1639, -4.291, -4.4572, -4.025, -4.1806, -3.9546, -4.3208, -4.7984, -4.5921, -4.646, -5.9582, -6.103, -6.1978, -4.9688, -5.5099, -5.1649, -6.0821, -5.783, -6.3019, -5.6175, -5.7435, -5.8817, -5.1837, -5.9152, -5.1874, -5.992, -6.0017, -4.4537, -6.2611, -4.8103, -6.2599, -4.9512, -5.2922, -5.1183, -6.5753, -6.5095, -6.5111, -4.2494, -3.7625, -5.1213, -4.3198, -4.1784, -5.5641, -3.6515, -3.5001, -3.8728, -4.0238, -3.5174, -4.2369, -3.3603, -4.2725, -4.6348, -3.2971, -4.0063, -4.7097, -3.7203, -4.5469, -4.1484, -4.0822, -4.6168, -4.6071, -4.0223, -4.5914, -4.8965, -4.5637, -4.6952, -4.4847, -4.62, -4.6989, -3.9231, -4.7585, -3.8398, -4.8797, -4.892, -4.959, -5.4613, -5.559, -5.3113, -3.943, -5.2865, -5.1116, -5.6954, -3.6966, -5.5714, -4.9261, -4.3263, -5.1251, -5.4068, -5.6281, -6.0196, -5.1482, -5.7811, -5.6676, -5.6585, -5.4592, -3.7905, -4.5651, -5.1166, -6.0277, -4.4619, -4.1094, -3.9809, -2.9701, -3.7965, -4.4132, -4.366, -3.7105, -4.2397, -3.085, -4.1923, -4.3362, -4.5162, -3.6205, -3.9388, -3.8802, -4.578, -4.1194, -4.2667, -4.1434, -4.2816, -4.1776, -4.5333, -4.5564, -3.6091, -4.2496, -4.5418, -4.6866, -4.8663, -4.9103, -4.9008, -5.0069, -5.022, -4.7266, -5.1574, -5.1903, -5.3377, -3.7489, -2.4759, -4.5809, -5.3517, -5.774, -3.6375, -2.1469, -5.6116, -4.0898, -4.9516, -5.3227, -4.6796, -5.1858, -6.1126, -4.8518, -6.1375, -5.4572, -4.4612, -3.7477, -4.0829, -3.1801, -5.0166, -4.3575, -4.2291, -4.1605, -4.3815, -4.4377, -4.6596, -4.2799, -4.381, -4.5771, -4.6108, -4.8274, -4.7915], \"loglift\": [30.0, 29.0, 28.0, 27.0, 26.0, 25.0, 24.0, 23.0, 22.0, 21.0, 20.0, 19.0, 18.0, 17.0, 16.0, 15.0, 14.0, 13.0, 12.0, 11.0, 10.0, 9.0, 8.0, 7.0, 6.0, 5.0, 4.0, 3.0, 2.0, 1.0, 1.498, 1.4956, 1.4943, 1.4916, 1.4912, 1.4872, 1.4175, 1.371, 1.3614, 1.3425, 1.3373, 1.3203, 1.3194, 1.3078, 1.2981, 1.2903, 1.2257, 1.225, 1.1836, 1.1711, 1.1679, 1.157, 1.133, 1.1319, 1.1262, 1.1067, 1.1055, 1.0967, 1.0834, 1.081, 0.9351, 0.7738, 0.9817, 0.818, 0.6388, 0.7286, 0.5083, 0.8755, 0.6031, 0.2952, 0.66, 0.4437, 0.4394, 0.1066, 0.2646, -0.0665, 0.2247, 0.5604, 0.3608, 0.2355, 0.0503, 0.1461, 0.1904, -0.1925, 0.065, 0.4638, -0.0328, 1.9721, 1.9706, 1.9694, 1.9669, 1.9668, 1.9667, 1.9625, 1.9261, 1.905, 1.856, 1.8408, 1.7946, 1.7762, 1.7698, 1.7696, 1.7564, 1.7538, 1.7498, 1.7373, 1.7349, 1.7222, 1.7196, 1.7095, 1.7074, 1.6578, 1.6559, 1.6553, 1.6411, 1.6297, 1.581, 1.5723, 1.5632, 1.5086, 1.5565, 1.4616, 0.944, 1.1219, 0.7326, 1.4545, 0.905, 0.923, 1.242, 1.1048, 1.0863, 0.4587, 0.6442, 0.8065, 1.1404, 0.8499, 0.6965, 0.211, 1.121, 0.8997, 0.5164, -0.4224, 0.6722, 0.2217, -0.4319, 0.7468, -0.7512, 1.9144, 1.9143, 1.9106, 1.9073, 1.9061, 1.906, 1.9055, 1.904, 1.9026, 1.9025, 1.8826, 1.8564, 1.8484, 1.8461, 1.8236, 1.8073, 1.7859, 1.7819, 1.7612, 1.7415, 1.7394, 1.6987, 1.6891, 1.679, 1.6755, 1.6605, 1.6585, 1.653, 1.6508, 1.6341, 1.6235, 1.6106, 1.5816, 1.3558, 1.1828, 0.7206, 0.6858, 0.9075, 1.3106, 0.3059, 0.3879, 0.8905, 0.2807, -0.0657, 0.2457, 0.2374, 0.5301, -0.1292, 0.1713, 0.2296, 0.7385, 0.9482, 0.1823, 0.2633, 0.9182, -0.2219, 0.692, 0.9384, -0.9114, 1.9822, 1.9809, 1.9808, 1.9762, 1.9746, 1.9701, 1.9353, 1.9267, 1.8683, 1.8584, 1.8312, 1.7981, 1.7352, 1.7313, 1.7248, 1.7118, 1.7095, 1.6918, 1.6789, 1.6542, 1.65, 1.6454, 1.6233, 1.6209, 1.614, 1.6031, 1.5538, 1.5007, 1.4774, 1.4674, 1.4547, 1.4428, 1.4393, 1.4475, 1.4273, 1.1209, 1.2245, 0.6929, 1.2735, 0.5644, 0.5327, 0.9695, 0.1809, 1.0403, 0.502, 0.5914, 0.7598, 0.287, 0.3118, -0.4629, -0.4307, 0.8916, 0.0664, -0.2844, 1.7556, 1.7532, 1.7513, 1.6907, 1.6663, 1.6609, 1.6484, 1.6359, 1.6339, 1.6297, 1.6142, 1.6132, 1.6047, 1.5152, 1.4997, 1.4587, 1.4023, 1.3911, 1.3898, 1.3565, 1.3277, 1.3057, 1.2781, 1.2768, 1.2608, 1.2585, 1.256, 1.2521, 1.2416, 1.2395, 1.1956, 1.0692, 1.1829, 0.992, 0.9168, 0.9626, 0.9206, 0.707, 0.833, 0.4341, 0.809, 0.9732, 0.2893, 0.6523, 0.9877, 0.1697, 0.6859, 0.2093, -0.0221, 0.4747, 0.4503, -0.5306, 0.1198, 0.8193, -0.1591, 0.1835, -0.5862, -0.3079, -0.3373, 2.4412, 2.4382, 2.438, 2.4373, 2.4371, 2.4365, 2.4303, 2.4286, 2.3074, 2.2253, 2.1684, 2.1534, 2.1129, 2.0698, 2.0517, 2.0337, 2.0337, 2.033, 2.0192, 2.0147, 2.0095, 1.9961, 1.9612, 1.9591, 1.937, 1.92, 1.9071, 1.9016, 1.8927, 1.8483, 1.7958, 1.7251, 1.6547, 1.327, 1.3047, 1.4561, 1.3923, 0.9481, 1.2269, 0.4567, 1.1752, 1.0996, 1.1853, -0.0341, 0.3732, 0.0184, 0.9989, -0.0593, 0.1502, -0.2533, 0.08, -0.6859, 0.5241, 0.6765, 2.3126, 2.3107, 2.3093, 2.3084, 2.3071, 2.3068, 2.3067, 2.306, 2.3058, 2.3051, 2.3045, 2.3042, 2.3025, 2.2907, 2.2794, 2.2598, 2.1743, 2.1625, 2.1432, 2.0843, 2.0801, 2.0049, 1.9655, 1.9456, 1.8898, 1.8182, 1.8135, 1.8094, 1.707, 1.6974, 1.6811, 1.131, 1.0086, 0.3116, 1.4431, 0.6466, 0.4368, 0.2011, 0.3414, 0.2058, 0.6349, -0.6936, -0.5865, -0.6871, -0.5507, 0.4556, -0.567]}, \"token.table\": {\"Topic\": [3, 5, 7, 1, 4, 1, 2, 3, 4, 5, 6, 7, 1, 2, 3, 4, 5, 6, 7, 1, 2, 3, 4, 5, 6, 1, 3, 4, 7, 3, 7, 3, 4, 2, 3, 4, 5, 6, 7, 1, 3, 5, 1, 5, 6, 1, 2, 6, 1, 2, 3, 4, 5, 6, 7, 5, 2, 5, 7, 6, 1, 3, 4, 6, 1, 2, 3, 4, 7, 1, 2, 4, 5, 6, 7, 1, 3, 4, 2, 3, 4, 7, 1, 2, 3, 4, 5, 6, 7, 5, 6, 7, 3, 4, 6, 7, 1, 3, 5, 6, 7, 3, 4, 5, 7, 2, 7, 1, 4, 7, 2, 6, 1, 2, 3, 4, 5, 6, 7, 6, 1, 2, 3, 4, 5, 6, 7, 1, 2, 5, 6, 2, 4, 5, 1, 2, 3, 4, 5, 1, 2, 3, 4, 6, 7, 1, 2, 3, 4, 5, 6, 7, 2, 5, 7, 3, 5, 2, 1, 2, 4, 5, 3, 1, 2, 3, 4, 5, 7, 1, 2, 4, 6, 2, 3, 6, 7, 1, 2, 3, 4, 5, 6, 7, 6, 4, 6, 4, 1, 5, 7, 1, 2, 3, 4, 5, 6, 1, 2, 3, 4, 5, 6, 7, 1, 2, 4, 6, 7, 5, 7, 1, 3, 4, 6, 7, 1, 2, 3, 4, 5, 6, 7, 3, 4, 4, 6, 1, 4, 5, 6, 2, 3, 6, 1, 2, 3, 7, 2, 7, 1, 3, 4, 5, 1, 3, 4, 5, 6, 1, 6, 2, 5, 1, 5, 1, 5, 4, 5, 6, 3, 4, 6, 7, 2, 3, 4, 5, 6, 7, 2, 4, 6, 3, 4, 3, 7, 1, 2, 4, 2, 5, 6, 3, 1, 2, 3, 4, 5, 6, 7, 1, 4, 5, 2, 3, 4, 5, 6, 7, 2, 7, 3, 5, 7, 2, 5, 7, 1, 4, 7, 1, 3, 4, 7, 3, 1, 3, 2, 4, 1, 2, 3, 4, 5, 6, 7, 5, 6, 2, 3, 2, 5, 1, 2, 3, 4, 5, 6, 7, 3, 4, 6, 2, 1, 2, 3, 4, 5, 6, 7, 1, 2, 3, 4, 5, 6, 7, 4, 1, 2, 3, 4, 5, 6, 1, 3, 7, 1, 2, 3, 4, 5, 6, 1, 2, 4, 5, 1, 4, 5, 1, 3, 4, 5, 6, 1, 4, 1, 3, 6, 3, 5, 1, 2, 3, 5, 6, 7, 1, 7, 1, 2, 3, 5, 6, 1, 2, 3, 5, 7, 1, 3, 5, 1, 3, 4, 5, 7, 1, 6, 1, 5, 7, 2, 1, 3, 4, 7, 1, 2, 3, 4, 5, 6, 7, 6, 3, 7, 3, 4, 7, 3, 4, 7, 3, 4, 7, 3, 3, 7, 1, 6, 4, 6, 1, 2, 3, 4, 5, 6, 1, 2, 4, 5, 6, 7, 2, 5, 7, 1, 3, 4, 2, 3, 4, 1, 3, 4, 7, 1, 2, 3, 5, 7, 1, 5, 7, 5, 7, 1, 2, 3, 4, 5, 6, 4, 5, 7, 3, 5, 7, 1, 4, 1, 3, 4, 7, 1, 2, 3, 4, 5, 6, 7, 1, 4, 7, 1, 2, 3, 4, 5, 6, 7, 2, 3, 4, 7, 2, 6, 7, 7, 3, 4, 5, 6, 1, 3, 4, 5, 1, 2, 3, 4, 5, 6, 2, 5, 2, 7, 1, 4, 7, 4, 6, 7, 3, 3, 4, 6, 4, 7, 2, 7, 1, 2, 3, 4, 5, 6, 7, 1, 2, 3, 4, 5, 1, 2, 3, 4, 5, 6, 7, 5, 1, 4, 7, 1, 2, 3, 4, 5, 6, 7, 2, 3, 4, 7, 4, 1, 2, 3, 4, 5, 6, 7, 1, 1, 2, 5, 1, 2, 3, 4, 5, 6, 7, 1, 2, 3, 5, 6, 7, 4, 5, 1, 2, 6, 1, 2, 3, 5, 6, 2, 5, 1, 2, 3, 5, 6, 7, 3, 7, 3, 7, 4, 6, 1, 2, 3, 4, 5, 7, 1, 2, 3, 4, 5, 6, 7, 2, 7, 1, 3, 4, 1, 2, 3, 5, 3, 4, 7, 7, 2, 3, 4, 5, 6, 2, 5, 7, 1, 2, 7, 1, 3, 4, 1, 3, 4, 7, 3, 2, 4, 1, 2, 4, 6, 2, 3, 2, 4, 6, 4, 2, 6, 1, 2, 3, 4, 6, 7, 2, 3, 4, 5, 6, 2, 6, 4, 6, 2, 4, 6, 1, 2, 3, 4, 5, 6, 7, 4, 6, 3, 4, 1, 4, 2, 4, 5, 6, 4, 5, 2, 1, 3, 7, 1, 2, 5, 6, 7, 1, 2, 5, 2, 3, 5, 6, 7, 2, 5, 7, 5, 7, 2, 5, 7, 7, 7, 3, 4, 6, 2, 4, 5, 6, 1, 3, 6, 7, 6, 7, 1, 2, 3, 5, 6, 7, 3, 4, 2, 7, 2, 3, 4, 7, 1, 3, 6, 1, 2, 3, 4, 5, 7, 4, 5, 2, 3, 5, 7, 7, 1, 2, 3, 4, 5, 6, 7, 1, 4, 6, 7, 1, 4, 6, 1, 4, 1, 5, 6, 1, 2, 6, 1, 2, 3, 4, 5, 6, 7, 2, 5, 1, 2, 3, 4, 5, 6, 7, 3, 6, 1, 2, 3, 4, 5, 6, 1, 2, 4, 3, 2, 5, 6, 3, 1, 2, 3, 4, 5, 6, 7, 5, 7, 1, 3, 4, 3, 4, 7, 1, 5, 6, 1, 3, 1, 2, 3, 4, 7, 2, 3, 7, 3, 4, 7, 1, 2, 3, 4, 5, 6, 7, 1, 2, 3, 4, 5, 6, 7, 2, 6, 1, 2, 3, 4, 5, 6, 7, 3, 2, 5, 2, 4, 7, 1, 2, 3, 5, 7, 3, 5, 6, 1, 2, 3, 4, 5, 6, 7, 2, 3, 5, 6, 7, 2, 5, 7, 1, 2, 4, 5, 2, 3, 4, 5, 1, 3, 7, 2, 6, 3, 4, 7, 1, 2, 3, 5, 6, 2, 5, 1, 3, 4, 6, 7, 2, 4, 5, 6, 4, 5, 1, 2, 3, 4, 5, 7], \"Freq\": [0.0358160305257653, 0.41188435104630094, 0.5372404578864794, 0.8507324036690604, 0.1491956081061412, 0.2908529062802883, 0.3099879659039915, 0.002551341283160424, 0.1250157228748608, 0.192626266878612, 0.059956520154269964, 0.02041073026528339, 0.5652342626595033, 0.06551671439033839, 0.035403441937636275, 0.028892464110025006, 0.16684380683253877, 0.08179415895936656, 0.05697105599159861, 0.16994850293973637, 0.3234984661221298, 0.10882667293509435, 0.022361645123649524, 0.2907013866074438, 0.08497425146986819, 0.21800621355060243, 0.7453455679500326, 0.03240632904130576, 0.005892059825691957, 0.04594545145277127, 0.9451635727427233, 0.9344677153095645, 0.057802126720179245, 0.6243053916187415, 0.038537369853008735, 0.1040508986031236, 0.18112563830914108, 0.019268684926504367, 0.026976158897106115, 0.8767218746237568, 0.03622817663734532, 0.08694762392962878, 0.05681785515203873, 0.2759724393099024, 0.6615221706987366, 0.203308314343395, 0.24027346240583047, 0.5544772209365318, 0.2892210388571484, 0.17075072940820038, 0.07722153773797827, 0.036932039787728736, 0.34581819073964176, 0.024461480898365785, 0.05611751500213327, 0.9742610997846924, 0.3019807079405429, 0.010066023598018097, 0.6945556282632487, 0.9947729594581765, 0.179330057135777, 0.10759803428146619, 0.026899508570366548, 0.685937468544347, 0.08689843749772018, 0.062070312498371555, 0.3749046874901642, 0.2979374999921835, 0.17627968749537523, 0.29647613128420613, 0.017439772428482714, 0.05755124901399295, 0.5633046494399916, 0.06278318074253776, 0.0017439772428482713, 0.020829336103841297, 0.21870802909033363, 0.7602707677902074, 0.2634278455669559, 0.10537113822678237, 0.6029570687421436, 0.02926976061855066, 0.2558825849200922, 0.27126350532512505, 0.0013982654913666241, 0.16080053150716178, 0.11465777029206317, 0.00978785843956637, 0.185969310351761, 0.6371375927290884, 0.15235898956565158, 0.19391144126537474, 0.1256928671465525, 0.19962984782099516, 0.6654328260699839, 0.007393698067444265, 0.5924770535464762, 0.05332293481918286, 0.29031375623777333, 0.02962385267732381, 0.03258623794505619, 0.8047229180975912, 0.18441566873069798, 0.008382530396849908, 0.9955512343100287, 0.19983099318528955, 0.7839523578807513, 0.1570043623881989, 0.8321231206574542, 0.9892531464303679, 0.7209898059167801, 0.26519165275099954, 0.019721677070318414, 0.34841629490895865, 0.0013147784713545608, 0.08546060063804646, 0.3392128456094767, 0.17092120127609292, 0.036813797197927704, 0.9933174989375332, 0.5028937902398193, 0.2636700080771275, 0.009603874466385437, 0.013969271951106092, 0.17286974039493788, 0.032303941386932836, 0.005238476981664784, 0.07124542819139276, 0.6570411710984, 0.15040701507071808, 0.12665853900692048, 0.1302114036721256, 0.0828618023368072, 0.7812684220327537, 0.532050731754989, 0.015848319669297544, 0.05660114167606265, 0.20150006436678305, 0.19470792736565554, 0.16176471533868925, 0.25210085507328195, 0.004201680917888032, 0.262605057368002, 0.2836134619574422, 0.03571428780204827, 0.2809325589973875, 0.17246137649561843, 0.07179387618822125, 0.11159265537951782, 0.19197058198154812, 0.08974234523527656, 0.08037792660203032, 0.6641733479894928, 0.2415175810870883, 0.09056909290765812, 0.8009729068159974, 0.20024322670399936, 0.9839896118503575, 0.1334186658165823, 0.43227647724572665, 0.12274517255125572, 0.3068629313781393, 0.9962486846805961, 0.03839141208443721, 0.07678282416887441, 0.06581384928760664, 0.060329361846972754, 0.15356564833774883, 0.6032936184697275, 0.0024845780039576457, 0.13416721221371286, 0.48946186677965625, 0.3726867005936469, 0.06954653922092446, 0.05409175272738569, 0.27045876363692845, 0.6104640664947814, 0.04745062118961764, 0.3558796589221323, 0.0005157676216262788, 0.23312696497507798, 0.035072198270586954, 0.3264809044894344, 0.001547302864878836, 0.9918757370811147, 0.6984162477975037, 0.3022995699422031, 0.9921901437139339, 0.7165911173898258, 0.24337056817012956, 0.04056176136168826, 0.27800266873612767, 0.28795003353082904, 0.0005235455155105982, 0.1827173849131988, 0.12512737820703299, 0.12565092372254358, 0.16481714631403732, 0.009480632310099492, 0.1764856168495444, 0.06344730853681968, 0.45944602733559076, 0.00437567645081515, 0.12106038180588582, 0.058811837234424, 0.42552093999024426, 0.36151982299984164, 0.15394863276069812, 0.9975600324848705, 0.4581740276154197, 0.5390282677828467, 0.278563894018605, 0.005305978933687714, 0.5783517037719609, 0.111425557607442, 0.023876905201594713, 0.06687187022190866, 0.13374374044381732, 0.005900459137227234, 0.6470836853825866, 0.055070951947454184, 0.07670596878395404, 0.013767737986863546, 0.8348341986176054, 0.161108354119187, 0.371861976949247, 0.614380657568321, 0.6658341217315031, 0.14687517391136098, 0.18604188695439058, 0.9932463575568382, 0.7656796660435912, 0.06806041475943032, 0.1701510368985758, 0.05748049836375398, 0.6706058142437965, 0.1916016612125133, 0.07664066448500531, 0.7583362677500802, 0.22750088032502408, 0.020071412655102823, 0.1806427138959254, 0.7125351492561502, 0.08028565062041129, 0.6558433857791545, 0.1877940342817719, 0.003445762096913246, 0.1452963017531752, 0.007465817876645366, 0.8332881425405304, 0.16460012692158627, 0.3907115533864186, 0.6038269461426469, 0.9164680153354743, 0.08267108385758144, 0.30989113205159635, 0.6788091463987349, 0.21528162945101573, 0.10046476041047402, 0.6745491056131826, 0.16792926171773767, 0.7171567294533974, 0.09285500353804318, 0.021732022104648405, 0.028990007584415958, 0.04509556735353593, 0.5862423755959671, 0.0016105559769119975, 0.2609100682597436, 0.07730668689177589, 0.2531547355005409, 0.6797673453255265, 0.06563270920384394, 0.38099801008873274, 0.6113688999098269, 0.8690538585860024, 0.12509108570556093, 0.9877471662627763, 0.2985420885211916, 0.6965982065494469, 0.3936310255121614, 0.011246600728918896, 0.5960698386327016, 0.9904641936086928, 0.11662404347192666, 0.1300806638725336, 0.3790281412837616, 0.10989573327162319, 0.11213850333839101, 0.011213850333839101, 0.14129451420637268, 0.07883829623259112, 0.03941914811629556, 0.8672212585585023, 0.3424241497988978, 0.06391917462912759, 0.03880807031054175, 0.27393931983911823, 0.009131310661303942, 0.27051507834112926, 0.11781175218442133, 0.8639528493524231, 0.7801789221655895, 0.20588054890480834, 0.9894099543163876, 0.784447488437353, 0.09566432785821379, 0.11479719342985653, 0.8194077157078706, 0.1666591964151601, 0.01388826636793001, 0.15828328863097066, 0.05065065236191061, 0.7091091330667486, 0.07597597854286592, 0.9928745957615837, 0.020059886904137004, 0.9628745713985762, 0.00485395523312069, 0.9950608227897414, 0.3460285648590892, 0.04070924292459874, 0.1743895946905108, 0.10287335712026978, 0.12157760386940973, 0.09407135865008627, 0.12102747896502326, 0.8585218742652082, 0.1388785384840778, 0.994706620009831, 0.9981537782778858, 0.7292498641268882, 0.26926148829300484, 0.21468562058671192, 0.04682443576582606, 0.19083166274374394, 0.002650439760329777, 0.44615735965551245, 0.049474875526155836, 0.04859139560604591, 0.24486174524657678, 0.1296326886599524, 0.6193561791531059, 0.9904013534798974, 0.1831340843552278, 0.07616052396995188, 0.18604097458308855, 0.0005813780455721516, 0.4267314854499593, 0.10057840188398225, 0.02732476814189113, 0.2076710605280609, 0.02859414835742262, 0.29127259597984734, 0.27382531901599627, 0.041194959497981735, 0.13667033621683353, 0.020597479748990868, 0.9958083495586912, 0.6897233713007752, 0.07919046114934826, 0.15838092229869652, 0.06130874411562446, 0.010218124019270743, 0.002554531004817686, 0.20916696435399865, 0.7355321823437315, 0.055164913675779866, 0.18706283289446035, 0.23243946067578986, 0.04537662778132949, 0.2472563187268362, 0.18613677926626995, 0.10093984547275336, 0.44397136661951586, 0.4788548311396207, 0.06976692904020963, 0.006342448094564512, 0.012932322379337488, 0.08406009546569368, 0.8987964053639554, 0.7542452820781944, 0.16997076779226916, 0.06905062441560936, 0.39094894553358905, 0.600385880640869, 0.986193955396267, 0.011335562705704218, 0.2385969235714938, 0.7157907707144815, 0.044390125315626756, 0.23079134422737554, 0.7655517759737336, 0.16144651263164655, 0.09740161505876196, 0.16144651263164655, 0.4963479561898555, 0.006671343497175477, 0.07605331586780044, 0.6584890928350771, 0.3369013963342255, 0.2352562765920228, 0.08249246062317683, 0.5438391848490917, 0.12832160541383061, 0.009165828958130758, 0.021818579090727954, 0.23515579686673463, 0.05333430444400167, 0.6860730980751123, 0.0024242865656364395, 0.2536088315165329, 0.04611069663936962, 0.6916604495905443, 0.67086900337729, 0.036759945390536446, 0.03216495221671939, 0.23434465186466982, 0.022974965869085276, 0.23047772259302338, 0.752085200040392, 0.1350986656606252, 0.20514982563280124, 0.6554787111682185, 0.9928891867261799, 0.3458881734852343, 0.5688574092856333, 0.008575739838476884, 0.07718165854629196, 0.3441212590640056, 0.2191855153273921, 0.11781221448847325, 0.036713573817338176, 0.2104180947142964, 0.04822081337202626, 0.02411040668601313, 0.9761022570832323, 0.8807133413221414, 0.11364043113834082, 0.7507061848877825, 0.01251176974812971, 0.22521185546633476, 0.7850054724701133, 0.07082756142587489, 0.1357528260662602, 0.2663629930162144, 0.5834617942259935, 0.14797944056456358, 0.979087084571939, 0.007945007418924071, 0.9931259273655089, 0.004075872015224289, 0.9945127717147265, 0.355637378604075, 0.640147281487335, 0.15642719159127597, 0.1489066535340031, 0.07971770340709255, 0.15341897636836682, 0.17898880576309462, 0.2812681233420058, 0.062306800687513285, 0.594746733835354, 0.045314036863646025, 0.20957742049436287, 0.05097829147160178, 0.03398552764773452, 0.7993226568917939, 0.18520890830419615, 0.009747837279168219, 0.7166464185724575, 0.07350219677666231, 0.18375549194165577, 0.7834129522566438, 0.04183273046030622, 0.17113389733761636, 0.05905655792155139, 0.2441004394090791, 0.5708800599083301, 0.1259873235659763, 0.15269172394661942, 0.0543833537344124, 0.014641672159264877, 0.5898502212732422, 0.18825007061911986, 0.6707359248957874, 0.3210969853224514, 0.007135488562721142, 0.8775583934386455, 0.11700778579181939, 0.006880194715132973, 0.03268092489688162, 0.3577701251869146, 0.00516014603634973, 0.5968568915377853, 0.0034400973575664864, 0.18248669672697831, 0.5972291892882927, 0.1990763964294309, 0.2353818683815215, 0.6109912328201197, 0.15024374577543925, 0.22136793268063118, 0.7662736131252618, 0.2565477331848606, 0.3639398075413139, 0.2259708231250371, 0.15288455029911752, 0.48096686894333507, 0.05183868466127309, 0.059048038157211734, 0.08891535978324325, 0.2022052004337076, 0.06728729929542732, 0.049778869376719194, 0.994108243152329, 0.005680618532299023, 0.9948003514050477, 0.3523179655240394, 0.22334442457327497, 0.09908942780363607, 0.24850999353927777, 0.014155632543376581, 0.061341074354631854, 0.0015728480603751757, 0.16807377561389678, 0.009337431978549821, 0.08714936513313166, 0.7345446489792526, 0.7050130426893233, 0.2793447904995432, 0.9945044988931521, 0.9927751318856753, 0.1449453423726047, 0.036236335593151175, 0.736805490394074, 0.08455144971735275, 0.7092270828465109, 0.14870890446781682, 0.09151317198019496, 0.034317439492573105, 0.11339463615080059, 0.10450093919779661, 0.02223424238250992, 0.042245060526768845, 0.36908842354966465, 0.3490776054054057, 0.8140863924842182, 0.17499053296389738, 0.3886268550571677, 0.6023716253386099, 0.7114229354110425, 0.20326369583172643, 0.08892786692638031, 0.7764902992031864, 0.142802813646563, 0.0714014068232815, 0.995571810346706, 0.759740769969636, 0.11315288063377557, 0.11315288063377557, 0.943019395737933, 0.04160379687079116, 0.8885550725519545, 0.1038570864021765, 0.1435734880619922, 0.06293632353402397, 0.04720224265051798, 0.12587264706804793, 0.14160672795155393, 0.4523548254007973, 0.027534641546135486, 0.38820040045112203, 0.16822017352881954, 0.02717402803157854, 0.2924443016731786, 0.12293012680952198, 0.24680113902616838, 0.0907133550014048, 0.1373369788010095, 0.1641962403377383, 0.22779694454263383, 0.08361845572755192, 0.049410905657189766, 0.9784170527265906, 0.8325468251437326, 0.015417533798958011, 0.1541753379895801, 0.23713405231917026, 0.007381604741452771, 0.10887866993642838, 0.08027495156329889, 0.2048395315753144, 0.05628473615357738, 0.30633659677029, 0.060832891528158586, 0.05615343833368485, 0.7580714175047455, 0.12166578305631717, 0.985752837269867, 0.07995656038657484, 0.10808942422629561, 0.10512807013790396, 0.1465870273753872, 0.3272296267672785, 0.22358223367357039, 0.009624400787272896, 0.9785215273632519, 0.017236386720936525, 0.8704375294072945, 0.10341832032561915, 0.051491006165504546, 0.29233603500415484, 0.008305000994436217, 0.23918402863976304, 0.10630401272878358, 0.2956580354019293, 0.008305000994436217, 0.3117304420682798, 0.0020921506179079185, 0.0920546271879484, 0.4581809853218341, 0.07531742224468506, 0.05858021730142171, 0.6803924638495185, 0.29767170293416434, 0.6833338556415536, 0.29796534402974717, 0.01589148501491985, 0.2506206141021277, 0.07078597497541013, 0.15496389116238432, 0.4514997322755889, 0.07078597497541013, 0.9969776490479578, 0.9899534283803682, 0.4294120146311599, 0.09831275071818661, 0.03051085367116136, 0.3830807183156926, 0.022600632349008415, 0.03503098014096304, 0.034251869274990854, 0.964760984578909, 0.02062183365846741, 0.9751181344218162, 0.25078929871923733, 0.7423363242089426, 0.2680213075373396, 0.09755187296395817, 0.004926862270906978, 0.10247873523486514, 0.4276516451147257, 0.09755187296395817, 0.4058290797519831, 0.018949217731610107, 0.0907983349639651, 0.11290575565084356, 0.16738475662922261, 0.0647431605830012, 0.13896093003180746, 0.9321414514194344, 0.06801032048982998, 0.6859113230163557, 0.28285003010983745, 0.021213752258237805, 0.051267298991157985, 0.4101383919292639, 0.2451914299577121, 0.2897716899500234, 0.05457565558520732, 0.8732104893633171, 0.05457565558520732, 0.9935008071836543, 0.10317364290629093, 0.06958222428563807, 0.25673441374356115, 0.08397854655163214, 0.48707556999946644, 0.8306079792332682, 0.13168175280527422, 0.03038809680121713, 0.11334285343237045, 0.8160685447130672, 0.06800571205942227, 0.9900077991197475, 0.13957999945469626, 0.8589538427981308, 0.09050397741718198, 0.8346477917362339, 0.06033598494478799, 0.010055997490797998, 0.9923395490717012, 0.10988764425585823, 0.8845955362596587, 0.8154333213594277, 0.1176105751960713, 0.05488493509149994, 0.00784070501307142, 0.7228464690982356, 0.27106742591183836, 0.10027506782473546, 0.5797512542050797, 0.3192665952580658, 0.9748879020990098, 0.0037381494568451573, 0.9906096060639666, 0.20925191033564247, 0.05022045848055419, 0.06277557310069275, 0.08997832144432626, 0.5838128298364424, 0.0020925191033564247, 0.1896381340154776, 0.04515193667035181, 0.13545581001105542, 0.04966713033738699, 0.5779447893805032, 0.9926183846600217, 0.9945368449801528, 0.34464154768880473, 0.6462029019165089, 0.2253802769726574, 0.10818253294687555, 0.6581104087601596, 0.23334646467577158, 0.000550345435556065, 0.21628575617353354, 0.4204639127648337, 0.05008143463560192, 0.031369689826695704, 0.047880052893377656, 0.11431738028371706, 0.8716700246633425, 0.21642621522115865, 0.7658158384748691, 0.2516082855076435, 0.7425512816201187, 0.26089749394638256, 0.7392095661814173, 0.8788639132026607, 0.09587606325847206, 0.09179642150546886, 0.8996049307535949, 0.9840468709728113, 0.12052238561748342, 0.036384116412825185, 0.8413826920465824, 0.00534059141728322, 0.5981462387357206, 0.1655583339357798, 0.06408709700739863, 0.1655583339357798, 0.056942937104852355, 0.7117867138106545, 0.21353601414319634, 0.29144078303458315, 0.017934817417512808, 0.2241852177189101, 0.049320747898160225, 0.41698450495717276, 0.05209393961173204, 0.06511742451466505, 0.8725734884965116, 0.2904330209741516, 0.7083732218881745, 0.46027806234215113, 0.00652876684173264, 0.5320944976012102, 0.9886172925679576, 0.9966078008903624, 0.004902049101651754, 0.986292279252333, 0.007843278562642806, 0.22341004195005795, 0.008124001525456653, 0.5889901105956074, 0.17872803356004638, 0.27966834270107865, 0.13206560627550937, 0.5748738155522172, 0.007768565075029962, 0.7081497458174486, 0.27635112031900433, 0.028819897970990844, 0.182526020482942, 0.3074122450239023, 0.3090133504667351, 0.0848585884701397, 0.08806079935580535, 0.9336107901963336, 0.06165354274881449, 0.7778394026247564, 0.2165119986687466, 0.0111060975062896, 0.19411526945775734, 0.0004828738046212869, 0.794327408602017, 0.005498249244538666, 0.940200620816112, 0.054982492445386666, 0.31864711596999074, 0.10755596658923977, 0.24928859545917254, 0.040207837977285894, 0.17691448710005794, 0.10755596658923977, 0.13207452293021757, 0.8584843990464142, 0.7977246061660567, 0.02573305181180828, 0.11579873315313725, 0.05789936657656863, 0.9945674486660141, 0.3690805362512166, 0.00034622939610808316, 0.1994281321582559, 0.24097565969122586, 0.09486685453361478, 0.0882884960075612, 0.007270817318269746, 0.8053940248717846, 0.061142478327962706, 0.10120134343938655, 0.02951705850315441, 0.8453776234434235, 0.07827570587439106, 0.06262056469951285, 0.8703740471654166, 0.1243391495950595, 0.24747523300499186, 0.0942762792399969, 0.6481494197749786, 0.9892038222299698, 0.19431820125460492, 0.8007250017215617, 0.0018228090587961443, 0.34086529399487897, 0.29347225846617925, 0.0036456181175922885, 0.22967394140831418, 0.014582472470369154, 0.11665977976295323, 0.38251333110557123, 0.6094992638495366, 0.24463734266328044, 0.08936523932905222, 0.06814099498840231, 0.10947241817808896, 0.3920899875562166, 0.017873047865810444, 0.07819458441292068, 0.9102644041772555, 0.08169039524667678, 0.15575207183240844, 0.3115041436648169, 0.016613554328790234, 0.3343477808669035, 0.0602241344418646, 0.1204482688837292, 0.27192387063491885, 0.129781847348484, 0.5932884450216411, 0.9816319148631892, 0.014638668209648409, 0.322050700612265, 0.64410140122453, 0.9930569490439267, 0.2980393257827579, 0.03503633218791895, 0.30172736074990725, 0.08620781735711636, 0.1002684506693733, 0.04356491304945185, 0.13484377848639859, 0.9254358431098677, 0.0711873725469129, 0.7571562236702571, 0.13561006991109084, 0.10170755243331812, 0.7688199145357811, 0.22739743951058314, 0.9842933668774174, 0.3004107534836245, 0.17585019716114605, 0.520223499935057, 0.1367603301162064, 0.8547520632262899, 0.3199163937514614, 0.03499085556656609, 0.10497256669969827, 0.4665447408875479, 0.07498040478549876, 0.7689671979376668, 0.0370586601415743, 0.1852933007078715, 0.7735486759739816, 0.14634704680588842, 0.0766579768983225, 0.36908101400506993, 0.13168217082592948, 0.00741871384934814, 0.07233246003114437, 0.057495032332448084, 0.23554416471680345, 0.12611813543891837, 0.1731945070550671, 0.27799373106927966, 0.01213464699111935, 0.04412598905861582, 0.2669622338046257, 0.14671891361989758, 0.07942678030550847, 0.7954160012317621, 0.18009418895813484, 0.45960750783735754, 0.07837781511551117, 0.1843446211516823, 0.18685271123537864, 0.06709140973887757, 0.007524270251089073, 0.015675563023102235, 0.9794677696427455, 0.805927671567581, 0.18092253851517126, 0.037853476113610986, 0.9421309610498735, 0.016823767161604886, 0.2817992905659396, 0.23116348054237235, 0.3676600119102494, 0.10127162004713455, 0.017612455660371226, 0.132599233068164, 0.5966965488067381, 0.265198466136328, 0.42027294020547307, 0.08985791149159335, 0.12885874113204185, 0.038688823003324914, 0.2633336017323083, 0.0037440796454830563, 0.054913168133751494, 0.20500481639520335, 0.02196480175662893, 0.629657650356696, 0.12080640966145911, 0.018304001463857442, 0.11355687831798464, 0.5558310359775037, 0.32274060153532474, 0.1585026112298213, 0.4174646239433321, 0.38844301907026624, 0.03571889830531184, 0.6600450616799619, 0.060793624102101755, 0.07816323098841654, 0.19975047919262004, 0.02233081356029233, 0.8932325424116933, 0.08187964972107188, 0.9502474145553153, 0.043193064297968875, 0.7669318029614146, 0.2236884425304126, 0.007988872947514734, 0.2740399421639011, 0.4256931140410114, 0.11174444243576549, 0.09045978673371492, 0.0984415326219839, 0.1494986011933262, 0.8471587400955152, 0.250193725416463, 0.4796531641962025, 0.08017257499533068, 0.03593943017032065, 0.15619829266331667, 0.2709674395095554, 0.06021498655767898, 0.6623648521344687, 0.006690554061964331, 0.11772921898993817, 0.8829691424245363, 0.20884144329022183, 0.012786210813687051, 0.27490353249427163, 0.11294486218756895, 0.38784839468184057, 0.0021310351356145086], \"Term\": [\"air\", \"air\", \"air\", \"allspice\", \"allspice\", \"almond\", \"almond\", \"almond\", \"almond\", \"almond\", \"almond\", \"almond\", \"apple\", \"apple\", \"apple\", \"apple\", \"apple\", \"apple\", \"apple\", \"apricot\", \"apricot\", \"apricot\", \"apricot\", \"apricot\", \"apricot\", \"aroma\", \"aroma\", \"aroma\", \"aroma\", \"ash\", \"ash\", \"backdrop\", \"backdrop\", \"background\", \"background\", \"background\", \"background\", \"background\", \"background\", \"baked\", \"baked\", \"baked\", \"baking_spice\", \"baking_spice\", \"baking_spice\", \"bar\", \"bar\", \"bar\", \"barley\", \"barley\", \"barley\", \"barley\", \"barley\", \"barley\", \"barley\", \"basil\", \"bbq\", \"bbq\", \"bbq\", \"bean\", \"berry\", \"berry\", \"berry\", \"berry\", \"big\", \"big\", \"big\", \"big\", \"big\", \"biscuit\", \"biscuit\", \"biscuit\", \"biscuit\", \"biscuit\", \"biscuit\", \"bittersweet\", \"bittersweet\", \"bittersweet\", \"black\", \"black\", \"black\", \"black\", \"black_pepper\", \"black_pepper\", \"black_pepper\", \"black_pepper\", \"black_pepper\", \"black_pepper\", \"black_pepper\", \"black_tea\", \"black_tea\", \"black_tea\", \"blackcurrant\", \"blackcurrant\", \"blackcurrant\", \"blackcurrant\", \"blossom\", \"blossom\", \"blossom\", \"blossom\", \"blossom\", \"body\", \"body\", \"body\", \"bonfire\", \"bonfire_ember\", \"bonfire_ember\", \"brandy_butter\", \"brandy_butter\", \"brine\", \"brown_bread\", \"brown_bread\", \"brown_sugar\", \"brown_sugar\", \"brown_sugar\", \"brown_sugar\", \"brown_sugar\", \"brown_sugar\", \"brown_sugar\", \"bun\", \"butter\", \"butter\", \"butter\", \"butter\", \"butter\", \"butter\", \"butter\", \"buttered\", \"buttered\", \"buttered\", \"buttered\", \"buttered_toast\", \"buttered_toast\", \"buttered_toast\", \"butterscotch\", \"butterscotch\", \"butterscotch\", \"butterscotch\", \"butterscotch\", \"cake\", \"cake\", \"cake\", \"cake\", \"cake\", \"cake\", \"caramel\", \"caramel\", \"caramel\", \"caramel\", \"caramel\", \"caramel\", \"caramel\", \"caraway\", \"caraway\", \"caraway\", \"cask\", \"cask\", \"cassia\", \"cedar\", \"cedar\", \"cedar\", \"cedar\", \"character\", \"charred\", \"charred\", \"charred\", \"charred\", \"charred\", \"charred\", \"cherry\", \"cherry\", \"cherry\", \"cherry\", \"chilli\", \"chilli\", \"chilli\", \"chilli\", \"chocolate\", \"chocolate\", \"chocolate\", \"chocolate\", \"chocolate\", \"chocolate\", \"chocolate\", \"chocolate_chip\", \"christmas\", \"christmas\", \"christmas_cake\", \"cider\", \"cider\", \"cider\", \"cinnamon\", \"cinnamon\", \"cinnamon\", \"cinnamon\", \"cinnamon\", \"cinnamon\", \"citrus\", \"citrus\", \"citrus\", \"citrus\", \"citrus\", \"citrus\", \"citrus\", \"clove\", \"clove\", \"clove\", \"clove\", \"coastal\", \"coastal_air\", \"coastal_air\", \"cocoa\", \"cocoa\", \"cocoa\", \"cocoa\", \"cocoa\", \"coffee\", \"coffee\", \"coffee\", \"coffee\", \"coffee\", \"coffee\", \"coffee\", \"complex\", \"complex\", \"compote\", \"compote\", \"cooked\", \"cooked\", \"cooked\", \"cookie\", \"cooking_spice\", \"cooking_spice\", \"cooking_spice\", \"coriander\", \"coriander\", \"coriander\", \"coriander\", \"cracker\", \"cracker\", \"cranberry\", \"cranberry\", \"cranberry\", \"cranberry\", \"cream\", \"cream\", \"cream\", \"cream\", \"cream\", \"crumble\", \"crumble\", \"crunchy_brown\", \"crunchy_brown\", \"custard\", \"custard\", \"cut_grass\", \"cut_grass\", \"damson\", \"damson\", \"damson\", \"dark\", \"dark\", \"dark\", \"dark\", \"dark_chocolate\", \"dark_chocolate\", \"dark_chocolate\", \"dark_chocolate\", \"dark_chocolate\", \"dark_chocolate\", \"date\", \"date\", \"date\", \"deep\", \"deep\", \"delicate\", \"delicate\", \"demerara_sugar\", \"dense\", \"dense\", \"digestive\", \"digestive\", \"digestive\", \"dram\", \"dry\", \"dry\", \"dry\", \"dry\", \"dry\", \"dry\", \"dry\", \"dusting\", \"dusting\", \"dusting\", \"earth\", \"earth\", \"earth\", \"earth\", \"earth\", \"earth\", \"earthy_peat\", \"earthy_peat\", \"elegant\", \"elegant\", \"ember\", \"enjoyably\", \"enjoyably\", \"enjoyably\", \"entry\", \"entry\", \"entry\", \"espresso\", \"espresso\", \"espresso\", \"espresso\", \"faint\", \"fairly\", \"fairly\", \"fig\", \"fig\", \"finish\", \"finish\", \"finish\", \"finish\", \"finish\", \"finish\", \"finish\", \"fizz\", \"fizz\", \"flake\", \"flavour\", \"flint\", \"flint\", \"floral\", \"floral\", \"floral\", \"floral\", \"floral\", \"floral\", \"floral\", \"forest\", \"forest\", \"forest\", \"forward\", \"fresh\", \"fresh\", \"fresh\", \"fresh\", \"fresh\", \"fresh\", \"fresh\", \"fruit\", \"fruit\", \"fruit\", \"fruit\", \"fruit\", \"fruit\", \"fruit\", \"fruitcake\", \"fudge\", \"fudge\", \"fudge\", \"fudge\", \"fudge\", \"fudge\", \"gentle\", \"gentle\", \"gentle\", \"ginger\", \"ginger\", \"ginger\", \"ginger\", \"ginger\", \"ginger\", \"gingerbread\", \"gingerbread\", \"gingerbread\", \"gingerbread\", \"golden\", \"golden\", \"golden\", \"good_length\", \"good_length\", \"good_length\", \"gooseberry\", \"gooseberry\", \"granary_toast\", \"granary_toast\", \"grape\", \"grape\", \"grape\", \"grapefruit\", \"grapefruit\", \"grass\", \"grass\", \"grass\", \"grass\", \"grass\", \"grass\", \"great\", \"great\", \"green\", \"green\", \"green\", \"green\", \"green\", \"green_apple\", \"green_apple\", \"green_apple\", \"green_apple\", \"green_apple\", \"greengage\", \"greengage\", \"greengage\", \"grist\", \"grist\", \"grist\", \"grist\", \"grist\", \"hand\", \"hand\", \"heather\", \"heather\", \"heather\", \"helping\", \"herbal\", \"herbal\", \"herbal\", \"herbal\", \"honey\", \"honey\", \"honey\", \"honey\", \"honey\", \"honey\", \"honey\", \"hot_cross\", \"huge\", \"huge\", \"influence\", \"influence\", \"influence\", \"initially\", \"initially\", \"initially\", \"intense\", \"intense\", \"intense\", \"interesting\", \"iodine\", \"iodine\", \"jam\", \"jam\", \"jammy\", \"jammy\", \"juicy\", \"juicy\", \"juicy\", \"juicy\", \"juicy\", \"juicy\", \"kick\", \"kick\", \"kick\", \"kick\", \"kick\", \"kick\", \"later\", \"later\", \"later\", \"latte\", \"latte\", \"latte\", \"layer\", \"layer\", \"layer\", \"leather\", \"leather\", \"leather\", \"leather\", \"lemon\", \"lemon\", \"lemon\", \"lemon\", \"lemon\", \"lemon_curd\", \"lemon_curd\", \"lemon_curd\", \"lemongrass\", \"lemongrass\", \"light\", \"light\", \"light\", \"light\", \"light\", \"light\", \"lightly\", \"lightly\", \"lightly\", \"lime\", \"lime\", \"lime\", \"liqueur\", \"liqueur\", \"long\", \"long\", \"long\", \"long\", \"malt\", \"malt\", \"malt\", \"malt\", \"malt\", \"malt\", \"malt\", \"manuka_honey\", \"manuka_honey\", \"maritime\", \"marmalade\", \"marmalade\", \"marmalade\", \"marmalade\", \"marmalade\", \"marmalade\", \"marmalade\", \"meat\", \"meat\", \"meat\", \"meat\", \"meaty_malt\", \"meaty_malt\", \"medicinal\", \"medicinal_peat\", \"mid\", \"mid\", \"mid\", \"mid\", \"milk\", \"milk\", \"milk\", \"milk\", \"milk_chocolate\", \"milk_chocolate\", \"milk_chocolate\", \"milk_chocolate\", \"milk_chocolate\", \"milk_chocolate\", \"milky_coffee\", \"milky_coffee\", \"minute\", \"minute\", \"mixed_peel\", \"mixed_peel\", \"mixed_peel\", \"molasse\", \"molasse\", \"molasse\", \"mouth\", \"mouthfeel\", \"mouthfeel\", \"mouthfeel\", \"musty\", \"musty\", \"new_leather\", \"new_leather\", \"nut\", \"nut\", \"nut\", \"nut\", \"nut\", \"nut\", \"nut\", \"nutmeg\", \"nutmeg\", \"nutmeg\", \"nutmeg\", \"nutmeg\", \"oak\", \"oak\", \"oak\", \"oak\", \"oak\", \"oak\", \"oak\", \"oat\", \"oats\", \"oats\", \"oats\", \"oil\", \"oil\", \"oil\", \"oil\", \"oil\", \"oil\", \"oil\", \"old\", \"old\", \"old\", \"old\", \"oloroso\", \"orange\", \"orange\", \"orange\", \"orange\", \"orange\", \"orange\", \"orange\", \"orange_blossom\", \"orange_oil\", \"orange_oil\", \"orange_oil\", \"orange_peel\", \"orange_peel\", \"orange_peel\", \"orange_peel\", \"orange_peel\", \"orange_peel\", \"orange_peel\", \"orchard_fruit\", \"orchard_fruit\", \"orchard_fruit\", \"orchard_fruit\", \"orchard_fruit\", \"orchard_fruit\", \"particularly\", \"particularly\", \"pastry\", \"pastry\", \"pastry\", \"peach\", \"peach\", \"peach\", \"peach\", \"peach\", \"peanut\", \"peanut_brittle\", \"pear\", \"pear\", \"pear\", \"pear\", \"pear\", \"pear\", \"peat\", \"peat\", \"peat_smoke\", \"peat_smoke\", \"pecan\", \"pecan\", \"peel\", \"peel\", \"peel\", \"peel\", \"peel\", \"peel\", \"pepper\", \"pepper\", \"pepper\", \"pepper\", \"pepper\", \"pepper\", \"pepper\", \"peppercorn\", \"peppercorn\", \"peppermint\", \"peppermint\", \"peppermint\", \"pineapple\", \"pineapple\", \"pineapple\", \"pineapple\", \"pipe_tobacco\", \"pipe_tobacco\", \"pipe_tobacco\", \"plaster\", \"plum\", \"plum\", \"plum\", \"plum\", \"plum\", \"plus\", \"plus\", \"plus\", \"popcorn\", \"popcorn\", \"popcorn\", \"porridge_oats\", \"potpourri\", \"potpourri\", \"power\", \"power\", \"power\", \"power\", \"present\", \"prune\", \"prune\", \"pudding\", \"pudding\", \"pudding\", \"pudding\", \"quince\", \"quince\", \"raisin\", \"raisin\", \"raisin\", \"rancio\", \"raspberry\", \"raspberry\", \"red\", \"red\", \"red\", \"red\", \"red\", \"red\", \"red_berry\", \"red_berry\", \"red_berry\", \"red_berry\", \"red_berry\", \"red_chilli\", \"red_grape\", \"red_wine\", \"red_wine\", \"redcurrant\", \"redcurrant\", \"redcurrant\", \"rich\", \"rich\", \"rich\", \"rich\", \"rich\", \"rich\", \"rich\", \"roasted_coffee\", \"roasted_coffee\", \"rubber\", \"rubber\", \"rum\", \"rum\", \"rum_raisin\", \"rum_raisin\", \"runny_honey\", \"runny_honey\", \"rye\", \"rye\", \"rye_bread\", \"salt\", \"salt\", \"salt\", \"salted_butter\", \"salted_butter\", \"salted_butter\", \"salted_butter\", \"salted_butter\", \"sandalwood\", \"sandalwood\", \"sandalwood\", \"savoury\", \"savoury\", \"savoury\", \"savoury\", \"savoury\", \"sea_air\", \"sea_air\", \"sea_air\", \"sea_breeze\", \"sea_breeze\", \"sea_salt\", \"sea_salt\", \"sea_salt\", \"sea_spray\", \"seaweed\", \"sherry\", \"sherry\", \"sherry\", \"shortbread\", \"shortbread\", \"shortbread\", \"shortbread\", \"skin\", \"skin\", \"skin\", \"skin\", \"slice\", \"slice\", \"slightly\", \"slightly\", \"slightly\", \"slightly\", \"slightly\", \"slightly\", \"slowly\", \"slowly\", \"smidge\", \"smidge\", \"smoke\", \"smoke\", \"smoke\", \"smoke\", \"smooth\", \"smooth\", \"smooth\", \"soft\", \"soft\", \"soft\", \"soft\", \"soft\", \"soft\", \"softly\", \"softly\", \"soon\", \"soon\", \"soon\", \"soon\", \"soot\", \"spice\", \"spice\", \"spice\", \"spice\", \"spice\", \"spice\", \"spice\", \"spiced\", \"spiced\", \"spiced\", \"spiced\", \"sprinkle\", \"sprinkle\", \"sprinkle\", \"star_anise\", \"star_anise\", \"stewed\", \"stewed\", \"stewed\", \"sticky_toffee\", \"strawberry\", \"strawberry\", \"subtle\", \"subtle\", \"subtle\", \"subtle\", \"subtle\", \"subtle\", \"subtle\", \"subtly\", \"subtly\", \"sugar\", \"sugar\", \"sugar\", \"sugar\", \"sugar\", \"sugar\", \"sugar\", \"suggestion\", \"suggestion\", \"sultana\", \"sultana\", \"sultana\", \"sultana\", \"sultana\", \"sultana\", \"sultanas\", \"sultanas\", \"sultanas\", \"summer\", \"summer_berry\", \"summer_berry\", \"summer_berry\", \"supple\", \"sweet\", \"sweet\", \"sweet\", \"sweet\", \"sweet\", \"sweet\", \"sweet\", \"sweetie\", \"sweetie\", \"tail\", \"tail\", \"tail\", \"tannin\", \"tannin\", \"tar\", \"tart\", \"tart\", \"tart\", \"texture\", \"texture\", \"thick\", \"thick\", \"thick\", \"thick\", \"thick\", \"thyme\", \"thyme\", \"thyme\", \"time\", \"time\", \"time\", \"toast\", \"toast\", \"toast\", \"toast\", \"toast\", \"toast\", \"toast\", \"toasted\", \"toasted\", \"toasted\", \"toasted\", \"toasted\", \"toasted\", \"toasted\", \"toasted_teacake\", \"toasted_teacake\", \"toffee\", \"toffee\", \"toffee\", \"toffee\", \"toffee\", \"toffee\", \"toffee\", \"tone\", \"tow\", \"tow\", \"treacle\", \"treacle\", \"treacle\", \"tropical_fruit\", \"tropical_fruit\", \"tropical_fruit\", \"tropical_fruit\", \"tropical_fruit\", \"turkish_delight\", \"turkish_delight\", \"turkish_delight\", \"vanilla\", \"vanilla\", \"vanilla\", \"vanilla\", \"vanilla\", \"vanilla\", \"vanilla\", \"vanilla_pod\", \"vanilla_pod\", \"vanilla_pod\", \"vanilla_pod\", \"vanilla_pod\", \"vegetal\", \"vegetal\", \"vegetal\", \"walnut\", \"walnut\", \"walnut\", \"walnut\", \"warmth\", \"warmth\", \"warmth\", \"warmth\", \"water\", \"water\", \"water\", \"waxy_orange\", \"waxy_orange\", \"whisky\", \"whisky\", \"whisky\", \"white\", \"white\", \"white\", \"white\", \"white\", \"white_grape\", \"white_grape\", \"wood\", \"wood\", \"wood\", \"wood\", \"wood\", \"y\", \"y\", \"y\", \"y\", \"yellow_plum\", \"yellow_plum\", \"zest\", \"zest\", \"zest\", \"zest\", \"zest\", \"zest\"]}, \"R\": 30, \"lambda.step\": 0.01, \"plot.opts\": {\"xlab\": \"PC1\", \"ylab\": \"PC2\"}, \"topic.order\": [1, 2, 3, 4, 5, 6, 7]};\n",
       "\n",
       "function LDAvis_load_lib(url, callback){\n",
       "  var s = document.createElement('script');\n",
       "  s.src = url;\n",
       "  s.async = true;\n",
       "  s.onreadystatechange = s.onload = callback;\n",
       "  s.onerror = function(){console.warn(\"failed to load library \" + url);};\n",
       "  document.getElementsByTagName(\"head\")[0].appendChild(s);\n",
       "}\n",
       "\n",
       "if(typeof(LDAvis) !== \"undefined\"){\n",
       "   // already loaded: just create the visualization\n",
       "   !function(LDAvis){\n",
       "       new LDAvis(\"#\" + \"ldavis_el1134021786808083844909570765\", ldavis_el1134021786808083844909570765_data);\n",
       "   }(LDAvis);\n",
       "}else if(typeof define === \"function\" && define.amd){\n",
       "   // require.js is available: use it to load d3/LDAvis\n",
       "   require.config({paths: {d3: \"https://d3js.org/d3.v5\"}});\n",
       "   require([\"d3\"], function(d3){\n",
       "      window.d3 = d3;\n",
       "      LDAvis_load_lib(\"https://cdn.jsdelivr.net/gh/bmabey/pyLDAvis@3.3.1/pyLDAvis/js/ldavis.v3.0.0.js\", function(){\n",
       "        new LDAvis(\"#\" + \"ldavis_el1134021786808083844909570765\", ldavis_el1134021786808083844909570765_data);\n",
       "      });\n",
       "    });\n",
       "}else{\n",
       "    // require.js not available: dynamically load d3 & LDAvis\n",
       "    LDAvis_load_lib(\"https://d3js.org/d3.v5.js\", function(){\n",
       "         LDAvis_load_lib(\"https://cdn.jsdelivr.net/gh/bmabey/pyLDAvis@3.3.1/pyLDAvis/js/ldavis.v3.0.0.js\", function(){\n",
       "                 new LDAvis(\"#\" + \"ldavis_el1134021786808083844909570765\", ldavis_el1134021786808083844909570765_data);\n",
       "            })\n",
       "         });\n",
       "}\n",
       "</script>"
      ],
      "text/plain": [
       "<IPython.core.display.HTML object>"
      ]
     },
     "execution_count": 20,
     "metadata": {},
     "output_type": "execute_result"
    }
   ],
   "source": [
    "vis = pyLDAvis.gensim_models.prepare(scotch_topic_model, corpus, reduced_gensim_dict, sort_topics = False)\n",
    "pyLDAvis.display(vis)"
   ]
  },
  {
   "cell_type": "markdown",
   "metadata": {},
   "source": [
    "Let's look at this visualization at different values of relevance. At values of lambda = 1, we see that a common descriptor set tends to pile up at the highest saliency in all the topics. \"Vanilla\", \"sweet\", \"oak\", \"fruit\", \"malt\", \"barley\", \"apple\", etc. are examples of such ultra-common descriptors tht seem to be a unifying descriptor set for Scotch. We saw these same descriptors as the most frequent across Scotch regions during EDA. It's not too surprising that these words appear prelevantly in many of the descriptor topic groupings.\n",
    "\n",
    "But restricting lambda to middle-range values (~0.4-0.6), we see that each topic has real differences and in ways that actually make some sense in terms of tastes.\n",
    "\n",
    "Number in brackets are the index of each topic in the gensim model.\n",
    "\n",
    "1. Topic 1 [0]: Custard, creamy, sticky toffee, pastry, etc along with a lot of common descriptors prominent here.\n",
    "2. Topic 2 [1]: Fruity but with strong wood notes and heat or cooling on the tongue: peppercorn, black pepper, red chilies, ginger, warmth, mint, menthol, cedar, oak. Cinnamon, cassia, and clove are in here too.\n",
    "3. Topic 3 [2]: Herbal, tannin, green, citrus, dry, smoke. Also many of the words that are not sense descriptors are huddled into a single topic. That's actually interesting. \n",
    "4. Topic 4 [3]: Sweetness and richness, dark sugars, with christmas spice like cinnamon, clove, etc but clearly in context.\n",
    "5. Topic 5 [4]: Lemon, citrus, green apple, fresh notes, grass, light, floral, etc.\n",
    "6. Topic 6 [5]: Berries, sweet chocolate, jam, fuit, tartness but sweet.\n",
    "7. Topic 7 [6]: All the peaty, fiery, salty, meaty notes are prominent here.\n",
    "\n",
    "\n",
    "A quick exploration of the visual shows that these topics are meaningful and overall pretty interpretable but that there are some confused descriptors that one might think would belong in a different topic. They are not as clean as one might hope. Topic 3 and Topic 5 have quite a bit of overlap. The same goes with topic 2 and 3. But the topics do line up with the kinds of thing we were seeing in Correspondence Analysis which is good. Getting better results might mean twiddling with the topic number a little, or just iterating over several random initializations at k = 7, or going back to corpus building and further tailoring the stop word list and stemming/lemmatizing. \n",
    "\n",
    "For this project, we'll stick with this model for now and see where it takes us.\n"
   ]
  },
  {
   "cell_type": "code",
   "execution_count": 8,
   "metadata": {},
   "outputs": [],
   "source": [
    "doc_lda_decomp = scotch_topic_model[corpus] # for each document (scotch) creates a list of tuples for each scotch with the topic (taste type) and its relative importance."
   ]
  },
  {
   "cell_type": "markdown",
   "metadata": {},
   "source": [
    "This gives us a numeric breakdown of each scotch across different relevant taste/smell types as represented by the topics found by LDA. This is what we wanted and was something that the descriptor-scotch joint embedding via Correspondence Analysis could not give us.\n",
    "\n",
    "Let's do a sanity check and see what we get for some well known Scotches:"
   ]
  },
  {
   "cell_type": "markdown",
   "metadata": {},
   "source": [
    "1. Ardbeg 10 Year Old\n",
    "My own experience with this whisky is that it tastes like smoked ham, peat, with some saltiness. Very fiery."
   ]
  },
  {
   "cell_type": "code",
   "execution_count": 17,
   "metadata": {},
   "outputs": [
    {
     "name": "stdout",
     "output_type": "stream",
     "text": [
      "48\n"
     ]
    },
    {
     "data": {
      "text/plain": [
       "[(0, 0.010454248), (6, 0.9521095)]"
      ]
     },
     "execution_count": 17,
     "metadata": {},
     "output_type": "execute_result"
    }
   ],
   "source": [
    "doc_num = whisk_data[whisk_data['name'] == 'Ardbeg 10 Year Old'].index[0]\n",
    "print(doc_num)\n",
    "doc_lda_decomp[doc_num]"
   ]
  },
  {
   "cell_type": "markdown",
   "metadata": {},
   "source": [
    "The topic decomposition reflects this."
   ]
  },
  {
   "cell_type": "markdown",
   "metadata": {},
   "source": [
    "2. Lagavulin 16 Year Old\n",
    "Lagavulin is a really complex whisky. My own impressions are that it's smoky and there is some peat but it's also dark fruit notes, chocolate, aromatics like cloves. It's definitely rich but also somehow dry and peppery. "
   ]
  },
  {
   "cell_type": "code",
   "execution_count": 58,
   "metadata": {},
   "outputs": [
    {
     "name": "stdout",
     "output_type": "stream",
     "text": [
      "26\n"
     ]
    },
    {
     "data": {
      "text/plain": [
       "[(2, 0.4747394), (3, 0.3080656), (6, 0.201558)]"
      ]
     },
     "execution_count": 58,
     "metadata": {},
     "output_type": "execute_result"
    }
   ],
   "source": [
    "doc_num = whisk_data[whisk_data['name'] == 'Lagavulin 16 Year Old'].index[0]\n",
    "print(doc_num)\n",
    "doc_lda_decomp[doc_num]"
   ]
  },
  {
   "cell_type": "markdown",
   "metadata": {},
   "source": [
    "2 = dry, smoky, grass, citrus notes. 3 = christmas cake, aromatic spices, dark fruit, 6 = peat, salt, smoke, meat.\n",
    "\n",
    "Not too shabby. We can see that there are different kinds of taste/smell types. There are strong flavors present here but there is a balance between these notes. That definitely is characteristic of Lagavulin."
   ]
  },
  {
   "cell_type": "markdown",
   "metadata": {},
   "source": [
    "3. Glenfarclas 15 Year Old\n",
    "One of my favorite whiskies. This tastes like liquid christmas, sweetness, cinammon, spices. There's really no peat. "
   ]
  },
  {
   "cell_type": "code",
   "execution_count": 49,
   "metadata": {},
   "outputs": [
    {
     "name": "stdout",
     "output_type": "stream",
     "text": [
      "15\n"
     ]
    },
    {
     "data": {
      "text/plain": [
       "[(2, 0.23294689), (3, 0.73226655)]"
      ]
     },
     "execution_count": 49,
     "metadata": {},
     "output_type": "execute_result"
    }
   ],
   "source": [
    "doc_num = whisk_data[whisk_data['name'] == \"Glenfarclas 15 Year Old\"].index[0]\n",
    "print(doc_num)\n",
    "doc_lda_decomp[doc_num]"
   ]
  },
  {
   "cell_type": "markdown",
   "metadata": {},
   "source": [
    "3 = christmas cake, aromatic spices, dark fruit. Really dominates the descriptors which is about right. I'm not sure why 2 = grass, dry, smoky is in there...there's not a lot of grassy citrus notes. It might be that some of the non-taste/smell words are leaking in (which are also a major component of 2)."
   ]
  },
  {
   "cell_type": "markdown",
   "metadata": {},
   "source": [
    "4. Talisker Storm\n",
    "\n",
    "One description (not the Master of Malt description in our corpus) goes like this: \n",
    "\n",
    "Nose is delicate and soft with peat, smoke and sweetness.  Sea salt and honey with a soft fruity note.  Surprisingly sweet. Medium body with notes of peat, oak and honey sweetness.  A bit of a chilli bite mixed with smoke and hints of black pepper.  Bolder than what the nose suggested.  Lovely and warming on a cold Friday afternoon. "
   ]
  },
  {
   "cell_type": "code",
   "execution_count": 130,
   "metadata": {},
   "outputs": [
    {
     "data": {
      "text/plain": [
       "[(1, 0.11187348), (2, 0.3725176), (6, 0.49300686)]"
      ]
     },
     "execution_count": 130,
     "metadata": {},
     "output_type": "execute_result"
    }
   ],
   "source": [
    "doc_num = whisk_data[whisk_data['name'] == \"Talisker Storm\"].index[0]\n",
    "doc_lda_decomp[doc_num]"
   ]
  },
  {
   "cell_type": "markdown",
   "metadata": {},
   "source": [
    "1 = Wood, red chili, ginger, pepper, hot spices. 2 = drier, light mellow fruit, grass, citrus flavors. 6 = peat, bonfire, salt, meat, coastal.\n",
    "\n",
    "This topic breakdown on flavors/nose seem right. Predominantly coastal and peaty, soft fruit note, with some chili and black pepper heat. OK this is starting to satisfy me. Let's pickle the model."
   ]
  },
  {
   "cell_type": "code",
   "execution_count": 131,
   "metadata": {},
   "outputs": [],
   "source": [
    "LDA_model_path = \"models\\\\Scotch_LDA.pkl\"\n",
    "pickle.dump(scotch_topic_model, open(LDA_model_path, 'wb'))"
   ]
  },
  {
   "cell_type": "markdown",
   "metadata": {},
   "source": [
    "Let's also construct a new dataframe with the seven topics as features. We can discard the unified_tokens or BoW representation. This can be used for higher level analytics. We can the save this:"
   ]
  },
  {
   "cell_type": "code",
   "execution_count": 212,
   "metadata": {},
   "outputs": [],
   "source": [
    "trial = [ (whisk_data.loc[doc].name, doc_lda_decomp[doc] ) for doc in whisk_data.index]"
   ]
  },
  {
   "cell_type": "code",
   "execution_count": 218,
   "metadata": {},
   "outputs": [
    {
     "data": {
      "text/plain": [
       "[(1,), ([(1, 0.35906678), (3, 0.14653125), (6, 0.4730465)],)]"
      ]
     },
     "execution_count": 218,
     "metadata": {},
     "output_type": "execute_result"
    }
   ],
   "source": [
    "list(zip(trial[1]))"
   ]
  },
  {
   "cell_type": "markdown",
   "metadata": {},
   "source": [
    "## Similarity measures: Content-based recommender systems"
   ]
  },
  {
   "cell_type": "code",
   "execution_count": 118,
   "metadata": {},
   "outputs": [],
   "source": [
    "index = MatrixSimilarity(doc_lda_decomp) \n",
    "sims = index[doc_lda_decomp[48]] "
   ]
  },
  {
   "cell_type": "code",
   "execution_count": 121,
   "metadata": {},
   "outputs": [],
   "source": [
    "# We'll reuse this index object for matrix similarity often for in-corpus recommendation. let's save this.\n",
    "pickle.dump(index, open('data\\\\final\\\\index_sim.pkl', 'wb'))"
   ]
  },
  {
   "cell_type": "markdown",
   "metadata": {},
   "source": [
    "### In-corpus recommendation"
   ]
  },
  {
   "cell_type": "code",
   "execution_count": 178,
   "metadata": {},
   "outputs": [],
   "source": [
    "def get_similar_whiskies(name, num_rec, index_sim, data):\n",
    "\n",
    "    doc_num = whisk_data[whisk_data['name'] == name].index[0]\n",
    "    sims = index_sim[doc_lda_decomp[doc_num]]\n",
    "\n",
    "    sorted_val_df = pd.Series(sims).sort_values(ascending = False).drop(index=doc_num).to_frame(name = \"similarity\")\n",
    "\n",
    "    sorted_val_df['name'] = data.iloc[sorted_val_df.index].name.values\n",
    "    \n",
    "    # drop whiskies that have the same name and age expression.\n",
    "    sorted_val_df.drop(index = sorted_val_df[sorted_val_df['name'].str.contains(name, flags=re.IGNORECASE, regex=True)].index, inplace = True)\n",
    "\n",
    "    # \"Glenmorangie The Quinta Ruban 14 Year Old\"\n",
    "\n",
    "    return sorted_val_df.name[0: num_rec]\n",
    "    "
   ]
  },
  {
   "cell_type": "code",
   "execution_count": 179,
   "metadata": {},
   "outputs": [
    {
     "data": {
      "text/plain": [
       "5454                        Kilchoman Sherry Cask Release\n",
       "5260    Benriach 13 Year Old Madeira Finish - Maderens...\n",
       "4007    Caol Ila 34 Year Old 1982 - Small Batch (WM Ca...\n",
       "5992                        Kilchoman Spring 2010 Release\n",
       "5266    Benriach Arumaticus 12 Year Old (Dark Rum Finish)\n",
       "3520                  Glen Grant 1952 (Gordon & MacPhail)\n",
       "4451    Caol Ila 2001 (bottled 2013) Moscatel Cask Fin...\n",
       "6454    Bunnahabhain 10 Year Old 2003 (cask 1153) - Ar...\n",
       "5                                Bunnahabhain 12 Year Old\n",
       "3227                                        Ardbeg Kelpie\n",
       "4666    Dailuaine 15 Year Old 1997 - Single Cask (Mast...\n",
       "7098                  Lp8 - Elements of Islay (Laphroaig)\n",
       "2027               Ardbeg Kelpie - Committee Release 2017\n",
       "5812                                    Ardbegg Eggeadail\n",
       "4029    Port Ellen 32 Year Old 1983 - 15th Release (20...\n",
       "Name: name, dtype: object"
      ]
     },
     "execution_count": 179,
     "metadata": {},
     "output_type": "execute_result"
    }
   ],
   "source": [
    "get_similar_whiskies(\"Lagavulin 16 Year Old\", 15, index, whisk_data)"
   ]
  },
  {
   "cell_type": "markdown",
   "metadata": {},
   "source": [
    "This is very good. Many of these whiskies have strong flavors but can be described as balanced between smoke, peat, salt, and dark aromatic spicy sweetness and bitter/dry citrus. How about another?"
   ]
  },
  {
   "cell_type": "code",
   "execution_count": 180,
   "metadata": {},
   "outputs": [
    {
     "data": {
      "text/plain": [
       "7945        Macduff 13 Year Old 2003 (Single Cask Nation)\n",
       "6414               Mortlach 20 Year Old 1978 - Rare Malts\n",
       "5257                           Aberlour A'Bunadh Batch 42\n",
       "5943    The Macallan in Lalique Spiritual Home 62 Year...\n",
       "6343    Glen Grant 19 Year Old 1992 Cask 55402 - Cask ...\n",
       "4846              Glenfarclas 1965 Family Cask Release IX\n",
       "1422    Blair Athol 12 Year Old 2008 (cask 1) - Cask S...\n",
       "4715              Glenfarclas 1986 Family Cask Release IX\n",
       "8237    Edradour 10 Year Old 2010 (cask 385) - Un-Chil...\n",
       "6127                        Bruichladdich 36 Year Old DNA\n",
       "5348                                   Highland Park 1994\n",
       "76                                Auchentoshan Three Wood\n",
       "6406                  Bowmore 10 Year Old Devil's Casks I\n",
       "7703      The GlenDronach 27 Year Old - Grandeur Batch 10\n",
       "4750    Glen Grant 39 Year Old 1973 (cask 6582) - Mack...\n",
       "Name: name, dtype: object"
      ]
     },
     "execution_count": 180,
     "metadata": {},
     "output_type": "execute_result"
    }
   ],
   "source": [
    "get_similar_whiskies(\"Glenfarclas 15 Year Old\", 15, index, whisk_data)"
   ]
  },
  {
   "cell_type": "markdown",
   "metadata": {},
   "source": [
    "That's crazy: Arbelour A'bunadh is a whisky that I would have personally recommended to someone who has had and liked Glenfarclas 15. These recommendations are forward in christmas spice, dessert, dark and luxuriant sweetness. "
   ]
  },
  {
   "cell_type": "code",
   "execution_count": 183,
   "metadata": {},
   "outputs": [
    {
     "data": {
      "text/plain": [
       "array(['Ledaig 10 Year Old 2007 (cask 92721) - Dun Bheagan (Ian Macleod)',\n",
       "       'Darkness! Aultmore 16 Year Old Oloroso Cask Finish',\n",
       "       'Dailuaine 19 Year Old 1997 (casks 7207 & 7208) - Un-Chillfiltered Collection (Signatory)',\n",
       "       'Balvenie Tun 1509 - Batch 5',\n",
       "       'Mortlach 10 Year Old 2007 (cask 14406) - Old Malt Cask (Hunter Laing)',\n",
       "       'Miltonduff 36 Year Old 1981 - North Star Spirits',\n",
       "       'Miltonduff 21 Year Old 1995 (cask 13271) - Old Malt Cask (Hunter Laing)',\n",
       "       'The GlenDronach 10 Year Old Port Wood',\n",
       "       'Edradour 19 Year Old 1999 (casks 814 & 815) - Bordeaux Cask Finish',\n",
       "       'Mortlach 12 Year Old 2007 (casks 304874 & 304875) - Un-Chillfiltered Collection (Signatory)',\n",
       "       'Glenlossie 13 Year Old 2007 (casks 3955 & 3956) - Un-Chillfiltered Collection (Signatory)',\n",
       "       'Glenturret 29 Year Old 1988 (cask 539) - Cask Strength Collection (Signatory)',\n",
       "       'Auchroisk 21 Year Old Moscatel Cask Finish (Darkness)',\n",
       "       'GlenAllachie 11 Year Old Grattamacco Cask Finish',\n",
       "       'Deanston 1997 (bottled 2015) (cask 15069) - Malts of Scotland'],\n",
       "      dtype=object)"
      ]
     },
     "execution_count": 183,
     "metadata": {},
     "output_type": "execute_result"
    }
   ],
   "source": [
    "get_similar_whiskies(\"Glenmorangie The Quinta Ruban 14 Year Old\", 15, index, whisk_data).values"
   ]
  },
  {
   "cell_type": "markdown",
   "metadata": {},
   "source": [
    "Quinta Ruban is forward in red berries, peach, raisin type tastes: sweet but tart and jammy (topic indexed by 5). Some heat (topic 1), dry citrus (topic 2), and creamy vanilla (topic 0). Many of the whiskies on this list have similar taste profiles."
   ]
  },
  {
   "cell_type": "code",
   "execution_count": 184,
   "metadata": {},
   "outputs": [
    {
     "data": {
      "text/plain": [
       "[(0, 0.23477353), (1, 0.27970412), (2, 0.12378674), (5, 0.34624907)]"
      ]
     },
     "execution_count": 184,
     "metadata": {},
     "output_type": "execute_result"
    }
   ],
   "source": [
    "doc_num = whisk_data[whisk_data['name'] == \"Glenmorangie The Quinta Ruban 14 Year Old\"].index[0]\n",
    "doc_lda_decomp[doc_num]"
   ]
  },
  {
   "cell_type": "markdown",
   "metadata": {},
   "source": [
    "Let's take a look and some of these:"
   ]
  },
  {
   "cell_type": "code",
   "execution_count": 203,
   "metadata": {},
   "outputs": [
    {
     "name": "stdout",
     "output_type": "stream",
     "text": [
      "Darkness! Aultmore 16 Year Old Oloroso Cask Finish:\n",
      "[\"['oooh', 'like', 'tuck', 'shop', 'bag', 'chew', 'toffee', 'chocolate', 'raisin', 'subtle', 'red_chilli', 'mid', 'cherry', 'baked', 'apple', 'freshly', 'bread', 'milka', 'chocolate', 'bar', 'long', 'sweet', 'blackcurrant', 'oak']\"]\n",
      "Balvenie Tun 1509 - Batch 5:\n",
      "[\"['vanilla', 'ice_cream', 'raspberry', 'sauce', 'nut', 'juicy', 'apple', 'apricot', 'slow_build', 'sweet', 'spice', 'sherried_peel', 'acacia_honey', 'new_leather', 'raspberry', 'eau', 'de', 'vie', 'earth', 'malt', 'brown_sugar', 'red_berry', 'smidge', 'toasted', 'oak', 'stem_ginger']\"]\n",
      "Edradour 19 Year Old 1999 (casks 814 & 815) - Bordeaux Cask Finish:\n",
      "[\"['ripe', 'plum', 'damson', 'cinnamon', 'custard', 'anise', 'clove', 'bakewell', 'tart', 'blackcurrant_jam', 'cream', 'mocha', 'toasted_teacake', 'heap', 'chai', 'spice', 'dr', 'oak', 'orange_oil', 'hefty', 'slice', 'black', 'forest', 'gateau']\"]\n"
     ]
    }
   ],
   "source": [
    "print('Darkness! Aultmore 16 Year Old Oloroso Cask Finish:')\n",
    "print(whisk_data[whisk_data['name'] == 'Darkness! Aultmore 16 Year Old Oloroso Cask Finish'].token_unified.values)\n",
    "print('Balvenie Tun 1509 - Batch 5:')\n",
    "print(whisk_data[whisk_data['name'] == 'Balvenie Tun 1509 - Batch 5'].token_unified.values)\n",
    "print('Edradour 19 Year Old 1999 (casks 814 & 815) - Bordeaux Cask Finish:')\n",
    "print(whisk_data[whisk_data['name'] == 'Edradour 19 Year Old 1999 (casks 814 & 815) - Bordeaux Cask Finish'].token_unified.values)\n",
    "\n"
   ]
  },
  {
   "cell_type": "markdown",
   "metadata": {},
   "source": [
    "## Out-of-corpus recommendations\n",
    "\n",
    "Sometimes we dont have a set of whiskies in mind but we'd like to specify a flavor profile. The idea would be to construct a list of recommendations off of a description of flavors inputed by a real user. "
   ]
  },
  {
   "cell_type": "code",
   "execution_count": 198,
   "metadata": {},
   "outputs": [
    {
     "name": "stdout",
     "output_type": "stream",
     "text": [
      "[\"['vanilla', 'ice_cream', 'raspberry', 'sauce', 'nut', 'juicy', 'apple', 'apricot', 'slow_build', 'sweet', 'spice', 'sherried_peel', 'acacia_honey', 'new_leather', 'raspberry', 'eau', 'de', 'vie', 'earth', 'malt', 'brown_sugar', 'red_berry', 'smidge', 'toasted', 'oak', 'stem_ginger']\"]\n"
     ]
    }
   ],
   "source": []
  }
 ],
 "metadata": {
  "interpreter": {
   "hash": "95508d1f9e276930ee7bf977622471e4c9572bc985693ed5ef89eacdfe75f4af"
  },
  "kernelspec": {
   "display_name": "Python 3.8.11 64-bit ('sb_cpstone3': conda)",
   "name": "python3"
  },
  "language_info": {
   "codemirror_mode": {
    "name": "ipython",
    "version": 3
   },
   "file_extension": ".py",
   "mimetype": "text/x-python",
   "name": "python",
   "nbconvert_exporter": "python",
   "pygments_lexer": "ipython3",
   "version": "3.8.11"
  },
  "orig_nbformat": 4
 },
 "nbformat": 4,
 "nbformat_minor": 2
}
